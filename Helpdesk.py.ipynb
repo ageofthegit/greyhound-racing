{
 "cells": [
  {
   "cell_type": "code",
   "execution_count": null,
   "id": "cf752dfd",
   "metadata": {},
   "outputs": [],
   "source": []
  },
  {
   "cell_type": "code",
   "execution_count": null,
   "id": "68ecefaa",
   "metadata": {},
   "outputs": [],
   "source": [
    "\n",
    "import pandas as pd\n",
    "\n",
    "def describe_df(df):\n",
    "    n = len(df)\n",
    "    #logging.info()\n",
    "    p = n /100\n",
    "    summary = pd.DataFrame({'DType':df.types})\n",
    "    summary['Num_Na'] = df.isna().sum()\n",
    "    summary['Pct_NA'] = (df.isna().sum() / p).round(4)\n",
    "    summary['Num_Zero'] = (df==0).sum()\n",
    "    summary['Pct_Zer']\n",
    "    \n",
    "    \n"
   ]
  }
 ],
 "metadata": {
  "kernelspec": {
   "display_name": "Python 3 (ipykernel)",
   "language": "python",
   "name": "python3"
  },
  "language_info": {
   "codemirror_mode": {
    "name": "ipython",
    "version": 3
   },
   "file_extension": ".py",
   "mimetype": "text/x-python",
   "name": "python",
   "nbconvert_exporter": "python",
   "pygments_lexer": "ipython3",
   "version": "3.8.8"
  }
 },
 "nbformat": 4,
 "nbformat_minor": 5
}
