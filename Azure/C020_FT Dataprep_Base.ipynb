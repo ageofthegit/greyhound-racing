{
 "cells": [
  {
   "cell_type": "code",
   "execution_count": null,
   "id": "63486fe9-888e-4feb-b703-964e76d59d16",
   "metadata": {},
   "outputs": [],
   "source": []
  },
  {
   "cell_type": "markdown",
   "id": "49daf27c-f69b-4d74-8860-71064e5d5834",
   "metadata": {},
   "source": [
    "\n",
    "\"\"\"\n",
    "More Variables :\n",
    "\n",
    "Total Races from current race\n",
    "- Races in the last 7/14/28/60/90/180/365/730 days \n",
    "- Races won in the 7/14/28/60/90/180/365/730 days\n",
    "- Races placed in the 7/14/28/60/90/180/365/730 days\n",
    "\n",
    "\n",
    "\"\"\""
   ]
  },
  {
   "cell_type": "markdown",
   "id": "372e8582-c553-4d37-8184-8dd3e6c702ba",
   "metadata": {},
   "source": [
    "\n",
    "# Import the code \n"
   ]
  },
  {
   "cell_type": "code",
   "execution_count": 1,
   "id": "09b2e3d3-f5ed-4f43-8b55-4fe0fb2e6f3a",
   "metadata": {},
   "outputs": [
    {
     "name": "stdout",
     "output_type": "stream",
     "text": [
      "['/mnt/batch/tasks/shared/LS_root/mounts/clusters/compute-one-8c-32gb/code/Users/karan.bhatti', '/anaconda/envs/azureml_py38/lib/python38.zip', '/anaconda/envs/azureml_py38/lib/python3.8', '/anaconda/envs/azureml_py38/lib/python3.8/lib-dynload', '', '/anaconda/envs/azureml_py38/lib/python3.8/site-packages', '/anaconda/envs/azureml_py38/lib/python3.8/site-packages/azureml/_project/vendor', '/anaconda/envs/azureml_py38/lib/python3.8/site-packages/azureml/automl/core/_vendor']\n",
      "\n",
      "\n"
     ]
    }
   ],
   "source": [
    "\n",
    "#fileloc  = '/mnt/batch/tasks/shared/LS_root/mounts/clusters/compute-one/code/Users/karan.bhatti'\n",
    "fileloc  = '/mnt/batch/tasks/shared/LS_root/mounts/clusters/compute-one-8c-32gb/code/Users/karan.bhatti'\n",
    "\n",
    "import sys\n",
    "print(sys.path)\n",
    "print()\n",
    "#sys.path.append(f'{fileloc}')\n",
    "print()\n",
    "#print(sys.path)\n"
   ]
  },
  {
   "cell_type": "code",
   "execution_count": 2,
   "id": "cb254eff-ef3e-410b-89ec-df53b40db2c6",
   "metadata": {},
   "outputs": [],
   "source": [
    "\n",
    "class Data(object):\n",
    "    pass\n",
    "\n",
    "df = Data\n",
    "summ = Data\n"
   ]
  },
  {
   "cell_type": "code",
   "execution_count": 3,
   "id": "9481db29-6090-4a36-97a1-55e9819e9e22",
   "metadata": {},
   "outputs": [],
   "source": [
    "import helpdesk as hd"
   ]
  },
  {
   "cell_type": "code",
   "execution_count": 4,
   "id": "e392fb86-ad46-457b-9933-0f7e96a662cb",
   "metadata": {},
   "outputs": [],
   "source": [
    "\n",
    "import pandas as pd, numpy as np\n",
    "from datetime import datetime\n"
   ]
  },
  {
   "cell_type": "code",
   "execution_count": 5,
   "id": "a3b05a99-d40c-4fbe-a53b-b90b8ce621aa",
   "metadata": {},
   "outputs": [],
   "source": [
    "DEBUG = True"
   ]
  },
  {
   "cell_type": "code",
   "execution_count": 6,
   "id": "b4c75d71-19e5-4c3c-9ea9-98a3df3bf7ee",
   "metadata": {},
   "outputs": [],
   "source": [
    "\n",
    "pd.set_option('display.max_rows', 50);\n",
    "pd.set_option('display.max_columns', 50);\n",
    "pd.set_option('display.width', 200);\n"
   ]
  },
  {
   "cell_type": "code",
   "execution_count": 7,
   "id": "9ad8cd93-2b33-41f1-b3e3-23e2b75f6596",
   "metadata": {},
   "outputs": [
    {
     "name": "stdout",
     "output_type": "stream",
     "text": [
      "/mnt/batch/tasks/shared/LS_root/mounts/clusters/compute-one-8c-32gb/code/Users/karan.bhatti/dog_results_2022Q1_2022Q2.csv\n",
      "['@id', 'Place', 'DogName', 'Box', 'Rug', 'Weight', 'StartPrice', 'Handicap', 'Margin1', 'Margin2', 'PIR', 'Checks', 'Comments', 'SplitMargin', 'RunTime', 'Prizemoney', 'RaceId', 'TrainerId', 'TrainerName']\n",
      "(435715, 19)\n",
      "['@id', 'Place', 'DogName', 'Box', 'Rug', 'Weight', 'StartPrice', 'Handicap', 'Margin1', 'Margin2', 'PIR', 'Checks', 'Comments', 'SplitMargin', 'RunTime', 'Prizemoney', 'RaceId', 'TrainerId', 'TrainerName']\n",
      "(320052, 19)\n"
     ]
    }
   ],
   "source": [
    "\n",
    "# Importing Dog Race Results\n",
    "\n",
    "#res_raw = pd.read_csv('C:\\\\Users\\\\karan\\\\Documents\\\\Data\\\\racing\\\\FastTrack\\\\Past\\\\dog_results_20211201_20211231.csv')\n",
    "#df.res_raw = pd.read_csv('C:\\\\Users\\\\karan\\\\Documents\\\\Data\\\\racing\\\\FastTrack\\\\Past\\\\dog_results_20220101_20220531.csv')\n",
    "\n",
    "print(f'{fileloc}/dog_results_2022Q1_2022Q2.csv')\n",
    "\n",
    "df.res_raw_2021Q1Q4 = pd.read_csv(f'{fileloc}/dog_results_2021Q1_2021Q4.csv')\n",
    "print(df.res_raw_2021Q1Q4.columns.values.tolist())\n",
    "print(df.res_raw_2021Q1Q4.shape)\n",
    "\n",
    "df.res_raw_2022Q1Q2 = pd.read_csv(f'{fileloc}/dog_results_2022Q1_2022Q2.csv')\n",
    "print(df.res_raw_2022Q1Q2.columns.values.tolist())\n",
    "print(df.res_raw_2022Q1Q2.shape)\n",
    "\n"
   ]
  },
  {
   "cell_type": "code",
   "execution_count": 8,
   "id": "f5ec0f19-efdd-421f-9ab1-7144eb99d5eb",
   "metadata": {},
   "outputs": [
    {
     "name": "stdout",
     "output_type": "stream",
     "text": [
      "['@id', 'Place', 'DogName', 'Box', 'Rug', 'Weight', 'StartPrice', 'Handicap', 'Margin1', 'Margin2', 'PIR', 'Checks', 'Comments', 'SplitMargin', 'RunTime', 'Prizemoney', 'RaceId', 'TrainerId', 'TrainerName']\n",
      "(755767, 19)\n"
     ]
    }
   ],
   "source": [
    "\n",
    "df.res_raw = df.res_raw_2021Q1Q4.append( df.res_raw_2022Q1Q2 )\n",
    "print(df.res_raw.columns.values.tolist())\n",
    "print(df.res_raw.shape)\n"
   ]
  },
  {
   "cell_type": "code",
   "execution_count": 9,
   "id": "1f908f84-7944-4eea-803b-0797bba488d4",
   "metadata": {},
   "outputs": [
    {
     "name": "stdout",
     "output_type": "stream",
     "text": [
      "(755767, 19)\n",
      "(649399, 19)\n",
      "(644761, 19)\n"
     ]
    }
   ],
   "source": [
    "\n",
    "df.res_raw.loc[:,\"DogName\"] = df.res_raw[\"DogName\"].str.replace(\"'\",\"\").str.replace(\".\",\"\")\n",
    "if DEBUG: print(df.res_raw.shape) \n",
    "# 320 052\n",
    "\n",
    "#if DEBUG: res_raw[ ~(res_raw.Place.isin( ['D','F','N','R','S','T',''])) ].shape # 66608\n",
    "if DEBUG: print(df.res_raw[ ~(df.res_raw.Place.isin( ['R','S'])) ].shape) \n",
    "# 275 864\n",
    "\n",
    "df.res_raw2 = df.res_raw[ ~(df.res_raw.Place.isin( ['R','S']))  ]\n",
    "df.res_ = df.res_raw2[~df.res_raw2.Place.isna()]\n",
    "if DEBUG: print(df.res_.shape) \n",
    "# 273 735\n",
    "\n",
    "del df.res_raw, df.res_raw2\n",
    "\n",
    "#res_ = res_raw\n"
   ]
  },
  {
   "cell_type": "code",
   "execution_count": 10,
   "id": "2ec26b41-4fd1-4f7f-8b5b-1ba701dbd147",
   "metadata": {},
   "outputs": [
    {
     "name": "stdout",
     "output_type": "stream",
     "text": [
      "/mnt/batch/tasks/shared/LS_root/mounts/clusters/compute-one-8c-32gb/code/Users/karan.bhatti/race_details_2022Q1_2022Q2.csv\n",
      "['@id', 'RaceNum', 'RaceName', 'RaceTime', 'Distance', 'RaceGrade', 'Track', 'date']\n",
      "(38562, 8)\n",
      "['@id', 'RaceNum', 'RaceName', 'RaceTime', 'Distance', 'RaceGrade', 'Track', 'date']\n",
      "(51833, 8)\n"
     ]
    }
   ],
   "source": [
    "\n",
    "# Importing Race Details \n",
    "\n",
    "#race_raw = pd.read_csv('C:\\\\Users\\\\karan\\\\Documents\\\\Data\\\\racing\\\\FastTrack\\\\Past\\\\race_details_20211201_20211231.csv', parse_dates = True)\n",
    "#df.race_raw = pd.read_csv('C:\\\\Users\\\\karan\\\\Documents\\\\Data\\\\racing\\\\FastTrack\\\\Past\\\\race_details_20220101_20220531.csv', parse_dates = True)\n",
    "\n",
    "print(f'{fileloc}/race_details_2022Q1_2022Q2.csv')\n",
    "\n",
    "df.race_raw_2022Q1Q2 = pd.read_csv(f'{fileloc}/race_details_2022Q1_2022Q2.csv', parse_dates = True)\n",
    "print(df.race_raw_2022Q1Q2.columns.values.tolist())\n",
    "print(df.race_raw_2022Q1Q2.shape)\n",
    "\n",
    "df.race_raw_2021Q1Q4 = pd.read_csv(f'{fileloc}/race_details_2021Q1_2021Q4.csv', parse_dates = True)\n",
    "print(df.race_raw_2021Q1Q4.columns.values.tolist())\n",
    "print(df.race_raw_2021Q1Q4.shape)\n"
   ]
  },
  {
   "cell_type": "code",
   "execution_count": 11,
   "id": "74c1582c-1b54-438b-aff9-1dcd2aa8c76d",
   "metadata": {},
   "outputs": [
    {
     "name": "stdout",
     "output_type": "stream",
     "text": [
      "['@id', 'RaceNum', 'RaceName', 'RaceTime', 'Distance', 'RaceGrade', 'Track', 'date']\n",
      "(90395, 8)\n"
     ]
    }
   ],
   "source": [
    "\n",
    "df.race_raw = df.race_raw_2021Q1Q4.append( df.race_raw_2022Q1Q2 )\n",
    "print(df.race_raw.columns.values.tolist())\n",
    "print(df.race_raw.shape)\n"
   ]
  },
  {
   "cell_type": "code",
   "execution_count": 12,
   "id": "3a33ce04-86ed-47e9-9742-73168b14b75e",
   "metadata": {},
   "outputs": [
    {
     "name": "stdout",
     "output_type": "stream",
     "text": [
      "(90395, 9)\n",
      "(81412, 9)\n",
      "@id           int64\n",
      "RaceNum       int64\n",
      "RaceName     object\n",
      "RaceTime     object\n",
      "Distance     object\n",
      "RaceGrade    object\n",
      "Track        object\n",
      "date         object\n",
      "Event_Dt     object\n",
      "dtype: object\n"
     ]
    }
   ],
   "source": [
    "\n",
    "df.race_raw['Event_Dt'] = pd.to_datetime(df.race_raw['date']).dt.date\n",
    "\n",
    "#dtvalct = race_raw.Event_Dt.value_counts()\n",
    "\n",
    "df.race_raw.loc[df.race_raw.Track.isin(['Murray Bridge (MBR)','Murray Bridge (MBS)']), \"Track\"] = 'Murray Bridge'\n",
    "df.race_raw.loc[df.race_raw.Track.isin(['Richmond (RIS)']), \"Track\"] = 'Richmond'\n",
    "\n",
    "df.race_raw.loc[df.race_raw.Track.isin(['Sandown (SAP)']), \"Track\"] = 'Sandown Park'\n",
    "\n",
    "df.race_raw.loc[df.race_raw.Track.isin(['Meadows (MEP)']), \"Track\"] = 'Meadows'\n",
    "df.race_raw.loc[df.race_raw.Track.isin(['The Meadows']), \"Track\"] = 'Meadows'\n",
    "\n",
    "\n",
    "if DEBUG : print(df.race_raw.shape)\n",
    "\n",
    "# 2021\n",
    "# 52,103 Races\n",
    "\n",
    "# 2022 upto May\n",
    "# 21,002 Races\n",
    "\n",
    "# 2022 Q1/Q2\n",
    "# 38,562 Races\n",
    "\n",
    "# 2022 Q1/Q2 + 2021 Q1/Q2/Q3/Q4\n",
    "# 81,412 Races\n",
    "\n",
    "df.race_ = df.race_raw[ ~df.race_raw.Track.str.contains('NZ')]\n",
    "\n",
    "if DEBUG : print(df.race_.shape)\n",
    "\n",
    "del df.race_raw\n",
    "\n",
    "if DEBUG: print(df.race_.dtypes)\n",
    "\n"
   ]
  },
  {
   "cell_type": "code",
   "execution_count": 13,
   "id": "6ea61b23-f9d6-4787-9776-76ae0e3efaa5",
   "metadata": {},
   "outputs": [
    {
     "name": "stdout",
     "output_type": "stream",
     "text": [
      "['@id', 'Place', 'DogName', 'Box', 'Rug', 'Weight', 'StartPrice', 'Handicap', 'Margin1', 'Margin2', 'PIR', 'Checks', 'Comments', 'SplitMargin', 'RunTime', 'Prizemoney', 'RaceId', 'TrainerId', 'TrainerName']\n",
      "['@id', 'RaceNum', 'RaceName', 'RaceTime', 'Distance', 'RaceGrade', 'Track', 'date', 'Event_Dt']\n",
      "(644761, 19)\n",
      "(81412, 9)\n",
      "(577317, 28)\n"
     ]
    }
   ],
   "source": [
    "\n",
    "if DEBUG:\n",
    "    print(df.res_.columns.values.tolist())\n",
    "    print(df.race_.columns.values.tolist())\n",
    "    \n",
    "    print(df.res_.shape)\n",
    "    print(df.race_.shape)\n",
    "\n",
    "df.ft = pd.merge(df.res_, df.race_, left_on = 'RaceId', right_on = '@id', how = 'inner', suffixes=('_DOG', '_RACE'))\n",
    "if DEBUG: print(df.ft.shape)\n",
    "\n",
    "# 2021\n",
    "# 333,285\n",
    "\n",
    "# 2022 upto May\n",
    "# 132,558\n",
    "\n",
    "# 2022 Q1/Q2\n",
    "# 245,827\n",
    "\n",
    "# 2022 Q1/Q2 + 2021 Q1/Q2/Q3/Q4\n",
    "# 245,827\n",
    "\n",
    "#qc_DogName = df.ft_merg.DogName.value_counts()\n"
   ]
  },
  {
   "cell_type": "code",
   "execution_count": 14,
   "id": "e1bd3a6e-26ba-485c-8961-8a7d10fba4e8",
   "metadata": {},
   "outputs": [],
   "source": [
    "\n",
    "#summ.ft = hd.describe_df(df.ft)\n"
   ]
  },
  {
   "cell_type": "markdown",
   "id": "f30347b3-3f4c-4e36-a005-5b5060da7421",
   "metadata": {},
   "source": [
    "### Prepare the Base Dataset"
   ]
  },
  {
   "cell_type": "code",
   "execution_count": 15,
   "id": "7b7a3bcd-ca8e-489c-9a8c-9e98aa19daa9",
   "metadata": {},
   "outputs": [
    {
     "name": "stdout",
     "output_type": "stream",
     "text": [
      "['@id_DOG', 'Place', 'DogName', 'Box', 'Rug', 'Weight', 'StartPrice', 'Handicap', 'Margin1', 'Margin2', 'PIR', 'Checks', 'Comments', 'SplitMargin', 'RunTime', 'Prizemoney', 'RaceId', 'TrainerId', 'TrainerName', '@id_RACE', 'RaceNum', 'RaceName', 'RaceTime', 'Distance', 'RaceGrade', 'Track', 'date', 'Event_Dt']\n"
     ]
    }
   ],
   "source": [
    "\n",
    "print(df.ft.columns.values.tolist())\n"
   ]
  },
  {
   "cell_type": "code",
   "execution_count": 16,
   "id": "acb3f52b-8674-48d6-83d2-50ce04b413ba",
   "metadata": {},
   "outputs": [],
   "source": [
    "\n",
    "#Clean the fast track prices\n",
    "df.ft['ft_sp'] = df.ft.StartPrice.apply(lambda x : float(str(x).replace(\"$\",\"\").replace(\"F\",\"\")) )\n"
   ]
  },
  {
   "cell_type": "code",
   "execution_count": 17,
   "id": "cf0d5cb2-4980-4dfc-8891-279517f87da0",
   "metadata": {},
   "outputs": [
    {
     "name": "stdout",
     "output_type": "stream",
     "text": [
      "           1      2      3      4      5      6      7      8     F     T    N   3=   4=   2=   5=   1=   6=    P   7=   B   D\n",
      "Place  80621  80259  80031  79721  78416  72837  58238  38959  3402  1199  998  476  423  416  373  306  271  222  114  21  14\n"
     ]
    }
   ],
   "source": [
    "\n",
    "print( pd.DataFrame(df.ft['Place'].value_counts()).transpose() )\n",
    "\n",
    "place_to_remove = ['F','T','N','P','B','D']\n"
   ]
  },
  {
   "cell_type": "code",
   "execution_count": 18,
   "id": "8a6087f1-d2a0-4ad4-b22f-e073b52ef690",
   "metadata": {},
   "outputs": [
    {
     "name": "stdout",
     "output_type": "stream",
     "text": [
      "80909\n",
      "1391\n",
      "4407\n",
      "(577317, 29)\n",
      "(541552, 29)\n"
     ]
    }
   ],
   "source": [
    "\n",
    "# Delete races where ft_sp is blank\n",
    "all_races = df.ft['@id_RACE'].unique().tolist()\n",
    "print(len(all_races))\n",
    "\n",
    "\n",
    "blank_ft_sp_races = df.ft[df.ft['ft_sp'].isna()]['@id_RACE'].unique().tolist()\n",
    "print(len(blank_ft_sp_races))\n",
    "\n",
    "races_excl_pos = df.ft[df.ft['Place'].isin(place_to_remove)]['@id_RACE'].unique().tolist()\n",
    "print(len(races_excl_pos))\n",
    "\n",
    "\n",
    "\n",
    "df_base0 = df.ft[ ( ~df.ft['@id_RACE'].isin(blank_ft_sp_races) ) & ( ~df.ft['@id_RACE'].isin(races_excl_pos) ) ]\n",
    "\n",
    "print(df.ft.shape)\n",
    "print(df_base0.shape)\n"
   ]
  },
  {
   "cell_type": "code",
   "execution_count": 19,
   "id": "ef7391ad-5eaf-4c45-8fbc-b1b577886703",
   "metadata": {},
   "outputs": [
    {
     "name": "stderr",
     "output_type": "stream",
     "text": [
      "/tmp/ipykernel_11381/3558503419.py:1: SettingWithCopyWarning: \n",
      "A value is trying to be set on a copy of a slice from a DataFrame\n",
      "\n",
      "See the caveats in the documentation: https://pandas.pydata.org/pandas-docs/stable/user_guide/indexing.html#returning-a-view-versus-a-copy\n",
      "  df_base0.sort_values(by = ['@id_DOG', 'DogName', 'Event_Dt'], inplace = True)\n"
     ]
    }
   ],
   "source": [
    "df_base0.sort_values(by = ['@id_DOG', 'DogName', 'Event_Dt'], inplace = True)"
   ]
  },
  {
   "cell_type": "code",
   "execution_count": 20,
   "id": "db3a814c-0919-4468-85f6-7b9781372516",
   "metadata": {},
   "outputs": [
    {
     "data": {
      "text/html": [
       "<div>\n",
       "<style scoped>\n",
       "    .dataframe tbody tr th:only-of-type {\n",
       "        vertical-align: middle;\n",
       "    }\n",
       "\n",
       "    .dataframe tbody tr th {\n",
       "        vertical-align: top;\n",
       "    }\n",
       "\n",
       "    .dataframe thead th {\n",
       "        text-align: right;\n",
       "    }\n",
       "</style>\n",
       "<table border=\"1\" class=\"dataframe\">\n",
       "  <thead>\n",
       "    <tr style=\"text-align: right;\">\n",
       "      <th></th>\n",
       "      <th>@id_DOG</th>\n",
       "      <th>Place</th>\n",
       "      <th>DogName</th>\n",
       "      <th>Box</th>\n",
       "      <th>Rug</th>\n",
       "      <th>Weight</th>\n",
       "      <th>StartPrice</th>\n",
       "      <th>Handicap</th>\n",
       "      <th>Margin1</th>\n",
       "      <th>Margin2</th>\n",
       "      <th>PIR</th>\n",
       "      <th>Checks</th>\n",
       "      <th>Comments</th>\n",
       "      <th>SplitMargin</th>\n",
       "      <th>RunTime</th>\n",
       "      <th>Prizemoney</th>\n",
       "      <th>RaceId</th>\n",
       "      <th>TrainerId</th>\n",
       "      <th>TrainerName</th>\n",
       "      <th>@id_RACE</th>\n",
       "      <th>RaceNum</th>\n",
       "      <th>RaceName</th>\n",
       "      <th>RaceTime</th>\n",
       "      <th>Distance</th>\n",
       "      <th>RaceGrade</th>\n",
       "      <th>Track</th>\n",
       "      <th>date</th>\n",
       "      <th>Event_Dt</th>\n",
       "      <th>ft_sp</th>\n",
       "    </tr>\n",
       "  </thead>\n",
       "  <tbody>\n",
       "    <tr>\n",
       "      <th>11600</th>\n",
       "      <td>114244064</td>\n",
       "      <td>2</td>\n",
       "      <td>FOURTH DIMENTION</td>\n",
       "      <td>3.0</td>\n",
       "      <td>3</td>\n",
       "      <td>33.4</td>\n",
       "      <td>$4.20</td>\n",
       "      <td>NaN</td>\n",
       "      <td>0.39</td>\n",
       "      <td>0.39</td>\n",
       "      <td>M/22</td>\n",
       "      <td>1</td>\n",
       "      <td>NaN</td>\n",
       "      <td>8.36</td>\n",
       "      <td>22.75</td>\n",
       "      <td>NaN</td>\n",
       "      <td>631783547</td>\n",
       "      <td>131578</td>\n",
       "      <td>P Pollutro</td>\n",
       "      <td>631783547</td>\n",
       "      <td>7</td>\n",
       "      <td>TAB - LONG MAY WE PLAY</td>\n",
       "      <td>05:15PM</td>\n",
       "      <td>400m</td>\n",
       "      <td>Grade 5 T3</td>\n",
       "      <td>Warragul</td>\n",
       "      <td>14 Jan 21</td>\n",
       "      <td>2021-01-14</td>\n",
       "      <td>4.2</td>\n",
       "    </tr>\n",
       "    <tr>\n",
       "      <th>26936</th>\n",
       "      <td>114244064</td>\n",
       "      <td>2</td>\n",
       "      <td>FOURTH DIMENTION</td>\n",
       "      <td>8.0</td>\n",
       "      <td>8</td>\n",
       "      <td>33.2</td>\n",
       "      <td>$2.70F</td>\n",
       "      <td>NaN</td>\n",
       "      <td>0.60</td>\n",
       "      <td>0.60</td>\n",
       "      <td>M/33</td>\n",
       "      <td>0</td>\n",
       "      <td>NaN</td>\n",
       "      <td>8.56</td>\n",
       "      <td>23.16</td>\n",
       "      <td>NaN</td>\n",
       "      <td>636866192</td>\n",
       "      <td>131578</td>\n",
       "      <td>P Pollutro</td>\n",
       "      <td>636866192</td>\n",
       "      <td>12</td>\n",
       "      <td>SENNACHIE AT STUD</td>\n",
       "      <td>06:08PM</td>\n",
       "      <td>400m</td>\n",
       "      <td>Grade 5</td>\n",
       "      <td>Warragul</td>\n",
       "      <td>01 Feb 21</td>\n",
       "      <td>2021-02-01</td>\n",
       "      <td>2.7</td>\n",
       "    </tr>\n",
       "    <tr>\n",
       "      <th>51814</th>\n",
       "      <td>114244064</td>\n",
       "      <td>8</td>\n",
       "      <td>FOURTH DIMENTION</td>\n",
       "      <td>3.0</td>\n",
       "      <td>3</td>\n",
       "      <td>33.6</td>\n",
       "      <td>$29.60</td>\n",
       "      <td>NaN</td>\n",
       "      <td>7.60</td>\n",
       "      <td>0.36</td>\n",
       "      <td>M/4</td>\n",
       "      <td>1</td>\n",
       "      <td>NaN</td>\n",
       "      <td>4.00</td>\n",
       "      <td>17.61</td>\n",
       "      <td>NaN</td>\n",
       "      <td>645823097</td>\n",
       "      <td>131578</td>\n",
       "      <td>P Pollutro</td>\n",
       "      <td>645823097</td>\n",
       "      <td>12</td>\n",
       "      <td>DOWNLOAD THE NEW WATCHDOG APP</td>\n",
       "      <td>02:35PM</td>\n",
       "      <td>300m</td>\n",
       "      <td>Grade 5</td>\n",
       "      <td>Healesville</td>\n",
       "      <td>02 Mar 21</td>\n",
       "      <td>2021-03-02</td>\n",
       "      <td>29.6</td>\n",
       "    </tr>\n",
       "    <tr>\n",
       "      <th>59730</th>\n",
       "      <td>114244064</td>\n",
       "      <td>3</td>\n",
       "      <td>FOURTH DIMENTION</td>\n",
       "      <td>6.0</td>\n",
       "      <td>6</td>\n",
       "      <td>34.0</td>\n",
       "      <td>$9.20</td>\n",
       "      <td>NaN</td>\n",
       "      <td>2.89</td>\n",
       "      <td>0.46</td>\n",
       "      <td>M/66</td>\n",
       "      <td>5</td>\n",
       "      <td>NaN</td>\n",
       "      <td>8.49</td>\n",
       "      <td>23.13</td>\n",
       "      <td>NaN</td>\n",
       "      <td>649065546</td>\n",
       "      <td>131578</td>\n",
       "      <td>P Pollutro</td>\n",
       "      <td>649065546</td>\n",
       "      <td>11</td>\n",
       "      <td>PAUA KENNELS (250+ RANK)</td>\n",
       "      <td>06:27PM</td>\n",
       "      <td>400m</td>\n",
       "      <td>Grade 5</td>\n",
       "      <td>Warragul</td>\n",
       "      <td>11 Mar 21</td>\n",
       "      <td>2021-03-11</td>\n",
       "      <td>9.2</td>\n",
       "    </tr>\n",
       "    <tr>\n",
       "      <th>67746</th>\n",
       "      <td>114244064</td>\n",
       "      <td>3</td>\n",
       "      <td>FOURTH DIMENTION</td>\n",
       "      <td>4.0</td>\n",
       "      <td>4</td>\n",
       "      <td>33.9</td>\n",
       "      <td>$35.00</td>\n",
       "      <td>NaN</td>\n",
       "      <td>2.09</td>\n",
       "      <td>1.81</td>\n",
       "      <td>M/43</td>\n",
       "      <td>4</td>\n",
       "      <td>NaN</td>\n",
       "      <td>8.96</td>\n",
       "      <td>23.16</td>\n",
       "      <td>NaN</td>\n",
       "      <td>651668743</td>\n",
       "      <td>131578</td>\n",
       "      <td>P Pollutro</td>\n",
       "      <td>651668743</td>\n",
       "      <td>12</td>\n",
       "      <td>TAB - LONG MAY WE PLAY</td>\n",
       "      <td>09:22PM</td>\n",
       "      <td>400m</td>\n",
       "      <td>Grade 5</td>\n",
       "      <td>Warragul</td>\n",
       "      <td>20 Mar 21</td>\n",
       "      <td>2021-03-20</td>\n",
       "      <td>35.0</td>\n",
       "    </tr>\n",
       "  </tbody>\n",
       "</table>\n",
       "</div>"
      ],
      "text/plain": [
       "         @id_DOG Place           DogName  Box  Rug  Weight StartPrice  Handicap  Margin1  Margin2   PIR  Checks Comments  SplitMargin  RunTime  Prizemoney     RaceId  TrainerId TrainerName  \\\n",
       "11600  114244064     2  FOURTH DIMENTION  3.0    3    33.4      $4.20       NaN     0.39     0.39  M/22       1      NaN         8.36    22.75         NaN  631783547     131578  P Pollutro   \n",
       "26936  114244064     2  FOURTH DIMENTION  8.0    8    33.2     $2.70F       NaN     0.60     0.60  M/33       0      NaN         8.56    23.16         NaN  636866192     131578  P Pollutro   \n",
       "51814  114244064     8  FOURTH DIMENTION  3.0    3    33.6     $29.60       NaN     7.60     0.36   M/4       1      NaN         4.00    17.61         NaN  645823097     131578  P Pollutro   \n",
       "59730  114244064     3  FOURTH DIMENTION  6.0    6    34.0      $9.20       NaN     2.89     0.46  M/66       5      NaN         8.49    23.13         NaN  649065546     131578  P Pollutro   \n",
       "67746  114244064     3  FOURTH DIMENTION  4.0    4    33.9     $35.00       NaN     2.09     1.81  M/43       4      NaN         8.96    23.16         NaN  651668743     131578  P Pollutro   \n",
       "\n",
       "        @id_RACE  RaceNum                       RaceName RaceTime Distance   RaceGrade        Track       date    Event_Dt  ft_sp  \n",
       "11600  631783547        7         TAB - LONG MAY WE PLAY  05:15PM     400m  Grade 5 T3     Warragul  14 Jan 21  2021-01-14    4.2  \n",
       "26936  636866192       12              SENNACHIE AT STUD  06:08PM     400m     Grade 5     Warragul  01 Feb 21  2021-02-01    2.7  \n",
       "51814  645823097       12  DOWNLOAD THE NEW WATCHDOG APP  02:35PM     300m     Grade 5  Healesville  02 Mar 21  2021-03-02   29.6  \n",
       "59730  649065546       11       PAUA KENNELS (250+ RANK)  06:27PM     400m     Grade 5     Warragul  11 Mar 21  2021-03-11    9.2  \n",
       "67746  651668743       12         TAB - LONG MAY WE PLAY  09:22PM     400m     Grade 5     Warragul  20 Mar 21  2021-03-20   35.0  "
      ]
     },
     "execution_count": 20,
     "metadata": {},
     "output_type": "execute_result"
    }
   ],
   "source": [
    "\n",
    "df_base0[df_base0.DogName.isin(['FOURTH DIMENTION'])].head()\n"
   ]
  },
  {
   "cell_type": "code",
   "execution_count": 21,
   "id": "dc4ac2d1-af2e-44ee-89da-b746aa939e09",
   "metadata": {},
   "outputs": [
    {
     "name": "stdout",
     "output_type": "stream",
     "text": [
      "              1      2      3      4      5      6      7      8\n",
      "position  75886  75776  75705  75508  74454  69446  55909  38868\n"
     ]
    },
    {
     "name": "stderr",
     "output_type": "stream",
     "text": [
      "/tmp/ipykernel_11381/2198425305.py:2: SettingWithCopyWarning: \n",
      "A value is trying to be set on a copy of a slice from a DataFrame.\n",
      "Try using .loc[row_indexer,col_indexer] = value instead\n",
      "\n",
      "See the caveats in the documentation: https://pandas.pydata.org/pandas-docs/stable/user_guide/indexing.html#returning-a-view-versus-a-copy\n",
      "  df_base0['position'] = df_base0.Place.apply(lambda x : x.replace(\"=\",\"\") if x in ['1=','2=','3=','4=','5=','6=','7=','8='] else x)\n"
     ]
    }
   ],
   "source": [
    "\n",
    "# Fix the position Variable\n",
    "df_base0['position'] = df_base0.Place.apply(lambda x : x.replace(\"=\",\"\") if x in ['1=','2=','3=','4=','5=','6=','7=','8='] else x)\n",
    "\n",
    "print(pd.DataFrame(df_base0.position.value_counts()).transpose())\n"
   ]
  },
  {
   "cell_type": "code",
   "execution_count": 22,
   "id": "b9bce0ef-82bb-4fae-9dcf-fa387199c414",
   "metadata": {},
   "outputs": [
    {
     "name": "stdout",
     "output_type": "stream",
     "text": [
      "(541552, 30)\n",
      "(541552, 31)\n",
      "['@id_DOG', 'Place', 'DogName', 'Box', 'Rug', 'Weight', 'StartPrice', 'Handicap', 'Margin1', 'Margin2', 'PIR', 'Checks', 'Comments', 'SplitMargin', 'RunTime', 'Prizemoney', 'RaceId', 'TrainerId', 'TrainerName', '@id_RACE', 'RaceNum', 'RaceName', 'RaceTime', 'Distance', 'RaceGrade', 'Track', 'date', 'Event_Dt', 'ft_sp', 'position', 'x_num_dogs']\n"
     ]
    }
   ],
   "source": [
    "\n",
    "# Add the num_dogs variable\n",
    "\n",
    "df_num_dogs = df_base0.groupby(\"@id_RACE\").agg( { '@id_DOG':'nunique' } ).reset_index().rename(columns = {'@id_DOG':'x_num_dogs'})\n",
    "\n",
    "print(df_base0.shape)\n",
    "\n",
    "df_base1 = pd.merge(df_base0, df_num_dogs, on = [\"@id_RACE\"], how = 'left')\n",
    "\n",
    "print(df_base1.shape)\n",
    "print(df_base1.columns.values.tolist())\n"
   ]
  },
  {
   "cell_type": "code",
   "execution_count": 23,
   "id": "547c02f8-7038-4350-94b3-b3d01ae2a136",
   "metadata": {},
   "outputs": [],
   "source": [
    "\n",
    "# Top 3 Actuals\n",
    "\n",
    "##\n",
    "groupings = ['@id_RACE']\n",
    "\n",
    "# Actual Result\n",
    "df_base1['Winner_actual'] = df_base1.apply(lambda x : 1 if int(x.position) ==1 else 0, axis = 1)\n",
    "df_base1['Top3_actual'] = df_base1.apply(lambda x : 1 if int(x.position) <=3 else 0, axis = 1)\n"
   ]
  },
  {
   "cell_type": "code",
   "execution_count": 24,
   "id": "24361800-2da6-4fd4-9c22-23df14475745",
   "metadata": {},
   "outputs": [
    {
     "name": "stdout",
     "output_type": "stream",
     "text": [
      "2022-11-19 05:04:21.933900\n"
     ]
    }
   ],
   "source": [
    "\n",
    "# Random Position \n",
    "##\n",
    "groupings = ['@id_RACE']\n",
    "\n",
    "import random\n",
    "#print(random.uniform(0, 1))\n",
    "\n",
    "df_base1['rand_mean'] = 0.5\n",
    "df_base1['rand_uniform'] = np.random.normal( df_base1['rand_mean'] )\n",
    "\n",
    "## Rank from the random variables \n",
    "df_base1[\"position_random\"] = df_base1.groupby(groupings)[\"rand_uniform\"].rank(\"dense\", ascending=False)\n",
    "\n",
    "# Winner / Place Columns\n",
    "df_base1['Winner_random'] = df_base1.apply(lambda x : 1 if x.position_random <= 1 else 0, axis = 1)\n",
    "df_base1['Top3_random'] = df_base1.apply(lambda x : 1 if x.position_random <= 3 else 0, axis = 1)\n",
    "\n",
    "print(datetime.now())\n"
   ]
  },
  {
   "cell_type": "code",
   "execution_count": 25,
   "id": "38463aff-9725-4c04-ad55-566c0fac43e1",
   "metadata": {},
   "outputs": [
    {
     "name": "stdout",
     "output_type": "stream",
     "text": [
      "2022-11-19 05:04:32.982759\n"
     ]
    }
   ],
   "source": [
    "\n",
    "##\n",
    "groupings = ['@id_RACE']\n",
    "\n",
    "## Rank for Place Preds\n",
    "df_base1[\"position_fasttrack\"] = df_base1.groupby(groupings)[\"ft_sp\"].rank(\"dense\", ascending=True)\n",
    "\n",
    "# Winner / Place Columns\n",
    "df_base1['Winner_fastrack'] = df_base1.apply(lambda x : 1 if x.position_fasttrack <= 1 else 0, axis = 1)\n",
    "df_base1['Top3_fastrack'] = df_base1.apply(lambda x : 1 if x.position_fasttrack <= 3 else 0, axis = 1)\n",
    "\n",
    "print(datetime.now())\n"
   ]
  },
  {
   "cell_type": "code",
   "execution_count": 26,
   "id": "4c67082a-aa9c-4e10-9337-4021d1fa1d53",
   "metadata": {},
   "outputs": [
    {
     "name": "stdout",
     "output_type": "stream",
     "text": [
      "   @id_DOG  Place  DogName  Box  Rug  Weight  StartPrice  Handicap  Margin1  Margin2    PIR  Checks  Comments  SplitMargin  RunTime  Prizemoney  RaceId  TrainerId  TrainerName  @id_RACE  RaceNum  \\\n",
      "0        0      0        0    0    0       1           0    541552       19    75886  72204       0    261971        91093        0      168479       0          0            0         0        0   \n",
      "\n",
      "   RaceName  RaceTime  Distance  RaceGrade  Track  date  Event_Dt  ft_sp  position  x_num_dogs  Winner_actual  Top3_actual  rand_mean  rand_uniform  position_random  Winner_random  Top3_random  \\\n",
      "0        15         0         0          0      0     0         0      0         0           0              0            0          0             0                0              0            0   \n",
      "\n",
      "   position_fasttrack  Winner_fastrack  Top3_fastrack  \n",
      "0                   0                0              0  \n"
     ]
    }
   ],
   "source": [
    "\n",
    "print(pd.DataFrame(df_base1.isna().sum()).transpose())\n"
   ]
  },
  {
   "cell_type": "code",
   "execution_count": 27,
   "id": "5e8abbc5-529c-47de-a287-c498f4684030",
   "metadata": {},
   "outputs": [
    {
     "data": {
      "text/plain": [
       "TrainerName     3548\n",
       "Track             59\n",
       "DogName        25550\n",
       "dtype: int64"
      ]
     },
     "execution_count": 27,
     "metadata": {},
     "output_type": "execute_result"
    }
   ],
   "source": [
    "\n",
    "df.ft.agg({'TrainerName':'nunique', 'Track':'nunique', 'DogName':'nunique'})\n"
   ]
  },
  {
   "cell_type": "code",
   "execution_count": 28,
   "id": "35ac8a9f-1300-40c1-9f34-8c48d89e8903",
   "metadata": {},
   "outputs": [],
   "source": [
    "pd.set_option('display.max_rows', 50)"
   ]
  },
  {
   "cell_type": "code",
   "execution_count": 29,
   "id": "4245a4c6-db37-47f7-8de1-816696287eab",
   "metadata": {},
   "outputs": [
    {
     "name": "stdout",
     "output_type": "stream",
     "text": [
      "<class 'list'>\n",
      "['Albion Park', 'Angle Park', 'Ballarat', 'Bathurst', 'Bendigo', 'Broken Hill', 'Bulli', 'Bundaberg', 'Cannington', 'Capalaba', 'Casino', 'Coonamble', 'Cranbourne', 'Dapto', 'Darwin', 'Devonport', 'Dubbo', 'Gawler', 'Geelong', 'Gosford', 'Goulburn', 'Grafton', 'Gunnedah', 'Healesville', 'Hobart', 'Horsham', 'Ipswich', 'Kempsey', 'Launceston', 'Lismore', 'Lithgow', 'Maitland', 'Mandurah', 'Meadows', 'Moree', 'Mount Gambier', 'Murray Bridge', 'Muswellbrook', 'Northam', 'Nowra', 'Potts Park', 'Richmond', 'Rockhampton', 'Sale', 'Sandown Park', 'Shepparton', 'Tamworth', 'Taree', 'Temora', 'The Gardens', 'Townsville', 'Traralgon', 'Wagga', 'Warragul', 'Warrnambool', 'Wauchope', 'Wentworth Park', 'Young']\n"
     ]
    }
   ],
   "source": [
    "\n",
    "tracks_unq = df_base1.Track.unique().tolist()\n",
    "\n",
    "print(type(tracks_unq))\n",
    "\n",
    "tracks_unq.sort()\n",
    "\n",
    "print(tracks_unq)\n"
   ]
  },
  {
   "cell_type": "code",
   "execution_count": 30,
   "id": "61e63a20-4d13-4495-98dd-4f61c2f0a6d1",
   "metadata": {},
   "outputs": [
    {
     "name": "stdout",
     "output_type": "stream",
     "text": [
      "2022-11-19\n"
     ]
    }
   ],
   "source": [
    "\n",
    "print(datetime.now().date())\n"
   ]
  },
  {
   "cell_type": "code",
   "execution_count": 31,
   "id": "5e0a7703-6a0a-41f0-a33e-4c4d60f9e804",
   "metadata": {},
   "outputs": [
    {
     "name": "stdout",
     "output_type": "stream",
     "text": [
      "['@id_DOG', 'Place', 'DogName', 'Box', 'Rug', 'Weight', 'StartPrice', 'Handicap', 'Margin1', 'Margin2', 'PIR', 'Checks', 'Comments', 'SplitMargin', 'RunTime', 'Prizemoney', 'RaceId', 'TrainerId', 'TrainerName', '@id_RACE', 'RaceNum', 'RaceName', 'RaceTime', 'Distance', 'RaceGrade', 'Track', 'date', 'Event_Dt', 'ft_sp', 'position', 'x_num_dogs', 'Winner_actual', 'Top3_actual', 'rand_mean', 'rand_uniform', 'position_random', 'Winner_random', 'Top3_random', 'position_fasttrack', 'Winner_fastrack', 'Top3_fastrack']\n"
     ]
    }
   ],
   "source": [
    "\n",
    "print(df_base1.columns.values.tolist())\n"
   ]
  },
  {
   "cell_type": "code",
   "execution_count": 33,
   "id": "c1f40957-6a11-4f1c-93a0-b1177078e278",
   "metadata": {},
   "outputs": [
    {
     "name": "stdout",
     "output_type": "stream",
     "text": [
      "1    75886\n",
      "2    75776\n",
      "3    75705\n",
      "4    75508\n",
      "5    74454\n",
      "6    69446\n",
      "7    55909\n",
      "8    38868\n",
      "Name: position, dtype: int64\n"
     ]
    }
   ],
   "source": [
    "\n",
    "print(df_base1.position.value_counts())\n"
   ]
  },
  {
   "cell_type": "code",
   "execution_count": 39,
   "id": "02ea2017-9d33-4af2-b12b-cc586b817b3a",
   "metadata": {},
   "outputs": [],
   "source": [
    "\n",
    "#keep_cols_for_export = ['@id_DOG', 'DogName', '@id_RACE','RaceName','Track','RaceGrade','Distance','TrainerName','RunTime','Place','x_races_tot']\n",
    "\n",
    "# 'TrainerName', 'Track' have been dummified\n",
    "#cols_to_keep = ['@id_DOG', 'DogName', 'y_runtime', 'RaceId', '@id_RACE', 'position', 'ft_sp', 'x_num_dogs', 'Top3_actual', 'position_random', 'position_fasttrack', 'Winner_fastrack', 'Top3_fastrack', 'Winner_actual', 'Winner_random', 'Top3_random', 'RaceGrade', 'Track']\n",
    "\n",
    "cols_for_drop = [ 'Place', 'Box', 'Rug', 'Weight', 'StartPrice', 'Handicap', 'Margin1', 'Margin2', 'PIR', 'Checks', 'Comments', 'SplitMargin' \\\n",
    "                 , 'Prizemoney', 'TrainerId', 'TrainerName', 'RaceNum', 'RaceName', 'RaceTime', 'date' \\\n",
    "                 , 'rand_mean', 'rand_uniform']\n",
    "\n",
    "#'Event_Dt', \n",
    "\n",
    "todaydt = datetime.now().date()\n",
    "exp_fname = f'dataset_base_{todaydt}.csv'\n",
    "\n",
    "exp_ds = df_base1.drop( columns = cols_for_drop ).rename( columns = { 'RunTime' : 'y_runtime' } )\n",
    "exp_ds['y_pos'] = exp_ds['position'].astype(int)\n",
    "\n"
   ]
  },
  {
   "cell_type": "code",
   "execution_count": 40,
   "id": "d0686ea1-f2ce-4661-83de-25ec800e77b2",
   "metadata": {},
   "outputs": [
    {
     "name": "stdout",
     "output_type": "stream",
     "text": [
      "['@id_DOG', 'DogName', 'y_runtime', 'RaceId', '@id_RACE', 'Distance', 'RaceGrade', 'Track', 'Event_Dt', 'ft_sp', 'position', 'x_num_dogs', 'Winner_actual', 'Top3_actual', 'position_random', 'Winner_random', 'Top3_random', 'position_fasttrack', 'Winner_fastrack', 'Top3_fastrack', 'y_pos']\n"
     ]
    }
   ],
   "source": [
    "\n",
    "print(exp_ds.columns.values.tolist())\n"
   ]
  },
  {
   "cell_type": "code",
   "execution_count": 41,
   "id": "961924c4-dee0-4278-a5c6-b15aaea70c70",
   "metadata": {},
   "outputs": [
    {
     "data": {
      "text/html": [
       "<div>\n",
       "<style scoped>\n",
       "    .dataframe tbody tr th:only-of-type {\n",
       "        vertical-align: middle;\n",
       "    }\n",
       "\n",
       "    .dataframe tbody tr th {\n",
       "        vertical-align: top;\n",
       "    }\n",
       "\n",
       "    .dataframe thead th {\n",
       "        text-align: right;\n",
       "    }\n",
       "</style>\n",
       "<table border=\"1\" class=\"dataframe\">\n",
       "  <thead>\n",
       "    <tr style=\"text-align: right;\">\n",
       "      <th></th>\n",
       "      <th>@id_DOG</th>\n",
       "      <th>DogName</th>\n",
       "      <th>y_runtime</th>\n",
       "      <th>RaceId</th>\n",
       "      <th>@id_RACE</th>\n",
       "      <th>Distance</th>\n",
       "      <th>RaceGrade</th>\n",
       "      <th>Track</th>\n",
       "      <th>Event_Dt</th>\n",
       "      <th>ft_sp</th>\n",
       "      <th>position</th>\n",
       "      <th>x_num_dogs</th>\n",
       "      <th>Winner_actual</th>\n",
       "      <th>Top3_actual</th>\n",
       "      <th>position_random</th>\n",
       "      <th>Winner_random</th>\n",
       "      <th>Top3_random</th>\n",
       "      <th>position_fasttrack</th>\n",
       "      <th>Winner_fastrack</th>\n",
       "      <th>Top3_fastrack</th>\n",
       "      <th>y_pos</th>\n",
       "    </tr>\n",
       "  </thead>\n",
       "  <tbody>\n",
       "    <tr>\n",
       "      <th>0</th>\n",
       "      <td>108390981</td>\n",
       "      <td>DOLLY DOES IT</td>\n",
       "      <td>26.43</td>\n",
       "      <td>626271182</td>\n",
       "      <td>626271182</td>\n",
       "      <td>452m</td>\n",
       "      <td>Mixed 4/5</td>\n",
       "      <td>Devonport</td>\n",
       "      <td>2021-01-05</td>\n",
       "      <td>11.0</td>\n",
       "      <td>4</td>\n",
       "      <td>8</td>\n",
       "      <td>0</td>\n",
       "      <td>0</td>\n",
       "      <td>2.0</td>\n",
       "      <td>0</td>\n",
       "      <td>1</td>\n",
       "      <td>5.0</td>\n",
       "      <td>0</td>\n",
       "      <td>0</td>\n",
       "      <td>4</td>\n",
       "    </tr>\n",
       "    <tr>\n",
       "      <th>1</th>\n",
       "      <td>108390981</td>\n",
       "      <td>DOLLY DOES IT</td>\n",
       "      <td>26.40</td>\n",
       "      <td>629797242</td>\n",
       "      <td>629797242</td>\n",
       "      <td>452m</td>\n",
       "      <td>Grade 5</td>\n",
       "      <td>Devonport</td>\n",
       "      <td>2021-01-12</td>\n",
       "      <td>7.0</td>\n",
       "      <td>5</td>\n",
       "      <td>7</td>\n",
       "      <td>0</td>\n",
       "      <td>0</td>\n",
       "      <td>7.0</td>\n",
       "      <td>0</td>\n",
       "      <td>0</td>\n",
       "      <td>5.0</td>\n",
       "      <td>0</td>\n",
       "      <td>0</td>\n",
       "      <td>5</td>\n",
       "    </tr>\n",
       "    <tr>\n",
       "      <th>2</th>\n",
       "      <td>108390981</td>\n",
       "      <td>DOLLY DOES IT</td>\n",
       "      <td>26.20</td>\n",
       "      <td>629797513</td>\n",
       "      <td>629797513</td>\n",
       "      <td>452m</td>\n",
       "      <td>Grade 5</td>\n",
       "      <td>Devonport</td>\n",
       "      <td>2021-01-19</td>\n",
       "      <td>7.0</td>\n",
       "      <td>1</td>\n",
       "      <td>7</td>\n",
       "      <td>1</td>\n",
       "      <td>1</td>\n",
       "      <td>5.0</td>\n",
       "      <td>0</td>\n",
       "      <td>0</td>\n",
       "      <td>4.0</td>\n",
       "      <td>0</td>\n",
       "      <td>0</td>\n",
       "      <td>1</td>\n",
       "    </tr>\n",
       "    <tr>\n",
       "      <th>3</th>\n",
       "      <td>108390981</td>\n",
       "      <td>DOLLY DOES IT</td>\n",
       "      <td>26.48</td>\n",
       "      <td>638810808</td>\n",
       "      <td>638810808</td>\n",
       "      <td>452m</td>\n",
       "      <td>Mixed 4/5 Heat</td>\n",
       "      <td>Devonport</td>\n",
       "      <td>2021-02-16</td>\n",
       "      <td>7.0</td>\n",
       "      <td>7</td>\n",
       "      <td>8</td>\n",
       "      <td>0</td>\n",
       "      <td>0</td>\n",
       "      <td>1.0</td>\n",
       "      <td>1</td>\n",
       "      <td>1</td>\n",
       "      <td>4.0</td>\n",
       "      <td>0</td>\n",
       "      <td>0</td>\n",
       "      <td>7</td>\n",
       "    </tr>\n",
       "    <tr>\n",
       "      <th>4</th>\n",
       "      <td>108390981</td>\n",
       "      <td>DOLLY DOES IT</td>\n",
       "      <td>26.91</td>\n",
       "      <td>643554706</td>\n",
       "      <td>643554706</td>\n",
       "      <td>452m</td>\n",
       "      <td>Grade 4</td>\n",
       "      <td>Devonport</td>\n",
       "      <td>2021-03-02</td>\n",
       "      <td>91.0</td>\n",
       "      <td>8</td>\n",
       "      <td>8</td>\n",
       "      <td>0</td>\n",
       "      <td>0</td>\n",
       "      <td>4.0</td>\n",
       "      <td>0</td>\n",
       "      <td>0</td>\n",
       "      <td>8.0</td>\n",
       "      <td>0</td>\n",
       "      <td>0</td>\n",
       "      <td>8</td>\n",
       "    </tr>\n",
       "  </tbody>\n",
       "</table>\n",
       "</div>"
      ],
      "text/plain": [
       "     @id_DOG        DogName  y_runtime     RaceId   @id_RACE Distance       RaceGrade      Track    Event_Dt  ft_sp position  x_num_dogs  Winner_actual  Top3_actual  position_random  Winner_random  \\\n",
       "0  108390981  DOLLY DOES IT      26.43  626271182  626271182     452m       Mixed 4/5  Devonport  2021-01-05   11.0        4           8              0            0              2.0              0   \n",
       "1  108390981  DOLLY DOES IT      26.40  629797242  629797242     452m         Grade 5  Devonport  2021-01-12    7.0        5           7              0            0              7.0              0   \n",
       "2  108390981  DOLLY DOES IT      26.20  629797513  629797513     452m         Grade 5  Devonport  2021-01-19    7.0        1           7              1            1              5.0              0   \n",
       "3  108390981  DOLLY DOES IT      26.48  638810808  638810808     452m  Mixed 4/5 Heat  Devonport  2021-02-16    7.0        7           8              0            0              1.0              1   \n",
       "4  108390981  DOLLY DOES IT      26.91  643554706  643554706     452m         Grade 4  Devonport  2021-03-02   91.0        8           8              0            0              4.0              0   \n",
       "\n",
       "   Top3_random  position_fasttrack  Winner_fastrack  Top3_fastrack  y_pos  \n",
       "0            1                 5.0                0              0      4  \n",
       "1            0                 5.0                0              0      5  \n",
       "2            0                 4.0                0              0      1  \n",
       "3            1                 4.0                0              0      7  \n",
       "4            0                 8.0                0              0      8  "
      ]
     },
     "execution_count": 41,
     "metadata": {},
     "output_type": "execute_result"
    }
   ],
   "source": [
    "\n",
    "exp_ds.head()\n"
   ]
  },
  {
   "cell_type": "code",
   "execution_count": 42,
   "id": "10b73738-5947-4fee-b0f1-70ca3a01a374",
   "metadata": {},
   "outputs": [
    {
     "data": {
      "text/html": [
       "<div>\n",
       "<style scoped>\n",
       "    .dataframe tbody tr th:only-of-type {\n",
       "        vertical-align: middle;\n",
       "    }\n",
       "\n",
       "    .dataframe tbody tr th {\n",
       "        vertical-align: top;\n",
       "    }\n",
       "\n",
       "    .dataframe thead th {\n",
       "        text-align: right;\n",
       "    }\n",
       "</style>\n",
       "<table border=\"1\" class=\"dataframe\">\n",
       "  <thead>\n",
       "    <tr style=\"text-align: right;\">\n",
       "      <th></th>\n",
       "      <th>@id_DOG</th>\n",
       "      <th>y_runtime</th>\n",
       "      <th>RaceId</th>\n",
       "      <th>@id_RACE</th>\n",
       "      <th>ft_sp</th>\n",
       "      <th>x_num_dogs</th>\n",
       "      <th>Winner_actual</th>\n",
       "      <th>Top3_actual</th>\n",
       "      <th>position_random</th>\n",
       "      <th>Winner_random</th>\n",
       "      <th>Top3_random</th>\n",
       "      <th>position_fasttrack</th>\n",
       "      <th>Winner_fastrack</th>\n",
       "      <th>Top3_fastrack</th>\n",
       "      <th>y_pos</th>\n",
       "    </tr>\n",
       "  </thead>\n",
       "  <tbody>\n",
       "    <tr>\n",
       "      <th>count</th>\n",
       "      <td>5.415520e+05</td>\n",
       "      <td>541552.000000</td>\n",
       "      <td>5.415520e+05</td>\n",
       "      <td>5.415520e+05</td>\n",
       "      <td>541552.000000</td>\n",
       "      <td>541552.000000</td>\n",
       "      <td>541552.000000</td>\n",
       "      <td>541552.000000</td>\n",
       "      <td>541552.000000</td>\n",
       "      <td>541552.000000</td>\n",
       "      <td>541552.000000</td>\n",
       "      <td>541552.000000</td>\n",
       "      <td>541552.000000</td>\n",
       "      <td>541552.000000</td>\n",
       "      <td>541552.000000</td>\n",
       "    </tr>\n",
       "    <tr>\n",
       "      <th>mean</th>\n",
       "      <td>4.525647e+08</td>\n",
       "      <td>24.427979</td>\n",
       "      <td>7.292605e+08</td>\n",
       "      <td>7.292605e+08</td>\n",
       "      <td>16.917818</td>\n",
       "      <td>7.305492</td>\n",
       "      <td>0.140127</td>\n",
       "      <td>0.419843</td>\n",
       "      <td>4.152746</td>\n",
       "      <td>0.139857</td>\n",
       "      <td>0.419435</td>\n",
       "      <td>4.013938</td>\n",
       "      <td>0.145510</td>\n",
       "      <td>0.437633</td>\n",
       "      <td>4.150733</td>\n",
       "    </tr>\n",
       "    <tr>\n",
       "      <th>std</th>\n",
       "      <td>1.121930e+08</td>\n",
       "      <td>4.983891</td>\n",
       "      <td>5.831714e+07</td>\n",
       "      <td>5.831714e+07</td>\n",
       "      <td>20.995473</td>\n",
       "      <td>0.950365</td>\n",
       "      <td>0.347119</td>\n",
       "      <td>0.493534</td>\n",
       "      <td>2.159921</td>\n",
       "      <td>0.346839</td>\n",
       "      <td>0.493467</td>\n",
       "      <td>2.088645</td>\n",
       "      <td>0.352614</td>\n",
       "      <td>0.496096</td>\n",
       "      <td>2.160054</td>\n",
       "    </tr>\n",
       "    <tr>\n",
       "      <th>min</th>\n",
       "      <td>1.083910e+08</td>\n",
       "      <td>10.000000</td>\n",
       "      <td>6.238619e+08</td>\n",
       "      <td>6.238619e+08</td>\n",
       "      <td>0.260000</td>\n",
       "      <td>1.000000</td>\n",
       "      <td>0.000000</td>\n",
       "      <td>0.000000</td>\n",
       "      <td>1.000000</td>\n",
       "      <td>0.000000</td>\n",
       "      <td>0.000000</td>\n",
       "      <td>1.000000</td>\n",
       "      <td>0.000000</td>\n",
       "      <td>0.000000</td>\n",
       "      <td>1.000000</td>\n",
       "    </tr>\n",
       "    <tr>\n",
       "      <th>25%</th>\n",
       "      <td>3.836042e+08</td>\n",
       "      <td>20.550000</td>\n",
       "      <td>6.802578e+08</td>\n",
       "      <td>6.802578e+08</td>\n",
       "      <td>4.200000</td>\n",
       "      <td>7.000000</td>\n",
       "      <td>0.000000</td>\n",
       "      <td>0.000000</td>\n",
       "      <td>2.000000</td>\n",
       "      <td>0.000000</td>\n",
       "      <td>0.000000</td>\n",
       "      <td>2.000000</td>\n",
       "      <td>0.000000</td>\n",
       "      <td>0.000000</td>\n",
       "      <td>2.000000</td>\n",
       "    </tr>\n",
       "    <tr>\n",
       "      <th>50%</th>\n",
       "      <td>4.517679e+08</td>\n",
       "      <td>23.540000</td>\n",
       "      <td>7.293859e+08</td>\n",
       "      <td>7.293859e+08</td>\n",
       "      <td>8.700000</td>\n",
       "      <td>8.000000</td>\n",
       "      <td>0.000000</td>\n",
       "      <td>0.000000</td>\n",
       "      <td>4.000000</td>\n",
       "      <td>0.000000</td>\n",
       "      <td>0.000000</td>\n",
       "      <td>4.000000</td>\n",
       "      <td>0.000000</td>\n",
       "      <td>0.000000</td>\n",
       "      <td>4.000000</td>\n",
       "    </tr>\n",
       "    <tr>\n",
       "      <th>75%</th>\n",
       "      <td>5.271657e+08</td>\n",
       "      <td>27.190000</td>\n",
       "      <td>7.792436e+08</td>\n",
       "      <td>7.792436e+08</td>\n",
       "      <td>20.600000</td>\n",
       "      <td>8.000000</td>\n",
       "      <td>0.000000</td>\n",
       "      <td>1.000000</td>\n",
       "      <td>6.000000</td>\n",
       "      <td>0.000000</td>\n",
       "      <td>1.000000</td>\n",
       "      <td>6.000000</td>\n",
       "      <td>0.000000</td>\n",
       "      <td>1.000000</td>\n",
       "      <td>6.000000</td>\n",
       "    </tr>\n",
       "    <tr>\n",
       "      <th>max</th>\n",
       "      <td>2.145360e+09</td>\n",
       "      <td>396.120000</td>\n",
       "      <td>8.292517e+08</td>\n",
       "      <td>8.292517e+08</td>\n",
       "      <td>999.990000</td>\n",
       "      <td>8.000000</td>\n",
       "      <td>1.000000</td>\n",
       "      <td>1.000000</td>\n",
       "      <td>8.000000</td>\n",
       "      <td>1.000000</td>\n",
       "      <td>1.000000</td>\n",
       "      <td>8.000000</td>\n",
       "      <td>1.000000</td>\n",
       "      <td>1.000000</td>\n",
       "      <td>8.000000</td>\n",
       "    </tr>\n",
       "  </tbody>\n",
       "</table>\n",
       "</div>"
      ],
      "text/plain": [
       "            @id_DOG      y_runtime        RaceId      @id_RACE          ft_sp     x_num_dogs  Winner_actual    Top3_actual  position_random  Winner_random    Top3_random  position_fasttrack  \\\n",
       "count  5.415520e+05  541552.000000  5.415520e+05  5.415520e+05  541552.000000  541552.000000  541552.000000  541552.000000    541552.000000  541552.000000  541552.000000       541552.000000   \n",
       "mean   4.525647e+08      24.427979  7.292605e+08  7.292605e+08      16.917818       7.305492       0.140127       0.419843         4.152746       0.139857       0.419435            4.013938   \n",
       "std    1.121930e+08       4.983891  5.831714e+07  5.831714e+07      20.995473       0.950365       0.347119       0.493534         2.159921       0.346839       0.493467            2.088645   \n",
       "min    1.083910e+08      10.000000  6.238619e+08  6.238619e+08       0.260000       1.000000       0.000000       0.000000         1.000000       0.000000       0.000000            1.000000   \n",
       "25%    3.836042e+08      20.550000  6.802578e+08  6.802578e+08       4.200000       7.000000       0.000000       0.000000         2.000000       0.000000       0.000000            2.000000   \n",
       "50%    4.517679e+08      23.540000  7.293859e+08  7.293859e+08       8.700000       8.000000       0.000000       0.000000         4.000000       0.000000       0.000000            4.000000   \n",
       "75%    5.271657e+08      27.190000  7.792436e+08  7.792436e+08      20.600000       8.000000       0.000000       1.000000         6.000000       0.000000       1.000000            6.000000   \n",
       "max    2.145360e+09     396.120000  8.292517e+08  8.292517e+08     999.990000       8.000000       1.000000       1.000000         8.000000       1.000000       1.000000            8.000000   \n",
       "\n",
       "       Winner_fastrack  Top3_fastrack          y_pos  \n",
       "count    541552.000000  541552.000000  541552.000000  \n",
       "mean          0.145510       0.437633       4.150733  \n",
       "std           0.352614       0.496096       2.160054  \n",
       "min           0.000000       0.000000       1.000000  \n",
       "25%           0.000000       0.000000       2.000000  \n",
       "50%           0.000000       0.000000       4.000000  \n",
       "75%           0.000000       1.000000       6.000000  \n",
       "max           1.000000       1.000000       8.000000  "
      ]
     },
     "execution_count": 42,
     "metadata": {},
     "output_type": "execute_result"
    }
   ],
   "source": [
    "\n",
    "exp_ds.describe()\n"
   ]
  },
  {
   "cell_type": "code",
   "execution_count": 43,
   "id": "68b59fad-5f3b-4f80-9402-8a5379ff3b72",
   "metadata": {},
   "outputs": [],
   "source": [
    "\n",
    "exp_ds.to_csv(f'{fileloc}/{exp_fname}', index = False)\n"
   ]
  },
  {
   "cell_type": "code",
   "execution_count": 44,
   "id": "03f077d9-ae6f-41e6-954f-f3933a0d0135",
   "metadata": {},
   "outputs": [
    {
     "name": "stdout",
     "output_type": "stream",
     "text": [
      "THE END\n"
     ]
    }
   ],
   "source": [
    "\n",
    "print('THE END')\n"
   ]
  },
  {
   "cell_type": "code",
   "execution_count": null,
   "id": "7d6a89cd-03c4-4f27-84df-7e557a540e25",
   "metadata": {},
   "outputs": [],
   "source": []
  }
 ],
 "metadata": {
  "kernelspec": {
   "display_name": "Python 3.8 - AzureML",
   "language": "python",
   "name": "python38-azureml"
  },
  "language_info": {
   "codemirror_mode": {
    "name": "ipython",
    "version": 3
   },
   "file_extension": ".py",
   "mimetype": "text/x-python",
   "name": "python",
   "nbconvert_exporter": "python",
   "pygments_lexer": "ipython3",
   "version": "3.8.5"
  }
 },
 "nbformat": 4,
 "nbformat_minor": 5
}
