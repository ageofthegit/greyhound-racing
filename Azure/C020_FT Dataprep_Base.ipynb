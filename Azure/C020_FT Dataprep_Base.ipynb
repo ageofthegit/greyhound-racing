{
 "cells": [
  {
   "cell_type": "code",
   "execution_count": null,
   "id": "63486fe9-888e-4feb-b703-964e76d59d16",
   "metadata": {},
   "outputs": [],
   "source": []
  },
  {
   "cell_type": "markdown",
   "id": "49daf27c-f69b-4d74-8860-71064e5d5834",
   "metadata": {},
   "source": [
    "\n",
    "\"\"\"\n",
    "More Variables :\n",
    "\n",
    "Total Races from current race\n",
    "- Races in the last 7/14/28/60/90/180/365/730 days \n",
    "- Races won in the 7/14/28/60/90/180/365/730 days\n",
    "- Races placed in the 7/14/28/60/90/180/365/730 days\n",
    "\n",
    "\n",
    "\"\"\""
   ]
  },
  {
   "cell_type": "markdown",
   "id": "372e8582-c553-4d37-8184-8dd3e6c702ba",
   "metadata": {},
   "source": [
    "\n",
    "# Import the code \n"
   ]
  },
  {
   "cell_type": "code",
   "execution_count": null,
   "id": "09b2e3d3-f5ed-4f43-8b55-4fe0fb2e6f3a",
   "metadata": {},
   "outputs": [],
   "source": [
    "\n",
    "#fileloc  = '/mnt/batch/tasks/shared/LS_root/mounts/clusters/compute-one/code/Users/karan.bhatti'\n",
    "fileloc  = '/mnt/batch/tasks/shared/LS_root/mounts/clusters/compute-one-8c-32gb/code/Users/karan.bhatti'\n",
    "\n",
    "import sys\n",
    "print(sys.path)\n",
    "print()\n",
    "#sys.path.append(f'{fileloc}')\n",
    "print()\n",
    "#print(sys.path)\n"
   ]
  },
  {
   "cell_type": "code",
   "execution_count": null,
   "id": "cb254eff-ef3e-410b-89ec-df53b40db2c6",
   "metadata": {},
   "outputs": [],
   "source": [
    "\n",
    "class Data(object):\n",
    "    pass\n",
    "\n",
    "df = Data\n",
    "summ = Data\n"
   ]
  },
  {
   "cell_type": "code",
   "execution_count": null,
   "id": "9481db29-6090-4a36-97a1-55e9819e9e22",
   "metadata": {},
   "outputs": [],
   "source": [
    "import helpdesk as hd"
   ]
  },
  {
   "cell_type": "code",
   "execution_count": null,
   "id": "e392fb86-ad46-457b-9933-0f7e96a662cb",
   "metadata": {},
   "outputs": [],
   "source": [
    "\n",
    "import pandas as pd, numpy as np\n",
    "from datetime import datetime\n"
   ]
  },
  {
   "cell_type": "code",
   "execution_count": null,
   "id": "a3b05a99-d40c-4fbe-a53b-b90b8ce621aa",
   "metadata": {},
   "outputs": [],
   "source": [
    "DEBUG = True"
   ]
  },
  {
   "cell_type": "code",
   "execution_count": null,
   "id": "b4c75d71-19e5-4c3c-9ea9-98a3df3bf7ee",
   "metadata": {},
   "outputs": [],
   "source": [
    "\n",
    "pd.set_option('display.max_rows', 50);\n",
    "pd.set_option('display.max_columns', 50);\n",
    "pd.set_option('display.width', 200);\n"
   ]
  },
  {
   "cell_type": "code",
   "execution_count": null,
   "id": "9ad8cd93-2b33-41f1-b3e3-23e2b75f6596",
   "metadata": {},
   "outputs": [],
   "source": [
    "\n",
    "# Importing Dog Race Results\n",
    "\n",
    "#res_raw = pd.read_csv('C:\\\\Users\\\\karan\\\\Documents\\\\Data\\\\racing\\\\FastTrack\\\\Past\\\\dog_results_20211201_20211231.csv')\n",
    "#df.res_raw = pd.read_csv('C:\\\\Users\\\\karan\\\\Documents\\\\Data\\\\racing\\\\FastTrack\\\\Past\\\\dog_results_20220101_20220531.csv')\n",
    "\n",
    "print(f'{fileloc}/dog_results_2022Q1_2022Q2.csv')\n",
    "\n",
    "df.res_raw_2021Q1Q4 = pd.read_csv(f'{fileloc}/dog_results_2021Q1_2021Q4.csv')\n",
    "print(df.res_raw_2021Q1Q4.columns.values.tolist())\n",
    "print(df.res_raw_2021Q1Q4.shape)\n",
    "\n",
    "df.res_raw_2022Q1Q2 = pd.read_csv(f'{fileloc}/dog_results_2022Q1_2022Q2.csv')\n",
    "print(df.res_raw_2022Q1Q2.columns.values.tolist())\n",
    "print(df.res_raw_2022Q1Q2.shape)\n",
    "\n"
   ]
  },
  {
   "cell_type": "code",
   "execution_count": null,
   "id": "f5ec0f19-efdd-421f-9ab1-7144eb99d5eb",
   "metadata": {},
   "outputs": [],
   "source": [
    "\n",
    "df.res_raw = df.res_raw_2021Q1Q4.append( df.res_raw_2022Q1Q2 )\n",
    "print(df.res_raw.columns.values.tolist())\n",
    "print(df.res_raw.shape)\n"
   ]
  },
  {
   "cell_type": "code",
   "execution_count": null,
   "id": "1f908f84-7944-4eea-803b-0797bba488d4",
   "metadata": {},
   "outputs": [],
   "source": [
    "\n",
    "df.res_raw.loc[:,\"DogName\"] = df.res_raw[\"DogName\"].str.replace(\"'\",\"\").str.replace(\".\",\"\")\n",
    "if DEBUG: print(df.res_raw.shape) \n",
    "# 320 052\n",
    "\n",
    "#if DEBUG: res_raw[ ~(res_raw.Place.isin( ['D','F','N','R','S','T',''])) ].shape # 66608\n",
    "if DEBUG: print(df.res_raw[ ~(df.res_raw.Place.isin( ['R','S'])) ].shape) \n",
    "# 275 864\n",
    "\n",
    "df.res_raw2 = df.res_raw[ ~(df.res_raw.Place.isin( ['R','S']))  ]\n",
    "df.res_ = df.res_raw2[~df.res_raw2.Place.isna()]\n",
    "if DEBUG: print(df.res_.shape) \n",
    "# 273 735\n",
    "\n",
    "del df.res_raw, df.res_raw2\n",
    "\n",
    "#res_ = res_raw\n"
   ]
  },
  {
   "cell_type": "code",
   "execution_count": null,
   "id": "2ec26b41-4fd1-4f7f-8b5b-1ba701dbd147",
   "metadata": {},
   "outputs": [],
   "source": [
    "\n",
    "# Importing Race Details \n",
    "\n",
    "#race_raw = pd.read_csv('C:\\\\Users\\\\karan\\\\Documents\\\\Data\\\\racing\\\\FastTrack\\\\Past\\\\race_details_20211201_20211231.csv', parse_dates = True)\n",
    "#df.race_raw = pd.read_csv('C:\\\\Users\\\\karan\\\\Documents\\\\Data\\\\racing\\\\FastTrack\\\\Past\\\\race_details_20220101_20220531.csv', parse_dates = True)\n",
    "\n",
    "print(f'{fileloc}/race_details_2022Q1_2022Q2.csv')\n",
    "\n",
    "df.race_raw_2022Q1Q2 = pd.read_csv(f'{fileloc}/race_details_2022Q1_2022Q2.csv', parse_dates = True)\n",
    "print(df.race_raw_2022Q1Q2.columns.values.tolist())\n",
    "print(df.race_raw_2022Q1Q2.shape)\n",
    "\n",
    "df.race_raw_2021Q1Q4 = pd.read_csv(f'{fileloc}/race_details_2021Q1_2021Q4.csv', parse_dates = True)\n",
    "print(df.race_raw_2021Q1Q4.columns.values.tolist())\n",
    "print(df.race_raw_2021Q1Q4.shape)\n"
   ]
  },
  {
   "cell_type": "code",
   "execution_count": null,
   "id": "74c1582c-1b54-438b-aff9-1dcd2aa8c76d",
   "metadata": {},
   "outputs": [],
   "source": [
    "\n",
    "df.race_raw = df.race_raw_2021Q1Q4.append( df.race_raw_2022Q1Q2 )\n",
    "print(df.race_raw.columns.values.tolist())\n",
    "print(df.race_raw.shape)\n"
   ]
  },
  {
   "cell_type": "code",
   "execution_count": null,
   "id": "3a33ce04-86ed-47e9-9742-73168b14b75e",
   "metadata": {},
   "outputs": [],
   "source": [
    "\n",
    "df.race_raw['Event_Dt'] = pd.to_datetime(df.race_raw['date']).dt.date\n",
    "\n",
    "#dtvalct = race_raw.Event_Dt.value_counts()\n",
    "\n",
    "df.race_raw.loc[df.race_raw.Track.isin(['Murray Bridge (MBR)','Murray Bridge (MBS)']), \"Track\"] = 'Murray Bridge'\n",
    "df.race_raw.loc[df.race_raw.Track.isin(['Richmond (RIS)']), \"Track\"] = 'Richmond'\n",
    "\n",
    "df.race_raw.loc[df.race_raw.Track.isin(['Sandown (SAP)']), \"Track\"] = 'Sandown Park'\n",
    "\n",
    "df.race_raw.loc[df.race_raw.Track.isin(['Meadows (MEP)']), \"Track\"] = 'Meadows'\n",
    "df.race_raw.loc[df.race_raw.Track.isin(['The Meadows']), \"Track\"] = 'Meadows'\n",
    "\n",
    "\n",
    "if DEBUG : print(df.race_raw.shape)\n",
    "\n",
    "# 2021\n",
    "# 52,103 Races\n",
    "\n",
    "# 2022 upto May\n",
    "# 21,002 Races\n",
    "\n",
    "# 2022 Q1/Q2\n",
    "# 38,562 Races\n",
    "\n",
    "# 2022 Q1/Q2 + 2021 Q1/Q2/Q3/Q4\n",
    "# 81,412 Races\n",
    "\n",
    "df.race_ = df.race_raw[ ~df.race_raw.Track.str.contains('NZ')]\n",
    "\n",
    "if DEBUG : print(df.race_.shape)\n",
    "\n",
    "del df.race_raw\n",
    "\n",
    "if DEBUG: print(df.race_.dtypes)\n",
    "\n"
   ]
  },
  {
   "cell_type": "code",
   "execution_count": null,
   "id": "6ea61b23-f9d6-4787-9776-76ae0e3efaa5",
   "metadata": {},
   "outputs": [],
   "source": [
    "\n",
    "if DEBUG:\n",
    "    print(df.res_.columns.values.tolist())\n",
    "    print(df.race_.columns.values.tolist())\n",
    "    \n",
    "    print(df.res_.shape)\n",
    "    print(df.race_.shape)\n",
    "\n",
    "df.ft = pd.merge(df.res_, df.race_, left_on = 'RaceId', right_on = '@id', how = 'inner', suffixes=('_DOG', '_RACE'))\n",
    "if DEBUG: print(df.ft.shape)\n",
    "\n",
    "# 2021\n",
    "# 333,285\n",
    "\n",
    "# 2022 upto May\n",
    "# 132,558\n",
    "\n",
    "# 2022 Q1/Q2\n",
    "# 245,827\n",
    "\n",
    "# 2022 Q1/Q2 + 2021 Q1/Q2/Q3/Q4\n",
    "# 245,827\n",
    "\n",
    "#qc_DogName = df.ft_merg.DogName.value_counts()\n"
   ]
  },
  {
   "cell_type": "code",
   "execution_count": null,
   "id": "e1bd3a6e-26ba-485c-8961-8a7d10fba4e8",
   "metadata": {},
   "outputs": [],
   "source": [
    "\n",
    "#summ.ft = hd.describe_df(df.ft)\n"
   ]
  },
  {
   "cell_type": "markdown",
   "id": "f30347b3-3f4c-4e36-a005-5b5060da7421",
   "metadata": {},
   "source": [
    "### Prepare the Base Dataset"
   ]
  },
  {
   "cell_type": "code",
   "execution_count": null,
   "id": "7b7a3bcd-ca8e-489c-9a8c-9e98aa19daa9",
   "metadata": {},
   "outputs": [],
   "source": [
    "\n",
    "print(df.ft.columns.values.tolist())\n"
   ]
  },
  {
   "cell_type": "code",
   "execution_count": null,
   "id": "cf0d5cb2-4980-4dfc-8891-279517f87da0",
   "metadata": {},
   "outputs": [],
   "source": [
    "\n",
    "\n",
    "print( pd.DataFrame(df.ft['Place'].value_counts()).transpose() )\n",
    "\n",
    "place_to_remove = ['F','T','N','P','B','D']\n"
   ]
  },
  {
   "cell_type": "code",
   "execution_count": null,
   "id": "8a6087f1-d2a0-4ad4-b22f-e073b52ef690",
   "metadata": {},
   "outputs": [],
   "source": [
    "\n",
    "# Delete races where ft_sp is blank\n",
    "all_races = df.ft['@id_RACE'].unique().tolist()\n",
    "print(len(all_races))\n",
    "\n",
    "\n",
    "\n",
    "blank_ft_sp_races = df.ft[df.ft['ft_sp'].isna()]['@id_RACE'].unique().tolist()\n",
    "print(len(blank_ft_sp_races))\n",
    "\n",
    "races_excl_pos = df.ft[df.ft['Place'].isin(place_to_remove)]['@id_RACE'].unique().tolist()\n",
    "print(len(races_excl_pos))\n",
    "\n",
    "\n",
    "\n",
    "df_base0 = df.ft[ ( ~df.ft['@id_RACE'].isin(blank_ft_sp_races) ) & ( ~df.ft['@id_RACE'].isin(races_excl_pos) ) ]\n",
    "\n",
    "print(df.ft.shape)\n",
    "print(df_base0.shape)\n"
   ]
  },
  {
   "cell_type": "code",
   "execution_count": null,
   "id": "ef7391ad-5eaf-4c45-8fbc-b1b577886703",
   "metadata": {},
   "outputs": [],
   "source": [
    "df_base0.sort_values(by = ['@id_DOG', 'DogName', 'Event_Dt'], inplace = True)"
   ]
  },
  {
   "cell_type": "code",
   "execution_count": null,
   "id": "db3a814c-0919-4468-85f6-7b9781372516",
   "metadata": {},
   "outputs": [],
   "source": [
    "\n",
    "df_base0[df_base0.DogName.isin(['FOURTH DIMENTION'])].head()\n"
   ]
  },
  {
   "cell_type": "code",
   "execution_count": null,
   "id": "dc4ac2d1-af2e-44ee-89da-b746aa939e09",
   "metadata": {},
   "outputs": [],
   "source": [
    "\n",
    "# Fix the position Variable\n",
    "df_base0['position'] = df_base0.Place.apply(lambda x : x.replace(\"=\",\"\") if x in ['1=','2=','3=','4=','5=','6=','7=','8='] else x)\n",
    "\n",
    "print(pd.DataFrame(df_base0.position.value_counts()).transpose())\n",
    "\n",
    "#Clean the fast track prices\n",
    "df_base0['ft_sp'] = df_base0.StartPrice.apply(lambda x : float(str(x).replace(\"$\",\"\").replace(\"F\",\"\")) )\n",
    "\n"
   ]
  },
  {
   "cell_type": "code",
   "execution_count": null,
   "id": "b9bce0ef-82bb-4fae-9dcf-fa387199c414",
   "metadata": {},
   "outputs": [],
   "source": [
    "\n",
    "# Add the num_dogs variable\n",
    "\n",
    "df_num_dogs = df_base0.groupby(\"@id_RACE\").agg( { '@id_DOG':'nunique' } ).reset_index().rename(columns = {'@id_DOG':'x_num_dogs'})\n",
    "\n",
    "print(df_base0.shape)\n",
    "\n",
    "df_base1 = pd.merge(df_base0, df_num_dogs, on = [\"@id_RACE\"], how = 'left')\n",
    "\n",
    "print(df_base1.shape)\n",
    "print(df_base1.columns.values.tolist())\n"
   ]
  },
  {
   "cell_type": "code",
   "execution_count": null,
   "id": "547c02f8-7038-4350-94b3-b3d01ae2a136",
   "metadata": {},
   "outputs": [],
   "source": [
    "\n",
    "# Top 3 Actuals\n",
    "\n",
    "##\n",
    "groupings = ['@id_RACE']\n",
    "\n",
    "# Actual Result\n",
    "df_base1['Winner_actual'] = df_base1.apply(lambda x : 1 if int(x.position) ==1 else 0, axis = 1)\n",
    "df_base1['Top3_actual'] = df_base1.apply(lambda x : 1 if int(x.position) <=3 else 0, axis = 1)\n",
    "\n"
   ]
  },
  {
   "cell_type": "code",
   "execution_count": null,
   "id": "24361800-2da6-4fd4-9c22-23df14475745",
   "metadata": {},
   "outputs": [],
   "source": [
    "\n",
    "# Random Position \n",
    "##\n",
    "groupings = ['@id_RACE']\n",
    "\n",
    "import random\n",
    "#print(random.uniform(0, 1))\n",
    "\n",
    "df_base1['rand_mean'] = 0.5\n",
    "df_base1['rand_uniform'] = np.random.normal( df_base1['rand_mean'] )\n",
    "\n",
    "## Rank from the random variables \n",
    "df_base1[\"position_random\"] = df_base1.groupby(groupings)[\"rand_uniform\"].rank(\"dense\", ascending=False)\n",
    "\n",
    "# Winner / Place Columns\n",
    "df_base1['Winner_random'] = df_base1.apply(lambda x : 1 if x.position_random <= 1 else 0, axis = 1)\n",
    "df_base1['Top3_random'] = df_base1.apply(lambda x : 1 if x.position_random <= 3 else 0, axis = 1)\n",
    "\n",
    "print(datetime.now())\n"
   ]
  },
  {
   "cell_type": "code",
   "execution_count": null,
   "id": "38463aff-9725-4c04-ad55-566c0fac43e1",
   "metadata": {},
   "outputs": [],
   "source": [
    "\n",
    "##\n",
    "groupings = ['@id_RACE']\n",
    "\n",
    "## Rank for Place Preds\n",
    "df_base1[\"position_fasttrack\"] = df_base1.groupby(groupings)[\"ft_sp\"].rank(\"dense\", ascending=True)\n",
    "\n",
    "# Winner / Place Columns\n",
    "df_base1['Winner_fastrack'] = df_base1.apply(lambda x : 1 if x.position_fasttrack <= 1 else 0, axis = 1)\n",
    "df_base1['Top3_fastrack'] = df_base1.apply(lambda x : 1 if x.position_fasttrack <= 3 else 0, axis = 1)\n",
    "\n",
    "print(datetime.now())\n"
   ]
  },
  {
   "cell_type": "code",
   "execution_count": null,
   "id": "4c67082a-aa9c-4e10-9337-4021d1fa1d53",
   "metadata": {},
   "outputs": [],
   "source": [
    "\n",
    "print(pd.DataFrame(df_base1.isna().sum()).transpose())\n"
   ]
  },
  {
   "cell_type": "code",
   "execution_count": null,
   "id": "5e8abbc5-529c-47de-a287-c498f4684030",
   "metadata": {},
   "outputs": [],
   "source": [
    "\n",
    "df.ft.agg({'TrainerName':'nunique', 'Track':'nunique', 'DogName':'nunique'})\n"
   ]
  },
  {
   "cell_type": "code",
   "execution_count": null,
   "id": "35ac8a9f-1300-40c1-9f34-8c48d89e8903",
   "metadata": {},
   "outputs": [],
   "source": [
    "pd.set_option('display.max_rows', 50)"
   ]
  },
  {
   "cell_type": "code",
   "execution_count": null,
   "id": "4245a4c6-db37-47f7-8de1-816696287eab",
   "metadata": {},
   "outputs": [],
   "source": [
    "\n",
    "tracks_unq = df_base1.Track.unique().tolist()\n",
    "\n",
    "print(type(tracks_unq))\n",
    "\n",
    "tracks_unq.sort()\n",
    "\n",
    "print(tracks_unq)\n",
    "\n"
   ]
  },
  {
   "cell_type": "code",
   "execution_count": null,
   "id": "61e63a20-4d13-4495-98dd-4f61c2f0a6d1",
   "metadata": {},
   "outputs": [],
   "source": [
    "\n",
    "print(datetime.now().date())\n"
   ]
  },
  {
   "cell_type": "code",
   "execution_count": null,
   "id": "5e0a7703-6a0a-41f0-a33e-4c4d60f9e804",
   "metadata": {},
   "outputs": [],
   "source": [
    "\n",
    "print(df_base1.columns.values.tolist())\n"
   ]
  },
  {
   "cell_type": "code",
   "execution_count": null,
   "id": "0b3a27f8-02c3-40f7-a668-1ec1bbc0af81",
   "metadata": {},
   "outputs": [],
   "source": [
    "\n",
    "#keep_cols_for_export = ['@id_DOG', 'DogName', '@id_RACE','RaceName','Track','RaceGrade','Distance','TrainerName','RunTime','Place','x_races_tot']\n",
    "\n",
    "# 'TrainerName', 'Track' have been dummified\n",
    "#cols_to_keep = ['@id_DOG', 'DogName', 'y_runtime', 'RaceId', '@id_RACE', 'position', 'ft_sp', 'x_num_dogs', 'Top3_actual', 'position_random', 'position_fasttrack', 'Winner_fastrack', 'Top3_fastrack', 'Winner_actual', 'Winner_random', 'Top3_random']\n",
    "\n",
    "cols_for_drop = [ 'Place', 'Box', 'Rug', 'Weight', 'StartPrice', 'Handicap', 'Margin1', 'Margin2', 'PIR', 'Checks', 'Comments', 'SplitMargin' \\\n",
    "                 , 'Prizemoney', 'TrainerId', 'TrainerName', 'RaceNum', 'RaceName', 'RaceTime', 'Distance', 'RaceGrade', 'Track', 'date', 'Event_Dt'\\\n",
    "                 , 'rand_mean', 'rand_uniform']\n",
    "\n",
    "#'Event_Dt', \n",
    "\n",
    "todaydt = datetime.now().date()\n",
    "exp_fname = f'dataset_base_{todaydt}.csv'\n",
    "\n",
    "exp_ds = df_base1.drop(columns = cols_for_drop).rename(columns = { 'RunTime' : 'y_runtime' })\n",
    "\n"
   ]
  },
  {
   "cell_type": "code",
   "execution_count": 87,
   "id": "d0686ea1-f2ce-4661-83de-25ec800e77b2",
   "metadata": {},
   "outputs": [
    {
     "name": "stdout",
     "output_type": "stream",
     "text": [
      "['@id_DOG', 'DogName', 'y_runtime', 'RaceId', '@id_RACE', 'position', 'ft_sp', 'x_num_dogs', 'Top3_actual', 'position_random', 'position_fasttrack', 'Winner_fastrack', 'Top3_fastrack', 'Winner_actual', 'Winner_random', 'Top3_random']\n"
     ]
    }
   ],
   "source": [
    "\n",
    "print(exp_ds.columns.values.tolist())\n"
   ]
  },
  {
   "cell_type": "code",
   "execution_count": 42,
   "id": "961924c4-dee0-4278-a5c6-b15aaea70c70",
   "metadata": {},
   "outputs": [
    {
     "data": {
      "text/html": [
       "<div>\n",
       "<style scoped>\n",
       "    .dataframe tbody tr th:only-of-type {\n",
       "        vertical-align: middle;\n",
       "    }\n",
       "\n",
       "    .dataframe tbody tr th {\n",
       "        vertical-align: top;\n",
       "    }\n",
       "\n",
       "    .dataframe thead th {\n",
       "        text-align: right;\n",
       "    }\n",
       "</style>\n",
       "<table border=\"1\" class=\"dataframe\">\n",
       "  <thead>\n",
       "    <tr style=\"text-align: right;\">\n",
       "      <th></th>\n",
       "      <th>@id_DOG</th>\n",
       "      <th>DogName</th>\n",
       "      <th>y_runtime</th>\n",
       "      <th>TrainerName</th>\n",
       "      <th>@id_RACE</th>\n",
       "      <th>RaceNum</th>\n",
       "      <th>RaceName</th>\n",
       "      <th>Track</th>\n",
       "      <th>Event_Dt</th>\n",
       "      <th>x_dist</th>\n",
       "      <th>df_avg_speed_prev</th>\n",
       "      <th>x_races_tot</th>\n",
       "      <th>position</th>\n",
       "      <th>ft_sp</th>\n",
       "    </tr>\n",
       "  </thead>\n",
       "  <tbody>\n",
       "    <tr>\n",
       "      <th>4011</th>\n",
       "      <td>108390981</td>\n",
       "      <td>DOLLY DOES IT</td>\n",
       "      <td>26.43</td>\n",
       "      <td>M Elphinstone</td>\n",
       "      <td>626271182</td>\n",
       "      <td>10</td>\n",
       "      <td>GREAT NORTHERN</td>\n",
       "      <td>Devonport</td>\n",
       "      <td>2021-01-05</td>\n",
       "      <td>452</td>\n",
       "      <td>NaN</td>\n",
       "      <td>0</td>\n",
       "      <td>4</td>\n",
       "      <td>11.0</td>\n",
       "    </tr>\n",
       "    <tr>\n",
       "      <th>10008</th>\n",
       "      <td>108390981</td>\n",
       "      <td>DOLLY DOES IT</td>\n",
       "      <td>26.40</td>\n",
       "      <td>M Elphinstone</td>\n",
       "      <td>629797242</td>\n",
       "      <td>10</td>\n",
       "      <td>GREAT NORTHERN</td>\n",
       "      <td>Devonport</td>\n",
       "      <td>2021-01-12</td>\n",
       "      <td>452</td>\n",
       "      <td>17101.778282</td>\n",
       "      <td>1</td>\n",
       "      <td>5</td>\n",
       "      <td>7.0</td>\n",
       "    </tr>\n",
       "    <tr>\n",
       "      <th>16043</th>\n",
       "      <td>108390981</td>\n",
       "      <td>DOLLY DOES IT</td>\n",
       "      <td>26.20</td>\n",
       "      <td>M Elphinstone</td>\n",
       "      <td>629797513</td>\n",
       "      <td>4</td>\n",
       "      <td>SUREPICK</td>\n",
       "      <td>Devonport</td>\n",
       "      <td>2021-01-19</td>\n",
       "      <td>452</td>\n",
       "      <td>17111.495202</td>\n",
       "      <td>2</td>\n",
       "      <td>1</td>\n",
       "      <td>7.0</td>\n",
       "    </tr>\n",
       "    <tr>\n",
       "      <th>39726</th>\n",
       "      <td>108390981</td>\n",
       "      <td>DOLLY DOES IT</td>\n",
       "      <td>26.48</td>\n",
       "      <td>M Elphinstone</td>\n",
       "      <td>638810808</td>\n",
       "      <td>8</td>\n",
       "      <td>LADBROKES</td>\n",
       "      <td>Devonport</td>\n",
       "      <td>2021-02-16</td>\n",
       "      <td>452</td>\n",
       "      <td>17158.299600</td>\n",
       "      <td>3</td>\n",
       "      <td>7</td>\n",
       "      <td>7.0</td>\n",
       "    </tr>\n",
       "    <tr>\n",
       "      <th>51934</th>\n",
       "      <td>108390981</td>\n",
       "      <td>DOLLY DOES IT</td>\n",
       "      <td>26.91</td>\n",
       "      <td>M Elphinstone</td>\n",
       "      <td>643554706</td>\n",
       "      <td>8</td>\n",
       "      <td>NEW RECRUIT 2012</td>\n",
       "      <td>Devonport</td>\n",
       "      <td>2021-03-02</td>\n",
       "      <td>452</td>\n",
       "      <td>17136.096301</td>\n",
       "      <td>4</td>\n",
       "      <td>8</td>\n",
       "      <td>91.0</td>\n",
       "    </tr>\n",
       "  </tbody>\n",
       "</table>\n",
       "</div>"
      ],
      "text/plain": [
       "         @id_DOG        DogName  y_runtime    TrainerName   @id_RACE  RaceNum          RaceName      Track    Event_Dt  x_dist  df_avg_speed_prev  x_races_tot position  ft_sp\n",
       "4011   108390981  DOLLY DOES IT      26.43  M Elphinstone  626271182       10    GREAT NORTHERN  Devonport  2021-01-05     452                NaN            0        4   11.0\n",
       "10008  108390981  DOLLY DOES IT      26.40  M Elphinstone  629797242       10    GREAT NORTHERN  Devonport  2021-01-12     452       17101.778282            1        5    7.0\n",
       "16043  108390981  DOLLY DOES IT      26.20  M Elphinstone  629797513        4          SUREPICK  Devonport  2021-01-19     452       17111.495202            2        1    7.0\n",
       "39726  108390981  DOLLY DOES IT      26.48  M Elphinstone  638810808        8         LADBROKES  Devonport  2021-02-16     452       17158.299600            3        7    7.0\n",
       "51934  108390981  DOLLY DOES IT      26.91  M Elphinstone  643554706        8  NEW RECRUIT 2012  Devonport  2021-03-02     452       17136.096301            4        8   91.0"
      ]
     },
     "execution_count": 42,
     "metadata": {},
     "output_type": "execute_result"
    }
   ],
   "source": [
    "\n",
    "exp_ds.head()\n"
   ]
  },
  {
   "cell_type": "code",
   "execution_count": 43,
   "id": "68b59fad-5f3b-4f80-9402-8a5379ff3b72",
   "metadata": {},
   "outputs": [],
   "source": [
    "\n",
    "exp_ds.to_csv(f'{fileloc}/{exp_fname}', index = False)\n"
   ]
  },
  {
   "cell_type": "code",
   "execution_count": 44,
   "id": "03f077d9-ae6f-41e6-954f-f3933a0d0135",
   "metadata": {},
   "outputs": [
    {
     "data": {
      "text/html": [
       "<div>\n",
       "<style scoped>\n",
       "    .dataframe tbody tr th:only-of-type {\n",
       "        vertical-align: middle;\n",
       "    }\n",
       "\n",
       "    .dataframe tbody tr th {\n",
       "        vertical-align: top;\n",
       "    }\n",
       "\n",
       "    .dataframe thead th {\n",
       "        text-align: right;\n",
       "    }\n",
       "</style>\n",
       "<table border=\"1\" class=\"dataframe\">\n",
       "  <thead>\n",
       "    <tr style=\"text-align: right;\">\n",
       "      <th></th>\n",
       "      <th>@id_DOG</th>\n",
       "      <th>y_runtime</th>\n",
       "      <th>@id_RACE</th>\n",
       "      <th>RaceNum</th>\n",
       "      <th>x_dist</th>\n",
       "      <th>df_avg_speed_prev</th>\n",
       "      <th>x_races_tot</th>\n",
       "      <th>ft_sp</th>\n",
       "    </tr>\n",
       "  </thead>\n",
       "  <tbody>\n",
       "    <tr>\n",
       "      <th>count</th>\n",
       "      <td>5.773170e+05</td>\n",
       "      <td>571461.000000</td>\n",
       "      <td>5.773170e+05</td>\n",
       "      <td>577317.000000</td>\n",
       "      <td>577317.000000</td>\n",
       "      <td>576969.000000</td>\n",
       "      <td>577317.000000</td>\n",
       "      <td>572835.000000</td>\n",
       "    </tr>\n",
       "    <tr>\n",
       "      <th>mean</th>\n",
       "      <td>4.529757e+08</td>\n",
       "      <td>24.443111</td>\n",
       "      <td>7.291649e+08</td>\n",
       "      <td>6.130635</td>\n",
       "      <td>417.576751</td>\n",
       "      <td>17092.757958</td>\n",
       "      <td>18.616323</td>\n",
       "      <td>16.915183</td>\n",
       "    </tr>\n",
       "    <tr>\n",
       "      <th>std</th>\n",
       "      <td>1.123050e+08</td>\n",
       "      <td>4.980097</td>\n",
       "      <td>5.831585e+07</td>\n",
       "      <td>3.286365</td>\n",
       "      <td>83.869702</td>\n",
       "      <td>331.990727</td>\n",
       "      <td>16.087385</td>\n",
       "      <td>20.981730</td>\n",
       "    </tr>\n",
       "    <tr>\n",
       "      <th>min</th>\n",
       "      <td>1.083910e+08</td>\n",
       "      <td>10.000000</td>\n",
       "      <td>6.238619e+08</td>\n",
       "      <td>1.000000</td>\n",
       "      <td>259.000000</td>\n",
       "      <td>11387.473779</td>\n",
       "      <td>0.000000</td>\n",
       "      <td>0.260000</td>\n",
       "    </tr>\n",
       "    <tr>\n",
       "      <th>25%</th>\n",
       "      <td>3.836047e+08</td>\n",
       "      <td>20.580000</td>\n",
       "      <td>6.798780e+08</td>\n",
       "      <td>3.000000</td>\n",
       "      <td>350.000000</td>\n",
       "      <td>16911.622565</td>\n",
       "      <td>6.000000</td>\n",
       "      <td>4.200000</td>\n",
       "    </tr>\n",
       "    <tr>\n",
       "      <th>50%</th>\n",
       "      <td>4.517682e+08</td>\n",
       "      <td>23.540000</td>\n",
       "      <td>7.290297e+08</td>\n",
       "      <td>6.000000</td>\n",
       "      <td>400.000000</td>\n",
       "      <td>17115.471218</td>\n",
       "      <td>14.000000</td>\n",
       "      <td>8.700000</td>\n",
       "    </tr>\n",
       "    <tr>\n",
       "      <th>75%</th>\n",
       "      <td>5.283827e+08</td>\n",
       "      <td>27.260000</td>\n",
       "      <td>7.792435e+08</td>\n",
       "      <td>9.000000</td>\n",
       "      <td>461.000000</td>\n",
       "      <td>17293.950122</td>\n",
       "      <td>27.000000</td>\n",
       "      <td>20.600000</td>\n",
       "    </tr>\n",
       "    <tr>\n",
       "      <th>max</th>\n",
       "      <td>2.145360e+09</td>\n",
       "      <td>396.120000</td>\n",
       "      <td>8.292517e+08</td>\n",
       "      <td>18.000000</td>\n",
       "      <td>732.000000</td>\n",
       "      <td>40200.000000</td>\n",
       "      <td>126.000000</td>\n",
       "      <td>999.990000</td>\n",
       "    </tr>\n",
       "  </tbody>\n",
       "</table>\n",
       "</div>"
      ],
      "text/plain": [
       "            @id_DOG      y_runtime      @id_RACE        RaceNum         x_dist  df_avg_speed_prev    x_races_tot          ft_sp\n",
       "count  5.773170e+05  571461.000000  5.773170e+05  577317.000000  577317.000000      576969.000000  577317.000000  572835.000000\n",
       "mean   4.529757e+08      24.443111  7.291649e+08       6.130635     417.576751       17092.757958      18.616323      16.915183\n",
       "std    1.123050e+08       4.980097  5.831585e+07       3.286365      83.869702         331.990727      16.087385      20.981730\n",
       "min    1.083910e+08      10.000000  6.238619e+08       1.000000     259.000000       11387.473779       0.000000       0.260000\n",
       "25%    3.836047e+08      20.580000  6.798780e+08       3.000000     350.000000       16911.622565       6.000000       4.200000\n",
       "50%    4.517682e+08      23.540000  7.290297e+08       6.000000     400.000000       17115.471218      14.000000       8.700000\n",
       "75%    5.283827e+08      27.260000  7.792435e+08       9.000000     461.000000       17293.950122      27.000000      20.600000\n",
       "max    2.145360e+09     396.120000  8.292517e+08      18.000000     732.000000       40200.000000     126.000000     999.990000"
      ]
     },
     "execution_count": 44,
     "metadata": {},
     "output_type": "execute_result"
    }
   ],
   "source": [
    "\n",
    "exp_ds.describe()\n"
   ]
  }
 ],
 "metadata": {
  "kernelspec": {
   "display_name": "Python 3.8 - AzureML",
   "language": "python",
   "name": "python38-azureml"
  },
  "language_info": {
   "codemirror_mode": {
    "name": "ipython",
    "version": 3
   },
   "file_extension": ".py",
   "mimetype": "text/x-python",
   "name": "python",
   "nbconvert_exporter": "python",
   "pygments_lexer": "ipython3",
   "version": "3.8.5"
  }
 },
 "nbformat": 4,
 "nbformat_minor": 5
}
