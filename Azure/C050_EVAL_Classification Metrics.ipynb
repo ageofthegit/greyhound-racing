{
 "cells": [
  {
   "cell_type": "code",
   "execution_count": null,
   "id": "cb585584-ccf5-4aa1-8f83-32ce55442a81",
   "metadata": {},
   "outputs": [],
   "source": []
  },
  {
   "cell_type": "markdown",
   "id": "20d15156-d40c-4adb-b8ad-9d9f9ad35e18",
   "metadata": {},
   "source": [
    "\n",
    "# Classification Evaluation Metrics\n"
   ]
  },
  {
   "cell_type": "code",
   "execution_count": 1,
   "id": "ac0b3b5b-48bf-485c-83bd-97db741515f5",
   "metadata": {},
   "outputs": [
    {
     "name": "stdout",
     "output_type": "stream",
     "text": [
      "['/mnt/batch/tasks/shared/LS_root/mounts/clusters/compute-one-8c-32gb/code/Users/karan.bhatti', '/anaconda/envs/azureml_py38/lib/python38.zip', '/anaconda/envs/azureml_py38/lib/python3.8', '/anaconda/envs/azureml_py38/lib/python3.8/lib-dynload', '', '/anaconda/envs/azureml_py38/lib/python3.8/site-packages', '/anaconda/envs/azureml_py38/lib/python3.8/site-packages/azureml/_project/vendor', '/anaconda/envs/azureml_py38/lib/python3.8/site-packages/azureml/automl/core/_vendor']\n",
      "\n",
      "\n"
     ]
    }
   ],
   "source": [
    "\n",
    "#fileloc  = '/mnt/batch/tasks/shared/LS_root/mounts/clusters/compute-one/code/Users/karan.bhatti'\n",
    "fileloc  = '/mnt/batch/tasks/shared/LS_root/mounts/clusters/compute-one-8c-32gb/code/Users/karan.bhatti'\n",
    "\n",
    "import sys\n",
    "print(sys.path)\n",
    "print()\n",
    "#sys.path.append(f'{fileloc}')\n",
    "print()\n",
    "#print(sys.path)\n"
   ]
  },
  {
   "cell_type": "code",
   "execution_count": null,
   "id": "cdeeffa2-8777-46bb-879e-8d78c8969f47",
   "metadata": {},
   "outputs": [],
   "source": []
  },
  {
   "cell_type": "code",
   "execution_count": 2,
   "id": "41e12f32-cddf-4b1b-a11b-523bd5150978",
   "metadata": {},
   "outputs": [],
   "source": [
    "\n",
    "class Data(object):\n",
    "    pass\n",
    "\n",
    "df = Data\n",
    "summ = Data\n"
   ]
  },
  {
   "cell_type": "code",
   "execution_count": 3,
   "id": "91c0dfae-c116-4ecc-8ece-515ef84128f1",
   "metadata": {},
   "outputs": [],
   "source": [
    "import helpdesk as hd"
   ]
  },
  {
   "cell_type": "code",
   "execution_count": 4,
   "id": "786aefbb-d314-49f9-ae4d-efdc11ddfde5",
   "metadata": {},
   "outputs": [],
   "source": [
    "\n",
    "import pandas as pd, numpy as np\n",
    "from datetime import datetime\n",
    "\n",
    "import random\n"
   ]
  },
  {
   "cell_type": "code",
   "execution_count": 5,
   "id": "e27858ab-bed5-4392-adaa-7ab1699e4729",
   "metadata": {},
   "outputs": [],
   "source": [
    "\n",
    "DEBUG = True\n",
    "seed = 1919\n"
   ]
  },
  {
   "cell_type": "code",
   "execution_count": 6,
   "id": "c9b3430a-b700-4589-beef-b9edc17f6ef2",
   "metadata": {},
   "outputs": [],
   "source": [
    "\n",
    "pd.set_option('display.max_rows', 50);\n",
    "pd.set_option('display.max_columns', 50);\n",
    "pd.set_option('display.width', 200);\n"
   ]
  },
  {
   "cell_type": "code",
   "execution_count": 7,
   "id": "510896fd-55b7-40d8-8473-92d19ee31f78",
   "metadata": {},
   "outputs": [],
   "source": [
    "#%run \"C040_MDL_NN w TensorFlow.ipynb\""
   ]
  },
  {
   "cell_type": "code",
   "execution_count": null,
   "id": "f19800ea-5183-4246-a1b5-631b6d62b4b2",
   "metadata": {},
   "outputs": [],
   "source": []
  },
  {
   "cell_type": "code",
   "execution_count": null,
   "id": "6a5f2d81-23d1-4a9e-a2fa-ed8c5a048f05",
   "metadata": {},
   "outputs": [],
   "source": [
    "\n",
    "#preds_dataset_name = 'predictions_dataset_2022-10-18.csv'\n",
    "#preds_dataset_name = 'predictions_dataset_2022-10-27.csv'\n",
    "preds_dataset_name = 'predictions_dataset_2022-11-24.csv'\n",
    "\n",
    "df_eval_raw = pd.read_csv(f'{fileloc}/{preds_dataset_name}')\n",
    "\n",
    "print(df_eval_raw.shape)\n",
    "print()\n",
    "print(df_eval_raw.columns.values.tolist())\n"
   ]
  },
  {
   "cell_type": "code",
   "execution_count": 9,
   "id": "a3a94601-69d5-4c78-87e6-0b86970c4eac",
   "metadata": {},
   "outputs": [],
   "source": [
    "# Plotting the RaceGrade"
   ]
  },
  {
   "cell_type": "code",
   "execution_count": null,
   "id": "d6af5ea3-a64b-4076-baed-d6bb7e0542d7",
   "metadata": {},
   "outputs": [],
   "source": [
    "\n",
    "print(pd.DataFrame(df_eval_raw.isna().sum()).transpose())\n"
   ]
  },
  {
   "cell_type": "code",
   "execution_count": null,
   "id": "4accedea-9f4c-4e96-9164-ffe1da574652",
   "metadata": {},
   "outputs": [],
   "source": [
    "\n",
    "df_eval_raw.describe()\n"
   ]
  },
  {
   "cell_type": "code",
   "execution_count": null,
   "id": "5e096cd5-4c44-40bc-99bb-e34600fd7d1c",
   "metadata": {},
   "outputs": [],
   "source": [
    "\n",
    "df_eval_raw.head()\n"
   ]
  },
  {
   "cell_type": "code",
   "execution_count": null,
   "id": "f1661428-28a4-44e9-971e-728208acf3e6",
   "metadata": {},
   "outputs": [],
   "source": [
    "\n",
    "df_evaluation = df_eval_raw.copy()\n"
   ]
  },
  {
   "cell_type": "code",
   "execution_count": null,
   "id": "48ba7788-606a-4c44-b0a3-9ab2be98f886",
   "metadata": {},
   "outputs": [],
   "source": []
  },
  {
   "cell_type": "code",
   "execution_count": null,
   "id": "0a1e40e4-ad6a-4931-8005-9dea592c562b",
   "metadata": {},
   "outputs": [],
   "source": [
    "\n",
    "# groupings\n",
    "groupings = ['@id_RACE']\n",
    "\n",
    "## Rank for Place Preds\n",
    "#df_evaluation[\"position_preds\"] = df_evaluation.groupby( groupings )[\"preds\"].rank(\"dense\", ascending=False)\n",
    "df_evaluation[\"position_preds\"] = df_evaluation.groupby( groupings )[\"preds\"].rank(\"dense\", ascending=True)\n",
    "\n",
    "# Winner / Place Preds Columns\n",
    "df_evaluation['Winner_preds'] = df_evaluation.apply(lambda x : 1 if x.position_preds <= 1 else 0, axis = 1)\n",
    "df_evaluation['Top3_preds'] = df_evaluation.apply(lambda x : 1 if x.position_preds <= 3 else 0, axis = 1)\n",
    "\n",
    "print(datetime.now())\n"
   ]
  },
  {
   "cell_type": "code",
   "execution_count": null,
   "id": "599f7c52-b7ab-4e90-84d4-e83c753a0df3",
   "metadata": {},
   "outputs": [],
   "source": [
    "\n",
    "df_poscount = df_evaluation.groupby(groupings).agg({'position_preds':'nunique'}).reset_index().rename(columns= {'position_preds':'poscount'})\n"
   ]
  },
  {
   "cell_type": "code",
   "execution_count": null,
   "id": "73979112-4334-42c4-beaa-ebe0b8717c37",
   "metadata": {},
   "outputs": [],
   "source": [
    "\n",
    "df_eval_v2 = df_evaluation.merge(df_poscount, on = groupings, how = 'left')\n",
    "\n",
    "df_eval_v2['preds_tie'] = df_eval_v2.apply(lambda x : 0 if x.x_num_dogs == x.poscount \\\n",
    "                                           else 1 if x.x_num_dogs == x.poscount + 1 \\\n",
    "                                           else 2 if x.x_num_dogs == x.poscount + 2 \\\n",
    "                                           else 3 if x.x_num_dogs == x.poscount + 3 \\\n",
    "                                           else 4 if x.x_num_dogs == x.poscount + 4 \\\n",
    "                                           else 5 if x.x_num_dogs == x.poscount + 5 \\\n",
    "                                           else 6 if x.x_num_dogs == x.poscount + 6 \\\n",
    "                                           else 7 if x.x_num_dogs == x.poscount + 7 \\\n",
    "                                           else 8 if x.x_num_dogs == x.poscount + 8 else 99, axis = 1)\n",
    "\n",
    "print()\n",
    "\n",
    "print(df_eval_v2.shape)\n",
    "print(df_eval_v2.columns.values.tolist())\n"
   ]
  },
  {
   "cell_type": "code",
   "execution_count": null,
   "id": "e3fb6ad3-ce41-45e9-acfe-4c9cd3088cc7",
   "metadata": {},
   "outputs": [],
   "source": [
    "\n",
    "print()\n",
    "print(df_eval_v2.groupby(['preds_tie']).agg({'@id_RACE':'nunique'}).reset_index())\n"
   ]
  },
  {
   "cell_type": "code",
   "execution_count": null,
   "id": "8259d49d-54c6-4d64-8319-4673250dfc2c",
   "metadata": {},
   "outputs": [],
   "source": [
    "\n",
    "#df_evaluation[df_evaluation['@id_RACE'].isin([626271182])].head()\n",
    "df_eval_v2[df_eval_v2['ttflag'].isin(['Test'])].head()\n"
   ]
  },
  {
   "cell_type": "code",
   "execution_count": null,
   "id": "9efba6ba-c365-4183-91e0-c10c659eff3c",
   "metadata": {},
   "outputs": [],
   "source": [
    "\n",
    "df_eval_v2.describe()\n"
   ]
  },
  {
   "cell_type": "code",
   "execution_count": null,
   "id": "83db6ee8-418d-492a-b3ea-cafd0efbbba2",
   "metadata": {},
   "outputs": [],
   "source": [
    "\n",
    "df_eval_v2.sort_values(by = ['@id_RACE','position']).head()\n"
   ]
  },
  {
   "cell_type": "code",
   "execution_count": null,
   "id": "057491f4-5c40-4ce6-8f18-c076b3e82b85",
   "metadata": {},
   "outputs": [],
   "source": [
    "\n",
    "pd.crosstab(df_eval_v2.position, df_eval_v2.position_preds)\n"
   ]
  },
  {
   "cell_type": "code",
   "execution_count": null,
   "id": "00f66c51-57f7-4719-a699-49a86f7b367e",
   "metadata": {},
   "outputs": [],
   "source": [
    "\n",
    "df_eval_v2.groupby( [ 'ttflag', 'Top3_actual', 'Top3_preds']).agg({'@id_DOG':'count'}).reset_index()\n"
   ]
  },
  {
   "cell_type": "code",
   "execution_count": null,
   "id": "737147d3-e6be-4d37-9b4c-55716b35225c",
   "metadata": {},
   "outputs": [],
   "source": [
    "\n",
    "pd.crosstab(df_eval_v2.Top3_actual, df_eval_v2.Top3_preds, normalize='all')\n"
   ]
  },
  {
   "cell_type": "code",
   "execution_count": null,
   "id": "eb6658da-9bf3-426b-ace6-ad87701983d4",
   "metadata": {},
   "outputs": [],
   "source": [
    "\n",
    "df_eval_v2.tail(10)\n"
   ]
  },
  {
   "cell_type": "code",
   "execution_count": null,
   "id": "425337e7-9a7e-4321-a0e6-c890705ec32e",
   "metadata": {},
   "outputs": [],
   "source": [
    "\n",
    "print(datetime.now())\n"
   ]
  },
  {
   "cell_type": "code",
   "execution_count": null,
   "id": "4ca08408-4a50-4b0d-ac3f-e303180c88b8",
   "metadata": {},
   "outputs": [],
   "source": [
    "\n",
    "# Random\n"
   ]
  },
  {
   "cell_type": "code",
   "execution_count": null,
   "id": "2347e0ce-5c23-4340-b4e2-e92b14b6dfaf",
   "metadata": {},
   "outputs": [],
   "source": [
    "\n",
    "\n",
    "# Bet on all Preds = s1\n",
    "df_eval_v2['rand_1'] = df_eval_v2.apply( lambda x : 1 if x.position_random == 1 else 0, axis = 1 )\n",
    "df_eval_v2['h_rand_1'] = df_eval_v2.apply( lambda x : 1 if ( x.rand_1 == 1 ) & ( x.position == 1 ) \\\n",
    "                                             else 0 if (x.rand_1 == 1) & ( x.position > 1 )\\\n",
    "                                             else 0, axis = 1 )\n",
    "df_eval_v2['p_rand_1'] = df_eval_v2.apply( lambda x : x.ft_sp - 1 if ( x.rand_1 == 1 ) & ( x.position == 1 ) \\\n",
    "                                             else -1 if (x.rand_1 == 1) & ( x.position > 1 )\\\n",
    "                                             else 0, axis = 1 )\n",
    "\n",
    "print()\n",
    "print(datetime.now())\n",
    "\n",
    "# Bet on all Place = s2\n",
    "#df_eval_v2['fs_2'] = df_eval_v2.apply(lambda x : 1 if x.position_preds <= 3 else 0, axis = 1)\n",
    "df_eval_v2[\"rand_all_plc\"] = df_eval_v2.apply(lambda x : np.nan if pd.isna(x.position_random) \\\n",
    "                                                                else 1 if (x.x_num_dogs >= 8) & (x.position_random <= 3) \\\n",
    "                                                                    else 1 if (x.x_num_dogs >= 5) & (x.position_random <= 2) \\\n",
    "                                                                        else 0 if (x.x_num_dogs < 5) \\\n",
    "                                                                            else 0, axis = 1)\n",
    "df_eval_v2['h_rand_all_plc'] = df_eval_v2.apply( lambda x : 1 if ( x.rand_all_plc == 1 ) & ( x.position == 1 ) \\\n",
    "                                             else 0 if ( x.rand_all_plc == 1 ) & ( x.position > 1 ) \\\n",
    "                                             else 0 , axis = 1 )\n",
    "\n",
    "df_eval_v2['p_rand_all_plc'] = df_eval_v2.apply( lambda x : x.ft_sp - 1 if ( x.rand_all_plc == 1 ) & ( x.position == 1 ) \\\n",
    "                                             else -1 if ( x.rand_all_plc == 1 ) & ( x.position > 1 ) \\\n",
    "                                             else 0 , axis = 1 )\n",
    "\n",
    "print()\n",
    "print(datetime.now())\n",
    "\n",
    "\n",
    "# Laying Last \n",
    "df_eval_v2[\"rand_lay_last\"] = df_eval_v2.apply(lambda x : np.nan if pd.isna(x.position_random) \\\n",
    "                                                                else 1 if (x.x_num_dogs == x.position_random) \\\n",
    "                                                                   else 0, axis = 1)\n",
    "\n",
    "df_eval_v2['h_rand_lay_last'] = df_eval_v2.apply( lambda x : 1 if ( x.rand_lay_last == 1 ) & ( x.position > 1 ) \\\n",
    "                                             else 0 , axis = 1 )\n",
    "\n",
    "df_eval_v2['p_rand_lay_last'] = df_eval_v2.apply( lambda x : 1 if ( x.rand_lay_last == 1 ) & ( x.position > 1 ) \\\n",
    "                                             else -x.ft_sp*5 if ( x.rand_lay_last == 1 ) & ( x.position == 1 ) \\\n",
    "                                             else 0 , axis = 1 )\n",
    "\n",
    "print()\n",
    "print(datetime.now())\n"
   ]
  },
  {
   "cell_type": "code",
   "execution_count": null,
   "id": "b96dd7a7-ea03-4da9-ac59-2132201b73d0",
   "metadata": {},
   "outputs": [],
   "source": [
    "\n",
    "# Benchmark\n"
   ]
  },
  {
   "cell_type": "code",
   "execution_count": null,
   "id": "20b5b92d-4d8c-4fc9-b1d7-a336f4bc1e9d",
   "metadata": {},
   "outputs": [],
   "source": [
    "\n",
    "# Bet on all Preds = s1\n",
    "df_eval_v2['ft_1'] = df_eval_v2.apply( lambda x : 1 if x.position_fasttrack == 1 else 0, axis = 1 )\n",
    "df_eval_v2['h_ft_1'] = df_eval_v2.apply( lambda x : 1 if ( x.ft_1 == 1 ) & ( x.position == 1 ) \\\n",
    "                                             else 0 if (x.ft_1 == 1) & ( x.position > 1 )\\\n",
    "                                             else 0, axis = 1 )\n",
    "df_eval_v2['p_ft_1'] = df_eval_v2.apply( lambda x : x.ft_sp - 1 if ( x.ft_1 == 1 ) & ( x.position == 1 ) \\\n",
    "                                             else -1 if (x.ft_1 == 1) & ( x.position > 1 )\\\n",
    "                                             else 0, axis = 1 )\n",
    "\n",
    "print()\n",
    "print(datetime.now())\n",
    "\n",
    "# Bet on all Place = s2\n",
    "df_eval_v2[\"ft_all_plc\"] = df_eval_v2.apply(lambda x : np.nan if pd.isna(x.position_fasttrack) \\\n",
    "                                                                else 1 if (x.x_num_dogs >= 8) & (x.position_fasttrack <= 3) \\\n",
    "                                                                    else 1 if (x.x_num_dogs >= 5) & (x.position_fasttrack <= 2) \\\n",
    "                                                                        else 0 if (x.x_num_dogs < 5) \\\n",
    "                                                                            else 0, axis = 1)\n",
    "df_eval_v2['h_ft_all_plc'] = df_eval_v2.apply( lambda x : 1 if ( x.ft_all_plc == 1 ) & ( x.position == 1 ) \\\n",
    "                                             else 0 if ( x.ft_all_plc == 1 ) & ( x.position > 1 ) \\\n",
    "                                             else 0 , axis = 1 )\n",
    "\n",
    "df_eval_v2['p_ft_all_plc'] = df_eval_v2.apply( lambda x : x.ft_sp - 1 if ( x.ft_all_plc == 1 ) & ( x.position == 1 ) \\\n",
    "                                             else -1 if ( x.ft_all_plc == 1 ) & ( x.position > 1 ) \\\n",
    "                                             else 0 , axis = 1 )\n",
    "\n",
    "print()\n",
    "print(datetime.now())\n",
    "\n",
    "# Laying Last \n",
    "df_eval_v2[\"ft_lay_last\"] = df_eval_v2.apply(lambda x : np.nan if pd.isna(x.position_fasttrack) \\\n",
    "                                                                else 1 if (x.x_num_dogs == x.position_fasttrack) \\\n",
    "                                                                   else 0, axis = 1)\n",
    "\n",
    "df_eval_v2['h_ft_lay_last'] = df_eval_v2.apply( lambda x : 1 if ( x.ft_lay_last == 1 ) & ( x.position > 1) \\\n",
    "                                             else 0 , axis = 1 )\n",
    "\n",
    "df_eval_v2['p_ft_lay_last'] = df_eval_v2.apply( lambda x : 1 if ( x.ft_lay_last == 1 ) & ( x.position > 1 ) \\\n",
    "                                             else -x.ft_sp*5 if ( x.ft_lay_last == 1 ) & ( x.position == 1 ) \\\n",
    "                                             else 0 , axis = 1 )\n",
    "\n",
    "print()\n",
    "print(datetime.now())\n",
    "#3Min runtime\n"
   ]
  },
  {
   "cell_type": "code",
   "execution_count": null,
   "id": "cb9a2c78-6bad-41e8-9d4a-28b898afcfc9",
   "metadata": {},
   "outputs": [],
   "source": [
    "\n",
    "# Strategies\n"
   ]
  },
  {
   "cell_type": "code",
   "execution_count": null,
   "id": "29ae5526-cdba-45e4-a656-d8be26862a0e",
   "metadata": {},
   "outputs": [],
   "source": [
    "\n",
    "# Bet on all Preds = s1\n",
    "df_eval_v2['s_1'] = df_eval_v2.apply( lambda x : 1 if x.position_preds == 1 else 0, axis = 1 )\n",
    "df_eval_v2['h_s_1'] = df_eval_v2.apply( lambda x : 1 if ( x.s_1 == 1 ) & ( x.position == 1 ) \\\n",
    "                                             else 0 if (x.s_1 == 1) & ( x.position > 1 )\\\n",
    "                                             else 0, axis = 1 )\n",
    "df_eval_v2['p_s_1'] = df_eval_v2.apply( lambda x : x.ft_sp - 1 if ( x.s_1 == 1 ) & ( x.position == 1 ) \\\n",
    "                                             else -1 if (x.s_1 == 1) & ( x.position > 1 )\\\n",
    "                                             else 0, axis = 1 )\n",
    "\n",
    "\n",
    "print()\n",
    "print(datetime.now())\n",
    "\n",
    "# Bet on all Place = s2\n",
    "#df_eval_v2['fs_2'] = df_eval_v2.apply(lambda x : 1 if x.position_preds <= 3 else 0, axis = 1)\n",
    "df_eval_v2[\"s_all_plc\"] = df_eval_v2.apply(lambda x : np.nan if pd.isna(x.position_preds) \\\n",
    "                                                                else 1 if (x.x_num_dogs >= 8) & (x.position_preds <= 3) \\\n",
    "                                                                    else 1 if (x.x_num_dogs >= 5) & (x.position_preds <= 2) \\\n",
    "                                                                        else 0 if (x.x_num_dogs < 5) \\\n",
    "                                                                            else 0, axis = 1)\n",
    "\n",
    "df_eval_v2['h_s_all_plc'] = df_eval_v2.apply( lambda x : 1 if ( x.s_all_plc == 1 ) & ( x.position == 1 ) \\\n",
    "                                             else 0 if ( x.s_all_plc == 1 ) & ( x.position > 1 ) \\\n",
    "                                             else 0 , axis = 1 )\n",
    "\n",
    "df_eval_v2['p_s_all_plc'] = df_eval_v2.apply( lambda x : x.ft_sp - 1 if ( x.s_all_plc == 1 ) & ( x.position == 1 ) \\\n",
    "                                             else -1 if ( x.s_all_plc == 1 ) & ( x.position > 1 ) \\\n",
    "                                             else 0 , axis = 1 )\n",
    "\n",
    "print()\n",
    "print(datetime.now())\n",
    "\n",
    "# Laying Last \n",
    "df_eval_v2[\"s_lay_last\"] = df_eval_v2.apply(lambda x : np.nan if pd.isna(x.position_fasttrack) \\\n",
    "                                                                else 1 if (x.x_num_dogs == x.position_fasttrack) \\\n",
    "                                                                   else 0, axis = 1)\n",
    "\n",
    "df_eval_v2['h_s_lay_last'] = df_eval_v2.apply( lambda x : 1 if ( x.s_lay_last == 1 ) & ( x.position > 1 ) \\\n",
    "                                             else 0 , axis = 1 )\n",
    "\n",
    "df_eval_v2['p_s_lay_last'] = df_eval_v2.apply( lambda x : 1 if ( x.s_lay_last == 1 ) & ( x.position > 1 ) \\\n",
    "                                             else -x.ft_sp*5 if ( x.s_lay_last == 1 ) & ( x.position == 1 ) \\\n",
    "                                             else 0 , axis = 1 )\n",
    "\n",
    "print()\n",
    "print(datetime.now())\n",
    "#3min runtime\n"
   ]
  },
  {
   "cell_type": "code",
   "execution_count": null,
   "id": "2bbc49d0-821c-497e-a021-9e273eca2902",
   "metadata": {},
   "outputs": [],
   "source": [
    "\n",
    "df_eval_v2.head()\n"
   ]
  },
  {
   "cell_type": "code",
   "execution_count": null,
   "id": "29a45830-ba67-41db-9c4d-4bb8272026c8",
   "metadata": {},
   "outputs": [],
   "source": [
    "\n",
    "pd.set_option('display.max_rows', 50)\n"
   ]
  },
  {
   "cell_type": "code",
   "execution_count": null,
   "id": "f4577069-4d35-4f9d-ae6f-3272a4d8de0f",
   "metadata": {},
   "outputs": [],
   "source": [
    "\n",
    "# Correlations\n"
   ]
  },
  {
   "cell_type": "code",
   "execution_count": null,
   "id": "38f00a71-d263-421d-9e7c-e112dc465dea",
   "metadata": {},
   "outputs": [],
   "source": [
    "\n",
    "print('Position vs Random')\n",
    "print(df_eval_v2['position'].corr( df_eval_v2['position_random'] ))\n",
    "print()\n",
    "\n",
    "print('Position vs Preds')\n",
    "print(df_eval_v2['position'].corr( df_eval_v2['position_preds'] ))\n",
    "print()\n",
    "\n",
    "print('Position vs FastTrack')\n",
    "print(df_eval_v2['position'].corr(df_eval_v2['position_fasttrack'] ))\n",
    "\n",
    "print()\n",
    "print()\n",
    "print('Preds vs Fasttrack')\n",
    "print(df_eval_v2['position_preds'].corr(df_eval_v2['position_fasttrack'] ))\n"
   ]
  },
  {
   "cell_type": "code",
   "execution_count": null,
   "id": "94102d2a-223a-4393-905e-143befa1f406",
   "metadata": {},
   "outputs": [],
   "source": [
    "\n",
    "# Classic overestimation of Placement problems -- placing top 3 for 8, and also 3 for 7,6,5,4,3,2,1 racers (fix)\n",
    "# Classic using WIN price for PLACE issue\n",
    "\n",
    "df_eval = df_eval_v2.groupby(['preds_tie','ttflag'])\\\n",
    ".agg({'ft_1':'sum', 'h_ft_1':'sum', 'p_ft_1':'sum', 'ft_all_plc':'sum', 'h_ft_all_plc':'sum', 'p_ft_all_plc':'sum', 'ft_lay_last':'sum', 'h_ft_lay_last':'sum', 'p_ft_lay_last':'sum' ''\\\n",
    "      , 's_1':'sum', 'h_s_1':'sum', 'p_s_1' :'sum' ,'s_all_plc':'sum', 'h_s_all_plc':'sum', 'p_s_all_plc':'sum', 's_lay_last':'sum', 'h_s_lay_last':'sum', 'p_s_lay_last':'sum'\\\n",
    "      , 'rand_1':'sum', 'h_rand_1':'sum', 'p_rand_1' :'sum' ,'rand_all_plc':'sum', 'h_rand_all_plc':'sum', 'p_rand_all_plc':'sum', 'rand_lay_last':'sum', 'h_rand_lay_last':'sum', 'p_rand_lay_last':'sum'\\\n",
    "      ,'@id_RACE':'nunique' })\\\n",
    ".reset_index()\\\n",
    ".transpose()\n"
   ]
  },
  {
   "cell_type": "code",
   "execution_count": null,
   "id": "c7d5b40f-70b3-450c-8323-15eeabdb288d",
   "metadata": {},
   "outputs": [],
   "source": [
    "\n",
    "df_eval\n"
   ]
  },
  {
   "cell_type": "code",
   "execution_count": null,
   "id": "959d5bd1-54f1-449f-bb96-34f6a92b5fff",
   "metadata": {},
   "outputs": [],
   "source": [
    "\n",
    "#df_eval.to_csv(f'{fileloc}/evaluation_2022-10-18_extended_totals.csv', index = True)\n",
    "#df_eval.to_csv(f'{fileloc}/evaluation_2022-10-27_extended_totals.csv', index = True)\n",
    "df_eval.to_csv(f'{fileloc}/evaluation_2022-11-24_extended_totals.csv', index = True)\n"
   ]
  },
  {
   "cell_type": "code",
   "execution_count": null,
   "id": "5eb1bc2c-3143-4eae-bbb3-9b70f8fa07b8",
   "metadata": {},
   "outputs": [],
   "source": [
    "\n",
    "df_res = df_eval_v2.groupby(['preds_tie','ttflag','Track','RaceGrade_H1'])\\\n",
    ".agg({'ft_1':'sum', 'h_ft_1':'sum', 'p_ft_1':'sum', 'ft_all_plc':'sum', 'h_ft_all_plc':'sum', 'p_ft_all_plc':'sum'\\\n",
    "      , 's_1':'sum', 'h_s_1':'sum', 'p_s_1' :'sum' ,'s_all_plc':'sum', 'h_s_all_plc':'sum', 'p_s_all_plc':'sum'\\\n",
    "      , 'rand_1':'sum', 'h_rand_1':'sum', 'p_rand_1' :'sum' ,'rand_all_plc':'sum', 'h_rand_all_plc':'sum', 'p_rand_all_plc':'sum'\\\n",
    "      ,'@id_RACE':'nunique' })\\\n",
    ".reset_index()\n"
   ]
  },
  {
   "cell_type": "code",
   "execution_count": null,
   "id": "0fcdd221-3e70-4130-8594-2c4463372a57",
   "metadata": {},
   "outputs": [],
   "source": [
    "\n",
    "df_res\n"
   ]
  },
  {
   "cell_type": "code",
   "execution_count": null,
   "id": "137ba52a-91dc-4078-baa6-e80fb04e16ba",
   "metadata": {},
   "outputs": [],
   "source": [
    "\n",
    "#df_res.to_csv(f'{fileloc}/evaluation_2022-10-18_extended_bytrack.csv', index = True)\n",
    "#df_res.to_csv(f'{fileloc}/evaluation_2022-10-27_extended_bytrack.csv', index = True)\n",
    "df_res.to_csv(f'{fileloc}/evaluation_2022-11-24_extended_bytrack.csv', index = True)\n"
   ]
  },
  {
   "cell_type": "code",
   "execution_count": 115,
   "id": "d01657aa-844f-4bc4-a9bf-1d533b63c6a5",
   "metadata": {},
   "outputs": [
    {
     "name": "stdout",
     "output_type": "stream",
     "text": [
      "THE END\n"
     ]
    }
   ],
   "source": [
    "\n",
    "print(\"THE END\")\n"
   ]
  },
  {
   "cell_type": "code",
   "execution_count": null,
   "id": "3f684c8b-4b68-4662-8e25-5818070d7656",
   "metadata": {},
   "outputs": [],
   "source": []
  }
 ],
 "metadata": {
  "kernelspec": {
   "display_name": "Python 3.8 - AzureML",
   "language": "python",
   "name": "python38-azureml"
  },
  "language_info": {
   "codemirror_mode": {
    "name": "ipython",
    "version": 3
   },
   "file_extension": ".py",
   "mimetype": "text/x-python",
   "name": "python",
   "nbconvert_exporter": "python",
   "pygments_lexer": "ipython3",
   "version": "3.8.5"
  }
 },
 "nbformat": 4,
 "nbformat_minor": 5
}
