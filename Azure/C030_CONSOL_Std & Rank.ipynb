{
 "cells": [
  {
   "cell_type": "code",
   "execution_count": null,
   "id": "cb585584-ccf5-4aa1-8f83-32ce55442a81",
   "metadata": {},
   "outputs": [],
   "source": []
  },
  {
   "cell_type": "markdown",
   "id": "20d15156-d40c-4adb-b8ad-9d9f9ad35e18",
   "metadata": {},
   "source": [
    "# CONSOLIDATE DatePrep"
   ]
  },
  {
   "cell_type": "code",
   "execution_count": null,
   "id": "ac0b3b5b-48bf-485c-83bd-97db741515f5",
   "metadata": {},
   "outputs": [],
   "source": [
    "\n",
    "#fileloc  = '/mnt/batch/tasks/shared/LS_root/mounts/clusters/compute-one/code/Users/karan.bhatti'\n",
    "fileloc  = '/mnt/batch/tasks/shared/LS_root/mounts/clusters/compute-one-8c-32gb/code/Users/karan.bhatti'\n",
    "\n",
    "import sys\n",
    "print(sys.path)\n",
    "print()\n",
    "#sys.path.append(f'{fileloc}')\n",
    "print()\n",
    "#print(sys.path)\n"
   ]
  },
  {
   "cell_type": "code",
   "execution_count": null,
   "id": "41e12f32-cddf-4b1b-a11b-523bd5150978",
   "metadata": {},
   "outputs": [],
   "source": [
    "\n",
    "class Data(object):\n",
    "    pass\n",
    "\n",
    "df = Data\n",
    "summ = Data\n"
   ]
  },
  {
   "cell_type": "code",
   "execution_count": null,
   "id": "91c0dfae-c116-4ecc-8ece-515ef84128f1",
   "metadata": {},
   "outputs": [],
   "source": [
    "import helpdesk as hd"
   ]
  },
  {
   "cell_type": "code",
   "execution_count": null,
   "id": "786aefbb-d314-49f9-ae4d-efdc11ddfde5",
   "metadata": {},
   "outputs": [],
   "source": [
    "\n",
    "import pandas as pd, numpy as np\n",
    "from datetime import datetime\n"
   ]
  },
  {
   "cell_type": "code",
   "execution_count": null,
   "id": "e27858ab-bed5-4392-adaa-7ab1699e4729",
   "metadata": {},
   "outputs": [],
   "source": [
    "\n",
    "DEBUG = True\n",
    "seed = 1919\n"
   ]
  },
  {
   "cell_type": "code",
   "execution_count": null,
   "id": "c9b3430a-b700-4589-beef-b9edc17f6ef2",
   "metadata": {},
   "outputs": [],
   "source": [
    "\n",
    "pd.set_option('display.max_rows', 50);\n",
    "pd.set_option('display.max_columns', 50);\n",
    "pd.set_option('display.width', 200);\n"
   ]
  },
  {
   "cell_type": "code",
   "execution_count": 8,
   "id": "6a5f2d81-23d1-4a9e-a2fa-ed8c5a048f05",
   "metadata": {},
   "outputs": [
    {
     "name": "stdout",
     "output_type": "stream",
     "text": [
      "(541552, 21)\n",
      "\n",
      "['@id_DOG', 'DogName', 'y_runtime', 'RaceId', '@id_RACE', 'Distance', 'RaceGrade', 'Track', 'Event_Dt', 'ft_sp', 'position', 'x_num_dogs', 'Winner_actual', 'Top3_actual', 'position_random', 'Winner_random', 'Top3_random', 'position_fasttrack', 'Winner_fastrack', 'Top3_fastrack', 'y_pos']\n"
     ]
    }
   ],
   "source": [
    "# Import the Base Dataset\n",
    "base_dataset_name = 'dataset_base_2022-11-19.csv'\n",
    "\n",
    "df_base_raw = pd.read_csv(f'{fileloc}/{base_dataset_name}')\n",
    "\n",
    "print(df_base_raw.shape)\n",
    "print()\n",
    "print(df_base_raw.columns.values.tolist())\n"
   ]
  },
  {
   "cell_type": "code",
   "execution_count": 9,
   "id": "e6006cf3-c819-4dda-97fc-e63bf4de0e49",
   "metadata": {},
   "outputs": [
    {
     "name": "stdout",
     "output_type": "stream",
     "text": [
      "   @id_DOG  DogName  y_runtime  RaceId  @id_RACE  Distance  RaceGrade  Track  Event_Dt  ft_sp  position  x_num_dogs  Winner_actual  Top3_actual  position_random  Winner_random  Top3_random  \\\n",
      "0        0        0          0       0         0         0          0      0         0      0         0           0              0            0                0              0            0   \n",
      "\n",
      "   position_fasttrack  Winner_fastrack  Top3_fastrack  y_pos  \n",
      "0                   0                0              0      0  \n"
     ]
    }
   ],
   "source": [
    "\n",
    "print(pd.DataFrame(df_base_raw.isna().sum()).transpose())\n"
   ]
  },
  {
   "cell_type": "code",
   "execution_count": 10,
   "id": "0fc3d9d6-2e27-48be-ae11-9d0e91d29348",
   "metadata": {},
   "outputs": [
    {
     "name": "stdout",
     "output_type": "stream",
     "text": [
      "(541552, 19)\n",
      "\n",
      "['@id_DOG', '@id_RACE', 'x_races_tot', 'x_dist_gp', 'x_runtm_gp', 'x_rtgp_prev', 'x_rtgp_avg', 'x_rtgp_min', 'x_rtgp_max', 'x_rtgp_range', 'x_rtgp_std', 'x_no_prev_races', 'x_speed_prev', 'x_speed_avg', 'x_speed_min', 'x_speed_max', 'x_speed_range', 'x_speed_std', 'x_no_prev_r_in_dist']\n"
     ]
    }
   ],
   "source": [
    "# Import the Speed Profile\n",
    "\n",
    "speed_profile_name = 'dataprep_speed_profile_2022-11-24.csv'\n",
    "\n",
    "df_speed_profile = pd.read_csv(f'{fileloc}/{speed_profile_name}')\n",
    "\n",
    "print(df_speed_profile.shape)\n",
    "print()\n",
    "print(df_speed_profile.columns.values.tolist())\n"
   ]
  },
  {
   "cell_type": "code",
   "execution_count": 11,
   "id": "af073315-0a6a-4871-bbb0-aeec0011c62f",
   "metadata": {},
   "outputs": [
    {
     "name": "stdout",
     "output_type": "stream",
     "text": [
      "   @id_DOG  @id_RACE  x_races_tot  x_dist_gp  x_runtm_gp  x_rtgp_prev  x_rtgp_avg  x_rtgp_min  x_rtgp_max  x_rtgp_range  x_rtgp_std  x_no_prev_races  x_speed_prev  x_speed_avg  x_speed_min  \\\n",
      "0        0         0            0          0           0            0           0           0           0             0           0                0             0            0            0   \n",
      "\n",
      "   x_speed_max  x_speed_range  x_speed_std  x_no_prev_r_in_dist  \n",
      "0            0              0            0                    0  \n"
     ]
    }
   ],
   "source": [
    "\n",
    "print(pd.DataFrame(df_speed_profile.isna().sum()).transpose())\n"
   ]
  },
  {
   "cell_type": "code",
   "execution_count": 12,
   "id": "2784e56a-7ba9-4b66-b549-5255353b9d10",
   "metadata": {},
   "outputs": [
    {
     "name": "stdout",
     "output_type": "stream",
     "text": [
      "(541552, 16)\n",
      "\n",
      "['@id_DOG', '@id_RACE', 'G5', 'G4', 'G3', 'G2', 'G1', 'Gmix', 'Gmas', 'Gmai', 'Gh', 'Gres', 'Gnov', 'Gsp', 'Gfin', 'RaceGrade_H1']\n"
     ]
    }
   ],
   "source": [
    "\n",
    "# Import the Race Profile\n",
    "race_profile_name = 'dataprep_raceprofile_2022-10-29.csv'\n",
    "\n",
    "df_race_profile = pd.read_csv(f'{fileloc}/{race_profile_name}')\n",
    "\n",
    "print(df_race_profile.shape)\n",
    "print()\n",
    "print(df_race_profile.columns.values.tolist())\n"
   ]
  },
  {
   "cell_type": "code",
   "execution_count": 13,
   "id": "119fa1e4-1b6d-4950-a348-2f11d07a2eca",
   "metadata": {},
   "outputs": [
    {
     "name": "stdout",
     "output_type": "stream",
     "text": [
      "(541552, 13)\n",
      "\n",
      "['@id_DOG', 'DogName', '@id_RACE', 'RaceName', 'Distance', 'x_dist_gp', 'dist300', 'dist350', 'dist400', 'dist450', 'dist500', 'dist600', 'dist700']\n"
     ]
    }
   ],
   "source": [
    "\n",
    "# Import the Race Profile\n",
    "dateprep_categorical = 'dataprep_categorical_2022-11-25.csv'\n",
    "\n",
    "df_categorical = pd.read_csv(f'{fileloc}/{dateprep_categorical}')\n",
    "\n",
    "print(df_categorical.shape)\n",
    "print()\n",
    "print(df_categorical.columns.values.tolist())\n"
   ]
  },
  {
   "cell_type": "code",
   "execution_count": 26,
   "id": "479b778b-1d10-444a-aed2-b762f2d53646",
   "metadata": {},
   "outputs": [
    {
     "name": "stdout",
     "output_type": "stream",
     "text": [
      "(541552, 21)\n",
      "(541552, 19)\n",
      "(541552, 16)\n",
      "\n",
      "\n",
      "(541552, 38)\n",
      "['@id_DOG', 'DogName', 'y_runtime', 'RaceId', '@id_RACE', 'Distance', 'RaceGrade', 'Track', 'Event_Dt', 'ft_sp', 'position', 'x_num_dogs', 'Winner_actual', 'Top3_actual', 'position_random', 'Winner_random', 'Top3_random', 'position_fasttrack', 'Winner_fastrack', 'Top3_fastrack', 'y_pos', 'x_races_tot', 'x_dist_gp', 'x_runtm_gp', 'x_rtgp_prev', 'x_rtgp_avg', 'x_rtgp_min', 'x_rtgp_max', 'x_rtgp_range', 'x_rtgp_std', 'x_no_prev_races', 'x_speed_prev', 'x_speed_avg', 'x_speed_min', 'x_speed_max', 'x_speed_range', 'x_speed_std', 'x_no_prev_r_in_dist']\n",
      "\n",
      "\n",
      "(541552, 52)\n",
      "['@id_DOG', 'DogName', 'y_runtime', 'RaceId', '@id_RACE', 'Distance', 'RaceGrade', 'Track', 'Event_Dt', 'ft_sp', 'position', 'x_num_dogs', 'Winner_actual', 'Top3_actual', 'position_random', 'Winner_random', 'Top3_random', 'position_fasttrack', 'Winner_fastrack', 'Top3_fastrack', 'y_pos', 'x_races_tot', 'x_dist_gp', 'x_runtm_gp', 'x_rtgp_prev', 'x_rtgp_avg', 'x_rtgp_min', 'x_rtgp_max', 'x_rtgp_range', 'x_rtgp_std', 'x_no_prev_races', 'x_speed_prev', 'x_speed_avg', 'x_speed_min', 'x_speed_max', 'x_speed_range', 'x_speed_std', 'x_no_prev_r_in_dist', 'G5', 'G4', 'G3', 'G2', 'G1', 'Gmix', 'Gmas', 'Gmai', 'Gh', 'Gres', 'Gnov', 'Gsp', 'Gfin', 'RaceGrade_H1']\n",
      "\n",
      "\n",
      "(541552, 60)\n",
      "['@id_DOG', 'DogName', 'y_runtime', 'RaceId', '@id_RACE', 'Distance', 'RaceGrade', 'Track', 'Event_Dt', 'ft_sp', 'position', 'x_num_dogs', 'Winner_actual', 'Top3_actual', 'position_random', 'Winner_random', 'Top3_random', 'position_fasttrack', 'Winner_fastrack', 'Top3_fastrack', 'y_pos', 'x_races_tot', 'x_dist_gp', 'x_runtm_gp', 'x_rtgp_prev', 'x_rtgp_avg', 'x_rtgp_min', 'x_rtgp_max', 'x_rtgp_range', 'x_rtgp_std', 'x_no_prev_races', 'x_speed_prev', 'x_speed_avg', 'x_speed_min', 'x_speed_max', 'x_speed_range', 'x_speed_std', 'x_no_prev_r_in_dist', 'G5', 'G4', 'G3', 'G2', 'G1', 'Gmix', 'Gmas', 'Gmai', 'Gh', 'Gres', 'Gnov', 'Gsp', 'Gfin', 'RaceGrade_H1', 'RaceName', 'dist300', 'dist350', 'dist400', 'dist450', 'dist500', 'dist600', 'dist700']\n"
     ]
    }
   ],
   "source": [
    "\n",
    "# Merge the datasets together\n",
    "print(df_base_raw.shape)\n",
    "print(df_speed_profile.shape)\n",
    "print(df_race_profile.shape)\n",
    "\n",
    "print()\n",
    "print()\n",
    "\n",
    "df_base0 = pd.merge( df_base_raw, df_speed_profile, on = ['@id_DOG','@id_RACE'], how = 'left')\n",
    "print(df_base0.shape)\n",
    "print(df_base0.columns.values.tolist())\n",
    "\n",
    "print()\n",
    "print()\n",
    "df_base1 = pd.merge( df_base0, df_race_profile, on = ['@id_DOG','@id_RACE'], how = 'left')\n",
    "print(df_base1.shape)\n",
    "print(df_base1.columns.values.tolist())\n",
    "\n",
    "print()\n",
    "print()\n",
    "df_base = pd.merge( df_base1, df_categorical.drop(columns = ['DogName','Distance','x_dist_gp']), on = ['@id_DOG','@id_RACE'], how = 'left')\n",
    "print(df_base.shape)\n",
    "print(df_base.columns.values.tolist())\n"
   ]
  },
  {
   "cell_type": "markdown",
   "id": "c6fd212a-e8c2-4e89-919b-6ff5da67b814",
   "metadata": {},
   "source": [
    "### Normalising the x_speed_prev in Each RaceId"
   ]
  },
  {
   "cell_type": "code",
   "execution_count": 15,
   "id": "542586a2-f2e0-41a3-aad6-ae4976b28d9b",
   "metadata": {},
   "outputs": [
    {
     "name": "stdout",
     "output_type": "stream",
     "text": [
      "2022-11-24 08:30:41.848751\n"
     ]
    }
   ],
   "source": [
    "\n",
    "\"\"\"\n",
    "NOTE:\n",
    "    When mean is 0 created flag - No Prev Races\n",
    "    When std is 0 create flag - No Std\n",
    "    \n",
    "Q Sau takke ka sawaal ? \n",
    "    Missing Norm values be replaced with 0 or 0.5.\n",
    "        Currently used 0.5    \n",
    "\n",
    "print(datetime.now())\n",
    "\n",
    "ds_norm = df_base1.groupby('@id_RACE')['x_speed_prev'].agg( ['mean','std'] ).reset_index().rename(columns = {'mean':'x_speed_prev_mean', 'std':'x_speed_prev_std'} )\n",
    "\n",
    "df_base1 = df_base1.merge( ds_norm , on = '@id_RACE' )\n",
    "df_base1['x_no_speed_prev_std'] = df_base1['x_speed_prev_std'].apply(lambda x : 1 if x == 0 else 0 )\n",
    "\n",
    "df_base1['x_speed_prev_norm'] = (df_base1['x_speed_prev'] - df_base1['x_speed_prev_mean']) / df_base1['x_speed_prev_std']\n",
    "df_base1['x_speed_prev_norm'] = df_base1.apply(lambda x : 0.5 if (x.x_speed_prev_mean == 0) | (x.x_speed_prev_std == 0) | (pd.isna(x.x_speed_prev_std)) else ( x.x_speed_prev - x.x_speed_prev_mean ) / x.x_speed_prev_std, axis = 1) \n",
    "#df_base1['x_speed_prev_norm'] = df_base1['x_speed_prev_norm'].fillna(0.5)\n",
    "\n",
    "\"\"\"\n",
    "\n",
    "print(datetime.now())\n"
   ]
  },
  {
   "cell_type": "code",
   "execution_count": 27,
   "id": "1f3369f7-5aa0-4588-9039-4ae578143b6a",
   "metadata": {},
   "outputs": [
    {
     "name": "stdout",
     "output_type": "stream",
     "text": [
      "   @id_DOG  DogName  y_runtime  RaceId  @id_RACE  Distance  RaceGrade  Track  Event_Dt  ft_sp  position  x_num_dogs  Winner_actual  Top3_actual  position_random  Winner_random  Top3_random  \\\n",
      "0        0        0          0       0         0         0          0      0         0      0         0           0              0            0                0              0            0   \n",
      "\n",
      "   position_fasttrack  Winner_fastrack  Top3_fastrack  y_pos  x_races_tot  x_dist_gp  x_runtm_gp  x_rtgp_prev  ...  x_speed_range  x_speed_std  x_no_prev_r_in_dist  G5  G4  G3  G2  G1  Gmix  Gmas  \\\n",
      "0                   0                0              0      0            0          0           0            0  ...              0            0                    0   0   0   0   0   0     0     0   \n",
      "\n",
      "   Gmai  Gh  Gres  Gnov  Gsp  Gfin  RaceGrade_H1  RaceName  dist300  dist350  dist400  dist450  dist500  dist600  dist700  \n",
      "0     0   0     0     0    0     0             0        15        0        0        0        0        0        0        0  \n",
      "\n",
      "[1 rows x 60 columns]\n"
     ]
    }
   ],
   "source": [
    "\n",
    "# QC the Transformation\n",
    "\n",
    "print(pd.DataFrame(df_base.isna().sum()).transpose())\n",
    "\n",
    "#df_base2.groupby('x_no_prev_races')['x_speed_prev_std'].isna().sum()\n",
    "#df_base2.groupby('x_no_prev_races')[['x_speed_prev_mean', 'x_speed_prev_std']].apply(lambda x: x.isna().sum())\n",
    "#df_base1.groupby(['x_no_prev_races','x_no_speed_prev_std'])[['x_speed_prev_mean', 'x_speed_prev_std']].apply(lambda x: x.eq(0).sum())\n"
   ]
  },
  {
   "cell_type": "code",
   "execution_count": 28,
   "id": "405b36f3-42b9-4d9a-b982-3ff37635a459",
   "metadata": {},
   "outputs": [
    {
     "data": {
      "text/plain": [
       "<matplotlib.axes._subplots.AxesSubplot at 0x7f9efdabb5e0>"
      ]
     },
     "execution_count": 28,
     "metadata": {},
     "output_type": "execute_result"
    },
    {
     "data": {
      "image/png": "[encoded data removed]",
      "text/plain": [
       "<Figure size 1728x576 with 1 Axes>"
      ]
     },
     "metadata": {
      "needs_background": "light"
     },
     "output_type": "display_data"
    }
   ],
   "source": [
    "\n",
    "#df_base1['x_rtgp_prev'].plot( kind='density', legend=True, figsize = (24,8) )\n",
    "df_base['x_rtgp_avg'].plot( kind='density', legend=True, figsize = (24,8) )\n"
   ]
  },
  {
   "cell_type": "code",
   "execution_count": 29,
   "id": "5d32a27b-4009-4ac6-9b1e-7097a8754f9c",
   "metadata": {},
   "outputs": [
    {
     "name": "stdout",
     "output_type": "stream",
     "text": [
      "2022-11-25 05:52:53.043803\n",
      "x_races_tot_mean x_races_tot_std x_races_tot_norm\n",
      "x_speed_prev_mean x_speed_prev_std x_speed_prev_norm\n",
      "x_speed_avg_mean x_speed_avg_std x_speed_avg_norm\n",
      "x_speed_min_mean x_speed_min_std x_speed_min_norm\n",
      "x_speed_max_mean x_speed_max_std x_speed_max_norm\n",
      "x_speed_range_mean x_speed_range_std x_speed_range_norm\n",
      "x_rtgp_prev_mean x_rtgp_prev_std x_rtgp_prev_norm\n",
      "x_rtgp_avg_mean x_rtgp_avg_std x_rtgp_avg_norm\n",
      "x_rtgp_min_mean x_rtgp_min_std x_rtgp_min_norm\n",
      "x_rtgp_max_mean x_rtgp_max_std x_rtgp_max_norm\n",
      "x_rtgp_range_mean x_rtgp_range_std x_rtgp_range_norm\n",
      "2022-11-25 05:55:11.784888\n"
     ]
    }
   ],
   "source": [
    "\n",
    "# Normalising multiple columns in loop\n",
    "\n",
    "print(datetime.now())\n",
    "\n",
    "cols_to_norm = ['x_races_tot' \\\n",
    "                , 'x_speed_prev' ,'x_speed_avg' ,'x_speed_min' ,'x_speed_max' ,'x_speed_range'\\\n",
    "                , 'x_rtgp_prev', 'x_rtgp_avg', 'x_rtgp_min', 'x_rtgp_max', 'x_rtgp_range']\n",
    "\n",
    "for curr_col in cols_to_norm:\n",
    "    \n",
    "    mean_name = curr_col + '_mean'\n",
    "    std_name = curr_col + '_std'\n",
    "    no_std_name = curr_col + '_std' + '_no'\n",
    "    norm_name = curr_col + '_norm'\n",
    "    \n",
    "    print(mean_name, std_name, norm_name)\n",
    "\n",
    "    ds_norm = df_base.groupby('@id_RACE')[curr_col].agg(['mean','std']).reset_index().rename(columns = {'mean':mean_name, 'std':std_name})\n",
    "\n",
    "    df_base = df_base.merge(ds_norm , on = '@id_RACE')\n",
    "    df_base[no_std_name] = df_base[std_name].apply(lambda x : 1 if x == 0 else 0)\n",
    "\n",
    "    #df_base[norm_name] = (df_base[curr_col] - df_base[mean_name]) / df_base[std_name]\n",
    "    #df_base['x_speed_prev_norm'] = df_base.apply(lambda x : 0.5 if (x.x_speed_prev_mean == 0) | (x.x_speed_prev_std == 0) | (pd.isna(x.x_speed_prev_std)) else ( x.x_speed_prev - x.x_speed_prev_mean ) / x.x_speed_prev_std, axis = 1)\n",
    "    df_base[norm_name] = df_base.apply(lambda x : 0.5 if (x[mean_name] == 0) | (x[std_name] == 0) | (pd.isna(x[std_name])) else ( x[curr_col] - x[mean_name] ) / x[std_name], axis = 1)\n",
    "    #df_base[norm_name] = df_base[norm_name].fillna(0.5)\n",
    "    \n",
    "    df_base.drop(columns = [mean_name, std_name, no_std_name], inplace = True)\n",
    "\n",
    "print(datetime.now())\n"
   ]
  },
  {
   "cell_type": "code",
   "execution_count": 30,
   "id": "868ac9b8-2a7a-4e50-bfe6-027af2d4549d",
   "metadata": {},
   "outputs": [
    {
     "name": "stdout",
     "output_type": "stream",
     "text": [
      "['@id_DOG', 'DogName', 'y_runtime', 'RaceId', '@id_RACE', 'Distance', 'RaceGrade', 'Track', 'Event_Dt', 'ft_sp', 'position', 'x_num_dogs', 'Winner_actual', 'Top3_actual', 'position_random', 'Winner_random', 'Top3_random', 'position_fasttrack', 'Winner_fastrack', 'Top3_fastrack', 'y_pos', 'x_races_tot', 'x_dist_gp', 'x_runtm_gp', 'x_rtgp_prev', 'x_rtgp_avg', 'x_rtgp_min', 'x_rtgp_max', 'x_rtgp_range', 'x_rtgp_std', 'x_no_prev_races', 'x_speed_prev', 'x_speed_avg', 'x_speed_min', 'x_speed_max', 'x_speed_range', 'x_speed_std', 'x_no_prev_r_in_dist', 'G5', 'G4', 'G3', 'G2', 'G1', 'Gmix', 'Gmas', 'Gmai', 'Gh', 'Gres', 'Gnov', 'Gsp', 'Gfin', 'RaceGrade_H1', 'RaceName', 'dist300', 'dist350', 'dist400', 'dist450', 'dist500', 'dist600', 'dist700', 'x_races_tot_norm', 'x_speed_prev_norm', 'x_speed_avg_norm', 'x_speed_min_norm', 'x_speed_max_norm', 'x_speed_range_norm', 'x_rtgp_prev_norm', 'x_rtgp_avg_norm', 'x_rtgp_min_norm', 'x_rtgp_max_norm', 'x_rtgp_range_norm']\n"
     ]
    }
   ],
   "source": [
    "\n",
    "print(df_base.columns.values.tolist())\n"
   ]
  },
  {
   "cell_type": "code",
   "execution_count": 31,
   "id": "ad5d2734-e03c-43dc-8c52-67d738d744f9",
   "metadata": {},
   "outputs": [
    {
     "data": {
      "text/plain": [
       "<matplotlib.axes._subplots.AxesSubplot at 0x7f9f36f08d30>"
      ]
     },
     "execution_count": 31,
     "metadata": {},
     "output_type": "execute_result"
    },
    {
     "data": {
      "image/png": "[encoded data removed]",
      "text/plain": [
       "<Figure size 1728x576 with 1 Axes>"
      ]
     },
     "metadata": {
      "needs_background": "light"
     },
     "output_type": "display_data"
    }
   ],
   "source": [
    "\n",
    "#df_base['x_races_tot_norm'].plot( kind='density', legend=True, figsize = (24,8) )\n",
    "#df_base['x_rtgp_avg_norm'].plot( kind='density', legend=True, figsize = (24,8) )\n",
    "df_base['x_rtgp_max_norm'].plot( kind='density', legend=True, figsize = (24,8) )\n"
   ]
  },
  {
   "cell_type": "code",
   "execution_count": 32,
   "id": "a0ba0d70-4bb0-466f-9dab-bbcd0f358bf6",
   "metadata": {},
   "outputs": [],
   "source": [
    "\n",
    "#keep_cols_for_export = ['@id_DOG', 'DogName', '@id_RACE','RaceName','Track','RaceGrade','Distance','TrainerName','RunTime','Place','x_races_tot']\n",
    "\n",
    "# 'TrainerName', 'Track' have been dummified\n",
    "#cols_to_keep = ['@id_DOG', 'DogName', 'y_runtime', 'RaceId', '@id_RACE', 'position', 'ft_sp', 'x_num_dogs', 'Top3_actual', 'position_random', 'position_fasttrack', 'Winner_fastrack', 'Top3_fastrack', 'Winner_actual', 'Winner_random', 'Top3_random']\n",
    "\n",
    "cols_for_drop = []\n",
    "\n",
    "#'Event_Dt', \n",
    "\n",
    "todaydt = datetime.now().date()\n",
    "exp_fname = f'modeling_base_{todaydt}.csv'\n",
    "\n",
    "exp_ds = df_base.drop(columns = cols_for_drop)\n"
   ]
  },
  {
   "cell_type": "code",
   "execution_count": 33,
   "id": "d9e85933-a467-48de-8013-3f2811202760",
   "metadata": {},
   "outputs": [
    {
     "name": "stdout",
     "output_type": "stream",
     "text": [
      "['@id_DOG', 'DogName', 'y_runtime', 'RaceId', '@id_RACE', 'Distance', 'RaceGrade', 'Track', 'Event_Dt', 'ft_sp', 'position', 'x_num_dogs', 'Winner_actual', 'Top3_actual', 'position_random', 'Winner_random', 'Top3_random', 'position_fasttrack', 'Winner_fastrack', 'Top3_fastrack', 'y_pos', 'x_races_tot', 'x_dist_gp', 'x_runtm_gp', 'x_rtgp_prev', 'x_rtgp_avg', 'x_rtgp_min', 'x_rtgp_max', 'x_rtgp_range', 'x_rtgp_std', 'x_no_prev_races', 'x_speed_prev', 'x_speed_avg', 'x_speed_min', 'x_speed_max', 'x_speed_range', 'x_speed_std', 'x_no_prev_r_in_dist', 'G5', 'G4', 'G3', 'G2', 'G1', 'Gmix', 'Gmas', 'Gmai', 'Gh', 'Gres', 'Gnov', 'Gsp', 'Gfin', 'RaceGrade_H1', 'RaceName', 'dist300', 'dist350', 'dist400', 'dist450', 'dist500', 'dist600', 'dist700', 'x_races_tot_norm', 'x_speed_prev_norm', 'x_speed_avg_norm', 'x_speed_min_norm', 'x_speed_max_norm', 'x_speed_range_norm', 'x_rtgp_prev_norm', 'x_rtgp_avg_norm', 'x_rtgp_min_norm', 'x_rtgp_max_norm', 'x_rtgp_range_norm']\n"
     ]
    }
   ],
   "source": [
    "\n",
    "print(exp_ds.columns.values.tolist())\n"
   ]
  },
  {
   "cell_type": "code",
   "execution_count": 34,
   "id": "8d2e923c-9c94-4847-a9bb-89b3a95def7b",
   "metadata": {},
   "outputs": [
    {
     "data": {
      "text/html": [
       "<div>\n",
       "<style scoped>\n",
       "    .dataframe tbody tr th:only-of-type {\n",
       "        vertical-align: middle;\n",
       "    }\n",
       "\n",
       "    .dataframe tbody tr th {\n",
       "        vertical-align: top;\n",
       "    }\n",
       "\n",
       "    .dataframe thead th {\n",
       "        text-align: right;\n",
       "    }\n",
       "</style>\n",
       "<table border=\"1\" class=\"dataframe\">\n",
       "  <thead>\n",
       "    <tr style=\"text-align: right;\">\n",
       "      <th></th>\n",
       "      <th>@id_DOG</th>\n",
       "      <th>DogName</th>\n",
       "      <th>y_runtime</th>\n",
       "      <th>RaceId</th>\n",
       "      <th>@id_RACE</th>\n",
       "      <th>Distance</th>\n",
       "      <th>RaceGrade</th>\n",
       "      <th>Track</th>\n",
       "      <th>Event_Dt</th>\n",
       "      <th>ft_sp</th>\n",
       "      <th>position</th>\n",
       "      <th>x_num_dogs</th>\n",
       "      <th>Winner_actual</th>\n",
       "      <th>Top3_actual</th>\n",
       "      <th>position_random</th>\n",
       "      <th>Winner_random</th>\n",
       "      <th>Top3_random</th>\n",
       "      <th>position_fasttrack</th>\n",
       "      <th>Winner_fastrack</th>\n",
       "      <th>Top3_fastrack</th>\n",
       "      <th>y_pos</th>\n",
       "      <th>x_races_tot</th>\n",
       "      <th>x_dist_gp</th>\n",
       "      <th>x_runtm_gp</th>\n",
       "      <th>x_rtgp_prev</th>\n",
       "      <th>...</th>\n",
       "      <th>Gh</th>\n",
       "      <th>Gres</th>\n",
       "      <th>Gnov</th>\n",
       "      <th>Gsp</th>\n",
       "      <th>Gfin</th>\n",
       "      <th>RaceGrade_H1</th>\n",
       "      <th>RaceName</th>\n",
       "      <th>dist300</th>\n",
       "      <th>dist350</th>\n",
       "      <th>dist400</th>\n",
       "      <th>dist450</th>\n",
       "      <th>dist500</th>\n",
       "      <th>dist600</th>\n",
       "      <th>dist700</th>\n",
       "      <th>x_races_tot_norm</th>\n",
       "      <th>x_speed_prev_norm</th>\n",
       "      <th>x_speed_avg_norm</th>\n",
       "      <th>x_speed_min_norm</th>\n",
       "      <th>x_speed_max_norm</th>\n",
       "      <th>x_speed_range_norm</th>\n",
       "      <th>x_rtgp_prev_norm</th>\n",
       "      <th>x_rtgp_avg_norm</th>\n",
       "      <th>x_rtgp_min_norm</th>\n",
       "      <th>x_rtgp_max_norm</th>\n",
       "      <th>x_rtgp_range_norm</th>\n",
       "    </tr>\n",
       "  </thead>\n",
       "  <tbody>\n",
       "    <tr>\n",
       "      <th>541547</th>\n",
       "      <td>1478450099</td>\n",
       "      <td>BAD BOY DELLY</td>\n",
       "      <td>16.39</td>\n",
       "      <td>626240615</td>\n",
       "      <td>626240615</td>\n",
       "      <td>272m</td>\n",
       "      <td>Non Graded</td>\n",
       "      <td>The Gardens</td>\n",
       "      <td>2021-01-02</td>\n",
       "      <td>34.00</td>\n",
       "      <td>4</td>\n",
       "      <td>6</td>\n",
       "      <td>0</td>\n",
       "      <td>0</td>\n",
       "      <td>1.0</td>\n",
       "      <td>1</td>\n",
       "      <td>1</td>\n",
       "      <td>4.0</td>\n",
       "      <td>0</td>\n",
       "      <td>0</td>\n",
       "      <td>4</td>\n",
       "      <td>0</td>\n",
       "      <td>300</td>\n",
       "      <td>18.077206</td>\n",
       "      <td>0.0</td>\n",
       "      <td>...</td>\n",
       "      <td>0</td>\n",
       "      <td>0</td>\n",
       "      <td>0</td>\n",
       "      <td>0</td>\n",
       "      <td>0</td>\n",
       "      <td>Other</td>\n",
       "      <td>AWESOME PROJECT 5 &amp; UP</td>\n",
       "      <td>1</td>\n",
       "      <td>0</td>\n",
       "      <td>0</td>\n",
       "      <td>0</td>\n",
       "      <td>0</td>\n",
       "      <td>0</td>\n",
       "      <td>0</td>\n",
       "      <td>0.5</td>\n",
       "      <td>0.5</td>\n",
       "      <td>0.5</td>\n",
       "      <td>0.5</td>\n",
       "      <td>0.5</td>\n",
       "      <td>0.5</td>\n",
       "      <td>0.5</td>\n",
       "      <td>0.5</td>\n",
       "      <td>0.5</td>\n",
       "      <td>0.5</td>\n",
       "      <td>0.5</td>\n",
       "    </tr>\n",
       "    <tr>\n",
       "      <th>541548</th>\n",
       "      <td>1701190008</td>\n",
       "      <td>SWIZZ ROLL CLOUD</td>\n",
       "      <td>15.87</td>\n",
       "      <td>626240615</td>\n",
       "      <td>626240615</td>\n",
       "      <td>272m</td>\n",
       "      <td>Non Graded</td>\n",
       "      <td>The Gardens</td>\n",
       "      <td>2021-01-02</td>\n",
       "      <td>3.80</td>\n",
       "      <td>1</td>\n",
       "      <td>6</td>\n",
       "      <td>1</td>\n",
       "      <td>1</td>\n",
       "      <td>2.0</td>\n",
       "      <td>0</td>\n",
       "      <td>1</td>\n",
       "      <td>2.0</td>\n",
       "      <td>0</td>\n",
       "      <td>1</td>\n",
       "      <td>1</td>\n",
       "      <td>0</td>\n",
       "      <td>300</td>\n",
       "      <td>17.503676</td>\n",
       "      <td>0.0</td>\n",
       "      <td>...</td>\n",
       "      <td>0</td>\n",
       "      <td>0</td>\n",
       "      <td>0</td>\n",
       "      <td>0</td>\n",
       "      <td>0</td>\n",
       "      <td>Other</td>\n",
       "      <td>AWESOME PROJECT 5 &amp; UP</td>\n",
       "      <td>1</td>\n",
       "      <td>0</td>\n",
       "      <td>0</td>\n",
       "      <td>0</td>\n",
       "      <td>0</td>\n",
       "      <td>0</td>\n",
       "      <td>0</td>\n",
       "      <td>0.5</td>\n",
       "      <td>0.5</td>\n",
       "      <td>0.5</td>\n",
       "      <td>0.5</td>\n",
       "      <td>0.5</td>\n",
       "      <td>0.5</td>\n",
       "      <td>0.5</td>\n",
       "      <td>0.5</td>\n",
       "      <td>0.5</td>\n",
       "      <td>0.5</td>\n",
       "      <td>0.5</td>\n",
       "    </tr>\n",
       "    <tr>\n",
       "      <th>541549</th>\n",
       "      <td>1907950051</td>\n",
       "      <td>ALDERLEY ROX</td>\n",
       "      <td>16.84</td>\n",
       "      <td>626240615</td>\n",
       "      <td>626240615</td>\n",
       "      <td>272m</td>\n",
       "      <td>Non Graded</td>\n",
       "      <td>The Gardens</td>\n",
       "      <td>2021-01-02</td>\n",
       "      <td>101.00</td>\n",
       "      <td>6</td>\n",
       "      <td>6</td>\n",
       "      <td>0</td>\n",
       "      <td>0</td>\n",
       "      <td>6.0</td>\n",
       "      <td>0</td>\n",
       "      <td>0</td>\n",
       "      <td>6.0</td>\n",
       "      <td>0</td>\n",
       "      <td>0</td>\n",
       "      <td>6</td>\n",
       "      <td>0</td>\n",
       "      <td>300</td>\n",
       "      <td>18.573529</td>\n",
       "      <td>0.0</td>\n",
       "      <td>...</td>\n",
       "      <td>0</td>\n",
       "      <td>0</td>\n",
       "      <td>0</td>\n",
       "      <td>0</td>\n",
       "      <td>0</td>\n",
       "      <td>Other</td>\n",
       "      <td>AWESOME PROJECT 5 &amp; UP</td>\n",
       "      <td>1</td>\n",
       "      <td>0</td>\n",
       "      <td>0</td>\n",
       "      <td>0</td>\n",
       "      <td>0</td>\n",
       "      <td>0</td>\n",
       "      <td>0</td>\n",
       "      <td>0.5</td>\n",
       "      <td>0.5</td>\n",
       "      <td>0.5</td>\n",
       "      <td>0.5</td>\n",
       "      <td>0.5</td>\n",
       "      <td>0.5</td>\n",
       "      <td>0.5</td>\n",
       "      <td>0.5</td>\n",
       "      <td>0.5</td>\n",
       "      <td>0.5</td>\n",
       "      <td>0.5</td>\n",
       "    </tr>\n",
       "    <tr>\n",
       "      <th>541550</th>\n",
       "      <td>2035650008</td>\n",
       "      <td>ALPINE LITTLE</td>\n",
       "      <td>15.95</td>\n",
       "      <td>626240615</td>\n",
       "      <td>626240615</td>\n",
       "      <td>272m</td>\n",
       "      <td>Non Graded</td>\n",
       "      <td>The Gardens</td>\n",
       "      <td>2021-01-02</td>\n",
       "      <td>1.55</td>\n",
       "      <td>2</td>\n",
       "      <td>6</td>\n",
       "      <td>0</td>\n",
       "      <td>1</td>\n",
       "      <td>3.0</td>\n",
       "      <td>0</td>\n",
       "      <td>1</td>\n",
       "      <td>1.0</td>\n",
       "      <td>1</td>\n",
       "      <td>1</td>\n",
       "      <td>2</td>\n",
       "      <td>0</td>\n",
       "      <td>300</td>\n",
       "      <td>17.591912</td>\n",
       "      <td>0.0</td>\n",
       "      <td>...</td>\n",
       "      <td>0</td>\n",
       "      <td>0</td>\n",
       "      <td>0</td>\n",
       "      <td>0</td>\n",
       "      <td>0</td>\n",
       "      <td>Other</td>\n",
       "      <td>AWESOME PROJECT 5 &amp; UP</td>\n",
       "      <td>1</td>\n",
       "      <td>0</td>\n",
       "      <td>0</td>\n",
       "      <td>0</td>\n",
       "      <td>0</td>\n",
       "      <td>0</td>\n",
       "      <td>0</td>\n",
       "      <td>0.5</td>\n",
       "      <td>0.5</td>\n",
       "      <td>0.5</td>\n",
       "      <td>0.5</td>\n",
       "      <td>0.5</td>\n",
       "      <td>0.5</td>\n",
       "      <td>0.5</td>\n",
       "      <td>0.5</td>\n",
       "      <td>0.5</td>\n",
       "      <td>0.5</td>\n",
       "      <td>0.5</td>\n",
       "    </tr>\n",
       "    <tr>\n",
       "      <th>541551</th>\n",
       "      <td>2116930017</td>\n",
       "      <td>MY RAINMAKER</td>\n",
       "      <td>16.57</td>\n",
       "      <td>626240615</td>\n",
       "      <td>626240615</td>\n",
       "      <td>272m</td>\n",
       "      <td>Non Graded</td>\n",
       "      <td>The Gardens</td>\n",
       "      <td>2021-01-02</td>\n",
       "      <td>81.00</td>\n",
       "      <td>5</td>\n",
       "      <td>6</td>\n",
       "      <td>0</td>\n",
       "      <td>0</td>\n",
       "      <td>5.0</td>\n",
       "      <td>0</td>\n",
       "      <td>0</td>\n",
       "      <td>5.0</td>\n",
       "      <td>0</td>\n",
       "      <td>0</td>\n",
       "      <td>5</td>\n",
       "      <td>0</td>\n",
       "      <td>300</td>\n",
       "      <td>18.275735</td>\n",
       "      <td>0.0</td>\n",
       "      <td>...</td>\n",
       "      <td>0</td>\n",
       "      <td>0</td>\n",
       "      <td>0</td>\n",
       "      <td>0</td>\n",
       "      <td>0</td>\n",
       "      <td>Other</td>\n",
       "      <td>AWESOME PROJECT 5 &amp; UP</td>\n",
       "      <td>1</td>\n",
       "      <td>0</td>\n",
       "      <td>0</td>\n",
       "      <td>0</td>\n",
       "      <td>0</td>\n",
       "      <td>0</td>\n",
       "      <td>0</td>\n",
       "      <td>0.5</td>\n",
       "      <td>0.5</td>\n",
       "      <td>0.5</td>\n",
       "      <td>0.5</td>\n",
       "      <td>0.5</td>\n",
       "      <td>0.5</td>\n",
       "      <td>0.5</td>\n",
       "      <td>0.5</td>\n",
       "      <td>0.5</td>\n",
       "      <td>0.5</td>\n",
       "      <td>0.5</td>\n",
       "    </tr>\n",
       "  </tbody>\n",
       "</table>\n",
       "<p>5 rows × 71 columns</p>\n",
       "</div>"
      ],
      "text/plain": [
       "           @id_DOG           DogName  y_runtime     RaceId   @id_RACE Distance   RaceGrade        Track    Event_Dt   ft_sp  position  x_num_dogs  Winner_actual  Top3_actual  position_random  \\\n",
       "541547  1478450099     BAD BOY DELLY      16.39  626240615  626240615     272m  Non Graded  The Gardens  2021-01-02   34.00         4           6              0            0              1.0   \n",
       "541548  1701190008  SWIZZ ROLL CLOUD      15.87  626240615  626240615     272m  Non Graded  The Gardens  2021-01-02    3.80         1           6              1            1              2.0   \n",
       "541549  1907950051      ALDERLEY ROX      16.84  626240615  626240615     272m  Non Graded  The Gardens  2021-01-02  101.00         6           6              0            0              6.0   \n",
       "541550  2035650008     ALPINE LITTLE      15.95  626240615  626240615     272m  Non Graded  The Gardens  2021-01-02    1.55         2           6              0            1              3.0   \n",
       "541551  2116930017      MY RAINMAKER      16.57  626240615  626240615     272m  Non Graded  The Gardens  2021-01-02   81.00         5           6              0            0              5.0   \n",
       "\n",
       "        Winner_random  Top3_random  position_fasttrack  Winner_fastrack  Top3_fastrack  y_pos  x_races_tot  x_dist_gp  x_runtm_gp  x_rtgp_prev  ...  Gh  Gres  Gnov  Gsp  Gfin  RaceGrade_H1  \\\n",
       "541547              1            1                 4.0                0              0      4            0        300   18.077206          0.0  ...   0     0     0    0     0         Other   \n",
       "541548              0            1                 2.0                0              1      1            0        300   17.503676          0.0  ...   0     0     0    0     0         Other   \n",
       "541549              0            0                 6.0                0              0      6            0        300   18.573529          0.0  ...   0     0     0    0     0         Other   \n",
       "541550              0            1                 1.0                1              1      2            0        300   17.591912          0.0  ...   0     0     0    0     0         Other   \n",
       "541551              0            0                 5.0                0              0      5            0        300   18.275735          0.0  ...   0     0     0    0     0         Other   \n",
       "\n",
       "                      RaceName  dist300  dist350  dist400  dist450  dist500  dist600  dist700  x_races_tot_norm  x_speed_prev_norm  x_speed_avg_norm  x_speed_min_norm  x_speed_max_norm  \\\n",
       "541547  AWESOME PROJECT 5 & UP        1        0        0        0        0        0        0               0.5                0.5               0.5               0.5               0.5   \n",
       "541548  AWESOME PROJECT 5 & UP        1        0        0        0        0        0        0               0.5                0.5               0.5               0.5               0.5   \n",
       "541549  AWESOME PROJECT 5 & UP        1        0        0        0        0        0        0               0.5                0.5               0.5               0.5               0.5   \n",
       "541550  AWESOME PROJECT 5 & UP        1        0        0        0        0        0        0               0.5                0.5               0.5               0.5               0.5   \n",
       "541551  AWESOME PROJECT 5 & UP        1        0        0        0        0        0        0               0.5                0.5               0.5               0.5               0.5   \n",
       "\n",
       "        x_speed_range_norm  x_rtgp_prev_norm  x_rtgp_avg_norm  x_rtgp_min_norm  x_rtgp_max_norm  x_rtgp_range_norm  \n",
       "541547                 0.5               0.5              0.5              0.5              0.5                0.5  \n",
       "541548                 0.5               0.5              0.5              0.5              0.5                0.5  \n",
       "541549                 0.5               0.5              0.5              0.5              0.5                0.5  \n",
       "541550                 0.5               0.5              0.5              0.5              0.5                0.5  \n",
       "541551                 0.5               0.5              0.5              0.5              0.5                0.5  \n",
       "\n",
       "[5 rows x 71 columns]"
      ]
     },
     "execution_count": 34,
     "metadata": {},
     "output_type": "execute_result"
    }
   ],
   "source": [
    "\n",
    "exp_ds.tail()\n"
   ]
  },
  {
   "cell_type": "code",
   "execution_count": null,
   "id": "78526600-cc75-439f-887a-9b669193d294",
   "metadata": {},
   "outputs": [],
   "source": [
    "\n",
    "exp_ds.describe()\n"
   ]
  },
  {
   "cell_type": "code",
   "execution_count": 35,
   "id": "d82e1ee3-6b4c-4126-9780-23cb1dc081e4",
   "metadata": {},
   "outputs": [
    {
     "name": "stdout",
     "output_type": "stream",
     "text": [
      "2022-11-25 06:00:14.134800\n"
     ]
    }
   ],
   "source": [
    "\n",
    "exp_ds.to_csv(f'{fileloc}/{exp_fname}', index = False)\n",
    "\n",
    "print(datetime.now())\n"
   ]
  },
  {
   "cell_type": "code",
   "execution_count": null,
   "id": "b8617e2e-cd67-49cc-b1a0-bb2468b734d6",
   "metadata": {},
   "outputs": [],
   "source": [
    "\n",
    "print(\"THE END\")\n"
   ]
  },
  {
   "cell_type": "code",
   "execution_count": null,
   "id": "94a2782f-1539-4839-a59d-6afeac9ff3d7",
   "metadata": {},
   "outputs": [],
   "source": []
  }
 ],
 "metadata": {
  "kernelspec": {
   "display_name": "Python 3.8 - AzureML",
   "language": "python",
   "name": "python38-azureml"
  },
  "language_info": {
   "codemirror_mode": {
    "name": "ipython",
    "version": 3
   },
   "file_extension": ".py",
   "mimetype": "text/x-python",
   "name": "python",
   "nbconvert_exporter": "python",
   "pygments_lexer": "ipython3",
   "version": "3.8.5"
  }
 },
 "nbformat": 4,
 "nbformat_minor": 5
}
