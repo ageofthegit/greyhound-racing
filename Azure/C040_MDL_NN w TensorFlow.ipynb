{
 "cells": [
  {
   "cell_type": "code",
   "execution_count": null,
   "id": "cb585584-ccf5-4aa1-8f83-32ce55442a81",
   "metadata": {},
   "outputs": [],
   "source": []
  },
  {
   "cell_type": "markdown",
   "id": "20d15156-d40c-4adb-b8ad-9d9f9ad35e18",
   "metadata": {},
   "source": [
    "# Tensorflow Regression"
   ]
  },
  {
   "cell_type": "code",
   "execution_count": 1,
   "id": "ac0b3b5b-48bf-485c-83bd-97db741515f5",
   "metadata": {},
   "outputs": [
    {
     "name": "stdout",
     "output_type": "stream",
     "text": [
      "['/mnt/batch/tasks/shared/LS_root/mounts/clusters/compute-one/code/Users/karan.bhatti', '/anaconda/envs/azureml_py38_PT_TF/lib/python38.zip', '/anaconda/envs/azureml_py38_PT_TF/lib/python3.8', '/anaconda/envs/azureml_py38_PT_TF/lib/python3.8/lib-dynload', '', '/anaconda/envs/azureml_py38_PT_TF/lib/python3.8/site-packages', '/anaconda/envs/azureml_py38_PT_TF/lib/python3.8/site-packages/azureml/_project/vendor']\n",
      "\n",
      "\n"
     ]
    }
   ],
   "source": [
    "\n",
    "fileloc  = '/mnt/batch/tasks/shared/LS_root/mounts/clusters/compute-one/code/Users/karan.bhatti'\n",
    "\n",
    "import sys\n",
    "print(sys.path)\n",
    "print()\n",
    "#sys.path.append(f'{fileloc}')\n",
    "print()\n",
    "#print(sys.path)\n"
   ]
  },
  {
   "cell_type": "code",
   "execution_count": 2,
   "id": "41e12f32-cddf-4b1b-a11b-523bd5150978",
   "metadata": {},
   "outputs": [],
   "source": [
    "\n",
    "class Data(object):\n",
    "    pass\n",
    "\n",
    "df = Data\n",
    "summ = Data\n"
   ]
  },
  {
   "cell_type": "code",
   "execution_count": 3,
   "id": "91c0dfae-c116-4ecc-8ece-515ef84128f1",
   "metadata": {},
   "outputs": [],
   "source": [
    "import helpdesk as hd"
   ]
  },
  {
   "cell_type": "code",
   "execution_count": 4,
   "id": "786aefbb-d314-49f9-ae4d-efdc11ddfde5",
   "metadata": {},
   "outputs": [],
   "source": [
    "\n",
    "import pandas as pd, numpy as np\n",
    "from datetime import datetime\n",
    "\n",
    "import random\n"
   ]
  },
  {
   "cell_type": "code",
   "execution_count": 5,
   "id": "e27858ab-bed5-4392-adaa-7ab1699e4729",
   "metadata": {},
   "outputs": [],
   "source": [
    "\n",
    "DEBUG = True\n",
    "seed = 1919\n"
   ]
  },
  {
   "cell_type": "code",
   "execution_count": 6,
   "id": "c9b3430a-b700-4589-beef-b9edc17f6ef2",
   "metadata": {},
   "outputs": [],
   "source": [
    "\n",
    "pd.set_option('display.max_rows', 50);\n",
    "pd.set_option('display.max_columns', 50);\n",
    "pd.set_option('display.width', 200);\n"
   ]
  },
  {
   "cell_type": "code",
   "execution_count": 7,
   "id": "6a5f2d81-23d1-4a9e-a2fa-ed8c5a048f05",
   "metadata": {},
   "outputs": [
    {
     "name": "stdout",
     "output_type": "stream",
     "text": [
      "(243382, 14)\n",
      "\n",
      "['@id_DOG', 'DogName', 'y_runtime', 'TrainerName', '@id_RACE', 'RaceNum', 'RaceName', 'Track', 'x_dist', 'x_races_tot', 'position', 'ft_sp', 'x_no_prev_races', 'x_avg_speed_prev']\n"
     ]
    }
   ],
   "source": [
    "\n",
    "modeling_dataset_name = 'modeling_dataset_2022-10-18.csv'\n",
    "\n",
    "df_modeling = pd.read_csv(f'{fileloc}/{modeling_dataset_name}')\n",
    "\n",
    "print(df_modeling.shape)\n",
    "print()\n",
    "print(df_modeling.columns.values.tolist())\n"
   ]
  },
  {
   "cell_type": "code",
   "execution_count": 8,
   "id": "af073315-0a6a-4871-bbb0-aeec0011c62f",
   "metadata": {},
   "outputs": [
    {
     "data": {
      "text/plain": [
       "@id_DOG                0\n",
       "DogName                0\n",
       "y_runtime              0\n",
       "TrainerName            0\n",
       "@id_RACE               0\n",
       "RaceNum                0\n",
       "RaceName               0\n",
       "Track                  0\n",
       "x_dist                 0\n",
       "x_races_tot            0\n",
       "position               0\n",
       "ft_sp               1200\n",
       "x_no_prev_races        0\n",
       "x_avg_speed_prev       0\n",
       "dtype: int64"
      ]
     },
     "execution_count": 8,
     "metadata": {},
     "output_type": "execute_result"
    }
   ],
   "source": [
    "\n",
    "df_modeling.isna().sum()\n"
   ]
  },
  {
   "cell_type": "code",
   "execution_count": 9,
   "id": "9d195b18-4e0f-48c7-96ca-f4148a7735d7",
   "metadata": {},
   "outputs": [
    {
     "name": "stdout",
     "output_type": "stream",
     "text": [
      "\n",
      "2022-10-18 05:28:53.169739\n",
      "\n",
      "x train : (170367, 4), x_test : (73015, 4), y_train : (170367,), y_test : (73015,)\n",
      "\n"
     ]
    },
    {
     "name": "stderr",
     "output_type": "stream",
     "text": [
      "/tmp/ipykernel_5090/2751971928.py:30: SettingWithCopyWarning: \n",
      "A value is trying to be set on a copy of a slice from a DataFrame.\n",
      "Try using .loc[row_indexer,col_indexer] = value instead\n",
      "\n",
      "See the caveats in the documentation: https://pandas.pydata.org/pandas-docs/stable/user_guide/indexing.html#returning-a-view-versus-a-copy\n",
      "  df_test.loc[:,'ttflag'] = 'Test'\n"
     ]
    }
   ],
   "source": [
    "\n",
    "features = ['x_dist','x_avg_speed_prev', 'x_no_prev_races', 'x_races_tot']\n",
    "label = 'y_runtime'\n",
    "\n",
    "'''\n",
    "from sklearn.model_selection import train_test_split\n",
    "\n",
    "# Split data 70%-30% into training set and test set\n",
    "x_train, x_test, y_train, y_test = train_test_split(df_modeling[features].values, df_modeling[label].values, test_size=0.30, random_state = seed)\n",
    "\n",
    "print(datetime.now())\n",
    "'''\n",
    "\n",
    "samp_size = 0.30\n",
    "df_rows = df_modeling.shape[0]\n",
    "train_rows = int(df_rows*(1-samp_size))\n",
    "test_rows = df_rows - train_rows\n",
    "\n",
    "df_modeling['ids'] = np.arange(0,df_rows)\n",
    "\n",
    "#print(df_rows, train_rows, test_rows)\n",
    "\n",
    "#df.modeling_train =  random.uniform(0, 1)\n",
    "\n",
    "df_train = df_modeling.sample(train_rows, random_state = seed)\n",
    "df_train.loc[:,'ttflag'] = 'Train'\n",
    "df_train_ids = df_train.ids.values.tolist()\n",
    "#print(len(df_train_ids))\n",
    "\n",
    "df_test = df_modeling[~df_modeling.ids.isin(df_train_ids)]\n",
    "df_test.loc[:,'ttflag'] = 'Test'\n",
    "#print(df_test.shape[0])\n",
    "\n",
    "x_train = df_train[features].values\n",
    "x_test = df_test[features].values\n",
    "\n",
    "y_train = df_train[label].values\n",
    "y_test = df_test[label].values\n",
    "\n",
    "print()\n",
    "print(datetime.now())\n",
    "print()\n",
    "\n",
    "print(f\"x train : {x_train.shape}, x_test : {x_test.shape}, y_train : {y_train.shape}, y_test : {y_test.shape}\")\n",
    "\n",
    "print()\n"
   ]
  },
  {
   "cell_type": "code",
   "execution_count": 10,
   "id": "ad959b6c-5dbb-4e39-ab53-8d4be19fef37",
   "metadata": {},
   "outputs": [
    {
     "name": "stdout",
     "output_type": "stream",
     "text": [
      "Train    170367\n",
      "Name: ttflag, dtype: int64\n",
      "Test    73015\n",
      "Name: ttflag, dtype: int64\n"
     ]
    }
   ],
   "source": [
    "\n",
    "print(df_train.ttflag.value_counts())\n",
    "print(df_test.ttflag.value_counts())\n"
   ]
  },
  {
   "cell_type": "code",
   "execution_count": 11,
   "id": "a1229f6e-685e-4650-9b95-182a2981553b",
   "metadata": {},
   "outputs": [
    {
     "name": "stdout",
     "output_type": "stream",
     "text": [
      "Training Set: 170367, Test Set: 73015 \n",
      "\n",
      "Sample of features and labels:\n",
      "[  461.         17204.87907145     0.            29.        ] 26.3\n",
      "[4.60000000e+02 1.75269266e+04 0.00000000e+00 2.00000000e+00] 26.23\n",
      "[2.75000000e+02 1.65168931e+04 0.00000000e+00 1.00000000e+01] 16.94\n",
      "[  300.         17712.70307586     0.             0.        ] 17.22\n",
      "[4.5000000e+02 1.6965801e+04 0.0000000e+00 7.0000000e+00] 25.95\n",
      "[3.80000000e+02 1.69415961e+04 0.00000000e+00 1.00000000e+00] 23.59\n",
      "[4.50000000e+02 1.68136532e+04 0.00000000e+00 2.00000000e+00] 26.28\n",
      "[6.00000000e+02 1.71662138e+04 0.00000000e+00 1.20000000e+01] 35.11\n",
      "[2.88000000e+02 1.63940362e+04 0.00000000e+00 2.00000000e+00] 17.71\n",
      "[3.90000000e+02 1.74381754e+04 0.00000000e+00 1.20000000e+01] 22.65\n",
      "[4.610000e+02 1.719299e+04 0.000000e+00 6.000000e+00] 26.97\n",
      "[3.4000000e+02 1.6596851e+04 0.0000000e+00 5.0000000e+00] 20.84\n",
      "[3.05000000e+02 1.72541042e+04 0.00000000e+00 5.00000000e+00] 17.51\n",
      "[3.50000000e+02 1.69981179e+04 0.00000000e+00 8.00000000e+00] 20.26\n",
      "[5.15000000e+02 1.71836203e+04 0.00000000e+00 1.20000000e+01] 30.94\n",
      "[5.25000000e+02 1.75623246e+04 0.00000000e+00 1.60000000e+01] 30.68\n",
      "[5.20000000e+02 1.71518286e+04 0.00000000e+00 4.00000000e+00] 30.09\n",
      "[  498.         16853.05730156     0.            35.        ] 29.53\n",
      "[  300.         17244.27737659     0.            19.        ] 17.14\n",
      "[  425.         17444.38580304     0.            26.        ] 24.3\n",
      "[6.00000000e+02 1.71743478e+04 0.00000000e+00 1.70000000e+01] 34.34\n",
      "[3.05000000e+02 1.68788046e+04 0.00000000e+00 1.00000000e+00] 18.84\n",
      "[4.85000000e+02 1.69828422e+04 0.00000000e+00 1.30000000e+01] 28.32\n",
      "[5.25000000e+02 1.73607667e+04 0.00000000e+00 9.00000000e+00] 30.02\n"
     ]
    }
   ],
   "source": [
    "\n",
    "\n",
    "print ('Training Set: %d, Test Set: %d \\n' % (len(x_train), len(x_test)))\n",
    "print(\"Sample of features and labels:\")\n",
    "\n",
    "# Take a look at the first 25 training features and corresponding labels\n",
    "for n in range(0,24):\n",
    "   print(x_train[n], y_train[n])\n",
    "\n"
   ]
  },
  {
   "cell_type": "code",
   "execution_count": 12,
   "id": "5ab50929-0224-4378-bd83-a3d1d194c8a3",
   "metadata": {
    "tags": []
   },
   "outputs": [],
   "source": [
    "#!pip install --upgrade tensorflow"
   ]
  },
  {
   "cell_type": "code",
   "execution_count": 13,
   "id": "a372f4c9-fc80-411b-ad26-91ca01826b07",
   "metadata": {},
   "outputs": [],
   "source": [
    "#!pip3 install keras --upgrade"
   ]
  },
  {
   "cell_type": "code",
   "execution_count": null,
   "id": "33b34100-ed5f-4b26-946a-0b446a3b64cf",
   "metadata": {},
   "outputs": [
    {
     "name": "stdout",
     "output_type": "stream",
     "text": [
      "2022-10-18 05:28:53.282809\n"
     ]
    }
   ],
   "source": [
    "\n",
    "print(datetime.now())\n",
    "\n",
    "import tensorflow as tf\n",
    "from tensorflow import keras\n",
    "from tensorflow.keras import layers\n",
    "\n",
    "print(datetime.now())\n",
    "\n",
    "from tensorflow.keras import models\n",
    "from tensorflow.keras.models import Sequential\n",
    "from tensorflow.keras.layers import Dense\n",
    "from tensorflow.keras import utils\n",
    "from tensorflow.keras import optimizers\n",
    "\n",
    "# Set random seed for reproducability\n",
    "tf.random.set_seed(seed)\n",
    "\n",
    "print(\"Libraries imported.\")\n",
    "print('Keras version:',keras.__version__)\n",
    "print('TensorFlow version:',tf.__version__)\n",
    "\n",
    "print(datetime.now())\n"
   ]
  },
  {
   "cell_type": "code",
   "execution_count": null,
   "id": "7280d516-12a7-4475-bb80-23d01676e7f7",
   "metadata": {},
   "outputs": [],
   "source": [
    "\n",
    "# Creating Feature Normalisation\n",
    "\"\"\"\n",
    "#normalizer = tf.keras.layers.Normalization(axis=-1)\n",
    "normalizer = tf.keras.layers.experimental.preprocessing.Normalization(axis=-1)\n",
    "\n",
    "#normalizer.adapt(np.array(train_features))\n",
    "normalizer.adapt(np.array(x_train))\n",
    "\n",
    "print(normalizer.mean.numpy())\n",
    "print()\n",
    "\n",
    "first = np.array(train_features[:1])\n",
    "\n",
    "with np.printoptions(precision=2, suppress=True):\n",
    "  print('First example:', first)\n",
    "  print()\n",
    "  print('Normalized:', normalizer(first).numpy())\n",
    "\"\"\"\n"
   ]
  },
  {
   "cell_type": "code",
   "execution_count": null,
   "id": "b3d76a84-fe86-483b-b002-54160ccf4c9a",
   "metadata": {},
   "outputs": [],
   "source": [
    "\n",
    "#del model\n",
    "\n",
    "#model = Sequential()\n",
    "#model.add(Dense(units=1))\n",
    "#model.add(Dense(hl, input_dim=hl, activation='relu'))\n",
    "\n",
    "#model = tf.keras.Sequential([ layers.Dense(units=1) ])\n",
    "\n"
   ]
  },
  {
   "cell_type": "code",
   "execution_count": null,
   "id": "8590d0da-0e83-43f1-a04f-a6ccfedc9cd7",
   "metadata": {},
   "outputs": [],
   "source": [
    "\n",
    "from tensorflow.keras.optimizers import Adam\n",
    "from tensorflow.keras import backend as K\n",
    "\n",
    "def rmse(y_true, y_pred):\n",
    "    return K.sqrt(K.mean(K.square(y_pred - y_true)))\n",
    "\n",
    "model = Sequential([\n",
    "    Dense(256, activation='relu'),\n",
    "    Dense(256, activation='relu'),\n",
    "    Dense(128, activation='relu'),\n",
    "    Dense(1)\n",
    "])\n",
    "\n",
    "model.compile(\n",
    "    loss=rmse,\n",
    "    optimizer=Adam(),\n",
    "    metrics=[rmse]\n",
    ")\n",
    "\n",
    "model.fit(x_train, y_train, epochs=10)\n",
    "\n",
    "print()\n",
    "print(datetime.now()\n"
   ]
  },
  {
   "cell_type": "code",
   "execution_count": null,
   "id": "ebffecd6-d7ba-402d-97db-8c6531651598",
   "metadata": {},
   "outputs": [],
   "source": [
    "\n",
    "model.summary()\n"
   ]
  },
  {
   "cell_type": "code",
   "execution_count": null,
   "id": "5fad1a44-e699-407b-add3-15d3a55c642c",
   "metadata": {},
   "outputs": [],
   "source": [
    "\n",
    "predictions_train = model.predict(x_train)\n",
    "predictions_train = np.ravel(predictions_train)\n",
    "\n",
    "predictions_test = model.predict(x_test)\n",
    "predictions_test = np.ravel(predictions_test)\n"
   ]
  },
  {
   "cell_type": "code",
   "execution_count": null,
   "id": "ddffc5b7-cb09-459d-a758-75e679091f31",
   "metadata": {},
   "outputs": [],
   "source": [
    "\n",
    "print(rmse(y_train, predictions_train).numpy())\n",
    "\n",
    "print(rmse(y_test, predictions_test).numpy())\n"
   ]
  },
  {
   "cell_type": "code",
   "execution_count": null,
   "id": "f76523da-48e5-440c-a242-fe23934ead95",
   "metadata": {},
   "outputs": [],
   "source": [
    "# Getting the output dataset together\n",
    "\n",
    "df_train['preds'] = predictions_train\n",
    "df_test['preds'] = predictions_test\n",
    "\n",
    "df_master = df_train.append(df_test)\n",
    "print()\n",
    "\n",
    "print(df_master.shape)\n",
    "print()\n",
    "\n",
    "print(df_master.columns.values.tolist())\n",
    "print()\n"
   ]
  },
  {
   "cell_type": "code",
   "execution_count": null,
   "id": "bd43d354-7c23-401b-8839-b56b96d8b372",
   "metadata": {},
   "outputs": [],
   "source": [
    "\n",
    "#keep_cols_for_export = ['@id_DOG', 'DogName', '@id_RACE','RaceName','Track','RaceGrade','Distance','TrainerName','RunTime','Place','x_races_tot']\n",
    "\n",
    "# 'TrainerName', 'Track' have been dummified\n",
    "cols_for_drop = ['ids']\n",
    "\n",
    "todaydt = datetime.now().date()\n",
    "pred_exp_fname = f'predictions_dataset_{todaydt}.csv'\n",
    "\n",
    "exp_pred_ds = df_master.drop(columns = cols_for_drop)\n"
   ]
  },
  {
   "cell_type": "code",
   "execution_count": null,
   "id": "106732c0-a32d-4aba-bf4c-b140f496464c",
   "metadata": {},
   "outputs": [],
   "source": [
    "\n",
    "print(exp_pred_ds.columns.values.tolist())\n"
   ]
  },
  {
   "cell_type": "code",
   "execution_count": null,
   "id": "bc352357-ad2e-4dec-97b2-33719f33d09a",
   "metadata": {},
   "outputs": [],
   "source": [
    "\n",
    "exp_pred_ds.describe()\n"
   ]
  },
  {
   "cell_type": "code",
   "execution_count": null,
   "id": "dfefc6f8-a68b-49c4-9dff-a182534fb183",
   "metadata": {},
   "outputs": [],
   "source": [
    "\n",
    "exp_pred_ds.to_csv(f'{fileloc}/{pred_exp_fname}', index = False)\n"
   ]
  },
  {
   "cell_type": "code",
   "execution_count": null,
   "id": "d01657aa-844f-4bc4-a9bf-1d533b63c6a5",
   "metadata": {},
   "outputs": [],
   "source": [
    "\n",
    "print(\"THE END\")\n"
   ]
  }
 ],
 "metadata": {
  "kernelspec": {
   "display_name": "Python 3.8 - Pytorch and Tensorflow",
   "language": "python",
   "name": "python38-azureml-pt-tf"
  },
  "language_info": {
   "codemirror_mode": {
    "name": "ipython",
    "version": 3
   },
   "file_extension": ".py",
   "mimetype": "text/x-python",
   "name": "python",
   "nbconvert_exporter": "python",
   "pygments_lexer": "ipython3",
   "version": "3.8.5"
  }
 },
 "nbformat": 4,
 "nbformat_minor": 5
}
