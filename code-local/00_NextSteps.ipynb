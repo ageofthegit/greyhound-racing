{
 "cells": [
  {
   "cell_type": "code",
   "execution_count": null,
   "id": "48002fa0-7ddc-4805-88a9-0c390a6455b6",
   "metadata": {},
   "outputs": [],
   "source": []
  },
  {
   "cell_type": "markdown",
   "id": "96b145cd-f8d7-42db-9d6c-6d1447025d7e",
   "metadata": {},
   "source": [
    "# NEXT STEPS"
   ]
  },
  {
   "cell_type": "code",
   "execution_count": null,
   "id": "981ab06b-0054-4b4e-a06f-0b272d1c7cff",
   "metadata": {},
   "outputs": [],
   "source": [
    "\n",
    "#### \n",
    "\n",
    "Structure of the Code \n",
    "\n",
    "    1 Module for selecting algorithm \n",
    "    2 Module for scoring based on algorithm \n",
    "    3 Module for measuring the success of the algorithm vs BSP \n",
    "        Identify metrics such as win$, win%, measuring the success of the recommendations \n",
    "\n"
   ]
  },
  {
   "cell_type": "code",
   "execution_count": null,
   "id": "27ee4c9c-efd6-402a-a04c-186533c7d649",
   "metadata": {},
   "outputs": [],
   "source": [
    "\n",
    "'''\n",
    "\n",
    "NEXT STEPS \n",
    "\n",
    "        HYPOTHESIS \n",
    "            Some tracks are more profitable than the others - check for consistency by using date for a year or so \n",
    "            \n",
    "        Find ways to download data from the website in an automated way\n",
    "            RESOURCES \n",
    "                https://levelup.gitconnected.com/automating-multiple-document-downloads-from-a-webpage-using-beautiful-soup-b81f6a839024\n",
    "\n",
    "''' \n"
   ]
  }
 ],
 "metadata": {
  "kernelspec": {
   "display_name": "Python 3 (ipykernel)",
   "language": "python",
   "name": "python3"
  },
  "language_info": {
   "codemirror_mode": {
    "name": "ipython",
    "version": 3
   },
   "file_extension": ".py",
   "mimetype": "text/x-python",
   "name": "python",
   "nbconvert_exporter": "python",
   "pygments_lexer": "ipython3",
   "version": "3.8.8"
  }
 },
 "nbformat": 4,
 "nbformat_minor": 5
}
