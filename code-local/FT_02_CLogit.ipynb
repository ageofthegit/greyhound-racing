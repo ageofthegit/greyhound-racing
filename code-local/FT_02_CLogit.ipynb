{
 "cells": [
  {
   "cell_type": "code",
   "execution_count": null,
   "id": "62a60148",
   "metadata": {},
   "outputs": [],
   "source": []
  },
  {
   "cell_type": "code",
   "execution_count": 1,
   "id": "138c5bac",
   "metadata": {},
   "outputs": [],
   "source": [
    "\n",
    "# Import libraries\n",
    "import betfairlightweight\n",
    "\n",
    "from betfairlightweight import filters\n",
    "from datetime import datetime\n",
    "from datetime import timedelta\n",
    "from dateutil import tz\n",
    "\n",
    "import math\n",
    "import numpy as np\n",
    "import pandas as pd\n",
    "\n",
    "from scipy.stats import zscore\n",
    "from sklearn.linear_model import LogisticRegression\n",
    "import fasttrack as ft\n"
   ]
  },
  {
   "cell_type": "code",
   "execution_count": 28,
   "id": "d10988cb",
   "metadata": {},
   "outputs": [],
   "source": [
    "\n",
    "\n",
    "race_details = pd.read_csv(\"C:\\\\Users\\\\karan\\\\Documents\\\\Data\\\\racing\\\\race_details_20210101_20220424.csv\")\n",
    "\n",
    "dog_results = pd.read_csv(\"C:\\\\Users\\\\karan\\\\Documents\\\\Data\\\\racing\\\\dog_results_20210101_20220424.csv\")\n",
    "\n",
    "dog_results.rename(columns = {\"@id\":\"dogid\"}, inplace = True)\n",
    "dog_results['dogid'] = dog_results['dogid'].astype('category')\n",
    "dog_results['f_win'] = dog_results.apply(lambda x : 1 if x.Place == '1' else 0 , axis =1 )\n"
   ]
  },
  {
   "cell_type": "code",
   "execution_count": 33,
   "id": "03ef8bb9",
   "metadata": {},
   "outputs": [
    {
     "name": "stdout",
     "output_type": "stream",
     "text": [
      "(8949, 8)\n",
      "['@id', 'RaceNum', 'RaceName', 'RaceTime', 'Distance', 'RaceGrade', 'Track', 'date']\n",
      "\n",
      "(79464, 20)\n",
      "['dogid', 'Place', 'DogName', 'Box', 'Rug', 'Weight', 'StartPrice', 'Handicap', 'Margin1', 'Margin2', 'PIR', 'Checks', 'Comments', 'SplitMargin', 'RunTime', 'Prizemoney', 'RaceId', 'TrainerId', 'TrainerName', 'f_win']\n"
     ]
    }
   ],
   "source": [
    "\n",
    "print(race_details.shape)\n",
    "print(race_details.columns.values.tolist())\n",
    "\n",
    "print()\n",
    "\n",
    "print(dog_results.shape)\n",
    "print(dog_results.columns.values.tolist())\n"
   ]
  },
  {
   "cell_type": "code",
   "execution_count": 74,
   "id": "64390563",
   "metadata": {},
   "outputs": [],
   "source": [
    "\n",
    "#print(dog_results.dtypes)\n"
   ]
  },
  {
   "cell_type": "code",
   "execution_count": 35,
   "id": "13a43d7d",
   "metadata": {},
   "outputs": [
    {
     "data": {
      "text/html": [
       "<div>\n",
       "<style scoped>\n",
       "    .dataframe tbody tr th:only-of-type {\n",
       "        vertical-align: middle;\n",
       "    }\n",
       "\n",
       "    .dataframe tbody tr th {\n",
       "        vertical-align: top;\n",
       "    }\n",
       "\n",
       "    .dataframe thead th {\n",
       "        text-align: right;\n",
       "    }\n",
       "</style>\n",
       "<table border=\"1\" class=\"dataframe\">\n",
       "  <thead>\n",
       "    <tr style=\"text-align: right;\">\n",
       "      <th></th>\n",
       "      <th>dogid</th>\n",
       "      <th>Place</th>\n",
       "      <th>DogName</th>\n",
       "      <th>Box</th>\n",
       "      <th>Rug</th>\n",
       "      <th>Weight</th>\n",
       "      <th>StartPrice</th>\n",
       "      <th>Handicap</th>\n",
       "      <th>Margin1</th>\n",
       "      <th>Margin2</th>\n",
       "      <th>PIR</th>\n",
       "      <th>Checks</th>\n",
       "      <th>Comments</th>\n",
       "      <th>SplitMargin</th>\n",
       "      <th>RunTime</th>\n",
       "      <th>Prizemoney</th>\n",
       "      <th>RaceId</th>\n",
       "      <th>TrainerId</th>\n",
       "      <th>TrainerName</th>\n",
       "      <th>f_win</th>\n",
       "    </tr>\n",
       "  </thead>\n",
       "  <tbody>\n",
       "    <tr>\n",
       "      <th>0</th>\n",
       "      <td>460023770</td>\n",
       "      <td>1</td>\n",
       "      <td>SAKKARI</td>\n",
       "      <td>4.0</td>\n",
       "      <td>4</td>\n",
       "      <td>28.0</td>\n",
       "      <td>$3.20F</td>\n",
       "      <td>NaN</td>\n",
       "      <td>1.75</td>\n",
       "      <td>NaN</td>\n",
       "      <td>NaN</td>\n",
       "      <td>0</td>\n",
       "      <td>NaN</td>\n",
       "      <td>NaN</td>\n",
       "      <td>17.14</td>\n",
       "      <td>1400.0</td>\n",
       "      <td>626271122</td>\n",
       "      <td>66176</td>\n",
       "      <td>A Monaghan</td>\n",
       "      <td>1</td>\n",
       "    </tr>\n",
       "    <tr>\n",
       "      <th>1</th>\n",
       "      <td>407727859</td>\n",
       "      <td>2</td>\n",
       "      <td>BANJO LAD</td>\n",
       "      <td>7.0</td>\n",
       "      <td>7</td>\n",
       "      <td>30.6</td>\n",
       "      <td>$12.00</td>\n",
       "      <td>NaN</td>\n",
       "      <td>1.75</td>\n",
       "      <td>1.71</td>\n",
       "      <td>NaN</td>\n",
       "      <td>0</td>\n",
       "      <td>NaN</td>\n",
       "      <td>NaN</td>\n",
       "      <td>17.26</td>\n",
       "      <td>400.0</td>\n",
       "      <td>626271122</td>\n",
       "      <td>275881</td>\n",
       "      <td>N Evans</td>\n",
       "      <td>0</td>\n",
       "    </tr>\n",
       "    <tr>\n",
       "      <th>2</th>\n",
       "      <td>450198101</td>\n",
       "      <td>3</td>\n",
       "      <td>OHANA LEA</td>\n",
       "      <td>5.0</td>\n",
       "      <td>5</td>\n",
       "      <td>25.1</td>\n",
       "      <td>$5.00</td>\n",
       "      <td>NaN</td>\n",
       "      <td>2.50</td>\n",
       "      <td>1.00</td>\n",
       "      <td>NaN</td>\n",
       "      <td>0</td>\n",
       "      <td>NaN</td>\n",
       "      <td>NaN</td>\n",
       "      <td>17.33</td>\n",
       "      <td>200.0</td>\n",
       "      <td>626271122</td>\n",
       "      <td>83303</td>\n",
       "      <td>M Heilbronn</td>\n",
       "      <td>0</td>\n",
       "    </tr>\n",
       "    <tr>\n",
       "      <th>3</th>\n",
       "      <td>323655139</td>\n",
       "      <td>4</td>\n",
       "      <td>CLONMORE</td>\n",
       "      <td>2.0</td>\n",
       "      <td>2</td>\n",
       "      <td>25.4</td>\n",
       "      <td>$8.50</td>\n",
       "      <td>NaN</td>\n",
       "      <td>3.75</td>\n",
       "      <td>1.14</td>\n",
       "      <td>NaN</td>\n",
       "      <td>0</td>\n",
       "      <td>NaN</td>\n",
       "      <td>NaN</td>\n",
       "      <td>17.41</td>\n",
       "      <td>100.0</td>\n",
       "      <td>626271122</td>\n",
       "      <td>61234</td>\n",
       "      <td>B Kitchener</td>\n",
       "      <td>0</td>\n",
       "    </tr>\n",
       "    <tr>\n",
       "      <th>4</th>\n",
       "      <td>393648268</td>\n",
       "      <td>5</td>\n",
       "      <td>AURIGA RACHEL</td>\n",
       "      <td>8.0</td>\n",
       "      <td>9</td>\n",
       "      <td>28.9</td>\n",
       "      <td>$26.00</td>\n",
       "      <td>NaN</td>\n",
       "      <td>5.25</td>\n",
       "      <td>1.43</td>\n",
       "      <td>NaN</td>\n",
       "      <td>0</td>\n",
       "      <td>NaN</td>\n",
       "      <td>NaN</td>\n",
       "      <td>17.51</td>\n",
       "      <td>0.0</td>\n",
       "      <td>626271122</td>\n",
       "      <td>105852</td>\n",
       "      <td>G Draheim</td>\n",
       "      <td>0</td>\n",
       "    </tr>\n",
       "  </tbody>\n",
       "</table>\n",
       "</div>"
      ],
      "text/plain": [
       "       dogid Place        DogName  Box  Rug  Weight StartPrice  Handicap  \\\n",
       "0  460023770     1        SAKKARI  4.0    4    28.0     $3.20F       NaN   \n",
       "1  407727859     2      BANJO LAD  7.0    7    30.6     $12.00       NaN   \n",
       "2  450198101     3      OHANA LEA  5.0    5    25.1      $5.00       NaN   \n",
       "3  323655139     4       CLONMORE  2.0    2    25.4      $8.50       NaN   \n",
       "4  393648268     5  AURIGA RACHEL  8.0    9    28.9     $26.00       NaN   \n",
       "\n",
       "   Margin1  Margin2  PIR  Checks  Comments  SplitMargin  RunTime  Prizemoney  \\\n",
       "0     1.75      NaN  NaN       0       NaN          NaN    17.14      1400.0   \n",
       "1     1.75     1.71  NaN       0       NaN          NaN    17.26       400.0   \n",
       "2     2.50     1.00  NaN       0       NaN          NaN    17.33       200.0   \n",
       "3     3.75     1.14  NaN       0       NaN          NaN    17.41       100.0   \n",
       "4     5.25     1.43  NaN       0       NaN          NaN    17.51         0.0   \n",
       "\n",
       "      RaceId  TrainerId  TrainerName  f_win  \n",
       "0  626271122      66176   A Monaghan      1  \n",
       "1  626271122     275881      N Evans      0  \n",
       "2  626271122      83303  M Heilbronn      0  \n",
       "3  626271122      61234  B Kitchener      0  \n",
       "4  626271122     105852    G Draheim      0  "
      ]
     },
     "execution_count": 35,
     "metadata": {},
     "output_type": "execute_result"
    }
   ],
   "source": [
    "\n",
    "dog_results.head()\n"
   ]
  },
  {
   "cell_type": "code",
   "execution_count": null,
   "id": "d584dc2f",
   "metadata": {},
   "outputs": [],
   "source": []
  },
  {
   "cell_type": "code",
   "execution_count": 5,
   "id": "6d6e9da1",
   "metadata": {},
   "outputs": [],
   "source": [
    "\n",
    "# Fitting a Model\n"
   ]
  },
  {
   "cell_type": "code",
   "execution_count": 36,
   "id": "5a33450c",
   "metadata": {},
   "outputs": [],
   "source": [
    "\n",
    "#from statsmodels import ConditionalLogit \n",
    "\n",
    "from statsmodels.discrete.conditional_models import ConditionalLogit \n"
   ]
  },
  {
   "cell_type": "code",
   "execution_count": 73,
   "id": "697b4dc3",
   "metadata": {},
   "outputs": [],
   "source": [
    "\n",
    "#dog_results.info()\n"
   ]
  },
  {
   "cell_type": "code",
   "execution_count": 41,
   "id": "32b5b6e4",
   "metadata": {},
   "outputs": [
    {
     "name": "stdout",
     "output_type": "stream",
     "text": [
      "(79464, 20)\n",
      "(66480, 5)\n"
     ]
    }
   ],
   "source": [
    "\n",
    "print(dog_results.shape)\n",
    "\n",
    "df_model = dog_results[['dogid','f_win','Weight','Box','Rug']].dropna()\n",
    "\n",
    "print(df_model.shape)\n"
   ]
  },
  {
   "cell_type": "code",
   "execution_count": 60,
   "id": "9dc93441",
   "metadata": {},
   "outputs": [
    {
     "name": "stdout",
     "output_type": "stream",
     "text": [
      "x_train:(49860, 3), x_test:(16620, 3), y_train:(49860,), y_test:(16620,)\n",
      "gp_train:(49860,), gp_test:(16620,)\n"
     ]
    }
   ],
   "source": [
    "\n",
    "from sklearn.model_selection import train_test_split\n",
    "\n",
    "y = df_model['f_win']\n",
    "X = df_model[ ['dogid','Weight','Box','Rug'] ]\n",
    "\n",
    "x_train, x_test, y_train, y_test = train_test_split(X, y, test_size=0.25, random_state=0)\n",
    "\n",
    "\n",
    "gp_train = x_train['dogid']\n",
    "gp_test = x_test['dogid']\n",
    "\n",
    "x_train.drop(columns = ['dogid'], inplace = True)\n",
    "x_test.drop(columns = ['dogid'], inplace = True)\n",
    "\n",
    "print(f'x_train:{x_train.shape}, x_test:{x_test.shape}, y_train:{y_train.shape}, y_test:{y_test.shape}')\n",
    "\n",
    "print(f'gp_train:{gp_train.shape}, gp_test:{gp_test.shape}')\n",
    "\n"
   ]
  },
  {
   "cell_type": "code",
   "execution_count": 61,
   "id": "44ca2335",
   "metadata": {},
   "outputs": [
    {
     "name": "stdout",
     "output_type": "stream",
     "text": [
      "<class 'pandas.core.series.Series'>\n",
      "<class 'pandas.core.frame.DataFrame'>\n",
      "<class 'pandas.core.series.Series'>\n"
     ]
    },
    {
     "name": "stderr",
     "output_type": "stream",
     "text": [
      "C:\\ProgramData\\Anaconda3\\lib\\site-packages\\statsmodels\\discrete\\conditional_models.py:80: UserWarning: Dropped 1805 groups and 9512 observations for having no within-group variance\n",
      "  warnings.warn(msg)\n"
     ]
    }
   ],
   "source": [
    "\n",
    "print(type(y))\n",
    "print(type(X))\n",
    "print(type(groups))\n",
    "\n",
    "model = ConditionalLogit(y_train, x_train, groups = gp_train)\n"
   ]
  },
  {
   "cell_type": "code",
   "execution_count": 63,
   "id": "86eaec15",
   "metadata": {},
   "outputs": [
    {
     "name": "stdout",
     "output_type": "stream",
     "text": [
      "<class 'statsmodels.discrete.conditional_models.ConditionalLogit'>\n",
      "f_win\n",
      "['Weight', 'Box', 'Rug']\n"
     ]
    }
   ],
   "source": [
    "\n",
    "print(type(model))\n",
    "\n",
    "print(model.endog_names)\n",
    "print(model.exog_names)\n"
   ]
  },
  {
   "cell_type": "code",
   "execution_count": 64,
   "id": "87dada48",
   "metadata": {},
   "outputs": [
    {
     "data": {
      "text/plain": [
       "<statsmodels.discrete.conditional_models.ConditionalResultsWrapper at 0x2c54b7895e0>"
      ]
     },
     "execution_count": 64,
     "metadata": {},
     "output_type": "execute_result"
    }
   ],
   "source": [
    "\n",
    "model.fit()\n"
   ]
  },
  {
   "cell_type": "code",
   "execution_count": 78,
   "id": "16ebdfc6",
   "metadata": {},
   "outputs": [
    {
     "ename": "AttributeError",
     "evalue": "'ConditionalLogit' object has no attribute 'summary'",
     "output_type": "error",
     "traceback": [
      "\u001b[1;31m---------------------------------------------------------------------------\u001b[0m",
      "\u001b[1;31mAttributeError\u001b[0m                            Traceback (most recent call last)",
      "\u001b[1;32m~\\AppData\\Local\\Temp/ipykernel_23376/1193538528.py\u001b[0m in \u001b[0;36m<module>\u001b[1;34m\u001b[0m\n\u001b[1;32m----> 1\u001b[1;33m \u001b[0mprint\u001b[0m\u001b[1;33m(\u001b[0m\u001b[0mmodel\u001b[0m\u001b[1;33m.\u001b[0m\u001b[0msummary\u001b[0m\u001b[1;33m)\u001b[0m\u001b[1;33m\u001b[0m\u001b[1;33m\u001b[0m\u001b[0m\n\u001b[0m",
      "\u001b[1;31mAttributeError\u001b[0m: 'ConditionalLogit' object has no attribute 'summary'"
     ]
    }
   ],
   "source": [
    "\n",
    "print(model.summary)\n"
   ]
  },
  {
   "cell_type": "code",
   "execution_count": 65,
   "id": "d8e3233d",
   "metadata": {},
   "outputs": [
    {
     "name": "stdout",
     "output_type": "stream",
     "text": [
      "<bound method _ConditionalModel.hessian of <statsmodels.discrete.conditional_models.ConditionalLogit object at 0x000002C54765CC10>>\n"
     ]
    }
   ],
   "source": [
    "\n",
    "print(model.hessian)\n"
   ]
  },
  {
   "cell_type": "code",
   "execution_count": 72,
   "id": "0bb8538a",
   "metadata": {},
   "outputs": [
    {
     "data": {
      "text/plain": [
       "method"
      ]
     },
     "execution_count": 72,
     "metadata": {},
     "output_type": "execute_result"
    }
   ],
   "source": [
    "\n",
    "type(model.predict)\n",
    "#metho aka function\n"
   ]
  },
  {
   "cell_type": "code",
   "execution_count": 77,
   "id": "b2a36cb7",
   "metadata": {},
   "outputs": [
    {
     "ename": "ValueError",
     "evalue": "shapes (27,3) and (16620,3) not aligned: 3 (dim 1) != 16620 (dim 0)",
     "output_type": "error",
     "traceback": [
      "\u001b[1;31m---------------------------------------------------------------------------\u001b[0m",
      "\u001b[1;31mValueError\u001b[0m                                Traceback (most recent call last)",
      "\u001b[1;32m~\\AppData\\Local\\Temp/ipykernel_23376/534338722.py\u001b[0m in \u001b[0;36m<module>\u001b[1;34m\u001b[0m\n\u001b[1;32m----> 1\u001b[1;33m \u001b[0mmodel\u001b[0m\u001b[1;33m.\u001b[0m\u001b[0mscore\u001b[0m\u001b[1;33m(\u001b[0m\u001b[0mx_test\u001b[0m\u001b[1;33m)\u001b[0m\u001b[1;33m\u001b[0m\u001b[1;33m\u001b[0m\u001b[0m\n\u001b[0m",
      "\u001b[1;32mC:\\ProgramData\\Anaconda3\\lib\\site-packages\\statsmodels\\discrete\\conditional_models.py\u001b[0m in \u001b[0;36mscore\u001b[1;34m(self, params)\u001b[0m\n\u001b[0;32m    255\u001b[0m         \u001b[0mscore\u001b[0m \u001b[1;33m=\u001b[0m \u001b[1;36m0\u001b[0m\u001b[1;33m\u001b[0m\u001b[1;33m\u001b[0m\u001b[0m\n\u001b[0;32m    256\u001b[0m         \u001b[1;32mfor\u001b[0m \u001b[0mg\u001b[0m \u001b[1;32min\u001b[0m \u001b[0mrange\u001b[0m\u001b[1;33m(\u001b[0m\u001b[0mself\u001b[0m\u001b[1;33m.\u001b[0m\u001b[0m_n_groups\u001b[0m\u001b[1;33m)\u001b[0m\u001b[1;33m:\u001b[0m\u001b[1;33m\u001b[0m\u001b[1;33m\u001b[0m\u001b[0m\n\u001b[1;32m--> 257\u001b[1;33m             \u001b[0mscore\u001b[0m \u001b[1;33m+=\u001b[0m \u001b[0mself\u001b[0m\u001b[1;33m.\u001b[0m\u001b[0mscore_grp\u001b[0m\u001b[1;33m(\u001b[0m\u001b[0mg\u001b[0m\u001b[1;33m,\u001b[0m \u001b[0mparams\u001b[0m\u001b[1;33m)\u001b[0m\u001b[1;33m\u001b[0m\u001b[1;33m\u001b[0m\u001b[0m\n\u001b[0m\u001b[0;32m    258\u001b[0m \u001b[1;33m\u001b[0m\u001b[0m\n\u001b[0;32m    259\u001b[0m         \u001b[1;32mreturn\u001b[0m \u001b[0mscore\u001b[0m\u001b[1;33m\u001b[0m\u001b[1;33m\u001b[0m\u001b[0m\n",
      "\u001b[1;32mC:\\ProgramData\\Anaconda3\\lib\\site-packages\\statsmodels\\discrete\\conditional_models.py\u001b[0m in \u001b[0;36mscore_grp\u001b[1;34m(self, grp, params)\u001b[0m\n\u001b[0;32m    345\u001b[0m             \u001b[0mofs\u001b[0m \u001b[1;33m=\u001b[0m \u001b[0mself\u001b[0m\u001b[1;33m.\u001b[0m\u001b[0m_offset_grp\u001b[0m\u001b[1;33m[\u001b[0m\u001b[0mgrp\u001b[0m\u001b[1;33m]\u001b[0m\u001b[1;33m\u001b[0m\u001b[1;33m\u001b[0m\u001b[0m\n\u001b[0;32m    346\u001b[0m \u001b[1;33m\u001b[0m\u001b[0m\n\u001b[1;32m--> 347\u001b[1;33m         \u001b[0md\u001b[0m\u001b[1;33m,\u001b[0m \u001b[0mh\u001b[0m \u001b[1;33m=\u001b[0m \u001b[0mself\u001b[0m\u001b[1;33m.\u001b[0m\u001b[0m_denom_grad\u001b[0m\u001b[1;33m(\u001b[0m\u001b[0mgrp\u001b[0m\u001b[1;33m,\u001b[0m \u001b[0mparams\u001b[0m\u001b[1;33m,\u001b[0m \u001b[0mofs\u001b[0m\u001b[1;33m)\u001b[0m\u001b[1;33m\u001b[0m\u001b[1;33m\u001b[0m\u001b[0m\n\u001b[0m\u001b[0;32m    348\u001b[0m         \u001b[1;32mreturn\u001b[0m \u001b[0mself\u001b[0m\u001b[1;33m.\u001b[0m\u001b[0m_xy\u001b[0m\u001b[1;33m[\u001b[0m\u001b[0mgrp\u001b[0m\u001b[1;33m]\u001b[0m \u001b[1;33m-\u001b[0m \u001b[0mh\u001b[0m \u001b[1;33m/\u001b[0m \u001b[0md\u001b[0m\u001b[1;33m\u001b[0m\u001b[1;33m\u001b[0m\u001b[0m\n\u001b[0;32m    349\u001b[0m \u001b[1;33m\u001b[0m\u001b[0m\n",
      "\u001b[1;32mC:\\ProgramData\\Anaconda3\\lib\\site-packages\\statsmodels\\discrete\\conditional_models.py\u001b[0m in \u001b[0;36m_denom_grad\u001b[1;34m(self, grp, params, ofs)\u001b[0m\n\u001b[0;32m    294\u001b[0m \u001b[1;33m\u001b[0m\u001b[0m\n\u001b[0;32m    295\u001b[0m         \u001b[0mex\u001b[0m \u001b[1;33m=\u001b[0m \u001b[0mself\u001b[0m\u001b[1;33m.\u001b[0m\u001b[0m_exog_grp\u001b[0m\u001b[1;33m[\u001b[0m\u001b[0mgrp\u001b[0m\u001b[1;33m]\u001b[0m\u001b[1;33m\u001b[0m\u001b[1;33m\u001b[0m\u001b[0m\n\u001b[1;32m--> 296\u001b[1;33m         \u001b[0mexb\u001b[0m \u001b[1;33m=\u001b[0m \u001b[0mnp\u001b[0m\u001b[1;33m.\u001b[0m\u001b[0mexp\u001b[0m\u001b[1;33m(\u001b[0m\u001b[0mnp\u001b[0m\u001b[1;33m.\u001b[0m\u001b[0mdot\u001b[0m\u001b[1;33m(\u001b[0m\u001b[0mex\u001b[0m\u001b[1;33m,\u001b[0m \u001b[0mparams\u001b[0m\u001b[1;33m)\u001b[0m \u001b[1;33m+\u001b[0m \u001b[0mofs\u001b[0m\u001b[1;33m)\u001b[0m\u001b[1;33m\u001b[0m\u001b[1;33m\u001b[0m\u001b[0m\n\u001b[0m\u001b[0;32m    297\u001b[0m \u001b[1;33m\u001b[0m\u001b[0m\n\u001b[0;32m    298\u001b[0m         \u001b[1;31m# s may be called multiple times in the recursions with the\u001b[0m\u001b[1;33m\u001b[0m\u001b[1;33m\u001b[0m\u001b[1;33m\u001b[0m\u001b[0m\n",
      "\u001b[1;32m<__array_function__ internals>\u001b[0m in \u001b[0;36mdot\u001b[1;34m(*args, **kwargs)\u001b[0m\n",
      "\u001b[1;31mValueError\u001b[0m: shapes (27,3) and (16620,3) not aligned: 3 (dim 1) != 16620 (dim 0)"
     ]
    }
   ],
   "source": [
    "\n",
    "\n",
    "model.score(x_test)\n"
   ]
  }
 ],
 "metadata": {
  "kernelspec": {
   "display_name": "Python 3 (ipykernel)",
   "language": "python",
   "name": "python3"
  },
  "language_info": {
   "codemirror_mode": {
    "name": "ipython",
    "version": 3
   },
   "file_extension": ".py",
   "mimetype": "text/x-python",
   "name": "python",
   "nbconvert_exporter": "python",
   "pygments_lexer": "ipython3",
   "version": "3.8.8"
  }
 },
 "nbformat": 4,
 "nbformat_minor": 5
}
