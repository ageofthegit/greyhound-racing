{
 "cells": [
  {
   "cell_type": "code",
   "execution_count": null,
   "id": "cb585584-ccf5-4aa1-8f83-32ce55442a81",
   "metadata": {},
   "outputs": [],
   "source": []
  },
  {
   "cell_type": "code",
   "execution_count": null,
   "id": "b8da6012-8800-4d92-a765-53cfbe24d07a",
   "metadata": {},
   "outputs": [],
   "source": []
  },
  {
   "cell_type": "code",
   "execution_count": null,
   "id": "c88fe4af-c388-4794-984e-d03cff141fd1",
   "metadata": {},
   "outputs": [],
   "source": [
    "## The code below aims to reduce the runtime of the normalisation function significantly - Author is ChatGPT"
   ]
  },
  {
   "cell_type": "code",
   "execution_count": null,
   "id": "4b86f4e7-c2a6-4fe3-85c2-eb5289392988",
   "metadata": {},
   "outputs": [],
   "source": [
    "print(datetime.now())\n",
    "\n",
    "for curr_col in cols_to_norm:\n",
    "\n",
    "    mean_name = curr_col + '_mean'\n",
    "    std_name = curr_col + '_std'\n",
    "    norm_name = curr_col + '_norm'\n",
    "\n",
    "    print(mean_name, std_name, norm_name)\n",
    "\n",
    "    ds_norm = df_base.groupby('@id_RACE')[curr_col].agg(['mean','std']).reset_index().rename(columns = {'mean':mean_name, 'std':std_name})\n",
    "\n",
    "    df_base = df_base.merge(ds_norm, on='@id_RACE')\n",
    "\n",
    "    # Check for rows with zero or NaN standard deviation\n",
    "    zero_std_mask = (df_base[std_name] == 0) | (df_base[std_name].isna())\n",
    "\n",
    "    # Normalize the column\n",
    "    df_base[norm_name] = (df_base[curr_col] - df_base[mean_name]) / df_base[std_name]\n",
    "\n",
    "    # Set the normalized value to 0 for rows with zero or NaN standard deviation\n",
    "    df_base.loc[zero_std_mask, norm_name] = 0\n",
    "\n",
    "    df_base.drop(columns=[mean_name, std_name], inplace=True)\n",
    "\n",
    "    del ds_norm, mean_name, std_name, norm_name\n",
    "\n",
    "print()\n",
    "print(datetime.now())\n"
   ]
  },
  {
   "cell_type": "markdown",
   "id": "20d15156-d40c-4adb-b8ad-9d9f9ad35e18",
   "metadata": {},
   "source": [
    "# CONSOLIDATE DatePrep"
   ]
  },
  {
   "cell_type": "code",
   "execution_count": 1,
   "id": "ac0b3b5b-48bf-485c-83bd-97db741515f5",
   "metadata": {},
   "outputs": [
    {
     "name": "stdout",
     "output_type": "stream",
     "text": [
      "['/mnt/batch/tasks/shared/LS_root/mounts/clusters/compute-one-8c-32gb/code/Users/karan.bhatti', '/anaconda/envs/azureml_py38/lib/python38.zip', '/anaconda/envs/azureml_py38/lib/python3.8', '/anaconda/envs/azureml_py38/lib/python3.8/lib-dynload', '', '/anaconda/envs/azureml_py38/lib/python3.8/site-packages', '/anaconda/envs/azureml_py38/lib/python3.8/site-packages/azureml/_project/vendor', '/anaconda/envs/azureml_py38/lib/python3.8/site-packages/azureml/automl/core/_vendor']\n",
      "\n",
      "\n"
     ]
    }
   ],
   "source": [
    "\n",
    "#fileloc  = '/mnt/batch/tasks/shared/LS_root/mounts/clusters/compute-one/code/Users/karan.bhatti'\n",
    "fileloc  = '/mnt/batch/tasks/shared/LS_root/mounts/clusters/compute-one-8c-32gb/code/Users/karan.bhatti'\n",
    "\n",
    "import sys\n",
    "print(sys.path)\n",
    "print()\n",
    "#sys.path.append(f'{fileloc}')\n",
    "print()\n",
    "#print(sys.path)\n"
   ]
  },
  {
   "cell_type": "code",
   "execution_count": 2,
   "id": "41e12f32-cddf-4b1b-a11b-523bd5150978",
   "metadata": {},
   "outputs": [],
   "source": [
    "\n",
    "class Data(object):\n",
    "    pass\n",
    "\n",
    "df = Data\n",
    "summ = Data\n"
   ]
  },
  {
   "cell_type": "code",
   "execution_count": 3,
   "id": "91c0dfae-c116-4ecc-8ece-515ef84128f1",
   "metadata": {},
   "outputs": [],
   "source": [
    "import helpdesk as hd"
   ]
  },
  {
   "cell_type": "code",
   "execution_count": 4,
   "id": "786aefbb-d314-49f9-ae4d-efdc11ddfde5",
   "metadata": {},
   "outputs": [],
   "source": [
    "\n",
    "import pandas as pd, numpy as np\n",
    "from datetime import datetime\n"
   ]
  },
  {
   "cell_type": "code",
   "execution_count": 5,
   "id": "e27858ab-bed5-4392-adaa-7ab1699e4729",
   "metadata": {},
   "outputs": [],
   "source": [
    "\n",
    "DEBUG = True\n",
    "seed = 1919\n"
   ]
  },
  {
   "cell_type": "code",
   "execution_count": 6,
   "id": "e838b313-6ce9-45ce-9ad9-e93b3ad18d47",
   "metadata": {},
   "outputs": [],
   "source": [
    "pd.set_option('display.max_rows', 50);"
   ]
  },
  {
   "cell_type": "code",
   "execution_count": 7,
   "id": "c9b3430a-b700-4589-beef-b9edc17f6ef2",
   "metadata": {},
   "outputs": [],
   "source": [
    "pd.set_option('display.max_columns', 50);"
   ]
  },
  {
   "cell_type": "code",
   "execution_count": 8,
   "id": "511706ef-6514-4dbf-9843-564be0c1e17b",
   "metadata": {},
   "outputs": [],
   "source": [
    "pd.set_option('display.width', 200);"
   ]
  },
  {
   "cell_type": "code",
   "execution_count": 9,
   "id": "6a5f2d81-23d1-4a9e-a2fa-ed8c5a048f05",
   "metadata": {},
   "outputs": [
    {
     "name": "stdout",
     "output_type": "stream",
     "text": [
      "(641710, 3)\n",
      "\n",
      "['@id_DOG', '@id_RACE', 'TrainerId']\n"
     ]
    }
   ],
   "source": [
    "\n",
    "\n",
    "# Import the Base Dataset\n",
    "base_dataset_name = 'dataset_base_2023-02-09.csv'\n",
    "\n",
    "keep_cols_for_join = ['@id_DOG','@id_RACE','TrainerId']\n",
    "\n",
    "df_base_raw = pd.read_csv(f'{fileloc}/{base_dataset_name}')[keep_cols_for_join]\n",
    "\n",
    "print(df_base_raw.shape)\n",
    "print()\n",
    "print(df_base_raw.columns.values.tolist())\n",
    "\n"
   ]
  },
  {
   "cell_type": "code",
   "execution_count": 10,
   "id": "e6006cf3-c819-4dda-97fc-e63bf4de0e49",
   "metadata": {},
   "outputs": [
    {
     "name": "stdout",
     "output_type": "stream",
     "text": [
      "   @id_DOG  @id_RACE  TrainerId\n",
      "0        0         0          0\n"
     ]
    }
   ],
   "source": [
    "\n",
    "print(pd.DataFrame(df_base_raw.isna().sum()).transpose())\n"
   ]
  },
  {
   "cell_type": "code",
   "execution_count": 11,
   "id": "0fc3d9d6-2e27-48be-ae11-9d0e91d29348",
   "metadata": {},
   "outputs": [
    {
     "name": "stdout",
     "output_type": "stream",
     "text": [
      "(641710, 32)\n",
      "\n",
      "['@id_DOG', 'Handicap_DOG', 'RaceBox', 'Rating', 'DogGrade', 'DogGOBIS', 'DogPRIZE', '@id_RACE', 'RaceTimeDateUTC', 'GOBIS', 'Hurdle', 'Handicap_RACE', 'TAB', 'GradeCode', 'racetime_fix', 'x_races_tot', 'x_dist_gp', 'x_runtm_gp', 'x_rtgp_prev', 'x_rtgp_avg', 'x_rtgp_min', 'x_rtgp_max', 'x_rtgp_range', 'x_rtgp_std', 'x_no_prev_races', 'x_speed_prev', 'x_speed_avg', 'x_speed_min', 'x_speed_max', 'x_speed_range', 'x_speed_std', 'x_no_prev_r_in_dist']\n",
      "\n"
     ]
    }
   ],
   "source": [
    "# Import the Speed Profile\n",
    "\n",
    "speed_profile_name = 'dataprep_speed_profile_2023-02-22.csv'\n",
    "\n",
    "df_speed_profile = pd.read_csv(f'{fileloc}/{speed_profile_name}')\n",
    "\n",
    "print(df_speed_profile.shape)\n",
    "print()\n",
    "print(df_speed_profile.columns.values.tolist())\n",
    "print()\n"
   ]
  },
  {
   "cell_type": "code",
   "execution_count": 12,
   "id": "af073315-0a6a-4871-bbb0-aeec0011c62f",
   "metadata": {},
   "outputs": [
    {
     "name": "stdout",
     "output_type": "stream",
     "text": [
      "   @id_DOG  Handicap_DOG  RaceBox  Rating  DogGrade  DogGOBIS  DogPRIZE  @id_RACE  RaceTimeDateUTC   GOBIS  Hurdle  Handicap_RACE     TAB  GradeCode  racetime_fix  x_races_tot  x_dist_gp  \\\n",
      "0        0        641710     1861       0         0      1861      1861         0            41207  641710  641710         641710  445100          0         41207            0          0   \n",
      "\n",
      "   x_runtm_gp  x_rtgp_prev  x_rtgp_avg  x_rtgp_min  x_rtgp_max  x_rtgp_range  x_rtgp_std  x_no_prev_races  x_speed_prev  x_speed_avg  x_speed_min  x_speed_max  x_speed_range  x_speed_std  \\\n",
      "0           0            0           0           0           0             0           0                0             0            0            0            0              0            0   \n",
      "\n",
      "   x_no_prev_r_in_dist  \n",
      "0                    0  \n"
     ]
    }
   ],
   "source": [
    "\n",
    "print(pd.DataFrame(df_speed_profile.isna().sum()).transpose())\n"
   ]
  },
  {
   "cell_type": "code",
   "execution_count": 13,
   "id": "2784e56a-7ba9-4b66-b549-5255353b9d10",
   "metadata": {},
   "outputs": [
    {
     "data": {
      "text/plain": [
       "\"\\n# Import the Race Profile\\nrace_profile_name = 'dataprep_raceprofile_2022-12-03.csv'\\n\\ndf_race_profile = pd.read_csv(f'{fileloc}/{race_profile_name}')\\n\\nprint(df_race_profile.shape)\\nprint()\\nprint(df_race_profile.columns.values.tolist())\\n\""
      ]
     },
     "execution_count": 13,
     "metadata": {},
     "output_type": "execute_result"
    }
   ],
   "source": [
    "\n",
    "\"\"\"\n",
    "# Import the Race Profile\n",
    "race_profile_name = 'dataprep_raceprofile_2022-12-03.csv'\n",
    "\n",
    "df_race_profile = pd.read_csv(f'{fileloc}/{race_profile_name}')\n",
    "\n",
    "print(df_race_profile.shape)\n",
    "print()\n",
    "print(df_race_profile.columns.values.tolist())\n",
    "\"\"\"\n"
   ]
  },
  {
   "cell_type": "code",
   "execution_count": 14,
   "id": "d1dfb476-eaea-44e4-a992-7c74a4b2d0c3",
   "metadata": {},
   "outputs": [],
   "source": [
    "\n",
    "#print(pd.DataFrame(df_race_profile.isna().sum()).transpose())\n"
   ]
  },
  {
   "cell_type": "code",
   "execution_count": 15,
   "id": "119fa1e4-1b6d-4950-a348-2f11d07a2eca",
   "metadata": {},
   "outputs": [
    {
     "data": {
      "text/plain": [
       "\"\\n# Import the Race Profile\\ndateprep_categorical = 'dataprep_categorical_2022-12-03.csv'\\n\\ndf_categorical = pd.read_csv(f'{fileloc}/{dateprep_categorical}')\\n\\nprint(df_categorical.shape)\\nprint()\\nprint(df_categorical.columns.values.tolist())\\n\""
      ]
     },
     "execution_count": 15,
     "metadata": {},
     "output_type": "execute_result"
    }
   ],
   "source": [
    "\n",
    "\"\"\"\n",
    "# Import the Race Profile\n",
    "dateprep_categorical = 'dataprep_categorical_2022-12-03.csv'\n",
    "\n",
    "df_categorical = pd.read_csv(f'{fileloc}/{dateprep_categorical}')\n",
    "\n",
    "print(df_categorical.shape)\n",
    "print()\n",
    "print(df_categorical.columns.values.tolist())\n",
    "\"\"\"\n"
   ]
  },
  {
   "cell_type": "code",
   "execution_count": 16,
   "id": "c3274066-74b8-4fdb-9ca6-cdb5c29bf658",
   "metadata": {},
   "outputs": [],
   "source": [
    "\n",
    "#print(pd.DataFrame(df_categorical.isna().sum()).transpose())\n"
   ]
  },
  {
   "cell_type": "code",
   "execution_count": 14,
   "id": "889410d9-0075-4857-9282-d80db0390238",
   "metadata": {},
   "outputs": [
    {
     "name": "stdout",
     "output_type": "stream",
     "text": [
      "(641710, 37)\n",
      "\n",
      "['@id_DOG', 'Handicap_DOG', 'RaceBox', 'Rating', 'DogGrade', 'DogGOBIS', 'DogPRIZE', '@id_RACE', 'RaceTimeDateUTC', 'GOBIS', 'Hurdle', 'Handicap_RACE', 'TAB', 'GradeCode', 'racetime_fix', 'xr_races', 'xr_races_l5', 'xr_wins', 'xr_wins_pct', 'xr_wins_l5', 'xr_wins_l5_pct', 'xr_fin_t2', 'xr_finl5_t2', 'xr_fin_t2_pct', 'xr_finl5_t2_pct', 'xr_fin_last', 'xr_fin_last_pct', 'xr_finl5_last', 'xr_finl5_last_pct', 'xr_fin_last2', 'xr_fin_last2_pct', 'xr_finl5_last2', 'xr_finl5_last2_pct', 'xr_fin_plc', 'xr_fin_plc_pct', 'xr_finl5_plc', 'xr_finl5_plc_pct']\n"
     ]
    }
   ],
   "source": [
    "\n",
    "# Import the Performance Dataset\n",
    "dateprep_perf = 'dataprep_performance_2023-02-22.csv'\n",
    "\n",
    "df_perf = pd.read_csv(f'{fileloc}/{dateprep_perf}')\n",
    "\n",
    "print(df_perf.shape)\n",
    "print()\n",
    "print(df_perf.columns.values.tolist())\n"
   ]
  },
  {
   "cell_type": "code",
   "execution_count": 15,
   "id": "6729f017-5406-4e10-bbd5-691326d68cc3",
   "metadata": {},
   "outputs": [
    {
     "name": "stdout",
     "output_type": "stream",
     "text": [
      "   @id_DOG  Handicap_DOG  RaceBox  Rating  DogGrade  DogGOBIS  DogPRIZE  @id_RACE  RaceTimeDateUTC   GOBIS  Hurdle  Handicap_RACE     TAB  GradeCode  racetime_fix  xr_races  xr_races_l5  xr_wins  \\\n",
      "0        0        641710     1861       0         0      1861      1861         0            41207  641710  641710         641710  445100          0         41207         0            0        0   \n",
      "\n",
      "   xr_wins_pct  xr_wins_l5  xr_wins_l5_pct  xr_fin_t2  xr_finl5_t2  xr_fin_t2_pct  xr_finl5_t2_pct  xr_fin_last  xr_fin_last_pct  xr_finl5_last  xr_finl5_last_pct  xr_fin_last2  xr_fin_last2_pct  \\\n",
      "0            0           0               0          0            0              0                0            0                0              0                  0             0                 0   \n",
      "\n",
      "   xr_finl5_last2  xr_finl5_last2_pct  xr_fin_plc  xr_fin_plc_pct  xr_finl5_plc  xr_finl5_plc_pct  \n",
      "0               0                   0           0               0             0                 0  \n"
     ]
    }
   ],
   "source": [
    "\n",
    "print(pd.DataFrame(df_perf.isna().sum()).transpose())\n"
   ]
  },
  {
   "cell_type": "code",
   "execution_count": 16,
   "id": "bf772a28-1f51-403e-ab11-22b242e00745",
   "metadata": {},
   "outputs": [
    {
     "name": "stdout",
     "output_type": "stream",
     "text": [
      "(585147, 25)\n",
      "\n",
      "['TrainerId', '@id_RACE', 'Event_Dt', 'trnr_xr_races_tot', 'trnr_xr_races_tot_prev', 'trnr_wins_prev', 'trnr_fin_plc_prev', 'trnr_fin_t2_prev', 'trnr_fin_last_prev', 'trnr_fin_last2_prev', 'trnr_xr_wins', 'trnr_xr_fin_plc', 'trnr_xr_fin_t2', 'trnr_xr_fin_last', 'trnr_xr_fin_last2', 'trnr_xrl5_wins', 'trnr_xrl5_fin_plc', 'trnr_xrl5_fin_t2', 'trnr_xrl5_fin_last', 'trnr_xrl5_fin_last2', 'trnr_xr_wins_pct', 'trnr_xr_fin_t2_pct', 'trnr_xr_fin_plc_pct', 'trnr_xr_fin_last_pct', 'trnr_xr_fin_last2_pct']\n"
     ]
    }
   ],
   "source": [
    "\n",
    "# Import the Performance Dataset\n",
    "dateprep_trnr_perf = 'dataprep_TRNR_performance_2023-02-22.csv'\n",
    "\n",
    "df_trnr_perf = pd.read_csv(f'{fileloc}/{dateprep_trnr_perf}')\n",
    "\n",
    "print(df_trnr_perf.shape)\n",
    "print()\n",
    "print(df_trnr_perf.columns.values.tolist())\n",
    "\n"
   ]
  },
  {
   "cell_type": "code",
   "execution_count": 17,
   "id": "6b5e15a7-11c5-4f05-a027-9d55d3f58ee7",
   "metadata": {},
   "outputs": [
    {
     "name": "stdout",
     "output_type": "stream",
     "text": [
      "   TrainerId  @id_RACE  Event_Dt  trnr_xr_races_tot  trnr_xr_races_tot_prev  trnr_wins_prev  trnr_fin_plc_prev  trnr_fin_t2_prev  trnr_fin_last_prev  trnr_fin_last2_prev  trnr_xr_wins  \\\n",
      "0          0         0         0                  0                       0               0                  0                 0                   0                    0             0   \n",
      "\n",
      "   trnr_xr_fin_plc  trnr_xr_fin_t2  trnr_xr_fin_last  trnr_xr_fin_last2  trnr_xrl5_wins  trnr_xrl5_fin_plc  trnr_xrl5_fin_t2  trnr_xrl5_fin_last  trnr_xrl5_fin_last2  trnr_xr_wins_pct  \\\n",
      "0                0               0                 0                  0               0                  0                 0                   0                    0                 0   \n",
      "\n",
      "   trnr_xr_fin_t2_pct  trnr_xr_fin_plc_pct  trnr_xr_fin_last_pct  trnr_xr_fin_last2_pct  \n",
      "0                   0                    0                     0                      0  \n"
     ]
    }
   ],
   "source": [
    "\n",
    "print(pd.DataFrame(df_trnr_perf.isna().sum()).transpose())\n"
   ]
  },
  {
   "cell_type": "code",
   "execution_count": 18,
   "id": "9849d83f-55d0-40d0-8fdd-9fd2b4a603cc",
   "metadata": {},
   "outputs": [
    {
     "data": {
      "text/plain": [
       "\"\\n# Import the Grading Dataset\\ndateprep_grading = 'dataset_base_grading_2022-12-16.csv'\\n\\ndf_grading = pd.read_csv(f'{fileloc}/{dateprep_grading}')\\n\\nprint(df_grading.shape)\\nprint()\\nprint(df_grading.columns.values.tolist())\\n\""
      ]
     },
     "execution_count": 18,
     "metadata": {},
     "output_type": "execute_result"
    }
   ],
   "source": [
    "\n",
    "\"\"\"\n",
    "# Import the Grading Dataset\n",
    "dateprep_grading = 'dataset_base_grading_2022-12-16.csv'\n",
    "\n",
    "df_grading = pd.read_csv(f'{fileloc}/{dateprep_grading}')\n",
    "\n",
    "print(df_grading.shape)\n",
    "print()\n",
    "print(df_grading.columns.values.tolist())\n",
    "\"\"\"\n"
   ]
  },
  {
   "cell_type": "code",
   "execution_count": 19,
   "id": "0c6c79de-4892-46f6-852f-b87fa8d1ed14",
   "metadata": {},
   "outputs": [],
   "source": [
    "\n",
    "#print(pd.DataFrame(df_grading.isna().sum()).transpose())\n"
   ]
  },
  {
   "cell_type": "code",
   "execution_count": null,
   "id": "5f7b0e1f-79dc-463e-9fbe-32aa25285a7b",
   "metadata": {},
   "outputs": [],
   "source": []
  },
  {
   "cell_type": "markdown",
   "id": "7071e949-2867-4c06-8a0b-e0f20a292295",
   "metadata": {},
   "source": [
    "#### Merging all the Dataset here"
   ]
  },
  {
   "cell_type": "code",
   "execution_count": null,
   "id": "82df1f20-4797-45a7-9d9a-4b72be497bac",
   "metadata": {},
   "outputs": [],
   "source": []
  },
  {
   "cell_type": "code",
   "execution_count": 20,
   "id": "479b778b-1d10-444a-aed2-b762f2d53646",
   "metadata": {},
   "outputs": [
    {
     "data": {
      "text/plain": [
       "\"\\nprint(df_base_raw.shape)\\nprint(df_speed_profile.shape)\\nprint(df_race_profile.shape)\\n\\nprint()\\nprint()\\ndf_base0 = pd.merge( df_base_raw, df_speed_profile, on = ['@id_DOG','@id_RACE'], how = 'left')\\nprint(df_base0.shape)\\nprint(df_base0.columns.values.tolist())\\n\\nprint()\\nprint()\\ndf_base1 = pd.merge( df_base0, df_race_profile, on = ['@id_DOG','@id_RACE'], how = 'left')\\nprint(df_base1.shape)\\nprint(df_base1.columns.values.tolist())\\n\\nprint()\\nprint()\\ndf_base2 = pd.merge( df_base1, df_categorical.drop(columns = ['DogName','Distance','x_dist_gp']), on = ['@id_DOG','@id_RACE'], how = 'left')\\nprint(df_base2.shape)\\nprint(df_base2.columns.values.tolist())\\n\\nprint()\\nprint()\\ndf_base3 = pd.merge( df_base2, df_perf, on = ['@id_DOG','@id_RACE'], how = 'left')\\nprint(df_base3.shape)\\nprint(df_base3.columns.values.tolist())\\n\\nprint(datetime.now())\\n\""
      ]
     },
     "execution_count": 20,
     "metadata": {},
     "output_type": "execute_result"
    }
   ],
   "source": [
    "\n",
    "# Merge the datasets together\n",
    "\"\"\"\n",
    "print(df_base_raw.shape)\n",
    "print(df_speed_profile.shape)\n",
    "print(df_race_profile.shape)\n",
    "\n",
    "print()\n",
    "print()\n",
    "df_base0 = pd.merge( df_base_raw, df_speed_profile, on = ['@id_DOG','@id_RACE'], how = 'left')\n",
    "print(df_base0.shape)\n",
    "print(df_base0.columns.values.tolist())\n",
    "\n",
    "print()\n",
    "print()\n",
    "df_base1 = pd.merge( df_base0, df_race_profile, on = ['@id_DOG','@id_RACE'], how = 'left')\n",
    "print(df_base1.shape)\n",
    "print(df_base1.columns.values.tolist())\n",
    "\n",
    "print()\n",
    "print()\n",
    "df_base2 = pd.merge( df_base1, df_categorical.drop(columns = ['DogName','Distance','x_dist_gp']), on = ['@id_DOG','@id_RACE'], how = 'left')\n",
    "print(df_base2.shape)\n",
    "print(df_base2.columns.values.tolist())\n",
    "\n",
    "print()\n",
    "print()\n",
    "df_base3 = pd.merge( df_base2, df_perf, on = ['@id_DOG','@id_RACE'], how = 'left')\n",
    "print(df_base3.shape)\n",
    "print(df_base3.columns.values.tolist())\n",
    "\n",
    "print(datetime.now())\n",
    "\"\"\"\n"
   ]
  },
  {
   "cell_type": "code",
   "execution_count": 21,
   "id": "d391b0ea-e1c5-42e9-acf3-f51f9d9d9ebf",
   "metadata": {},
   "outputs": [
    {
     "name": "stdout",
     "output_type": "stream",
     "text": [
      "(641710, 3)\n",
      "(641710, 32)\n",
      "\n",
      "\n",
      "(641710, 33)\n",
      "['@id_DOG', '@id_RACE', 'TrainerId', 'Handicap_DOG', 'RaceBox', 'Rating', 'DogGrade', 'DogGOBIS', 'DogPRIZE', 'RaceTimeDateUTC', 'GOBIS', 'Hurdle', 'Handicap_RACE', 'TAB', 'GradeCode', 'racetime_fix', 'x_races_tot', 'x_dist_gp', 'x_runtm_gp', 'x_rtgp_prev', 'x_rtgp_avg', 'x_rtgp_min', 'x_rtgp_max', 'x_rtgp_range', 'x_rtgp_std', 'x_no_prev_races', 'x_speed_prev', 'x_speed_avg', 'x_speed_min', 'x_speed_max', 'x_speed_range', 'x_speed_std', 'x_no_prev_r_in_dist']\n",
      "(641710, 37)\n",
      "\n",
      "\n",
      "(641710, 68)\n",
      "['@id_DOG', '@id_RACE', 'TrainerId', 'Handicap_DOG_x', 'RaceBox_x', 'Rating_x', 'DogGrade_x', 'DogGOBIS_x', 'DogPRIZE_x', 'RaceTimeDateUTC_x', 'GOBIS_x', 'Hurdle_x', 'Handicap_RACE_x', 'TAB_x', 'GradeCode_x', 'racetime_fix_x', 'x_races_tot', 'x_dist_gp', 'x_runtm_gp', 'x_rtgp_prev', 'x_rtgp_avg', 'x_rtgp_min', 'x_rtgp_max', 'x_rtgp_range', 'x_rtgp_std', 'x_no_prev_races', 'x_speed_prev', 'x_speed_avg', 'x_speed_min', 'x_speed_max', 'x_speed_range', 'x_speed_std', 'x_no_prev_r_in_dist', 'Handicap_DOG_y', 'RaceBox_y', 'Rating_y', 'DogGrade_y', 'DogGOBIS_y', 'DogPRIZE_y', 'RaceTimeDateUTC_y', 'GOBIS_y', 'Hurdle_y', 'Handicap_RACE_y', 'TAB_y', 'GradeCode_y', 'racetime_fix_y', 'xr_races', 'xr_races_l5', 'xr_wins', 'xr_wins_pct', 'xr_wins_l5', 'xr_wins_l5_pct', 'xr_fin_t2', 'xr_finl5_t2', 'xr_fin_t2_pct', 'xr_finl5_t2_pct', 'xr_fin_last', 'xr_fin_last_pct', 'xr_finl5_last', 'xr_finl5_last_pct', 'xr_fin_last2', 'xr_fin_last2_pct', 'xr_finl5_last2', 'xr_finl5_last2_pct', 'xr_fin_plc', 'xr_fin_plc_pct', 'xr_finl5_plc', 'xr_finl5_plc_pct']\n",
      "\n",
      "2023-02-22 22:04:15.814473\n"
     ]
    }
   ],
   "source": [
    "\n",
    "# Merge the datasets together\n",
    "\n",
    "print(df_base_raw.shape)\n",
    "print(df_speed_profile.shape)\n",
    "\n",
    "print()\n",
    "print()\n",
    "df_base0 = pd.merge( df_base_raw, df_speed_profile, on = ['@id_DOG','@id_RACE'], how = 'left')\n",
    "print(df_base0.shape)\n",
    "print(df_base0.columns.values.tolist())\n",
    "\n",
    "\n",
    "print(df_perf.shape)\n",
    "\n",
    "print()\n",
    "print()\n",
    "df_base1 = pd.merge( df_base0, df_perf, on = ['@id_DOG','@id_RACE'], how = 'left')\n",
    "print(df_base1.shape)\n",
    "print(df_base1.columns.values.tolist())\n",
    "\n",
    "print()\n",
    "print(datetime.now())\n"
   ]
  },
  {
   "cell_type": "code",
   "execution_count": 22,
   "id": "af8c4826-759c-4437-b8a5-ec6718ce0397",
   "metadata": {},
   "outputs": [
    {
     "name": "stdout",
     "output_type": "stream",
     "text": [
      "2023-02-22 22:04:15.821355\n",
      "\n",
      "\n",
      "(641710, 91)\n",
      "['@id_DOG', '@id_RACE', 'TrainerId', 'Handicap_DOG_x', 'RaceBox_x', 'Rating_x', 'DogGrade_x', 'DogGOBIS_x', 'DogPRIZE_x', 'RaceTimeDateUTC_x', 'GOBIS_x', 'Hurdle_x', 'Handicap_RACE_x', 'TAB_x', 'GradeCode_x', 'racetime_fix_x', 'x_races_tot', 'x_dist_gp', 'x_runtm_gp', 'x_rtgp_prev', 'x_rtgp_avg', 'x_rtgp_min', 'x_rtgp_max', 'x_rtgp_range', 'x_rtgp_std', 'x_no_prev_races', 'x_speed_prev', 'x_speed_avg', 'x_speed_min', 'x_speed_max', 'x_speed_range', 'x_speed_std', 'x_no_prev_r_in_dist', 'Handicap_DOG_y', 'RaceBox_y', 'Rating_y', 'DogGrade_y', 'DogGOBIS_y', 'DogPRIZE_y', 'RaceTimeDateUTC_y', 'GOBIS_y', 'Hurdle_y', 'Handicap_RACE_y', 'TAB_y', 'GradeCode_y', 'racetime_fix_y', 'xr_races', 'xr_races_l5', 'xr_wins', 'xr_wins_pct', 'xr_wins_l5', 'xr_wins_l5_pct', 'xr_fin_t2', 'xr_finl5_t2', 'xr_fin_t2_pct', 'xr_finl5_t2_pct', 'xr_fin_last', 'xr_fin_last_pct', 'xr_finl5_last', 'xr_finl5_last_pct', 'xr_fin_last2', 'xr_fin_last2_pct', 'xr_finl5_last2', 'xr_finl5_last2_pct', 'xr_fin_plc', 'xr_fin_plc_pct', 'xr_finl5_plc', 'xr_finl5_plc_pct', 'Event_Dt', 'trnr_xr_races_tot', 'trnr_xr_races_tot_prev', 'trnr_wins_prev', 'trnr_fin_plc_prev', 'trnr_fin_t2_prev', 'trnr_fin_last_prev', 'trnr_fin_last2_prev', 'trnr_xr_wins', 'trnr_xr_fin_plc', 'trnr_xr_fin_t2', 'trnr_xr_fin_last', 'trnr_xr_fin_last2', 'trnr_xrl5_wins', 'trnr_xrl5_fin_plc', 'trnr_xrl5_fin_t2', 'trnr_xrl5_fin_last', 'trnr_xrl5_fin_last2', 'trnr_xr_wins_pct', 'trnr_xr_fin_t2_pct', 'trnr_xr_fin_plc_pct', 'trnr_xr_fin_last_pct', 'trnr_xr_fin_last2_pct']\n",
      "\n",
      "2023-02-22 22:04:16.115762\n"
     ]
    }
   ],
   "source": [
    "\n",
    "print(datetime.now())\n",
    "\n",
    "print()\n",
    "print()\n",
    "df_base = pd.merge( df_base1, df_trnr_perf, on = ['TrainerId','@id_RACE'], how = 'left')\n",
    "print(df_base.shape)\n",
    "print(df_base.columns.values.tolist())\n",
    "\n",
    "print()\n",
    "print(datetime.now())\n"
   ]
  },
  {
   "cell_type": "code",
   "execution_count": 23,
   "id": "34044e43-30f2-4ca5-b055-ff575be54be4",
   "metadata": {},
   "outputs": [],
   "source": [
    "\n",
    "del df_base0, df_base1\n"
   ]
  },
  {
   "cell_type": "code",
   "execution_count": 24,
   "id": "0fc73963-27ed-41f5-b0e4-05f1b55aa0dc",
   "metadata": {},
   "outputs": [
    {
     "name": "stdout",
     "output_type": "stream",
     "text": [
      "   @id_DOG  @id_RACE  TrainerId  Handicap_DOG_x  RaceBox_x  Rating_x  DogGrade_x  DogGOBIS_x  DogPRIZE_x  RaceTimeDateUTC_x  GOBIS_x  Hurdle_x  Handicap_RACE_x   TAB_x  GradeCode_x  racetime_fix_x  \\\n",
      "0        0         0          0          641710       1861         0           0        1861        1861              41207   641710    641710           641710  445100            0           41207   \n",
      "\n",
      "   x_races_tot  x_dist_gp  x_runtm_gp  x_rtgp_prev  x_rtgp_avg  x_rtgp_min  x_rtgp_max  x_rtgp_range  x_rtgp_std  ...  xr_finl5_plc  xr_finl5_plc_pct  Event_Dt  trnr_xr_races_tot  \\\n",
      "0            0          0           0            0           0           0           0             0           0  ...             0                 0         0                  0   \n",
      "\n",
      "   trnr_xr_races_tot_prev  trnr_wins_prev  trnr_fin_plc_prev  trnr_fin_t2_prev  trnr_fin_last_prev  trnr_fin_last2_prev  trnr_xr_wins  trnr_xr_fin_plc  trnr_xr_fin_t2  trnr_xr_fin_last  \\\n",
      "0                       0               0                  0                 0                   0                    0             0                0               0                 0   \n",
      "\n",
      "   trnr_xr_fin_last2  trnr_xrl5_wins  trnr_xrl5_fin_plc  trnr_xrl5_fin_t2  trnr_xrl5_fin_last  trnr_xrl5_fin_last2  trnr_xr_wins_pct  trnr_xr_fin_t2_pct  trnr_xr_fin_plc_pct  trnr_xr_fin_last_pct  \\\n",
      "0                  0               0                  0                 0                   0                    0                 0                   0                    0                     0   \n",
      "\n",
      "   trnr_xr_fin_last2_pct  \n",
      "0                      0  \n",
      "\n",
      "[1 rows x 91 columns]\n"
     ]
    }
   ],
   "source": [
    "\n",
    "print(pd.DataFrame(df_base.isna().sum()).transpose())\n"
   ]
  },
  {
   "cell_type": "code",
   "execution_count": null,
   "id": "deb5aaf2-0414-42c6-890f-d7345566351d",
   "metadata": {},
   "outputs": [],
   "source": []
  },
  {
   "cell_type": "markdown",
   "id": "c6fd212a-e8c2-4e89-919b-6ff5da67b814",
   "metadata": {},
   "source": [
    "### Normalising the x_speed_prev in Each RaceId"
   ]
  },
  {
   "cell_type": "code",
   "execution_count": 25,
   "id": "542586a2-f2e0-41a3-aad6-ae4976b28d9b",
   "metadata": {},
   "outputs": [
    {
     "name": "stdout",
     "output_type": "stream",
     "text": [
      "2023-02-22 22:04:16.476279\n"
     ]
    }
   ],
   "source": [
    "\n",
    "\"\"\"\n",
    "NOTE:\n",
    "    When mean is 0 created flag - No Prev Races\n",
    "    When std is 0 create flag - No Std\n",
    "    \n",
    "Q Sau takke ka sawaal ? \n",
    "    Missing Norm values be replaced with 0 or 0.5.\n",
    "        Currently used 0.5    \n",
    "\n",
    "print(datetime.now())\n",
    "\n",
    "ds_norm = df_base1.groupby('@id_RACE')['x_speed_prev'].agg( ['mean','std'] ).reset_index().rename(columns = {'mean':'x_speed_prev_mean', 'std':'x_speed_prev_std'} )\n",
    "\n",
    "df_base1 = df_base1.merge( ds_norm , on = '@id_RACE' )\n",
    "df_base1['x_no_speed_prev_std'] = df_base1['x_speed_prev_std'].apply(lambda x : 1 if x == 0 else 0 )\n",
    "\n",
    "df_base1['x_speed_prev_norm'] = (df_base1['x_speed_prev'] - df_base1['x_speed_prev_mean']) / df_base1['x_speed_prev_std']\n",
    "df_base1['x_speed_prev_norm'] = df_base1.apply(lambda x : 0.5 if (x.x_speed_prev_mean == 0) | (x.x_speed_prev_std == 0) | (pd.isna(x.x_speed_prev_std)) else ( x.x_speed_prev - x.x_speed_prev_mean ) / x.x_speed_prev_std, axis = 1) \n",
    "#df_base1['x_speed_prev_norm'] = df_base1['x_speed_prev_norm'].fillna(0.5)\n",
    "\n",
    "\"\"\"\n",
    "\n",
    "print(datetime.now())\n"
   ]
  },
  {
   "cell_type": "code",
   "execution_count": 26,
   "id": "1f3369f7-5aa0-4588-9039-4ae578143b6a",
   "metadata": {},
   "outputs": [
    {
     "name": "stdout",
     "output_type": "stream",
     "text": [
      "   @id_DOG  @id_RACE  TrainerId  Handicap_DOG_x  RaceBox_x  Rating_x  DogGrade_x  DogGOBIS_x  DogPRIZE_x  RaceTimeDateUTC_x  GOBIS_x  Hurdle_x  Handicap_RACE_x   TAB_x  GradeCode_x  racetime_fix_x  \\\n",
      "0        0         0          0          641710       1861         0           0        1861        1861              41207   641710    641710           641710  445100            0           41207   \n",
      "\n",
      "   x_races_tot  x_dist_gp  x_runtm_gp  x_rtgp_prev  x_rtgp_avg  x_rtgp_min  x_rtgp_max  x_rtgp_range  x_rtgp_std  ...  xr_finl5_plc  xr_finl5_plc_pct  Event_Dt  trnr_xr_races_tot  \\\n",
      "0            0          0           0            0           0           0           0             0           0  ...             0                 0         0                  0   \n",
      "\n",
      "   trnr_xr_races_tot_prev  trnr_wins_prev  trnr_fin_plc_prev  trnr_fin_t2_prev  trnr_fin_last_prev  trnr_fin_last2_prev  trnr_xr_wins  trnr_xr_fin_plc  trnr_xr_fin_t2  trnr_xr_fin_last  \\\n",
      "0                       0               0                  0                 0                   0                    0             0                0               0                 0   \n",
      "\n",
      "   trnr_xr_fin_last2  trnr_xrl5_wins  trnr_xrl5_fin_plc  trnr_xrl5_fin_t2  trnr_xrl5_fin_last  trnr_xrl5_fin_last2  trnr_xr_wins_pct  trnr_xr_fin_t2_pct  trnr_xr_fin_plc_pct  trnr_xr_fin_last_pct  \\\n",
      "0                  0               0                  0                 0                   0                    0                 0                   0                    0                     0   \n",
      "\n",
      "   trnr_xr_fin_last2_pct  \n",
      "0                      0  \n",
      "\n",
      "[1 rows x 91 columns]\n"
     ]
    }
   ],
   "source": [
    "\n",
    "# QC the Transformation\n",
    "\n",
    "print(pd.DataFrame(df_base.isna().sum()).transpose())\n",
    "qc_missing = pd.DataFrame(df_base.isna().sum())\n",
    "\n",
    "#qc_missing.to_csv()\n",
    "qc_missing.to_csv(f'{fileloc}/missing.csv', index = False)\n",
    "\n",
    "#df_base2.groupby('x_no_prev_races')['x_speed_prev_std'].isna().sum()\n",
    "#df_base2.groupby('x_no_prev_races')[['x_speed_prev_mean', 'x_speed_prev_std']].apply(lambda x: x.isna().sum())\n",
    "#df_base1.groupby(['x_no_prev_races','x_no_speed_prev_std'])[['x_speed_prev_mean', 'x_speed_prev_std']].apply(lambda x: x.eq(0).sum())\n"
   ]
  },
  {
   "cell_type": "code",
   "execution_count": 27,
   "id": "b2b420b8-120c-41c3-ba65-c4d6bb2b9d1a",
   "metadata": {},
   "outputs": [
    {
     "name": "stdout",
     "output_type": "stream",
     "text": [
      "['@id_DOG', '@id_RACE', 'TrainerId', 'Handicap_DOG_x', 'RaceBox_x', 'Rating_x', 'DogGrade_x', 'DogGOBIS_x', 'DogPRIZE_x', 'RaceTimeDateUTC_x', 'GOBIS_x', 'Hurdle_x', 'Handicap_RACE_x', 'TAB_x', 'GradeCode_x', 'racetime_fix_x', 'x_races_tot', 'x_dist_gp', 'x_runtm_gp', 'x_rtgp_prev', 'x_rtgp_avg', 'x_rtgp_min', 'x_rtgp_max', 'x_rtgp_range', 'x_rtgp_std', 'x_no_prev_races', 'x_speed_prev', 'x_speed_avg', 'x_speed_min', 'x_speed_max', 'x_speed_range', 'x_speed_std', 'x_no_prev_r_in_dist', 'Handicap_DOG_y', 'RaceBox_y', 'Rating_y', 'DogGrade_y', 'DogGOBIS_y', 'DogPRIZE_y', 'RaceTimeDateUTC_y', 'GOBIS_y', 'Hurdle_y', 'Handicap_RACE_y', 'TAB_y', 'GradeCode_y', 'racetime_fix_y', 'xr_races', 'xr_races_l5', 'xr_wins', 'xr_wins_pct', 'xr_wins_l5', 'xr_wins_l5_pct', 'xr_fin_t2', 'xr_finl5_t2', 'xr_fin_t2_pct', 'xr_finl5_t2_pct', 'xr_fin_last', 'xr_fin_last_pct', 'xr_finl5_last', 'xr_finl5_last_pct', 'xr_fin_last2', 'xr_fin_last2_pct', 'xr_finl5_last2', 'xr_finl5_last2_pct', 'xr_fin_plc', 'xr_fin_plc_pct', 'xr_finl5_plc', 'xr_finl5_plc_pct', 'Event_Dt', 'trnr_xr_races_tot', 'trnr_xr_races_tot_prev', 'trnr_wins_prev', 'trnr_fin_plc_prev', 'trnr_fin_t2_prev', 'trnr_fin_last_prev', 'trnr_fin_last2_prev', 'trnr_xr_wins', 'trnr_xr_fin_plc', 'trnr_xr_fin_t2', 'trnr_xr_fin_last', 'trnr_xr_fin_last2', 'trnr_xrl5_wins', 'trnr_xrl5_fin_plc', 'trnr_xrl5_fin_t2', 'trnr_xrl5_fin_last', 'trnr_xrl5_fin_last2', 'trnr_xr_wins_pct', 'trnr_xr_fin_t2_pct', 'trnr_xr_fin_plc_pct', 'trnr_xr_fin_last_pct', 'trnr_xr_fin_last2_pct']\n"
     ]
    }
   ],
   "source": [
    "\n",
    "print(df_base.columns.values.tolist())\n"
   ]
  },
  {
   "cell_type": "code",
   "execution_count": 28,
   "id": "50bc63dd-f300-4544-843d-0e273c2befe8",
   "metadata": {},
   "outputs": [
    {
     "name": "stdout",
     "output_type": "stream",
     "text": [
      "91\n"
     ]
    }
   ],
   "source": [
    "\n",
    "print(len(df_base.columns.values.tolist()))\n"
   ]
  },
  {
   "cell_type": "code",
   "execution_count": 29,
   "id": "6f6180de-2061-48fc-87f7-041dbfcff759",
   "metadata": {},
   "outputs": [
    {
     "name": "stdout",
     "output_type": "stream",
     "text": [
      "57\n",
      "2023-02-22 22:04:18.238263\n"
     ]
    }
   ],
   "source": [
    "\"\"\"\n",
    "\n",
    "['@id_DOG', '@id_RACE', 'TrainerId'\\\n",
    "    , 'x_races_tot'\\\n",
    "    --, 'x_dist_gp'\\\n",
    "    , 'x_runtm_gp', 'x_rtgp_prev', 'x_rtgp_avg', 'x_rtgp_min', 'x_rtgp_max', 'x_rtgp_range', 'x_rtgp_std'\\\n",
    "    --, 'x_no_prev_races'\\\n",
    "    , 'x_speed_prev', 'x_speed_avg', 'x_speed_min', 'x_speed_max', 'x_speed_range'\\\n",
    "    -- , 'x_speed_std', 'x_no_prev_r_in_dist'\\\n",
    "    , 'xr_races', 'xr_races_l5', 'xr_wins', 'xr_wins_pct', 'xr_wins_l5', 'xr_wins_l5_pct', 'xr_fin_t2', 'xr_finl5_t2', 'xr_fin_t2_pct', 'xr_finl5_t2_pct', 'xr_fin_last', 'xr_fin_last_pct', 'xr_finl5_last', 'xr_finl5_last_pct', 'xr_fin_last2', 'xr_fin_last2_pct', 'xr_finl5_last2', 'xr_finl5_last2_pct', 'xr_fin_plc', 'xr_fin_plc_pct', 'xr_finl5_plc', 'xr_finl5_plc_pct'\\\n",
    "    --, 'Event_Dt'\\\n",
    "    , 'trnr_xr_races_tot', 'trnr_xr_races_tot_prev', 'trnr_wins_prev', 'trnr_fin_plc_prev', 'trnr_fin_t2_prev', 'trnr_fin_last_prev', 'trnr_fin_last2_prev', 'trnr_xr_wins', 'trnr_xr_fin_plc', 'trnr_xr_fin_t2', 'trnr_xr_fin_last', 'trnr_xr_fin_last2', 'trnr_xrl5_wins', 'trnr_xrl5_fin_plc', 'trnr_xrl5_fin_t2', 'trnr_xrl5_fin_last', 'trnr_xrl5_fin_last2'\\\n",
    "    , 'trnr_xr_wins_pct', 'trnr_xr_fin_t2_pct', 'trnr_xr_fin_plc_pct', 'trnr_xr_fin_last_pct', 'trnr_xr_fin_last2_pct']\n",
    "\n",
    "\"\"\"\n",
    "\n",
    "cols_to_norm = [\\\n",
    "    'x_races_tot'\\\n",
    "    , 'x_runtm_gp', 'x_rtgp_prev', 'x_rtgp_avg', 'x_rtgp_min', 'x_rtgp_max', 'x_rtgp_range', 'x_rtgp_std'\\\n",
    "    , 'x_speed_prev', 'x_speed_avg', 'x_speed_min', 'x_speed_max', 'x_speed_range'\\\n",
    "    , 'xr_races', 'xr_races_l5', 'xr_wins', 'xr_wins_pct', 'xr_wins_l5', 'xr_wins_l5_pct', 'xr_fin_t2', 'xr_finl5_t2', 'xr_fin_t2_pct', 'xr_finl5_t2_pct', 'xr_fin_last', 'xr_fin_last_pct', 'xr_finl5_last', 'xr_finl5_last_pct', 'xr_fin_last2', 'xr_fin_last2_pct', 'xr_finl5_last2', 'xr_finl5_last2_pct', 'xr_fin_plc', 'xr_fin_plc_pct', 'xr_finl5_plc', 'xr_finl5_plc_pct'\\\n",
    "    , 'trnr_xr_races_tot', 'trnr_xr_races_tot_prev', 'trnr_wins_prev', 'trnr_fin_plc_prev', 'trnr_fin_t2_prev', 'trnr_fin_last_prev', 'trnr_fin_last2_prev', 'trnr_xr_wins', 'trnr_xr_fin_plc', 'trnr_xr_fin_t2', 'trnr_xr_fin_last', 'trnr_xr_fin_last2', 'trnr_xrl5_wins', 'trnr_xrl5_fin_plc', 'trnr_xrl5_fin_t2', 'trnr_xrl5_fin_last', 'trnr_xrl5_fin_last2'\\\n",
    "    , 'trnr_xr_wins_pct', 'trnr_xr_fin_t2_pct', 'trnr_xr_fin_plc_pct', 'trnr_xr_fin_last_pct', 'trnr_xr_fin_last2_pct']\n",
    "\n",
    "print(len(cols_to_norm))\n",
    "print(datetime.now())\n"
   ]
  },
  {
   "cell_type": "code",
   "execution_count": 30,
   "id": "405b36f3-42b9-4d9a-b982-3ff37635a459",
   "metadata": {},
   "outputs": [],
   "source": [
    "\n",
    "\n",
    "#df_base1['x_rtgp_prev'].plot( kind='density', legend=True, figsize = (24,8) )\n",
    "#df_base['x_rtgp_avg'].plot( kind='density', legend=True, figsize = (24,8) )\n",
    "\n"
   ]
  },
  {
   "cell_type": "code",
   "execution_count": 31,
   "id": "5d32a27b-4009-4ac6-9b1e-7097a8754f9c",
   "metadata": {},
   "outputs": [
    {
     "name": "stdout",
     "output_type": "stream",
     "text": [
      "2023-02-22 22:04:18.277484\n",
      "x_races_tot_mean x_races_tot_std x_races_tot_norm\n",
      "x_runtm_gp_mean x_runtm_gp_std x_runtm_gp_norm\n",
      "x_rtgp_prev_mean x_rtgp_prev_std x_rtgp_prev_norm\n",
      "x_rtgp_avg_mean x_rtgp_avg_std x_rtgp_avg_norm\n",
      "x_rtgp_min_mean x_rtgp_min_std x_rtgp_min_norm\n",
      "x_rtgp_max_mean x_rtgp_max_std x_rtgp_max_norm\n",
      "x_rtgp_range_mean x_rtgp_range_std x_rtgp_range_norm\n",
      "x_rtgp_std_mean x_rtgp_std_std x_rtgp_std_norm\n",
      "x_speed_prev_mean x_speed_prev_std x_speed_prev_norm\n",
      "x_speed_avg_mean x_speed_avg_std x_speed_avg_norm\n",
      "x_speed_min_mean x_speed_min_std x_speed_min_norm\n",
      "x_speed_max_mean x_speed_max_std x_speed_max_norm\n",
      "x_speed_range_mean x_speed_range_std x_speed_range_norm\n",
      "xr_races_mean xr_races_std xr_races_norm\n",
      "xr_races_l5_mean xr_races_l5_std xr_races_l5_norm\n",
      "xr_wins_mean xr_wins_std xr_wins_norm\n",
      "xr_wins_pct_mean xr_wins_pct_std xr_wins_pct_norm\n",
      "xr_wins_l5_mean xr_wins_l5_std xr_wins_l5_norm\n",
      "xr_wins_l5_pct_mean xr_wins_l5_pct_std xr_wins_l5_pct_norm\n",
      "xr_fin_t2_mean xr_fin_t2_std xr_fin_t2_norm\n",
      "xr_finl5_t2_mean xr_finl5_t2_std xr_finl5_t2_norm\n",
      "xr_fin_t2_pct_mean xr_fin_t2_pct_std xr_fin_t2_pct_norm\n",
      "xr_finl5_t2_pct_mean xr_finl5_t2_pct_std xr_finl5_t2_pct_norm\n",
      "xr_fin_last_mean xr_fin_last_std xr_fin_last_norm\n",
      "xr_fin_last_pct_mean xr_fin_last_pct_std xr_fin_last_pct_norm\n",
      "xr_finl5_last_mean xr_finl5_last_std xr_finl5_last_norm\n",
      "xr_finl5_last_pct_mean xr_finl5_last_pct_std xr_finl5_last_pct_norm\n",
      "xr_fin_last2_mean xr_fin_last2_std xr_fin_last2_norm\n",
      "xr_fin_last2_pct_mean xr_fin_last2_pct_std xr_fin_last2_pct_norm\n",
      "xr_finl5_last2_mean xr_finl5_last2_std xr_finl5_last2_norm\n",
      "xr_finl5_last2_pct_mean xr_finl5_last2_pct_std xr_finl5_last2_pct_norm\n",
      "xr_fin_plc_mean xr_fin_plc_std xr_fin_plc_norm\n",
      "xr_fin_plc_pct_mean xr_fin_plc_pct_std xr_fin_plc_pct_norm\n",
      "xr_finl5_plc_mean xr_finl5_plc_std xr_finl5_plc_norm\n",
      "xr_finl5_plc_pct_mean xr_finl5_plc_pct_std xr_finl5_plc_pct_norm\n",
      "trnr_xr_races_tot_mean trnr_xr_races_tot_std trnr_xr_races_tot_norm\n",
      "trnr_xr_races_tot_prev_mean trnr_xr_races_tot_prev_std trnr_xr_races_tot_prev_norm\n",
      "trnr_wins_prev_mean trnr_wins_prev_std trnr_wins_prev_norm\n",
      "trnr_fin_plc_prev_mean trnr_fin_plc_prev_std trnr_fin_plc_prev_norm\n",
      "trnr_fin_t2_prev_mean trnr_fin_t2_prev_std trnr_fin_t2_prev_norm\n",
      "trnr_fin_last_prev_mean trnr_fin_last_prev_std trnr_fin_last_prev_norm\n",
      "trnr_fin_last2_prev_mean trnr_fin_last2_prev_std trnr_fin_last2_prev_norm\n",
      "trnr_xr_wins_mean trnr_xr_wins_std trnr_xr_wins_norm\n",
      "trnr_xr_fin_plc_mean trnr_xr_fin_plc_std trnr_xr_fin_plc_norm\n",
      "trnr_xr_fin_t2_mean trnr_xr_fin_t2_std trnr_xr_fin_t2_norm\n",
      "trnr_xr_fin_last_mean trnr_xr_fin_last_std trnr_xr_fin_last_norm\n",
      "trnr_xr_fin_last2_mean trnr_xr_fin_last2_std trnr_xr_fin_last2_norm\n",
      "trnr_xrl5_wins_mean trnr_xrl5_wins_std trnr_xrl5_wins_norm\n",
      "trnr_xrl5_fin_plc_mean trnr_xrl5_fin_plc_std trnr_xrl5_fin_plc_norm\n",
      "trnr_xrl5_fin_t2_mean trnr_xrl5_fin_t2_std trnr_xrl5_fin_t2_norm\n",
      "trnr_xrl5_fin_last_mean trnr_xrl5_fin_last_std trnr_xrl5_fin_last_norm\n",
      "trnr_xrl5_fin_last2_mean trnr_xrl5_fin_last2_std trnr_xrl5_fin_last2_norm\n",
      "trnr_xr_wins_pct_mean trnr_xr_wins_pct_std trnr_xr_wins_pct_norm\n",
      "trnr_xr_fin_t2_pct_mean trnr_xr_fin_t2_pct_std trnr_xr_fin_t2_pct_norm\n",
      "trnr_xr_fin_plc_pct_mean trnr_xr_fin_plc_pct_std trnr_xr_fin_plc_pct_norm\n",
      "trnr_xr_fin_last_pct_mean trnr_xr_fin_last_pct_std trnr_xr_fin_last_pct_norm\n",
      "trnr_xr_fin_last2_pct_mean trnr_xr_fin_last2_pct_std trnr_xr_fin_last2_pct_norm\n",
      "\n",
      "2023-02-22 22:18:26.302888\n"
     ]
    }
   ],
   "source": [
    "\n",
    "# Normalising multiple columns in loop\n",
    "\n",
    "# 10 Minute-Runtime\n",
    "\n",
    "print(datetime.now())\n",
    "\n",
    "for curr_col in cols_to_norm:\n",
    "    \n",
    "    mean_name = curr_col + '_mean'\n",
    "    std_name = curr_col + '_std'\n",
    "    no_std_name = curr_col + '_std' + '_no'\n",
    "    norm_name = curr_col + '_norm'\n",
    "    \n",
    "    print(mean_name, std_name, norm_name)\n",
    "\n",
    "    ds_norm = df_base.groupby('@id_RACE')[curr_col].agg(['mean','std']).reset_index().rename(columns = {'mean':mean_name, 'std':std_name})\n",
    "\n",
    "    df_base = df_base.merge(ds_norm , on = '@id_RACE')\n",
    "    df_base[no_std_name] = df_base[std_name].apply(lambda x : 1 if x == 0 else 0)\n",
    "\n",
    "    #df_base[norm_name] = (df_base[curr_col] - df_base[mean_name]) / df_base[std_name]\n",
    "    #df_base['x_speed_prev_norm'] = df_base.apply(lambda x : 0.5 if (x.x_speed_prev_mean == 0) | (x.x_speed_prev_std == 0) | (pd.isna(x.x_speed_prev_std)) else ( x.x_speed_prev - x.x_speed_prev_mean ) / x.x_speed_prev_std, axis = 1)\n",
    "    df_base[norm_name] = df_base.apply(lambda x : 0 if (x[mean_name] == 0) | (x[std_name] == 0) | (pd.isna(x[std_name])) else ( x[curr_col] - x[mean_name] ) / x[std_name], axis = 1)\n",
    "    #df_base[norm_name] = df_base[norm_name].fillna(0.5)\n",
    "    \n",
    "    df_base.drop(columns = [mean_name, std_name, no_std_name], inplace = True)\n",
    "    \n",
    "    del ds_norm, mean_name, std_name, no_std_name, norm_name\n",
    "\n",
    "print()\n",
    "print(datetime.now())\n",
    "\n"
   ]
  },
  {
   "cell_type": "code",
   "execution_count": 32,
   "id": "868ac9b8-2a7a-4e50-bfe6-027af2d4549d",
   "metadata": {},
   "outputs": [
    {
     "name": "stdout",
     "output_type": "stream",
     "text": [
      "['@id_DOG', '@id_RACE', 'TrainerId', 'Handicap_DOG_x', 'RaceBox_x', 'Rating_x', 'DogGrade_x', 'DogGOBIS_x', 'DogPRIZE_x', 'RaceTimeDateUTC_x', 'GOBIS_x', 'Hurdle_x', 'Handicap_RACE_x', 'TAB_x', 'GradeCode_x', 'racetime_fix_x', 'x_races_tot', 'x_dist_gp', 'x_runtm_gp', 'x_rtgp_prev', 'x_rtgp_avg', 'x_rtgp_min', 'x_rtgp_max', 'x_rtgp_range', 'x_rtgp_std', 'x_no_prev_races', 'x_speed_prev', 'x_speed_avg', 'x_speed_min', 'x_speed_max', 'x_speed_range', 'x_speed_std', 'x_no_prev_r_in_dist', 'Handicap_DOG_y', 'RaceBox_y', 'Rating_y', 'DogGrade_y', 'DogGOBIS_y', 'DogPRIZE_y', 'RaceTimeDateUTC_y', 'GOBIS_y', 'Hurdle_y', 'Handicap_RACE_y', 'TAB_y', 'GradeCode_y', 'racetime_fix_y', 'xr_races', 'xr_races_l5', 'xr_wins', 'xr_wins_pct', 'xr_wins_l5', 'xr_wins_l5_pct', 'xr_fin_t2', 'xr_finl5_t2', 'xr_fin_t2_pct', 'xr_finl5_t2_pct', 'xr_fin_last', 'xr_fin_last_pct', 'xr_finl5_last', 'xr_finl5_last_pct', 'xr_fin_last2', 'xr_fin_last2_pct', 'xr_finl5_last2', 'xr_finl5_last2_pct', 'xr_fin_plc', 'xr_fin_plc_pct', 'xr_finl5_plc', 'xr_finl5_plc_pct', 'Event_Dt', 'trnr_xr_races_tot', 'trnr_xr_races_tot_prev', 'trnr_wins_prev', 'trnr_fin_plc_prev', 'trnr_fin_t2_prev', 'trnr_fin_last_prev', 'trnr_fin_last2_prev', 'trnr_xr_wins', 'trnr_xr_fin_plc', 'trnr_xr_fin_t2', 'trnr_xr_fin_last', 'trnr_xr_fin_last2', 'trnr_xrl5_wins', 'trnr_xrl5_fin_plc', 'trnr_xrl5_fin_t2', 'trnr_xrl5_fin_last', 'trnr_xrl5_fin_last2', 'trnr_xr_wins_pct', 'trnr_xr_fin_t2_pct', 'trnr_xr_fin_plc_pct', 'trnr_xr_fin_last_pct', 'trnr_xr_fin_last2_pct', 'x_races_tot_norm', 'x_runtm_gp_norm', 'x_rtgp_prev_norm', 'x_rtgp_avg_norm', 'x_rtgp_min_norm', 'x_rtgp_max_norm', 'x_rtgp_range_norm', 'x_rtgp_std_norm', 'x_speed_prev_norm', 'x_speed_avg_norm', 'x_speed_min_norm', 'x_speed_max_norm', 'x_speed_range_norm', 'xr_races_norm', 'xr_races_l5_norm', 'xr_wins_norm', 'xr_wins_pct_norm', 'xr_wins_l5_norm', 'xr_wins_l5_pct_norm', 'xr_fin_t2_norm', 'xr_finl5_t2_norm', 'xr_fin_t2_pct_norm', 'xr_finl5_t2_pct_norm', 'xr_fin_last_norm', 'xr_fin_last_pct_norm', 'xr_finl5_last_norm', 'xr_finl5_last_pct_norm', 'xr_fin_last2_norm', 'xr_fin_last2_pct_norm', 'xr_finl5_last2_norm', 'xr_finl5_last2_pct_norm', 'xr_fin_plc_norm', 'xr_fin_plc_pct_norm', 'xr_finl5_plc_norm', 'xr_finl5_plc_pct_norm', 'trnr_xr_races_tot_norm', 'trnr_xr_races_tot_prev_norm', 'trnr_wins_prev_norm', 'trnr_fin_plc_prev_norm', 'trnr_fin_t2_prev_norm', 'trnr_fin_last_prev_norm', 'trnr_fin_last2_prev_norm', 'trnr_xr_wins_norm', 'trnr_xr_fin_plc_norm', 'trnr_xr_fin_t2_norm', 'trnr_xr_fin_last_norm', 'trnr_xr_fin_last2_norm', 'trnr_xrl5_wins_norm', 'trnr_xrl5_fin_plc_norm', 'trnr_xrl5_fin_t2_norm', 'trnr_xrl5_fin_last_norm', 'trnr_xrl5_fin_last2_norm', 'trnr_xr_wins_pct_norm', 'trnr_xr_fin_t2_pct_norm', 'trnr_xr_fin_plc_pct_norm', 'trnr_xr_fin_last_pct_norm', 'trnr_xr_fin_last2_pct_norm']\n"
     ]
    }
   ],
   "source": [
    "\n",
    "print(df_base.columns.values.tolist())\n"
   ]
  },
  {
   "cell_type": "code",
   "execution_count": 33,
   "id": "ad5d2734-e03c-43dc-8c52-67d738d744f9",
   "metadata": {},
   "outputs": [
    {
     "data": {
      "text/plain": [
       "<matplotlib.axes._subplots.AxesSubplot at 0x7f2597d90100>"
      ]
     },
     "execution_count": 33,
     "metadata": {},
     "output_type": "execute_result"
    },
    {
     "data": {
      "image/png": "[encoded data removed]",
      "text/plain": [
       "<Figure size 1728x576 with 1 Axes>"
      ]
     },
     "metadata": {
      "needs_background": "light"
     },
     "output_type": "display_data"
    }
   ],
   "source": [
    "\n",
    "#df_base['x_races_tot_norm'].plot( kind='density', legend=True, figsize = (24,8) )\n",
    "#df_base['x_rtgp_avg_norm'].plot( kind='density', legend=True, figsize = (24,8) )\n",
    "#df_base['x_rtgp_max_norm'].plot( kind='density', legend=True, figsize = (24,8) )\n",
    "\n",
    "#df_base['y_margin'].plot( kind='density', legend=True, figsize = (24,8) )\n",
    "#df_base['xr_wins_pct_norm'].plot( kind='density', legend=True, figsize = (24,8) )\n",
    "#df_base['xr_finl5_last2_pct'].plot( kind='density', legend=True, figsize = (24,8) )\n",
    "\n",
    "df_base['trnr_xrl5_fin_plc_norm'].plot( kind='density', legend=True, figsize = (24,8) )\n"
   ]
  },
  {
   "cell_type": "code",
   "execution_count": 34,
   "id": "c89eafd6-2bbf-40fa-9ba9-0fe25122a29f",
   "metadata": {},
   "outputs": [
    {
     "data": {
      "text/plain": [
       "<matplotlib.axes._subplots.AxesSubplot at 0x7f256c10a220>"
      ]
     },
     "execution_count": 34,
     "metadata": {},
     "output_type": "execute_result"
    },
    {
     "data": {
      "image/png": "[encoded data removed]",
      "text/plain": [
       "<Figure size 1728x576 with 1 Axes>"
      ]
     },
     "metadata": {
      "needs_background": "light"
     },
     "output_type": "display_data"
    }
   ],
   "source": [
    "\n",
    "df_base['trnr_xr_fin_plc_norm'].plot( kind='density', legend=True, figsize = (24,8) )\n"
   ]
  },
  {
   "cell_type": "code",
   "execution_count": 35,
   "id": "b8435373-9029-4cd5-86b2-405741227293",
   "metadata": {},
   "outputs": [
    {
     "data": {
      "text/plain": [
       "<matplotlib.axes._subplots.AxesSubplot at 0x7f256c0deb50>"
      ]
     },
     "execution_count": 35,
     "metadata": {},
     "output_type": "execute_result"
    },
    {
     "data": {
      "image/png": "[encoded data removed]",
      "text/plain": [
       "<Figure size 1728x576 with 1 Axes>"
      ]
     },
     "metadata": {
      "needs_background": "light"
     },
     "output_type": "display_data"
    }
   ],
   "source": [
    "\n",
    "df_base['trnr_xr_fin_last2_pct_norm'].plot( kind='density', legend=True, figsize = (24,8) )\n"
   ]
  },
  {
   "cell_type": "code",
   "execution_count": 36,
   "id": "84bc1406-61ab-4707-81be-76aede04ac8e",
   "metadata": {},
   "outputs": [
    {
     "name": "stdout",
     "output_type": "stream",
     "text": [
      "['@id_DOG', '@id_RACE', 'TrainerId', 'Handicap_DOG_x', 'RaceBox_x', 'Rating_x', 'DogGrade_x', 'DogGOBIS_x', 'DogPRIZE_x', 'RaceTimeDateUTC_x', 'GOBIS_x', 'Hurdle_x', 'Handicap_RACE_x', 'TAB_x', 'GradeCode_x', 'racetime_fix_x', 'x_races_tot', 'x_dist_gp', 'x_runtm_gp', 'x_rtgp_prev', 'x_rtgp_avg', 'x_rtgp_min', 'x_rtgp_max', 'x_rtgp_range', 'x_rtgp_std', 'x_no_prev_races', 'x_speed_prev', 'x_speed_avg', 'x_speed_min', 'x_speed_max', 'x_speed_range', 'x_speed_std', 'x_no_prev_r_in_dist', 'Handicap_DOG_y', 'RaceBox_y', 'Rating_y', 'DogGrade_y', 'DogGOBIS_y', 'DogPRIZE_y', 'RaceTimeDateUTC_y', 'GOBIS_y', 'Hurdle_y', 'Handicap_RACE_y', 'TAB_y', 'GradeCode_y', 'racetime_fix_y', 'xr_races', 'xr_races_l5', 'xr_wins', 'xr_wins_pct', 'xr_wins_l5', 'xr_wins_l5_pct', 'xr_fin_t2', 'xr_finl5_t2', 'xr_fin_t2_pct', 'xr_finl5_t2_pct', 'xr_fin_last', 'xr_fin_last_pct', 'xr_finl5_last', 'xr_finl5_last_pct', 'xr_fin_last2', 'xr_fin_last2_pct', 'xr_finl5_last2', 'xr_finl5_last2_pct', 'xr_fin_plc', 'xr_fin_plc_pct', 'xr_finl5_plc', 'xr_finl5_plc_pct', 'Event_Dt', 'trnr_xr_races_tot', 'trnr_xr_races_tot_prev', 'trnr_wins_prev', 'trnr_fin_plc_prev', 'trnr_fin_t2_prev', 'trnr_fin_last_prev', 'trnr_fin_last2_prev', 'trnr_xr_wins', 'trnr_xr_fin_plc', 'trnr_xr_fin_t2', 'trnr_xr_fin_last', 'trnr_xr_fin_last2', 'trnr_xrl5_wins', 'trnr_xrl5_fin_plc', 'trnr_xrl5_fin_t2', 'trnr_xrl5_fin_last', 'trnr_xrl5_fin_last2', 'trnr_xr_wins_pct', 'trnr_xr_fin_t2_pct', 'trnr_xr_fin_plc_pct', 'trnr_xr_fin_last_pct', 'trnr_xr_fin_last2_pct', 'x_races_tot_norm', 'x_runtm_gp_norm', 'x_rtgp_prev_norm', 'x_rtgp_avg_norm', 'x_rtgp_min_norm', 'x_rtgp_max_norm', 'x_rtgp_range_norm', 'x_rtgp_std_norm', 'x_speed_prev_norm', 'x_speed_avg_norm', 'x_speed_min_norm', 'x_speed_max_norm', 'x_speed_range_norm', 'xr_races_norm', 'xr_races_l5_norm', 'xr_wins_norm', 'xr_wins_pct_norm', 'xr_wins_l5_norm', 'xr_wins_l5_pct_norm', 'xr_fin_t2_norm', 'xr_finl5_t2_norm', 'xr_fin_t2_pct_norm', 'xr_finl5_t2_pct_norm', 'xr_fin_last_norm', 'xr_fin_last_pct_norm', 'xr_finl5_last_norm', 'xr_finl5_last_pct_norm', 'xr_fin_last2_norm', 'xr_fin_last2_pct_norm', 'xr_finl5_last2_norm', 'xr_finl5_last2_pct_norm', 'xr_fin_plc_norm', 'xr_fin_plc_pct_norm', 'xr_finl5_plc_norm', 'xr_finl5_plc_pct_norm', 'trnr_xr_races_tot_norm', 'trnr_xr_races_tot_prev_norm', 'trnr_wins_prev_norm', 'trnr_fin_plc_prev_norm', 'trnr_fin_t2_prev_norm', 'trnr_fin_last_prev_norm', 'trnr_fin_last2_prev_norm', 'trnr_xr_wins_norm', 'trnr_xr_fin_plc_norm', 'trnr_xr_fin_t2_norm', 'trnr_xr_fin_last_norm', 'trnr_xr_fin_last2_norm', 'trnr_xrl5_wins_norm', 'trnr_xrl5_fin_plc_norm', 'trnr_xrl5_fin_t2_norm', 'trnr_xrl5_fin_last_norm', 'trnr_xrl5_fin_last2_norm', 'trnr_xr_wins_pct_norm', 'trnr_xr_fin_t2_pct_norm', 'trnr_xr_fin_plc_pct_norm', 'trnr_xr_fin_last_pct_norm', 'trnr_xr_fin_last2_pct_norm']\n"
     ]
    }
   ],
   "source": [
    "\n",
    "print(df_base.columns.values.tolist())\n"
   ]
  },
  {
   "cell_type": "code",
   "execution_count": null,
   "id": "67d0609d-886b-45be-bac3-9586247cba61",
   "metadata": {},
   "outputs": [],
   "source": []
  },
  {
   "cell_type": "markdown",
   "id": "8dd45b9b-1c20-4fca-9428-7a8745867e8e",
   "metadata": {},
   "source": [
    "#### EXPORTING THE MODEL FILE"
   ]
  },
  {
   "cell_type": "code",
   "execution_count": 37,
   "id": "a0ba0d70-4bb0-466f-9dab-bbcd0f358bf6",
   "metadata": {},
   "outputs": [],
   "source": [
    "\n",
    "#keep_cols_for_export = ['@id_DOG', 'DogName', '@id_RACE','RaceName','Track','RaceGrade','Distance','TrainerName','RunTime','Place','x_races_tot']\n",
    "\n",
    "# 'TrainerName', 'Track' have been dummified\n",
    "#cols_to_keep = ['@id_DOG', 'DogName', 'y_runtime', 'RaceId', '@id_RACE', 'position', 'ft_sp', 'x_num_dogs', 'Top3_actual', 'position_random', 'position_fasttrack', 'Winner_fastrack', 'Top3_fastrack', 'Winner_actual', 'Winner_random', 'Top3_random']\n",
    "\n",
    "#cols_for_drop = ['y_margin_y','y_pos_y']\n",
    "cols_for_drop = []\n",
    "\n",
    "#'Event_Dt', \n",
    "\n",
    "todaydt = datetime.now().date()\n",
    "exp_fname = f'normalised_vars_{todaydt}.csv'\n",
    "\n",
    "exp_ds = df_base.drop(columns = cols_for_drop).rename(columns = {'y_margin_x':'y_margin', 'y_pos_x':'y_pos'})\n"
   ]
  },
  {
   "cell_type": "code",
   "execution_count": 38,
   "id": "862b00bf-28fd-443a-9a77-a2a060a4a7cd",
   "metadata": {},
   "outputs": [
    {
     "name": "stdout",
     "output_type": "stream",
     "text": [
      "                                 0\n",
      "@id_DOG                          0\n",
      "@id_RACE                         0\n",
      "TrainerId                        0\n",
      "Handicap_DOG_x              641710\n",
      "RaceBox_x                     1861\n",
      "...                            ...\n",
      "trnr_xr_wins_pct_norm            0\n",
      "trnr_xr_fin_t2_pct_norm          0\n",
      "trnr_xr_fin_plc_pct_norm         0\n",
      "trnr_xr_fin_last_pct_norm        0\n",
      "trnr_xr_fin_last2_pct_norm       0\n",
      "\n",
      "[148 rows x 1 columns]\n"
     ]
    }
   ],
   "source": [
    "\n",
    "print(pd.DataFrame(exp_ds.isna().sum()))\n"
   ]
  },
  {
   "cell_type": "code",
   "execution_count": 39,
   "id": "cb88f20b-8d09-4287-b4da-df0a8eb78f23",
   "metadata": {},
   "outputs": [
    {
     "name": "stdout",
     "output_type": "stream",
     "text": [
      "(641710, 148)\n"
     ]
    }
   ],
   "source": [
    "\n",
    "print(exp_ds.shape)\n"
   ]
  },
  {
   "cell_type": "code",
   "execution_count": 40,
   "id": "d9e85933-a467-48de-8013-3f2811202760",
   "metadata": {},
   "outputs": [
    {
     "name": "stdout",
     "output_type": "stream",
     "text": [
      "['@id_DOG', '@id_RACE', 'TrainerId', 'Handicap_DOG_x', 'RaceBox_x', 'Rating_x', 'DogGrade_x', 'DogGOBIS_x', 'DogPRIZE_x', 'RaceTimeDateUTC_x', 'GOBIS_x', 'Hurdle_x', 'Handicap_RACE_x', 'TAB_x', 'GradeCode_x', 'racetime_fix_x', 'x_races_tot', 'x_dist_gp', 'x_runtm_gp', 'x_rtgp_prev', 'x_rtgp_avg', 'x_rtgp_min', 'x_rtgp_max', 'x_rtgp_range', 'x_rtgp_std', 'x_no_prev_races', 'x_speed_prev', 'x_speed_avg', 'x_speed_min', 'x_speed_max', 'x_speed_range', 'x_speed_std', 'x_no_prev_r_in_dist', 'Handicap_DOG_y', 'RaceBox_y', 'Rating_y', 'DogGrade_y', 'DogGOBIS_y', 'DogPRIZE_y', 'RaceTimeDateUTC_y', 'GOBIS_y', 'Hurdle_y', 'Handicap_RACE_y', 'TAB_y', 'GradeCode_y', 'racetime_fix_y', 'xr_races', 'xr_races_l5', 'xr_wins', 'xr_wins_pct', 'xr_wins_l5', 'xr_wins_l5_pct', 'xr_fin_t2', 'xr_finl5_t2', 'xr_fin_t2_pct', 'xr_finl5_t2_pct', 'xr_fin_last', 'xr_fin_last_pct', 'xr_finl5_last', 'xr_finl5_last_pct', 'xr_fin_last2', 'xr_fin_last2_pct', 'xr_finl5_last2', 'xr_finl5_last2_pct', 'xr_fin_plc', 'xr_fin_plc_pct', 'xr_finl5_plc', 'xr_finl5_plc_pct', 'Event_Dt', 'trnr_xr_races_tot', 'trnr_xr_races_tot_prev', 'trnr_wins_prev', 'trnr_fin_plc_prev', 'trnr_fin_t2_prev', 'trnr_fin_last_prev', 'trnr_fin_last2_prev', 'trnr_xr_wins', 'trnr_xr_fin_plc', 'trnr_xr_fin_t2', 'trnr_xr_fin_last', 'trnr_xr_fin_last2', 'trnr_xrl5_wins', 'trnr_xrl5_fin_plc', 'trnr_xrl5_fin_t2', 'trnr_xrl5_fin_last', 'trnr_xrl5_fin_last2', 'trnr_xr_wins_pct', 'trnr_xr_fin_t2_pct', 'trnr_xr_fin_plc_pct', 'trnr_xr_fin_last_pct', 'trnr_xr_fin_last2_pct', 'x_races_tot_norm', 'x_runtm_gp_norm', 'x_rtgp_prev_norm', 'x_rtgp_avg_norm', 'x_rtgp_min_norm', 'x_rtgp_max_norm', 'x_rtgp_range_norm', 'x_rtgp_std_norm', 'x_speed_prev_norm', 'x_speed_avg_norm', 'x_speed_min_norm', 'x_speed_max_norm', 'x_speed_range_norm', 'xr_races_norm', 'xr_races_l5_norm', 'xr_wins_norm', 'xr_wins_pct_norm', 'xr_wins_l5_norm', 'xr_wins_l5_pct_norm', 'xr_fin_t2_norm', 'xr_finl5_t2_norm', 'xr_fin_t2_pct_norm', 'xr_finl5_t2_pct_norm', 'xr_fin_last_norm', 'xr_fin_last_pct_norm', 'xr_finl5_last_norm', 'xr_finl5_last_pct_norm', 'xr_fin_last2_norm', 'xr_fin_last2_pct_norm', 'xr_finl5_last2_norm', 'xr_finl5_last2_pct_norm', 'xr_fin_plc_norm', 'xr_fin_plc_pct_norm', 'xr_finl5_plc_norm', 'xr_finl5_plc_pct_norm', 'trnr_xr_races_tot_norm', 'trnr_xr_races_tot_prev_norm', 'trnr_wins_prev_norm', 'trnr_fin_plc_prev_norm', 'trnr_fin_t2_prev_norm', 'trnr_fin_last_prev_norm', 'trnr_fin_last2_prev_norm', 'trnr_xr_wins_norm', 'trnr_xr_fin_plc_norm', 'trnr_xr_fin_t2_norm', 'trnr_xr_fin_last_norm', 'trnr_xr_fin_last2_norm', 'trnr_xrl5_wins_norm', 'trnr_xrl5_fin_plc_norm', 'trnr_xrl5_fin_t2_norm', 'trnr_xrl5_fin_last_norm', 'trnr_xrl5_fin_last2_norm', 'trnr_xr_wins_pct_norm', 'trnr_xr_fin_t2_pct_norm', 'trnr_xr_fin_plc_pct_norm', 'trnr_xr_fin_last_pct_norm', 'trnr_xr_fin_last2_pct_norm']\n"
     ]
    }
   ],
   "source": [
    "\n",
    "print(exp_ds.columns.values.tolist())\n"
   ]
  },
  {
   "cell_type": "code",
   "execution_count": 41,
   "id": "8d2e923c-9c94-4847-a9bb-89b3a95def7b",
   "metadata": {},
   "outputs": [
    {
     "data": {
      "text/html": [
       "<div>\n",
       "<style scoped>\n",
       "    .dataframe tbody tr th:only-of-type {\n",
       "        vertical-align: middle;\n",
       "    }\n",
       "\n",
       "    .dataframe tbody tr th {\n",
       "        vertical-align: top;\n",
       "    }\n",
       "\n",
       "    .dataframe thead th {\n",
       "        text-align: right;\n",
       "    }\n",
       "</style>\n",
       "<table border=\"1\" class=\"dataframe\">\n",
       "  <thead>\n",
       "    <tr style=\"text-align: right;\">\n",
       "      <th></th>\n",
       "      <th>@id_DOG</th>\n",
       "      <th>@id_RACE</th>\n",
       "      <th>TrainerId</th>\n",
       "      <th>Handicap_DOG_x</th>\n",
       "      <th>RaceBox_x</th>\n",
       "      <th>Rating_x</th>\n",
       "      <th>DogGrade_x</th>\n",
       "      <th>DogGOBIS_x</th>\n",
       "      <th>DogPRIZE_x</th>\n",
       "      <th>RaceTimeDateUTC_x</th>\n",
       "      <th>GOBIS_x</th>\n",
       "      <th>Hurdle_x</th>\n",
       "      <th>Handicap_RACE_x</th>\n",
       "      <th>TAB_x</th>\n",
       "      <th>GradeCode_x</th>\n",
       "      <th>racetime_fix_x</th>\n",
       "      <th>x_races_tot</th>\n",
       "      <th>x_dist_gp</th>\n",
       "      <th>x_runtm_gp</th>\n",
       "      <th>x_rtgp_prev</th>\n",
       "      <th>x_rtgp_avg</th>\n",
       "      <th>x_rtgp_min</th>\n",
       "      <th>x_rtgp_max</th>\n",
       "      <th>x_rtgp_range</th>\n",
       "      <th>x_rtgp_std</th>\n",
       "      <th>...</th>\n",
       "      <th>xr_fin_plc_pct_norm</th>\n",
       "      <th>xr_finl5_plc_norm</th>\n",
       "      <th>xr_finl5_plc_pct_norm</th>\n",
       "      <th>trnr_xr_races_tot_norm</th>\n",
       "      <th>trnr_xr_races_tot_prev_norm</th>\n",
       "      <th>trnr_wins_prev_norm</th>\n",
       "      <th>trnr_fin_plc_prev_norm</th>\n",
       "      <th>trnr_fin_t2_prev_norm</th>\n",
       "      <th>trnr_fin_last_prev_norm</th>\n",
       "      <th>trnr_fin_last2_prev_norm</th>\n",
       "      <th>trnr_xr_wins_norm</th>\n",
       "      <th>trnr_xr_fin_plc_norm</th>\n",
       "      <th>trnr_xr_fin_t2_norm</th>\n",
       "      <th>trnr_xr_fin_last_norm</th>\n",
       "      <th>trnr_xr_fin_last2_norm</th>\n",
       "      <th>trnr_xrl5_wins_norm</th>\n",
       "      <th>trnr_xrl5_fin_plc_norm</th>\n",
       "      <th>trnr_xrl5_fin_t2_norm</th>\n",
       "      <th>trnr_xrl5_fin_last_norm</th>\n",
       "      <th>trnr_xrl5_fin_last2_norm</th>\n",
       "      <th>trnr_xr_wins_pct_norm</th>\n",
       "      <th>trnr_xr_fin_t2_pct_norm</th>\n",
       "      <th>trnr_xr_fin_plc_pct_norm</th>\n",
       "      <th>trnr_xr_fin_last_pct_norm</th>\n",
       "      <th>trnr_xr_fin_last2_pct_norm</th>\n",
       "    </tr>\n",
       "  </thead>\n",
       "  <tbody>\n",
       "    <tr>\n",
       "      <th>641705</th>\n",
       "      <td>1478450099</td>\n",
       "      <td>626240615</td>\n",
       "      <td>34868</td>\n",
       "      <td>NaN</td>\n",
       "      <td>7.0</td>\n",
       "      <td>91.0</td>\n",
       "      <td>5</td>\n",
       "      <td>N</td>\n",
       "      <td>10345.0</td>\n",
       "      <td>02 Jan 21 08:03AM</td>\n",
       "      <td>NaN</td>\n",
       "      <td>NaN</td>\n",
       "      <td>NaN</td>\n",
       "      <td>NaN</td>\n",
       "      <td>NG</td>\n",
       "      <td>19:03:00</td>\n",
       "      <td>0</td>\n",
       "      <td>300</td>\n",
       "      <td>18.077206</td>\n",
       "      <td>0.0</td>\n",
       "      <td>0.0</td>\n",
       "      <td>0.0</td>\n",
       "      <td>0.0</td>\n",
       "      <td>0.0</td>\n",
       "      <td>0.0</td>\n",
       "      <td>...</td>\n",
       "      <td>0.0</td>\n",
       "      <td>0.0</td>\n",
       "      <td>0.0</td>\n",
       "      <td>1.926687</td>\n",
       "      <td>1.581139</td>\n",
       "      <td>0</td>\n",
       "      <td>0.0</td>\n",
       "      <td>0.0</td>\n",
       "      <td>1.290994</td>\n",
       "      <td>1.290994</td>\n",
       "      <td>0</td>\n",
       "      <td>2.041241</td>\n",
       "      <td>2.041241</td>\n",
       "      <td>1.290994</td>\n",
       "      <td>1.290994</td>\n",
       "      <td>0</td>\n",
       "      <td>2.041241</td>\n",
       "      <td>2.041241</td>\n",
       "      <td>1.290994</td>\n",
       "      <td>1.290994</td>\n",
       "      <td>0</td>\n",
       "      <td>2.041241</td>\n",
       "      <td>2.041241</td>\n",
       "      <td>0.0</td>\n",
       "      <td>0.877747</td>\n",
       "    </tr>\n",
       "    <tr>\n",
       "      <th>641706</th>\n",
       "      <td>1701190008</td>\n",
       "      <td>626240615</td>\n",
       "      <td>47155</td>\n",
       "      <td>NaN</td>\n",
       "      <td>1.0</td>\n",
       "      <td>84.0</td>\n",
       "      <td>5</td>\n",
       "      <td>N</td>\n",
       "      <td>14705.0</td>\n",
       "      <td>02 Jan 21 08:03AM</td>\n",
       "      <td>NaN</td>\n",
       "      <td>NaN</td>\n",
       "      <td>NaN</td>\n",
       "      <td>NaN</td>\n",
       "      <td>NG</td>\n",
       "      <td>19:03:00</td>\n",
       "      <td>0</td>\n",
       "      <td>300</td>\n",
       "      <td>17.503676</td>\n",
       "      <td>0.0</td>\n",
       "      <td>0.0</td>\n",
       "      <td>0.0</td>\n",
       "      <td>0.0</td>\n",
       "      <td>0.0</td>\n",
       "      <td>0.0</td>\n",
       "      <td>...</td>\n",
       "      <td>0.0</td>\n",
       "      <td>0.0</td>\n",
       "      <td>0.0</td>\n",
       "      <td>-0.550482</td>\n",
       "      <td>0.000000</td>\n",
       "      <td>0</td>\n",
       "      <td>0.0</td>\n",
       "      <td>0.0</td>\n",
       "      <td>-0.645497</td>\n",
       "      <td>-0.645497</td>\n",
       "      <td>0</td>\n",
       "      <td>-0.408248</td>\n",
       "      <td>-0.408248</td>\n",
       "      <td>-0.645497</td>\n",
       "      <td>-0.645497</td>\n",
       "      <td>0</td>\n",
       "      <td>-0.408248</td>\n",
       "      <td>-0.408248</td>\n",
       "      <td>-0.645497</td>\n",
       "      <td>-0.645497</td>\n",
       "      <td>0</td>\n",
       "      <td>-0.408248</td>\n",
       "      <td>-0.408248</td>\n",
       "      <td>0.0</td>\n",
       "      <td>-0.626962</td>\n",
       "    </tr>\n",
       "    <tr>\n",
       "      <th>641707</th>\n",
       "      <td>1907950051</td>\n",
       "      <td>626240615</td>\n",
       "      <td>28891</td>\n",
       "      <td>NaN</td>\n",
       "      <td>6.0</td>\n",
       "      <td>64.0</td>\n",
       "      <td>5</td>\n",
       "      <td>N</td>\n",
       "      <td>5890.0</td>\n",
       "      <td>02 Jan 21 08:03AM</td>\n",
       "      <td>NaN</td>\n",
       "      <td>NaN</td>\n",
       "      <td>NaN</td>\n",
       "      <td>NaN</td>\n",
       "      <td>NG</td>\n",
       "      <td>19:03:00</td>\n",
       "      <td>0</td>\n",
       "      <td>300</td>\n",
       "      <td>18.573529</td>\n",
       "      <td>0.0</td>\n",
       "      <td>0.0</td>\n",
       "      <td>0.0</td>\n",
       "      <td>0.0</td>\n",
       "      <td>0.0</td>\n",
       "      <td>0.0</td>\n",
       "      <td>...</td>\n",
       "      <td>0.0</td>\n",
       "      <td>0.0</td>\n",
       "      <td>0.0</td>\n",
       "      <td>0.275241</td>\n",
       "      <td>-1.581139</td>\n",
       "      <td>0</td>\n",
       "      <td>0.0</td>\n",
       "      <td>0.0</td>\n",
       "      <td>1.290994</td>\n",
       "      <td>1.290994</td>\n",
       "      <td>0</td>\n",
       "      <td>-0.408248</td>\n",
       "      <td>-0.408248</td>\n",
       "      <td>1.290994</td>\n",
       "      <td>1.290994</td>\n",
       "      <td>0</td>\n",
       "      <td>-0.408248</td>\n",
       "      <td>-0.408248</td>\n",
       "      <td>1.290994</td>\n",
       "      <td>1.290994</td>\n",
       "      <td>0</td>\n",
       "      <td>-0.408248</td>\n",
       "      <td>-0.408248</td>\n",
       "      <td>0.0</td>\n",
       "      <td>1.630102</td>\n",
       "    </tr>\n",
       "    <tr>\n",
       "      <th>641708</th>\n",
       "      <td>2035650008</td>\n",
       "      <td>626240615</td>\n",
       "      <td>55616</td>\n",
       "      <td>NaN</td>\n",
       "      <td>2.0</td>\n",
       "      <td>91.0</td>\n",
       "      <td>4</td>\n",
       "      <td>N</td>\n",
       "      <td>44720.0</td>\n",
       "      <td>02 Jan 21 08:03AM</td>\n",
       "      <td>NaN</td>\n",
       "      <td>NaN</td>\n",
       "      <td>NaN</td>\n",
       "      <td>NaN</td>\n",
       "      <td>NG</td>\n",
       "      <td>19:03:00</td>\n",
       "      <td>0</td>\n",
       "      <td>300</td>\n",
       "      <td>17.591912</td>\n",
       "      <td>0.0</td>\n",
       "      <td>0.0</td>\n",
       "      <td>0.0</td>\n",
       "      <td>0.0</td>\n",
       "      <td>0.0</td>\n",
       "      <td>0.0</td>\n",
       "      <td>...</td>\n",
       "      <td>0.0</td>\n",
       "      <td>0.0</td>\n",
       "      <td>0.0</td>\n",
       "      <td>-0.550482</td>\n",
       "      <td>0.000000</td>\n",
       "      <td>0</td>\n",
       "      <td>0.0</td>\n",
       "      <td>0.0</td>\n",
       "      <td>-0.645497</td>\n",
       "      <td>-0.645497</td>\n",
       "      <td>0</td>\n",
       "      <td>-0.408248</td>\n",
       "      <td>-0.408248</td>\n",
       "      <td>-0.645497</td>\n",
       "      <td>-0.645497</td>\n",
       "      <td>0</td>\n",
       "      <td>-0.408248</td>\n",
       "      <td>-0.408248</td>\n",
       "      <td>-0.645497</td>\n",
       "      <td>-0.645497</td>\n",
       "      <td>0</td>\n",
       "      <td>-0.408248</td>\n",
       "      <td>-0.408248</td>\n",
       "      <td>0.0</td>\n",
       "      <td>-0.626962</td>\n",
       "    </tr>\n",
       "    <tr>\n",
       "      <th>641709</th>\n",
       "      <td>2116930017</td>\n",
       "      <td>626240615</td>\n",
       "      <td>36960</td>\n",
       "      <td>NaN</td>\n",
       "      <td>4.0</td>\n",
       "      <td>73.0</td>\n",
       "      <td>6</td>\n",
       "      <td>N</td>\n",
       "      <td>2350.0</td>\n",
       "      <td>02 Jan 21 08:03AM</td>\n",
       "      <td>NaN</td>\n",
       "      <td>NaN</td>\n",
       "      <td>NaN</td>\n",
       "      <td>NaN</td>\n",
       "      <td>NG</td>\n",
       "      <td>19:03:00</td>\n",
       "      <td>0</td>\n",
       "      <td>300</td>\n",
       "      <td>18.275735</td>\n",
       "      <td>0.0</td>\n",
       "      <td>0.0</td>\n",
       "      <td>0.0</td>\n",
       "      <td>0.0</td>\n",
       "      <td>0.0</td>\n",
       "      <td>0.0</td>\n",
       "      <td>...</td>\n",
       "      <td>0.0</td>\n",
       "      <td>0.0</td>\n",
       "      <td>0.0</td>\n",
       "      <td>-0.550482</td>\n",
       "      <td>0.000000</td>\n",
       "      <td>0</td>\n",
       "      <td>0.0</td>\n",
       "      <td>0.0</td>\n",
       "      <td>-0.645497</td>\n",
       "      <td>-0.645497</td>\n",
       "      <td>0</td>\n",
       "      <td>-0.408248</td>\n",
       "      <td>-0.408248</td>\n",
       "      <td>-0.645497</td>\n",
       "      <td>-0.645497</td>\n",
       "      <td>0</td>\n",
       "      <td>-0.408248</td>\n",
       "      <td>-0.408248</td>\n",
       "      <td>-0.645497</td>\n",
       "      <td>-0.645497</td>\n",
       "      <td>0</td>\n",
       "      <td>-0.408248</td>\n",
       "      <td>-0.408248</td>\n",
       "      <td>0.0</td>\n",
       "      <td>-0.626962</td>\n",
       "    </tr>\n",
       "  </tbody>\n",
       "</table>\n",
       "<p>5 rows × 148 columns</p>\n",
       "</div>"
      ],
      "text/plain": [
       "           @id_DOG   @id_RACE  TrainerId  Handicap_DOG_x  RaceBox_x  Rating_x DogGrade_x DogGOBIS_x  DogPRIZE_x  RaceTimeDateUTC_x  GOBIS_x  Hurdle_x  Handicap_RACE_x TAB_x GradeCode_x  \\\n",
       "641705  1478450099  626240615      34868             NaN        7.0      91.0          5          N     10345.0  02 Jan 21 08:03AM      NaN       NaN              NaN   NaN          NG   \n",
       "641706  1701190008  626240615      47155             NaN        1.0      84.0          5          N     14705.0  02 Jan 21 08:03AM      NaN       NaN              NaN   NaN          NG   \n",
       "641707  1907950051  626240615      28891             NaN        6.0      64.0          5          N      5890.0  02 Jan 21 08:03AM      NaN       NaN              NaN   NaN          NG   \n",
       "641708  2035650008  626240615      55616             NaN        2.0      91.0          4          N     44720.0  02 Jan 21 08:03AM      NaN       NaN              NaN   NaN          NG   \n",
       "641709  2116930017  626240615      36960             NaN        4.0      73.0          6          N      2350.0  02 Jan 21 08:03AM      NaN       NaN              NaN   NaN          NG   \n",
       "\n",
       "       racetime_fix_x  x_races_tot  x_dist_gp  x_runtm_gp  x_rtgp_prev  x_rtgp_avg  x_rtgp_min  x_rtgp_max  x_rtgp_range  x_rtgp_std  ...  xr_fin_plc_pct_norm  xr_finl5_plc_norm  \\\n",
       "641705       19:03:00            0        300   18.077206          0.0         0.0         0.0         0.0           0.0         0.0  ...                  0.0                0.0   \n",
       "641706       19:03:00            0        300   17.503676          0.0         0.0         0.0         0.0           0.0         0.0  ...                  0.0                0.0   \n",
       "641707       19:03:00            0        300   18.573529          0.0         0.0         0.0         0.0           0.0         0.0  ...                  0.0                0.0   \n",
       "641708       19:03:00            0        300   17.591912          0.0         0.0         0.0         0.0           0.0         0.0  ...                  0.0                0.0   \n",
       "641709       19:03:00            0        300   18.275735          0.0         0.0         0.0         0.0           0.0         0.0  ...                  0.0                0.0   \n",
       "\n",
       "        xr_finl5_plc_pct_norm  trnr_xr_races_tot_norm  trnr_xr_races_tot_prev_norm  trnr_wins_prev_norm  trnr_fin_plc_prev_norm  trnr_fin_t2_prev_norm  trnr_fin_last_prev_norm  \\\n",
       "641705                    0.0                1.926687                     1.581139                    0                     0.0                    0.0                 1.290994   \n",
       "641706                    0.0               -0.550482                     0.000000                    0                     0.0                    0.0                -0.645497   \n",
       "641707                    0.0                0.275241                    -1.581139                    0                     0.0                    0.0                 1.290994   \n",
       "641708                    0.0               -0.550482                     0.000000                    0                     0.0                    0.0                -0.645497   \n",
       "641709                    0.0               -0.550482                     0.000000                    0                     0.0                    0.0                -0.645497   \n",
       "\n",
       "        trnr_fin_last2_prev_norm  trnr_xr_wins_norm trnr_xr_fin_plc_norm trnr_xr_fin_t2_norm  trnr_xr_fin_last_norm trnr_xr_fin_last2_norm  trnr_xrl5_wins_norm  trnr_xrl5_fin_plc_norm  \\\n",
       "641705                  1.290994                  0             2.041241            2.041241               1.290994               1.290994                    0                2.041241   \n",
       "641706                 -0.645497                  0            -0.408248           -0.408248              -0.645497              -0.645497                    0               -0.408248   \n",
       "641707                  1.290994                  0            -0.408248           -0.408248               1.290994               1.290994                    0               -0.408248   \n",
       "641708                 -0.645497                  0            -0.408248           -0.408248              -0.645497              -0.645497                    0               -0.408248   \n",
       "641709                 -0.645497                  0            -0.408248           -0.408248              -0.645497              -0.645497                    0               -0.408248   \n",
       "\n",
       "        trnr_xrl5_fin_t2_norm trnr_xrl5_fin_last_norm trnr_xrl5_fin_last2_norm trnr_xr_wins_pct_norm  trnr_xr_fin_t2_pct_norm  trnr_xr_fin_plc_pct_norm  trnr_xr_fin_last_pct_norm  \\\n",
       "641705               2.041241                1.290994                 1.290994                     0                 2.041241                  2.041241                        0.0   \n",
       "641706              -0.408248               -0.645497                -0.645497                     0                -0.408248                 -0.408248                        0.0   \n",
       "641707              -0.408248                1.290994                 1.290994                     0                -0.408248                 -0.408248                        0.0   \n",
       "641708              -0.408248               -0.645497                -0.645497                     0                -0.408248                 -0.408248                        0.0   \n",
       "641709              -0.408248               -0.645497                -0.645497                     0                -0.408248                 -0.408248                        0.0   \n",
       "\n",
       "        trnr_xr_fin_last2_pct_norm  \n",
       "641705                    0.877747  \n",
       "641706                   -0.626962  \n",
       "641707                    1.630102  \n",
       "641708                   -0.626962  \n",
       "641709                   -0.626962  \n",
       "\n",
       "[5 rows x 148 columns]"
      ]
     },
     "execution_count": 41,
     "metadata": {},
     "output_type": "execute_result"
    }
   ],
   "source": [
    "\n",
    "exp_ds.tail(5)\n"
   ]
  },
  {
   "cell_type": "code",
   "execution_count": 42,
   "id": "78526600-cc75-439f-887a-9b669193d294",
   "metadata": {},
   "outputs": [
    {
     "data": {
      "text/html": [
       "<div>\n",
       "<style scoped>\n",
       "    .dataframe tbody tr th:only-of-type {\n",
       "        vertical-align: middle;\n",
       "    }\n",
       "\n",
       "    .dataframe tbody tr th {\n",
       "        vertical-align: top;\n",
       "    }\n",
       "\n",
       "    .dataframe thead th {\n",
       "        text-align: right;\n",
       "    }\n",
       "</style>\n",
       "<table border=\"1\" class=\"dataframe\">\n",
       "  <thead>\n",
       "    <tr style=\"text-align: right;\">\n",
       "      <th></th>\n",
       "      <th>@id_DOG</th>\n",
       "      <th>@id_RACE</th>\n",
       "      <th>TrainerId</th>\n",
       "      <th>Handicap_DOG_x</th>\n",
       "      <th>RaceBox_x</th>\n",
       "      <th>Rating_x</th>\n",
       "      <th>DogPRIZE_x</th>\n",
       "      <th>GOBIS_x</th>\n",
       "      <th>Hurdle_x</th>\n",
       "      <th>Handicap_RACE_x</th>\n",
       "      <th>x_races_tot</th>\n",
       "      <th>x_dist_gp</th>\n",
       "      <th>x_runtm_gp</th>\n",
       "      <th>x_rtgp_prev</th>\n",
       "      <th>x_rtgp_avg</th>\n",
       "      <th>x_rtgp_min</th>\n",
       "      <th>x_rtgp_max</th>\n",
       "      <th>x_rtgp_range</th>\n",
       "      <th>x_rtgp_std</th>\n",
       "      <th>x_no_prev_races</th>\n",
       "      <th>x_speed_prev</th>\n",
       "      <th>x_speed_avg</th>\n",
       "      <th>x_speed_min</th>\n",
       "      <th>x_speed_max</th>\n",
       "      <th>x_speed_range</th>\n",
       "      <th>...</th>\n",
       "      <th>xr_fin_plc_pct_norm</th>\n",
       "      <th>xr_finl5_plc_norm</th>\n",
       "      <th>xr_finl5_plc_pct_norm</th>\n",
       "      <th>trnr_xr_races_tot_norm</th>\n",
       "      <th>trnr_xr_races_tot_prev_norm</th>\n",
       "      <th>trnr_wins_prev_norm</th>\n",
       "      <th>trnr_fin_plc_prev_norm</th>\n",
       "      <th>trnr_fin_t2_prev_norm</th>\n",
       "      <th>trnr_fin_last_prev_norm</th>\n",
       "      <th>trnr_fin_last2_prev_norm</th>\n",
       "      <th>trnr_xr_wins_norm</th>\n",
       "      <th>trnr_xr_fin_plc_norm</th>\n",
       "      <th>trnr_xr_fin_t2_norm</th>\n",
       "      <th>trnr_xr_fin_last_norm</th>\n",
       "      <th>trnr_xr_fin_last2_norm</th>\n",
       "      <th>trnr_xrl5_wins_norm</th>\n",
       "      <th>trnr_xrl5_fin_plc_norm</th>\n",
       "      <th>trnr_xrl5_fin_t2_norm</th>\n",
       "      <th>trnr_xrl5_fin_last_norm</th>\n",
       "      <th>trnr_xrl5_fin_last2_norm</th>\n",
       "      <th>trnr_xr_wins_pct_norm</th>\n",
       "      <th>trnr_xr_fin_t2_pct_norm</th>\n",
       "      <th>trnr_xr_fin_plc_pct_norm</th>\n",
       "      <th>trnr_xr_fin_last_pct_norm</th>\n",
       "      <th>trnr_xr_fin_last2_pct_norm</th>\n",
       "    </tr>\n",
       "  </thead>\n",
       "  <tbody>\n",
       "    <tr>\n",
       "      <th>count</th>\n",
       "      <td>6.417100e+05</td>\n",
       "      <td>6.417100e+05</td>\n",
       "      <td>641710.000000</td>\n",
       "      <td>0.0</td>\n",
       "      <td>639849.000000</td>\n",
       "      <td>641710.000000</td>\n",
       "      <td>6.398490e+05</td>\n",
       "      <td>0.0</td>\n",
       "      <td>0.0</td>\n",
       "      <td>0.0</td>\n",
       "      <td>641710.000000</td>\n",
       "      <td>641710.000000</td>\n",
       "      <td>641710.000000</td>\n",
       "      <td>641710.000000</td>\n",
       "      <td>641710.000000</td>\n",
       "      <td>641710.000000</td>\n",
       "      <td>641710.000000</td>\n",
       "      <td>641710.000000</td>\n",
       "      <td>641710.000000</td>\n",
       "      <td>641710.000000</td>\n",
       "      <td>641710.000000</td>\n",
       "      <td>641710.000000</td>\n",
       "      <td>641710.000000</td>\n",
       "      <td>641710.000000</td>\n",
       "      <td>641710.000000</td>\n",
       "      <td>...</td>\n",
       "      <td>6.417100e+05</td>\n",
       "      <td>6.417100e+05</td>\n",
       "      <td>6.417100e+05</td>\n",
       "      <td>6.417100e+05</td>\n",
       "      <td>6.417100e+05</td>\n",
       "      <td>641710.0</td>\n",
       "      <td>6.417100e+05</td>\n",
       "      <td>6.417100e+05</td>\n",
       "      <td>6.417100e+05</td>\n",
       "      <td>6.417100e+05</td>\n",
       "      <td>641710.0</td>\n",
       "      <td>6.417100e+05</td>\n",
       "      <td>6.417100e+05</td>\n",
       "      <td>6.417100e+05</td>\n",
       "      <td>6.417100e+05</td>\n",
       "      <td>641710.0</td>\n",
       "      <td>6.417100e+05</td>\n",
       "      <td>6.417100e+05</td>\n",
       "      <td>6.417100e+05</td>\n",
       "      <td>6.417100e+05</td>\n",
       "      <td>641710.0</td>\n",
       "      <td>6.417100e+05</td>\n",
       "      <td>6.417100e+05</td>\n",
       "      <td>6.417100e+05</td>\n",
       "      <td>6.417100e+05</td>\n",
       "    </tr>\n",
       "    <tr>\n",
       "      <th>mean</th>\n",
       "      <td>4.716331e+08</td>\n",
       "      <td>7.486843e+08</td>\n",
       "      <td>110851.114122</td>\n",
       "      <td>NaN</td>\n",
       "      <td>4.585473</td>\n",
       "      <td>81.945313</td>\n",
       "      <td>1.393480e+04</td>\n",
       "      <td>NaN</td>\n",
       "      <td>NaN</td>\n",
       "      <td>NaN</td>\n",
       "      <td>19.056468</td>\n",
       "      <td>415.144233</td>\n",
       "      <td>24.302123</td>\n",
       "      <td>24.066283</td>\n",
       "      <td>24.026817</td>\n",
       "      <td>23.681201</td>\n",
       "      <td>24.491434</td>\n",
       "      <td>0.810233</td>\n",
       "      <td>0.311760</td>\n",
       "      <td>0.043931</td>\n",
       "      <td>16351.639608</td>\n",
       "      <td>16348.115700</td>\n",
       "      <td>15847.797766</td>\n",
       "      <td>16756.955849</td>\n",
       "      <td>909.114151</td>\n",
       "      <td>...</td>\n",
       "      <td>7.593759e-18</td>\n",
       "      <td>2.989376e-18</td>\n",
       "      <td>8.495574e-18</td>\n",
       "      <td>-1.453285e-19</td>\n",
       "      <td>-6.262965e-20</td>\n",
       "      <td>0.0</td>\n",
       "      <td>4.020581e-18</td>\n",
       "      <td>2.809511e-18</td>\n",
       "      <td>3.860547e-18</td>\n",
       "      <td>2.715912e-18</td>\n",
       "      <td>0.0</td>\n",
       "      <td>1.209341e-19</td>\n",
       "      <td>1.089964e-20</td>\n",
       "      <td>2.612452e-19</td>\n",
       "      <td>2.069201e-19</td>\n",
       "      <td>0.0</td>\n",
       "      <td>2.936846e-18</td>\n",
       "      <td>2.115394e-18</td>\n",
       "      <td>4.261930e-18</td>\n",
       "      <td>1.721450e-18</td>\n",
       "      <td>0.0</td>\n",
       "      <td>1.313320e-18</td>\n",
       "      <td>4.957604e-18</td>\n",
       "      <td>2.044287e-18</td>\n",
       "      <td>6.669885e-18</td>\n",
       "    </tr>\n",
       "    <tr>\n",
       "      <th>std</th>\n",
       "      <td>1.172652e+08</td>\n",
       "      <td>6.927769e+07</td>\n",
       "      <td>77738.478215</td>\n",
       "      <td>NaN</td>\n",
       "      <td>2.432556</td>\n",
       "      <td>28.141374</td>\n",
       "      <td>2.566634e+04</td>\n",
       "      <td>NaN</td>\n",
       "      <td>NaN</td>\n",
       "      <td>NaN</td>\n",
       "      <td>16.772309</td>\n",
       "      <td>78.124826</td>\n",
       "      <td>4.646788</td>\n",
       "      <td>5.147218</td>\n",
       "      <td>4.843409</td>\n",
       "      <td>4.805440</td>\n",
       "      <td>4.915439</td>\n",
       "      <td>0.705791</td>\n",
       "      <td>0.196567</td>\n",
       "      <td>0.204942</td>\n",
       "      <td>3529.976232</td>\n",
       "      <td>3518.869628</td>\n",
       "      <td>3432.391727</td>\n",
       "      <td>3632.950317</td>\n",
       "      <td>690.263730</td>\n",
       "      <td>...</td>\n",
       "      <td>9.220063e-01</td>\n",
       "      <td>9.201537e-01</td>\n",
       "      <td>9.202519e-01</td>\n",
       "      <td>9.278593e-01</td>\n",
       "      <td>9.278283e-01</td>\n",
       "      <td>0.0</td>\n",
       "      <td>9.023886e-01</td>\n",
       "      <td>8.795337e-01</td>\n",
       "      <td>7.585519e-01</td>\n",
       "      <td>8.796799e-01</td>\n",
       "      <td>0.0</td>\n",
       "      <td>9.276007e-01</td>\n",
       "      <td>9.274032e-01</td>\n",
       "      <td>9.269814e-01</td>\n",
       "      <td>9.275553e-01</td>\n",
       "      <td>0.0</td>\n",
       "      <td>9.268032e-01</td>\n",
       "      <td>9.262826e-01</td>\n",
       "      <td>9.209070e-01</td>\n",
       "      <td>9.264382e-01</td>\n",
       "      <td>0.0</td>\n",
       "      <td>9.274100e-01</td>\n",
       "      <td>9.276074e-01</td>\n",
       "      <td>9.238661e-01</td>\n",
       "      <td>9.275654e-01</td>\n",
       "    </tr>\n",
       "    <tr>\n",
       "      <th>min</th>\n",
       "      <td>1.083910e+08</td>\n",
       "      <td>6.238619e+08</td>\n",
       "      <td>6418.000000</td>\n",
       "      <td>NaN</td>\n",
       "      <td>1.000000</td>\n",
       "      <td>0.000000</td>\n",
       "      <td>0.000000e+00</td>\n",
       "      <td>NaN</td>\n",
       "      <td>NaN</td>\n",
       "      <td>NaN</td>\n",
       "      <td>0.000000</td>\n",
       "      <td>-999.000000</td>\n",
       "      <td>-62.082592</td>\n",
       "      <td>0.000000</td>\n",
       "      <td>0.000000</td>\n",
       "      <td>0.000000</td>\n",
       "      <td>0.000000</td>\n",
       "      <td>0.000000</td>\n",
       "      <td>0.000000</td>\n",
       "      <td>0.000000</td>\n",
       "      <td>0.000000</td>\n",
       "      <td>0.000000</td>\n",
       "      <td>0.000000</td>\n",
       "      <td>0.000000</td>\n",
       "      <td>-1.000000</td>\n",
       "      <td>...</td>\n",
       "      <td>-2.474874e+00</td>\n",
       "      <td>-2.474874e+00</td>\n",
       "      <td>-2.474874e+00</td>\n",
       "      <td>-2.474874e+00</td>\n",
       "      <td>-2.474874e+00</td>\n",
       "      <td>0.0</td>\n",
       "      <td>-2.474874e+00</td>\n",
       "      <td>-2.474874e+00</td>\n",
       "      <td>-2.474874e+00</td>\n",
       "      <td>-2.474874e+00</td>\n",
       "      <td>0.0</td>\n",
       "      <td>-2.474874e+00</td>\n",
       "      <td>-2.474874e+00</td>\n",
       "      <td>-2.474874e+00</td>\n",
       "      <td>-2.474874e+00</td>\n",
       "      <td>0.0</td>\n",
       "      <td>-2.474874e+00</td>\n",
       "      <td>-2.474874e+00</td>\n",
       "      <td>-2.474874e+00</td>\n",
       "      <td>-2.474874e+00</td>\n",
       "      <td>0.0</td>\n",
       "      <td>-2.474874e+00</td>\n",
       "      <td>-2.474874e+00</td>\n",
       "      <td>-2.474874e+00</td>\n",
       "      <td>-2.474874e+00</td>\n",
       "    </tr>\n",
       "    <tr>\n",
       "      <th>25%</th>\n",
       "      <td>4.077278e+08</td>\n",
       "      <td>6.892971e+08</td>\n",
       "      <td>65398.000000</td>\n",
       "      <td>NaN</td>\n",
       "      <td>2.000000</td>\n",
       "      <td>84.000000</td>\n",
       "      <td>2.670000e+03</td>\n",
       "      <td>NaN</td>\n",
       "      <td>NaN</td>\n",
       "      <td>NaN</td>\n",
       "      <td>6.000000</td>\n",
       "      <td>350.000000</td>\n",
       "      <td>20.722059</td>\n",
       "      <td>20.621345</td>\n",
       "      <td>20.655511</td>\n",
       "      <td>20.380000</td>\n",
       "      <td>21.105479</td>\n",
       "      <td>0.380000</td>\n",
       "      <td>0.217155</td>\n",
       "      <td>0.000000</td>\n",
       "      <td>16803.118908</td>\n",
       "      <td>16881.596080</td>\n",
       "      <td>16311.235096</td>\n",
       "      <td>17241.379310</td>\n",
       "      <td>566.758857</td>\n",
       "      <td>...</td>\n",
       "      <td>-6.835067e-01</td>\n",
       "      <td>-7.071068e-01</td>\n",
       "      <td>-7.071068e-01</td>\n",
       "      <td>-7.019889e-01</td>\n",
       "      <td>-7.017623e-01</td>\n",
       "      <td>0.0</td>\n",
       "      <td>-7.245688e-01</td>\n",
       "      <td>-5.855400e-01</td>\n",
       "      <td>-4.082483e-01</td>\n",
       "      <td>-5.855400e-01</td>\n",
       "      <td>0.0</td>\n",
       "      <td>-6.947404e-01</td>\n",
       "      <td>-6.932164e-01</td>\n",
       "      <td>-6.974678e-01</td>\n",
       "      <td>-6.998750e-01</td>\n",
       "      <td>0.0</td>\n",
       "      <td>-7.245688e-01</td>\n",
       "      <td>-7.302967e-01</td>\n",
       "      <td>-7.245688e-01</td>\n",
       "      <td>-7.262730e-01</td>\n",
       "      <td>0.0</td>\n",
       "      <td>-6.954547e-01</td>\n",
       "      <td>-6.901641e-01</td>\n",
       "      <td>-6.833210e-01</td>\n",
       "      <td>-6.852216e-01</td>\n",
       "    </tr>\n",
       "    <tr>\n",
       "      <th>50%</th>\n",
       "      <td>4.654220e+08</td>\n",
       "      <td>7.506544e+08</td>\n",
       "      <td>99554.000000</td>\n",
       "      <td>NaN</td>\n",
       "      <td>4.000000</td>\n",
       "      <td>91.000000</td>\n",
       "      <td>7.698000e+03</td>\n",
       "      <td>NaN</td>\n",
       "      <td>NaN</td>\n",
       "      <td>NaN</td>\n",
       "      <td>15.000000</td>\n",
       "      <td>400.000000</td>\n",
       "      <td>23.673684</td>\n",
       "      <td>23.640000</td>\n",
       "      <td>23.575853</td>\n",
       "      <td>23.220513</td>\n",
       "      <td>24.108108</td>\n",
       "      <td>0.760000</td>\n",
       "      <td>0.290805</td>\n",
       "      <td>0.000000</td>\n",
       "      <td>17088.399606</td>\n",
       "      <td>17104.380403</td>\n",
       "      <td>16604.378003</td>\n",
       "      <td>17518.770111</td>\n",
       "      <td>880.345671</td>\n",
       "      <td>...</td>\n",
       "      <td>-1.115549e-01</td>\n",
       "      <td>-1.040313e-01</td>\n",
       "      <td>-8.770580e-02</td>\n",
       "      <td>-2.645614e-01</td>\n",
       "      <td>-2.641733e-01</td>\n",
       "      <td>0.0</td>\n",
       "      <td>-3.779645e-01</td>\n",
       "      <td>-3.535534e-01</td>\n",
       "      <td>-3.535534e-01</td>\n",
       "      <td>-3.535534e-01</td>\n",
       "      <td>0.0</td>\n",
       "      <td>-2.940449e-01</td>\n",
       "      <td>-2.976697e-01</td>\n",
       "      <td>-2.777657e-01</td>\n",
       "      <td>-2.739786e-01</td>\n",
       "      <td>0.0</td>\n",
       "      <td>0.000000e+00</td>\n",
       "      <td>-1.002869e-01</td>\n",
       "      <td>-2.279212e-01</td>\n",
       "      <td>-1.002869e-01</td>\n",
       "      <td>0.0</td>\n",
       "      <td>-5.590418e-02</td>\n",
       "      <td>-2.531951e-02</td>\n",
       "      <td>-1.126249e-01</td>\n",
       "      <td>-7.998106e-02</td>\n",
       "    </tr>\n",
       "    <tr>\n",
       "      <th>75%</th>\n",
       "      <td>5.504112e+08</td>\n",
       "      <td>8.077565e+08</td>\n",
       "      <td>124111.000000</td>\n",
       "      <td>NaN</td>\n",
       "      <td>7.000000</td>\n",
       "      <td>96.000000</td>\n",
       "      <td>1.672500e+04</td>\n",
       "      <td>NaN</td>\n",
       "      <td>NaN</td>\n",
       "      <td>NaN</td>\n",
       "      <td>28.000000</td>\n",
       "      <td>450.000000</td>\n",
       "      <td>27.125290</td>\n",
       "      <td>27.010000</td>\n",
       "      <td>26.706490</td>\n",
       "      <td>26.383696</td>\n",
       "      <td>27.250580</td>\n",
       "      <td>1.120819</td>\n",
       "      <td>0.375731</td>\n",
       "      <td>0.000000</td>\n",
       "      <td>17351.598174</td>\n",
       "      <td>17289.490844</td>\n",
       "      <td>16843.118383</td>\n",
       "      <td>17751.479290</td>\n",
       "      <td>1177.802878</td>\n",
       "      <td>...</td>\n",
       "      <td>6.530340e-01</td>\n",
       "      <td>6.822210e-01</td>\n",
       "      <td>6.895966e-01</td>\n",
       "      <td>6.682016e-01</td>\n",
       "      <td>6.667776e-01</td>\n",
       "      <td>0.0</td>\n",
       "      <td>8.017837e-01</td>\n",
       "      <td>7.245688e-01</td>\n",
       "      <td>0.000000e+00</td>\n",
       "      <td>7.245688e-01</td>\n",
       "      <td>0.0</td>\n",
       "      <td>6.541660e-01</td>\n",
       "      <td>6.469305e-01</td>\n",
       "      <td>6.508655e-01</td>\n",
       "      <td>6.573064e-01</td>\n",
       "      <td>0.0</td>\n",
       "      <td>7.128324e-01</td>\n",
       "      <td>7.071068e-01</td>\n",
       "      <td>7.245688e-01</td>\n",
       "      <td>7.071068e-01</td>\n",
       "      <td>0.0</td>\n",
       "      <td>6.731725e-01</td>\n",
       "      <td>6.777237e-01</td>\n",
       "      <td>6.476636e-01</td>\n",
       "      <td>6.592656e-01</td>\n",
       "    </tr>\n",
       "    <tr>\n",
       "      <th>max</th>\n",
       "      <td>2.145360e+09</td>\n",
       "      <td>8.686263e+08</td>\n",
       "      <td>335886.000000</td>\n",
       "      <td>NaN</td>\n",
       "      <td>10.000000</td>\n",
       "      <td>100.000000</td>\n",
       "      <td>2.259370e+06</td>\n",
       "      <td>NaN</td>\n",
       "      <td>NaN</td>\n",
       "      <td>NaN</td>\n",
       "      <td>131.000000</td>\n",
       "      <td>700.000000</td>\n",
       "      <td>384.582524</td>\n",
       "      <td>61.747368</td>\n",
       "      <td>46.248951</td>\n",
       "      <td>46.248951</td>\n",
       "      <td>61.747368</td>\n",
       "      <td>39.167368</td>\n",
       "      <td>10.132302</td>\n",
       "      <td>1.000000</td>\n",
       "      <td>40200.000000</td>\n",
       "      <td>40200.000000</td>\n",
       "      <td>40200.000000</td>\n",
       "      <td>40200.000000</td>\n",
       "      <td>23826.557771</td>\n",
       "      <td>...</td>\n",
       "      <td>2.474874e+00</td>\n",
       "      <td>2.474874e+00</td>\n",
       "      <td>2.474874e+00</td>\n",
       "      <td>2.474874e+00</td>\n",
       "      <td>2.474874e+00</td>\n",
       "      <td>0.0</td>\n",
       "      <td>2.474874e+00</td>\n",
       "      <td>2.474874e+00</td>\n",
       "      <td>2.474874e+00</td>\n",
       "      <td>2.474874e+00</td>\n",
       "      <td>0.0</td>\n",
       "      <td>2.474874e+00</td>\n",
       "      <td>2.474874e+00</td>\n",
       "      <td>2.474874e+00</td>\n",
       "      <td>2.474874e+00</td>\n",
       "      <td>0.0</td>\n",
       "      <td>2.474874e+00</td>\n",
       "      <td>2.474874e+00</td>\n",
       "      <td>2.474874e+00</td>\n",
       "      <td>2.474874e+00</td>\n",
       "      <td>0.0</td>\n",
       "      <td>2.474874e+00</td>\n",
       "      <td>2.474874e+00</td>\n",
       "      <td>2.474874e+00</td>\n",
       "      <td>2.474874e+00</td>\n",
       "    </tr>\n",
       "  </tbody>\n",
       "</table>\n",
       "<p>8 rows × 135 columns</p>\n",
       "</div>"
      ],
      "text/plain": [
       "            @id_DOG      @id_RACE      TrainerId  Handicap_DOG_x      RaceBox_x       Rating_x    DogPRIZE_x  GOBIS_x  Hurdle_x  Handicap_RACE_x    x_races_tot      x_dist_gp     x_runtm_gp  \\\n",
       "count  6.417100e+05  6.417100e+05  641710.000000             0.0  639849.000000  641710.000000  6.398490e+05      0.0       0.0              0.0  641710.000000  641710.000000  641710.000000   \n",
       "mean   4.716331e+08  7.486843e+08  110851.114122             NaN       4.585473      81.945313  1.393480e+04      NaN       NaN              NaN      19.056468     415.144233      24.302123   \n",
       "std    1.172652e+08  6.927769e+07   77738.478215             NaN       2.432556      28.141374  2.566634e+04      NaN       NaN              NaN      16.772309      78.124826       4.646788   \n",
       "min    1.083910e+08  6.238619e+08    6418.000000             NaN       1.000000       0.000000  0.000000e+00      NaN       NaN              NaN       0.000000    -999.000000     -62.082592   \n",
       "25%    4.077278e+08  6.892971e+08   65398.000000             NaN       2.000000      84.000000  2.670000e+03      NaN       NaN              NaN       6.000000     350.000000      20.722059   \n",
       "50%    4.654220e+08  7.506544e+08   99554.000000             NaN       4.000000      91.000000  7.698000e+03      NaN       NaN              NaN      15.000000     400.000000      23.673684   \n",
       "75%    5.504112e+08  8.077565e+08  124111.000000             NaN       7.000000      96.000000  1.672500e+04      NaN       NaN              NaN      28.000000     450.000000      27.125290   \n",
       "max    2.145360e+09  8.686263e+08  335886.000000             NaN      10.000000     100.000000  2.259370e+06      NaN       NaN              NaN     131.000000     700.000000     384.582524   \n",
       "\n",
       "         x_rtgp_prev     x_rtgp_avg     x_rtgp_min     x_rtgp_max   x_rtgp_range     x_rtgp_std  x_no_prev_races   x_speed_prev    x_speed_avg    x_speed_min    x_speed_max  x_speed_range  ...  \\\n",
       "count  641710.000000  641710.000000  641710.000000  641710.000000  641710.000000  641710.000000    641710.000000  641710.000000  641710.000000  641710.000000  641710.000000  641710.000000  ...   \n",
       "mean       24.066283      24.026817      23.681201      24.491434       0.810233       0.311760         0.043931   16351.639608   16348.115700   15847.797766   16756.955849     909.114151  ...   \n",
       "std         5.147218       4.843409       4.805440       4.915439       0.705791       0.196567         0.204942    3529.976232    3518.869628    3432.391727    3632.950317     690.263730  ...   \n",
       "min         0.000000       0.000000       0.000000       0.000000       0.000000       0.000000         0.000000       0.000000       0.000000       0.000000       0.000000      -1.000000  ...   \n",
       "25%        20.621345      20.655511      20.380000      21.105479       0.380000       0.217155         0.000000   16803.118908   16881.596080   16311.235096   17241.379310     566.758857  ...   \n",
       "50%        23.640000      23.575853      23.220513      24.108108       0.760000       0.290805         0.000000   17088.399606   17104.380403   16604.378003   17518.770111     880.345671  ...   \n",
       "75%        27.010000      26.706490      26.383696      27.250580       1.120819       0.375731         0.000000   17351.598174   17289.490844   16843.118383   17751.479290    1177.802878  ...   \n",
       "max        61.747368      46.248951      46.248951      61.747368      39.167368      10.132302         1.000000   40200.000000   40200.000000   40200.000000   40200.000000   23826.557771  ...   \n",
       "\n",
       "       xr_fin_plc_pct_norm  xr_finl5_plc_norm  xr_finl5_plc_pct_norm  trnr_xr_races_tot_norm  trnr_xr_races_tot_prev_norm  trnr_wins_prev_norm  trnr_fin_plc_prev_norm  trnr_fin_t2_prev_norm  \\\n",
       "count         6.417100e+05       6.417100e+05           6.417100e+05            6.417100e+05                 6.417100e+05             641710.0            6.417100e+05           6.417100e+05   \n",
       "mean          7.593759e-18       2.989376e-18           8.495574e-18           -1.453285e-19                -6.262965e-20                  0.0            4.020581e-18           2.809511e-18   \n",
       "std           9.220063e-01       9.201537e-01           9.202519e-01            9.278593e-01                 9.278283e-01                  0.0            9.023886e-01           8.795337e-01   \n",
       "min          -2.474874e+00      -2.474874e+00          -2.474874e+00           -2.474874e+00                -2.474874e+00                  0.0           -2.474874e+00          -2.474874e+00   \n",
       "25%          -6.835067e-01      -7.071068e-01          -7.071068e-01           -7.019889e-01                -7.017623e-01                  0.0           -7.245688e-01          -5.855400e-01   \n",
       "50%          -1.115549e-01      -1.040313e-01          -8.770580e-02           -2.645614e-01                -2.641733e-01                  0.0           -3.779645e-01          -3.535534e-01   \n",
       "75%           6.530340e-01       6.822210e-01           6.895966e-01            6.682016e-01                 6.667776e-01                  0.0            8.017837e-01           7.245688e-01   \n",
       "max           2.474874e+00       2.474874e+00           2.474874e+00            2.474874e+00                 2.474874e+00                  0.0            2.474874e+00           2.474874e+00   \n",
       "\n",
       "       trnr_fin_last_prev_norm  trnr_fin_last2_prev_norm  trnr_xr_wins_norm  trnr_xr_fin_plc_norm  trnr_xr_fin_t2_norm  trnr_xr_fin_last_norm  trnr_xr_fin_last2_norm  trnr_xrl5_wins_norm  \\\n",
       "count             6.417100e+05              6.417100e+05           641710.0          6.417100e+05         6.417100e+05           6.417100e+05            6.417100e+05             641710.0   \n",
       "mean              3.860547e-18              2.715912e-18                0.0          1.209341e-19         1.089964e-20           2.612452e-19            2.069201e-19                  0.0   \n",
       "std               7.585519e-01              8.796799e-01                0.0          9.276007e-01         9.274032e-01           9.269814e-01            9.275553e-01                  0.0   \n",
       "min              -2.474874e+00             -2.474874e+00                0.0         -2.474874e+00        -2.474874e+00          -2.474874e+00           -2.474874e+00                  0.0   \n",
       "25%              -4.082483e-01             -5.855400e-01                0.0         -6.947404e-01        -6.932164e-01          -6.974678e-01           -6.998750e-01                  0.0   \n",
       "50%              -3.535534e-01             -3.535534e-01                0.0         -2.940449e-01        -2.976697e-01          -2.777657e-01           -2.739786e-01                  0.0   \n",
       "75%               0.000000e+00              7.245688e-01                0.0          6.541660e-01         6.469305e-01           6.508655e-01            6.573064e-01                  0.0   \n",
       "max               2.474874e+00              2.474874e+00                0.0          2.474874e+00         2.474874e+00           2.474874e+00            2.474874e+00                  0.0   \n",
       "\n",
       "       trnr_xrl5_fin_plc_norm  trnr_xrl5_fin_t2_norm  trnr_xrl5_fin_last_norm  trnr_xrl5_fin_last2_norm  trnr_xr_wins_pct_norm  trnr_xr_fin_t2_pct_norm  trnr_xr_fin_plc_pct_norm  \\\n",
       "count            6.417100e+05           6.417100e+05             6.417100e+05              6.417100e+05               641710.0             6.417100e+05              6.417100e+05   \n",
       "mean             2.936846e-18           2.115394e-18             4.261930e-18              1.721450e-18                    0.0             1.313320e-18              4.957604e-18   \n",
       "std              9.268032e-01           9.262826e-01             9.209070e-01              9.264382e-01                    0.0             9.274100e-01              9.276074e-01   \n",
       "min             -2.474874e+00          -2.474874e+00            -2.474874e+00             -2.474874e+00                    0.0            -2.474874e+00             -2.474874e+00   \n",
       "25%             -7.245688e-01          -7.302967e-01            -7.245688e-01             -7.262730e-01                    0.0            -6.954547e-01             -6.901641e-01   \n",
       "50%              0.000000e+00          -1.002869e-01            -2.279212e-01             -1.002869e-01                    0.0            -5.590418e-02             -2.531951e-02   \n",
       "75%              7.128324e-01           7.071068e-01             7.245688e-01              7.071068e-01                    0.0             6.731725e-01              6.777237e-01   \n",
       "max              2.474874e+00           2.474874e+00             2.474874e+00              2.474874e+00                    0.0             2.474874e+00              2.474874e+00   \n",
       "\n",
       "       trnr_xr_fin_last_pct_norm  trnr_xr_fin_last2_pct_norm  \n",
       "count               6.417100e+05                6.417100e+05  \n",
       "mean                2.044287e-18                6.669885e-18  \n",
       "std                 9.238661e-01                9.275654e-01  \n",
       "min                -2.474874e+00               -2.474874e+00  \n",
       "25%                -6.833210e-01               -6.852216e-01  \n",
       "50%                -1.126249e-01               -7.998106e-02  \n",
       "75%                 6.476636e-01                6.592656e-01  \n",
       "max                 2.474874e+00                2.474874e+00  \n",
       "\n",
       "[8 rows x 135 columns]"
      ]
     },
     "execution_count": 42,
     "metadata": {},
     "output_type": "execute_result"
    }
   ],
   "source": [
    "\n",
    "exp_ds.describe()\n"
   ]
  },
  {
   "cell_type": "markdown",
   "id": "2edfe953-31cd-4fdb-adec-e1ae6322b25c",
   "metadata": {},
   "source": [
    "# 30 Min runtime"
   ]
  },
  {
   "cell_type": "code",
   "execution_count": 43,
   "id": "d1ca9533-1d19-4325-8310-fadfc51a1476",
   "metadata": {},
   "outputs": [
    {
     "name": "stdout",
     "output_type": "stream",
     "text": [
      "2023-02-22 22:18:58.692181\n"
     ]
    }
   ],
   "source": [
    "\n",
    "print(datetime.now())\n"
   ]
  },
  {
   "cell_type": "code",
   "execution_count": null,
   "id": "d82e1ee3-6b4c-4126-9780-23cb1dc081e4",
   "metadata": {},
   "outputs": [],
   "source": [
    "\n",
    "exp_ds.to_csv(f'{fileloc}/{exp_fname}', index = False)\n"
   ]
  },
  {
   "cell_type": "code",
   "execution_count": null,
   "id": "b8617e2e-cd67-49cc-b1a0-bb2468b734d6",
   "metadata": {},
   "outputs": [],
   "source": [
    "\n",
    "print(datetime.now())\n",
    "print()\n",
    "print(\"THE END\")\n"
   ]
  },
  {
   "cell_type": "code",
   "execution_count": null,
   "id": "94a2782f-1539-4839-a59d-6afeac9ff3d7",
   "metadata": {},
   "outputs": [],
   "source": [
    "\n",
    "print(exp_fname)\n"
   ]
  },
  {
   "cell_type": "code",
   "execution_count": null,
   "id": "454baec7-7536-4979-9812-84250424177f",
   "metadata": {},
   "outputs": [],
   "source": []
  }
 ],
 "metadata": {
  "kernelspec": {
   "display_name": "Python 3.8 - AzureML",
   "language": "python",
   "name": "python38-azureml"
  },
  "language_info": {
   "codemirror_mode": {
    "name": "ipython",
    "version": 3
   },
   "file_extension": ".py",
   "mimetype": "text/x-python",
   "name": "python",
   "nbconvert_exporter": "python",
   "pygments_lexer": "ipython3",
   "version": "3.8.5"
  }
 },
 "nbformat": 4,
 "nbformat_minor": 5
}
