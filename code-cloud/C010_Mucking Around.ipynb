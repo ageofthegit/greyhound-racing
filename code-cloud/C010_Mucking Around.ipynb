{
 "cells": [
  {
   "cell_type": "code",
   "execution_count": 1,
   "id": "63486fe9-888e-4feb-b703-964e76d59d16",
   "metadata": {},
   "outputs": [],
   "source": []
  },
  {
   "cell_type": "markdown",
   "id": "afd5d355-dd06-441b-b6a9-61f90900d98c",
   "metadata": {},
   "source": [
    "\n",
    "# Mucking Around\n"
   ]
  },
  {
   "cell_type": "code",
   "execution_count": null,
   "id": "e392fb86-ad46-457b-9933-0f7e96a662cb",
   "metadata": {},
   "outputs": [],
   "source": [
    "\n",
    "\n",
    "import pandas as pd\n",
    "\n"
   ]
  },
  {
   "cell_type": "code",
   "execution_count": 5,
   "id": "a94f8ad2-345b-4843-a191-53c5da3e9c01",
   "metadata": {},
   "outputs": [
    {
     "name": "stdout",
     "output_type": "stream",
     "text": [
      "azureml://datastores/datastore_training/paths/container-training/directory-training/race_details_20220101_20220531.csv\n"
     ]
    }
   ],
   "source": [
    "\n",
    "# path on a data store follows the following convention\n",
    "\n",
    "filename = 'race_details_20220101_20220531.csv'\n",
    "\n",
    "data_store_name = 'datastore_training'\n",
    "file_path_name = f'container-training/directory-training/{filename}'\n",
    "\n",
    "datastorepath = f'azureml://datastores/{data_store_name}/paths/{file_path_name}'\n",
    "\n",
    "print(datastorepath)\n"
   ]
  },
  {
   "cell_type": "code",
   "execution_count": 33,
   "id": "17c3e1f6-1e60-4295-93ba-4f5cd23a719d",
   "metadata": {},
   "outputs": [],
   "source": [
    "\n",
    "# azureml-core of version 1.0.72 or higher is required\n",
    "from azureml.core import Workspace, Dataset\n",
    "\n",
    "subscription_id = '26cbdf30-f119-49e4-9567-97fad63677a1'\n",
    "resource_group = 'Training'\n",
    "workspace_name = 'Azure-Training-Workspace'\n",
    "\n",
    "workspace = Workspace(subscription_id, resource_group, workspace_name)\n",
    "\n",
    "dataset = Dataset.get_by_name(workspace, name='dataset_training')\n",
    "\n",
    "dataset_path = dataset.download(target_path='.', overwrite=True)\n"
   ]
  },
  {
   "cell_type": "code",
   "execution_count": 41,
   "id": "734ba86e-dc1b-4fc1-b9f5-93391482d02e",
   "metadata": {},
   "outputs": [
    {
     "name": "stdout",
     "output_type": "stream",
     "text": [
      "\n",
      "location of file is : /mnt/batch/tasks/shared/LS_root/mounts/clusters/training-msazureml/code/Users/race_details_20220101_20220531.csv\n",
      "\n",
      "(21002, 8)\n",
      "\n",
      "                @id       RaceNum\n",
      "count  2.100200e+04  21002.000000\n",
      "mean   7.669990e+08      6.149081\n",
      "std    1.235015e+07      3.332675\n",
      "min    7.443523e+08      1.000000\n",
      "25%    7.568848e+08      3.000000\n",
      "50%    7.663241e+08      6.000000\n",
      "75%    7.772269e+08      9.000000\n",
      "max    7.905490e+08     16.000000\n",
      "\n"
     ]
    }
   ],
   "source": [
    "\n",
    "print()\n",
    "print(f'location of file is : {dataset_path[0]}')\n",
    "print()\n",
    "\n",
    "df = pd.read_csv(dataset_path[0])\n",
    "\n",
    "#print(df.head())\n",
    "print(df.shape)\n",
    "print()\n",
    "print(df.describe())\n",
    "print()\n",
    "\n"
   ]
  },
  {
   "cell_type": "code",
   "execution_count": 12,
   "id": "815d5685-7d4c-42a3-808a-d29ccaa3caf8",
   "metadata": {},
   "outputs": [
    {
     "ename": "AttributeError",
     "evalue": "'FileDataset' object has no attribute 'to_pandas_dataframe'",
     "output_type": "error",
     "traceback": [
      "\u001b[0;31m---------------------------------------------------------------------------\u001b[0m",
      "\u001b[0;31mAttributeError\u001b[0m                            Traceback (most recent call last)",
      "Input \u001b[0;32mIn [12]\u001b[0m, in \u001b[0;36m<cell line: 11>\u001b[0;34m()\u001b[0m\n\u001b[1;32m      8\u001b[0m ds \u001b[38;5;241m=\u001b[39m Dataset\u001b[38;5;241m.\u001b[39mget_by_name(workspace\u001b[38;5;241m=\u001b[39mws, name\u001b[38;5;241m=\u001b[39m\u001b[38;5;124m'\u001b[39m\u001b[38;5;124mdataset_training\u001b[39m\u001b[38;5;124m'\u001b[39m)\n\u001b[1;32m     10\u001b[0m \u001b[38;5;66;03m# Convert to a Pandas DataFrame\u001b[39;00m\n\u001b[0;32m---> 11\u001b[0m df \u001b[38;5;241m=\u001b[39m \u001b[43mds\u001b[49m\u001b[38;5;241;43m.\u001b[39;49m\u001b[43mto_pandas_dataframe\u001b[49m()\n",
      "\u001b[0;31mAttributeError\u001b[0m: 'FileDataset' object has no attribute 'to_pandas_dataframe'"
     ]
    }
   ],
   "source": [
    "\n",
    "from azureml.core import Workspace, Dataset\n",
    "import pandas as pd\n",
    "\n",
    "# Connect to the Workspace\n",
    "ws = Workspace.from_config()\n",
    "\n",
    "# Retrieve the dataset from Azure by its name\n",
    "ds = Dataset.get_by_name(workspace=ws, name='dataset_training')\n",
    "\n",
    "# Convert to a Pandas DataFrame\n",
    "df = ds.to_pandas_dataframe()\n"
   ]
  },
  {
   "cell_type": "code",
   "execution_count": 10,
   "id": "5f332873-da4d-424a-91fa-838cc62e5070",
   "metadata": {},
   "outputs": [
    {
     "ename": "AttributeError",
     "evalue": "'FileDataset' object has no attribute 'head'",
     "output_type": "error",
     "traceback": [
      "\u001b[0;31m---------------------------------------------------------------------------\u001b[0m",
      "\u001b[0;31mAttributeError\u001b[0m                            Traceback (most recent call last)",
      "Input \u001b[0;32mIn [10]\u001b[0m, in \u001b[0;36m<cell line: 1>\u001b[0;34m()\u001b[0m\n\u001b[0;32m----> 1\u001b[0m \u001b[38;5;28mprint\u001b[39m(\u001b[43mdataset\u001b[49m\u001b[38;5;241;43m.\u001b[39;49m\u001b[43mhead\u001b[49m)\n",
      "\u001b[0;31mAttributeError\u001b[0m: 'FileDataset' object has no attribute 'head'"
     ]
    }
   ],
   "source": [
    "\n",
    "print(dataset.head)\n"
   ]
  },
  {
   "cell_type": "code",
   "execution_count": 7,
   "id": "d5fa9bda-c35c-4635-a4df-8e5315eebdb4",
   "metadata": {},
   "outputs": [],
   "source": [
    "\n",
    "#pd.read_csv(datastorepath)\n"
   ]
  }
 ],
 "metadata": {
  "kernelspec": {
   "display_name": "Python 3.8 - AzureML",
   "language": "python",
   "name": "python38-azureml"
  },
  "language_info": {
   "codemirror_mode": {
    "name": "ipython",
    "version": 3
   },
   "file_extension": ".py",
   "mimetype": "text/x-python",
   "name": "python",
   "nbconvert_exporter": "python",
   "pygments_lexer": "ipython3",
   "version": "3.8.5"
  }
 },
 "nbformat": 4,
 "nbformat_minor": 5
}
