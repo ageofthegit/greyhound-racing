{
 "cells": [
  {
   "cell_type": "code",
   "execution_count": null,
   "id": "cb585584-ccf5-4aa1-8f83-32ce55442a81",
   "metadata": {},
   "outputs": [],
   "source": []
  },
  {
   "cell_type": "markdown",
   "id": "20d15156-d40c-4adb-b8ad-9d9f9ad35e18",
   "metadata": {},
   "source": [
    "# Tensorflow Regression"
   ]
  },
  {
   "cell_type": "code",
   "execution_count": 101,
   "id": "09e68d2b-4cfd-40c5-8609-1c7542c2933b",
   "metadata": {},
   "outputs": [],
   "source": [
    "\n",
    "#!pip install openpyxl\n"
   ]
  },
  {
   "cell_type": "code",
   "execution_count": 102,
   "id": "ac0b3b5b-48bf-485c-83bd-97db741515f5",
   "metadata": {},
   "outputs": [
    {
     "name": "stdout",
     "output_type": "stream",
     "text": [
      "['/mnt/batch/tasks/shared/LS_root/mounts/clusters/compute-one-8c-32gb/code/Users/karan.bhatti/Code', '/anaconda/envs/azureml_py38/lib/python38.zip', '/anaconda/envs/azureml_py38/lib/python3.8', '/anaconda/envs/azureml_py38/lib/python3.8/lib-dynload', '', '/anaconda/envs/azureml_py38/lib/python3.8/site-packages', '/anaconda/envs/azureml_py38/lib/python3.8/site-packages/azureml/_project/vendor', '/anaconda/envs/azureml_py38/lib/python3.8/site-packages/azureml/automl/core/_vendor']\n",
      "\n",
      "\n"
     ]
    }
   ],
   "source": [
    "\n",
    "#fileloc  = '/mnt/batch/tasks/shared/LS_root/mounts/clusters/compute-one/code/Users/karan.bhatti'\n",
    "fileloc  = '/mnt/batch/tasks/shared/LS_root/mounts/clusters/compute-one-8c-32gb/code/Users/karan.bhatti/Dataprep'\n",
    "modelloc  = '/mnt/batch/tasks/shared/LS_root/mounts/clusters/compute-one-8c-32gb/code/Users/karan.bhatti/Model'\n",
    "\n",
    "import sys, random, gc, openpyxl\n",
    "\n",
    "print(sys.path)\n",
    "print()\n",
    "#sys.path.append(f'{fileloc}')\n",
    "print()\n",
    "#print(sys.path)\n"
   ]
  },
  {
   "cell_type": "code",
   "execution_count": 103,
   "id": "41e12f32-cddf-4b1b-a11b-523bd5150978",
   "metadata": {},
   "outputs": [],
   "source": [
    "\n",
    "class Data(object):\n",
    "    pass\n",
    "\n",
    "df = Data\n",
    "summ = Data\n"
   ]
  },
  {
   "cell_type": "code",
   "execution_count": 104,
   "id": "91c0dfae-c116-4ecc-8ece-515ef84128f1",
   "metadata": {},
   "outputs": [],
   "source": [
    "import helpdesk as hd"
   ]
  },
  {
   "cell_type": "code",
   "execution_count": 105,
   "id": "786aefbb-d314-49f9-ae4d-efdc11ddfde5",
   "metadata": {},
   "outputs": [],
   "source": [
    "\n",
    "# Import writer class from csv module\n",
    "from csv import writer\n",
    "\n",
    "import pandas as pd, numpy as np\n",
    "from datetime import datetime\n",
    "\n",
    "import random, time\n"
   ]
  },
  {
   "cell_type": "code",
   "execution_count": 106,
   "id": "d227ed76-fe13-4978-bc6a-ddb452c752e6",
   "metadata": {},
   "outputs": [
    {
     "name": "stdout",
     "output_type": "stream",
     "text": [
      "2023-07-07 15:56:33.880455+05:30\n"
     ]
    }
   ],
   "source": [
    " \n",
    "import pytz\n",
    "\n",
    "# Get the current UTC time\n",
    "utc_now = datetime.now(pytz.utc)\n",
    "\n",
    "# Convert it to local time\n",
    "#local_tz = pytz.timezone('America/Los_Angeles')  # Replace with your timezone\n",
    "local_tz = pytz.timezone('Asia/Kolkata')  # Set timezone to India (IST)\n",
    "local_now = utc_now.astimezone(local_tz)\n",
    "\n",
    "print(local_now)\n"
   ]
  },
  {
   "cell_type": "code",
   "execution_count": 107,
   "id": "e27858ab-bed5-4392-adaa-7ab1699e4729",
   "metadata": {},
   "outputs": [],
   "source": [
    "\n",
    "DEBUG = True\n",
    "seed = 1919\n",
    "\n",
    "RUN_NB = False\n"
   ]
  },
  {
   "cell_type": "code",
   "execution_count": 108,
   "id": "b4c76018-6caa-4402-b5a0-bad9d21fe51c",
   "metadata": {},
   "outputs": [],
   "source": [
    "\n",
    "todaydt = datetime.now().date()\n"
   ]
  },
  {
   "cell_type": "code",
   "execution_count": 109,
   "id": "c9b3430a-b700-4589-beef-b9edc17f6ef2",
   "metadata": {},
   "outputs": [],
   "source": [
    "pd.set_option('display.max_rows', 50);"
   ]
  },
  {
   "cell_type": "code",
   "execution_count": 110,
   "id": "2aec9b34-54e0-4ab8-8fc4-80ba87ea7ead",
   "metadata": {},
   "outputs": [],
   "source": [
    "pd.set_option('display.max_columns', 50);"
   ]
  },
  {
   "cell_type": "code",
   "execution_count": 111,
   "id": "5dd36262-1b85-4dcb-b901-d2e97674d7ce",
   "metadata": {},
   "outputs": [],
   "source": [
    "pd.set_option('display.width', 200);"
   ]
  },
  {
   "cell_type": "code",
   "execution_count": 112,
   "id": "030d9f86-bdab-4135-bab0-ea0039d19d28",
   "metadata": {},
   "outputs": [
    {
     "name": "stdout",
     "output_type": "stream",
     "text": [
      "2023-07-07 15:56:33.930656+05:30\n",
      "2023-07-07 16:03:38.884117+05:30\n",
      "(725080, 248)\n",
      "\n",
      "['@id_DOG', 'DogName', 'y_runtime', 'RaceId', '@id_RACE', 'Distance', 'RaceGrade', 'Track', 'Event_Dt', 'Prizemoney', 'TrainerId', 'TrainerName', 'ft_sp', 'x_num_dogs', 'position', 'y_margin', 'y_pos', 'Winner_actual', 'Top3_actual', 'rand_mean', 'rand_uniform', 'position_random', 'Winner_random', 'Top3_random', 'position_fasttrack', 'Winner_fastrack', 'Top3_fastrack', 'rand_1', 'h_rand_1', 'p_rand_1', 'rand_all_plc_to_win', 'h_rand_all_plc_to_win', 'p_rand_all_plc_to_win', 'rand_lay_last', 'h_rand_lay_last', 'p_rand_lay_last', 'ft_1', 'h_ft_1', 'p_ft_1', 'ft_all_plc', 'h_ft_all_plc', 'p_ft_all_plc', 'ft_lay_last', 'h_ft_lay_last', 'p_ft_lay_last', 'G5', 'G4', 'G3', 'G2', 'G1', 'Gmix', 'Gmas', 'Gmai', 'Gh', 'Gres', 'Gnov', 'Gsp', 'Gfin', 'RaceGrade_H1', 'x_races_tot', 'x_rtgp_prev', 'x_rtgp_avg', 'x_rtgp_min', 'x_rtgp_max', 'x_rtgp_std', 'x_rtgp_range', 'x_no_prev_races', 'x_speed_prev', 'x_speed_avg', 'x_speed_min', 'x_speed_max', 'x_speed_std', 'x_speed_range', 'x_no_prev_r_in_dist', 'xr_races', 'xr_races_l5', 'xr_wins', 'xr_wins_pct', 'xr_wins_l5', 'xr_wins_l5_pct', 'xr_fin_t2', 'xr_fin_t2_pct', 'xr_fin_last', 'xr_finl5_last', 'xr_finl5_last_pct', 'xr_fin_last2', 'xr_fin_last2_pct', 'xr_finl5_last2', 'xr_finl5_last2_pct', 'xr_fin_plc', 'xr_fin_plc_pct', 'xr_finl5_plc', 'xr_finl5_plc_pct', 'trnr_xr_races_tot', 'trnr_xr_races_tot_prev', 'trnr_wins_prev', 'trnr_fin_plc_prev', 'trnr_fin_t2_prev', 'trnr_fin_last_prev', 'trnr_fin_last2_prev', 'trnr_xr_wins', 'trnr_xr_fin_plc', 'trnr_xr_fin_t2', 'trnr_xr_fin_last', 'trnr_xr_fin_last2', 'trnr_xrl5_wins', 'trnr_xrl5_fin_plc', 'trnr_xrl5_fin_t2', 'trnr_xrl5_fin_last', 'trnr_xrl5_fin_last2', 'trnr_xr_wins_pct', 'trnr_xr_fin_t2_pct', 'trnr_xr_fin_plc_pct', 'trnr_xr_fin_last_pct', 'trnr_xr_fin_last2_pct', 'x_races_tot_norm_by_race', 'x_rtgp_prev_norm_by_race', 'x_rtgp_avg_norm_by_race', 'x_rtgp_min_norm_by_race', 'x_rtgp_max_norm_by_race', 'x_rtgp_std_norm_by_race', 'x_rtgp_range_norm_by_race', 'x_speed_prev_norm_by_race', 'x_speed_avg_norm_by_race', 'x_speed_min_norm_by_race', 'x_speed_max_norm_by_race', 'x_speed_std_norm_by_race', 'x_speed_range_norm_by_race', 'xr_races_norm_by_race', 'xr_races_l5_norm_by_race', 'xr_wins_norm_by_race', 'xr_wins_pct_norm_by_race', 'xr_wins_l5_norm_by_race', 'xr_wins_l5_pct_norm_by_race', 'xr_fin_t2_norm_by_race', 'xr_fin_t2_pct_norm_by_race', 'xr_fin_last_norm_by_race', 'xr_finl5_last_norm_by_race', 'xr_finl5_last_pct_norm_by_race', 'xr_fin_last2_norm_by_race', 'xr_fin_last2_pct_norm_by_race', 'xr_finl5_last2_norm_by_race', 'xr_finl5_last2_pct_norm_by_race', 'xr_fin_plc_norm_by_race', 'xr_fin_plc_pct_norm_by_race', 'xr_finl5_plc_norm_by_race', 'xr_finl5_plc_pct_norm_by_race', 'trnr_xr_races_tot_norm_by_race', 'trnr_xr_races_tot_prev_norm_by_race', 'trnr_wins_prev_norm_by_race', 'trnr_fin_plc_prev_norm_by_race', 'trnr_fin_t2_prev_norm_by_race', 'trnr_fin_last_prev_norm_by_race', 'trnr_fin_last2_prev_norm_by_race', 'trnr_xr_wins_norm_by_race', 'trnr_xr_fin_plc_norm_by_race', 'trnr_xr_fin_t2_norm_by_race', 'trnr_xr_fin_last_norm_by_race', 'trnr_xr_fin_last2_norm_by_race', 'trnr_xrl5_wins_norm_by_race', 'trnr_xrl5_fin_plc_norm_by_race', 'trnr_xrl5_fin_t2_norm_by_race', 'trnr_xrl5_fin_last_norm_by_race', 'trnr_xrl5_fin_last2_norm_by_race', 'trnr_xr_wins_pct_norm_by_race', 'trnr_xr_fin_t2_pct_norm_by_race', 'trnr_xr_fin_plc_pct_norm_by_race', 'trnr_xr_fin_last_pct_norm_by_race', 'trnr_xr_fin_last2_pct_norm_by_race', 'ss_x_races_tot', 'ss_x_rtgp_prev', 'ss_x_rtgp_avg', 'ss_x_rtgp_min', 'ss_x_rtgp_max', 'ss_x_rtgp_std', 'ss_x_rtgp_range', 'ss_x_speed_prev', 'ss_x_speed_avg', 'ss_x_speed_min', 'ss_x_speed_max', 'ss_x_speed_std', 'ss_x_speed_range', 'ss_xr_races', 'ss_xr_races_l5', 'ss_xr_wins', 'ss_xr_wins_pct', 'ss_xr_wins_l5', 'ss_xr_wins_l5_pct', 'ss_xr_fin_t2', 'ss_xr_fin_t2_pct', 'ss_xr_fin_last', 'ss_xr_finl5_last', 'ss_xr_finl5_last_pct', 'ss_xr_fin_last2', 'ss_xr_fin_last2_pct', 'ss_xr_finl5_last2', 'ss_xr_finl5_last2_pct', 'ss_xr_fin_plc', 'ss_xr_fin_plc_pct', 'ss_xr_finl5_plc', 'ss_xr_finl5_plc_pct', 'ss_trnr_xr_races_tot', 'ss_trnr_xr_races_tot_prev', 'ss_trnr_wins_prev', 'ss_trnr_fin_plc_prev', 'ss_trnr_fin_t2_prev', 'ss_trnr_fin_last_prev', 'ss_trnr_fin_last2_prev', 'ss_trnr_xr_wins', 'ss_trnr_xr_fin_plc', 'ss_trnr_xr_fin_t2', 'ss_trnr_xr_fin_last', 'ss_trnr_xr_fin_last2', 'ss_trnr_xrl5_wins', 'ss_trnr_xrl5_fin_plc', 'ss_trnr_xrl5_fin_t2', 'ss_trnr_xrl5_fin_last', 'ss_trnr_xrl5_fin_last2', 'ss_trnr_xr_wins_pct', 'ss_trnr_xr_fin_t2_pct', 'ss_trnr_xr_fin_plc_pct', 'ss_trnr_xr_fin_last_pct', 'ss_trnr_xr_fin_last2_pct', 'RaceName', 'dist300', 'dist350', 'dist400', 'dist450', 'dist500', 'dist600', 'dist700', 'firstrace', 'upgrade', 'downgrade', 'upg_87', 'upg_76', 'upg_65', 'upg_54', 'upg_43', 'upg_32', 'upg_21', 'dng_12', 'dng_23', 'dng_34', 'dng_45', 'dng_56', 'dng_67', 'dng_78']\n"
     ]
    }
   ],
   "source": [
    "\n",
    "if RUN_NB:\n",
    "    #%run \"C031_CONSOL_Main_Run in C040.ipynb\"\n",
    "    print()\n",
    "    print()\n",
    "\n",
    "    print('Finished running inline')\n",
    "\n",
    "    print()\n",
    "    print()\n",
    "else:\n",
    "    # Import the Base Dataset\n",
    "    modeling_dataset_name = 'modeling_base_2023-07-07.csv'\n",
    "    \n",
    "    print(datetime.now(local_tz))\n",
    "    df_modeling = pd.read_csv(f'{fileloc}/{modeling_dataset_name}')\n",
    "    print(datetime.now(local_tz))\n",
    "    \n",
    "    print(df_modeling.shape)\n",
    "    print()\n",
    "    print(df_modeling.columns.values.tolist())\n"
   ]
  },
  {
   "cell_type": "code",
   "execution_count": 113,
   "id": "9849b922-0006-4fc5-9d21-69f5c8fcfc2b",
   "metadata": {},
   "outputs": [],
   "source": [
    "\n",
    "# 10 Min Import-time\n"
   ]
  },
  {
   "cell_type": "code",
   "execution_count": 114,
   "id": "1a4ceb77-8f3e-4789-ac92-6455c0aaa9b5",
   "metadata": {},
   "outputs": [
    {
     "name": "stdout",
     "output_type": "stream",
     "text": [
      "(725080, 248)\n"
     ]
    }
   ],
   "source": [
    "print(df_modeling.shape)"
   ]
  },
  {
   "cell_type": "code",
   "execution_count": 115,
   "id": "742d4e20-e299-4087-92d2-335e68ab4b40",
   "metadata": {},
   "outputs": [
    {
     "name": "stdout",
     "output_type": "stream",
     "text": [
      "['@id_DOG', 'DogName', 'y_runtime', 'RaceId', '@id_RACE', 'Distance', 'RaceGrade', 'Track', 'Event_Dt', 'Prizemoney', 'TrainerId', 'TrainerName', 'ft_sp', 'x_num_dogs', 'position', 'y_margin', 'y_pos', 'Winner_actual', 'Top3_actual', 'rand_mean', 'rand_uniform', 'position_random', 'Winner_random', 'Top3_random', 'position_fasttrack', 'Winner_fastrack', 'Top3_fastrack', 'rand_1', 'h_rand_1', 'p_rand_1', 'rand_all_plc_to_win', 'h_rand_all_plc_to_win', 'p_rand_all_plc_to_win', 'rand_lay_last', 'h_rand_lay_last', 'p_rand_lay_last', 'ft_1', 'h_ft_1', 'p_ft_1', 'ft_all_plc', 'h_ft_all_plc', 'p_ft_all_plc', 'ft_lay_last', 'h_ft_lay_last', 'p_ft_lay_last', 'G5', 'G4', 'G3', 'G2', 'G1', 'Gmix', 'Gmas', 'Gmai', 'Gh', 'Gres', 'Gnov', 'Gsp', 'Gfin', 'RaceGrade_H1', 'x_races_tot', 'x_rtgp_prev', 'x_rtgp_avg', 'x_rtgp_min', 'x_rtgp_max', 'x_rtgp_std', 'x_rtgp_range', 'x_no_prev_races', 'x_speed_prev', 'x_speed_avg', 'x_speed_min', 'x_speed_max', 'x_speed_std', 'x_speed_range', 'x_no_prev_r_in_dist', 'xr_races', 'xr_races_l5', 'xr_wins', 'xr_wins_pct', 'xr_wins_l5', 'xr_wins_l5_pct', 'xr_fin_t2', 'xr_fin_t2_pct', 'xr_fin_last', 'xr_finl5_last', 'xr_finl5_last_pct', 'xr_fin_last2', 'xr_fin_last2_pct', 'xr_finl5_last2', 'xr_finl5_last2_pct', 'xr_fin_plc', 'xr_fin_plc_pct', 'xr_finl5_plc', 'xr_finl5_plc_pct', 'trnr_xr_races_tot', 'trnr_xr_races_tot_prev', 'trnr_wins_prev', 'trnr_fin_plc_prev', 'trnr_fin_t2_prev', 'trnr_fin_last_prev', 'trnr_fin_last2_prev', 'trnr_xr_wins', 'trnr_xr_fin_plc', 'trnr_xr_fin_t2', 'trnr_xr_fin_last', 'trnr_xr_fin_last2', 'trnr_xrl5_wins', 'trnr_xrl5_fin_plc', 'trnr_xrl5_fin_t2', 'trnr_xrl5_fin_last', 'trnr_xrl5_fin_last2', 'trnr_xr_wins_pct', 'trnr_xr_fin_t2_pct', 'trnr_xr_fin_plc_pct', 'trnr_xr_fin_last_pct', 'trnr_xr_fin_last2_pct', 'x_races_tot_norm_by_race', 'x_rtgp_prev_norm_by_race', 'x_rtgp_avg_norm_by_race', 'x_rtgp_min_norm_by_race', 'x_rtgp_max_norm_by_race', 'x_rtgp_std_norm_by_race', 'x_rtgp_range_norm_by_race', 'x_speed_prev_norm_by_race', 'x_speed_avg_norm_by_race', 'x_speed_min_norm_by_race', 'x_speed_max_norm_by_race', 'x_speed_std_norm_by_race', 'x_speed_range_norm_by_race', 'xr_races_norm_by_race', 'xr_races_l5_norm_by_race', 'xr_wins_norm_by_race', 'xr_wins_pct_norm_by_race', 'xr_wins_l5_norm_by_race', 'xr_wins_l5_pct_norm_by_race', 'xr_fin_t2_norm_by_race', 'xr_fin_t2_pct_norm_by_race', 'xr_fin_last_norm_by_race', 'xr_finl5_last_norm_by_race', 'xr_finl5_last_pct_norm_by_race', 'xr_fin_last2_norm_by_race', 'xr_fin_last2_pct_norm_by_race', 'xr_finl5_last2_norm_by_race', 'xr_finl5_last2_pct_norm_by_race', 'xr_fin_plc_norm_by_race', 'xr_fin_plc_pct_norm_by_race', 'xr_finl5_plc_norm_by_race', 'xr_finl5_plc_pct_norm_by_race', 'trnr_xr_races_tot_norm_by_race', 'trnr_xr_races_tot_prev_norm_by_race', 'trnr_wins_prev_norm_by_race', 'trnr_fin_plc_prev_norm_by_race', 'trnr_fin_t2_prev_norm_by_race', 'trnr_fin_last_prev_norm_by_race', 'trnr_fin_last2_prev_norm_by_race', 'trnr_xr_wins_norm_by_race', 'trnr_xr_fin_plc_norm_by_race', 'trnr_xr_fin_t2_norm_by_race', 'trnr_xr_fin_last_norm_by_race', 'trnr_xr_fin_last2_norm_by_race', 'trnr_xrl5_wins_norm_by_race', 'trnr_xrl5_fin_plc_norm_by_race', 'trnr_xrl5_fin_t2_norm_by_race', 'trnr_xrl5_fin_last_norm_by_race', 'trnr_xrl5_fin_last2_norm_by_race', 'trnr_xr_wins_pct_norm_by_race', 'trnr_xr_fin_t2_pct_norm_by_race', 'trnr_xr_fin_plc_pct_norm_by_race', 'trnr_xr_fin_last_pct_norm_by_race', 'trnr_xr_fin_last2_pct_norm_by_race', 'ss_x_races_tot', 'ss_x_rtgp_prev', 'ss_x_rtgp_avg', 'ss_x_rtgp_min', 'ss_x_rtgp_max', 'ss_x_rtgp_std', 'ss_x_rtgp_range', 'ss_x_speed_prev', 'ss_x_speed_avg', 'ss_x_speed_min', 'ss_x_speed_max', 'ss_x_speed_std', 'ss_x_speed_range', 'ss_xr_races', 'ss_xr_races_l5', 'ss_xr_wins', 'ss_xr_wins_pct', 'ss_xr_wins_l5', 'ss_xr_wins_l5_pct', 'ss_xr_fin_t2', 'ss_xr_fin_t2_pct', 'ss_xr_fin_last', 'ss_xr_finl5_last', 'ss_xr_finl5_last_pct', 'ss_xr_fin_last2', 'ss_xr_fin_last2_pct', 'ss_xr_finl5_last2', 'ss_xr_finl5_last2_pct', 'ss_xr_fin_plc', 'ss_xr_fin_plc_pct', 'ss_xr_finl5_plc', 'ss_xr_finl5_plc_pct', 'ss_trnr_xr_races_tot', 'ss_trnr_xr_races_tot_prev', 'ss_trnr_wins_prev', 'ss_trnr_fin_plc_prev', 'ss_trnr_fin_t2_prev', 'ss_trnr_fin_last_prev', 'ss_trnr_fin_last2_prev', 'ss_trnr_xr_wins', 'ss_trnr_xr_fin_plc', 'ss_trnr_xr_fin_t2', 'ss_trnr_xr_fin_last', 'ss_trnr_xr_fin_last2', 'ss_trnr_xrl5_wins', 'ss_trnr_xrl5_fin_plc', 'ss_trnr_xrl5_fin_t2', 'ss_trnr_xrl5_fin_last', 'ss_trnr_xrl5_fin_last2', 'ss_trnr_xr_wins_pct', 'ss_trnr_xr_fin_t2_pct', 'ss_trnr_xr_fin_plc_pct', 'ss_trnr_xr_fin_last_pct', 'ss_trnr_xr_fin_last2_pct', 'RaceName', 'dist300', 'dist350', 'dist400', 'dist450', 'dist500', 'dist600', 'dist700', 'firstrace', 'upgrade', 'downgrade', 'upg_87', 'upg_76', 'upg_65', 'upg_54', 'upg_43', 'upg_32', 'upg_21', 'dng_12', 'dng_23', 'dng_34', 'dng_45', 'dng_56', 'dng_67', 'dng_78']\n"
     ]
    }
   ],
   "source": [
    "print(df_modeling.columns.values.tolist())"
   ]
  },
  {
   "cell_type": "code",
   "execution_count": 116,
   "id": "7836f96b-df78-4421-b30f-4e5a66c9bbdf",
   "metadata": {},
   "outputs": [],
   "source": [
    "#df_modeling = df_base.copy()"
   ]
  },
  {
   "cell_type": "code",
   "execution_count": 117,
   "id": "af073315-0a6a-4871-bbb0-aeec0011c62f",
   "metadata": {},
   "outputs": [],
   "source": [
    "\n",
    "#print(pd.DataFrame(df_modeling.isna().sum()).transpose())\n"
   ]
  },
  {
   "cell_type": "code",
   "execution_count": 118,
   "id": "b70c0c28-1a93-4608-94b7-6efc5580db05",
   "metadata": {},
   "outputs": [
    {
     "name": "stdout",
     "output_type": "stream",
     "text": [
      "<bound method DataFrame.transpose of                  0\n",
      "@id_DOG      int64\n",
      "DogName     object\n",
      "y_runtime  float64\n",
      "RaceId       int64\n",
      "@id_RACE     int64\n",
      "...            ...\n",
      "dng_34       int64\n",
      "dng_45       int64\n",
      "dng_56       int64\n",
      "dng_67       int64\n",
      "dng_78       int64\n",
      "\n",
      "[248 rows x 1 columns]>\n"
     ]
    }
   ],
   "source": [
    "\n",
    "print(pd.DataFrame(df_modeling.dtypes).transpose)\n"
   ]
  },
  {
   "cell_type": "code",
   "execution_count": 119,
   "id": "8f971ed6-a986-4a0d-b762-5ae32218bbcf",
   "metadata": {},
   "outputs": [
    {
     "data": {
      "text/html": [
       "<div>\n",
       "<style scoped>\n",
       "    .dataframe tbody tr th:only-of-type {\n",
       "        vertical-align: middle;\n",
       "    }\n",
       "\n",
       "    .dataframe tbody tr th {\n",
       "        vertical-align: top;\n",
       "    }\n",
       "\n",
       "    .dataframe thead th {\n",
       "        text-align: right;\n",
       "    }\n",
       "</style>\n",
       "<table border=\"1\" class=\"dataframe\">\n",
       "  <thead>\n",
       "    <tr style=\"text-align: right;\">\n",
       "      <th></th>\n",
       "      <th>@id_DOG</th>\n",
       "      <th>DogName</th>\n",
       "      <th>y_runtime</th>\n",
       "      <th>RaceId</th>\n",
       "      <th>@id_RACE</th>\n",
       "      <th>Distance</th>\n",
       "      <th>RaceGrade</th>\n",
       "      <th>Track</th>\n",
       "      <th>Event_Dt</th>\n",
       "      <th>Prizemoney</th>\n",
       "      <th>TrainerId</th>\n",
       "      <th>TrainerName</th>\n",
       "      <th>ft_sp</th>\n",
       "      <th>x_num_dogs</th>\n",
       "      <th>position</th>\n",
       "      <th>y_margin</th>\n",
       "      <th>y_pos</th>\n",
       "      <th>Winner_actual</th>\n",
       "      <th>Top3_actual</th>\n",
       "      <th>rand_mean</th>\n",
       "      <th>rand_uniform</th>\n",
       "      <th>position_random</th>\n",
       "      <th>Winner_random</th>\n",
       "      <th>Top3_random</th>\n",
       "      <th>position_fasttrack</th>\n",
       "      <th>...</th>\n",
       "      <th>RaceName</th>\n",
       "      <th>dist300</th>\n",
       "      <th>dist350</th>\n",
       "      <th>dist400</th>\n",
       "      <th>dist450</th>\n",
       "      <th>dist500</th>\n",
       "      <th>dist600</th>\n",
       "      <th>dist700</th>\n",
       "      <th>firstrace</th>\n",
       "      <th>upgrade</th>\n",
       "      <th>downgrade</th>\n",
       "      <th>upg_87</th>\n",
       "      <th>upg_76</th>\n",
       "      <th>upg_65</th>\n",
       "      <th>upg_54</th>\n",
       "      <th>upg_43</th>\n",
       "      <th>upg_32</th>\n",
       "      <th>upg_21</th>\n",
       "      <th>dng_12</th>\n",
       "      <th>dng_23</th>\n",
       "      <th>dng_34</th>\n",
       "      <th>dng_45</th>\n",
       "      <th>dng_56</th>\n",
       "      <th>dng_67</th>\n",
       "      <th>dng_78</th>\n",
       "    </tr>\n",
       "  </thead>\n",
       "  <tbody>\n",
       "    <tr>\n",
       "      <th>0</th>\n",
       "      <td>108390981</td>\n",
       "      <td>DOLLY DOES IT</td>\n",
       "      <td>26.43</td>\n",
       "      <td>626271182</td>\n",
       "      <td>626271182</td>\n",
       "      <td>452m</td>\n",
       "      <td>Mixed 4/5</td>\n",
       "      <td>Devonport</td>\n",
       "      <td>2021-01-05</td>\n",
       "      <td>80.0</td>\n",
       "      <td>92892</td>\n",
       "      <td>M Elphinstone</td>\n",
       "      <td>11.0</td>\n",
       "      <td>8</td>\n",
       "      <td>4</td>\n",
       "      <td>6.00</td>\n",
       "      <td>4</td>\n",
       "      <td>0</td>\n",
       "      <td>0</td>\n",
       "      <td>0.5</td>\n",
       "      <td>0.761335</td>\n",
       "      <td>2.0</td>\n",
       "      <td>0</td>\n",
       "      <td>1</td>\n",
       "      <td>5.0</td>\n",
       "      <td>...</td>\n",
       "      <td>GREAT NORTHERN</td>\n",
       "      <td>0</td>\n",
       "      <td>0</td>\n",
       "      <td>0</td>\n",
       "      <td>1</td>\n",
       "      <td>0</td>\n",
       "      <td>0</td>\n",
       "      <td>0</td>\n",
       "      <td>1</td>\n",
       "      <td>0</td>\n",
       "      <td>1</td>\n",
       "      <td>0</td>\n",
       "      <td>0</td>\n",
       "      <td>0</td>\n",
       "      <td>0</td>\n",
       "      <td>0</td>\n",
       "      <td>0</td>\n",
       "      <td>0</td>\n",
       "      <td>0</td>\n",
       "      <td>0</td>\n",
       "      <td>0</td>\n",
       "      <td>0</td>\n",
       "      <td>0</td>\n",
       "      <td>0</td>\n",
       "      <td>0</td>\n",
       "    </tr>\n",
       "    <tr>\n",
       "      <th>1</th>\n",
       "      <td>108390981</td>\n",
       "      <td>DOLLY DOES IT</td>\n",
       "      <td>26.40</td>\n",
       "      <td>629797242</td>\n",
       "      <td>629797242</td>\n",
       "      <td>452m</td>\n",
       "      <td>Grade 5</td>\n",
       "      <td>Devonport</td>\n",
       "      <td>2021-01-12</td>\n",
       "      <td>0.0</td>\n",
       "      <td>92892</td>\n",
       "      <td>M Elphinstone</td>\n",
       "      <td>7.0</td>\n",
       "      <td>7</td>\n",
       "      <td>5</td>\n",
       "      <td>6.00</td>\n",
       "      <td>5</td>\n",
       "      <td>0</td>\n",
       "      <td>0</td>\n",
       "      <td>0.5</td>\n",
       "      <td>1.958731</td>\n",
       "      <td>1.0</td>\n",
       "      <td>1</td>\n",
       "      <td>1</td>\n",
       "      <td>5.0</td>\n",
       "      <td>...</td>\n",
       "      <td>GREAT NORTHERN</td>\n",
       "      <td>0</td>\n",
       "      <td>0</td>\n",
       "      <td>0</td>\n",
       "      <td>1</td>\n",
       "      <td>0</td>\n",
       "      <td>0</td>\n",
       "      <td>0</td>\n",
       "      <td>0</td>\n",
       "      <td>0</td>\n",
       "      <td>1</td>\n",
       "      <td>0</td>\n",
       "      <td>0</td>\n",
       "      <td>0</td>\n",
       "      <td>0</td>\n",
       "      <td>0</td>\n",
       "      <td>0</td>\n",
       "      <td>0</td>\n",
       "      <td>0</td>\n",
       "      <td>0</td>\n",
       "      <td>0</td>\n",
       "      <td>1</td>\n",
       "      <td>0</td>\n",
       "      <td>0</td>\n",
       "      <td>0</td>\n",
       "    </tr>\n",
       "    <tr>\n",
       "      <th>2</th>\n",
       "      <td>108390981</td>\n",
       "      <td>DOLLY DOES IT</td>\n",
       "      <td>26.20</td>\n",
       "      <td>629797513</td>\n",
       "      <td>629797513</td>\n",
       "      <td>452m</td>\n",
       "      <td>Grade 5</td>\n",
       "      <td>Devonport</td>\n",
       "      <td>2021-01-19</td>\n",
       "      <td>1890.0</td>\n",
       "      <td>92892</td>\n",
       "      <td>M Elphinstone</td>\n",
       "      <td>7.0</td>\n",
       "      <td>7</td>\n",
       "      <td>1</td>\n",
       "      <td>5.25</td>\n",
       "      <td>1</td>\n",
       "      <td>1</td>\n",
       "      <td>1</td>\n",
       "      <td>0.5</td>\n",
       "      <td>0.906223</td>\n",
       "      <td>3.0</td>\n",
       "      <td>0</td>\n",
       "      <td>1</td>\n",
       "      <td>4.0</td>\n",
       "      <td>...</td>\n",
       "      <td>SUREPICK</td>\n",
       "      <td>0</td>\n",
       "      <td>0</td>\n",
       "      <td>0</td>\n",
       "      <td>1</td>\n",
       "      <td>0</td>\n",
       "      <td>0</td>\n",
       "      <td>0</td>\n",
       "      <td>0</td>\n",
       "      <td>0</td>\n",
       "      <td>0</td>\n",
       "      <td>0</td>\n",
       "      <td>0</td>\n",
       "      <td>0</td>\n",
       "      <td>0</td>\n",
       "      <td>0</td>\n",
       "      <td>0</td>\n",
       "      <td>0</td>\n",
       "      <td>0</td>\n",
       "      <td>0</td>\n",
       "      <td>0</td>\n",
       "      <td>0</td>\n",
       "      <td>0</td>\n",
       "      <td>0</td>\n",
       "      <td>0</td>\n",
       "    </tr>\n",
       "    <tr>\n",
       "      <th>3</th>\n",
       "      <td>108390981</td>\n",
       "      <td>DOLLY DOES IT</td>\n",
       "      <td>26.48</td>\n",
       "      <td>638810808</td>\n",
       "      <td>638810808</td>\n",
       "      <td>452m</td>\n",
       "      <td>Mixed 4/5 Heat</td>\n",
       "      <td>Devonport</td>\n",
       "      <td>2021-02-16</td>\n",
       "      <td>0.0</td>\n",
       "      <td>92892</td>\n",
       "      <td>M Elphinstone</td>\n",
       "      <td>7.0</td>\n",
       "      <td>8</td>\n",
       "      <td>7</td>\n",
       "      <td>10.50</td>\n",
       "      <td>7</td>\n",
       "      <td>0</td>\n",
       "      <td>0</td>\n",
       "      <td>0.5</td>\n",
       "      <td>0.712048</td>\n",
       "      <td>3.0</td>\n",
       "      <td>0</td>\n",
       "      <td>1</td>\n",
       "      <td>4.0</td>\n",
       "      <td>...</td>\n",
       "      <td>LADBROKES</td>\n",
       "      <td>0</td>\n",
       "      <td>0</td>\n",
       "      <td>0</td>\n",
       "      <td>1</td>\n",
       "      <td>0</td>\n",
       "      <td>0</td>\n",
       "      <td>0</td>\n",
       "      <td>0</td>\n",
       "      <td>1</td>\n",
       "      <td>0</td>\n",
       "      <td>0</td>\n",
       "      <td>0</td>\n",
       "      <td>0</td>\n",
       "      <td>1</td>\n",
       "      <td>0</td>\n",
       "      <td>0</td>\n",
       "      <td>0</td>\n",
       "      <td>0</td>\n",
       "      <td>0</td>\n",
       "      <td>0</td>\n",
       "      <td>0</td>\n",
       "      <td>0</td>\n",
       "      <td>0</td>\n",
       "      <td>0</td>\n",
       "    </tr>\n",
       "    <tr>\n",
       "      <th>4</th>\n",
       "      <td>108390981</td>\n",
       "      <td>DOLLY DOES IT</td>\n",
       "      <td>26.91</td>\n",
       "      <td>643554706</td>\n",
       "      <td>643554706</td>\n",
       "      <td>452m</td>\n",
       "      <td>Grade 4</td>\n",
       "      <td>Devonport</td>\n",
       "      <td>2021-03-02</td>\n",
       "      <td>0.0</td>\n",
       "      <td>92892</td>\n",
       "      <td>M Elphinstone</td>\n",
       "      <td>91.0</td>\n",
       "      <td>8</td>\n",
       "      <td>8</td>\n",
       "      <td>18.50</td>\n",
       "      <td>8</td>\n",
       "      <td>0</td>\n",
       "      <td>0</td>\n",
       "      <td>0.5</td>\n",
       "      <td>-0.423623</td>\n",
       "      <td>8.0</td>\n",
       "      <td>0</td>\n",
       "      <td>0</td>\n",
       "      <td>8.0</td>\n",
       "      <td>...</td>\n",
       "      <td>NEW RECRUIT 2012</td>\n",
       "      <td>0</td>\n",
       "      <td>0</td>\n",
       "      <td>0</td>\n",
       "      <td>1</td>\n",
       "      <td>0</td>\n",
       "      <td>0</td>\n",
       "      <td>0</td>\n",
       "      <td>0</td>\n",
       "      <td>0</td>\n",
       "      <td>0</td>\n",
       "      <td>0</td>\n",
       "      <td>0</td>\n",
       "      <td>0</td>\n",
       "      <td>0</td>\n",
       "      <td>0</td>\n",
       "      <td>0</td>\n",
       "      <td>0</td>\n",
       "      <td>0</td>\n",
       "      <td>0</td>\n",
       "      <td>0</td>\n",
       "      <td>0</td>\n",
       "      <td>0</td>\n",
       "      <td>0</td>\n",
       "      <td>0</td>\n",
       "    </tr>\n",
       "  </tbody>\n",
       "</table>\n",
       "<p>5 rows × 248 columns</p>\n",
       "</div>"
      ],
      "text/plain": [
       "     @id_DOG        DogName  y_runtime     RaceId   @id_RACE Distance       RaceGrade      Track    Event_Dt  Prizemoney  TrainerId    TrainerName  ft_sp  x_num_dogs  position  y_margin  y_pos  \\\n",
       "0  108390981  DOLLY DOES IT      26.43  626271182  626271182     452m       Mixed 4/5  Devonport  2021-01-05        80.0      92892  M Elphinstone   11.0           8         4      6.00      4   \n",
       "1  108390981  DOLLY DOES IT      26.40  629797242  629797242     452m         Grade 5  Devonport  2021-01-12         0.0      92892  M Elphinstone    7.0           7         5      6.00      5   \n",
       "2  108390981  DOLLY DOES IT      26.20  629797513  629797513     452m         Grade 5  Devonport  2021-01-19      1890.0      92892  M Elphinstone    7.0           7         1      5.25      1   \n",
       "3  108390981  DOLLY DOES IT      26.48  638810808  638810808     452m  Mixed 4/5 Heat  Devonport  2021-02-16         0.0      92892  M Elphinstone    7.0           8         7     10.50      7   \n",
       "4  108390981  DOLLY DOES IT      26.91  643554706  643554706     452m         Grade 4  Devonport  2021-03-02         0.0      92892  M Elphinstone   91.0           8         8     18.50      8   \n",
       "\n",
       "   Winner_actual  Top3_actual  rand_mean  rand_uniform  position_random  Winner_random  Top3_random  position_fasttrack  ...          RaceName  dist300  dist350  dist400  dist450  dist500  dist600  \\\n",
       "0              0            0        0.5      0.761335              2.0              0            1                 5.0  ...    GREAT NORTHERN        0        0        0        1        0        0   \n",
       "1              0            0        0.5      1.958731              1.0              1            1                 5.0  ...    GREAT NORTHERN        0        0        0        1        0        0   \n",
       "2              1            1        0.5      0.906223              3.0              0            1                 4.0  ...          SUREPICK        0        0        0        1        0        0   \n",
       "3              0            0        0.5      0.712048              3.0              0            1                 4.0  ...         LADBROKES        0        0        0        1        0        0   \n",
       "4              0            0        0.5     -0.423623              8.0              0            0                 8.0  ...  NEW RECRUIT 2012        0        0        0        1        0        0   \n",
       "\n",
       "   dist700  firstrace  upgrade  downgrade  upg_87  upg_76  upg_65  upg_54  upg_43  upg_32  upg_21  dng_12  dng_23  dng_34  dng_45  dng_56  dng_67  dng_78  \n",
       "0        0          1        0          1       0       0       0       0       0       0       0       0       0       0       0       0       0       0  \n",
       "1        0          0        0          1       0       0       0       0       0       0       0       0       0       0       1       0       0       0  \n",
       "2        0          0        0          0       0       0       0       0       0       0       0       0       0       0       0       0       0       0  \n",
       "3        0          0        1          0       0       0       0       1       0       0       0       0       0       0       0       0       0       0  \n",
       "4        0          0        0          0       0       0       0       0       0       0       0       0       0       0       0       0       0       0  \n",
       "\n",
       "[5 rows x 248 columns]"
      ]
     },
     "execution_count": 119,
     "metadata": {},
     "output_type": "execute_result"
    }
   ],
   "source": [
    "\n",
    "df_modeling.head()\n"
   ]
  },
  {
   "cell_type": "code",
   "execution_count": 120,
   "id": "14491811-564c-4500-bdc9-3e44fea0095d",
   "metadata": {},
   "outputs": [
    {
     "data": {
      "text/html": [
       "<div>\n",
       "<style scoped>\n",
       "    .dataframe tbody tr th:only-of-type {\n",
       "        vertical-align: middle;\n",
       "    }\n",
       "\n",
       "    .dataframe tbody tr th {\n",
       "        vertical-align: top;\n",
       "    }\n",
       "\n",
       "    .dataframe thead th {\n",
       "        text-align: right;\n",
       "    }\n",
       "</style>\n",
       "<table border=\"1\" class=\"dataframe\">\n",
       "  <thead>\n",
       "    <tr style=\"text-align: right;\">\n",
       "      <th></th>\n",
       "      <th>@id_DOG</th>\n",
       "      <th>y_runtime</th>\n",
       "      <th>RaceId</th>\n",
       "      <th>@id_RACE</th>\n",
       "      <th>Prizemoney</th>\n",
       "      <th>TrainerId</th>\n",
       "      <th>ft_sp</th>\n",
       "      <th>x_num_dogs</th>\n",
       "      <th>position</th>\n",
       "      <th>y_margin</th>\n",
       "      <th>y_pos</th>\n",
       "      <th>Winner_actual</th>\n",
       "      <th>Top3_actual</th>\n",
       "      <th>rand_mean</th>\n",
       "      <th>rand_uniform</th>\n",
       "      <th>position_random</th>\n",
       "      <th>Winner_random</th>\n",
       "      <th>Top3_random</th>\n",
       "      <th>position_fasttrack</th>\n",
       "      <th>Winner_fastrack</th>\n",
       "      <th>Top3_fastrack</th>\n",
       "      <th>rand_1</th>\n",
       "      <th>h_rand_1</th>\n",
       "      <th>p_rand_1</th>\n",
       "      <th>rand_all_plc_to_win</th>\n",
       "      <th>...</th>\n",
       "      <th>ss_trnr_xr_fin_last2_pct</th>\n",
       "      <th>dist300</th>\n",
       "      <th>dist350</th>\n",
       "      <th>dist400</th>\n",
       "      <th>dist450</th>\n",
       "      <th>dist500</th>\n",
       "      <th>dist600</th>\n",
       "      <th>dist700</th>\n",
       "      <th>firstrace</th>\n",
       "      <th>upgrade</th>\n",
       "      <th>downgrade</th>\n",
       "      <th>upg_87</th>\n",
       "      <th>upg_76</th>\n",
       "      <th>upg_65</th>\n",
       "      <th>upg_54</th>\n",
       "      <th>upg_43</th>\n",
       "      <th>upg_32</th>\n",
       "      <th>upg_21</th>\n",
       "      <th>dng_12</th>\n",
       "      <th>dng_23</th>\n",
       "      <th>dng_34</th>\n",
       "      <th>dng_45</th>\n",
       "      <th>dng_56</th>\n",
       "      <th>dng_67</th>\n",
       "      <th>dng_78</th>\n",
       "    </tr>\n",
       "  </thead>\n",
       "  <tbody>\n",
       "    <tr>\n",
       "      <th>count</th>\n",
       "      <td>7.250800e+05</td>\n",
       "      <td>725080.000000</td>\n",
       "      <td>7.250800e+05</td>\n",
       "      <td>7.250800e+05</td>\n",
       "      <td>498861.000000</td>\n",
       "      <td>725080.000000</td>\n",
       "      <td>725080.000000</td>\n",
       "      <td>725080.000000</td>\n",
       "      <td>725080.000000</td>\n",
       "      <td>725080.000000</td>\n",
       "      <td>725080.000000</td>\n",
       "      <td>725080.000000</td>\n",
       "      <td>725080.000000</td>\n",
       "      <td>725080.0</td>\n",
       "      <td>725080.000000</td>\n",
       "      <td>725080.00000</td>\n",
       "      <td>725080.000000</td>\n",
       "      <td>725080.000000</td>\n",
       "      <td>725080.000000</td>\n",
       "      <td>725080.000000</td>\n",
       "      <td>725080.000000</td>\n",
       "      <td>725080.000000</td>\n",
       "      <td>725080.000000</td>\n",
       "      <td>725080.000000</td>\n",
       "      <td>725080.000000</td>\n",
       "      <td>...</td>\n",
       "      <td>7.250800e+05</td>\n",
       "      <td>725080.000000</td>\n",
       "      <td>725080.000000</td>\n",
       "      <td>725080.000000</td>\n",
       "      <td>725080.000000</td>\n",
       "      <td>725080.000000</td>\n",
       "      <td>725080.000000</td>\n",
       "      <td>725080.000000</td>\n",
       "      <td>725080.000000</td>\n",
       "      <td>725080.000000</td>\n",
       "      <td>725080.000000</td>\n",
       "      <td>725080.000000</td>\n",
       "      <td>725080.000000</td>\n",
       "      <td>725080.000000</td>\n",
       "      <td>725080.000000</td>\n",
       "      <td>725080.000000</td>\n",
       "      <td>725080.000000</td>\n",
       "      <td>725080.000000</td>\n",
       "      <td>725080.000000</td>\n",
       "      <td>725080.000000</td>\n",
       "      <td>725080.000000</td>\n",
       "      <td>725080.000000</td>\n",
       "      <td>725080.000000</td>\n",
       "      <td>725080.000000</td>\n",
       "      <td>725080.000000</td>\n",
       "    </tr>\n",
       "    <tr>\n",
       "      <th>mean</th>\n",
       "      <td>4.866356e+08</td>\n",
       "      <td>24.363969</td>\n",
       "      <td>7.640069e+08</td>\n",
       "      <td>7.640069e+08</td>\n",
       "      <td>441.621810</td>\n",
       "      <td>111702.449377</td>\n",
       "      <td>17.092809</td>\n",
       "      <td>7.347380</td>\n",
       "      <td>4.171696</td>\n",
       "      <td>6.396170</td>\n",
       "      <td>4.171696</td>\n",
       "      <td>0.138760</td>\n",
       "      <td>0.415892</td>\n",
       "      <td>0.5</td>\n",
       "      <td>0.498690</td>\n",
       "      <td>4.17369</td>\n",
       "      <td>0.138498</td>\n",
       "      <td>0.415493</td>\n",
       "      <td>4.033828</td>\n",
       "      <td>0.143678</td>\n",
       "      <td>0.433520</td>\n",
       "      <td>0.138498</td>\n",
       "      <td>0.019603</td>\n",
       "      <td>-0.032199</td>\n",
       "      <td>0.350124</td>\n",
       "      <td>...</td>\n",
       "      <td>1.809006e-14</td>\n",
       "      <td>0.174417</td>\n",
       "      <td>0.145403</td>\n",
       "      <td>0.270938</td>\n",
       "      <td>0.175759</td>\n",
       "      <td>0.198210</td>\n",
       "      <td>0.026236</td>\n",
       "      <td>0.009029</td>\n",
       "      <td>0.042082</td>\n",
       "      <td>0.122159</td>\n",
       "      <td>0.102302</td>\n",
       "      <td>0.021447</td>\n",
       "      <td>0.017502</td>\n",
       "      <td>0.015056</td>\n",
       "      <td>0.036491</td>\n",
       "      <td>0.008354</td>\n",
       "      <td>0.003089</td>\n",
       "      <td>0.001917</td>\n",
       "      <td>0.001481</td>\n",
       "      <td>0.002109</td>\n",
       "      <td>0.006787</td>\n",
       "      <td>0.032725</td>\n",
       "      <td>0.000044</td>\n",
       "      <td>0.000033</td>\n",
       "      <td>0.000269</td>\n",
       "    </tr>\n",
       "    <tr>\n",
       "      <th>std</th>\n",
       "      <td>1.219313e+08</td>\n",
       "      <td>4.941794</td>\n",
       "      <td>7.786416e+07</td>\n",
       "      <td>7.786416e+07</td>\n",
       "      <td>2912.322446</td>\n",
       "      <td>78747.029834</td>\n",
       "      <td>21.284010</td>\n",
       "      <td>0.890034</td>\n",
       "      <td>2.163317</td>\n",
       "      <td>4.794569</td>\n",
       "      <td>2.163317</td>\n",
       "      <td>0.345696</td>\n",
       "      <td>0.492875</td>\n",
       "      <td>0.0</td>\n",
       "      <td>0.999065</td>\n",
       "      <td>2.16319</td>\n",
       "      <td>0.345422</td>\n",
       "      <td>0.492807</td>\n",
       "      <td>2.090421</td>\n",
       "      <td>0.350763</td>\n",
       "      <td>0.495561</td>\n",
       "      <td>0.345422</td>\n",
       "      <td>0.138633</td>\n",
       "      <td>1.203319</td>\n",
       "      <td>0.477009</td>\n",
       "      <td>...</td>\n",
       "      <td>1.000001e+00</td>\n",
       "      <td>0.379468</td>\n",
       "      <td>0.352507</td>\n",
       "      <td>0.444445</td>\n",
       "      <td>0.380615</td>\n",
       "      <td>0.398651</td>\n",
       "      <td>0.159836</td>\n",
       "      <td>0.094593</td>\n",
       "      <td>0.200777</td>\n",
       "      <td>0.327470</td>\n",
       "      <td>0.303045</td>\n",
       "      <td>0.144870</td>\n",
       "      <td>0.131131</td>\n",
       "      <td>0.121777</td>\n",
       "      <td>0.187509</td>\n",
       "      <td>0.091015</td>\n",
       "      <td>0.055496</td>\n",
       "      <td>0.043742</td>\n",
       "      <td>0.038458</td>\n",
       "      <td>0.045873</td>\n",
       "      <td>0.082102</td>\n",
       "      <td>0.177915</td>\n",
       "      <td>0.006643</td>\n",
       "      <td>0.005753</td>\n",
       "      <td>0.016397</td>\n",
       "    </tr>\n",
       "    <tr>\n",
       "      <th>min</th>\n",
       "      <td>1.083910e+08</td>\n",
       "      <td>10.000000</td>\n",
       "      <td>6.238619e+08</td>\n",
       "      <td>6.238619e+08</td>\n",
       "      <td>0.000000</td>\n",
       "      <td>6418.000000</td>\n",
       "      <td>0.260000</td>\n",
       "      <td>5.000000</td>\n",
       "      <td>1.000000</td>\n",
       "      <td>0.000000</td>\n",
       "      <td>1.000000</td>\n",
       "      <td>0.000000</td>\n",
       "      <td>0.000000</td>\n",
       "      <td>0.5</td>\n",
       "      <td>-4.007856</td>\n",
       "      <td>1.00000</td>\n",
       "      <td>0.000000</td>\n",
       "      <td>0.000000</td>\n",
       "      <td>1.000000</td>\n",
       "      <td>0.000000</td>\n",
       "      <td>0.000000</td>\n",
       "      <td>0.000000</td>\n",
       "      <td>0.000000</td>\n",
       "      <td>-1.000000</td>\n",
       "      <td>0.000000</td>\n",
       "      <td>...</td>\n",
       "      <td>-2.298577e+00</td>\n",
       "      <td>0.000000</td>\n",
       "      <td>0.000000</td>\n",
       "      <td>0.000000</td>\n",
       "      <td>0.000000</td>\n",
       "      <td>0.000000</td>\n",
       "      <td>0.000000</td>\n",
       "      <td>0.000000</td>\n",
       "      <td>0.000000</td>\n",
       "      <td>0.000000</td>\n",
       "      <td>0.000000</td>\n",
       "      <td>0.000000</td>\n",
       "      <td>0.000000</td>\n",
       "      <td>0.000000</td>\n",
       "      <td>0.000000</td>\n",
       "      <td>0.000000</td>\n",
       "      <td>0.000000</td>\n",
       "      <td>0.000000</td>\n",
       "      <td>0.000000</td>\n",
       "      <td>0.000000</td>\n",
       "      <td>0.000000</td>\n",
       "      <td>0.000000</td>\n",
       "      <td>0.000000</td>\n",
       "      <td>0.000000</td>\n",
       "      <td>0.000000</td>\n",
       "    </tr>\n",
       "    <tr>\n",
       "      <th>25%</th>\n",
       "      <td>4.159944e+08</td>\n",
       "      <td>20.520000</td>\n",
       "      <td>6.985139e+08</td>\n",
       "      <td>6.985139e+08</td>\n",
       "      <td>0.000000</td>\n",
       "      <td>65438.000000</td>\n",
       "      <td>4.200000</td>\n",
       "      <td>7.000000</td>\n",
       "      <td>2.000000</td>\n",
       "      <td>2.530000</td>\n",
       "      <td>2.000000</td>\n",
       "      <td>0.000000</td>\n",
       "      <td>0.000000</td>\n",
       "      <td>0.5</td>\n",
       "      <td>-0.176363</td>\n",
       "      <td>2.00000</td>\n",
       "      <td>0.000000</td>\n",
       "      <td>0.000000</td>\n",
       "      <td>2.000000</td>\n",
       "      <td>0.000000</td>\n",
       "      <td>0.000000</td>\n",
       "      <td>0.000000</td>\n",
       "      <td>0.000000</td>\n",
       "      <td>0.000000</td>\n",
       "      <td>0.000000</td>\n",
       "      <td>...</td>\n",
       "      <td>-5.893050e-01</td>\n",
       "      <td>0.000000</td>\n",
       "      <td>0.000000</td>\n",
       "      <td>0.000000</td>\n",
       "      <td>0.000000</td>\n",
       "      <td>0.000000</td>\n",
       "      <td>0.000000</td>\n",
       "      <td>0.000000</td>\n",
       "      <td>0.000000</td>\n",
       "      <td>0.000000</td>\n",
       "      <td>0.000000</td>\n",
       "      <td>0.000000</td>\n",
       "      <td>0.000000</td>\n",
       "      <td>0.000000</td>\n",
       "      <td>0.000000</td>\n",
       "      <td>0.000000</td>\n",
       "      <td>0.000000</td>\n",
       "      <td>0.000000</td>\n",
       "      <td>0.000000</td>\n",
       "      <td>0.000000</td>\n",
       "      <td>0.000000</td>\n",
       "      <td>0.000000</td>\n",
       "      <td>0.000000</td>\n",
       "      <td>0.000000</td>\n",
       "      <td>0.000000</td>\n",
       "    </tr>\n",
       "    <tr>\n",
       "      <th>50%</th>\n",
       "      <td>4.791464e+08</td>\n",
       "      <td>23.490000</td>\n",
       "      <td>7.654781e+08</td>\n",
       "      <td>7.654781e+08</td>\n",
       "      <td>65.000000</td>\n",
       "      <td>99808.000000</td>\n",
       "      <td>8.700000</td>\n",
       "      <td>8.000000</td>\n",
       "      <td>4.000000</td>\n",
       "      <td>5.500000</td>\n",
       "      <td>4.000000</td>\n",
       "      <td>0.000000</td>\n",
       "      <td>0.000000</td>\n",
       "      <td>0.5</td>\n",
       "      <td>0.497742</td>\n",
       "      <td>4.00000</td>\n",
       "      <td>0.000000</td>\n",
       "      <td>0.000000</td>\n",
       "      <td>4.000000</td>\n",
       "      <td>0.000000</td>\n",
       "      <td>0.000000</td>\n",
       "      <td>0.000000</td>\n",
       "      <td>0.000000</td>\n",
       "      <td>0.000000</td>\n",
       "      <td>0.000000</td>\n",
       "      <td>...</td>\n",
       "      <td>-1.115775e-01</td>\n",
       "      <td>0.000000</td>\n",
       "      <td>0.000000</td>\n",
       "      <td>0.000000</td>\n",
       "      <td>0.000000</td>\n",
       "      <td>0.000000</td>\n",
       "      <td>0.000000</td>\n",
       "      <td>0.000000</td>\n",
       "      <td>0.000000</td>\n",
       "      <td>0.000000</td>\n",
       "      <td>0.000000</td>\n",
       "      <td>0.000000</td>\n",
       "      <td>0.000000</td>\n",
       "      <td>0.000000</td>\n",
       "      <td>0.000000</td>\n",
       "      <td>0.000000</td>\n",
       "      <td>0.000000</td>\n",
       "      <td>0.000000</td>\n",
       "      <td>0.000000</td>\n",
       "      <td>0.000000</td>\n",
       "      <td>0.000000</td>\n",
       "      <td>0.000000</td>\n",
       "      <td>0.000000</td>\n",
       "      <td>0.000000</td>\n",
       "      <td>0.000000</td>\n",
       "    </tr>\n",
       "    <tr>\n",
       "      <th>75%</th>\n",
       "      <td>5.620734e+08</td>\n",
       "      <td>26.990000</td>\n",
       "      <td>8.292900e+08</td>\n",
       "      <td>8.292900e+08</td>\n",
       "      <td>425.000000</td>\n",
       "      <td>125087.000000</td>\n",
       "      <td>21.000000</td>\n",
       "      <td>8.000000</td>\n",
       "      <td>6.000000</td>\n",
       "      <td>9.140000</td>\n",
       "      <td>6.000000</td>\n",
       "      <td>0.000000</td>\n",
       "      <td>1.000000</td>\n",
       "      <td>0.5</td>\n",
       "      <td>1.174129</td>\n",
       "      <td>6.00000</td>\n",
       "      <td>0.000000</td>\n",
       "      <td>1.000000</td>\n",
       "      <td>6.000000</td>\n",
       "      <td>0.000000</td>\n",
       "      <td>1.000000</td>\n",
       "      <td>0.000000</td>\n",
       "      <td>0.000000</td>\n",
       "      <td>0.000000</td>\n",
       "      <td>1.000000</td>\n",
       "      <td>...</td>\n",
       "      <td>5.194119e-01</td>\n",
       "      <td>0.000000</td>\n",
       "      <td>0.000000</td>\n",
       "      <td>1.000000</td>\n",
       "      <td>0.000000</td>\n",
       "      <td>0.000000</td>\n",
       "      <td>0.000000</td>\n",
       "      <td>0.000000</td>\n",
       "      <td>0.000000</td>\n",
       "      <td>0.000000</td>\n",
       "      <td>0.000000</td>\n",
       "      <td>0.000000</td>\n",
       "      <td>0.000000</td>\n",
       "      <td>0.000000</td>\n",
       "      <td>0.000000</td>\n",
       "      <td>0.000000</td>\n",
       "      <td>0.000000</td>\n",
       "      <td>0.000000</td>\n",
       "      <td>0.000000</td>\n",
       "      <td>0.000000</td>\n",
       "      <td>0.000000</td>\n",
       "      <td>0.000000</td>\n",
       "      <td>0.000000</td>\n",
       "      <td>0.000000</td>\n",
       "      <td>0.000000</td>\n",
       "    </tr>\n",
       "    <tr>\n",
       "      <th>max</th>\n",
       "      <td>2.145360e+09</td>\n",
       "      <td>396.120000</td>\n",
       "      <td>8.978632e+08</td>\n",
       "      <td>8.978632e+08</td>\n",
       "      <td>1000000.000000</td>\n",
       "      <td>337600.000000</td>\n",
       "      <td>999.990000</td>\n",
       "      <td>8.000000</td>\n",
       "      <td>8.000000</td>\n",
       "      <td>27.000000</td>\n",
       "      <td>8.000000</td>\n",
       "      <td>1.000000</td>\n",
       "      <td>1.000000</td>\n",
       "      <td>0.5</td>\n",
       "      <td>5.849899</td>\n",
       "      <td>8.00000</td>\n",
       "      <td>1.000000</td>\n",
       "      <td>1.000000</td>\n",
       "      <td>8.000000</td>\n",
       "      <td>1.000000</td>\n",
       "      <td>1.000000</td>\n",
       "      <td>1.000000</td>\n",
       "      <td>1.000000</td>\n",
       "      <td>100.000000</td>\n",
       "      <td>1.000000</td>\n",
       "      <td>...</td>\n",
       "      <td>6.247782e+00</td>\n",
       "      <td>1.000000</td>\n",
       "      <td>1.000000</td>\n",
       "      <td>1.000000</td>\n",
       "      <td>1.000000</td>\n",
       "      <td>1.000000</td>\n",
       "      <td>1.000000</td>\n",
       "      <td>1.000000</td>\n",
       "      <td>1.000000</td>\n",
       "      <td>1.000000</td>\n",
       "      <td>1.000000</td>\n",
       "      <td>1.000000</td>\n",
       "      <td>1.000000</td>\n",
       "      <td>1.000000</td>\n",
       "      <td>1.000000</td>\n",
       "      <td>1.000000</td>\n",
       "      <td>1.000000</td>\n",
       "      <td>1.000000</td>\n",
       "      <td>1.000000</td>\n",
       "      <td>1.000000</td>\n",
       "      <td>1.000000</td>\n",
       "      <td>1.000000</td>\n",
       "      <td>1.000000</td>\n",
       "      <td>1.000000</td>\n",
       "      <td>1.000000</td>\n",
       "    </tr>\n",
       "  </tbody>\n",
       "</table>\n",
       "<p>8 rows × 240 columns</p>\n",
       "</div>"
      ],
      "text/plain": [
       "            @id_DOG      y_runtime        RaceId      @id_RACE      Prizemoney      TrainerId          ft_sp     x_num_dogs       position       y_margin          y_pos  Winner_actual  \\\n",
       "count  7.250800e+05  725080.000000  7.250800e+05  7.250800e+05   498861.000000  725080.000000  725080.000000  725080.000000  725080.000000  725080.000000  725080.000000  725080.000000   \n",
       "mean   4.866356e+08      24.363969  7.640069e+08  7.640069e+08      441.621810  111702.449377      17.092809       7.347380       4.171696       6.396170       4.171696       0.138760   \n",
       "std    1.219313e+08       4.941794  7.786416e+07  7.786416e+07     2912.322446   78747.029834      21.284010       0.890034       2.163317       4.794569       2.163317       0.345696   \n",
       "min    1.083910e+08      10.000000  6.238619e+08  6.238619e+08        0.000000    6418.000000       0.260000       5.000000       1.000000       0.000000       1.000000       0.000000   \n",
       "25%    4.159944e+08      20.520000  6.985139e+08  6.985139e+08        0.000000   65438.000000       4.200000       7.000000       2.000000       2.530000       2.000000       0.000000   \n",
       "50%    4.791464e+08      23.490000  7.654781e+08  7.654781e+08       65.000000   99808.000000       8.700000       8.000000       4.000000       5.500000       4.000000       0.000000   \n",
       "75%    5.620734e+08      26.990000  8.292900e+08  8.292900e+08      425.000000  125087.000000      21.000000       8.000000       6.000000       9.140000       6.000000       0.000000   \n",
       "max    2.145360e+09     396.120000  8.978632e+08  8.978632e+08  1000000.000000  337600.000000     999.990000       8.000000       8.000000      27.000000       8.000000       1.000000   \n",
       "\n",
       "         Top3_actual  rand_mean   rand_uniform  position_random  Winner_random    Top3_random  position_fasttrack  Winner_fastrack  Top3_fastrack         rand_1       h_rand_1       p_rand_1  \\\n",
       "count  725080.000000   725080.0  725080.000000     725080.00000  725080.000000  725080.000000       725080.000000    725080.000000  725080.000000  725080.000000  725080.000000  725080.000000   \n",
       "mean        0.415892        0.5       0.498690          4.17369       0.138498       0.415493            4.033828         0.143678       0.433520       0.138498       0.019603      -0.032199   \n",
       "std         0.492875        0.0       0.999065          2.16319       0.345422       0.492807            2.090421         0.350763       0.495561       0.345422       0.138633       1.203319   \n",
       "min         0.000000        0.5      -4.007856          1.00000       0.000000       0.000000            1.000000         0.000000       0.000000       0.000000       0.000000      -1.000000   \n",
       "25%         0.000000        0.5      -0.176363          2.00000       0.000000       0.000000            2.000000         0.000000       0.000000       0.000000       0.000000       0.000000   \n",
       "50%         0.000000        0.5       0.497742          4.00000       0.000000       0.000000            4.000000         0.000000       0.000000       0.000000       0.000000       0.000000   \n",
       "75%         1.000000        0.5       1.174129          6.00000       0.000000       1.000000            6.000000         0.000000       1.000000       0.000000       0.000000       0.000000   \n",
       "max         1.000000        0.5       5.849899          8.00000       1.000000       1.000000            8.000000         1.000000       1.000000       1.000000       1.000000     100.000000   \n",
       "\n",
       "       rand_all_plc_to_win  ...  ss_trnr_xr_fin_last2_pct        dist300        dist350        dist400        dist450        dist500        dist600        dist700      firstrace        upgrade  \\\n",
       "count        725080.000000  ...              7.250800e+05  725080.000000  725080.000000  725080.000000  725080.000000  725080.000000  725080.000000  725080.000000  725080.000000  725080.000000   \n",
       "mean              0.350124  ...              1.809006e-14       0.174417       0.145403       0.270938       0.175759       0.198210       0.026236       0.009029       0.042082       0.122159   \n",
       "std               0.477009  ...              1.000001e+00       0.379468       0.352507       0.444445       0.380615       0.398651       0.159836       0.094593       0.200777       0.327470   \n",
       "min               0.000000  ...             -2.298577e+00       0.000000       0.000000       0.000000       0.000000       0.000000       0.000000       0.000000       0.000000       0.000000   \n",
       "25%               0.000000  ...             -5.893050e-01       0.000000       0.000000       0.000000       0.000000       0.000000       0.000000       0.000000       0.000000       0.000000   \n",
       "50%               0.000000  ...             -1.115775e-01       0.000000       0.000000       0.000000       0.000000       0.000000       0.000000       0.000000       0.000000       0.000000   \n",
       "75%               1.000000  ...              5.194119e-01       0.000000       0.000000       1.000000       0.000000       0.000000       0.000000       0.000000       0.000000       0.000000   \n",
       "max               1.000000  ...              6.247782e+00       1.000000       1.000000       1.000000       1.000000       1.000000       1.000000       1.000000       1.000000       1.000000   \n",
       "\n",
       "           downgrade         upg_87         upg_76         upg_65         upg_54         upg_43         upg_32         upg_21         dng_12         dng_23         dng_34         dng_45  \\\n",
       "count  725080.000000  725080.000000  725080.000000  725080.000000  725080.000000  725080.000000  725080.000000  725080.000000  725080.000000  725080.000000  725080.000000  725080.000000   \n",
       "mean        0.102302       0.021447       0.017502       0.015056       0.036491       0.008354       0.003089       0.001917       0.001481       0.002109       0.006787       0.032725   \n",
       "std         0.303045       0.144870       0.131131       0.121777       0.187509       0.091015       0.055496       0.043742       0.038458       0.045873       0.082102       0.177915   \n",
       "min         0.000000       0.000000       0.000000       0.000000       0.000000       0.000000       0.000000       0.000000       0.000000       0.000000       0.000000       0.000000   \n",
       "25%         0.000000       0.000000       0.000000       0.000000       0.000000       0.000000       0.000000       0.000000       0.000000       0.000000       0.000000       0.000000   \n",
       "50%         0.000000       0.000000       0.000000       0.000000       0.000000       0.000000       0.000000       0.000000       0.000000       0.000000       0.000000       0.000000   \n",
       "75%         0.000000       0.000000       0.000000       0.000000       0.000000       0.000000       0.000000       0.000000       0.000000       0.000000       0.000000       0.000000   \n",
       "max         1.000000       1.000000       1.000000       1.000000       1.000000       1.000000       1.000000       1.000000       1.000000       1.000000       1.000000       1.000000   \n",
       "\n",
       "              dng_56         dng_67         dng_78  \n",
       "count  725080.000000  725080.000000  725080.000000  \n",
       "mean        0.000044       0.000033       0.000269  \n",
       "std         0.006643       0.005753       0.016397  \n",
       "min         0.000000       0.000000       0.000000  \n",
       "25%         0.000000       0.000000       0.000000  \n",
       "50%         0.000000       0.000000       0.000000  \n",
       "75%         0.000000       0.000000       0.000000  \n",
       "max         1.000000       1.000000       1.000000  \n",
       "\n",
       "[8 rows x 240 columns]"
      ]
     },
     "execution_count": 120,
     "metadata": {},
     "output_type": "execute_result"
    }
   ],
   "source": [
    "\n",
    "df_modeling.describe()\n"
   ]
  },
  {
   "cell_type": "code",
   "execution_count": 121,
   "id": "0dd9aa88-7eca-46e1-99cc-145ae9b1f478",
   "metadata": {},
   "outputs": [
    {
     "name": "stdout",
     "output_type": "stream",
     "text": [
      "2023-07-07 16:03:42.394187+05:30\n",
      "2023-07-07 16:03:42.567618+05:30\n"
     ]
    }
   ],
   "source": [
    "\n",
    "#10 Min Runtime\n",
    "\n",
    "print(datetime.now(local_tz))\n",
    "\n",
    "#df_modeling['year'] = df_modeling.apply(lambda x : pd.to_datetime(x.Event_Dt, format = '%Y-%m-%d').year , axis = 1 )\n",
    "#df_modeling['qtr'] = df_modeling.apply(lambda x : pd.to_datetime(x.Event_Dt, format = '%Y-%m-%d').quarter , axis = 1 )\n",
    "\n",
    "#df_modeling['yearqtr'] = df_modeling.apply(lambda x : pd.to_datetime(x.Event_Dt_x, format = '%Y-%m-%d').year*100 + pd.to_datetime(x.Event_Dt_x, format = '%Y-%m-%d').quarter , axis = 1 )\n",
    "#df_modeling['yearmon'] = df_modeling.apply(lambda x : pd.to_datetime(x.Event_Dt_x, format = '%Y-%m-%d').year*100 + pd.to_datetime(x.Event_Dt_x, format = '%Y-%m-%d').month , axis = 1 )\n",
    "\n",
    "# CHAT GPT suggestion\n",
    "df_modeling['Event_Dt_dt'] = pd.to_datetime(df_modeling['Event_Dt'], format='%Y-%m-%d')\n",
    "df_modeling['yearqtr'] = df_modeling['Event_Dt_dt'].dt.year * 100 + df_modeling['Event_Dt_dt'].dt.quarter\n",
    "df_modeling['yearmon'] = df_modeling['Event_Dt_dt'].dt.year * 100 + df_modeling['Event_Dt_dt'].dt.month\n",
    "\n",
    "print(datetime.now(local_tz))\n"
   ]
  },
  {
   "cell_type": "code",
   "execution_count": 122,
   "id": "862a550d-be07-46a6-82fe-04c84aa96505",
   "metadata": {},
   "outputs": [
    {
     "name": "stdout",
     "output_type": "stream",
     "text": [
      "202101    71844\n",
      "202102    76475\n",
      "202103    80316\n",
      "202104    79117\n",
      "202201    72697\n",
      "202202    76715\n",
      "202203    79618\n",
      "202204    79710\n",
      "202301    75691\n",
      "202302    32897\n",
      "Name: yearqtr, dtype: int64\n",
      "202101    24603\n",
      "202102    22247\n",
      "202103    24994\n",
      "202104    24910\n",
      "202105    26342\n",
      "202106    25223\n",
      "202107    27114\n",
      "202108    27063\n",
      "202109    26139\n",
      "202110    27186\n",
      "202111    25620\n",
      "202112    26311\n",
      "202201    26037\n",
      "202202    22691\n",
      "202203    23969\n",
      "202204    25058\n",
      "202205    25411\n",
      "202206    26246\n",
      "202207    25589\n",
      "202208    27201\n",
      "202209    26828\n",
      "202210    26623\n",
      "202211    26529\n",
      "202212    26558\n",
      "202301    25983\n",
      "202302    23278\n",
      "202303    26430\n",
      "202304    26609\n",
      "202305     6288\n",
      "Name: yearmon, dtype: int64\n"
     ]
    }
   ],
   "source": [
    "\n",
    "print(df_modeling['yearqtr'].value_counts().sort_index())\n",
    "print(df_modeling['yearmon'].value_counts().sort_index())\n",
    "    "
   ]
  },
  {
   "cell_type": "code",
   "execution_count": 123,
   "id": "0772d89a-ccc1-491c-aff7-cc6ee6ff45bd",
   "metadata": {
    "tags": []
   },
   "outputs": [
    {
     "data": {
      "text/plain": [
       "'\\nfrom sklearn.model_selection import train_test_split\\n\\n# Split data 70%-30% into training set and test set\\nx_train, x_test, y_train, y_test = train_test_split(df_modeling[features].values, df_modeling[label].values, test_size=0.30, random_state = seed)\\n\\nprint(datetime.now())\\n'"
      ]
     },
     "execution_count": 123,
     "metadata": {},
     "output_type": "execute_result"
    }
   ],
   "source": [
    "# BASED ON SKLEARN\n",
    "\n",
    "\"\"\"\n",
    "from sklearn.model_selection import train_test_split\n",
    "\n",
    "# Split data 70%-30% into training set and test set\n",
    "x_train, x_test, y_train, y_test = train_test_split(df_modeling[features].values, df_modeling[label].values, test_size=0.30, random_state = seed)\n",
    "\n",
    "print(datetime.now())\n",
    "\"\"\"\n"
   ]
  },
  {
   "cell_type": "code",
   "execution_count": 124,
   "id": "9d195b18-4e0f-48c7-96ca-f4148a7735d7",
   "metadata": {
    "tags": []
   },
   "outputs": [
    {
     "data": {
      "text/plain": [
       "'\\nsamp_size = 0.30\\ndf_rows = df_modeling.shape[0]\\ntrain_rows = int(df_rows*(1-samp_size))\\ntest_rows = df_rows - train_rows\\n\\ndf_modeling[\\'ids\\'] = np.arange(0,df_rows)\\n\\n#print(df_rows, train_rows, test_rows)\\n\\n#df.modeling_train =  random.uniform(0, 1)\\n\\ndf_train = df_modeling.sample(train_rows, random_state = seed)\\ndf_train.loc[:,\\'ttflag\\'] = \\'Train\\'\\ndf_train_ids = df_train.ids.values.tolist()\\n#print(len(df_train_ids))\\n\\ndf_test = df_modeling[~df_modeling.ids.isin(df_train_ids)]\\ndf_test.loc[:,\\'ttflag\\'] = \\'Test\\'\\n#print(df_test.shape[0])\\n\\nx_train = df_train[features].values\\nx_test = df_test[features].values\\n\\ny_train = df_train[label].values\\ny_test = df_test[label].values\\n\\nprint()\\nprint(datetime.now())\\nprint()\\n\\nprint(f\"x train : {x_train.shape}, x_test : {x_test.shape}, y_train : {y_train.shape}, y_test : {y_test.shape}\")\\n\\nprint()\\n'"
      ]
     },
     "execution_count": 124,
     "metadata": {},
     "output_type": "execute_result"
    }
   ],
   "source": [
    "\n",
    "# BASED ON RANDOM SAMPLE\n",
    "\n",
    "\"\"\"\n",
    "samp_size = 0.30\n",
    "df_rows = df_modeling.shape[0]\n",
    "train_rows = int(df_rows*(1-samp_size))\n",
    "test_rows = df_rows - train_rows\n",
    "\n",
    "df_modeling['ids'] = np.arange(0,df_rows)\n",
    "\n",
    "#print(df_rows, train_rows, test_rows)\n",
    "\n",
    "#df.modeling_train =  random.uniform(0, 1)\n",
    "\n",
    "df_train = df_modeling.sample(train_rows, random_state = seed)\n",
    "df_train.loc[:,'ttflag'] = 'Train'\n",
    "df_train_ids = df_train.ids.values.tolist()\n",
    "#print(len(df_train_ids))\n",
    "\n",
    "df_test = df_modeling[~df_modeling.ids.isin(df_train_ids)]\n",
    "df_test.loc[:,'ttflag'] = 'Test'\n",
    "#print(df_test.shape[0])\n",
    "\n",
    "x_train = df_train[features].values\n",
    "x_test = df_test[features].values\n",
    "\n",
    "y_train = df_train[label].values\n",
    "y_test = df_test[label].values\n",
    "\n",
    "print()\n",
    "print(datetime.now())\n",
    "print()\n",
    "\n",
    "print(f\"x train : {x_train.shape}, x_test : {x_test.shape}, y_train : {y_train.shape}, y_test : {y_test.shape}\")\n",
    "\n",
    "print()\n",
    "\"\"\"\n"
   ]
  },
  {
   "cell_type": "code",
   "execution_count": 125,
   "id": "a75baf44-57f7-4f47-bc63-04b50b0f2498",
   "metadata": {},
   "outputs": [
    {
     "name": "stdout",
     "output_type": "stream",
     "text": [
      "['@id_DOG', 'DogName', 'y_runtime', 'RaceId', '@id_RACE', 'Distance', 'RaceGrade', 'Track', 'Event_Dt', 'Prizemoney', 'TrainerId', 'TrainerName', 'ft_sp', 'x_num_dogs', 'position', 'y_margin', 'y_pos', 'Winner_actual', 'Top3_actual', 'rand_mean', 'rand_uniform', 'position_random', 'Winner_random', 'Top3_random', 'position_fasttrack', 'Winner_fastrack', 'Top3_fastrack', 'rand_1', 'h_rand_1', 'p_rand_1', 'rand_all_plc_to_win', 'h_rand_all_plc_to_win', 'p_rand_all_plc_to_win', 'rand_lay_last', 'h_rand_lay_last', 'p_rand_lay_last', 'ft_1', 'h_ft_1', 'p_ft_1', 'ft_all_plc', 'h_ft_all_plc', 'p_ft_all_plc', 'ft_lay_last', 'h_ft_lay_last', 'p_ft_lay_last', 'G5', 'G4', 'G3', 'G2', 'G1', 'Gmix', 'Gmas', 'Gmai', 'Gh', 'Gres', 'Gnov', 'Gsp', 'Gfin', 'RaceGrade_H1', 'x_races_tot', 'x_rtgp_prev', 'x_rtgp_avg', 'x_rtgp_min', 'x_rtgp_max', 'x_rtgp_std', 'x_rtgp_range', 'x_no_prev_races', 'x_speed_prev', 'x_speed_avg', 'x_speed_min', 'x_speed_max', 'x_speed_std', 'x_speed_range', 'x_no_prev_r_in_dist', 'xr_races', 'xr_races_l5', 'xr_wins', 'xr_wins_pct', 'xr_wins_l5', 'xr_wins_l5_pct', 'xr_fin_t2', 'xr_fin_t2_pct', 'xr_fin_last', 'xr_finl5_last', 'xr_finl5_last_pct', 'xr_fin_last2', 'xr_fin_last2_pct', 'xr_finl5_last2', 'xr_finl5_last2_pct', 'xr_fin_plc', 'xr_fin_plc_pct', 'xr_finl5_plc', 'xr_finl5_plc_pct', 'trnr_xr_races_tot', 'trnr_xr_races_tot_prev', 'trnr_wins_prev', 'trnr_fin_plc_prev', 'trnr_fin_t2_prev', 'trnr_fin_last_prev', 'trnr_fin_last2_prev', 'trnr_xr_wins', 'trnr_xr_fin_plc', 'trnr_xr_fin_t2', 'trnr_xr_fin_last', 'trnr_xr_fin_last2', 'trnr_xrl5_wins', 'trnr_xrl5_fin_plc', 'trnr_xrl5_fin_t2', 'trnr_xrl5_fin_last', 'trnr_xrl5_fin_last2', 'trnr_xr_wins_pct', 'trnr_xr_fin_t2_pct', 'trnr_xr_fin_plc_pct', 'trnr_xr_fin_last_pct', 'trnr_xr_fin_last2_pct', 'x_races_tot_norm_by_race', 'x_rtgp_prev_norm_by_race', 'x_rtgp_avg_norm_by_race', 'x_rtgp_min_norm_by_race', 'x_rtgp_max_norm_by_race', 'x_rtgp_std_norm_by_race', 'x_rtgp_range_norm_by_race', 'x_speed_prev_norm_by_race', 'x_speed_avg_norm_by_race', 'x_speed_min_norm_by_race', 'x_speed_max_norm_by_race', 'x_speed_std_norm_by_race', 'x_speed_range_norm_by_race', 'xr_races_norm_by_race', 'xr_races_l5_norm_by_race', 'xr_wins_norm_by_race', 'xr_wins_pct_norm_by_race', 'xr_wins_l5_norm_by_race', 'xr_wins_l5_pct_norm_by_race', 'xr_fin_t2_norm_by_race', 'xr_fin_t2_pct_norm_by_race', 'xr_fin_last_norm_by_race', 'xr_finl5_last_norm_by_race', 'xr_finl5_last_pct_norm_by_race', 'xr_fin_last2_norm_by_race', 'xr_fin_last2_pct_norm_by_race', 'xr_finl5_last2_norm_by_race', 'xr_finl5_last2_pct_norm_by_race', 'xr_fin_plc_norm_by_race', 'xr_fin_plc_pct_norm_by_race', 'xr_finl5_plc_norm_by_race', 'xr_finl5_plc_pct_norm_by_race', 'trnr_xr_races_tot_norm_by_race', 'trnr_xr_races_tot_prev_norm_by_race', 'trnr_wins_prev_norm_by_race', 'trnr_fin_plc_prev_norm_by_race', 'trnr_fin_t2_prev_norm_by_race', 'trnr_fin_last_prev_norm_by_race', 'trnr_fin_last2_prev_norm_by_race', 'trnr_xr_wins_norm_by_race', 'trnr_xr_fin_plc_norm_by_race', 'trnr_xr_fin_t2_norm_by_race', 'trnr_xr_fin_last_norm_by_race', 'trnr_xr_fin_last2_norm_by_race', 'trnr_xrl5_wins_norm_by_race', 'trnr_xrl5_fin_plc_norm_by_race', 'trnr_xrl5_fin_t2_norm_by_race', 'trnr_xrl5_fin_last_norm_by_race', 'trnr_xrl5_fin_last2_norm_by_race', 'trnr_xr_wins_pct_norm_by_race', 'trnr_xr_fin_t2_pct_norm_by_race', 'trnr_xr_fin_plc_pct_norm_by_race', 'trnr_xr_fin_last_pct_norm_by_race', 'trnr_xr_fin_last2_pct_norm_by_race', 'ss_x_races_tot', 'ss_x_rtgp_prev', 'ss_x_rtgp_avg', 'ss_x_rtgp_min', 'ss_x_rtgp_max', 'ss_x_rtgp_std', 'ss_x_rtgp_range', 'ss_x_speed_prev', 'ss_x_speed_avg', 'ss_x_speed_min', 'ss_x_speed_max', 'ss_x_speed_std', 'ss_x_speed_range', 'ss_xr_races', 'ss_xr_races_l5', 'ss_xr_wins', 'ss_xr_wins_pct', 'ss_xr_wins_l5', 'ss_xr_wins_l5_pct', 'ss_xr_fin_t2', 'ss_xr_fin_t2_pct', 'ss_xr_fin_last', 'ss_xr_finl5_last', 'ss_xr_finl5_last_pct', 'ss_xr_fin_last2', 'ss_xr_fin_last2_pct', 'ss_xr_finl5_last2', 'ss_xr_finl5_last2_pct', 'ss_xr_fin_plc', 'ss_xr_fin_plc_pct', 'ss_xr_finl5_plc', 'ss_xr_finl5_plc_pct', 'ss_trnr_xr_races_tot', 'ss_trnr_xr_races_tot_prev', 'ss_trnr_wins_prev', 'ss_trnr_fin_plc_prev', 'ss_trnr_fin_t2_prev', 'ss_trnr_fin_last_prev', 'ss_trnr_fin_last2_prev', 'ss_trnr_xr_wins', 'ss_trnr_xr_fin_plc', 'ss_trnr_xr_fin_t2', 'ss_trnr_xr_fin_last', 'ss_trnr_xr_fin_last2', 'ss_trnr_xrl5_wins', 'ss_trnr_xrl5_fin_plc', 'ss_trnr_xrl5_fin_t2', 'ss_trnr_xrl5_fin_last', 'ss_trnr_xrl5_fin_last2', 'ss_trnr_xr_wins_pct', 'ss_trnr_xr_fin_t2_pct', 'ss_trnr_xr_fin_plc_pct', 'ss_trnr_xr_fin_last_pct', 'ss_trnr_xr_fin_last2_pct', 'RaceName', 'dist300', 'dist350', 'dist400', 'dist450', 'dist500', 'dist600', 'dist700', 'firstrace', 'upgrade', 'downgrade', 'upg_87', 'upg_76', 'upg_65', 'upg_54', 'upg_43', 'upg_32', 'upg_21', 'dng_12', 'dng_23', 'dng_34', 'dng_45', 'dng_56', 'dng_67', 'dng_78', 'Event_Dt_dt', 'yearqtr', 'yearmon']\n"
     ]
    }
   ],
   "source": [
    "\n",
    "print(df_modeling.columns.values.tolist())\n"
   ]
  },
  {
   "cell_type": "code",
   "execution_count": 126,
   "id": "4443f16e-6849-47b0-aa5a-f676aa32256f",
   "metadata": {},
   "outputs": [
    {
     "name": "stdout",
     "output_type": "stream",
     "text": [
      "(209430, 252)\n",
      "(32897, 252)\n",
      "\n",
      "(54, 2)\n",
      "['Track', 'x_track']\n",
      "\n",
      "(93, 2)\n",
      "['RaceGrade', 'x_racegrade']\n",
      "\n"
     ]
    }
   ],
   "source": [
    "\n",
    "#df_train_raw = df_modeling[ df_modeling.yearqtr <= 202201 ]\n",
    "df_train_raw = df_modeling[ (df_modeling.yearmon > 202207) & (df_modeling.yearmon <= 202303) ].copy()\n",
    "df_train_raw.loc[:,'ttflag'] = 'Train'\n",
    "print(df_train_raw.shape)\n",
    "\n",
    "#133k on 13Jun2023\n",
    "#\n",
    "\n",
    "#df_test = df_modeling[~df_modeling.ids.isin(df_train_ids)]\n",
    "#df_test_raw = df_modeling[ df_modeling.yearqtr >= 202202 ]\n",
    "df_test_raw = df_modeling[ df_modeling.yearmon > 202303 ].copy()\n",
    "df_test_raw.loc[:,'ttflag'] = 'Test'\n",
    "print(df_test_raw.shape)\n",
    "\n",
    "#25k on 13Jun2023\n",
    "#\n",
    "\n",
    "print()\n",
    "\n",
    "gp_track = df_train_raw.groupby('Track').agg({'@id_RACE':'nunique'}).reset_index().rename(columns = {'@id_RACE':'x_track'})\n",
    "print(gp_track.shape)\n",
    "print(gp_track.columns.values.tolist())\n",
    "print()\n",
    "\n",
    "gp_racegrade = df_train_raw.groupby('RaceGrade').agg({'@id_RACE':'nunique'}).reset_index().rename(columns = {'@id_RACE':'x_racegrade'})\n",
    "print(gp_racegrade.shape)\n",
    "print(gp_racegrade.columns.values.tolist())\n",
    "print()\n",
    "\n"
   ]
  },
  {
   "cell_type": "code",
   "execution_count": 127,
   "id": "bddda2e4-1805-42cc-bd61-0a08e4181e3d",
   "metadata": {},
   "outputs": [],
   "source": [
    "#del df_modeling"
   ]
  },
  {
   "cell_type": "code",
   "execution_count": 128,
   "id": "deabfa30-f37e-480d-88cf-0dab09054a32",
   "metadata": {},
   "outputs": [
    {
     "name": "stdout",
     "output_type": "stream",
     "text": [
      "Prizemoney has 65259 NaN values\n"
     ]
    }
   ],
   "source": [
    "\n",
    "# assuming df is your DataFrame\n",
    "#nan_values = df_train_raw.isna().sum()\n",
    "#inf_values = np.isinf(df_train_raw).sum()\n",
    "#inf_values = np.isfinite(df_train_raw).sum()\n",
    "\n",
    "nan_values = df_train_raw.select_dtypes(include=[np.number]).isna().sum()\n",
    "#inf_values = df_train_raw.select_dtypes(include=[np.number]).apply(lambda x: np.isfinite(x)).sum()\n",
    "\n",
    "# print out columns with NaN values along with their count\n",
    "for column, nan_count in nan_values.items():\n",
    "    if nan_count > 0:\n",
    "    #if nan_count > 0 or inf_values[column] > 0:\n",
    "        print(f'{column} has {nan_count} NaN values')\n",
    "\n"
   ]
  },
  {
   "cell_type": "code",
   "execution_count": null,
   "id": "9350ca20-2a87-4c92-8391-b6eb516860fe",
   "metadata": {},
   "outputs": [],
   "source": []
  },
  {
   "cell_type": "code",
   "execution_count": 129,
   "id": "2e30a603-4250-436b-b393-5fd95b0a7292",
   "metadata": {},
   "outputs": [],
   "source": [
    "\n",
    "#columns_to_drop = ['xr_finl5_t2', 'xr_fin_last_pct', 'xr_fin_last_pct_norm', 'Prizemoney']\n",
    "columns_to_drop = ['Prizemoney']\n",
    "\n",
    "# Only keep columns in `columns_to_drop` that actually exist in the DataFrame\n",
    "columns_to_drop = [col for col in columns_to_drop if col in df_train_raw.columns]\n",
    "\n",
    "df_train_raw = df_train_raw.drop(columns = columns_to_drop)\n"
   ]
  },
  {
   "cell_type": "code",
   "execution_count": 130,
   "id": "471a4924-58f9-4ce7-a90c-a7fe996d2c71",
   "metadata": {},
   "outputs": [
    {
     "name": "stdout",
     "output_type": "stream",
     "text": [
      "Prizemoney has 10420 NaN values\n"
     ]
    }
   ],
   "source": [
    "\n",
    "# assuming df is your DataFrame\n",
    "nan_values = df_test_raw.isna().sum()\n",
    "\n",
    "# print out columns with NaN values along with their count\n",
    "for column, nan_count in nan_values.items():\n",
    "    if nan_count > 0:\n",
    "        print(f'{column} has {nan_count} NaN values')\n",
    "\n"
   ]
  },
  {
   "cell_type": "code",
   "execution_count": 131,
   "id": "a1528151-989a-4330-90f8-073dfb0667e0",
   "metadata": {},
   "outputs": [],
   "source": [
    "\n",
    "#columns_to_drop = ['xr_finl5_t2', 'xr_fin_last_pct', 'xr_fin_last_pct_norm', 'Prizemoney']\n",
    "columns_to_drop = ['Prizemoney']\n",
    "\n",
    "# Only keep columns in `columns_to_drop` that actually exist in the DataFrame\n",
    "columns_to_drop = [col for col in columns_to_drop if col in df_test_raw.columns]\n",
    "\n",
    "df_test_raw = df_test_raw.drop(columns = columns_to_drop)\n"
   ]
  },
  {
   "cell_type": "code",
   "execution_count": 132,
   "id": "99e4374a-e87a-468e-9ad0-a5de9152cee9",
   "metadata": {},
   "outputs": [
    {
     "data": {
      "text/plain": [
       "197"
      ]
     },
     "execution_count": 132,
     "metadata": {},
     "output_type": "execute_result"
    }
   ],
   "source": [
    "\n",
    "gc.collect()\n"
   ]
  },
  {
   "cell_type": "code",
   "execution_count": 133,
   "id": "61bb6e57-cf57-4dcd-a4d1-ff52b198cbc3",
   "metadata": {},
   "outputs": [
    {
     "name": "stdout",
     "output_type": "stream",
     "text": [
      "(209430, 251)\n",
      "(32897, 251)\n"
     ]
    }
   ],
   "source": [
    "\n",
    "print(df_train_raw.shape)\n",
    "print(df_test_raw.shape)\n"
   ]
  },
  {
   "cell_type": "markdown",
   "id": "fdd89bb3-013f-44af-b240-6c775f5cbfc4",
   "metadata": {},
   "source": [
    "#### CREATING a) TRAIN & TEST Datasets"
   ]
  },
  {
   "cell_type": "code",
   "execution_count": 134,
   "id": "5c8ffca9-01c4-45ad-9f0d-192f7c20977c",
   "metadata": {},
   "outputs": [
    {
     "name": "stdout",
     "output_type": "stream",
     "text": [
      "\n"
     ]
    }
   ],
   "source": [
    "\n",
    "# Getting Rid of Feature Embedding for Track and Grade ( All for later )\n",
    "\n",
    "\"\"\"\n",
    "\n",
    "df_train = df_train_raw.merge(gp_track, on = 'Track', how = 'left').merge(gp_racegrade, on = 'RaceGrade', how = 'left')\n",
    "print(df_train.shape)\n",
    "print(df_train.columns.values.tolist())\n",
    "\n",
    "x_track_min = min(df_train['x_track'])\n",
    "x_track_max = max(df_train['x_track'])\n",
    "x_track_std = np.std(df_train['x_track'])\n",
    "x_track_mean = np.mean(df_train['x_track'])\n",
    "\n",
    "print()\n",
    "\n",
    "x_raceg_min = min(df_train['x_racegrade'])\n",
    "x_raceg_max = max(df_train['x_racegrade'])\n",
    "x_raceg_std = np.std(df_train['x_racegrade'])\n",
    "x_raceg_mean = np.mean(df_train['x_racegrade'])\n",
    "\n",
    "df_train['x_track_norm'] = (df_train['x_track'] - x_track_mean) / x_track_std\n",
    "df_train['x_racegrade_norm'] = (df_train['x_racegrade'] - x_raceg_mean) / x_raceg_std\n",
    "\n",
    "print()\n",
    "print()\n",
    "\n",
    "gp_track_for_test = df_train[['Track','x_track']].drop_duplicates()\n",
    "gp_racegrade_for_test = df_train[['RaceGrade','x_racegrade']].drop_duplicates()\n",
    "\n",
    "df_test = df_test_raw.merge(gp_track_for_test, on = 'Track', how = 'left').merge(gp_racegrade_for_test, on = 'RaceGrade', how = 'left')\n",
    "print(df_train.shape)\n",
    "print(df_train.columns.values.tolist())\n",
    "\n",
    "df_test['x_track'].fillna(0, inplace = True)\n",
    "df_test['x_racegrade'].fillna(0, inplace = True)\n",
    "\n",
    "df_test['x_track_norm'] = (df_test['x_track'] - x_track_mean) / x_track_std\n",
    "df_test['x_racegrade_norm'] = (df_test['x_racegrade'] - x_raceg_mean) / x_raceg_std\n",
    "\n",
    "\"\"\"\n",
    "\n",
    "print()\n"
   ]
  },
  {
   "cell_type": "code",
   "execution_count": 135,
   "id": "6be6402d-385e-4e22-b762-9510a73f82f1",
   "metadata": {},
   "outputs": [
    {
     "name": "stdout",
     "output_type": "stream",
     "text": [
      "\n",
      "(209430, 251)\n",
      "@id_DOG        0\n",
      "DogName        0\n",
      "y_runtime      0\n",
      "RaceId         0\n",
      "@id_RACE       0\n",
      "              ..\n",
      "dng_78         0\n",
      "Event_Dt_dt    0\n",
      "yearqtr        0\n",
      "yearmon        0\n",
      "ttflag         0\n",
      "Length: 251, dtype: int64\n",
      "\n",
      "\n",
      "(32897, 251)\n",
      "@id_DOG        0\n",
      "DogName        0\n",
      "y_runtime      0\n",
      "RaceId         0\n",
      "@id_RACE       0\n",
      "              ..\n",
      "dng_78         0\n",
      "Event_Dt_dt    0\n",
      "yearqtr        0\n",
      "yearmon        0\n",
      "ttflag         0\n",
      "Length: 251, dtype: int64\n",
      "\n"
     ]
    }
   ],
   "source": [
    "\n",
    "print()\n",
    "\n",
    "print(df_train_raw.shape)\n",
    "print(df_train_raw.isna().sum())\n",
    "\n",
    "print()\n",
    "print()\n",
    "\n",
    "print(df_test_raw.shape)\n",
    "print(df_test_raw.isna().sum())\n",
    "\n",
    "print()\n"
   ]
  },
  {
   "cell_type": "code",
   "execution_count": 136,
   "id": "0ca6e560-5d5f-4744-b71b-c6551b7f62e0",
   "metadata": {},
   "outputs": [
    {
     "name": "stdout",
     "output_type": "stream",
     "text": [
      "['@id_DOG', 'DogName', 'y_runtime', 'RaceId', '@id_RACE', 'Distance', 'RaceGrade', 'Track', 'Event_Dt', 'TrainerId', 'TrainerName', 'ft_sp', 'x_num_dogs', 'position', 'y_margin', 'y_pos', 'Winner_actual', 'Top3_actual', 'rand_mean', 'rand_uniform', 'position_random', 'Winner_random', 'Top3_random', 'position_fasttrack', 'Winner_fastrack', 'Top3_fastrack', 'rand_1', 'h_rand_1', 'p_rand_1', 'rand_all_plc_to_win', 'h_rand_all_plc_to_win', 'p_rand_all_plc_to_win', 'rand_lay_last', 'h_rand_lay_last', 'p_rand_lay_last', 'ft_1', 'h_ft_1', 'p_ft_1', 'ft_all_plc', 'h_ft_all_plc', 'p_ft_all_plc', 'ft_lay_last', 'h_ft_lay_last', 'p_ft_lay_last', 'G5', 'G4', 'G3', 'G2', 'G1', 'Gmix', 'Gmas', 'Gmai', 'Gh', 'Gres', 'Gnov', 'Gsp', 'Gfin', 'RaceGrade_H1', 'x_races_tot', 'x_rtgp_prev', 'x_rtgp_avg', 'x_rtgp_min', 'x_rtgp_max', 'x_rtgp_std', 'x_rtgp_range', 'x_no_prev_races', 'x_speed_prev', 'x_speed_avg', 'x_speed_min', 'x_speed_max', 'x_speed_std', 'x_speed_range', 'x_no_prev_r_in_dist', 'xr_races', 'xr_races_l5', 'xr_wins', 'xr_wins_pct', 'xr_wins_l5', 'xr_wins_l5_pct', 'xr_fin_t2', 'xr_fin_t2_pct', 'xr_fin_last', 'xr_finl5_last', 'xr_finl5_last_pct', 'xr_fin_last2', 'xr_fin_last2_pct', 'xr_finl5_last2', 'xr_finl5_last2_pct', 'xr_fin_plc', 'xr_fin_plc_pct', 'xr_finl5_plc', 'xr_finl5_plc_pct', 'trnr_xr_races_tot', 'trnr_xr_races_tot_prev', 'trnr_wins_prev', 'trnr_fin_plc_prev', 'trnr_fin_t2_prev', 'trnr_fin_last_prev', 'trnr_fin_last2_prev', 'trnr_xr_wins', 'trnr_xr_fin_plc', 'trnr_xr_fin_t2', 'trnr_xr_fin_last', 'trnr_xr_fin_last2', 'trnr_xrl5_wins', 'trnr_xrl5_fin_plc', 'trnr_xrl5_fin_t2', 'trnr_xrl5_fin_last', 'trnr_xrl5_fin_last2', 'trnr_xr_wins_pct', 'trnr_xr_fin_t2_pct', 'trnr_xr_fin_plc_pct', 'trnr_xr_fin_last_pct', 'trnr_xr_fin_last2_pct', 'x_races_tot_norm_by_race', 'x_rtgp_prev_norm_by_race', 'x_rtgp_avg_norm_by_race', 'x_rtgp_min_norm_by_race', 'x_rtgp_max_norm_by_race', 'x_rtgp_std_norm_by_race', 'x_rtgp_range_norm_by_race', 'x_speed_prev_norm_by_race', 'x_speed_avg_norm_by_race', 'x_speed_min_norm_by_race', 'x_speed_max_norm_by_race', 'x_speed_std_norm_by_race', 'x_speed_range_norm_by_race', 'xr_races_norm_by_race', 'xr_races_l5_norm_by_race', 'xr_wins_norm_by_race', 'xr_wins_pct_norm_by_race', 'xr_wins_l5_norm_by_race', 'xr_wins_l5_pct_norm_by_race', 'xr_fin_t2_norm_by_race', 'xr_fin_t2_pct_norm_by_race', 'xr_fin_last_norm_by_race', 'xr_finl5_last_norm_by_race', 'xr_finl5_last_pct_norm_by_race', 'xr_fin_last2_norm_by_race', 'xr_fin_last2_pct_norm_by_race', 'xr_finl5_last2_norm_by_race', 'xr_finl5_last2_pct_norm_by_race', 'xr_fin_plc_norm_by_race', 'xr_fin_plc_pct_norm_by_race', 'xr_finl5_plc_norm_by_race', 'xr_finl5_plc_pct_norm_by_race', 'trnr_xr_races_tot_norm_by_race', 'trnr_xr_races_tot_prev_norm_by_race', 'trnr_wins_prev_norm_by_race', 'trnr_fin_plc_prev_norm_by_race', 'trnr_fin_t2_prev_norm_by_race', 'trnr_fin_last_prev_norm_by_race', 'trnr_fin_last2_prev_norm_by_race', 'trnr_xr_wins_norm_by_race', 'trnr_xr_fin_plc_norm_by_race', 'trnr_xr_fin_t2_norm_by_race', 'trnr_xr_fin_last_norm_by_race', 'trnr_xr_fin_last2_norm_by_race', 'trnr_xrl5_wins_norm_by_race', 'trnr_xrl5_fin_plc_norm_by_race', 'trnr_xrl5_fin_t2_norm_by_race', 'trnr_xrl5_fin_last_norm_by_race', 'trnr_xrl5_fin_last2_norm_by_race', 'trnr_xr_wins_pct_norm_by_race', 'trnr_xr_fin_t2_pct_norm_by_race', 'trnr_xr_fin_plc_pct_norm_by_race', 'trnr_xr_fin_last_pct_norm_by_race', 'trnr_xr_fin_last2_pct_norm_by_race', 'ss_x_races_tot', 'ss_x_rtgp_prev', 'ss_x_rtgp_avg', 'ss_x_rtgp_min', 'ss_x_rtgp_max', 'ss_x_rtgp_std', 'ss_x_rtgp_range', 'ss_x_speed_prev', 'ss_x_speed_avg', 'ss_x_speed_min', 'ss_x_speed_max', 'ss_x_speed_std', 'ss_x_speed_range', 'ss_xr_races', 'ss_xr_races_l5', 'ss_xr_wins', 'ss_xr_wins_pct', 'ss_xr_wins_l5', 'ss_xr_wins_l5_pct', 'ss_xr_fin_t2', 'ss_xr_fin_t2_pct', 'ss_xr_fin_last', 'ss_xr_finl5_last', 'ss_xr_finl5_last_pct', 'ss_xr_fin_last2', 'ss_xr_fin_last2_pct', 'ss_xr_finl5_last2', 'ss_xr_finl5_last2_pct', 'ss_xr_fin_plc', 'ss_xr_fin_plc_pct', 'ss_xr_finl5_plc', 'ss_xr_finl5_plc_pct', 'ss_trnr_xr_races_tot', 'ss_trnr_xr_races_tot_prev', 'ss_trnr_wins_prev', 'ss_trnr_fin_plc_prev', 'ss_trnr_fin_t2_prev', 'ss_trnr_fin_last_prev', 'ss_trnr_fin_last2_prev', 'ss_trnr_xr_wins', 'ss_trnr_xr_fin_plc', 'ss_trnr_xr_fin_t2', 'ss_trnr_xr_fin_last', 'ss_trnr_xr_fin_last2', 'ss_trnr_xrl5_wins', 'ss_trnr_xrl5_fin_plc', 'ss_trnr_xrl5_fin_t2', 'ss_trnr_xrl5_fin_last', 'ss_trnr_xrl5_fin_last2', 'ss_trnr_xr_wins_pct', 'ss_trnr_xr_fin_t2_pct', 'ss_trnr_xr_fin_plc_pct', 'ss_trnr_xr_fin_last_pct', 'ss_trnr_xr_fin_last2_pct', 'RaceName', 'dist300', 'dist350', 'dist400', 'dist450', 'dist500', 'dist600', 'dist700', 'firstrace', 'upgrade', 'downgrade', 'upg_87', 'upg_76', 'upg_65', 'upg_54', 'upg_43', 'upg_32', 'upg_21', 'dng_12', 'dng_23', 'dng_34', 'dng_45', 'dng_56', 'dng_67', 'dng_78', 'Event_Dt_dt', 'yearqtr', 'yearmon', 'ttflag']\n"
     ]
    }
   ],
   "source": [
    "\n",
    "print(df_train_raw.columns.values.tolist())\n"
   ]
  },
  {
   "cell_type": "markdown",
   "id": "cdd2b0e9-534e-4393-912e-c8fd0c221aa3",
   "metadata": {},
   "source": [
    "#### CREATING b) FEATURES FOR MODEL "
   ]
  },
  {
   "cell_type": "code",
   "execution_count": 137,
   "id": "676ac349-e99d-4e7d-b34a-2d910349e3b1",
   "metadata": {},
   "outputs": [
    {
     "data": {
      "text/plain": [
       "\"\\nOG CODE\\n\\n#features = ['x_dist', 'x_no_prev_races', 'x_races_tot', 'x_speed_prev', 'x_speed_avg', 'x_speed_min', 'x_speed_max', 'x_speed_range', 'x_speed_std', 'G5', 'G4', 'G3', 'G2', 'G1', 'Gmix', 'Gmas', 'Gmai', 'Gh', 'Gres', 'Gnov', 'Gsp', 'Gfin']\\n\\n#, 'xr_finl5_plc_norm', 'xr_finl5_plc_pct_norm'\\n#, 'dist300' , 'dist350' , 'dist400' , 'dist450' , 'dist500', 'dist600', 'dist700'#, 'x_track_norm' , 'x_racegrade_norm'\\n\\nfeatures_all = ['x_races_tot_norm'                #'G5', 'G4', 'G3', 'G2', 'G1', 'Gmix', 'Gmas', 'Gmai', 'Gh', 'Gres', 'Gnov', 'Gsp', 'Gfin'                #, 'x_races_tot', 'x_dist_gp'                #, 'x_runtm_gp', 'x_rtgp_prev', 'x_rtgp_avg', 'x_rtgp_min', 'x_rtgp_max', 'x_rtgp_std', 'x_rtgp_range'                #, 'x_no_prev_races'                #, 'x_speed_prev', 'x_speed_avg', 'x_speed_min', 'x_speed_max', 'x_speed_std', 'x_speed_range'                , 'x_no_prev_r_in_dist'                #, 'xr_races', 'xr_races_l5', 'xr_wins', 'xr_wins_pct', 'xr_wins_l5', 'xr_wins_l5_pct', 'xr_fin_t2', 'xr_finl5_t2', 'xr_fin_t2_pct', 'xr_finl5_t2_pct', 'xr_fin_last', 'xr_fin_last_pct', 'xr_finl5_last', 'xr_finl5_last_pct', 'xr_fin_last2', 'xr_fin_last2_pct', 'xr_finl5_last2', 'xr_finl5_last2_pct', 'xr_fin_plc', 'xr_fin_plc_pct', 'xr_finl5_plc', 'xr_finl5_plc_pct'                #, 'trnr_xr_races_tot', 'trnr_xr_races_tot_prev', 'trnr_wins_prev', 'trnr_fin_plc_prev', 'trnr_fin_t2_prev', 'trnr_fin_last_prev', 'trnr_fin_last2_prev', 'trnr_xr_wins', 'trnr_xr_fin_plc', 'trnr_xr_fin_t2', 'trnr_xr_fin_last', 'trnr_xr_fin_last2', 'trnr_xrl5_wins', 'trnr_xrl5_fin_plc', 'trnr_xrl5_fin_t2', 'trnr_xrl5_fin_last', 'trnr_xrl5_fin_last2', 'trnr_xr_wins_pct', 'trnr_xr_fin_t2_pct', 'trnr_xr_fin_plc_pct', 'trnr_xr_fin_last_pct', 'trnr_xr_fin_last2_pct'                \\n                # All Normed columns\\n                #, 'x_races_tot_norm'                # Removed leakage columns #, 'x_dist_gp_norm', 'x_runtm_gp_norm'                , 'x_rtgp_prev_norm', 'x_rtgp_avg_norm', 'x_rtgp_min_norm', 'x_rtgp_max_norm', 'x_rtgp_std_norm', 'x_rtgp_range_norm', 'x_speed_prev_norm', 'x_speed_avg_norm', 'x_speed_min_norm', 'x_speed_max_norm', 'x_speed_std_norm', 'x_speed_range_norm'                , 'xr_races_norm', 'xr_races_l5_norm', 'xr_wins_norm', 'xr_wins_pct_norm', 'xr_wins_l5_norm', 'xr_wins_l5_pct_norm', 'xr_fin_t2_norm', 'xr_finl5_t2_norm', 'xr_fin_t2_pct_norm', 'xr_finl5_t2_pct_norm', 'xr_fin_last_norm', 'xr_fin_last_pct_norm', 'xr_finl5_last_norm', 'xr_finl5_last_pct_norm', 'xr_fin_last2_norm', 'xr_fin_last2_pct_norm', 'xr_finl5_last2_norm', 'xr_finl5_last2_pct_norm', 'xr_fin_plc_norm', 'xr_fin_plc_pct_norm', 'xr_finl5_plc_norm', 'xr_finl5_plc_pct_norm'                , 'trnr_xr_races_tot_norm', 'trnr_xr_races_tot_prev_norm', 'trnr_wins_prev_norm', 'trnr_fin_plc_prev_norm', 'trnr_fin_t2_prev_norm', 'trnr_fin_last_prev_norm', 'trnr_fin_last2_prev_norm', 'trnr_xr_wins_norm', 'trnr_xr_fin_plc_norm', 'trnr_xr_fin_t2_norm', 'trnr_xr_fin_last_norm', 'trnr_xr_fin_last2_norm', 'trnr_xrl5_wins_norm', 'trnr_xrl5_fin_plc_norm', 'trnr_xrl5_fin_t2_norm', 'trnr_xrl5_fin_last_norm', 'trnr_xrl5_fin_last2_norm', 'trnr_xr_wins_pct_norm', 'trnr_xr_fin_t2_pct_norm', 'trnr_xr_fin_plc_pct_norm', 'trnr_xr_fin_last_pct_norm', 'trnr_xr_fin_last2_pct_norm'                # Race Distance \\n                #, 'dist300', 'dist350', 'dist400', 'dist450', 'dist500', 'dist600', 'dist700'                # Grade related variables\\n                , 'firstrace', 'upgrade', 'downgrade', 'upg_87', 'upg_76', 'upg_65', 'upg_54', 'upg_43', 'upg_32', 'upg_21', 'dng_12', 'dng_23', 'dng_34', 'dng_45', 'dng_56', 'dng_67', 'dng_78'\\n               ]\\n\\nfeatures_all = [elem for elem in features_all if elem not in columns_to_drop]\\n\\n\\nprint(f'Total features are {len(features_all)}')\\nrandom.shuffle(features_all)\\n\\n#label = 'y_runtime'\\n#label = 'y_pos'\\n#label = 'y_pos_inv'\\n\\nlabel = 'y_margin'\\n\""
      ]
     },
     "execution_count": 137,
     "metadata": {},
     "output_type": "execute_result"
    }
   ],
   "source": [
    "\n",
    "\"\"\"\n",
    "OG CODE\n",
    "\n",
    "#features = ['x_dist', 'x_no_prev_races', 'x_races_tot', 'x_speed_prev', 'x_speed_avg', 'x_speed_min', 'x_speed_max', 'x_speed_range', 'x_speed_std', 'G5', 'G4', 'G3', 'G2', 'G1', 'Gmix', 'Gmas', 'Gmai', 'Gh', 'Gres', 'Gnov', 'Gsp', 'Gfin']\n",
    "\n",
    "#, 'xr_finl5_plc_norm', 'xr_finl5_plc_pct_norm'\n",
    "#, 'dist300' , 'dist350' , 'dist400' , 'dist450' , 'dist500', 'dist600', 'dist700'\\\n",
    "#, 'x_track_norm' , 'x_racegrade_norm'\n",
    "\n",
    "features_all = ['x_races_tot_norm'\\\n",
    "                #'G5', 'G4', 'G3', 'G2', 'G1', 'Gmix', 'Gmas', 'Gmai', 'Gh', 'Gres', 'Gnov', 'Gsp', 'Gfin'\\\n",
    "                #, 'x_races_tot', 'x_dist_gp'\\\n",
    "                #, 'x_runtm_gp', 'x_rtgp_prev', 'x_rtgp_avg', 'x_rtgp_min', 'x_rtgp_max', 'x_rtgp_std', 'x_rtgp_range'\\\n",
    "                #, 'x_no_prev_races'\\\n",
    "                #, 'x_speed_prev', 'x_speed_avg', 'x_speed_min', 'x_speed_max', 'x_speed_std', 'x_speed_range'\\\n",
    "                , 'x_no_prev_r_in_dist'\\\n",
    "                #, 'xr_races', 'xr_races_l5', 'xr_wins', 'xr_wins_pct', 'xr_wins_l5', 'xr_wins_l5_pct', 'xr_fin_t2', 'xr_finl5_t2', 'xr_fin_t2_pct', 'xr_finl5_t2_pct', 'xr_fin_last', 'xr_fin_last_pct', 'xr_finl5_last', 'xr_finl5_last_pct', 'xr_fin_last2', 'xr_fin_last2_pct', 'xr_finl5_last2', 'xr_finl5_last2_pct', 'xr_fin_plc', 'xr_fin_plc_pct', 'xr_finl5_plc', 'xr_finl5_plc_pct'\\\n",
    "                #, 'trnr_xr_races_tot', 'trnr_xr_races_tot_prev', 'trnr_wins_prev', 'trnr_fin_plc_prev', 'trnr_fin_t2_prev', 'trnr_fin_last_prev', 'trnr_fin_last2_prev', 'trnr_xr_wins', 'trnr_xr_fin_plc', 'trnr_xr_fin_t2', 'trnr_xr_fin_last', 'trnr_xr_fin_last2', 'trnr_xrl5_wins', 'trnr_xrl5_fin_plc', 'trnr_xrl5_fin_t2', 'trnr_xrl5_fin_last', 'trnr_xrl5_fin_last2', 'trnr_xr_wins_pct', 'trnr_xr_fin_t2_pct', 'trnr_xr_fin_plc_pct', 'trnr_xr_fin_last_pct', 'trnr_xr_fin_last2_pct'\\\n",
    "                \n",
    "                # All Normed columns\n",
    "                #, 'x_races_tot_norm'\\\n",
    "                # Removed leakage columns #, 'x_dist_gp_norm', 'x_runtm_gp_norm'\\\n",
    "                , 'x_rtgp_prev_norm', 'x_rtgp_avg_norm', 'x_rtgp_min_norm', 'x_rtgp_max_norm', 'x_rtgp_std_norm', 'x_rtgp_range_norm', 'x_speed_prev_norm', 'x_speed_avg_norm', 'x_speed_min_norm', 'x_speed_max_norm', 'x_speed_std_norm', 'x_speed_range_norm'\\\n",
    "                , 'xr_races_norm', 'xr_races_l5_norm', 'xr_wins_norm', 'xr_wins_pct_norm', 'xr_wins_l5_norm', 'xr_wins_l5_pct_norm', 'xr_fin_t2_norm', 'xr_finl5_t2_norm', 'xr_fin_t2_pct_norm', 'xr_finl5_t2_pct_norm', 'xr_fin_last_norm', 'xr_fin_last_pct_norm', 'xr_finl5_last_norm', 'xr_finl5_last_pct_norm', 'xr_fin_last2_norm', 'xr_fin_last2_pct_norm', 'xr_finl5_last2_norm', 'xr_finl5_last2_pct_norm', 'xr_fin_plc_norm', 'xr_fin_plc_pct_norm', 'xr_finl5_plc_norm', 'xr_finl5_plc_pct_norm'\\\n",
    "                , 'trnr_xr_races_tot_norm', 'trnr_xr_races_tot_prev_norm', 'trnr_wins_prev_norm', 'trnr_fin_plc_prev_norm', 'trnr_fin_t2_prev_norm', 'trnr_fin_last_prev_norm', 'trnr_fin_last2_prev_norm', 'trnr_xr_wins_norm', 'trnr_xr_fin_plc_norm', 'trnr_xr_fin_t2_norm', 'trnr_xr_fin_last_norm', 'trnr_xr_fin_last2_norm', 'trnr_xrl5_wins_norm', 'trnr_xrl5_fin_plc_norm', 'trnr_xrl5_fin_t2_norm', 'trnr_xrl5_fin_last_norm', 'trnr_xrl5_fin_last2_norm', 'trnr_xr_wins_pct_norm', 'trnr_xr_fin_t2_pct_norm', 'trnr_xr_fin_plc_pct_norm', 'trnr_xr_fin_last_pct_norm', 'trnr_xr_fin_last2_pct_norm'\\\n",
    "                # Race Distance \n",
    "                #, 'dist300', 'dist350', 'dist400', 'dist450', 'dist500', 'dist600', 'dist700'\\\n",
    "                # Grade related variables\n",
    "                , 'firstrace', 'upgrade', 'downgrade', 'upg_87', 'upg_76', 'upg_65', 'upg_54', 'upg_43', 'upg_32', 'upg_21', 'dng_12', 'dng_23', 'dng_34', 'dng_45', 'dng_56', 'dng_67', 'dng_78'\n",
    "               ]\n",
    "\n",
    "features_all = [elem for elem in features_all if elem not in columns_to_drop]\n",
    "\n",
    "\n",
    "print(f'Total features are {len(features_all)}')\n",
    "random.shuffle(features_all)\n",
    "\n",
    "#label = 'y_runtime'\n",
    "#label = 'y_pos'\n",
    "#label = 'y_pos_inv'\n",
    "\n",
    "label = 'y_margin'\n",
    "\"\"\"\n"
   ]
  },
  {
   "cell_type": "code",
   "execution_count": 138,
   "id": "92164eaa-1b1f-4282-86fc-bdf660ca189f",
   "metadata": {},
   "outputs": [
    {
     "name": "stdout",
     "output_type": "stream",
     "text": [
      "\n",
      "\n",
      " label : y_margin\n",
      "\n",
      "\n",
      " Total features are 126\n",
      "\n",
      " features : ['dng_34', 'trnr_xrl5_fin_t2_norm_by_race', 'dng_78', 'dng_56', 'upg_87', 'x_rtgp_std_norm_by_race', 'trnr_xrl5_fin_last2_norm_by_race', 'xr_fin_last_norm_by_race', 'ss_trnr_xr_fin_plc_pct', 'ss_trnr_xr_fin_last2_pct', 'trnr_xrl5_fin_plc_norm_by_race', 'ss_xr_races_l5', 'ss_xr_fin_t2', 'trnr_xr_fin_t2_pct_norm_by_race', 'xr_fin_last2_norm_by_race', 'ss_trnr_xr_fin_t2', 'x_rtgp_range_norm_by_race', 'xr_finl5_plc_norm_by_race', 'ss_xr_races', 'trnr_xr_fin_last_pct_norm_by_race', 'xr_fin_t2_pct_norm_by_race', 'x_speed_avg_norm_by_race', 'xr_fin_t2_norm_by_race', 'ss_x_speed_avg', 'trnr_xr_races_tot_norm_by_race', 'dng_45', 'ss_xr_fin_last2', 'trnr_wins_prev_norm_by_race', 'ss_xr_finl5_plc', 'ss_xr_wins_l5', 'ss_trnr_xr_races_tot_prev', 'dng_23', 'ss_trnr_xr_fin_last2', 'x_no_prev_r_in_dist', 'ss_x_speed_max', 'ss_trnr_wins_prev', 'x_speed_std_norm_by_race', 'upg_43', 'ss_xr_wins', 'upg_76', 'xr_fin_plc_norm_by_race', 'trnr_xr_fin_t2_norm_by_race', 'upg_32', 'xr_finl5_last2_norm_by_race', 'ss_trnr_fin_plc_prev', 'trnr_xr_fin_last2_norm_by_race', 'ss_trnr_xrl5_wins', 'xr_wins_l5_pct_norm_by_race', 'ss_xr_fin_t2_pct', 'firstrace', 'trnr_xr_fin_plc_norm_by_race', 'dng_12', 'ss_x_rtgp_range', 'trnr_xr_fin_last2_pct_norm_by_race', 'trnr_fin_t2_prev_norm_by_race', 'x_speed_range_norm_by_race', 'xr_races_norm_by_race', 'ss_trnr_xr_fin_plc', 'ss_x_speed_min', 'ss_xr_fin_plc', 'ss_trnr_xr_fin_t2_pct', 'x_speed_max_norm_by_race', 'dng_67', 'xr_finl5_last_pct_norm_by_race', 'ss_x_rtgp_min', 'xr_races_l5_norm_by_race', 'ss_trnr_xr_fin_last', 'xr_finl5_last2_pct_norm_by_race', 'ss_trnr_xrl5_fin_t2', 'xr_finl5_plc_pct_norm_by_race', 'x_rtgp_prev_norm_by_race', 'ss_trnr_xrl5_fin_plc', 'upg_21', 'trnr_xrl5_wins_norm_by_race', 'ss_x_rtgp_avg', 'xr_fin_plc_pct_norm_by_race', 'ss_trnr_xr_wins', 'ss_trnr_xr_fin_last_pct', 'ss_x_rtgp_max', 'x_rtgp_max_norm_by_race', 'upg_54', 'xr_fin_last2_pct_norm_by_race', 'upg_65', 'ss_xr_finl5_plc_pct', 'ss_x_rtgp_std', 'xr_wins_pct_norm_by_race', 'ss_trnr_xrl5_fin_last2', 'ss_xr_fin_last2_pct', 'ss_x_races_tot', 'trnr_xr_wins_pct_norm_by_race', 'ss_trnr_fin_t2_prev', 'ss_xr_finl5_last', 'trnr_xr_fin_last_norm_by_race', 'trnr_fin_plc_prev_norm_by_race', 'ss_x_speed_prev', 'ss_x_speed_range', 'x_speed_prev_norm_by_race', 'ss_xr_fin_last', 'trnr_fin_last_prev_norm_by_race', 'downgrade', 'ss_trnr_fin_last_prev', 'upgrade', 'ss_xr_finl5_last2_pct', 'xr_finl5_last_norm_by_race', 'ss_xr_fin_plc_pct', 'ss_x_speed_std', 'ss_trnr_xrl5_fin_last', 'ss_xr_finl5_last_pct', 'ss_xr_finl5_last2', 'ss_trnr_xr_races_tot', 'x_rtgp_min_norm_by_race', 'xr_wins_norm_by_race', 'trnr_xr_fin_plc_pct_norm_by_race', 'trnr_fin_last2_prev_norm_by_race', 'trnr_xrl5_fin_last_norm_by_race', 'xr_wins_l5_norm_by_race', 'ss_xr_wins_l5_pct', 'x_races_tot_norm_by_race', 'ss_trnr_fin_last2_prev', 'ss_trnr_xr_wins_pct', 'ss_xr_wins_pct', 'ss_x_rtgp_prev', 'trnr_xr_races_tot_prev_norm_by_race', 'x_rtgp_avg_norm_by_race', 'x_speed_min_norm_by_race', 'trnr_xr_wins_norm_by_race']\n",
      "\n",
      "2023-07-07 10:33:43.676782\n"
     ]
    }
   ],
   "source": [
    "\n",
    "cols_basc = ['x_no_prev_r_in_dist'] \n",
    "cols_norm = df_train_raw.columns[df_train_raw.columns.str.contains('norm_by_race') | df_train_raw.columns.str.contains('ss_')].tolist()\n",
    "cols_grad = ['firstrace', 'upgrade', 'downgrade'\\\n",
    "                  , 'upg_87', 'upg_76', 'upg_65', 'upg_54', 'upg_43', 'upg_32', 'upg_21'\\\n",
    "                  , 'dng_12', 'dng_23', 'dng_34', 'dng_45', 'dng_56', 'dng_67', 'dng_78']\n",
    "\n",
    "features_all = cols_basc + cols_norm + cols_grad\n",
    "\n",
    "features_all = [elem for elem in features_all if elem not in columns_to_drop]\n",
    "\n",
    "random.shuffle(features_all)\n",
    "\n",
    "#label = 'y_runtime'\n",
    "#label = 'y_pos'\n",
    "#label = 'y_pos_inv'\n",
    "\n",
    "label = 'y_margin'\n",
    "\n",
    "\n",
    "##\n",
    "print()\n",
    "print( f'\\n label : {label}')\n",
    "print(f'\\n\\n Total features are {len(features_all)}')\n",
    "print(f'\\n features : {features_all}')\n",
    "\n",
    "print()\n",
    "print(datetime.now())\n"
   ]
  },
  {
   "cell_type": "code",
   "execution_count": 139,
   "id": "fd8c790b-f397-4296-9957-791c67a0fb2b",
   "metadata": {},
   "outputs": [
    {
     "name": "stdout",
     "output_type": "stream",
     "text": [
      "<class 'list'>\n",
      "<class 'list'>\n",
      "<class 'list'>\n"
     ]
    }
   ],
   "source": [
    "\n",
    "print(type(cols_basc)) \n",
    "print(type(cols_norm))\n",
    "print(type(cols_grad))\n"
   ]
  },
  {
   "cell_type": "code",
   "execution_count": 140,
   "id": "d99b0771-7fed-48a3-a12a-4f00372752b4",
   "metadata": {},
   "outputs": [
    {
     "name": "stdout",
     "output_type": "stream",
     "text": [
      "y_margin\n"
     ]
    }
   ],
   "source": [
    "print(label)"
   ]
  },
  {
   "cell_type": "markdown",
   "id": "61b70499-56f7-40e3-84ea-20de479c2ed9",
   "metadata": {},
   "source": [
    "#### QUALITY CHECK CODE FOR LEAKAGE"
   ]
  },
  {
   "cell_type": "code",
   "execution_count": 141,
   "id": "92dbe207-b60a-4043-9586-4a284cbc843c",
   "metadata": {},
   "outputs": [],
   "source": [
    "\n",
    "# Assume features_all is your list of columns\n",
    "\n",
    "# Compute the correlation matrix\n",
    "corr_series = df_train_raw[features_all + [label]].corr()[label]\n",
    "\n",
    "# Find columns with correlation over 0.8\n",
    "high_corr = corr_series[abs(corr_series) > 0.8].drop(label, errors='ignore')\n",
    "\n",
    "# Print the results\n",
    "for idx, val in high_corr.iteritems():\n",
    "    print(f'Column: {idx}, Correlation with {label}: {val}')\n"
   ]
  },
  {
   "cell_type": "code",
   "execution_count": 142,
   "id": "c96bcd07-2a96-4df5-b2c6-38487ee4de4e",
   "metadata": {},
   "outputs": [
    {
     "name": "stdout",
     "output_type": "stream",
     "text": [
      "/mnt/batch/tasks/shared/LS_root/mounts/clusters/compute-one-8c-32gb/code/Users/karan.bhatti/Dataprep\n"
     ]
    }
   ],
   "source": [
    "\n",
    "print(fileloc)\n",
    "\n",
    "correlations_qc = df_train_raw[features_all + [label]].corr()\n",
    "\n",
    "correlations_qc.to_csv(f'{fileloc}//train_correls_{todaydt}.csv', index = True)\n"
   ]
  },
  {
   "cell_type": "code",
   "execution_count": 143,
   "id": "16006d52-8321-4b52-83b1-dd28dfd07968",
   "metadata": {},
   "outputs": [],
   "source": [
    "# ERROR : x_rtgp_norm is 72% correlated"
   ]
  },
  {
   "cell_type": "code",
   "execution_count": 144,
   "id": "af11dfa1-fb56-4023-94f3-4c977af15072",
   "metadata": {},
   "outputs": [
    {
     "data": {
      "text/html": [
       "<div>\n",
       "<style scoped>\n",
       "    .dataframe tbody tr th:only-of-type {\n",
       "        vertical-align: middle;\n",
       "    }\n",
       "\n",
       "    .dataframe tbody tr th {\n",
       "        vertical-align: top;\n",
       "    }\n",
       "\n",
       "    .dataframe thead th {\n",
       "        text-align: right;\n",
       "    }\n",
       "</style>\n",
       "<table border=\"1\" class=\"dataframe\">\n",
       "  <thead>\n",
       "    <tr style=\"text-align: right;\">\n",
       "      <th></th>\n",
       "      <th>@id_DOG</th>\n",
       "      <th>DogName</th>\n",
       "      <th>y_runtime</th>\n",
       "      <th>RaceId</th>\n",
       "      <th>@id_RACE</th>\n",
       "      <th>Distance</th>\n",
       "      <th>RaceGrade</th>\n",
       "      <th>Track</th>\n",
       "      <th>Event_Dt</th>\n",
       "      <th>TrainerId</th>\n",
       "      <th>TrainerName</th>\n",
       "      <th>ft_sp</th>\n",
       "      <th>x_num_dogs</th>\n",
       "      <th>position</th>\n",
       "      <th>y_margin</th>\n",
       "      <th>y_pos</th>\n",
       "      <th>Winner_actual</th>\n",
       "      <th>Top3_actual</th>\n",
       "      <th>rand_mean</th>\n",
       "      <th>rand_uniform</th>\n",
       "      <th>position_random</th>\n",
       "      <th>Winner_random</th>\n",
       "      <th>Top3_random</th>\n",
       "      <th>position_fasttrack</th>\n",
       "      <th>Winner_fastrack</th>\n",
       "      <th>...</th>\n",
       "      <th>dist450</th>\n",
       "      <th>dist500</th>\n",
       "      <th>dist600</th>\n",
       "      <th>dist700</th>\n",
       "      <th>firstrace</th>\n",
       "      <th>upgrade</th>\n",
       "      <th>downgrade</th>\n",
       "      <th>upg_87</th>\n",
       "      <th>upg_76</th>\n",
       "      <th>upg_65</th>\n",
       "      <th>upg_54</th>\n",
       "      <th>upg_43</th>\n",
       "      <th>upg_32</th>\n",
       "      <th>upg_21</th>\n",
       "      <th>dng_12</th>\n",
       "      <th>dng_23</th>\n",
       "      <th>dng_34</th>\n",
       "      <th>dng_45</th>\n",
       "      <th>dng_56</th>\n",
       "      <th>dng_67</th>\n",
       "      <th>dng_78</th>\n",
       "      <th>Event_Dt_dt</th>\n",
       "      <th>yearqtr</th>\n",
       "      <th>yearmon</th>\n",
       "      <th>ttflag</th>\n",
       "    </tr>\n",
       "  </thead>\n",
       "  <tbody>\n",
       "    <tr>\n",
       "      <th>1103</th>\n",
       "      <td>135133731</td>\n",
       "      <td>SOUTHWOOD MIA</td>\n",
       "      <td>20.41</td>\n",
       "      <td>811481246</td>\n",
       "      <td>811481246</td>\n",
       "      <td>340m</td>\n",
       "      <td>Grade 5</td>\n",
       "      <td>Gunnedah</td>\n",
       "      <td>2022-08-04</td>\n",
       "      <td>62451</td>\n",
       "      <td>S Howarth</td>\n",
       "      <td>101.0</td>\n",
       "      <td>8</td>\n",
       "      <td>8</td>\n",
       "      <td>12.25</td>\n",
       "      <td>8</td>\n",
       "      <td>0</td>\n",
       "      <td>0</td>\n",
       "      <td>0.5</td>\n",
       "      <td>-0.004942</td>\n",
       "      <td>6.0</td>\n",
       "      <td>0</td>\n",
       "      <td>0</td>\n",
       "      <td>7.0</td>\n",
       "      <td>0</td>\n",
       "      <td>...</td>\n",
       "      <td>0</td>\n",
       "      <td>0</td>\n",
       "      <td>0</td>\n",
       "      <td>0</td>\n",
       "      <td>0</td>\n",
       "      <td>0</td>\n",
       "      <td>0</td>\n",
       "      <td>0</td>\n",
       "      <td>0</td>\n",
       "      <td>0</td>\n",
       "      <td>0</td>\n",
       "      <td>0</td>\n",
       "      <td>0</td>\n",
       "      <td>0</td>\n",
       "      <td>0</td>\n",
       "      <td>0</td>\n",
       "      <td>0</td>\n",
       "      <td>0</td>\n",
       "      <td>0</td>\n",
       "      <td>0</td>\n",
       "      <td>0</td>\n",
       "      <td>2022-08-04</td>\n",
       "      <td>202203</td>\n",
       "      <td>202208</td>\n",
       "      <td>Train</td>\n",
       "    </tr>\n",
       "    <tr>\n",
       "      <th>1286</th>\n",
       "      <td>140577118</td>\n",
       "      <td>PHANTOM OWL</td>\n",
       "      <td>18.26</td>\n",
       "      <td>820706339</td>\n",
       "      <td>820706339</td>\n",
       "      <td>324m</td>\n",
       "      <td>Masters Grade 3</td>\n",
       "      <td>Richmond</td>\n",
       "      <td>2022-09-03</td>\n",
       "      <td>99649</td>\n",
       "      <td>C Pollard</td>\n",
       "      <td>18.0</td>\n",
       "      <td>8</td>\n",
       "      <td>3</td>\n",
       "      <td>4.50</td>\n",
       "      <td>3</td>\n",
       "      <td>0</td>\n",
       "      <td>1</td>\n",
       "      <td>0.5</td>\n",
       "      <td>1.559086</td>\n",
       "      <td>3.0</td>\n",
       "      <td>0</td>\n",
       "      <td>1</td>\n",
       "      <td>6.0</td>\n",
       "      <td>0</td>\n",
       "      <td>...</td>\n",
       "      <td>0</td>\n",
       "      <td>0</td>\n",
       "      <td>0</td>\n",
       "      <td>0</td>\n",
       "      <td>0</td>\n",
       "      <td>0</td>\n",
       "      <td>0</td>\n",
       "      <td>0</td>\n",
       "      <td>0</td>\n",
       "      <td>0</td>\n",
       "      <td>0</td>\n",
       "      <td>0</td>\n",
       "      <td>0</td>\n",
       "      <td>0</td>\n",
       "      <td>0</td>\n",
       "      <td>0</td>\n",
       "      <td>0</td>\n",
       "      <td>0</td>\n",
       "      <td>0</td>\n",
       "      <td>0</td>\n",
       "      <td>0</td>\n",
       "      <td>2022-09-03</td>\n",
       "      <td>202203</td>\n",
       "      <td>202209</td>\n",
       "      <td>Train</td>\n",
       "    </tr>\n",
       "    <tr>\n",
       "      <th>1555</th>\n",
       "      <td>148673258</td>\n",
       "      <td>SPEEDY MARINA</td>\n",
       "      <td>18.51</td>\n",
       "      <td>807631353</td>\n",
       "      <td>807631353</td>\n",
       "      <td>307m</td>\n",
       "      <td>Grade 5</td>\n",
       "      <td>Bathurst</td>\n",
       "      <td>2022-08-01</td>\n",
       "      <td>65928</td>\n",
       "      <td>D Lee</td>\n",
       "      <td>101.0</td>\n",
       "      <td>8</td>\n",
       "      <td>7</td>\n",
       "      <td>8.25</td>\n",
       "      <td>7</td>\n",
       "      <td>0</td>\n",
       "      <td>0</td>\n",
       "      <td>0.5</td>\n",
       "      <td>1.271594</td>\n",
       "      <td>2.0</td>\n",
       "      <td>0</td>\n",
       "      <td>1</td>\n",
       "      <td>7.0</td>\n",
       "      <td>0</td>\n",
       "      <td>...</td>\n",
       "      <td>0</td>\n",
       "      <td>0</td>\n",
       "      <td>0</td>\n",
       "      <td>0</td>\n",
       "      <td>0</td>\n",
       "      <td>0</td>\n",
       "      <td>0</td>\n",
       "      <td>0</td>\n",
       "      <td>0</td>\n",
       "      <td>0</td>\n",
       "      <td>0</td>\n",
       "      <td>0</td>\n",
       "      <td>0</td>\n",
       "      <td>0</td>\n",
       "      <td>0</td>\n",
       "      <td>0</td>\n",
       "      <td>0</td>\n",
       "      <td>0</td>\n",
       "      <td>0</td>\n",
       "      <td>0</td>\n",
       "      <td>0</td>\n",
       "      <td>2022-08-01</td>\n",
       "      <td>202203</td>\n",
       "      <td>202208</td>\n",
       "      <td>Train</td>\n",
       "    </tr>\n",
       "    <tr>\n",
       "      <th>1556</th>\n",
       "      <td>148673258</td>\n",
       "      <td>SPEEDY MARINA</td>\n",
       "      <td>19.22</td>\n",
       "      <td>820735785</td>\n",
       "      <td>820735785</td>\n",
       "      <td>318m</td>\n",
       "      <td>Grade 5</td>\n",
       "      <td>Dubbo</td>\n",
       "      <td>2022-09-03</td>\n",
       "      <td>65928</td>\n",
       "      <td>D Lee</td>\n",
       "      <td>101.0</td>\n",
       "      <td>8</td>\n",
       "      <td>7</td>\n",
       "      <td>12.25</td>\n",
       "      <td>7</td>\n",
       "      <td>0</td>\n",
       "      <td>0</td>\n",
       "      <td>0.5</td>\n",
       "      <td>0.444187</td>\n",
       "      <td>6.0</td>\n",
       "      <td>0</td>\n",
       "      <td>0</td>\n",
       "      <td>8.0</td>\n",
       "      <td>0</td>\n",
       "      <td>...</td>\n",
       "      <td>0</td>\n",
       "      <td>0</td>\n",
       "      <td>0</td>\n",
       "      <td>0</td>\n",
       "      <td>0</td>\n",
       "      <td>0</td>\n",
       "      <td>0</td>\n",
       "      <td>0</td>\n",
       "      <td>0</td>\n",
       "      <td>0</td>\n",
       "      <td>0</td>\n",
       "      <td>0</td>\n",
       "      <td>0</td>\n",
       "      <td>0</td>\n",
       "      <td>0</td>\n",
       "      <td>0</td>\n",
       "      <td>0</td>\n",
       "      <td>0</td>\n",
       "      <td>0</td>\n",
       "      <td>0</td>\n",
       "      <td>0</td>\n",
       "      <td>2022-09-03</td>\n",
       "      <td>202203</td>\n",
       "      <td>202209</td>\n",
       "      <td>Train</td>\n",
       "    </tr>\n",
       "    <tr>\n",
       "      <th>1557</th>\n",
       "      <td>148673258</td>\n",
       "      <td>SPEEDY MARINA</td>\n",
       "      <td>17.88</td>\n",
       "      <td>824820637</td>\n",
       "      <td>824820637</td>\n",
       "      <td>287m</td>\n",
       "      <td>Grade 5</td>\n",
       "      <td>Lithgow</td>\n",
       "      <td>2022-09-17</td>\n",
       "      <td>65928</td>\n",
       "      <td>D Lee</td>\n",
       "      <td>11.0</td>\n",
       "      <td>7</td>\n",
       "      <td>4</td>\n",
       "      <td>9.00</td>\n",
       "      <td>4</td>\n",
       "      <td>0</td>\n",
       "      <td>0</td>\n",
       "      <td>0.5</td>\n",
       "      <td>0.559794</td>\n",
       "      <td>5.0</td>\n",
       "      <td>0</td>\n",
       "      <td>0</td>\n",
       "      <td>5.0</td>\n",
       "      <td>0</td>\n",
       "      <td>...</td>\n",
       "      <td>0</td>\n",
       "      <td>0</td>\n",
       "      <td>0</td>\n",
       "      <td>0</td>\n",
       "      <td>0</td>\n",
       "      <td>0</td>\n",
       "      <td>0</td>\n",
       "      <td>0</td>\n",
       "      <td>0</td>\n",
       "      <td>0</td>\n",
       "      <td>0</td>\n",
       "      <td>0</td>\n",
       "      <td>0</td>\n",
       "      <td>0</td>\n",
       "      <td>0</td>\n",
       "      <td>0</td>\n",
       "      <td>0</td>\n",
       "      <td>0</td>\n",
       "      <td>0</td>\n",
       "      <td>0</td>\n",
       "      <td>0</td>\n",
       "      <td>2022-09-17</td>\n",
       "      <td>202203</td>\n",
       "      <td>202209</td>\n",
       "      <td>Train</td>\n",
       "    </tr>\n",
       "  </tbody>\n",
       "</table>\n",
       "<p>5 rows × 251 columns</p>\n",
       "</div>"
      ],
      "text/plain": [
       "        @id_DOG        DogName  y_runtime     RaceId   @id_RACE Distance        RaceGrade     Track    Event_Dt  TrainerId TrainerName  ft_sp  x_num_dogs  position  y_margin  y_pos  Winner_actual  \\\n",
       "1103  135133731  SOUTHWOOD MIA      20.41  811481246  811481246     340m          Grade 5  Gunnedah  2022-08-04      62451   S Howarth  101.0           8         8     12.25      8              0   \n",
       "1286  140577118    PHANTOM OWL      18.26  820706339  820706339     324m  Masters Grade 3  Richmond  2022-09-03      99649   C Pollard   18.0           8         3      4.50      3              0   \n",
       "1555  148673258  SPEEDY MARINA      18.51  807631353  807631353     307m          Grade 5  Bathurst  2022-08-01      65928       D Lee  101.0           8         7      8.25      7              0   \n",
       "1556  148673258  SPEEDY MARINA      19.22  820735785  820735785     318m          Grade 5     Dubbo  2022-09-03      65928       D Lee  101.0           8         7     12.25      7              0   \n",
       "1557  148673258  SPEEDY MARINA      17.88  824820637  824820637     287m          Grade 5   Lithgow  2022-09-17      65928       D Lee   11.0           7         4      9.00      4              0   \n",
       "\n",
       "      Top3_actual  rand_mean  rand_uniform  position_random  Winner_random  Top3_random  position_fasttrack  Winner_fastrack  ...  dist450  dist500  dist600  dist700  firstrace  upgrade  downgrade  \\\n",
       "1103            0        0.5     -0.004942              6.0              0            0                 7.0                0  ...        0        0        0        0          0        0          0   \n",
       "1286            1        0.5      1.559086              3.0              0            1                 6.0                0  ...        0        0        0        0          0        0          0   \n",
       "1555            0        0.5      1.271594              2.0              0            1                 7.0                0  ...        0        0        0        0          0        0          0   \n",
       "1556            0        0.5      0.444187              6.0              0            0                 8.0                0  ...        0        0        0        0          0        0          0   \n",
       "1557            0        0.5      0.559794              5.0              0            0                 5.0                0  ...        0        0        0        0          0        0          0   \n",
       "\n",
       "      upg_87  upg_76  upg_65  upg_54  upg_43  upg_32  upg_21  dng_12  dng_23  dng_34  dng_45  dng_56  dng_67  dng_78  Event_Dt_dt  yearqtr  yearmon  ttflag  \n",
       "1103       0       0       0       0       0       0       0       0       0       0       0       0       0       0   2022-08-04   202203   202208   Train  \n",
       "1286       0       0       0       0       0       0       0       0       0       0       0       0       0       0   2022-09-03   202203   202209   Train  \n",
       "1555       0       0       0       0       0       0       0       0       0       0       0       0       0       0   2022-08-01   202203   202208   Train  \n",
       "1556       0       0       0       0       0       0       0       0       0       0       0       0       0       0   2022-09-03   202203   202209   Train  \n",
       "1557       0       0       0       0       0       0       0       0       0       0       0       0       0       0   2022-09-17   202203   202209   Train  \n",
       "\n",
       "[5 rows x 251 columns]"
      ]
     },
     "execution_count": 144,
     "metadata": {},
     "output_type": "execute_result"
    }
   ],
   "source": [
    "\n",
    "df_train_raw.head()\n"
   ]
  },
  {
   "cell_type": "code",
   "execution_count": 145,
   "id": "f1c937df-099f-4d21-92b2-833669f78b29",
   "metadata": {},
   "outputs": [
    {
     "data": {
      "text/html": [
       "<div>\n",
       "<style scoped>\n",
       "    .dataframe tbody tr th:only-of-type {\n",
       "        vertical-align: middle;\n",
       "    }\n",
       "\n",
       "    .dataframe tbody tr th {\n",
       "        vertical-align: top;\n",
       "    }\n",
       "\n",
       "    .dataframe thead th {\n",
       "        text-align: right;\n",
       "    }\n",
       "</style>\n",
       "<table border=\"1\" class=\"dataframe\">\n",
       "  <thead>\n",
       "    <tr style=\"text-align: right;\">\n",
       "      <th></th>\n",
       "      <th>@id_DOG</th>\n",
       "      <th>DogName</th>\n",
       "      <th>y_runtime</th>\n",
       "      <th>RaceId</th>\n",
       "      <th>@id_RACE</th>\n",
       "      <th>Distance</th>\n",
       "      <th>RaceGrade</th>\n",
       "      <th>Track</th>\n",
       "      <th>Event_Dt</th>\n",
       "      <th>TrainerId</th>\n",
       "      <th>TrainerName</th>\n",
       "      <th>ft_sp</th>\n",
       "      <th>x_num_dogs</th>\n",
       "      <th>position</th>\n",
       "      <th>y_margin</th>\n",
       "      <th>y_pos</th>\n",
       "      <th>Winner_actual</th>\n",
       "      <th>Top3_actual</th>\n",
       "      <th>rand_mean</th>\n",
       "      <th>rand_uniform</th>\n",
       "      <th>position_random</th>\n",
       "      <th>Winner_random</th>\n",
       "      <th>Top3_random</th>\n",
       "      <th>position_fasttrack</th>\n",
       "      <th>Winner_fastrack</th>\n",
       "      <th>...</th>\n",
       "      <th>dist450</th>\n",
       "      <th>dist500</th>\n",
       "      <th>dist600</th>\n",
       "      <th>dist700</th>\n",
       "      <th>firstrace</th>\n",
       "      <th>upgrade</th>\n",
       "      <th>downgrade</th>\n",
       "      <th>upg_87</th>\n",
       "      <th>upg_76</th>\n",
       "      <th>upg_65</th>\n",
       "      <th>upg_54</th>\n",
       "      <th>upg_43</th>\n",
       "      <th>upg_32</th>\n",
       "      <th>upg_21</th>\n",
       "      <th>dng_12</th>\n",
       "      <th>dng_23</th>\n",
       "      <th>dng_34</th>\n",
       "      <th>dng_45</th>\n",
       "      <th>dng_56</th>\n",
       "      <th>dng_67</th>\n",
       "      <th>dng_78</th>\n",
       "      <th>Event_Dt_dt</th>\n",
       "      <th>yearqtr</th>\n",
       "      <th>yearmon</th>\n",
       "      <th>ttflag</th>\n",
       "    </tr>\n",
       "  </thead>\n",
       "  <tbody>\n",
       "    <tr>\n",
       "      <th>1563</th>\n",
       "      <td>148673258</td>\n",
       "      <td>SPEEDY MARINA</td>\n",
       "      <td>17.36</td>\n",
       "      <td>882009425</td>\n",
       "      <td>882009425</td>\n",
       "      <td>287m</td>\n",
       "      <td>Mixed 4/5</td>\n",
       "      <td>Lithgow</td>\n",
       "      <td>2023-04-01</td>\n",
       "      <td>65928</td>\n",
       "      <td>D Lee</td>\n",
       "      <td>8.0</td>\n",
       "      <td>6</td>\n",
       "      <td>4</td>\n",
       "      <td>6.00</td>\n",
       "      <td>4</td>\n",
       "      <td>0</td>\n",
       "      <td>0</td>\n",
       "      <td>0.5</td>\n",
       "      <td>0.968999</td>\n",
       "      <td>1.0</td>\n",
       "      <td>1</td>\n",
       "      <td>1</td>\n",
       "      <td>4.0</td>\n",
       "      <td>0</td>\n",
       "      <td>...</td>\n",
       "      <td>0</td>\n",
       "      <td>0</td>\n",
       "      <td>0</td>\n",
       "      <td>0</td>\n",
       "      <td>0</td>\n",
       "      <td>1</td>\n",
       "      <td>0</td>\n",
       "      <td>0</td>\n",
       "      <td>0</td>\n",
       "      <td>0</td>\n",
       "      <td>1</td>\n",
       "      <td>0</td>\n",
       "      <td>0</td>\n",
       "      <td>0</td>\n",
       "      <td>0</td>\n",
       "      <td>0</td>\n",
       "      <td>0</td>\n",
       "      <td>0</td>\n",
       "      <td>0</td>\n",
       "      <td>0</td>\n",
       "      <td>0</td>\n",
       "      <td>2023-04-01</td>\n",
       "      <td>202302</td>\n",
       "      <td>202304</td>\n",
       "      <td>Test</td>\n",
       "    </tr>\n",
       "    <tr>\n",
       "      <th>1564</th>\n",
       "      <td>148673258</td>\n",
       "      <td>SPEEDY MARINA</td>\n",
       "      <td>18.27</td>\n",
       "      <td>892812561</td>\n",
       "      <td>892812561</td>\n",
       "      <td>287m</td>\n",
       "      <td>Mixed 4/5</td>\n",
       "      <td>Lithgow</td>\n",
       "      <td>2023-04-22</td>\n",
       "      <td>65928</td>\n",
       "      <td>D Lee</td>\n",
       "      <td>13.0</td>\n",
       "      <td>7</td>\n",
       "      <td>7</td>\n",
       "      <td>22.50</td>\n",
       "      <td>7</td>\n",
       "      <td>0</td>\n",
       "      <td>0</td>\n",
       "      <td>0.5</td>\n",
       "      <td>0.614731</td>\n",
       "      <td>4.0</td>\n",
       "      <td>0</td>\n",
       "      <td>0</td>\n",
       "      <td>6.0</td>\n",
       "      <td>0</td>\n",
       "      <td>...</td>\n",
       "      <td>0</td>\n",
       "      <td>0</td>\n",
       "      <td>0</td>\n",
       "      <td>0</td>\n",
       "      <td>0</td>\n",
       "      <td>0</td>\n",
       "      <td>0</td>\n",
       "      <td>0</td>\n",
       "      <td>0</td>\n",
       "      <td>0</td>\n",
       "      <td>0</td>\n",
       "      <td>0</td>\n",
       "      <td>0</td>\n",
       "      <td>0</td>\n",
       "      <td>0</td>\n",
       "      <td>0</td>\n",
       "      <td>0</td>\n",
       "      <td>0</td>\n",
       "      <td>0</td>\n",
       "      <td>0</td>\n",
       "      <td>0</td>\n",
       "      <td>2023-04-22</td>\n",
       "      <td>202302</td>\n",
       "      <td>202304</td>\n",
       "      <td>Test</td>\n",
       "    </tr>\n",
       "    <tr>\n",
       "      <th>1565</th>\n",
       "      <td>148673258</td>\n",
       "      <td>SPEEDY MARINA</td>\n",
       "      <td>17.79</td>\n",
       "      <td>894753244</td>\n",
       "      <td>894753244</td>\n",
       "      <td>287m</td>\n",
       "      <td>Mixed 4/5</td>\n",
       "      <td>Lithgow</td>\n",
       "      <td>2023-05-06</td>\n",
       "      <td>65928</td>\n",
       "      <td>D Lee</td>\n",
       "      <td>11.0</td>\n",
       "      <td>6</td>\n",
       "      <td>6</td>\n",
       "      <td>11.75</td>\n",
       "      <td>6</td>\n",
       "      <td>0</td>\n",
       "      <td>0</td>\n",
       "      <td>0.5</td>\n",
       "      <td>1.741346</td>\n",
       "      <td>1.0</td>\n",
       "      <td>1</td>\n",
       "      <td>1</td>\n",
       "      <td>4.0</td>\n",
       "      <td>0</td>\n",
       "      <td>...</td>\n",
       "      <td>0</td>\n",
       "      <td>0</td>\n",
       "      <td>0</td>\n",
       "      <td>0</td>\n",
       "      <td>0</td>\n",
       "      <td>0</td>\n",
       "      <td>1</td>\n",
       "      <td>0</td>\n",
       "      <td>0</td>\n",
       "      <td>0</td>\n",
       "      <td>0</td>\n",
       "      <td>0</td>\n",
       "      <td>0</td>\n",
       "      <td>0</td>\n",
       "      <td>0</td>\n",
       "      <td>0</td>\n",
       "      <td>0</td>\n",
       "      <td>1</td>\n",
       "      <td>0</td>\n",
       "      <td>0</td>\n",
       "      <td>0</td>\n",
       "      <td>2023-05-06</td>\n",
       "      <td>202302</td>\n",
       "      <td>202305</td>\n",
       "      <td>Test</td>\n",
       "    </tr>\n",
       "    <tr>\n",
       "      <th>2245</th>\n",
       "      <td>161977365</td>\n",
       "      <td>FILTHY PHANTOM</td>\n",
       "      <td>23.05</td>\n",
       "      <td>886871234</td>\n",
       "      <td>886871234</td>\n",
       "      <td>400m</td>\n",
       "      <td>Masters</td>\n",
       "      <td>Gawler</td>\n",
       "      <td>2023-04-05</td>\n",
       "      <td>110385</td>\n",
       "      <td>T Hinrichsen</td>\n",
       "      <td>13.0</td>\n",
       "      <td>7</td>\n",
       "      <td>4</td>\n",
       "      <td>5.25</td>\n",
       "      <td>4</td>\n",
       "      <td>0</td>\n",
       "      <td>0</td>\n",
       "      <td>0.5</td>\n",
       "      <td>0.838220</td>\n",
       "      <td>3.0</td>\n",
       "      <td>0</td>\n",
       "      <td>1</td>\n",
       "      <td>4.0</td>\n",
       "      <td>0</td>\n",
       "      <td>...</td>\n",
       "      <td>0</td>\n",
       "      <td>0</td>\n",
       "      <td>0</td>\n",
       "      <td>0</td>\n",
       "      <td>0</td>\n",
       "      <td>0</td>\n",
       "      <td>0</td>\n",
       "      <td>0</td>\n",
       "      <td>0</td>\n",
       "      <td>0</td>\n",
       "      <td>0</td>\n",
       "      <td>0</td>\n",
       "      <td>0</td>\n",
       "      <td>0</td>\n",
       "      <td>0</td>\n",
       "      <td>0</td>\n",
       "      <td>0</td>\n",
       "      <td>0</td>\n",
       "      <td>0</td>\n",
       "      <td>0</td>\n",
       "      <td>0</td>\n",
       "      <td>2023-04-05</td>\n",
       "      <td>202302</td>\n",
       "      <td>202304</td>\n",
       "      <td>Test</td>\n",
       "    </tr>\n",
       "    <tr>\n",
       "      <th>2246</th>\n",
       "      <td>161977365</td>\n",
       "      <td>FILTHY PHANTOM</td>\n",
       "      <td>23.67</td>\n",
       "      <td>888327609</td>\n",
       "      <td>888327609</td>\n",
       "      <td>400m</td>\n",
       "      <td>Masters</td>\n",
       "      <td>Gawler</td>\n",
       "      <td>2023-04-09</td>\n",
       "      <td>110385</td>\n",
       "      <td>T Hinrichsen</td>\n",
       "      <td>26.0</td>\n",
       "      <td>8</td>\n",
       "      <td>8</td>\n",
       "      <td>7.50</td>\n",
       "      <td>8</td>\n",
       "      <td>0</td>\n",
       "      <td>0</td>\n",
       "      <td>0.5</td>\n",
       "      <td>0.026496</td>\n",
       "      <td>6.0</td>\n",
       "      <td>0</td>\n",
       "      <td>0</td>\n",
       "      <td>7.0</td>\n",
       "      <td>0</td>\n",
       "      <td>...</td>\n",
       "      <td>0</td>\n",
       "      <td>0</td>\n",
       "      <td>0</td>\n",
       "      <td>0</td>\n",
       "      <td>0</td>\n",
       "      <td>0</td>\n",
       "      <td>0</td>\n",
       "      <td>0</td>\n",
       "      <td>0</td>\n",
       "      <td>0</td>\n",
       "      <td>0</td>\n",
       "      <td>0</td>\n",
       "      <td>0</td>\n",
       "      <td>0</td>\n",
       "      <td>0</td>\n",
       "      <td>0</td>\n",
       "      <td>0</td>\n",
       "      <td>0</td>\n",
       "      <td>0</td>\n",
       "      <td>0</td>\n",
       "      <td>0</td>\n",
       "      <td>2023-04-09</td>\n",
       "      <td>202302</td>\n",
       "      <td>202304</td>\n",
       "      <td>Test</td>\n",
       "    </tr>\n",
       "  </tbody>\n",
       "</table>\n",
       "<p>5 rows × 251 columns</p>\n",
       "</div>"
      ],
      "text/plain": [
       "        @id_DOG         DogName  y_runtime     RaceId   @id_RACE Distance  RaceGrade    Track    Event_Dt  TrainerId   TrainerName  ft_sp  x_num_dogs  position  y_margin  y_pos  Winner_actual  \\\n",
       "1563  148673258   SPEEDY MARINA      17.36  882009425  882009425     287m  Mixed 4/5  Lithgow  2023-04-01      65928         D Lee    8.0           6         4      6.00      4              0   \n",
       "1564  148673258   SPEEDY MARINA      18.27  892812561  892812561     287m  Mixed 4/5  Lithgow  2023-04-22      65928         D Lee   13.0           7         7     22.50      7              0   \n",
       "1565  148673258   SPEEDY MARINA      17.79  894753244  894753244     287m  Mixed 4/5  Lithgow  2023-05-06      65928         D Lee   11.0           6         6     11.75      6              0   \n",
       "2245  161977365  FILTHY PHANTOM      23.05  886871234  886871234     400m    Masters   Gawler  2023-04-05     110385  T Hinrichsen   13.0           7         4      5.25      4              0   \n",
       "2246  161977365  FILTHY PHANTOM      23.67  888327609  888327609     400m    Masters   Gawler  2023-04-09     110385  T Hinrichsen   26.0           8         8      7.50      8              0   \n",
       "\n",
       "      Top3_actual  rand_mean  rand_uniform  position_random  Winner_random  Top3_random  position_fasttrack  Winner_fastrack  ...  dist450  dist500  dist600  dist700  firstrace  upgrade  downgrade  \\\n",
       "1563            0        0.5      0.968999              1.0              1            1                 4.0                0  ...        0        0        0        0          0        1          0   \n",
       "1564            0        0.5      0.614731              4.0              0            0                 6.0                0  ...        0        0        0        0          0        0          0   \n",
       "1565            0        0.5      1.741346              1.0              1            1                 4.0                0  ...        0        0        0        0          0        0          1   \n",
       "2245            0        0.5      0.838220              3.0              0            1                 4.0                0  ...        0        0        0        0          0        0          0   \n",
       "2246            0        0.5      0.026496              6.0              0            0                 7.0                0  ...        0        0        0        0          0        0          0   \n",
       "\n",
       "      upg_87  upg_76  upg_65  upg_54  upg_43  upg_32  upg_21  dng_12  dng_23  dng_34  dng_45  dng_56  dng_67  dng_78  Event_Dt_dt  yearqtr  yearmon  ttflag  \n",
       "1563       0       0       0       1       0       0       0       0       0       0       0       0       0       0   2023-04-01   202302   202304    Test  \n",
       "1564       0       0       0       0       0       0       0       0       0       0       0       0       0       0   2023-04-22   202302   202304    Test  \n",
       "1565       0       0       0       0       0       0       0       0       0       0       1       0       0       0   2023-05-06   202302   202305    Test  \n",
       "2245       0       0       0       0       0       0       0       0       0       0       0       0       0       0   2023-04-05   202302   202304    Test  \n",
       "2246       0       0       0       0       0       0       0       0       0       0       0       0       0       0   2023-04-09   202302   202304    Test  \n",
       "\n",
       "[5 rows x 251 columns]"
      ]
     },
     "execution_count": 145,
     "metadata": {},
     "output_type": "execute_result"
    }
   ],
   "source": [
    "\n",
    "df_test_raw.head()\n"
   ]
  },
  {
   "cell_type": "code",
   "execution_count": null,
   "id": "24dd1371-7552-4cde-8098-fab1642658c0",
   "metadata": {},
   "outputs": [],
   "source": []
  },
  {
   "cell_type": "code",
   "execution_count": 146,
   "id": "ebbea28f-9995-4524-93a6-ebfc99c998de",
   "metadata": {},
   "outputs": [
    {
     "name": "stdout",
     "output_type": "stream",
     "text": [
      "\n",
      "2023-07-07 10:33:54.348641\n",
      "\n",
      "x train : (209430, 126), x_test : (32897, 126), y_train : (209430,), y_test : (32897,)\n",
      "\n"
     ]
    }
   ],
   "source": [
    "\n",
    "# BASED ON DATES\n",
    "\n",
    "x_train = df_train_raw[features_all].values\n",
    "x_test = df_test_raw[features_all].values\n",
    "\n",
    "y_train = df_train_raw[label].values\n",
    "y_test = df_test_raw[label].values\n",
    "\n",
    "print()\n",
    "print(datetime.now())\n",
    "print()\n",
    "\n",
    "print(f\"x train : {x_train.shape}, x_test : {x_test.shape}, y_train : {y_train.shape}, y_test : {y_test.shape}\")\n",
    "\n",
    "print()\n",
    "\n"
   ]
  },
  {
   "cell_type": "code",
   "execution_count": 147,
   "id": "ad959b6c-5dbb-4e39-ab53-8d4be19fef37",
   "metadata": {},
   "outputs": [
    {
     "name": "stdout",
     "output_type": "stream",
     "text": [
      "Train    209430\n",
      "Name: ttflag, dtype: int64\n",
      "Test    32897\n",
      "Name: ttflag, dtype: int64\n"
     ]
    }
   ],
   "source": [
    "\n",
    "print(df_train_raw.ttflag.value_counts())\n",
    "print(df_test_raw.ttflag.value_counts())\n"
   ]
  },
  {
   "cell_type": "code",
   "execution_count": 148,
   "id": "a1229f6e-685e-4650-9b95-182a2981553b",
   "metadata": {},
   "outputs": [
    {
     "name": "stdout",
     "output_type": "stream",
     "text": [
      "Training Set: 209430, Test Set: 32897 \n",
      "\n",
      "Sample of features and labels:\n",
      "[ 0.         -1.04850321  0.          0.          0.          1.47799094\n",
      "  1.55784684  0.40933262 -0.53983725  0.50109254 -0.99911933  0.38981889\n",
      " -0.17893948  0.01342568 -0.79907041 -0.65602374  0.57749556 -0.21459877\n",
      "  0.05092624  0.0283775  -0.15265812 -0.44462748 -0.76632129  0.19831278\n",
      " -1.10253075  0.          0.40011355 -0.35355339 -0.47434082 -0.75168651\n",
      " -0.60826802  0.         -0.59227849  0.          0.22975171 -0.42708841\n",
      "  0.12146543  0.          0.26721542  0.         -0.75678747 -0.41480554\n",
      "  0.          1.36533162 -0.75803451 -0.41166297 -0.85644702 -0.54006172\n",
      " -0.27739791  0.         -0.48900694  0.          0.25845029  0.24488156\n",
      " -0.35355339 -0.76036425 -1.07089934 -0.66457809  0.21124421 -0.09007265\n",
      " -0.42579741 -0.45240264  0.          1.20761473  1.08357758  0.\n",
      " -0.58486042  1.36533162 -1.25625447 -0.21459877  1.47555953 -1.45743948\n",
      "  0.         -0.84002688  1.12422987  0.01025611 -0.60987535  0.08712752\n",
      "  1.09754586  0.94958121  0.          0.83657627  0.         -0.5097564\n",
      "  0.53068766  1.01253131  2.88124883  0.48605338  0.05092624  0.47831637\n",
      " -0.64764448  0.5583759  -0.29673273 -0.35355339  0.05578016  0.15648578\n",
      " -1.54899439  0.93808112 -0.54006172  1.         -0.4258778   0.\n",
      "  0.71422626  1.20761473 -0.15903827  0.29527176  1.42142126  0.51532087\n",
      "  0.76345687 -0.60822168  0.83324647 -0.39009475 -0.05904421  0.72456884\n",
      "  0.83666003 -0.54006172 -0.75425673 -1.07089934  1.44590591 -0.13262214\n",
      "  0.23195366  0.01060334 -1.10253075  0.92627715  0.08384099 -0.08574929] 2.5\n",
      "[ 0.         -0.8660254   0.          0.          0.          1.45243441\n",
      "  1.73719807  0.54179523 -0.57540624  0.45364051 -1.14589263  0.38981889\n",
      " -0.17893948 -0.26302348  0.1268723  -0.65602374  0.78518515 -0.58554004\n",
      "  0.10704433  0.15397749 -0.61045742 -0.4631775  -0.67284196  0.20015609\n",
      " -0.85546524  0.          0.40011355  0.         -0.47434082 -0.75168651\n",
      " -0.6055205   0.         -0.59227849  0.          0.22975171 -0.42708841\n",
      " -0.10113728  0.          0.26721542  0.         -0.70357701 -0.80071717\n",
      "  0.          0.43915503 -0.75803451 -0.75911311 -0.85644702 -0.54470478\n",
      " -0.32801578  0.         -0.88277587  0.          0.25845029  0.65265152\n",
      " -0.37796447 -0.67949422 -0.38729833 -0.66457809  0.21124421 -0.09007265\n",
      " -0.4567847  -0.58611634  0.          0.80178373  1.08357758  0.\n",
      " -0.58486042  0.43915503 -1.25625447 -0.58554004  0.01277668 -1.45743948\n",
      "  0.         -1.06904497  1.1235702  -0.86620786 -0.60987535  0.05900146\n",
      "  1.09754586  1.42120352  0.          0.63627521  0.         -0.5097564\n",
      "  0.42135943  0.39383544  2.05428585  0.40994441  0.10704433  0.08967204\n",
      " -0.64764448  0.5583759  -0.80682725 -0.58554004  0.23674098  0.15648578\n",
      " -0.59589851  0.93808112 -0.37796447  0.         -0.4258778   1.\n",
      "  0.71422626  0.80178373 -0.22471105  0.26239981  1.42142126  0.51532087\n",
      "  0.76345687 -0.60547422  1.28684792  0.94491118 -0.72252173 -0.80178373\n",
      "  1.73205081 -0.54470478 -0.75425673 -0.38729833 -0.6424146  -0.156966\n",
      "  0.17790935 -0.16165101 -0.85546524  1.37303195  0.31645412 -0.69952069] 12.75\n"
     ]
    }
   ],
   "source": [
    "\n",
    "print ('Training Set: %d, Test Set: %d \\n' % (len(x_train), len(x_test)))\n",
    "print(\"Sample of features and labels:\")\n",
    "\n",
    "# Take a look at the first 25 training features and corresponding labels\n",
    "for n in range(10000,10002):\n",
    "    print(x_train[n], y_train[n])\n",
    "\n"
   ]
  },
  {
   "cell_type": "code",
   "execution_count": 149,
   "id": "1568d9d1-de2e-4925-9a83-bfbe8150dc14",
   "metadata": {},
   "outputs": [
    {
     "data": {
      "text/plain": [
       "<matplotlib.axes._subplots.AxesSubplot at 0x7fc2442f0c10>"
      ]
     },
     "execution_count": 149,
     "metadata": {},
     "output_type": "execute_result"
    },
    {
     "data": {
      "image/png": "[encoded data removed]",
      "text/plain": [
       "<Figure size 1728x576 with 1 Axes>"
      ]
     },
     "metadata": {
      "needs_background": "light"
     },
     "output_type": "display_data"
    }
   ],
   "source": [
    "\n",
    "# Fix the Margin variables - is the same for 1 and 2\n",
    "#df_train_raw['y_margin'] = df_base.apply(lambda x : 0 if x.position == '1' else 27 if x.Margin1 > 27 else x.Margin1, axis = 1) # capping at 99%ile of Margin1\n",
    "\n",
    "df_train_raw['y_margin'].plot(kind = 'density', figsize = (24,8))\n"
   ]
  },
  {
   "cell_type": "code",
   "execution_count": 150,
   "id": "3dc21a2a-4ab8-4d15-a4c8-44ac31946009",
   "metadata": {},
   "outputs": [
    {
     "data": {
      "text/plain": [
       "<matplotlib.axes._subplots.AxesSubplot at 0x7fc22859b160>"
      ]
     },
     "execution_count": 150,
     "metadata": {},
     "output_type": "execute_result"
    },
    {
     "data": {
      "image/png": "[encoded data removed]",
      "text/plain": [
       "<Figure size 1728x576 with 1 Axes>"
      ]
     },
     "metadata": {
      "needs_background": "light"
     },
     "output_type": "display_data"
    }
   ],
   "source": [
    "\n",
    "# Fix the Margin variables - is the same for 1 and 2\n",
    "#df_train_raw['y_margin'] = df_base.apply(lambda x : 0 if x.position == '1' else 27 if x.Margin1 > 27 else x.Margin1, axis = 1) # capping at 99%ile of Margin1\n",
    "\n",
    "df_test_raw['y_margin'].plot(kind = 'density', figsize = (24,8))\n"
   ]
  },
  {
   "cell_type": "code",
   "execution_count": 151,
   "id": "5ab50929-0224-4378-bd83-a3d1d194c8a3",
   "metadata": {
    "tags": []
   },
   "outputs": [],
   "source": [
    "#!pip install --upgrade tensorflow"
   ]
  },
  {
   "cell_type": "code",
   "execution_count": 152,
   "id": "a372f4c9-fc80-411b-ad26-91ca01826b07",
   "metadata": {
    "tags": []
   },
   "outputs": [],
   "source": [
    "#!pip3 install keras --upgrade"
   ]
  },
  {
   "cell_type": "code",
   "execution_count": 153,
   "id": "2e908e73-0ac7-4b19-8bd6-fcb03a2a4911",
   "metadata": {},
   "outputs": [
    {
     "name": "stdout",
     "output_type": "stream",
     "text": [
      "2023-07-07 16:03:58.165474+05:30\n"
     ]
    }
   ],
   "source": [
    "\n",
    "import tensorflow as tf\n",
    "from tensorflow import keras\n",
    "\n",
    "from tensorflow.keras import layers\n",
    "from tensorflow.keras import models\n",
    "from tensorflow.keras.models import Sequential\n",
    "from tensorflow.keras.layers import Dense\n",
    "\n",
    "from tensorflow.keras import utils\n",
    "from tensorflow.keras import optimizers\n",
    "\n",
    "# Set random seed for reproducability\n",
    "tf.random.set_seed(seed)\n",
    "\n",
    "print(datetime.now(local_tz))\n"
   ]
  },
  {
   "cell_type": "code",
   "execution_count": 154,
   "id": "33b34100-ed5f-4b26-946a-0b446a3b64cf",
   "metadata": {},
   "outputs": [
    {
     "name": "stdout",
     "output_type": "stream",
     "text": [
      "Libraries imported.\n",
      "Keras version: 2.3.0-tf\n",
      "TensorFlow version: 2.2.0\n",
      "2023-07-07 16:03:58.174525+05:30\n"
     ]
    }
   ],
   "source": [
    "\n",
    "print(\"Libraries imported.\")\n",
    "print('Keras version:',keras.__version__)\n",
    "print('TensorFlow version:',tf.__version__)\n",
    "\n",
    "print(datetime.now(local_tz))\n"
   ]
  },
  {
   "cell_type": "code",
   "execution_count": 155,
   "id": "7280d516-12a7-4475-bb80-23d01676e7f7",
   "metadata": {
    "tags": []
   },
   "outputs": [
    {
     "data": {
      "text/plain": [
       "\"\\n#normalizer = tf.keras.layers.Normalization(axis=-1)\\nnormalizer = tf.keras.layers.experimental.preprocessing.Normalization(axis=-1)\\n\\n#normalizer.adapt(np.array(train_features))\\nnormalizer.adapt(np.array(x_train))\\n\\nprint(normalizer.mean.numpy())\\nprint()\\n\\nfirst = np.array(train_features[:1])\\n\\nwith np.printoptions(precision=2, suppress=True):\\n  print('First example:', first)\\n  print()\\n  print('Normalized:', normalizer(first).numpy())\\n\""
      ]
     },
     "execution_count": 155,
     "metadata": {},
     "output_type": "execute_result"
    }
   ],
   "source": [
    "\n",
    "# Creating Feature Normalisation\n",
    "\n",
    "\"\"\"\n",
    "#normalizer = tf.keras.layers.Normalization(axis=-1)\n",
    "normalizer = tf.keras.layers.experimental.preprocessing.Normalization(axis=-1)\n",
    "\n",
    "#normalizer.adapt(np.array(train_features))\n",
    "normalizer.adapt(np.array(x_train))\n",
    "\n",
    "print(normalizer.mean.numpy())\n",
    "print()\n",
    "\n",
    "first = np.array(train_features[:1])\n",
    "\n",
    "with np.printoptions(precision=2, suppress=True):\n",
    "  print('First example:', first)\n",
    "  print()\n",
    "  print('Normalized:', normalizer(first).numpy())\n",
    "\"\"\"\n"
   ]
  },
  {
   "cell_type": "code",
   "execution_count": 156,
   "id": "776a2dfe-2d1f-47f0-9f9e-229fc9e91f4f",
   "metadata": {},
   "outputs": [
    {
     "data": {
      "text/plain": [
       "'\\ndef custom_loss(X1,X2):\\n    def loss(y_true,y_pred):\\n        # I don\\'t have any values for y_true\\n        z = tf.math.add(X1,tf.math.multiply(X2,X2))\\n        return tf.math.square(tf.math.subtract(z,y_pred))\\n        # The \"loss\" should be [(X1+X2^2)-y_pred]^2\\n    return loss\\n    \\ndef mean_weighted_bce_mse(y_true, y_prediction):\\n    # Binary crossentropy with weighting\\n    epsilon = 1e-12\\n    positive_weight = 4.108897148948174\\n    loss_positive = y_true * tf.math.log(y_prediction + epsilon)\\n    loss_negative = (1 - y_true) * tf.math.log(1 - y_prediction + epsilon)\\n    bce_loss = np.mean(tf.math.negative(positive_weight * loss_positive + loss_negative))\\n    \\n    # Mean squared error\\n    mse = tf.keras.losses.MeanSquaredError()\\n    mse_loss = mse(y_true, y_prediction)\\n \\n    averaged_bce_mse = (bce_loss + mse_loss) / 2\\n    return tf.math.reduce_mean(averaged_bce_mse, axis=-1)\\n\\n\\n'"
      ]
     },
     "execution_count": 156,
     "metadata": {},
     "output_type": "execute_result"
    }
   ],
   "source": [
    "\n",
    "\"\"\"\n",
    "def custom_loss(X1,X2):\n",
    "    def loss(y_true,y_pred):\n",
    "        # I don't have any values for y_true\n",
    "        z = tf.math.add(X1,tf.math.multiply(X2,X2))\n",
    "        return tf.math.square(tf.math.subtract(z,y_pred))\n",
    "        # The \"loss\" should be [(X1+X2^2)-y_pred]^2\n",
    "    return loss\n",
    "    \n",
    "def mean_weighted_bce_mse(y_true, y_prediction):\n",
    "    # Binary crossentropy with weighting\n",
    "    epsilon = 1e-12\n",
    "    positive_weight = 4.108897148948174\n",
    "    loss_positive = y_true * tf.math.log(y_prediction + epsilon)\n",
    "    loss_negative = (1 - y_true) * tf.math.log(1 - y_prediction + epsilon)\n",
    "    bce_loss = np.mean(tf.math.negative(positive_weight * loss_positive + loss_negative))\n",
    "    \n",
    "    # Mean squared error\n",
    "    mse = tf.keras.losses.MeanSquaredError()\n",
    "    mse_loss = mse(y_true, y_prediction)\n",
    " \n",
    "    averaged_bce_mse = (bce_loss + mse_loss) / 2\n",
    "    return tf.math.reduce_mean(averaged_bce_mse, axis=-1)\n",
    "\n",
    "\n",
    "\"\"\"\n"
   ]
  },
  {
   "cell_type": "code",
   "execution_count": 157,
   "id": "66743380-9d75-4ff1-97f7-1f9791b232bf",
   "metadata": {},
   "outputs": [],
   "source": [
    "\n",
    "def rmse(y_true, y_pred):\n",
    "    return K.sqrt( K.mean( K.square(y_pred - y_true) ) )\n",
    "\n",
    "# The y_margin was capped at 27 (99%ile)\n",
    "def race_loss(y_true, y_pred):\n",
    "    from tensorflow.keras import backend as K\n",
    "    race_loss = K.abs(y_true - y_pred) / (1 + y_true)\n",
    "    return race_loss\n",
    "\n",
    "def race_loss_fv1(y_true, y_pred):\n",
    "    from tensorflow.keras import backend as K\n",
    "    weight_factor = K.abs(1 - K.clip(y_true, 0, 27) / 27)\n",
    "    #race_loss = K.abs(y_true - y_pred)/( 1 + y_true)\n",
    "    #race_loss = weight_factor * K.abs(K.clip(y_true, 0, 27) - K.clip(y_pred, 0, 27))\n",
    "    race_loss = weight_factor * K.abs(y_true - y_pred)\n",
    "    return race_loss\n"
   ]
  },
  {
   "cell_type": "code",
   "execution_count": 158,
   "id": "d403ff6d-b981-403d-ae4b-4193e76f78aa",
   "metadata": {},
   "outputs": [],
   "source": [
    "\n",
    "from tensorflow.keras.optimizers import Adam, SGD\n",
    "from tensorflow.keras import backend as K\n",
    "from tensorflow.keras.losses import MeanAbsoluteError, MeanSquaredError\n"
   ]
  },
  {
   "cell_type": "code",
   "execution_count": 159,
   "id": "ea5d0d18-e3a3-450c-a871-916a87636795",
   "metadata": {},
   "outputs": [],
   "source": [
    "\n",
    "import numpy as np \n",
    "from tensorflow import keras\n",
    "from matplotlib import pyplot as plt\n",
    "from IPython.display import clear_output\n",
    "\n",
    "class PlotLearning(keras.callbacks.Callback):\n",
    "    \"\"\"\n",
    "    Callback to plot the learning curves of the model during training.\n",
    "    \"\"\"\n",
    "    def on_train_begin(self, logs={}):\n",
    "        self.metrics = {}\n",
    "        for metric in logs:\n",
    "            self.metrics[metric] = []\n",
    "            \n",
    "\n",
    "    def on_epoch_end(self, epoch, logs={}):\n",
    "        # Storing metrics\n",
    "        for metric in logs:\n",
    "            if metric in self.metrics:\n",
    "                self.metrics[metric].append(logs.get(metric))\n",
    "            else:\n",
    "                self.metrics[metric] = [logs.get(metric)]\n",
    "        \n",
    "        # Plotting\n",
    "        metrics = [x for x in logs if 'val' not in x]\n",
    "        \n",
    "        f, axs = plt.subplots(1, len(metrics), figsize=(15,5))\n",
    "        clear_output(wait=True)\n",
    "\n",
    "        for i, metric in enumerate(metrics):\n",
    "            axs[i].plot(range(1, epoch + 2), \n",
    "                        self.metrics[metric], \n",
    "                        label=metric)\n",
    "            if logs['val_' + metric]:\n",
    "                axs[i].plot(range(1, epoch + 2),\n",
    "                            self.metrics['val_' + metric],\n",
    "                            label='val_' + metric)\n",
    "                \n",
    "            axs[i].legend()\n",
    "            axs[i].grid()\n",
    "\n",
    "        plt.tight_layout()\n",
    "        plt.show()\n",
    "        \n"
   ]
  },
  {
   "cell_type": "code",
   "execution_count": 160,
   "id": "a5c02ccd-2723-438b-af20-a3af96f1d8ab",
   "metadata": {},
   "outputs": [
    {
     "name": "stdout",
     "output_type": "stream",
     "text": [
      "2023-07-07 16:03:58.233056+05:30\n"
     ]
    }
   ],
   "source": [
    "\n",
    "print(datetime.now(local_tz))\n"
   ]
  },
  {
   "cell_type": "code",
   "execution_count": 161,
   "id": "867f73fa-1db3-467b-bb60-d2f1d337c42b",
   "metadata": {},
   "outputs": [
    {
     "name": "stdout",
     "output_type": "stream",
     "text": [
      "Number of Features are 126\n"
     ]
    }
   ],
   "source": [
    "\n",
    "TRAIN_FEATURES = x_train.shape[1]\n",
    "print(f'Number of Features are {TRAIN_FEATURES}')\n"
   ]
  },
  {
   "cell_type": "code",
   "execution_count": 162,
   "id": "e9a8db34-282c-463b-be3d-ff366947e7c8",
   "metadata": {},
   "outputs": [
    {
     "data": {
      "image/png": "[encoded data removed]",
      "text/plain": [
       "<Figure size 1080x360 with 2 Axes>"
      ]
     },
     "metadata": {
      "needs_background": "light"
     },
     "output_type": "display_data"
    },
    {
     "name": "stdout",
     "output_type": "stream",
     "text": [
      "6545/6545 [==============================] - 11s 2ms/step - loss: 2.1915 - race_loss_fv1: 2.1915 - val_loss: 2.2298 - val_race_loss_fv1: 2.2298 - lr: 6.0653e-04\n"
     ]
    },
    {
     "data": {
      "text/plain": [
       "<tensorflow.python.keras.callbacks.History at 0x7fc2287f0c70>"
      ]
     },
     "execution_count": 162,
     "metadata": {},
     "output_type": "execute_result"
    }
   ],
   "source": [
    "\n",
    "mid = int(time.time()/60)\n",
    "print(f'{mid} is the modelid for the current model')\n",
    "print()\n",
    "print()\n",
    "\n",
    "\n",
    "from tensorflow.keras.layers import BatchNormalization\n",
    "from tensorflow.keras.callbacks import EarlyStopping, LearningRateScheduler\n",
    "from tensorflow.keras.layers import Dropout\n",
    "\n",
    "try:\n",
    "    del model_hyperopt_v2\n",
    "except NameError:\n",
    "    pass\n",
    "\n",
    "#print(datetime.now(local_tz))\n",
    "#print()\n",
    "callbacks_list = [PlotLearning(), EarlyStopping(patience=3)]\n",
    "\n",
    "def create_model():\n",
    "    from tensorflow.keras.layers import Input\n",
    "    model = Sequential([\n",
    "        Input(shape=(TRAIN_FEATURES,)),  # add your input dimension here\n",
    "        Dense(128, activation='relu'),\n",
    "        BatchNormalization(),\n",
    "        #Dropout(0.05),  # adding dropout for regularization\n",
    "        \n",
    "        Dense(256, activation='relu'),\n",
    "        BatchNormalization(),\n",
    "        #Dropout(0.05),  # adding dropout for regularization\n",
    "        \n",
    "        Dense(128, activation='relu'),\n",
    "        BatchNormalization(),\n",
    "        #Dropout(0.05),  # adding dropout for regularization\n",
    "        \n",
    "        Dense(1)\n",
    "    ])\n",
    "    return model\n",
    "\n",
    "model_hyperopt_v2 = create_model()\n",
    "\n",
    "def scheduler(epoch, lr):\n",
    "    if epoch < 5:\n",
    "        return lr\n",
    "    else:\n",
    "        return lr * tf.math.exp(-0.1)\n",
    "\n",
    "callbacks_list.append(LearningRateScheduler(scheduler))\n",
    "\n",
    "#model_hyperopt_v2.compile(loss = race_loss_fv1, optimizer=Adam(), metrics=[race_loss_fv1] )\n",
    "#model_hyperopt_v2.compile(loss = race_loss, optimizer=Adam(), metrics=[race_loss] )\n",
    "model_hyperopt_v2.compile(loss = race_loss_fv1, optimizer=Adam(), metrics=[race_loss_fv1] )\n",
    "\n",
    "model_hyperopt_v2.fit(x_train, y_train\n",
    "          , epochs = 11\n",
    "          , validation_data=(x_test, y_test)\n",
    "          , verbose=1\n",
    "          , shuffle=True\n",
    "          ,callbacks=callbacks_list)\n",
    "\n",
    "#print()\n",
    "#print(datetime.now(local_tz))\n",
    "#10 Minute Runtime\n"
   ]
  },
  {
   "cell_type": "code",
   "execution_count": 163,
   "id": "fca24f91-0c31-4193-94e1-96316a024b50",
   "metadata": {},
   "outputs": [
    {
     "name": "stdout",
     "output_type": "stream",
     "text": [
      "2023-07-07 16:05:51.897204+05:30\n"
     ]
    }
   ],
   "source": [
    "\n",
    "print(datetime.now(local_tz)) # started at 3 32PM\n",
    "# Estimated 1 min per epoch ~10min to 15min runtime\n"
   ]
  },
  {
   "cell_type": "code",
   "execution_count": 164,
   "id": "a7672261-7af7-488c-9c9a-34cb73ac6478",
   "metadata": {},
   "outputs": [
    {
     "data": {
      "text/plain": [
       "(209430, 126)"
      ]
     },
     "execution_count": 164,
     "metadata": {},
     "output_type": "execute_result"
    }
   ],
   "source": [
    "x_train.shape"
   ]
  },
  {
   "cell_type": "markdown",
   "id": "4ed6d132-0f7d-4f27-9d56-cff81281b212",
   "metadata": {},
   "source": [
    "#### Model details for storing and exporting"
   ]
  },
  {
   "cell_type": "code",
   "execution_count": 165,
   "id": "11db4a60-3d3c-49c7-bb0e-f19170a810f1",
   "metadata": {},
   "outputs": [
    {
     "name": "stdout",
     "output_type": "stream",
     "text": [
      "28145433 is the modelid for the current model\n"
     ]
    }
   ],
   "source": [
    "\n",
    "print(f'{mid} is the modelid for the current model')\n"
   ]
  },
  {
   "cell_type": "code",
   "execution_count": 166,
   "id": "5f967853-ac3e-44af-be23-a7662acf874e",
   "metadata": {},
   "outputs": [
    {
     "name": "stdout",
     "output_type": "stream",
     "text": [
      "2023-07-07 16:05:51.925612+05:30\n",
      "m_2023-07-07_mid_28145433_racelossfv1\n",
      "\n",
      "INFO:tensorflow:Assets written to: /mnt/batch/tasks/shared/LS_root/mounts/clusters/compute-one-8c-32gb/code/Users/karan.bhatti/Model//m_2023-07-07_mid_28145433_racelossfv1/assets\n",
      "\n",
      "2023-07-07 16:06:09.481294+05:30\n"
     ]
    }
   ],
   "source": [
    "\n",
    "print(datetime.now(local_tz))\n",
    "\n",
    "\"\"\"\n",
    "Saving weights\n",
    "\n",
    "#exp_model_nm = f'm_{todaydt}_cgpt_raceloss_batchnorm_e11.h5'\n",
    "#exp_model_nm = f'm_{todaydt}_cgpt_raceloss_batchnorm_e11.ckpt'\n",
    "\n",
    "#model_hyperopt_v2.save_weights(f'{modelloc}//{exp_model_nm}')\n",
    "print(datetime.now(local_tz))\n",
    "\"\"\"\n",
    "\n",
    "from datetime import datetime\n",
    "\n",
    "#exp_model_nm = f'm_{todaydt}_mid_{mid}_raceloss'\n",
    "exp_model_nm = f'm_{todaydt}_mid_{mid}_racelossfv1'\n",
    "print(exp_model_nm)\n",
    "print()\n",
    "\n",
    "# Saving the entire model\n",
    "model_hyperopt_v2.save(f'{modelloc}//{exp_model_nm}')\n",
    "print()\n",
    "print(datetime.now(local_tz))\n"
   ]
  },
  {
   "cell_type": "code",
   "execution_count": null,
   "id": "920605cb-e2a3-432c-bb5e-617613a4c0bd",
   "metadata": {},
   "outputs": [],
   "source": []
  },
  {
   "cell_type": "markdown",
   "id": "6dd1ce69-c7d4-4fbc-abab-26ecacc661fa",
   "metadata": {},
   "source": [
    "#### Storing Model details to file "
   ]
  },
  {
   "cell_type": "code",
   "execution_count": 167,
   "id": "953f5309-0adb-4599-af3f-e4db731997b0",
   "metadata": {},
   "outputs": [],
   "source": [
    "train_model = model_hyperopt_v2"
   ]
  },
  {
   "cell_type": "code",
   "execution_count": 168,
   "id": "ed93597f-3ecc-4e19-84e0-cfdc18ddeee9",
   "metadata": {},
   "outputs": [
    {
     "name": "stdout",
     "output_type": "stream",
     "text": [
      "Model: \"sequential_1\"\n",
      "_________________________________________________________________\n",
      "Layer (type)                 Output Shape              Param #   \n",
      "=================================================================\n",
      "dense_4 (Dense)              (None, 128)               16256     \n",
      "_________________________________________________________________\n",
      "batch_normalization_3 (Batch (None, 128)               512       \n",
      "_________________________________________________________________\n",
      "dense_5 (Dense)              (None, 256)               33024     \n",
      "_________________________________________________________________\n",
      "batch_normalization_4 (Batch (None, 256)               1024      \n",
      "_________________________________________________________________\n",
      "dense_6 (Dense)              (None, 128)               32896     \n",
      "_________________________________________________________________\n",
      "batch_normalization_5 (Batch (None, 128)               512       \n",
      "_________________________________________________________________\n",
      "dense_7 (Dense)              (None, 1)                 129       \n",
      "=================================================================\n",
      "Total params: 84,353\n",
      "Trainable params: 83,329\n",
      "Non-trainable params: 1,024\n",
      "_________________________________________________________________\n"
     ]
    }
   ],
   "source": [
    "\n",
    "# Model Summary\n",
    "ms = train_model.summary()\n",
    "#print(ms)\n",
    "\n",
    "stringlist = []\n",
    "train_model.summary(print_fn = lambda x: stringlist.append(x))\n",
    "short_model_summary = \"\\n\".join(stringlist)\n",
    "#print(short_model_summary)\n"
   ]
  },
  {
   "cell_type": "code",
   "execution_count": 169,
   "id": "5b660937-c611-4abc-8cb9-77f5f0a868d2",
   "metadata": {},
   "outputs": [
    {
     "name": "stdout",
     "output_type": "stream",
     "text": [
      "Model: \"sequential_1\"\n",
      "_________________________________________________________________\n",
      "Layer (type)                 Output Shape              Param #   \n",
      "=================================================================\n",
      "dense_4 (Dense)              (None, 128)               16256     \n",
      "_________________________________________________________________\n",
      "batch_normalization_3 (Batch (None, 128)               512       \n",
      "_________________________________________________________________\n",
      "dense_5 (Dense)              (None, 256)               33024     \n",
      "_________________________________________________________________\n",
      "batch_normalization_4 (Batch (None, 256)               1024      \n",
      "_________________________________________________________________\n",
      "dense_6 (Dense)              (None, 128)               32896     \n",
      "_________________________________________________________________\n",
      "batch_normalization_5 (Batch (None, 128)               512       \n",
      "_________________________________________________________________\n",
      "dense_7 (Dense)              (None, 1)                 129       \n",
      "=================================================================\n",
      "Total params: 84,353\n",
      "Trainable params: 83,329\n",
      "Non-trainable params: 1,024\n",
      "_________________________________________________________________\n"
     ]
    }
   ],
   "source": [
    "\n",
    "print(short_model_summary)\n"
   ]
  },
  {
   "cell_type": "code",
   "execution_count": 170,
   "id": "28966ee7-4513-43db-9a24-0aa566b70094",
   "metadata": {},
   "outputs": [
    {
     "name": "stdout",
     "output_type": "stream",
     "text": [
      "2.23\n"
     ]
    }
   ],
   "source": [
    "\n",
    "### Average Validation Loss\n",
    "avg_val_loss = np.round(np.mean(train_model.history.history['val_loss']),2)\n",
    "print(avg_val_loss)\n"
   ]
  },
  {
   "cell_type": "code",
   "execution_count": 171,
   "id": "644e077a-4fbc-4376-ace8-595d41f251fa",
   "metadata": {},
   "outputs": [
    {
     "name": "stdout",
     "output_type": "stream",
     "text": [
      "[7, [128, 'N/A', 256, 'N/A', 128, 'N/A', 1], 'sequential_1', 'race_loss_fv1', 'Adam']\n"
     ]
    }
   ],
   "source": [
    "\n",
    "#print(dir(predmodel.loss))\n",
    "\n",
    "ms_config = train_model.get_config()\n",
    "ms_num_layers = len(ms_config['layers'])\n",
    "ms_units_per_layer = [layer['config']['units'] if 'units' in layer['config'] else 'N/A' for layer in ms_config['layers']]\n",
    "\n",
    "ms_name = ms_config['name']\n",
    "\n",
    "ms_loss = train_model.loss.__name__\n",
    "ms_optimizer = train_model.optimizer._name\n",
    "\n",
    "#print([ms_config, ms_num_layers, ms_units_per_layer, ms_name, ms_loss, ms_optimizer])\n",
    "print([ ms_num_layers, ms_units_per_layer, ms_name, ms_loss, ms_optimizer])\n",
    "\n",
    "#print(model.optimizer._name)\n",
    "#print(model.loss.__name__)"
   ]
  },
  {
   "cell_type": "code",
   "execution_count": 172,
   "id": "06557ace-fb70-4d7f-9ef3-35fd791e8809",
   "metadata": {},
   "outputs": [],
   "source": [
    "\n",
    "model_chars = pd.DataFrame(columns = ['Mid','y','feat'\\\n",
    "                                      , 'name', 'layers', 'units_p_layer','cfg'\\\n",
    "                                      , 'loss_avg', 'loss_nm', 'optimizer'])\n",
    "rowlist = [ mid, label, features_all\\\n",
    "           , ms_name, ms_num_layers, ms_units_per_layer , ms_config\\\n",
    "           , avg_val_loss, ms_loss, ms_optimizer  ]\n",
    "\n",
    "model_chars.loc[ len(model_chars) ] = rowlist \n",
    "\n",
    "# and so on...\n"
   ]
  },
  {
   "cell_type": "code",
   "execution_count": 173,
   "id": "78d8dbdb-902e-435b-93a9-12335deb0a53",
   "metadata": {},
   "outputs": [
    {
     "data": {
      "text/html": [
       "<div>\n",
       "<style scoped>\n",
       "    .dataframe tbody tr th:only-of-type {\n",
       "        vertical-align: middle;\n",
       "    }\n",
       "\n",
       "    .dataframe tbody tr th {\n",
       "        vertical-align: top;\n",
       "    }\n",
       "\n",
       "    .dataframe thead th {\n",
       "        text-align: right;\n",
       "    }\n",
       "</style>\n",
       "<table border=\"1\" class=\"dataframe\">\n",
       "  <thead>\n",
       "    <tr style=\"text-align: right;\">\n",
       "      <th></th>\n",
       "      <th>Mid</th>\n",
       "      <th>y</th>\n",
       "      <th>feat</th>\n",
       "      <th>name</th>\n",
       "      <th>layers</th>\n",
       "      <th>units_p_layer</th>\n",
       "      <th>cfg</th>\n",
       "      <th>loss_avg</th>\n",
       "      <th>loss_nm</th>\n",
       "      <th>optimizer</th>\n",
       "    </tr>\n",
       "  </thead>\n",
       "  <tbody>\n",
       "    <tr>\n",
       "      <th>0</th>\n",
       "      <td>28145433</td>\n",
       "      <td>y_margin</td>\n",
       "      <td>[dng_34, trnr_xrl5_fin_t2_norm_by_race, dng_78...</td>\n",
       "      <td>sequential_1</td>\n",
       "      <td>7</td>\n",
       "      <td>[128, N/A, 256, N/A, 128, N/A, 1]</td>\n",
       "      <td>{'name': 'sequential_1', 'layers': [{'class_na...</td>\n",
       "      <td>2.23</td>\n",
       "      <td>race_loss_fv1</td>\n",
       "      <td>Adam</td>\n",
       "    </tr>\n",
       "  </tbody>\n",
       "</table>\n",
       "</div>"
      ],
      "text/plain": [
       "        Mid         y                                               feat          name layers                      units_p_layer                                                cfg  loss_avg  \\\n",
       "0  28145433  y_margin  [dng_34, trnr_xrl5_fin_t2_norm_by_race, dng_78...  sequential_1      7  [128, N/A, 256, N/A, 128, N/A, 1]  {'name': 'sequential_1', 'layers': [{'class_na...      2.23   \n",
       "\n",
       "         loss_nm optimizer  \n",
       "0  race_loss_fv1      Adam  "
      ]
     },
     "metadata": {},
     "output_type": "display_data"
    }
   ],
   "source": [
    "\n",
    "display(model_chars)\n"
   ]
  },
  {
   "cell_type": "code",
   "execution_count": 174,
   "id": "d85b5a34-3aa5-43e7-bb86-569d5741a6df",
   "metadata": {},
   "outputs": [],
   "source": [
    "\n",
    "#model_chars.to_excel(f\"{fileloc}/model_chars_master.xlsx\", index = False)\n",
    "#model_chars.to_csv(f\"{fileloc}/model_chars_master.csv\", index = False)\n"
   ]
  },
  {
   "cell_type": "code",
   "execution_count": 175,
   "id": "a9fea66d-c90b-4b25-acba-8c1fb8719b72",
   "metadata": {},
   "outputs": [],
   "source": [
    "\n",
    "#model_chars.to_excel(f\"{fileloc}/model_chars_master.xlsx\", index = False)\n",
    "#model_chars.to_csv(f\"{fileloc}/model_chars_master.csv\", index = False)\n"
   ]
  },
  {
   "cell_type": "code",
   "execution_count": 176,
   "id": "93a5bbdc-4620-4a19-b049-ab528820062f",
   "metadata": {},
   "outputs": [],
   "source": [
    "\n",
    "# List that we want to add as a new row\n",
    "#List = [6, 'William', 5532, 1, 'UAE']\n",
    "row_to_append = rowlist\n",
    "\n",
    "# Open our existing CSV file in append mode\n",
    "# Create a file object for this file\n",
    "with open(f\"{fileloc}/model_chars_master.csv\", 'a') as f_object:\n",
    "    # Pass this file object to csv.writer()\n",
    "    # and get a writer object\n",
    "    writer_object = writer(f_object)\n",
    "\n",
    "    # Pass the list as an argument into\n",
    "    # the writerow()\n",
    "    writer_object.writerow(row_to_append)\n",
    "\n",
    "    # Close the file object\n",
    "    f_object.close()\n"
   ]
  },
  {
   "cell_type": "code",
   "execution_count": 177,
   "id": "5833dcd9-7b7c-496d-acb4-7e70c1983bfb",
   "metadata": {},
   "outputs": [
    {
     "name": "stdout",
     "output_type": "stream",
     "text": [
      "2023-07-07 16:06:11.042802+05:30\n"
     ]
    }
   ],
   "source": [
    "print(datetime.now(local_tz))"
   ]
  },
  {
   "cell_type": "markdown",
   "id": "db6806ad-dda3-424b-a69c-f5d9d7ba9667",
   "metadata": {},
   "source": [
    "### Importing the model for use"
   ]
  },
  {
   "cell_type": "code",
   "execution_count": 178,
   "id": "2876c64a-731d-44a4-9cdf-4dc47a54c27e",
   "metadata": {},
   "outputs": [
    {
     "name": "stdout",
     "output_type": "stream",
     "text": [
      "checkpoint\n",
      "m_2023-06-13_cgpt_raceloss_batchnorm_e11.ckpt.data-00000-of-00001\n",
      "m_2023-06-13_cgpt_raceloss_batchnorm_e11.ckpt.index\n",
      "m_2023-06-13_cgpt_raceloss_batchnorm_e11.h5\n",
      "m_2023-06-14_cgpt_raceloss_batchnorm_e11\n",
      "m_2023-06-14_cgpt_raceloss_batchnorm_e11.h5\n",
      "m_2023-06-14_mid_28112221_raceloss\n",
      "m_2023-06-14_mid_28112237_raceloss\n",
      "m_2023-06-14_mid_28112304_racelossfv1\n",
      "m_2023-06-16_mid_28115042_racelossfv1\n",
      "m_2023-07-07_mid_28145385_racelossfv1\n",
      "m_2023-07-07_mid_28145414_racelossfv1\n",
      "m_2023-07-07_mid_28145433_racelossfv1\n"
     ]
    }
   ],
   "source": [
    "\n",
    "# Get all files in the directory\n",
    "files = os.listdir(modelloc)\n",
    "\n",
    "# Print the list of files\n",
    "for file in files:\n",
    "    print(file)\n"
   ]
  },
  {
   "cell_type": "code",
   "execution_count": 183,
   "id": "0a1f9ceb-5f0c-432d-815f-3ab4e79d14bb",
   "metadata": {},
   "outputs": [
    {
     "name": "stdout",
     "output_type": "stream",
     "text": [
      "m_2023-07-07_mid_28145433_racelossfv1\n"
     ]
    }
   ],
   "source": [
    "\n",
    "\n",
    "#imp_model_nm = 'm_2023-06-16_cgpt_racelossfv1'\n",
    "#imp_model_nm = 'm_2023-06-16_mid_28115042_racelossfv1'\n",
    "#imp_model_nm = 'm_2023-07-07_mid_28145385_racelossfv1'\n",
    "#imp_model_nm = 'm_2023-07-07_mid_28145385_racelossfv1'\n",
    "#imp_model_nm = 'm_2023-07-07_mid_28145414_racelossfv1'\n",
    "\n",
    "imp_model_nm = exp_model_nm\n",
    "print(imp_model_nm)\n"
   ]
  },
  {
   "cell_type": "code",
   "execution_count": 184,
   "id": "b75f3d6f-d960-4036-85eb-f2d0945aff09",
   "metadata": {},
   "outputs": [],
   "source": [
    "\n",
    "from tensorflow.keras.models import load_model\n",
    "\n",
    "# Load the entire model\n",
    "\n",
    "#loaded_model = load_model(f'{modelloc}//{exp_model_nm}')\n",
    "predmodel = load_model(f'{modelloc}//{exp_model_nm}', \n",
    "                          custom_objects={'race_loss_fv1': race_loss_fv1})\n",
    "\n",
    "# You can then use loaded_model to continue training or making predictions\n"
   ]
  },
  {
   "cell_type": "code",
   "execution_count": 185,
   "id": "bf7cd9f1-002b-4e78-8c0a-08c17c87273d",
   "metadata": {},
   "outputs": [
    {
     "name": "stdout",
     "output_type": "stream",
     "text": [
      "2023-07-07 16:12:56.693300+05:30\n"
     ]
    }
   ],
   "source": [
    "print(datetime.now(local_tz)) # 3 Min import time"
   ]
  },
  {
   "cell_type": "code",
   "execution_count": 186,
   "id": "f2814546-b3ff-44ae-bf00-01bc1bc4ded7",
   "metadata": {},
   "outputs": [
    {
     "name": "stdout",
     "output_type": "stream",
     "text": [
      "(32897, 126)\n"
     ]
    }
   ],
   "source": [
    "print(x_test.shape)"
   ]
  },
  {
   "cell_type": "markdown",
   "id": "d447a354-11bb-4294-aefc-7497031a8cee",
   "metadata": {},
   "source": [
    "#### QC Predictions"
   ]
  },
  {
   "cell_type": "code",
   "execution_count": 187,
   "id": "45c78a2f-0fa7-4c3e-b998-90c9bb28bb8f",
   "metadata": {},
   "outputs": [
    {
     "name": "stdout",
     "output_type": "stream",
     "text": [
      "<class 'numpy.ndarray'>\n",
      "(32897, 1)\n"
     ]
    }
   ],
   "source": [
    "\n",
    "# Assuming your data is stored in a variable named \"test_data\"\n",
    "\n",
    "# Normalize or preprocess your test_data as you did with your training data\n",
    "\n",
    "# Then use the loaded model to make predictions\n",
    "predictions = predmodel.predict(x_test)\n",
    "\n",
    "# 'predictions' now contains the predicted outputs for your test data.\n",
    "\n",
    "print(type(predictions))\n",
    "print(predictions.shape)\n"
   ]
  },
  {
   "cell_type": "markdown",
   "id": "a96690d8-9555-4354-b8f8-064508bc3019",
   "metadata": {},
   "source": [
    "#### Making Predictions"
   ]
  },
  {
   "cell_type": "code",
   "execution_count": 188,
   "id": "5fad1a44-e699-407b-add3-15d3a55c642c",
   "metadata": {},
   "outputs": [
    {
     "name": "stdout",
     "output_type": "stream",
     "text": [
      "2023-07-07 16:12:57.160355+05:30\n",
      "2023-07-07 16:12:59.981519+05:30\n"
     ]
    }
   ],
   "source": [
    "\n",
    "print(datetime.now(local_tz))\n",
    "\n",
    "predictions_train = predmodel.predict(x_train)\n",
    "predictions_train = np.ravel(predictions_train)\n",
    "\n",
    "predictions_test = predmodel.predict(x_test)\n",
    "predictions_test = np.ravel(predictions_test)\n",
    "\n",
    "print(datetime.now(local_tz))\n"
   ]
  },
  {
   "cell_type": "code",
   "execution_count": 189,
   "id": "9417c042-907e-48f2-9bf9-a61877c27210",
   "metadata": {},
   "outputs": [
    {
     "name": "stdout",
     "output_type": "stream",
     "text": [
      "\n",
      "(242327, 252)\n",
      "\n",
      "['@id_DOG', 'DogName', 'y_runtime', 'RaceId', '@id_RACE', 'Distance', 'RaceGrade', 'Track', 'Event_Dt', 'TrainerId', 'TrainerName', 'ft_sp', 'x_num_dogs', 'position', 'y_margin', 'y_pos', 'Winner_actual', 'Top3_actual', 'rand_mean', 'rand_uniform', 'position_random', 'Winner_random', 'Top3_random', 'position_fasttrack', 'Winner_fastrack', 'Top3_fastrack', 'rand_1', 'h_rand_1', 'p_rand_1', 'rand_all_plc_to_win', 'h_rand_all_plc_to_win', 'p_rand_all_plc_to_win', 'rand_lay_last', 'h_rand_lay_last', 'p_rand_lay_last', 'ft_1', 'h_ft_1', 'p_ft_1', 'ft_all_plc', 'h_ft_all_plc', 'p_ft_all_plc', 'ft_lay_last', 'h_ft_lay_last', 'p_ft_lay_last', 'G5', 'G4', 'G3', 'G2', 'G1', 'Gmix', 'Gmas', 'Gmai', 'Gh', 'Gres', 'Gnov', 'Gsp', 'Gfin', 'RaceGrade_H1', 'x_races_tot', 'x_rtgp_prev', 'x_rtgp_avg', 'x_rtgp_min', 'x_rtgp_max', 'x_rtgp_std', 'x_rtgp_range', 'x_no_prev_races', 'x_speed_prev', 'x_speed_avg', 'x_speed_min', 'x_speed_max', 'x_speed_std', 'x_speed_range', 'x_no_prev_r_in_dist', 'xr_races', 'xr_races_l5', 'xr_wins', 'xr_wins_pct', 'xr_wins_l5', 'xr_wins_l5_pct', 'xr_fin_t2', 'xr_fin_t2_pct', 'xr_fin_last', 'xr_finl5_last', 'xr_finl5_last_pct', 'xr_fin_last2', 'xr_fin_last2_pct', 'xr_finl5_last2', 'xr_finl5_last2_pct', 'xr_fin_plc', 'xr_fin_plc_pct', 'xr_finl5_plc', 'xr_finl5_plc_pct', 'trnr_xr_races_tot', 'trnr_xr_races_tot_prev', 'trnr_wins_prev', 'trnr_fin_plc_prev', 'trnr_fin_t2_prev', 'trnr_fin_last_prev', 'trnr_fin_last2_prev', 'trnr_xr_wins', 'trnr_xr_fin_plc', 'trnr_xr_fin_t2', 'trnr_xr_fin_last', 'trnr_xr_fin_last2', 'trnr_xrl5_wins', 'trnr_xrl5_fin_plc', 'trnr_xrl5_fin_t2', 'trnr_xrl5_fin_last', 'trnr_xrl5_fin_last2', 'trnr_xr_wins_pct', 'trnr_xr_fin_t2_pct', 'trnr_xr_fin_plc_pct', 'trnr_xr_fin_last_pct', 'trnr_xr_fin_last2_pct', 'x_races_tot_norm_by_race', 'x_rtgp_prev_norm_by_race', 'x_rtgp_avg_norm_by_race', 'x_rtgp_min_norm_by_race', 'x_rtgp_max_norm_by_race', 'x_rtgp_std_norm_by_race', 'x_rtgp_range_norm_by_race', 'x_speed_prev_norm_by_race', 'x_speed_avg_norm_by_race', 'x_speed_min_norm_by_race', 'x_speed_max_norm_by_race', 'x_speed_std_norm_by_race', 'x_speed_range_norm_by_race', 'xr_races_norm_by_race', 'xr_races_l5_norm_by_race', 'xr_wins_norm_by_race', 'xr_wins_pct_norm_by_race', 'xr_wins_l5_norm_by_race', 'xr_wins_l5_pct_norm_by_race', 'xr_fin_t2_norm_by_race', 'xr_fin_t2_pct_norm_by_race', 'xr_fin_last_norm_by_race', 'xr_finl5_last_norm_by_race', 'xr_finl5_last_pct_norm_by_race', 'xr_fin_last2_norm_by_race', 'xr_fin_last2_pct_norm_by_race', 'xr_finl5_last2_norm_by_race', 'xr_finl5_last2_pct_norm_by_race', 'xr_fin_plc_norm_by_race', 'xr_fin_plc_pct_norm_by_race', 'xr_finl5_plc_norm_by_race', 'xr_finl5_plc_pct_norm_by_race', 'trnr_xr_races_tot_norm_by_race', 'trnr_xr_races_tot_prev_norm_by_race', 'trnr_wins_prev_norm_by_race', 'trnr_fin_plc_prev_norm_by_race', 'trnr_fin_t2_prev_norm_by_race', 'trnr_fin_last_prev_norm_by_race', 'trnr_fin_last2_prev_norm_by_race', 'trnr_xr_wins_norm_by_race', 'trnr_xr_fin_plc_norm_by_race', 'trnr_xr_fin_t2_norm_by_race', 'trnr_xr_fin_last_norm_by_race', 'trnr_xr_fin_last2_norm_by_race', 'trnr_xrl5_wins_norm_by_race', 'trnr_xrl5_fin_plc_norm_by_race', 'trnr_xrl5_fin_t2_norm_by_race', 'trnr_xrl5_fin_last_norm_by_race', 'trnr_xrl5_fin_last2_norm_by_race', 'trnr_xr_wins_pct_norm_by_race', 'trnr_xr_fin_t2_pct_norm_by_race', 'trnr_xr_fin_plc_pct_norm_by_race', 'trnr_xr_fin_last_pct_norm_by_race', 'trnr_xr_fin_last2_pct_norm_by_race', 'ss_x_races_tot', 'ss_x_rtgp_prev', 'ss_x_rtgp_avg', 'ss_x_rtgp_min', 'ss_x_rtgp_max', 'ss_x_rtgp_std', 'ss_x_rtgp_range', 'ss_x_speed_prev', 'ss_x_speed_avg', 'ss_x_speed_min', 'ss_x_speed_max', 'ss_x_speed_std', 'ss_x_speed_range', 'ss_xr_races', 'ss_xr_races_l5', 'ss_xr_wins', 'ss_xr_wins_pct', 'ss_xr_wins_l5', 'ss_xr_wins_l5_pct', 'ss_xr_fin_t2', 'ss_xr_fin_t2_pct', 'ss_xr_fin_last', 'ss_xr_finl5_last', 'ss_xr_finl5_last_pct', 'ss_xr_fin_last2', 'ss_xr_fin_last2_pct', 'ss_xr_finl5_last2', 'ss_xr_finl5_last2_pct', 'ss_xr_fin_plc', 'ss_xr_fin_plc_pct', 'ss_xr_finl5_plc', 'ss_xr_finl5_plc_pct', 'ss_trnr_xr_races_tot', 'ss_trnr_xr_races_tot_prev', 'ss_trnr_wins_prev', 'ss_trnr_fin_plc_prev', 'ss_trnr_fin_t2_prev', 'ss_trnr_fin_last_prev', 'ss_trnr_fin_last2_prev', 'ss_trnr_xr_wins', 'ss_trnr_xr_fin_plc', 'ss_trnr_xr_fin_t2', 'ss_trnr_xr_fin_last', 'ss_trnr_xr_fin_last2', 'ss_trnr_xrl5_wins', 'ss_trnr_xrl5_fin_plc', 'ss_trnr_xrl5_fin_t2', 'ss_trnr_xrl5_fin_last', 'ss_trnr_xrl5_fin_last2', 'ss_trnr_xr_wins_pct', 'ss_trnr_xr_fin_t2_pct', 'ss_trnr_xr_fin_plc_pct', 'ss_trnr_xr_fin_last_pct', 'ss_trnr_xr_fin_last2_pct', 'RaceName', 'dist300', 'dist350', 'dist400', 'dist450', 'dist500', 'dist600', 'dist700', 'firstrace', 'upgrade', 'downgrade', 'upg_87', 'upg_76', 'upg_65', 'upg_54', 'upg_43', 'upg_32', 'upg_21', 'dng_12', 'dng_23', 'dng_34', 'dng_45', 'dng_56', 'dng_67', 'dng_78', 'Event_Dt_dt', 'yearqtr', 'yearmon', 'ttflag', 'preds']\n",
      "\n"
     ]
    }
   ],
   "source": [
    "# Getting the output dataset together\n",
    "\n",
    "df_train_raw['preds'] = predictions_train\n",
    "df_test_raw['preds'] = predictions_test\n",
    "\n",
    "df_master = df_train_raw.append(df_test_raw)\n",
    "print()\n",
    "\n",
    "print(df_master.shape)\n",
    "print()\n",
    "\n",
    "print(df_master.columns.values.tolist())\n",
    "print()\n"
   ]
  },
  {
   "cell_type": "code",
   "execution_count": 190,
   "id": "68a69ea3-b752-4709-8af7-3cafa359f79a",
   "metadata": {},
   "outputs": [
    {
     "data": {
      "text/plain": [
       "<matplotlib.axes._subplots.AxesSubplot at 0x7fc371ba7040>"
      ]
     },
     "execution_count": 190,
     "metadata": {},
     "output_type": "execute_result"
    },
    {
     "data": {
      "image/png": "[encoded data removed]",
      "text/plain": [
       "<Figure size 1728x576 with 1 Axes>"
      ]
     },
     "metadata": {
      "needs_background": "light"
     },
     "output_type": "display_data"
    }
   ],
   "source": [
    "\n",
    "df_train_raw['preds'].plot( kind='density', legend=True, figsize = (24,8) )\n"
   ]
  },
  {
   "cell_type": "code",
   "execution_count": 191,
   "id": "c8134deb-233e-47b9-9866-e5633c63a145",
   "metadata": {},
   "outputs": [
    {
     "data": {
      "text/plain": [
       "<matplotlib.axes._subplots.AxesSubplot at 0x7fc371b927f0>"
      ]
     },
     "execution_count": 191,
     "metadata": {},
     "output_type": "execute_result"
    },
    {
     "data": {
      "image/png": "[encoded data removed]",
      "text/plain": [
       "<Figure size 1728x576 with 1 Axes>"
      ]
     },
     "metadata": {
      "needs_background": "light"
     },
     "output_type": "display_data"
    }
   ],
   "source": [
    "\n",
    "df_test_raw['preds'].plot( kind='density', legend=True, figsize = (24,8) )\n"
   ]
  },
  {
   "cell_type": "code",
   "execution_count": 192,
   "id": "26af2a30-26ef-4c64-b17f-147436e3de8f",
   "metadata": {},
   "outputs": [],
   "source": [
    "\n",
    "#pd.DataFrame(df_test['preds'].value_counts()).head()\n",
    "#pd.DataFrame(df_test['preds'].value_counts()).shape\n"
   ]
  },
  {
   "cell_type": "code",
   "execution_count": 193,
   "id": "15ee5b07-3e84-4016-b0a0-d238d6619b72",
   "metadata": {},
   "outputs": [
    {
     "name": "stdout",
     "output_type": "stream",
     "text": [
      "dict_keys([])\n"
     ]
    }
   ],
   "source": [
    "print(predmodel.history.history.keys())\n"
   ]
  },
  {
   "cell_type": "code",
   "execution_count": null,
   "id": "c2defbe2-64e6-40a5-abd2-4e828ddb7b69",
   "metadata": {},
   "outputs": [],
   "source": []
  },
  {
   "cell_type": "markdown",
   "id": "18494d21-5eea-49ec-918e-148c6a37b34e",
   "metadata": {},
   "source": [
    "#### Exporting the Predictions"
   ]
  },
  {
   "cell_type": "code",
   "execution_count": 194,
   "id": "0877c130-ec99-4478-857c-1936c7730095",
   "metadata": {},
   "outputs": [
    {
     "name": "stdout",
     "output_type": "stream",
     "text": [
      "2023-07-07 16:13:04.183272+05:30\n"
     ]
    }
   ],
   "source": [
    "\n",
    "print(datetime.now(local_tz))\n"
   ]
  },
  {
   "cell_type": "code",
   "execution_count": 195,
   "id": "1031639d-a1b4-4447-89c2-766f47003fb9",
   "metadata": {},
   "outputs": [
    {
     "name": "stdout",
     "output_type": "stream",
     "text": [
      "28145433\n"
     ]
    }
   ],
   "source": [
    "\n",
    "print(mid)\n"
   ]
  },
  {
   "cell_type": "code",
   "execution_count": 196,
   "id": "9b9a06c2-0ffc-4338-86e5-54ebad2e3340",
   "metadata": {},
   "outputs": [
    {
     "name": "stderr",
     "output_type": "stream",
     "text": [
      "/anaconda/envs/azureml_py38/lib/python3.8/site-packages/pandas/core/indexing.py:1596: SettingWithCopyWarning: \n",
      "A value is trying to be set on a copy of a slice from a DataFrame.\n",
      "Try using .loc[row_indexer,col_indexer] = value instead\n",
      "\n",
      "See the caveats in the documentation: https://pandas.pydata.org/pandas-docs/stable/user_guide/indexing.html#returning-a-view-versus-a-copy\n",
      "  self.obj[key] = _infer_fill_value(value)\n",
      "/anaconda/envs/azureml_py38/lib/python3.8/site-packages/pandas/core/indexing.py:1763: SettingWithCopyWarning: \n",
      "A value is trying to be set on a copy of a slice from a DataFrame.\n",
      "Try using .loc[row_indexer,col_indexer] = value instead\n",
      "\n",
      "See the caveats in the documentation: https://pandas.pydata.org/pandas-docs/stable/user_guide/indexing.html#returning-a-view-versus-a-copy\n",
      "  isetter(loc, value)\n"
     ]
    }
   ],
   "source": [
    "\n",
    "#keep_cols_for_export = ['@id_DOG', 'DogName', '@id_RACE','RaceName','Track','RaceGrade','Distance','TrainerName','RunTime','Place','x_races_tot']\n",
    "\n",
    "# 'TrainerName', 'Track' have been dummified\n",
    "#cols_for_drop = ['year','qtr']\n",
    "cols_for_keep = ['@id_DOG', 'DogName', 'y_runtime', 'RaceId', '@id_RACE', 'yearqtr', 'yearmon', 'ttflag','preds']\n",
    "\n",
    "pred_exp_fname = f\"predictions_{mid}_{todaydt}.csv\"\n",
    "\n",
    "exp_pred_ds = df_master[cols_for_keep]\n",
    "exp_pred_ds.loc[:,'mid'] = mid\n",
    "\n"
   ]
  },
  {
   "cell_type": "markdown",
   "id": "6ec82203-ec27-4a15-be75-ccd28a0669ef",
   "metadata": {},
   "source": [
    "##### 3 Minute Export Time"
   ]
  },
  {
   "cell_type": "code",
   "execution_count": 197,
   "id": "60937f1d-ba24-40ed-af76-8c74f3758b0a",
   "metadata": {},
   "outputs": [
    {
     "name": "stdout",
     "output_type": "stream",
     "text": [
      "predictions_28145433_2023-07-07.csv\n"
     ]
    }
   ],
   "source": [
    "print(pred_exp_fname)"
   ]
  },
  {
   "cell_type": "code",
   "execution_count": 198,
   "id": "f45ab466-4c1a-45a2-8dae-e69495636108",
   "metadata": {},
   "outputs": [
    {
     "name": "stdout",
     "output_type": "stream",
     "text": [
      "2023-07-07 16:13:04.339928+05:30\n"
     ]
    }
   ],
   "source": [
    "\n",
    "print(datetime.now(local_tz))\n"
   ]
  },
  {
   "cell_type": "code",
   "execution_count": 199,
   "id": "9e0e0e11-c285-4148-9b86-34d07f61a333",
   "metadata": {},
   "outputs": [],
   "source": [
    "\n",
    "exp_pred_ds.to_csv(f'{fileloc}/{pred_exp_fname}', index = False)\n"
   ]
  },
  {
   "cell_type": "code",
   "execution_count": 200,
   "id": "aeff4410-81d8-4b23-b55c-04b71ebf5e01",
   "metadata": {},
   "outputs": [
    {
     "name": "stdout",
     "output_type": "stream",
     "text": [
      "2023-07-07 16:13:10.297002+05:30\n"
     ]
    }
   ],
   "source": [
    "\n",
    "print(datetime.now(local_tz)) # 235pm start the code\n"
   ]
  },
  {
   "cell_type": "code",
   "execution_count": 201,
   "id": "40237400-31bf-440a-bb43-06c065f12bea",
   "metadata": {},
   "outputs": [
    {
     "data": {
      "text/html": [
       "<div>\n",
       "<style scoped>\n",
       "    .dataframe tbody tr th:only-of-type {\n",
       "        vertical-align: middle;\n",
       "    }\n",
       "\n",
       "    .dataframe tbody tr th {\n",
       "        vertical-align: top;\n",
       "    }\n",
       "\n",
       "    .dataframe thead th {\n",
       "        text-align: right;\n",
       "    }\n",
       "</style>\n",
       "<table border=\"1\" class=\"dataframe\">\n",
       "  <thead>\n",
       "    <tr style=\"text-align: right;\">\n",
       "      <th></th>\n",
       "      <th>@id_DOG</th>\n",
       "      <th>DogName</th>\n",
       "      <th>y_runtime</th>\n",
       "      <th>RaceId</th>\n",
       "      <th>@id_RACE</th>\n",
       "      <th>yearqtr</th>\n",
       "      <th>yearmon</th>\n",
       "      <th>ttflag</th>\n",
       "      <th>preds</th>\n",
       "      <th>mid</th>\n",
       "    </tr>\n",
       "  </thead>\n",
       "  <tbody>\n",
       "    <tr>\n",
       "      <th>1103</th>\n",
       "      <td>135133731</td>\n",
       "      <td>SOUTHWOOD MIA</td>\n",
       "      <td>20.41</td>\n",
       "      <td>811481246</td>\n",
       "      <td>811481246</td>\n",
       "      <td>202203</td>\n",
       "      <td>202208</td>\n",
       "      <td>Train</td>\n",
       "      <td>9.845912</td>\n",
       "      <td>28145433</td>\n",
       "    </tr>\n",
       "    <tr>\n",
       "      <th>1286</th>\n",
       "      <td>140577118</td>\n",
       "      <td>PHANTOM OWL</td>\n",
       "      <td>18.26</td>\n",
       "      <td>820706339</td>\n",
       "      <td>820706339</td>\n",
       "      <td>202203</td>\n",
       "      <td>202209</td>\n",
       "      <td>Train</td>\n",
       "      <td>4.118066</td>\n",
       "      <td>28145433</td>\n",
       "    </tr>\n",
       "    <tr>\n",
       "      <th>1555</th>\n",
       "      <td>148673258</td>\n",
       "      <td>SPEEDY MARINA</td>\n",
       "      <td>18.51</td>\n",
       "      <td>807631353</td>\n",
       "      <td>807631353</td>\n",
       "      <td>202203</td>\n",
       "      <td>202208</td>\n",
       "      <td>Train</td>\n",
       "      <td>9.851160</td>\n",
       "      <td>28145433</td>\n",
       "    </tr>\n",
       "    <tr>\n",
       "      <th>1556</th>\n",
       "      <td>148673258</td>\n",
       "      <td>SPEEDY MARINA</td>\n",
       "      <td>19.22</td>\n",
       "      <td>820735785</td>\n",
       "      <td>820735785</td>\n",
       "      <td>202203</td>\n",
       "      <td>202209</td>\n",
       "      <td>Train</td>\n",
       "      <td>10.140045</td>\n",
       "      <td>28145433</td>\n",
       "    </tr>\n",
       "    <tr>\n",
       "      <th>1557</th>\n",
       "      <td>148673258</td>\n",
       "      <td>SPEEDY MARINA</td>\n",
       "      <td>17.88</td>\n",
       "      <td>824820637</td>\n",
       "      <td>824820637</td>\n",
       "      <td>202203</td>\n",
       "      <td>202209</td>\n",
       "      <td>Train</td>\n",
       "      <td>6.712150</td>\n",
       "      <td>28145433</td>\n",
       "    </tr>\n",
       "  </tbody>\n",
       "</table>\n",
       "</div>"
      ],
      "text/plain": [
       "        @id_DOG        DogName  y_runtime     RaceId   @id_RACE  yearqtr  yearmon ttflag      preds       mid\n",
       "1103  135133731  SOUTHWOOD MIA      20.41  811481246  811481246   202203   202208  Train   9.845912  28145433\n",
       "1286  140577118    PHANTOM OWL      18.26  820706339  820706339   202203   202209  Train   4.118066  28145433\n",
       "1555  148673258  SPEEDY MARINA      18.51  807631353  807631353   202203   202208  Train   9.851160  28145433\n",
       "1556  148673258  SPEEDY MARINA      19.22  820735785  820735785   202203   202209  Train  10.140045  28145433\n",
       "1557  148673258  SPEEDY MARINA      17.88  824820637  824820637   202203   202209  Train   6.712150  28145433"
      ]
     },
     "metadata": {},
     "output_type": "display_data"
    }
   ],
   "source": [
    "\n",
    "display(exp_pred_ds.head())\n"
   ]
  },
  {
   "cell_type": "code",
   "execution_count": 202,
   "id": "7952ce6d-b6e8-4748-94ca-77804d0a4910",
   "metadata": {},
   "outputs": [
    {
     "name": "stdout",
     "output_type": "stream",
     "text": [
      "predictions_28145433_2023-07-07.csv\n"
     ]
    }
   ],
   "source": [
    "\n",
    "print(pred_exp_fname)\n"
   ]
  },
  {
   "cell_type": "code",
   "execution_count": 203,
   "id": "390db415-e7bf-454b-b04f-3a4b80302b80",
   "metadata": {},
   "outputs": [
    {
     "name": "stdout",
     "output_type": "stream",
     "text": [
      "[7, [128, 'N/A', 256, 'N/A', 128, 'N/A', 1], 'sequential_1', 'race_loss_fv1', 'Adam']\n"
     ]
    }
   ],
   "source": [
    "\n",
    "print([ ms_num_layers, ms_units_per_layer, ms_name, ms_loss, ms_optimizer])\n"
   ]
  },
  {
   "cell_type": "code",
   "execution_count": null,
   "id": "c899eea7-2e55-4c30-8189-521ec8b7b986",
   "metadata": {},
   "outputs": [],
   "source": []
  },
  {
   "cell_type": "code",
   "execution_count": null,
   "id": "ee9e73eb-46bb-46cb-b6fe-bd4be0290e9d",
   "metadata": {},
   "outputs": [],
   "source": []
  }
 ],
 "metadata": {
  "kernelspec": {
   "display_name": "Python 3.8 - AzureML",
   "language": "python",
   "name": "python38-azureml"
  },
  "language_info": {
   "codemirror_mode": {
    "name": "ipython",
    "version": 3
   },
   "file_extension": ".py",
   "mimetype": "text/x-python",
   "name": "python",
   "nbconvert_exporter": "python",
   "pygments_lexer": "ipython3",
   "version": "3.8.5"
  }
 },
 "nbformat": 4,
 "nbformat_minor": 5
}
