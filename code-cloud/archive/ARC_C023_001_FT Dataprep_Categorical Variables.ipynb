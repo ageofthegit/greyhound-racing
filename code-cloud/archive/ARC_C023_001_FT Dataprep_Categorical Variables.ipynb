{
 "cells": [
  {
   "cell_type": "code",
   "execution_count": null,
   "id": "63486fe9-888e-4feb-b703-964e76d59d16",
   "metadata": {},
   "outputs": [],
   "source": []
  },
  {
   "cell_type": "markdown",
   "id": "49daf27c-f69b-4d74-8860-71064e5d5834",
   "metadata": {},
   "source": [
    "\n",
    "\"\"\"\n",
    "\n",
    "Treatement of Categorical Variables:\n",
    "\n",
    "One Hot Encoding\n",
    "- Distance Group\n",
    "\n",
    "Frequency Enconding \n",
    "- Track\n",
    "- Trainer\n",
    "\n",
    "NEXT STEPS\n",
    "Entity Embeddings for Neural Networks going forward\n",
    "\n",
    "\"\"\""
   ]
  },
  {
   "cell_type": "markdown",
   "id": "372e8582-c553-4d37-8184-8dd3e6c702ba",
   "metadata": {},
   "source": [
    "\n",
    "# Import the code \n"
   ]
  },
  {
   "cell_type": "code",
   "execution_count": 1,
   "id": "09b2e3d3-f5ed-4f43-8b55-4fe0fb2e6f3a",
   "metadata": {},
   "outputs": [
    {
     "name": "stdout",
     "output_type": "stream",
     "text": [
      "['/mnt/batch/tasks/shared/LS_root/mounts/clusters/compute-one-8c-32gb/code/Users/karan.bhatti', '/anaconda/envs/azureml_py38/lib/python38.zip', '/anaconda/envs/azureml_py38/lib/python3.8', '/anaconda/envs/azureml_py38/lib/python3.8/lib-dynload', '', '/anaconda/envs/azureml_py38/lib/python3.8/site-packages', '/anaconda/envs/azureml_py38/lib/python3.8/site-packages/azureml/_project/vendor', '/anaconda/envs/azureml_py38/lib/python3.8/site-packages/azureml/automl/core/_vendor']\n",
      "\n",
      "\n"
     ]
    }
   ],
   "source": [
    "\n",
    "#fileloc  = '/mnt/batch/tasks/shared/LS_root/mounts/clusters/compute-one/code/Users/karan.bhatti'\n",
    "fileloc  = '/mnt/batch/tasks/shared/LS_root/mounts/clusters/compute-one-8c-32gb/code/Users/karan.bhatti'\n",
    "\n",
    "import sys\n",
    "print(sys.path)\n",
    "print()\n",
    "#sys.path.append(f'{fileloc}')\n",
    "print()\n",
    "#print(sys.path)\n"
   ]
  },
  {
   "cell_type": "code",
   "execution_count": 2,
   "id": "cb254eff-ef3e-410b-89ec-df53b40db2c6",
   "metadata": {},
   "outputs": [],
   "source": [
    "\n",
    "class Data(object):\n",
    "    pass\n",
    "\n",
    "df = Data\n",
    "summ = Data\n"
   ]
  },
  {
   "cell_type": "code",
   "execution_count": 3,
   "id": "9481db29-6090-4a36-97a1-55e9819e9e22",
   "metadata": {},
   "outputs": [],
   "source": [
    "import helpdesk as hd"
   ]
  },
  {
   "cell_type": "code",
   "execution_count": 4,
   "id": "e392fb86-ad46-457b-9933-0f7e96a662cb",
   "metadata": {},
   "outputs": [],
   "source": [
    "\n",
    "import pandas as pd, numpy as np\n",
    "from datetime import datetime\n"
   ]
  },
  {
   "cell_type": "code",
   "execution_count": 5,
   "id": "a3b05a99-d40c-4fbe-a53b-b90b8ce621aa",
   "metadata": {},
   "outputs": [],
   "source": [
    "DEBUG = True"
   ]
  },
  {
   "cell_type": "code",
   "execution_count": 6,
   "id": "b4c75d71-19e5-4c3c-9ea9-98a3df3bf7ee",
   "metadata": {},
   "outputs": [],
   "source": [
    "\n",
    "pd.set_option('display.max_rows', 50);\n",
    "pd.set_option('display.max_columns', 50);\n",
    "pd.set_option('display.width', 200);\n"
   ]
  },
  {
   "cell_type": "code",
   "execution_count": 7,
   "id": "baae8795-df4e-45ee-ae7b-3463323e8da3",
   "metadata": {},
   "outputs": [],
   "source": [
    "\n",
    "#fname_race = 'race_details_2022Q1_2022Q4.csv'\n",
    "#fname_dogs = 'dog_results_2022Q1_2022Q2.csv'\n",
    "\n",
    "#race_details = pd.read_csv(f'{fileloc}/{fname_race}')\n",
    "#dogs_details = pd.read_csv(f'{fileloc}/{fname_dogs}')\n",
    "\n",
    "#print(race_details.shape)\n",
    "#print(dogs_details.shape)\n"
   ]
  },
  {
   "cell_type": "markdown",
   "id": "039124f7-6981-4165-8e76-863d492c952f",
   "metadata": {},
   "source": [
    "## IMPORTING THE RAW DATA AND MERGE"
   ]
  },
  {
   "cell_type": "code",
   "execution_count": 8,
   "id": "9ad8cd93-2b33-41f1-b3e3-23e2b75f6596",
   "metadata": {},
   "outputs": [
    {
     "name": "stdout",
     "output_type": "stream",
     "text": [
      "/mnt/batch/tasks/shared/LS_root/mounts/clusters/compute-one-8c-32gb/code/Users/karan.bhatti/dog_results_2022Q1_2022Q2.csv\n",
      "['@id', 'Place', 'DogName', 'Box', 'Rug', 'Weight', 'StartPrice', 'Handicap', 'Margin1', 'Margin2', 'PIR', 'Checks', 'Comments', 'SplitMargin', 'RunTime', 'Prizemoney', 'RaceId', 'TrainerId', 'TrainerName']\n",
      "(435715, 19)\n",
      "['@id', 'Place', 'DogName', 'Box', 'Rug', 'Weight', 'StartPrice', 'Handicap', 'Margin1', 'Margin2', 'PIR', 'Checks', 'Comments', 'SplitMargin', 'RunTime', 'Prizemoney', 'RaceId', 'TrainerId', 'TrainerName']\n",
      "(320052, 19)\n"
     ]
    }
   ],
   "source": [
    "\n",
    "# Importing Dog Race Results\n",
    "\n",
    "#res_raw = pd.read_csv('C:\\\\Users\\\\karan\\\\Documents\\\\Data\\\\racing\\\\FastTrack\\\\Past\\\\dog_results_20211201_20211231.csv')\n",
    "#df.res_raw = pd.read_csv('C:\\\\Users\\\\karan\\\\Documents\\\\Data\\\\racing\\\\FastTrack\\\\Past\\\\dog_results_20220101_20220531.csv')\n",
    "\n",
    "print(f'{fileloc}/dog_results_2022Q1_2022Q2.csv')\n",
    "\n",
    "df.res_raw_2021Q1Q4 = pd.read_csv(f'{fileloc}/dog_results_2021Q1_2021Q4.csv')\n",
    "print(df.res_raw_2021Q1Q4.columns.values.tolist())\n",
    "print(df.res_raw_2021Q1Q4.shape)\n",
    "\n",
    "df.res_raw_2022Q1Q2 = pd.read_csv(f'{fileloc}/dog_results_2022Q1_2022Q2.csv')\n",
    "print(df.res_raw_2022Q1Q2.columns.values.tolist())\n",
    "print(df.res_raw_2022Q1Q2.shape)\n",
    "\n"
   ]
  },
  {
   "cell_type": "code",
   "execution_count": 9,
   "id": "f5ec0f19-efdd-421f-9ab1-7144eb99d5eb",
   "metadata": {},
   "outputs": [
    {
     "name": "stdout",
     "output_type": "stream",
     "text": [
      "['@id', 'Place', 'DogName', 'Box', 'Rug', 'Weight', 'StartPrice', 'Handicap', 'Margin1', 'Margin2', 'PIR', 'Checks', 'Comments', 'SplitMargin', 'RunTime', 'Prizemoney', 'RaceId', 'TrainerId', 'TrainerName']\n",
      "(755767, 19)\n"
     ]
    }
   ],
   "source": [
    "\n",
    "df.res_raw = df.res_raw_2021Q1Q4.append( df.res_raw_2022Q1Q2 )\n",
    "print(df.res_raw.columns.values.tolist())\n",
    "print(df.res_raw.shape)\n"
   ]
  },
  {
   "cell_type": "code",
   "execution_count": 10,
   "id": "1f908f84-7944-4eea-803b-0797bba488d4",
   "metadata": {},
   "outputs": [
    {
     "name": "stdout",
     "output_type": "stream",
     "text": [
      "(755767, 19)\n",
      "(649399, 19)\n",
      "(644761, 19)\n"
     ]
    }
   ],
   "source": [
    "\n",
    "df.res_raw.loc[:,\"DogName\"] = df.res_raw[\"DogName\"].str.replace(\"'\",\"\").str.replace(\".\",\"\")\n",
    "if DEBUG: print(df.res_raw.shape) \n",
    "# 320 052\n",
    "\n",
    "#if DEBUG: res_raw[ ~(res_raw.Place.isin( ['D','F','N','R','S','T',''])) ].shape # 66608\n",
    "if DEBUG: print(df.res_raw[ ~(df.res_raw.Place.isin( ['R','S'])) ].shape) \n",
    "# 275 864\n",
    "\n",
    "df.res_raw2 = df.res_raw[ ~(df.res_raw.Place.isin( ['R','S']))  ]\n",
    "df.res_ = df.res_raw2[~df.res_raw2.Place.isna()]\n",
    "if DEBUG: print(df.res_.shape) \n",
    "# 273 735\n",
    "\n",
    "del df.res_raw, df.res_raw2\n",
    "\n",
    "#res_ = res_raw\n"
   ]
  },
  {
   "cell_type": "code",
   "execution_count": 11,
   "id": "2ec26b41-4fd1-4f7f-8b5b-1ba701dbd147",
   "metadata": {},
   "outputs": [
    {
     "name": "stdout",
     "output_type": "stream",
     "text": [
      "/mnt/batch/tasks/shared/LS_root/mounts/clusters/compute-one-8c-32gb/code/Users/karan.bhatti/race_details_2022Q1_2022Q2.csv\n",
      "['@id', 'RaceNum', 'RaceName', 'RaceTime', 'Distance', 'RaceGrade', 'Track', 'date']\n",
      "(38562, 8)\n",
      "['@id', 'RaceNum', 'RaceName', 'RaceTime', 'Distance', 'RaceGrade', 'Track', 'date']\n",
      "(51833, 8)\n"
     ]
    }
   ],
   "source": [
    "\n",
    "# Importing Race Details \n",
    "\n",
    "#race_raw = pd.read_csv('C:\\\\Users\\\\karan\\\\Documents\\\\Data\\\\racing\\\\FastTrack\\\\Past\\\\race_details_20211201_20211231.csv', parse_dates = True)\n",
    "#df.race_raw = pd.read_csv('C:\\\\Users\\\\karan\\\\Documents\\\\Data\\\\racing\\\\FastTrack\\\\Past\\\\race_details_20220101_20220531.csv', parse_dates = True)\n",
    "\n",
    "print(f'{fileloc}/race_details_2022Q1_2022Q2.csv')\n",
    "\n",
    "df.race_raw_2022Q1Q2 = pd.read_csv(f'{fileloc}/race_details_2022Q1_2022Q2.csv', parse_dates = True)\n",
    "print(df.race_raw_2022Q1Q2.columns.values.tolist())\n",
    "print(df.race_raw_2022Q1Q2.shape)\n",
    "\n",
    "df.race_raw_2021Q1Q4 = pd.read_csv(f'{fileloc}/race_details_2021Q1_2021Q4.csv', parse_dates = True)\n",
    "print(df.race_raw_2021Q1Q4.columns.values.tolist())\n",
    "print(df.race_raw_2021Q1Q4.shape)\n"
   ]
  },
  {
   "cell_type": "code",
   "execution_count": 12,
   "id": "3a33ce04-86ed-47e9-9742-73168b14b75e",
   "metadata": {},
   "outputs": [
    {
     "name": "stdout",
     "output_type": "stream",
     "text": [
      "['@id', 'RaceNum', 'RaceName', 'RaceTime', 'Distance', 'RaceGrade', 'Track', 'date']\n",
      "(90395, 8)\n",
      "(90395, 9)\n",
      "(81412, 9)\n"
     ]
    }
   ],
   "source": [
    "\n",
    "\n",
    "df.race_raw = df.race_raw_2021Q1Q4.append( df.race_raw_2022Q1Q2 )\n",
    "print(df.race_raw.columns.values.tolist())\n",
    "print(df.race_raw.shape)\n",
    "\n",
    "\n",
    "\n",
    "\n",
    "df.race_raw['Event_Dt'] = pd.to_datetime(df.race_raw['date']).dt.date\n",
    "\n",
    "#dtvalct = race_raw.Event_Dt.value_counts()\n",
    "\n",
    "df.race_raw.loc[df.race_raw.Track.isin(['Murray Bridge (MBR)','Murray Bridge (MBS)']), \"Track\"] = 'Murray Bridge'\n",
    "df.race_raw.loc[df.race_raw.Track.isin(['Richmond (RIS)']), \"Track\"] = 'Richmond'\n",
    "\n",
    "df.race_raw.loc[df.race_raw.Track.isin(['Sandown (SAP)']), \"Track\"] = 'Sandown Park'\n",
    "\n",
    "df.race_raw.loc[df.race_raw.Track.isin(['Meadows (MEP)']), \"Track\"] = 'Meadows'\n",
    "df.race_raw.loc[df.race_raw.Track.isin(['The Meadows']), \"Track\"] = 'Meadows'\n",
    "\n",
    "\n",
    "if DEBUG : print(df.race_raw.shape)\n",
    "\n",
    "# 2021\n",
    "# 52,103 Races\n",
    "\n",
    "# 2022 upto May\n",
    "# 21,002 Races\n",
    "\n",
    "# 2022 Q1/Q2\n",
    "# 38,562 Races\n",
    "\n",
    "# 2022 Q1/Q2 + 2021 Q1/Q2/Q3/Q4\n",
    "# 81,412 Races\n",
    "\n",
    "df.race_ = df.race_raw[ ~df.race_raw.Track.str.contains('NZ')]\n",
    "\n",
    "if DEBUG : print(df.race_.shape)\n",
    "\n",
    "del df.race_raw\n",
    "\n",
    "#if DEBUG: print(df.race_.dtypes)\n"
   ]
  },
  {
   "cell_type": "code",
   "execution_count": 16,
   "id": "6ea61b23-f9d6-4787-9776-76ae0e3efaa5",
   "metadata": {},
   "outputs": [
    {
     "name": "stdout",
     "output_type": "stream",
     "text": [
      "['@id', 'Place', 'DogName', 'Box', 'Rug', 'Weight', 'StartPrice', 'Handicap', 'Margin1', 'Margin2', 'PIR', 'Checks', 'Comments', 'SplitMargin', 'RunTime', 'Prizemoney', 'RaceId', 'TrainerId', 'TrainerName']\n",
      "['@id', 'RaceNum', 'RaceName', 'RaceTime', 'Distance', 'RaceGrade', 'Track', 'date', 'Event_Dt']\n",
      "(644761, 19)\n",
      "(81412, 9)\n",
      "(577317, 28)\n"
     ]
    }
   ],
   "source": [
    "\n",
    "if DEBUG:\n",
    "    print(df.res_.columns.values.tolist())\n",
    "    print(df.race_.columns.values.tolist())\n",
    "    \n",
    "    print(df.res_.shape)\n",
    "    print(df.race_.shape)\n",
    "\n",
    "df.ft_raw = pd.merge(df.res_, df.race_, left_on = 'RaceId', right_on = '@id', how = 'inner', suffixes=('_DOG', '_RACE'))\n",
    "if DEBUG: print(df.ft_raw.shape)\n",
    "\n",
    "# 2021\n",
    "# 333,285\n",
    "\n",
    "# 2022 upto May\n",
    "# 132,558\n",
    "\n",
    "# 2022 Q1/Q2\n",
    "# 245,827\n",
    "\n",
    "# 2022 Q1/Q2 + 2021 Q1/Q2/Q3/Q4\n",
    "# 245,827\n",
    "\n",
    "#qc_DogName = df.ft_merg.DogName.value_counts()\n"
   ]
  },
  {
   "cell_type": "code",
   "execution_count": null,
   "id": "a6839760-07df-469b-ae3c-1af1229fee3a",
   "metadata": {},
   "outputs": [],
   "source": []
  },
  {
   "cell_type": "code",
   "execution_count": 14,
   "id": "e1bd3a6e-26ba-485c-8961-8a7d10fba4e8",
   "metadata": {},
   "outputs": [],
   "source": [
    "\n",
    "#summ.ft = hd.describe_df(df.ft)\n"
   ]
  },
  {
   "cell_type": "code",
   "execution_count": 17,
   "id": "7b7a3bcd-ca8e-489c-9a8c-9e98aa19daa9",
   "metadata": {},
   "outputs": [
    {
     "name": "stdout",
     "output_type": "stream",
     "text": [
      "['@id_DOG', 'Place', 'DogName', 'Box', 'Rug', 'Weight', 'StartPrice', 'Handicap', 'Margin1', 'Margin2', 'PIR', 'Checks', 'Comments', 'SplitMargin', 'RunTime', 'Prizemoney', 'RaceId', 'TrainerId', 'TrainerName', '@id_RACE', 'RaceNum', 'RaceName', 'RaceTime', 'Distance', 'RaceGrade', 'Track', 'date', 'Event_Dt']\n"
     ]
    }
   ],
   "source": [
    "\n",
    "print(df.ft_raw.columns.values.tolist())\n"
   ]
  },
  {
   "cell_type": "markdown",
   "id": "6308c4e7-5f3f-44c4-8355-d8c8d461ae02",
   "metadata": {},
   "source": [
    "### A) Prepare the Base Dataset -- Exclusions (Missing ft sp, place info, Margin1, num_dogs u5)"
   ]
  },
  {
   "cell_type": "code",
   "execution_count": 18,
   "id": "89cfed40-14c2-4939-a7d2-11b1a6c3ba07",
   "metadata": {},
   "outputs": [
    {
     "name": "stdout",
     "output_type": "stream",
     "text": [
      "80909\n",
      "\n",
      "# Part 1 - Removing Races with missing fast track prices - can't be measured for performance\n",
      "Shape : (569648, 29), Races : 79518, Race w missing fast track prices : 1391\n",
      "\n",
      "# Part 2 - Removing Races with Missing Place Information\n",
      "Shape : (541552, 29), Races : 75740, Races w missing Place : 3778\n",
      "\n",
      "# Part 3 - Removing Races with no Missing Margin1 information\n",
      "Shape : (541527, 29), Races : 75721, Races w missing Margin : 19\n"
     ]
    }
   ],
   "source": [
    "\n",
    "# Delete races where ft_sp is blank\n",
    "all_races = df.ft_raw['@id_RACE'].unique().tolist()\n",
    "print(len(all_races))\n",
    "print()\n",
    "\n",
    "print(\"# Part 1 - Removing Races with missing fast track prices - can't be measured for performance\")\n",
    "# Clean the fast track prices\n",
    "df.ft_raw['ft_sp'] = df.ft_raw.StartPrice.apply(lambda x : float(str(x).replace(\"$\",\"\").replace(\"F\",\"\")) )\n",
    "\n",
    "blank_ft_sp_races = df.ft_raw[df.ft_raw['ft_sp'].isna()]['@id_RACE'].unique().tolist()\n",
    "#print(len(blank_ft_sp_races))\n",
    "df_base0 = df.ft_raw[ ( ~df.ft_raw['@id_RACE'].isin(blank_ft_sp_races) ) ]\n",
    "print(f\"Shape : {df_base0.shape}, Races : {len(df_base0['@id_RACE'].unique().tolist())}, Race w missing fast track prices : {len(blank_ft_sp_races)}\")\n",
    "print()\n",
    "\n",
    "print(\"# Part 2 - Removing Races with Missing Place Information\")\n",
    "place_to_remove = ['F','T','N','P','B','D']\n",
    "races_excl_pos = df_base0[df_base0['Place'].isin(place_to_remove)]['@id_RACE'].unique().tolist()\n",
    "#print(len(races_excl_pos))\n",
    "\n",
    "df_base1 = df_base0[ ( ~df_base0['@id_RACE'].isin(races_excl_pos) ) ]\n",
    "print(f\"Shape : {df_base1.shape}, Races : {len(df_base1['@id_RACE'].unique().tolist())}, Races w missing Place : {len(races_excl_pos)}\")\n",
    "print()\n",
    "\n",
    "print(\"# Part 3 - Removing Races with no Missing Margin1 information\")\n",
    "races_excl_margin = df_base1[df_base1['Margin1'].isna()]['@id_RACE'].unique().tolist()\n",
    "#print(len(races_excl_margin))\n",
    "\n",
    "df_base2 = df_base1[ ( ~df_base1['@id_RACE'].isin(races_excl_margin) ) ]\n",
    "print(f\"Shape : {df_base2.shape}, Races : {len(df_base2['@id_RACE'].unique().tolist())}, Races w missing Margin : {len(races_excl_margin)}\")\n",
    "\n",
    "del df_base0, df_base1\n"
   ]
  },
  {
   "cell_type": "code",
   "execution_count": 19,
   "id": "f73e98b4-5903-4cf0-9a51-efd075d26e25",
   "metadata": {},
   "outputs": [
    {
     "name": "stdout",
     "output_type": "stream",
     "text": [
      "# Part 4 - Removing Races with under 5 dogs\n",
      "(75721, 2)\n",
      "(541527, 29)\n",
      "\n",
      "['@id_DOG', 'Place', 'DogName', 'Box', 'Rug', 'Weight', 'StartPrice', 'Handicap', 'Margin1', 'Margin2', 'PIR', 'Checks', 'Comments', 'SplitMargin', 'RunTime', 'Prizemoney', 'RaceId', 'TrainerId', 'TrainerName', '@id_RACE', 'RaceNum', 'RaceName', 'RaceTime', 'Distance', 'RaceGrade', 'Track', 'date', 'Event_Dt', 'ft_sp', 'x_num_dogs']\n",
      "\n",
      "1243\n",
      "\n",
      "75721\n",
      "\n",
      "Shape : (536782, 30), Races : 74478, Races u5 Dogs : 1243\n",
      "\n"
     ]
    }
   ],
   "source": [
    "\n",
    "print(\"# Part 4 - Removing Races with under 5 dogs\")\n",
    "df_num_dogs = df_base2.groupby(\"@id_RACE\").agg( { '@id_DOG':'nunique' } ).reset_index().rename(columns = {'@id_DOG':'x_num_dogs'})\n",
    "\n",
    "print(df_num_dogs.shape)\n",
    "print(df_base2.shape)\n",
    "print()\n",
    "\n",
    "df_base3 = pd.merge( df_base2, df_num_dogs, on = [\"@id_RACE\"], how = 'left')\n",
    "print(df_base3.columns.values.tolist())\n",
    "print()\n",
    "\n",
    "races_u5dogs = df_base3[df_base3.x_num_dogs.isin([1,2,3,4])]['@id_RACE'].unique().tolist()\n",
    "print(len(races_u5dogs))\n",
    "print()\n",
    "\n",
    "print( len(df_base3['@id_RACE'].unique().tolist()))\n",
    "df_base = df_base3[ ( ~df_base3['@id_RACE'].isin(races_u5dogs) ) ].copy()   \n",
    "print()\n",
    "\n",
    "#print(df.ft.shape)\n",
    "print(f\"Shape : {df_base.shape}, Races : {len(df_base['@id_RACE'].unique().tolist())}, Races u5 Dogs : {len(races_u5dogs)}\")\n",
    "print()\n",
    "\n",
    "del df_base2, df_base3\n"
   ]
  },
  {
   "cell_type": "code",
   "execution_count": 20,
   "id": "bcb5ffb4-26c1-4d8e-837f-76dd157c519b",
   "metadata": {},
   "outputs": [],
   "source": [
    "\n",
    "#del dognameslist\n",
    "# DogNames list\n",
    "dognameslist = df_base.DogName.unique().tolist()\n",
    "\n",
    "# Fix the Place Variable\n",
    "df_base['position'] = df_base.Place.apply(lambda x : x.replace(\"=\",\"\") if x in ['1=','2=','3=','4=','5=','6=','7=','8='] else x)\n",
    "\n",
    "#print(df_base_sp.position.value_counts())\n"
   ]
  },
  {
   "cell_type": "markdown",
   "id": "c9c39076-dec0-4e2d-9c0e-7bc370329bc0",
   "metadata": {},
   "source": [
    "### B) Create Variable for Categories"
   ]
  },
  {
   "cell_type": "code",
   "execution_count": 21,
   "id": "779e532a-0374-44fe-90fa-fe91a4f97fcf",
   "metadata": {},
   "outputs": [],
   "source": [
    "\n",
    "df_base_cats = df_base.copy()\n"
   ]
  },
  {
   "cell_type": "code",
   "execution_count": 22,
   "id": "db3a814c-0919-4468-85f6-7b9781372516",
   "metadata": {},
   "outputs": [],
   "source": [
    "\n",
    "# Sort for Easy QC\n",
    "df_base_cats.sort_values(by = ['@id_DOG', 'DogName', 'Event_Dt'], inplace = True)\n"
   ]
  },
  {
   "cell_type": "code",
   "execution_count": 23,
   "id": "24030f3f-3a64-4dee-9f42-74e2ac7374d5",
   "metadata": {},
   "outputs": [
    {
     "name": "stdout",
     "output_type": "stream",
     "text": [
      "ZIVON BALE\n"
     ]
    }
   ],
   "source": [
    "\n",
    "print(dognameslist[5])\n"
   ]
  },
  {
   "cell_type": "code",
   "execution_count": 24,
   "id": "aff18ad6-df5d-40f5-b2a1-41db79c87870",
   "metadata": {},
   "outputs": [
    {
     "data": {
      "text/html": [
       "<div>\n",
       "<style scoped>\n",
       "    .dataframe tbody tr th:only-of-type {\n",
       "        vertical-align: middle;\n",
       "    }\n",
       "\n",
       "    .dataframe tbody tr th {\n",
       "        vertical-align: top;\n",
       "    }\n",
       "\n",
       "    .dataframe thead th {\n",
       "        text-align: right;\n",
       "    }\n",
       "</style>\n",
       "<table border=\"1\" class=\"dataframe\">\n",
       "  <thead>\n",
       "    <tr style=\"text-align: right;\">\n",
       "      <th></th>\n",
       "      <th>@id_DOG</th>\n",
       "      <th>Place</th>\n",
       "      <th>DogName</th>\n",
       "      <th>Box</th>\n",
       "      <th>Rug</th>\n",
       "      <th>Weight</th>\n",
       "      <th>StartPrice</th>\n",
       "      <th>Handicap</th>\n",
       "      <th>Margin1</th>\n",
       "      <th>Margin2</th>\n",
       "      <th>PIR</th>\n",
       "      <th>Checks</th>\n",
       "      <th>Comments</th>\n",
       "      <th>SplitMargin</th>\n",
       "      <th>RunTime</th>\n",
       "      <th>Prizemoney</th>\n",
       "      <th>RaceId</th>\n",
       "      <th>TrainerId</th>\n",
       "      <th>TrainerName</th>\n",
       "      <th>@id_RACE</th>\n",
       "      <th>RaceNum</th>\n",
       "      <th>RaceName</th>\n",
       "      <th>RaceTime</th>\n",
       "      <th>Distance</th>\n",
       "      <th>RaceGrade</th>\n",
       "      <th>Track</th>\n",
       "      <th>date</th>\n",
       "      <th>Event_Dt</th>\n",
       "      <th>ft_sp</th>\n",
       "      <th>x_num_dogs</th>\n",
       "      <th>position</th>\n",
       "    </tr>\n",
       "  </thead>\n",
       "  <tbody>\n",
       "    <tr>\n",
       "      <th>3729</th>\n",
       "      <td>108390981</td>\n",
       "      <td>4</td>\n",
       "      <td>DOLLY DOES IT</td>\n",
       "      <td>5.0</td>\n",
       "      <td>5</td>\n",
       "      <td>30.4</td>\n",
       "      <td>$11.00</td>\n",
       "      <td>NaN</td>\n",
       "      <td>6.00</td>\n",
       "      <td>0.14</td>\n",
       "      <td>0</td>\n",
       "      <td>0</td>\n",
       "      <td>B3</td>\n",
       "      <td>NaN</td>\n",
       "      <td>26.43</td>\n",
       "      <td>80.0</td>\n",
       "      <td>626271182</td>\n",
       "      <td>92892</td>\n",
       "      <td>M Elphinstone</td>\n",
       "      <td>626271182</td>\n",
       "      <td>10</td>\n",
       "      <td>GREAT NORTHERN</td>\n",
       "      <td>03:14PM</td>\n",
       "      <td>452m</td>\n",
       "      <td>Mixed 4/5</td>\n",
       "      <td>Devonport</td>\n",
       "      <td>05 Jan 21</td>\n",
       "      <td>2021-01-05</td>\n",
       "      <td>11.0</td>\n",
       "      <td>8</td>\n",
       "      <td>4</td>\n",
       "    </tr>\n",
       "    <tr>\n",
       "      <th>9211</th>\n",
       "      <td>108390981</td>\n",
       "      <td>5</td>\n",
       "      <td>DOLLY DOES IT</td>\n",
       "      <td>4.0</td>\n",
       "      <td>4</td>\n",
       "      <td>30.2</td>\n",
       "      <td>$7.00</td>\n",
       "      <td>NaN</td>\n",
       "      <td>6.00</td>\n",
       "      <td>1.14</td>\n",
       "      <td>0</td>\n",
       "      <td>0</td>\n",
       "      <td>NaN</td>\n",
       "      <td>NaN</td>\n",
       "      <td>26.40</td>\n",
       "      <td>0.0</td>\n",
       "      <td>629797242</td>\n",
       "      <td>92892</td>\n",
       "      <td>M Elphinstone</td>\n",
       "      <td>629797242</td>\n",
       "      <td>10</td>\n",
       "      <td>GREAT NORTHERN</td>\n",
       "      <td>03:09PM</td>\n",
       "      <td>452m</td>\n",
       "      <td>Grade 5</td>\n",
       "      <td>Devonport</td>\n",
       "      <td>12 Jan 21</td>\n",
       "      <td>2021-01-12</td>\n",
       "      <td>7.0</td>\n",
       "      <td>7</td>\n",
       "      <td>5</td>\n",
       "    </tr>\n",
       "    <tr>\n",
       "      <th>14917</th>\n",
       "      <td>108390981</td>\n",
       "      <td>1</td>\n",
       "      <td>DOLLY DOES IT</td>\n",
       "      <td>5.0</td>\n",
       "      <td>5</td>\n",
       "      <td>30.2</td>\n",
       "      <td>$7.00</td>\n",
       "      <td>NaN</td>\n",
       "      <td>5.25</td>\n",
       "      <td>NaN</td>\n",
       "      <td>0</td>\n",
       "      <td>0</td>\n",
       "      <td>NaN</td>\n",
       "      <td>8.1</td>\n",
       "      <td>26.20</td>\n",
       "      <td>1890.0</td>\n",
       "      <td>629797513</td>\n",
       "      <td>92892</td>\n",
       "      <td>M Elphinstone</td>\n",
       "      <td>629797513</td>\n",
       "      <td>4</td>\n",
       "      <td>SUREPICK</td>\n",
       "      <td>01:27PM</td>\n",
       "      <td>452m</td>\n",
       "      <td>Grade 5</td>\n",
       "      <td>Devonport</td>\n",
       "      <td>19 Jan 21</td>\n",
       "      <td>2021-01-19</td>\n",
       "      <td>7.0</td>\n",
       "      <td>7</td>\n",
       "      <td>1</td>\n",
       "    </tr>\n",
       "    <tr>\n",
       "      <th>37110</th>\n",
       "      <td>108390981</td>\n",
       "      <td>7</td>\n",
       "      <td>DOLLY DOES IT</td>\n",
       "      <td>1.0</td>\n",
       "      <td>1</td>\n",
       "      <td>30.0</td>\n",
       "      <td>$7.00</td>\n",
       "      <td>NaN</td>\n",
       "      <td>10.50</td>\n",
       "      <td>2.00</td>\n",
       "      <td>0</td>\n",
       "      <td>0</td>\n",
       "      <td>NaN</td>\n",
       "      <td>NaN</td>\n",
       "      <td>26.48</td>\n",
       "      <td>0.0</td>\n",
       "      <td>638810808</td>\n",
       "      <td>92892</td>\n",
       "      <td>M Elphinstone</td>\n",
       "      <td>638810808</td>\n",
       "      <td>8</td>\n",
       "      <td>LADBROKES</td>\n",
       "      <td>02:22PM</td>\n",
       "      <td>452m</td>\n",
       "      <td>Mixed 4/5 Heat</td>\n",
       "      <td>Devonport</td>\n",
       "      <td>16 Feb 21</td>\n",
       "      <td>2021-02-16</td>\n",
       "      <td>7.0</td>\n",
       "      <td>8</td>\n",
       "      <td>7</td>\n",
       "    </tr>\n",
       "    <tr>\n",
       "      <th>48421</th>\n",
       "      <td>108390981</td>\n",
       "      <td>8</td>\n",
       "      <td>DOLLY DOES IT</td>\n",
       "      <td>8.0</td>\n",
       "      <td>8</td>\n",
       "      <td>29.9</td>\n",
       "      <td>$91.00</td>\n",
       "      <td>NaN</td>\n",
       "      <td>18.50</td>\n",
       "      <td>3.57</td>\n",
       "      <td>0</td>\n",
       "      <td>0</td>\n",
       "      <td>SO</td>\n",
       "      <td>NaN</td>\n",
       "      <td>26.91</td>\n",
       "      <td>0.0</td>\n",
       "      <td>643554706</td>\n",
       "      <td>92892</td>\n",
       "      <td>M Elphinstone</td>\n",
       "      <td>643554706</td>\n",
       "      <td>8</td>\n",
       "      <td>NEW RECRUIT 2012</td>\n",
       "      <td>02:22PM</td>\n",
       "      <td>452m</td>\n",
       "      <td>Grade 4</td>\n",
       "      <td>Devonport</td>\n",
       "      <td>02 Mar 21</td>\n",
       "      <td>2021-03-02</td>\n",
       "      <td>91.0</td>\n",
       "      <td>8</td>\n",
       "      <td>8</td>\n",
       "    </tr>\n",
       "  </tbody>\n",
       "</table>\n",
       "</div>"
      ],
      "text/plain": [
       "         @id_DOG Place        DogName  Box  Rug  Weight StartPrice  Handicap  Margin1  Margin2 PIR  Checks Comments  SplitMargin  RunTime  Prizemoney     RaceId  TrainerId    TrainerName   @id_RACE  \\\n",
       "3729   108390981     4  DOLLY DOES IT  5.0    5    30.4     $11.00       NaN     6.00     0.14   0       0       B3          NaN    26.43        80.0  626271182      92892  M Elphinstone  626271182   \n",
       "9211   108390981     5  DOLLY DOES IT  4.0    4    30.2      $7.00       NaN     6.00     1.14   0       0      NaN          NaN    26.40         0.0  629797242      92892  M Elphinstone  629797242   \n",
       "14917  108390981     1  DOLLY DOES IT  5.0    5    30.2      $7.00       NaN     5.25      NaN   0       0      NaN          8.1    26.20      1890.0  629797513      92892  M Elphinstone  629797513   \n",
       "37110  108390981     7  DOLLY DOES IT  1.0    1    30.0      $7.00       NaN    10.50     2.00   0       0      NaN          NaN    26.48         0.0  638810808      92892  M Elphinstone  638810808   \n",
       "48421  108390981     8  DOLLY DOES IT  8.0    8    29.9     $91.00       NaN    18.50     3.57   0       0       SO          NaN    26.91         0.0  643554706      92892  M Elphinstone  643554706   \n",
       "\n",
       "       RaceNum          RaceName RaceTime Distance       RaceGrade      Track       date    Event_Dt  ft_sp  x_num_dogs position  \n",
       "3729        10    GREAT NORTHERN  03:14PM     452m       Mixed 4/5  Devonport  05 Jan 21  2021-01-05   11.0           8        4  \n",
       "9211        10    GREAT NORTHERN  03:09PM     452m         Grade 5  Devonport  12 Jan 21  2021-01-12    7.0           7        5  \n",
       "14917        4          SUREPICK  01:27PM     452m         Grade 5  Devonport  19 Jan 21  2021-01-19    7.0           7        1  \n",
       "37110        8         LADBROKES  02:22PM     452m  Mixed 4/5 Heat  Devonport  16 Feb 21  2021-02-16    7.0           8        7  \n",
       "48421        8  NEW RECRUIT 2012  02:22PM     452m         Grade 4  Devonport  02 Mar 21  2021-03-02   91.0           8        8  "
      ]
     },
     "execution_count": 24,
     "metadata": {},
     "output_type": "execute_result"
    }
   ],
   "source": [
    "\n",
    "df_base_cats[df_base_cats['@id_DOG'].isin([108390981])]\n"
   ]
  },
  {
   "cell_type": "code",
   "execution_count": 25,
   "id": "076b19ee-92b1-408d-ae34-f0613ea9b122",
   "metadata": {},
   "outputs": [],
   "source": [
    "\n",
    "# ADDITIONAL VARIABLES\n",
    "doglevel = ['@id_DOG']\n",
    "\n",
    "# Distance and Speed in each race\n",
    "df_base_cats['x_dist'] = df_base_cats['Distance'].apply(lambda x : x.replace('m','')).astype(int)\n",
    "df_base_cats['speed'] = (df_base_cats['x_dist'] / df_base_cats['RunTime'])*1000\n",
    "\n",
    "# GROUPED X_DIST \n",
    "df_base_cats['x_dist_gp'] = df_base_cats['x_dist'].apply(lambda x : 300 if x < 330 else 350 if x < 380 else 400 if x < 420 else 450 if x < 485 else 500 if x < 550 else 600 if x < 650 else 700 if x < 750 else -999)\n",
    "\n",
    "# Flag for getting a total race count\n",
    "df_base_cats['f_1'] = 1\n",
    "\n",
    "# Total Races\n",
    "df_base_cats['x_races_tot'] = df_base_cats.groupby(doglevel).cumcount()\n"
   ]
  },
  {
   "cell_type": "code",
   "execution_count": 26,
   "id": "466e21e7-8b4e-4747-8423-720b6949e418",
   "metadata": {},
   "outputs": [
    {
     "name": "stdout",
     "output_type": "stream",
     "text": [
      "['@id_DOG', 'Place', 'DogName', 'Box', 'Rug', 'Weight', 'StartPrice', 'Handicap', 'Margin1', 'Margin2', 'PIR', 'Checks', 'Comments', 'SplitMargin', 'RunTime', 'Prizemoney', 'RaceId', 'TrainerId', 'TrainerName', '@id_RACE', 'RaceNum', 'RaceName', 'RaceTime', 'Distance', 'RaceGrade', 'Track', 'date', 'Event_Dt', 'ft_sp', 'x_num_dogs', 'position', 'x_dist', 'speed', 'x_dist_gp', 'f_1', 'x_races_tot']\n"
     ]
    }
   ],
   "source": [
    "\n",
    "print(df_base_cats.columns.values.tolist())\n"
   ]
  },
  {
   "cell_type": "code",
   "execution_count": 27,
   "id": "77ef4c53-1887-4530-bb02-914a40afc8cc",
   "metadata": {},
   "outputs": [
    {
     "name": "stdout",
     "output_type": "stream",
     "text": [
      "(536782, 36)\n"
     ]
    }
   ],
   "source": [
    "\n",
    "print(df_base_cats.shape)\n"
   ]
  },
  {
   "cell_type": "code",
   "execution_count": 28,
   "id": "28d072d1-3d4e-4a32-988a-10d0f693a52e",
   "metadata": {},
   "outputs": [
    {
     "name": "stdout",
     "output_type": "stream",
     "text": [
      "(536782, 7)\n",
      "['dist300', 'dist350', 'dist400', 'dist450', 'dist500', 'dist600', 'dist700']\n",
      "\n",
      "(536782, 43)\n",
      "['@id_DOG', 'Place', 'DogName', 'Box', 'Rug', 'Weight', 'StartPrice', 'Handicap', 'Margin1', 'Margin2', 'PIR', 'Checks', 'Comments', 'SplitMargin', 'RunTime', 'Prizemoney', 'RaceId', 'TrainerId', 'TrainerName', '@id_RACE', 'RaceNum', 'RaceName', 'RaceTime', 'Distance', 'RaceGrade', 'Track', 'date', 'Event_Dt', 'ft_sp', 'x_num_dogs', 'position', 'x_dist', 'speed', 'x_dist_gp', 'f_1', 'x_races_tot', 'dist300', 'dist350', 'dist400', 'dist450', 'dist500', 'dist600', 'dist700']\n",
      "\n"
     ]
    }
   ],
   "source": [
    "\n",
    "ft_w_dummies = pd.get_dummies(df_base_cats['x_dist_gp']).add_prefix('dist')\n",
    "\n",
    "print(ft_w_dummies.shape)\n",
    "print(ft_w_dummies.columns.values.tolist())\n",
    "print()\n",
    "\n",
    "df_base_cats_w_dummies = pd.concat([df_base_cats, ft_w_dummies], axis = 1)\n",
    "\n",
    "print(df_base_cats_w_dummies.shape)\n",
    "print(df_base_cats_w_dummies.columns.values.tolist())\n",
    "print()\n"
   ]
  },
  {
   "cell_type": "code",
   "execution_count": 29,
   "id": "c8a6947b-8dfd-4f80-83a4-ecdd6333640f",
   "metadata": {},
   "outputs": [
    {
     "data": {
      "text/html": [
       "<div>\n",
       "<style scoped>\n",
       "    .dataframe tbody tr th:only-of-type {\n",
       "        vertical-align: middle;\n",
       "    }\n",
       "\n",
       "    .dataframe tbody tr th {\n",
       "        vertical-align: top;\n",
       "    }\n",
       "\n",
       "    .dataframe thead th {\n",
       "        text-align: right;\n",
       "    }\n",
       "</style>\n",
       "<table border=\"1\" class=\"dataframe\">\n",
       "  <thead>\n",
       "    <tr style=\"text-align: right;\">\n",
       "      <th>x_dist_gp</th>\n",
       "      <th>300</th>\n",
       "      <th>350</th>\n",
       "      <th>400</th>\n",
       "      <th>450</th>\n",
       "      <th>500</th>\n",
       "      <th>600</th>\n",
       "      <th>700</th>\n",
       "    </tr>\n",
       "    <tr>\n",
       "      <th>dist300</th>\n",
       "      <th></th>\n",
       "      <th></th>\n",
       "      <th></th>\n",
       "      <th></th>\n",
       "      <th></th>\n",
       "      <th></th>\n",
       "      <th></th>\n",
       "    </tr>\n",
       "  </thead>\n",
       "  <tbody>\n",
       "    <tr>\n",
       "      <th>0</th>\n",
       "      <td>0</td>\n",
       "      <td>65843</td>\n",
       "      <td>161029</td>\n",
       "      <td>96526</td>\n",
       "      <td>108992</td>\n",
       "      <td>14259</td>\n",
       "      <td>5323</td>\n",
       "    </tr>\n",
       "    <tr>\n",
       "      <th>1</th>\n",
       "      <td>84810</td>\n",
       "      <td>0</td>\n",
       "      <td>0</td>\n",
       "      <td>0</td>\n",
       "      <td>0</td>\n",
       "      <td>0</td>\n",
       "      <td>0</td>\n",
       "    </tr>\n",
       "  </tbody>\n",
       "</table>\n",
       "</div>"
      ],
      "text/plain": [
       "x_dist_gp    300    350     400    450     500    600   700\n",
       "dist300                                                    \n",
       "0              0  65843  161029  96526  108992  14259  5323\n",
       "1          84810      0       0      0       0      0     0"
      ]
     },
     "execution_count": 29,
     "metadata": {},
     "output_type": "execute_result"
    }
   ],
   "source": [
    "\n",
    "pd.crosstab( df_base_cats_w_dummies['dist300'], df_base_cats_w_dummies['x_dist_gp'])\n"
   ]
  },
  {
   "cell_type": "markdown",
   "id": "e70cc3c8-3ccd-4675-8d5e-de5a1c2895c9",
   "metadata": {},
   "source": [
    "\n",
    "### Exporting the Dataset\n"
   ]
  },
  {
   "cell_type": "code",
   "execution_count": 30,
   "id": "0b3a27f8-02c3-40f7-a668-1ec1bbc0af81",
   "metadata": {},
   "outputs": [],
   "source": [
    "\n",
    "keep_cols_for_export = ['@id_DOG', 'DogName', '@id_RACE','RaceName','Distance','x_dist_gp', 'dist300', 'dist350', 'dist400', 'dist450', 'dist500', 'dist600', 'dist700']\n",
    "#'Event_Dt', \n",
    "\n",
    "cols_for_drop = []\n",
    "\n",
    "todaydt = datetime.now().date()\n",
    "exp_fname = f'dataprep_categorical_{todaydt}.csv'\n",
    "\n"
   ]
  },
  {
   "cell_type": "code",
   "execution_count": 31,
   "id": "c4bd91f4-d173-4bf9-be08-0c1d31338c6c",
   "metadata": {},
   "outputs": [
    {
     "name": "stdout",
     "output_type": "stream",
     "text": [
      "(536782, 13)\n"
     ]
    }
   ],
   "source": [
    "\n",
    "exp_ds = df_base_cats_w_dummies[keep_cols_for_export]\n",
    "\n",
    "print(exp_ds.shape)\n"
   ]
  },
  {
   "cell_type": "code",
   "execution_count": 32,
   "id": "d0686ea1-f2ce-4661-83de-25ec800e77b2",
   "metadata": {},
   "outputs": [
    {
     "name": "stdout",
     "output_type": "stream",
     "text": [
      "['@id_DOG', 'DogName', '@id_RACE', 'RaceName', 'Distance', 'x_dist_gp', 'dist300', 'dist350', 'dist400', 'dist450', 'dist500', 'dist600', 'dist700']\n"
     ]
    }
   ],
   "source": [
    "\n",
    "print(exp_ds.columns.values.tolist())\n"
   ]
  },
  {
   "cell_type": "code",
   "execution_count": 33,
   "id": "961924c4-dee0-4278-a5c6-b15aaea70c70",
   "metadata": {},
   "outputs": [
    {
     "data": {
      "text/html": [
       "<div>\n",
       "<style scoped>\n",
       "    .dataframe tbody tr th:only-of-type {\n",
       "        vertical-align: middle;\n",
       "    }\n",
       "\n",
       "    .dataframe tbody tr th {\n",
       "        vertical-align: top;\n",
       "    }\n",
       "\n",
       "    .dataframe thead th {\n",
       "        text-align: right;\n",
       "    }\n",
       "</style>\n",
       "<table border=\"1\" class=\"dataframe\">\n",
       "  <thead>\n",
       "    <tr style=\"text-align: right;\">\n",
       "      <th></th>\n",
       "      <th>@id_DOG</th>\n",
       "      <th>DogName</th>\n",
       "      <th>@id_RACE</th>\n",
       "      <th>RaceName</th>\n",
       "      <th>Distance</th>\n",
       "      <th>x_dist_gp</th>\n",
       "      <th>dist300</th>\n",
       "      <th>dist350</th>\n",
       "      <th>dist400</th>\n",
       "      <th>dist450</th>\n",
       "      <th>dist500</th>\n",
       "      <th>dist600</th>\n",
       "      <th>dist700</th>\n",
       "    </tr>\n",
       "  </thead>\n",
       "  <tbody>\n",
       "    <tr>\n",
       "      <th>3729</th>\n",
       "      <td>108390981</td>\n",
       "      <td>DOLLY DOES IT</td>\n",
       "      <td>626271182</td>\n",
       "      <td>GREAT NORTHERN</td>\n",
       "      <td>452m</td>\n",
       "      <td>450</td>\n",
       "      <td>0</td>\n",
       "      <td>0</td>\n",
       "      <td>0</td>\n",
       "      <td>1</td>\n",
       "      <td>0</td>\n",
       "      <td>0</td>\n",
       "      <td>0</td>\n",
       "    </tr>\n",
       "    <tr>\n",
       "      <th>9211</th>\n",
       "      <td>108390981</td>\n",
       "      <td>DOLLY DOES IT</td>\n",
       "      <td>629797242</td>\n",
       "      <td>GREAT NORTHERN</td>\n",
       "      <td>452m</td>\n",
       "      <td>450</td>\n",
       "      <td>0</td>\n",
       "      <td>0</td>\n",
       "      <td>0</td>\n",
       "      <td>1</td>\n",
       "      <td>0</td>\n",
       "      <td>0</td>\n",
       "      <td>0</td>\n",
       "    </tr>\n",
       "    <tr>\n",
       "      <th>14917</th>\n",
       "      <td>108390981</td>\n",
       "      <td>DOLLY DOES IT</td>\n",
       "      <td>629797513</td>\n",
       "      <td>SUREPICK</td>\n",
       "      <td>452m</td>\n",
       "      <td>450</td>\n",
       "      <td>0</td>\n",
       "      <td>0</td>\n",
       "      <td>0</td>\n",
       "      <td>1</td>\n",
       "      <td>0</td>\n",
       "      <td>0</td>\n",
       "      <td>0</td>\n",
       "    </tr>\n",
       "    <tr>\n",
       "      <th>37110</th>\n",
       "      <td>108390981</td>\n",
       "      <td>DOLLY DOES IT</td>\n",
       "      <td>638810808</td>\n",
       "      <td>LADBROKES</td>\n",
       "      <td>452m</td>\n",
       "      <td>450</td>\n",
       "      <td>0</td>\n",
       "      <td>0</td>\n",
       "      <td>0</td>\n",
       "      <td>1</td>\n",
       "      <td>0</td>\n",
       "      <td>0</td>\n",
       "      <td>0</td>\n",
       "    </tr>\n",
       "    <tr>\n",
       "      <th>48421</th>\n",
       "      <td>108390981</td>\n",
       "      <td>DOLLY DOES IT</td>\n",
       "      <td>643554706</td>\n",
       "      <td>NEW RECRUIT 2012</td>\n",
       "      <td>452m</td>\n",
       "      <td>450</td>\n",
       "      <td>0</td>\n",
       "      <td>0</td>\n",
       "      <td>0</td>\n",
       "      <td>1</td>\n",
       "      <td>0</td>\n",
       "      <td>0</td>\n",
       "      <td>0</td>\n",
       "    </tr>\n",
       "  </tbody>\n",
       "</table>\n",
       "</div>"
      ],
      "text/plain": [
       "         @id_DOG        DogName   @id_RACE          RaceName Distance  x_dist_gp  dist300  dist350  dist400  dist450  dist500  dist600  dist700\n",
       "3729   108390981  DOLLY DOES IT  626271182    GREAT NORTHERN     452m        450        0        0        0        1        0        0        0\n",
       "9211   108390981  DOLLY DOES IT  629797242    GREAT NORTHERN     452m        450        0        0        0        1        0        0        0\n",
       "14917  108390981  DOLLY DOES IT  629797513          SUREPICK     452m        450        0        0        0        1        0        0        0\n",
       "37110  108390981  DOLLY DOES IT  638810808         LADBROKES     452m        450        0        0        0        1        0        0        0\n",
       "48421  108390981  DOLLY DOES IT  643554706  NEW RECRUIT 2012     452m        450        0        0        0        1        0        0        0"
      ]
     },
     "execution_count": 33,
     "metadata": {},
     "output_type": "execute_result"
    }
   ],
   "source": [
    "\n",
    "exp_ds.head()\n"
   ]
  },
  {
   "cell_type": "code",
   "execution_count": 34,
   "id": "efbfa999-635c-4e56-b223-25c9ece93419",
   "metadata": {},
   "outputs": [
    {
     "data": {
      "text/html": [
       "<div>\n",
       "<style scoped>\n",
       "    .dataframe tbody tr th:only-of-type {\n",
       "        vertical-align: middle;\n",
       "    }\n",
       "\n",
       "    .dataframe tbody tr th {\n",
       "        vertical-align: top;\n",
       "    }\n",
       "\n",
       "    .dataframe thead th {\n",
       "        text-align: right;\n",
       "    }\n",
       "</style>\n",
       "<table border=\"1\" class=\"dataframe\">\n",
       "  <thead>\n",
       "    <tr style=\"text-align: right;\">\n",
       "      <th></th>\n",
       "      <th>@id_DOG</th>\n",
       "      <th>@id_RACE</th>\n",
       "      <th>x_dist_gp</th>\n",
       "      <th>dist300</th>\n",
       "      <th>dist350</th>\n",
       "      <th>dist400</th>\n",
       "      <th>dist450</th>\n",
       "      <th>dist500</th>\n",
       "      <th>dist600</th>\n",
       "      <th>dist700</th>\n",
       "    </tr>\n",
       "  </thead>\n",
       "  <tbody>\n",
       "    <tr>\n",
       "      <th>count</th>\n",
       "      <td>5.367820e+05</td>\n",
       "      <td>5.367820e+05</td>\n",
       "      <td>536782.000000</td>\n",
       "      <td>536782.000000</td>\n",
       "      <td>536782.000000</td>\n",
       "      <td>536782.000000</td>\n",
       "      <td>536782.000000</td>\n",
       "      <td>536782.000000</td>\n",
       "      <td>536782.000000</td>\n",
       "      <td>536782.000000</td>\n",
       "    </tr>\n",
       "    <tr>\n",
       "      <th>mean</th>\n",
       "      <td>4.526384e+08</td>\n",
       "      <td>7.292602e+08</td>\n",
       "      <td>415.650767</td>\n",
       "      <td>0.157997</td>\n",
       "      <td>0.122662</td>\n",
       "      <td>0.299990</td>\n",
       "      <td>0.179823</td>\n",
       "      <td>0.203047</td>\n",
       "      <td>0.026564</td>\n",
       "      <td>0.009917</td>\n",
       "    </tr>\n",
       "    <tr>\n",
       "      <th>std</th>\n",
       "      <td>1.120535e+08</td>\n",
       "      <td>5.833205e+07</td>\n",
       "      <td>77.953580</td>\n",
       "      <td>0.364739</td>\n",
       "      <td>0.328050</td>\n",
       "      <td>0.458253</td>\n",
       "      <td>0.384041</td>\n",
       "      <td>0.402268</td>\n",
       "      <td>0.160805</td>\n",
       "      <td>0.099087</td>\n",
       "    </tr>\n",
       "    <tr>\n",
       "      <th>min</th>\n",
       "      <td>1.083910e+08</td>\n",
       "      <td>6.238619e+08</td>\n",
       "      <td>300.000000</td>\n",
       "      <td>0.000000</td>\n",
       "      <td>0.000000</td>\n",
       "      <td>0.000000</td>\n",
       "      <td>0.000000</td>\n",
       "      <td>0.000000</td>\n",
       "      <td>0.000000</td>\n",
       "      <td>0.000000</td>\n",
       "    </tr>\n",
       "    <tr>\n",
       "      <th>25%</th>\n",
       "      <td>3.836043e+08</td>\n",
       "      <td>6.801957e+08</td>\n",
       "      <td>350.000000</td>\n",
       "      <td>0.000000</td>\n",
       "      <td>0.000000</td>\n",
       "      <td>0.000000</td>\n",
       "      <td>0.000000</td>\n",
       "      <td>0.000000</td>\n",
       "      <td>0.000000</td>\n",
       "      <td>0.000000</td>\n",
       "    </tr>\n",
       "    <tr>\n",
       "      <th>50%</th>\n",
       "      <td>4.517679e+08</td>\n",
       "      <td>7.290297e+08</td>\n",
       "      <td>400.000000</td>\n",
       "      <td>0.000000</td>\n",
       "      <td>0.000000</td>\n",
       "      <td>0.000000</td>\n",
       "      <td>0.000000</td>\n",
       "      <td>0.000000</td>\n",
       "      <td>0.000000</td>\n",
       "      <td>0.000000</td>\n",
       "    </tr>\n",
       "    <tr>\n",
       "      <th>75%</th>\n",
       "      <td>5.274578e+08</td>\n",
       "      <td>7.792436e+08</td>\n",
       "      <td>450.000000</td>\n",
       "      <td>0.000000</td>\n",
       "      <td>0.000000</td>\n",
       "      <td>1.000000</td>\n",
       "      <td>0.000000</td>\n",
       "      <td>0.000000</td>\n",
       "      <td>0.000000</td>\n",
       "      <td>0.000000</td>\n",
       "    </tr>\n",
       "    <tr>\n",
       "      <th>max</th>\n",
       "      <td>2.145360e+09</td>\n",
       "      <td>8.292517e+08</td>\n",
       "      <td>700.000000</td>\n",
       "      <td>1.000000</td>\n",
       "      <td>1.000000</td>\n",
       "      <td>1.000000</td>\n",
       "      <td>1.000000</td>\n",
       "      <td>1.000000</td>\n",
       "      <td>1.000000</td>\n",
       "      <td>1.000000</td>\n",
       "    </tr>\n",
       "  </tbody>\n",
       "</table>\n",
       "</div>"
      ],
      "text/plain": [
       "            @id_DOG      @id_RACE      x_dist_gp        dist300        dist350        dist400        dist450        dist500        dist600        dist700\n",
       "count  5.367820e+05  5.367820e+05  536782.000000  536782.000000  536782.000000  536782.000000  536782.000000  536782.000000  536782.000000  536782.000000\n",
       "mean   4.526384e+08  7.292602e+08     415.650767       0.157997       0.122662       0.299990       0.179823       0.203047       0.026564       0.009917\n",
       "std    1.120535e+08  5.833205e+07      77.953580       0.364739       0.328050       0.458253       0.384041       0.402268       0.160805       0.099087\n",
       "min    1.083910e+08  6.238619e+08     300.000000       0.000000       0.000000       0.000000       0.000000       0.000000       0.000000       0.000000\n",
       "25%    3.836043e+08  6.801957e+08     350.000000       0.000000       0.000000       0.000000       0.000000       0.000000       0.000000       0.000000\n",
       "50%    4.517679e+08  7.290297e+08     400.000000       0.000000       0.000000       0.000000       0.000000       0.000000       0.000000       0.000000\n",
       "75%    5.274578e+08  7.792436e+08     450.000000       0.000000       0.000000       1.000000       0.000000       0.000000       0.000000       0.000000\n",
       "max    2.145360e+09  8.292517e+08     700.000000       1.000000       1.000000       1.000000       1.000000       1.000000       1.000000       1.000000"
      ]
     },
     "execution_count": 34,
     "metadata": {},
     "output_type": "execute_result"
    }
   ],
   "source": [
    "\n",
    "exp_ds.describe()\n"
   ]
  },
  {
   "cell_type": "code",
   "execution_count": 35,
   "id": "68b59fad-5f3b-4f80-9402-8a5379ff3b72",
   "metadata": {},
   "outputs": [],
   "source": [
    "\n",
    "exp_ds.to_csv(f'{fileloc}/{exp_fname}', index = False)\n"
   ]
  },
  {
   "cell_type": "code",
   "execution_count": 36,
   "id": "03f077d9-ae6f-41e6-954f-f3933a0d0135",
   "metadata": {},
   "outputs": [
    {
     "name": "stdout",
     "output_type": "stream",
     "text": [
      "THE END\n"
     ]
    }
   ],
   "source": [
    "\n",
    "print('THE END')\n"
   ]
  },
  {
   "cell_type": "code",
   "execution_count": null,
   "id": "bc68f868-a9bc-4ed2-bc0e-e085a5e24fba",
   "metadata": {},
   "outputs": [],
   "source": []
  }
 ],
 "metadata": {
  "kernelspec": {
   "display_name": "Python 3.8 - AzureML",
   "language": "python",
   "name": "python38-azureml"
  },
  "language_info": {
   "codemirror_mode": {
    "name": "ipython",
    "version": 3
   },
   "file_extension": ".py",
   "mimetype": "text/x-python",
   "name": "python",
   "nbconvert_exporter": "python",
   "pygments_lexer": "ipython3",
   "version": "3.8.5"
  }
 },
 "nbformat": 4,
 "nbformat_minor": 5
}
