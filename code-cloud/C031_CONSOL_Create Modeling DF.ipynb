{
 "cells": [
  {
   "cell_type": "code",
   "execution_count": null,
   "id": "cb585584-ccf5-4aa1-8f83-32ce55442a81",
   "metadata": {},
   "outputs": [],
   "source": []
  },
  {
   "cell_type": "code",
   "execution_count": null,
   "id": "0e0f6adb-d0fb-4c0b-9991-76f3f3b6cc36",
   "metadata": {},
   "outputs": [],
   "source": []
  },
  {
   "cell_type": "markdown",
   "id": "20d15156-d40c-4adb-b8ad-9d9f9ad35e18",
   "metadata": {},
   "source": [
    "# CONSOLIDATE DatePrep"
   ]
  },
  {
   "cell_type": "code",
   "execution_count": 1,
   "id": "ac0b3b5b-48bf-485c-83bd-97db741515f5",
   "metadata": {},
   "outputs": [
    {
     "name": "stdout",
     "output_type": "stream",
     "text": [
      "['/mnt/batch/tasks/shared/LS_root/mounts/clusters/compute-one-8c-32gb/code/Users/karan.bhatti/Code', '/anaconda/envs/azureml_py38/lib/python38.zip', '/anaconda/envs/azureml_py38/lib/python3.8', '/anaconda/envs/azureml_py38/lib/python3.8/lib-dynload', '', '/anaconda/envs/azureml_py38/lib/python3.8/site-packages', '/anaconda/envs/azureml_py38/lib/python3.8/site-packages/azureml/_project/vendor', '/anaconda/envs/azureml_py38/lib/python3.8/site-packages/azureml/automl/core/_vendor']\n",
      "\n",
      "\n"
     ]
    }
   ],
   "source": [
    "\n",
    "#fileloc  = '/mnt/batch/tasks/shared/LS_root/mounts/clusters/compute-one/code/Users/karan.bhatti'\n",
    "fileloc  = '/mnt/batch/tasks/shared/LS_root/mounts/clusters/compute-one-8c-32gb/code/Users/karan.bhatti/Dataprep'\n",
    "outloc  = '/mnt/batch/tasks/shared/LS_root/mounts/clusters/compute-one-8c-32gb/code/Users/karan.bhatti/Dataprep'\n",
    "\n",
    "import sys\n",
    "print(sys.path)\n",
    "print()\n",
    "#sys.path.append(f'{fileloc}')\n",
    "print()\n",
    "#print(sys.path)\n"
   ]
  },
  {
   "cell_type": "code",
   "execution_count": 2,
   "id": "41e12f32-cddf-4b1b-a11b-523bd5150978",
   "metadata": {},
   "outputs": [],
   "source": [
    "\n",
    "class Data(object):\n",
    "    pass\n",
    "\n",
    "df = Data\n",
    "summ = Data\n"
   ]
  },
  {
   "cell_type": "code",
   "execution_count": 3,
   "id": "91c0dfae-c116-4ecc-8ece-515ef84128f1",
   "metadata": {},
   "outputs": [],
   "source": [
    "import helpdesk as hd"
   ]
  },
  {
   "cell_type": "code",
   "execution_count": 4,
   "id": "9a94f97a-f422-41bc-9ec5-3440287ec7f5",
   "metadata": {},
   "outputs": [
    {
     "name": "stdout",
     "output_type": "stream",
     "text": [
      "2023-07-07 14:16:34.461623+05:30\n"
     ]
    }
   ],
   "source": [
    "\n",
    "from collections import defaultdict\n",
    "from datetime import datetime\n",
    "import pytz\n",
    "\n",
    "# Get the current UTC time\n",
    "utc_now = datetime.now(pytz.utc)\n",
    "\n",
    "# Convert it to local time\n",
    "#local_tz = pytz.timezone('America/Los_Angeles')  # Replace with your timezone\n",
    "local_tz = pytz.timezone('Asia/Kolkata')  # Set timezone to India (IST)\n",
    "local_now = utc_now.astimezone(local_tz)\n",
    "\n",
    "print(local_now)\n"
   ]
  },
  {
   "cell_type": "code",
   "execution_count": 5,
   "id": "786aefbb-d314-49f9-ae4d-efdc11ddfde5",
   "metadata": {},
   "outputs": [],
   "source": [
    "\n",
    "import pandas as pd, numpy as np\n",
    "from datetime import datetime\n"
   ]
  },
  {
   "cell_type": "code",
   "execution_count": 6,
   "id": "e27858ab-bed5-4392-adaa-7ab1699e4729",
   "metadata": {},
   "outputs": [],
   "source": [
    "\n",
    "DEBUG = True\n",
    "seed = 1919\n"
   ]
  },
  {
   "cell_type": "code",
   "execution_count": 7,
   "id": "e838b313-6ce9-45ce-9ad9-e93b3ad18d47",
   "metadata": {},
   "outputs": [],
   "source": [
    "pd.set_option('display.max_rows', 50);"
   ]
  },
  {
   "cell_type": "code",
   "execution_count": 8,
   "id": "c9b3430a-b700-4589-beef-b9edc17f6ef2",
   "metadata": {},
   "outputs": [],
   "source": [
    "pd.set_option('display.max_columns', 50);"
   ]
  },
  {
   "cell_type": "code",
   "execution_count": 9,
   "id": "511706ef-6514-4dbf-9843-564be0c1e17b",
   "metadata": {},
   "outputs": [],
   "source": [
    "pd.set_option('display.width', 200);"
   ]
  },
  {
   "cell_type": "code",
   "execution_count": 10,
   "id": "037c19d8-7168-4832-9b5e-82c78ad90c1b",
   "metadata": {},
   "outputs": [
    {
     "name": "stdout",
     "output_type": "stream",
     "text": [
      "\n",
      "Last 3 files for prefix 'dataprep_categorical':\n",
      "dataprep_categorical_2022-12-03.csv\n",
      "dataprep_categorical_2023-02-22.csv\n",
      "dataprep_categorical_2023-06-07.csv\n",
      "\n",
      "Last 3 files for prefix 'dataprep_performance':\n",
      "dataprep_performance_2023-02-22.csv\n",
      "dataprep_performance_2023-06-07.csv\n",
      "dataprep_performance_2023-06-08.csv\n",
      "\n",
      "Last 3 files for prefix 'dataprep_raceprofile':\n",
      "dataprep_raceprofile_2022-12-03.csv\n",
      "dataprep_raceprofile_2023-02-22.csv\n",
      "dataprep_raceprofile_2023-06-07.csv\n",
      "\n",
      "Last 3 files for prefix 'dataprep_speed_profile':\n",
      "dataprep_speed_profile_2023-02-22.csv\n",
      "dataprep_speed_profile_2023-06-06.csv\n",
      "dataprep_speed_profile_2023-06-14.csv\n",
      "\n",
      "Last 3 files for prefix 'dataprep_TRNR_performance':\n",
      "dataprep_TRNR_performance_2023-02-22.csv\n",
      "dataprep_TRNR_performance_2023-06-07.csv\n",
      "dataprep_TRNR_performance_2023-06-08.csv\n",
      "\n",
      "Last 3 files for prefix 'dataset_base':\n",
      "dataset_base_2022-12-16.csv\n",
      "dataset_base_2023-02-09.csv\n",
      "dataset_base_2023-06-05.csv\n",
      "\n",
      "Last 3 files for prefix 'dataset_base_doggrading':\n",
      "dataset_base_doggrading_2022-12-22.csv\n",
      "dataset_base_doggrading_2023-02-22.csv\n",
      "dataset_base_doggrading_2023-06-07.csv\n",
      "\n",
      "Last 3 files for prefix 'modeling_base':\n",
      "modeling_base_2023-06-13.csv\n",
      "modeling_base_2023-06-14.csv\n",
      "modeling_base_2023-06-16.csv\n",
      "\n",
      "Last 3 files for prefix 'normalised_vars':\n",
      "normalised_vars_2023-06-08.csv\n",
      "normalised_vars_2023-06-14.csv\n",
      "normalised_vars_2023-07-07.csv\n",
      "\n",
      "Last 3 files for prefix 'predictions_28112183':\n",
      "predictions_28112183_2023-06-14.csv\n",
      "\n",
      "Last 3 files for prefix 'predictions_28112237':\n",
      "predictions_28112237_2023-06-14.csv\n",
      "\n",
      "Last 3 files for prefix 'predictions_28112304':\n",
      "predictions_28112304_2023-06-14.csv\n",
      "\n",
      "Last 3 files for prefix 'predictions_28115042':\n",
      "predictions_28115042_2023-06-16.csv\n",
      "\n",
      "Last 3 files for prefix 'raw_base':\n",
      "raw_base_2023-02-09.csv\n",
      "raw_base_2023-06-05.csv\n",
      "raw_base_2023-06-07.csv\n"
     ]
    }
   ],
   "source": [
    "\n",
    "# Get a list of all files in the current working directory\n",
    "files = os.listdir(fileloc)\n",
    "\n",
    "# Dictionary where the keys are filename prefixes and the values are lists of (date, filename) tuples\n",
    "file_dict = defaultdict(list)\n",
    "\n",
    "# Loop over all files\n",
    "for file in files:\n",
    "    # Exclude files without a date in their name\n",
    "    if '_' in file and '.csv' in file:\n",
    "        prefix, date_str = file.rsplit('_', 1)\n",
    "        date_str = date_str.replace('.csv', '')\n",
    "\n",
    "        # Try to parse the date from the filename\n",
    "        try:\n",
    "            date = datetime.strptime(date_str, \"%Y-%m-%d\")\n",
    "        except ValueError:\n",
    "            continue  # skip files with incorrect date format\n",
    "\n",
    "        file_dict[prefix].append((date, file))\n",
    "\n",
    "# Sort the files in each group by date and print the latest 3 files in each group\n",
    "for prefix, file_list in file_dict.items():\n",
    "    file_list.sort()  # sorts in ascending order by date\n",
    "    print()\n",
    "    print(f\"Last 3 files for prefix '{prefix}':\")\n",
    "    for date, file in file_list[-3:]:  # take the last 3 files\n",
    "        print(file)\n"
   ]
  },
  {
   "cell_type": "code",
   "execution_count": 11,
   "id": "6a5f2d81-23d1-4a9e-a2fa-ed8c5a048f05",
   "metadata": {},
   "outputs": [
    {
     "name": "stdout",
     "output_type": "stream",
     "text": [
      "(725080, 45)\n",
      "\n",
      "['@id_DOG', 'DogName', 'y_runtime', 'RaceId', '@id_RACE', 'Distance', 'RaceGrade', 'Track', 'Event_Dt', 'Prizemoney', 'TrainerId', 'TrainerName', 'ft_sp', 'x_num_dogs', 'position', 'y_margin', 'y_pos', 'Winner_actual', 'Top3_actual', 'rand_mean', 'rand_uniform', 'position_random', 'Winner_random', 'Top3_random', 'position_fasttrack', 'Winner_fastrack', 'Top3_fastrack', 'rand_1', 'h_rand_1', 'p_rand_1', 'rand_all_plc_to_win', 'h_rand_all_plc_to_win', 'p_rand_all_plc_to_win', 'rand_lay_last', 'h_rand_lay_last', 'p_rand_lay_last', 'ft_1', 'h_ft_1', 'p_ft_1', 'ft_all_plc', 'h_ft_all_plc', 'p_ft_all_plc', 'ft_lay_last', 'h_ft_lay_last', 'p_ft_lay_last']\n"
     ]
    }
   ],
   "source": [
    "\n",
    "# Import the Base Dataset\n",
    "base_dataset_name = 'dataset_base_2023-06-05.csv'\n",
    "\n",
    "df_base_raw = pd.read_csv(f'{fileloc}/{base_dataset_name}')\n",
    "\n",
    "print(df_base_raw.shape)\n",
    "print()\n",
    "print(df_base_raw.columns.values.tolist())\n"
   ]
  },
  {
   "cell_type": "code",
   "execution_count": 12,
   "id": "e6006cf3-c819-4dda-97fc-e63bf4de0e49",
   "metadata": {},
   "outputs": [
    {
     "name": "stdout",
     "output_type": "stream",
     "text": [
      "   @id_DOG  DogName  y_runtime  RaceId  @id_RACE  Distance  RaceGrade  Track  Event_Dt  Prizemoney  TrainerId  TrainerName  ft_sp  x_num_dogs  position  y_margin  y_pos  Winner_actual  Top3_actual  \\\n",
      "0        0        0          0       0         0         0          0      0         0      226219          0            0      0           0         0         0      0              0            0   \n",
      "\n",
      "   rand_mean  rand_uniform  position_random  Winner_random  Top3_random  position_fasttrack  Winner_fastrack  Top3_fastrack  rand_1  h_rand_1  p_rand_1  rand_all_plc_to_win  h_rand_all_plc_to_win  \\\n",
      "0          0             0                0              0            0                   0                0              0       0         0         0                    0                      0   \n",
      "\n",
      "   p_rand_all_plc_to_win  rand_lay_last  h_rand_lay_last  p_rand_lay_last  ft_1  h_ft_1  p_ft_1  ft_all_plc  h_ft_all_plc  p_ft_all_plc  ft_lay_last  h_ft_lay_last  p_ft_lay_last  \n",
      "0                      0              0                0                0     0       0       0           0             0             0            0              0              0  \n"
     ]
    }
   ],
   "source": [
    "\n",
    "print(pd.DataFrame(df_base_raw.isna().sum()).transpose())\n"
   ]
  },
  {
   "cell_type": "code",
   "execution_count": 13,
   "id": "0fc3d9d6-2e27-48be-ae11-9d0e91d29348",
   "metadata": {},
   "outputs": [
    {
     "data": {
      "text/plain": [
       "\"\\n# Import the Speed Profile\\n\\nspeed_profile_name = 'dataprep_speed_profile_2023-02-22.csv'\\n\\ndf_speed_profile = pd.read_csv(f'{fileloc}/{speed_profile_name}')\\n\\nprint(df_speed_profile.shape)\\nprint()\\nprint(df_speed_profile.columns.values.tolist())\\nprint()\\n\""
      ]
     },
     "execution_count": 13,
     "metadata": {},
     "output_type": "execute_result"
    }
   ],
   "source": [
    "\n",
    "# Imported in the Standardisation Code\n",
    "\n",
    "\"\"\"\n",
    "# Import the Speed Profile\n",
    "\n",
    "speed_profile_name = 'dataprep_speed_profile_2023-02-22.csv'\n",
    "\n",
    "df_speed_profile = pd.read_csv(f'{fileloc}/{speed_profile_name}')\n",
    "\n",
    "print(df_speed_profile.shape)\n",
    "print()\n",
    "print(df_speed_profile.columns.values.tolist())\n",
    "print()\n",
    "\"\"\"\n"
   ]
  },
  {
   "cell_type": "code",
   "execution_count": 14,
   "id": "af073315-0a6a-4871-bbb0-aeec0011c62f",
   "metadata": {},
   "outputs": [],
   "source": [
    "\n",
    "#print(pd.DataFrame(df_speed_profile.isna().sum()).transpose())\n"
   ]
  },
  {
   "cell_type": "code",
   "execution_count": 15,
   "id": "2784e56a-7ba9-4b66-b549-5255353b9d10",
   "metadata": {},
   "outputs": [
    {
     "name": "stdout",
     "output_type": "stream",
     "text": [
      "(725080, 16)\n",
      "\n",
      "['@id_DOG', '@id_RACE', 'G5', 'G4', 'G3', 'G2', 'G1', 'Gmix', 'Gmas', 'Gmai', 'Gh', 'Gres', 'Gnov', 'Gsp', 'Gfin', 'RaceGrade_H1']\n"
     ]
    }
   ],
   "source": [
    "\n",
    "# Import the Race Profile\n",
    "race_profile_name = 'dataprep_raceprofile_2023-06-07.csv'\n",
    "\n",
    "df_race_profile = pd.read_csv(f'{fileloc}/{race_profile_name}')\n",
    "\n",
    "print(df_race_profile.shape)\n",
    "print()\n",
    "print(df_race_profile.columns.values.tolist())\n"
   ]
  },
  {
   "cell_type": "code",
   "execution_count": 16,
   "id": "d1dfb476-eaea-44e4-a992-7c74a4b2d0c3",
   "metadata": {},
   "outputs": [
    {
     "name": "stdout",
     "output_type": "stream",
     "text": [
      "   @id_DOG  @id_RACE  G5  G4  G3  G2  G1  Gmix  Gmas  Gmai  Gh  Gres  Gnov  Gsp  Gfin  RaceGrade_H1\n",
      "0        0         0   0   0   0   0   0     0     0     0   0     0     0    0     0             0\n"
     ]
    }
   ],
   "source": [
    "\n",
    "print(pd.DataFrame(df_race_profile.isna().sum()).transpose())\n"
   ]
  },
  {
   "cell_type": "code",
   "execution_count": 17,
   "id": "119fa1e4-1b6d-4950-a348-2f11d07a2eca",
   "metadata": {},
   "outputs": [
    {
     "name": "stdout",
     "output_type": "stream",
     "text": [
      "(725080, 13)\n",
      "\n",
      "['@id_DOG', 'DogName', '@id_RACE', 'RaceName', 'Distance', 'x_dist_gp', 'dist300', 'dist350', 'dist400', 'dist450', 'dist500', 'dist600', 'dist700']\n"
     ]
    }
   ],
   "source": [
    "\n",
    "# Import the Race Profile\n",
    "dateprep_categorical = 'dataprep_categorical_2023-06-07.csv'\n",
    "\n",
    "df_categorical = pd.read_csv(f'{fileloc}/{dateprep_categorical}')\n",
    "\n",
    "print(df_categorical.shape)\n",
    "print()\n",
    "print(df_categorical.columns.values.tolist())\n"
   ]
  },
  {
   "cell_type": "code",
   "execution_count": 18,
   "id": "c3274066-74b8-4fdb-9ca6-cdb5c29bf658",
   "metadata": {},
   "outputs": [
    {
     "name": "stdout",
     "output_type": "stream",
     "text": [
      "   @id_DOG  DogName  @id_RACE  RaceName  Distance  x_dist_gp  dist300  dist350  dist400  dist450  dist500  dist600  dist700\n",
      "0        0        0         0        15         0          0        0        0        0        0        0        0        0\n"
     ]
    }
   ],
   "source": [
    "\n",
    "print(pd.DataFrame(df_categorical.isna().sum()).transpose())\n"
   ]
  },
  {
   "cell_type": "code",
   "execution_count": 19,
   "id": "889410d9-0075-4857-9282-d80db0390238",
   "metadata": {},
   "outputs": [
    {
     "data": {
      "text/plain": [
       "\"\\n# Import the Performance Dataset\\ndateprep_perf = 'dataprep_performance_2023-02-22.csv'\\n\\ndf_perf = pd.read_csv(f'{fileloc}/{dateprep_perf}')\\n\\nprint(df_perf.shape)\\n\\nprint()\\nprint(df_perf.columns.values.tolist())\\n\""
      ]
     },
     "execution_count": 19,
     "metadata": {},
     "output_type": "execute_result"
    }
   ],
   "source": [
    "\n",
    "#Imported in the Standardisation Code\n",
    "\n",
    "\"\"\"\n",
    "# Import the Performance Dataset\n",
    "dateprep_perf = 'dataprep_performance_2023-02-22.csv'\n",
    "\n",
    "df_perf = pd.read_csv(f'{fileloc}/{dateprep_perf}')\n",
    "\n",
    "print(df_perf.shape)\n",
    "\n",
    "print()\n",
    "print(df_perf.columns.values.tolist())\n",
    "\"\"\"\n"
   ]
  },
  {
   "cell_type": "code",
   "execution_count": 20,
   "id": "6729f017-5406-4e10-bbd5-691326d68cc3",
   "metadata": {},
   "outputs": [],
   "source": [
    "\n",
    "#print(pd.DataFrame(df_perf.isna().sum()).transpose())\n"
   ]
  },
  {
   "cell_type": "code",
   "execution_count": 21,
   "id": "bf772a28-1f51-403e-ab11-22b242e00745",
   "metadata": {},
   "outputs": [
    {
     "data": {
      "text/plain": [
       "\"\\n# Import the Performance Dataset\\ndateprep_trnr_perf = 'dataprep_TRNR_performance_2023-02-22.csv'\\n\\ndf_trnr_perf = pd.read_csv(f'{fileloc}/{dateprep_trnr_perf}')\\n\\nprint(df_trnr_perf.shape)\\nprint()\\nprint(df_trnr_perf.columns.values.tolist())\\n\""
      ]
     },
     "execution_count": 21,
     "metadata": {},
     "output_type": "execute_result"
    }
   ],
   "source": [
    "\n",
    "# Imported in the Standardisation Code\n",
    "\n",
    "\"\"\"\n",
    "# Import the Performance Dataset\n",
    "dateprep_trnr_perf = 'dataprep_TRNR_performance_2023-02-22.csv'\n",
    "\n",
    "df_trnr_perf = pd.read_csv(f'{fileloc}/{dateprep_trnr_perf}')\n",
    "\n",
    "print(df_trnr_perf.shape)\n",
    "print()\n",
    "print(df_trnr_perf.columns.values.tolist())\n",
    "\"\"\"\n"
   ]
  },
  {
   "cell_type": "code",
   "execution_count": 22,
   "id": "6b5e15a7-11c5-4f05-a027-9d55d3f58ee7",
   "metadata": {},
   "outputs": [],
   "source": [
    "\n",
    "#print(pd.DataFrame(df_trnr_perf.isna().sum()).transpose())\n"
   ]
  },
  {
   "cell_type": "code",
   "execution_count": 23,
   "id": "9849d83f-55d0-40d0-8fdd-9fd2b4a603cc",
   "metadata": {},
   "outputs": [
    {
     "name": "stdout",
     "output_type": "stream",
     "text": [
      "(725080, 19)\n",
      "\n",
      "['@id_DOG', '@id_RACE', 'firstrace', 'upgrade', 'downgrade', 'upg_87', 'upg_76', 'upg_65', 'upg_54', 'upg_43', 'upg_32', 'upg_21', 'dng_12', 'dng_23', 'dng_34', 'dng_45', 'dng_56', 'dng_67', 'dng_78']\n"
     ]
    }
   ],
   "source": [
    "\n",
    "# Import the Grading Dataset\n",
    "dateprep_grading = 'dataset_base_doggrading_2023-06-07.csv'\n",
    "\n",
    "df_grading = pd.read_csv(f'{fileloc}/{dateprep_grading}').drop(columns = ['RaceId', 'DogName'])\n",
    "\n",
    "print(df_grading.shape)\n",
    "print()\n",
    "print(df_grading.columns.values.tolist())\n"
   ]
  },
  {
   "cell_type": "code",
   "execution_count": 24,
   "id": "0c6c79de-4892-46f6-852f-b87fa8d1ed14",
   "metadata": {},
   "outputs": [
    {
     "name": "stdout",
     "output_type": "stream",
     "text": [
      "   @id_DOG  @id_RACE  firstrace  upgrade  downgrade  upg_87  upg_76  upg_65  upg_54  upg_43  upg_32  upg_21  dng_12  dng_23  dng_34  dng_45  dng_56  dng_67  dng_78\n",
      "0        0         0          0        0          0       0       0       0       0       0       0       0       0       0       0       0       0       0       0\n"
     ]
    }
   ],
   "source": [
    "\n",
    "print(pd.DataFrame(df_grading.isna().sum()).transpose())\n"
   ]
  },
  {
   "cell_type": "code",
   "execution_count": 25,
   "id": "5f7b0e1f-79dc-463e-9fbe-32aa25285a7b",
   "metadata": {},
   "outputs": [
    {
     "name": "stdout",
     "output_type": "stream",
     "text": [
      "(725080, 167)\n",
      "\n",
      "['@id_DOG', '@id_RACE', 'x_races_tot', 'x_rtgp_prev', 'x_rtgp_avg', 'x_rtgp_min', 'x_rtgp_max', 'x_rtgp_std', 'x_rtgp_range', 'x_no_prev_races', 'x_speed_prev', 'x_speed_avg', 'x_speed_min', 'x_speed_max', 'x_speed_std', 'x_speed_range', 'x_no_prev_r_in_dist', 'xr_races', 'xr_races_l5', 'xr_wins', 'xr_wins_pct', 'xr_wins_l5', 'xr_wins_l5_pct', 'xr_fin_t2', 'xr_fin_t2_pct', 'xr_fin_last', 'xr_finl5_last', 'xr_finl5_last_pct', 'xr_fin_last2', 'xr_fin_last2_pct', 'xr_finl5_last2', 'xr_finl5_last2_pct', 'xr_fin_plc', 'xr_fin_plc_pct', 'xr_finl5_plc', 'xr_finl5_plc_pct', 'Event_Dt', 'trnr_xr_races_tot', 'trnr_xr_races_tot_prev', 'trnr_wins_prev', 'trnr_fin_plc_prev', 'trnr_fin_t2_prev', 'trnr_fin_last_prev', 'trnr_fin_last2_prev', 'trnr_xr_wins', 'trnr_xr_fin_plc', 'trnr_xr_fin_t2', 'trnr_xr_fin_last', 'trnr_xr_fin_last2', 'trnr_xrl5_wins', 'trnr_xrl5_fin_plc', 'trnr_xrl5_fin_t2', 'trnr_xrl5_fin_last', 'trnr_xrl5_fin_last2', 'trnr_xr_wins_pct', 'trnr_xr_fin_t2_pct', 'trnr_xr_fin_plc_pct', 'trnr_xr_fin_last_pct', 'trnr_xr_fin_last2_pct', 'x_races_tot_norm_by_race', 'x_rtgp_prev_norm_by_race', 'x_rtgp_avg_norm_by_race', 'x_rtgp_min_norm_by_race', 'x_rtgp_max_norm_by_race', 'x_rtgp_std_norm_by_race', 'x_rtgp_range_norm_by_race', 'x_speed_prev_norm_by_race', 'x_speed_avg_norm_by_race', 'x_speed_min_norm_by_race', 'x_speed_max_norm_by_race', 'x_speed_std_norm_by_race', 'x_speed_range_norm_by_race', 'xr_races_norm_by_race', 'xr_races_l5_norm_by_race', 'xr_wins_norm_by_race', 'xr_wins_pct_norm_by_race', 'xr_wins_l5_norm_by_race', 'xr_wins_l5_pct_norm_by_race', 'xr_fin_t2_norm_by_race', 'xr_fin_t2_pct_norm_by_race', 'xr_fin_last_norm_by_race', 'xr_finl5_last_norm_by_race', 'xr_finl5_last_pct_norm_by_race', 'xr_fin_last2_norm_by_race', 'xr_fin_last2_pct_norm_by_race', 'xr_finl5_last2_norm_by_race', 'xr_finl5_last2_pct_norm_by_race', 'xr_fin_plc_norm_by_race', 'xr_fin_plc_pct_norm_by_race', 'xr_finl5_plc_norm_by_race', 'xr_finl5_plc_pct_norm_by_race', 'trnr_xr_races_tot_norm_by_race', 'trnr_xr_races_tot_prev_norm_by_race', 'trnr_wins_prev_norm_by_race', 'trnr_fin_plc_prev_norm_by_race', 'trnr_fin_t2_prev_norm_by_race', 'trnr_fin_last_prev_norm_by_race', 'trnr_fin_last2_prev_norm_by_race', 'trnr_xr_wins_norm_by_race', 'trnr_xr_fin_plc_norm_by_race', 'trnr_xr_fin_t2_norm_by_race', 'trnr_xr_fin_last_norm_by_race', 'trnr_xr_fin_last2_norm_by_race', 'trnr_xrl5_wins_norm_by_race', 'trnr_xrl5_fin_plc_norm_by_race', 'trnr_xrl5_fin_t2_norm_by_race', 'trnr_xrl5_fin_last_norm_by_race', 'trnr_xrl5_fin_last2_norm_by_race', 'trnr_xr_wins_pct_norm_by_race', 'trnr_xr_fin_t2_pct_norm_by_race', 'trnr_xr_fin_plc_pct_norm_by_race', 'trnr_xr_fin_last_pct_norm_by_race', 'trnr_xr_fin_last2_pct_norm_by_race', 'ss_x_races_tot', 'ss_x_rtgp_prev', 'ss_x_rtgp_avg', 'ss_x_rtgp_min', 'ss_x_rtgp_max', 'ss_x_rtgp_std', 'ss_x_rtgp_range', 'ss_x_speed_prev', 'ss_x_speed_avg', 'ss_x_speed_min', 'ss_x_speed_max', 'ss_x_speed_std', 'ss_x_speed_range', 'ss_xr_races', 'ss_xr_races_l5', 'ss_xr_wins', 'ss_xr_wins_pct', 'ss_xr_wins_l5', 'ss_xr_wins_l5_pct', 'ss_xr_fin_t2', 'ss_xr_fin_t2_pct', 'ss_xr_fin_last', 'ss_xr_finl5_last', 'ss_xr_finl5_last_pct', 'ss_xr_fin_last2', 'ss_xr_fin_last2_pct', 'ss_xr_finl5_last2', 'ss_xr_finl5_last2_pct', 'ss_xr_fin_plc', 'ss_xr_fin_plc_pct', 'ss_xr_finl5_plc', 'ss_xr_finl5_plc_pct', 'ss_trnr_xr_races_tot', 'ss_trnr_xr_races_tot_prev', 'ss_trnr_wins_prev', 'ss_trnr_fin_plc_prev', 'ss_trnr_fin_t2_prev', 'ss_trnr_fin_last_prev', 'ss_trnr_fin_last2_prev', 'ss_trnr_xr_wins', 'ss_trnr_xr_fin_plc', 'ss_trnr_xr_fin_t2', 'ss_trnr_xr_fin_last', 'ss_trnr_xr_fin_last2', 'ss_trnr_xrl5_wins', 'ss_trnr_xrl5_fin_plc', 'ss_trnr_xrl5_fin_t2', 'ss_trnr_xrl5_fin_last', 'ss_trnr_xrl5_fin_last2', 'ss_trnr_xr_wins_pct', 'ss_trnr_xr_fin_t2_pct', 'ss_trnr_xr_fin_plc_pct', 'ss_trnr_xr_fin_last_pct', 'ss_trnr_xr_fin_last2_pct']\n"
     ]
    }
   ],
   "source": [
    "\n",
    "# Import the Normed Dataset\n",
    "dateprep_normed = 'normalised_vars_2023-07-07.csv'\n",
    "\n",
    "df_normed = pd.read_csv(f'{fileloc}/{dateprep_normed}').drop(columns = ['TrainerId'])\n",
    "\n",
    "print(df_normed.shape)\n",
    "print()\n",
    "print(df_normed.columns.values.tolist())\n",
    "\n",
    "\n",
    "\n",
    "# Import time is about 15 minutes\n"
   ]
  },
  {
   "cell_type": "code",
   "execution_count": 26,
   "id": "11985570-4c36-4a6e-bbc2-cbd5270a05ba",
   "metadata": {},
   "outputs": [
    {
     "name": "stdout",
     "output_type": "stream",
     "text": [
      "   @id_DOG  @id_RACE  x_races_tot  x_rtgp_prev  x_rtgp_avg  x_rtgp_min  x_rtgp_max  x_rtgp_std  x_rtgp_range  x_no_prev_races  x_speed_prev  x_speed_avg  x_speed_min  x_speed_max  x_speed_std  \\\n",
      "0        0         0            0            0           0           0           0           0             0                0             0            0            0            0            0   \n",
      "\n",
      "   x_speed_range  x_no_prev_r_in_dist  xr_races  xr_races_l5  xr_wins  xr_wins_pct  xr_wins_l5  xr_wins_l5_pct  xr_fin_t2  xr_fin_t2_pct  ...  ss_xr_fin_plc_pct  ss_xr_finl5_plc  \\\n",
      "0              0                    0         0            0        0            0           0               0          0              0  ...                  0                0   \n",
      "\n",
      "   ss_xr_finl5_plc_pct  ss_trnr_xr_races_tot  ss_trnr_xr_races_tot_prev  ss_trnr_wins_prev  ss_trnr_fin_plc_prev  ss_trnr_fin_t2_prev  ss_trnr_fin_last_prev  ss_trnr_fin_last2_prev  ss_trnr_xr_wins  \\\n",
      "0                    0                     0                          0                  0                     0                    0                      0                       0                0   \n",
      "\n",
      "   ss_trnr_xr_fin_plc  ss_trnr_xr_fin_t2  ss_trnr_xr_fin_last  ss_trnr_xr_fin_last2  ss_trnr_xrl5_wins  ss_trnr_xrl5_fin_plc  ss_trnr_xrl5_fin_t2  ss_trnr_xrl5_fin_last  ss_trnr_xrl5_fin_last2  \\\n",
      "0                   0                  0                    0                     0                  0                     0                    0                      0                       0   \n",
      "\n",
      "   ss_trnr_xr_wins_pct  ss_trnr_xr_fin_t2_pct  ss_trnr_xr_fin_plc_pct  ss_trnr_xr_fin_last_pct  ss_trnr_xr_fin_last2_pct  \n",
      "0                    0                      0                       0                        0                         0  \n",
      "\n",
      "[1 rows x 167 columns]\n"
     ]
    }
   ],
   "source": [
    "\n",
    "print(pd.DataFrame(df_normed.isna().sum()).transpose())\n"
   ]
  },
  {
   "cell_type": "code",
   "execution_count": 27,
   "id": "525421f5-b78b-465c-a0ee-251cb586ec3e",
   "metadata": {},
   "outputs": [],
   "source": [
    "\n",
    "# Old Normed was (725080, 119) columns, new normed is (725080, 158) columns \n"
   ]
  },
  {
   "cell_type": "markdown",
   "id": "7071e949-2867-4c06-8a0b-e0f20a292295",
   "metadata": {},
   "source": [
    "#### Merging all the Dataset here"
   ]
  },
  {
   "cell_type": "code",
   "execution_count": null,
   "id": "82df1f20-4797-45a7-9d9a-4b72be497bac",
   "metadata": {},
   "outputs": [],
   "source": []
  },
  {
   "cell_type": "code",
   "execution_count": 28,
   "id": "479b778b-1d10-444a-aed2-b762f2d53646",
   "metadata": {},
   "outputs": [
    {
     "name": "stdout",
     "output_type": "stream",
     "text": [
      "(725080, 45)\n",
      "(725080, 16)\n",
      "\n",
      "\n",
      "(725080, 59)\n",
      "['@id_DOG', 'DogName', 'y_runtime', 'RaceId', '@id_RACE', 'Distance', 'RaceGrade', 'Track', 'Event_Dt', 'Prizemoney', 'TrainerId', 'TrainerName', 'ft_sp', 'x_num_dogs', 'position', 'y_margin', 'y_pos', 'Winner_actual', 'Top3_actual', 'rand_mean', 'rand_uniform', 'position_random', 'Winner_random', 'Top3_random', 'position_fasttrack', 'Winner_fastrack', 'Top3_fastrack', 'rand_1', 'h_rand_1', 'p_rand_1', 'rand_all_plc_to_win', 'h_rand_all_plc_to_win', 'p_rand_all_plc_to_win', 'rand_lay_last', 'h_rand_lay_last', 'p_rand_lay_last', 'ft_1', 'h_ft_1', 'p_ft_1', 'ft_all_plc', 'h_ft_all_plc', 'p_ft_all_plc', 'ft_lay_last', 'h_ft_lay_last', 'p_ft_lay_last', 'G5', 'G4', 'G3', 'G2', 'G1', 'Gmix', 'Gmas', 'Gmai', 'Gh', 'Gres', 'Gnov', 'Gsp', 'Gfin', 'RaceGrade_H1']\n",
      "(725080, 167)\n",
      "\n",
      "\n",
      "(725080, 224)\n",
      "['@id_DOG', 'DogName', 'y_runtime', 'RaceId', '@id_RACE', 'Distance', 'RaceGrade', 'Track', 'Event_Dt_x', 'Prizemoney', 'TrainerId', 'TrainerName', 'ft_sp', 'x_num_dogs', 'position', 'y_margin', 'y_pos', 'Winner_actual', 'Top3_actual', 'rand_mean', 'rand_uniform', 'position_random', 'Winner_random', 'Top3_random', 'position_fasttrack', 'Winner_fastrack', 'Top3_fastrack', 'rand_1', 'h_rand_1', 'p_rand_1', 'rand_all_plc_to_win', 'h_rand_all_plc_to_win', 'p_rand_all_plc_to_win', 'rand_lay_last', 'h_rand_lay_last', 'p_rand_lay_last', 'ft_1', 'h_ft_1', 'p_ft_1', 'ft_all_plc', 'h_ft_all_plc', 'p_ft_all_plc', 'ft_lay_last', 'h_ft_lay_last', 'p_ft_lay_last', 'G5', 'G4', 'G3', 'G2', 'G1', 'Gmix', 'Gmas', 'Gmai', 'Gh', 'Gres', 'Gnov', 'Gsp', 'Gfin', 'RaceGrade_H1', 'x_races_tot', 'x_rtgp_prev', 'x_rtgp_avg', 'x_rtgp_min', 'x_rtgp_max', 'x_rtgp_std', 'x_rtgp_range', 'x_no_prev_races', 'x_speed_prev', 'x_speed_avg', 'x_speed_min', 'x_speed_max', 'x_speed_std', 'x_speed_range', 'x_no_prev_r_in_dist', 'xr_races', 'xr_races_l5', 'xr_wins', 'xr_wins_pct', 'xr_wins_l5', 'xr_wins_l5_pct', 'xr_fin_t2', 'xr_fin_t2_pct', 'xr_fin_last', 'xr_finl5_last', 'xr_finl5_last_pct', 'xr_fin_last2', 'xr_fin_last2_pct', 'xr_finl5_last2', 'xr_finl5_last2_pct', 'xr_fin_plc', 'xr_fin_plc_pct', 'xr_finl5_plc', 'xr_finl5_plc_pct', 'Event_Dt_y', 'trnr_xr_races_tot', 'trnr_xr_races_tot_prev', 'trnr_wins_prev', 'trnr_fin_plc_prev', 'trnr_fin_t2_prev', 'trnr_fin_last_prev', 'trnr_fin_last2_prev', 'trnr_xr_wins', 'trnr_xr_fin_plc', 'trnr_xr_fin_t2', 'trnr_xr_fin_last', 'trnr_xr_fin_last2', 'trnr_xrl5_wins', 'trnr_xrl5_fin_plc', 'trnr_xrl5_fin_t2', 'trnr_xrl5_fin_last', 'trnr_xrl5_fin_last2', 'trnr_xr_wins_pct', 'trnr_xr_fin_t2_pct', 'trnr_xr_fin_plc_pct', 'trnr_xr_fin_last_pct', 'trnr_xr_fin_last2_pct', 'x_races_tot_norm_by_race', 'x_rtgp_prev_norm_by_race', 'x_rtgp_avg_norm_by_race', 'x_rtgp_min_norm_by_race', 'x_rtgp_max_norm_by_race', 'x_rtgp_std_norm_by_race', 'x_rtgp_range_norm_by_race', 'x_speed_prev_norm_by_race', 'x_speed_avg_norm_by_race', 'x_speed_min_norm_by_race', 'x_speed_max_norm_by_race', 'x_speed_std_norm_by_race', 'x_speed_range_norm_by_race', 'xr_races_norm_by_race', 'xr_races_l5_norm_by_race', 'xr_wins_norm_by_race', 'xr_wins_pct_norm_by_race', 'xr_wins_l5_norm_by_race', 'xr_wins_l5_pct_norm_by_race', 'xr_fin_t2_norm_by_race', 'xr_fin_t2_pct_norm_by_race', 'xr_fin_last_norm_by_race', 'xr_finl5_last_norm_by_race', 'xr_finl5_last_pct_norm_by_race', 'xr_fin_last2_norm_by_race', 'xr_fin_last2_pct_norm_by_race', 'xr_finl5_last2_norm_by_race', 'xr_finl5_last2_pct_norm_by_race', 'xr_fin_plc_norm_by_race', 'xr_fin_plc_pct_norm_by_race', 'xr_finl5_plc_norm_by_race', 'xr_finl5_plc_pct_norm_by_race', 'trnr_xr_races_tot_norm_by_race', 'trnr_xr_races_tot_prev_norm_by_race', 'trnr_wins_prev_norm_by_race', 'trnr_fin_plc_prev_norm_by_race', 'trnr_fin_t2_prev_norm_by_race', 'trnr_fin_last_prev_norm_by_race', 'trnr_fin_last2_prev_norm_by_race', 'trnr_xr_wins_norm_by_race', 'trnr_xr_fin_plc_norm_by_race', 'trnr_xr_fin_t2_norm_by_race', 'trnr_xr_fin_last_norm_by_race', 'trnr_xr_fin_last2_norm_by_race', 'trnr_xrl5_wins_norm_by_race', 'trnr_xrl5_fin_plc_norm_by_race', 'trnr_xrl5_fin_t2_norm_by_race', 'trnr_xrl5_fin_last_norm_by_race', 'trnr_xrl5_fin_last2_norm_by_race', 'trnr_xr_wins_pct_norm_by_race', 'trnr_xr_fin_t2_pct_norm_by_race', 'trnr_xr_fin_plc_pct_norm_by_race', 'trnr_xr_fin_last_pct_norm_by_race', 'trnr_xr_fin_last2_pct_norm_by_race', 'ss_x_races_tot', 'ss_x_rtgp_prev', 'ss_x_rtgp_avg', 'ss_x_rtgp_min', 'ss_x_rtgp_max', 'ss_x_rtgp_std', 'ss_x_rtgp_range', 'ss_x_speed_prev', 'ss_x_speed_avg', 'ss_x_speed_min', 'ss_x_speed_max', 'ss_x_speed_std', 'ss_x_speed_range', 'ss_xr_races', 'ss_xr_races_l5', 'ss_xr_wins', 'ss_xr_wins_pct', 'ss_xr_wins_l5', 'ss_xr_wins_l5_pct', 'ss_xr_fin_t2', 'ss_xr_fin_t2_pct', 'ss_xr_fin_last', 'ss_xr_finl5_last', 'ss_xr_finl5_last_pct', 'ss_xr_fin_last2', 'ss_xr_fin_last2_pct', 'ss_xr_finl5_last2', 'ss_xr_finl5_last2_pct', 'ss_xr_fin_plc', 'ss_xr_fin_plc_pct', 'ss_xr_finl5_plc', 'ss_xr_finl5_plc_pct', 'ss_trnr_xr_races_tot', 'ss_trnr_xr_races_tot_prev', 'ss_trnr_wins_prev', 'ss_trnr_fin_plc_prev', 'ss_trnr_fin_t2_prev', 'ss_trnr_fin_last_prev', 'ss_trnr_fin_last2_prev', 'ss_trnr_xr_wins', 'ss_trnr_xr_fin_plc', 'ss_trnr_xr_fin_t2', 'ss_trnr_xr_fin_last', 'ss_trnr_xr_fin_last2', 'ss_trnr_xrl5_wins', 'ss_trnr_xrl5_fin_plc', 'ss_trnr_xrl5_fin_t2', 'ss_trnr_xrl5_fin_last', 'ss_trnr_xrl5_fin_last2', 'ss_trnr_xr_wins_pct', 'ss_trnr_xr_fin_t2_pct', 'ss_trnr_xr_fin_plc_pct', 'ss_trnr_xr_fin_last_pct', 'ss_trnr_xr_fin_last2_pct']\n",
      "(725080, 13)\n",
      "\n",
      "\n",
      "(725080, 232)\n",
      "['@id_DOG', 'DogName', 'y_runtime', 'RaceId', '@id_RACE', 'Distance', 'RaceGrade', 'Track', 'Event_Dt_x', 'Prizemoney', 'TrainerId', 'TrainerName', 'ft_sp', 'x_num_dogs', 'position', 'y_margin', 'y_pos', 'Winner_actual', 'Top3_actual', 'rand_mean', 'rand_uniform', 'position_random', 'Winner_random', 'Top3_random', 'position_fasttrack', 'Winner_fastrack', 'Top3_fastrack', 'rand_1', 'h_rand_1', 'p_rand_1', 'rand_all_plc_to_win', 'h_rand_all_plc_to_win', 'p_rand_all_plc_to_win', 'rand_lay_last', 'h_rand_lay_last', 'p_rand_lay_last', 'ft_1', 'h_ft_1', 'p_ft_1', 'ft_all_plc', 'h_ft_all_plc', 'p_ft_all_plc', 'ft_lay_last', 'h_ft_lay_last', 'p_ft_lay_last', 'G5', 'G4', 'G3', 'G2', 'G1', 'Gmix', 'Gmas', 'Gmai', 'Gh', 'Gres', 'Gnov', 'Gsp', 'Gfin', 'RaceGrade_H1', 'x_races_tot', 'x_rtgp_prev', 'x_rtgp_avg', 'x_rtgp_min', 'x_rtgp_max', 'x_rtgp_std', 'x_rtgp_range', 'x_no_prev_races', 'x_speed_prev', 'x_speed_avg', 'x_speed_min', 'x_speed_max', 'x_speed_std', 'x_speed_range', 'x_no_prev_r_in_dist', 'xr_races', 'xr_races_l5', 'xr_wins', 'xr_wins_pct', 'xr_wins_l5', 'xr_wins_l5_pct', 'xr_fin_t2', 'xr_fin_t2_pct', 'xr_fin_last', 'xr_finl5_last', 'xr_finl5_last_pct', 'xr_fin_last2', 'xr_fin_last2_pct', 'xr_finl5_last2', 'xr_finl5_last2_pct', 'xr_fin_plc', 'xr_fin_plc_pct', 'xr_finl5_plc', 'xr_finl5_plc_pct', 'Event_Dt_y', 'trnr_xr_races_tot', 'trnr_xr_races_tot_prev', 'trnr_wins_prev', 'trnr_fin_plc_prev', 'trnr_fin_t2_prev', 'trnr_fin_last_prev', 'trnr_fin_last2_prev', 'trnr_xr_wins', 'trnr_xr_fin_plc', 'trnr_xr_fin_t2', 'trnr_xr_fin_last', 'trnr_xr_fin_last2', 'trnr_xrl5_wins', 'trnr_xrl5_fin_plc', 'trnr_xrl5_fin_t2', 'trnr_xrl5_fin_last', 'trnr_xrl5_fin_last2', 'trnr_xr_wins_pct', 'trnr_xr_fin_t2_pct', 'trnr_xr_fin_plc_pct', 'trnr_xr_fin_last_pct', 'trnr_xr_fin_last2_pct', 'x_races_tot_norm_by_race', 'x_rtgp_prev_norm_by_race', 'x_rtgp_avg_norm_by_race', 'x_rtgp_min_norm_by_race', 'x_rtgp_max_norm_by_race', 'x_rtgp_std_norm_by_race', 'x_rtgp_range_norm_by_race', 'x_speed_prev_norm_by_race', 'x_speed_avg_norm_by_race', 'x_speed_min_norm_by_race', 'x_speed_max_norm_by_race', 'x_speed_std_norm_by_race', 'x_speed_range_norm_by_race', 'xr_races_norm_by_race', 'xr_races_l5_norm_by_race', 'xr_wins_norm_by_race', 'xr_wins_pct_norm_by_race', 'xr_wins_l5_norm_by_race', 'xr_wins_l5_pct_norm_by_race', 'xr_fin_t2_norm_by_race', 'xr_fin_t2_pct_norm_by_race', 'xr_fin_last_norm_by_race', 'xr_finl5_last_norm_by_race', 'xr_finl5_last_pct_norm_by_race', 'xr_fin_last2_norm_by_race', 'xr_fin_last2_pct_norm_by_race', 'xr_finl5_last2_norm_by_race', 'xr_finl5_last2_pct_norm_by_race', 'xr_fin_plc_norm_by_race', 'xr_fin_plc_pct_norm_by_race', 'xr_finl5_plc_norm_by_race', 'xr_finl5_plc_pct_norm_by_race', 'trnr_xr_races_tot_norm_by_race', 'trnr_xr_races_tot_prev_norm_by_race', 'trnr_wins_prev_norm_by_race', 'trnr_fin_plc_prev_norm_by_race', 'trnr_fin_t2_prev_norm_by_race', 'trnr_fin_last_prev_norm_by_race', 'trnr_fin_last2_prev_norm_by_race', 'trnr_xr_wins_norm_by_race', 'trnr_xr_fin_plc_norm_by_race', 'trnr_xr_fin_t2_norm_by_race', 'trnr_xr_fin_last_norm_by_race', 'trnr_xr_fin_last2_norm_by_race', 'trnr_xrl5_wins_norm_by_race', 'trnr_xrl5_fin_plc_norm_by_race', 'trnr_xrl5_fin_t2_norm_by_race', 'trnr_xrl5_fin_last_norm_by_race', 'trnr_xrl5_fin_last2_norm_by_race', 'trnr_xr_wins_pct_norm_by_race', 'trnr_xr_fin_t2_pct_norm_by_race', 'trnr_xr_fin_plc_pct_norm_by_race', 'trnr_xr_fin_last_pct_norm_by_race', 'trnr_xr_fin_last2_pct_norm_by_race', 'ss_x_races_tot', 'ss_x_rtgp_prev', 'ss_x_rtgp_avg', 'ss_x_rtgp_min', 'ss_x_rtgp_max', 'ss_x_rtgp_std', 'ss_x_rtgp_range', 'ss_x_speed_prev', 'ss_x_speed_avg', 'ss_x_speed_min', 'ss_x_speed_max', 'ss_x_speed_std', 'ss_x_speed_range', 'ss_xr_races', 'ss_xr_races_l5', 'ss_xr_wins', 'ss_xr_wins_pct', 'ss_xr_wins_l5', 'ss_xr_wins_l5_pct', 'ss_xr_fin_t2', 'ss_xr_fin_t2_pct', 'ss_xr_fin_last', 'ss_xr_finl5_last', 'ss_xr_finl5_last_pct', 'ss_xr_fin_last2', 'ss_xr_fin_last2_pct', 'ss_xr_finl5_last2', 'ss_xr_finl5_last2_pct', 'ss_xr_fin_plc', 'ss_xr_fin_plc_pct', 'ss_xr_finl5_plc', 'ss_xr_finl5_plc_pct', 'ss_trnr_xr_races_tot', 'ss_trnr_xr_races_tot_prev', 'ss_trnr_wins_prev', 'ss_trnr_fin_plc_prev', 'ss_trnr_fin_t2_prev', 'ss_trnr_fin_last_prev', 'ss_trnr_fin_last2_prev', 'ss_trnr_xr_wins', 'ss_trnr_xr_fin_plc', 'ss_trnr_xr_fin_t2', 'ss_trnr_xr_fin_last', 'ss_trnr_xr_fin_last2', 'ss_trnr_xrl5_wins', 'ss_trnr_xrl5_fin_plc', 'ss_trnr_xrl5_fin_t2', 'ss_trnr_xrl5_fin_last', 'ss_trnr_xrl5_fin_last2', 'ss_trnr_xr_wins_pct', 'ss_trnr_xr_fin_t2_pct', 'ss_trnr_xr_fin_plc_pct', 'ss_trnr_xr_fin_last_pct', 'ss_trnr_xr_fin_last2_pct', 'RaceName', 'dist300', 'dist350', 'dist400', 'dist450', 'dist500', 'dist600', 'dist700']\n",
      "(725080, 19)\n",
      "\n",
      "\n",
      "(725080, 249)\n",
      "['@id_DOG', 'DogName', 'y_runtime', 'RaceId', '@id_RACE', 'Distance', 'RaceGrade', 'Track', 'Event_Dt_x', 'Prizemoney', 'TrainerId', 'TrainerName', 'ft_sp', 'x_num_dogs', 'position', 'y_margin', 'y_pos', 'Winner_actual', 'Top3_actual', 'rand_mean', 'rand_uniform', 'position_random', 'Winner_random', 'Top3_random', 'position_fasttrack', 'Winner_fastrack', 'Top3_fastrack', 'rand_1', 'h_rand_1', 'p_rand_1', 'rand_all_plc_to_win', 'h_rand_all_plc_to_win', 'p_rand_all_plc_to_win', 'rand_lay_last', 'h_rand_lay_last', 'p_rand_lay_last', 'ft_1', 'h_ft_1', 'p_ft_1', 'ft_all_plc', 'h_ft_all_plc', 'p_ft_all_plc', 'ft_lay_last', 'h_ft_lay_last', 'p_ft_lay_last', 'G5', 'G4', 'G3', 'G2', 'G1', 'Gmix', 'Gmas', 'Gmai', 'Gh', 'Gres', 'Gnov', 'Gsp', 'Gfin', 'RaceGrade_H1', 'x_races_tot', 'x_rtgp_prev', 'x_rtgp_avg', 'x_rtgp_min', 'x_rtgp_max', 'x_rtgp_std', 'x_rtgp_range', 'x_no_prev_races', 'x_speed_prev', 'x_speed_avg', 'x_speed_min', 'x_speed_max', 'x_speed_std', 'x_speed_range', 'x_no_prev_r_in_dist', 'xr_races', 'xr_races_l5', 'xr_wins', 'xr_wins_pct', 'xr_wins_l5', 'xr_wins_l5_pct', 'xr_fin_t2', 'xr_fin_t2_pct', 'xr_fin_last', 'xr_finl5_last', 'xr_finl5_last_pct', 'xr_fin_last2', 'xr_fin_last2_pct', 'xr_finl5_last2', 'xr_finl5_last2_pct', 'xr_fin_plc', 'xr_fin_plc_pct', 'xr_finl5_plc', 'xr_finl5_plc_pct', 'Event_Dt_y', 'trnr_xr_races_tot', 'trnr_xr_races_tot_prev', 'trnr_wins_prev', 'trnr_fin_plc_prev', 'trnr_fin_t2_prev', 'trnr_fin_last_prev', 'trnr_fin_last2_prev', 'trnr_xr_wins', 'trnr_xr_fin_plc', 'trnr_xr_fin_t2', 'trnr_xr_fin_last', 'trnr_xr_fin_last2', 'trnr_xrl5_wins', 'trnr_xrl5_fin_plc', 'trnr_xrl5_fin_t2', 'trnr_xrl5_fin_last', 'trnr_xrl5_fin_last2', 'trnr_xr_wins_pct', 'trnr_xr_fin_t2_pct', 'trnr_xr_fin_plc_pct', 'trnr_xr_fin_last_pct', 'trnr_xr_fin_last2_pct', 'x_races_tot_norm_by_race', 'x_rtgp_prev_norm_by_race', 'x_rtgp_avg_norm_by_race', 'x_rtgp_min_norm_by_race', 'x_rtgp_max_norm_by_race', 'x_rtgp_std_norm_by_race', 'x_rtgp_range_norm_by_race', 'x_speed_prev_norm_by_race', 'x_speed_avg_norm_by_race', 'x_speed_min_norm_by_race', 'x_speed_max_norm_by_race', 'x_speed_std_norm_by_race', 'x_speed_range_norm_by_race', 'xr_races_norm_by_race', 'xr_races_l5_norm_by_race', 'xr_wins_norm_by_race', 'xr_wins_pct_norm_by_race', 'xr_wins_l5_norm_by_race', 'xr_wins_l5_pct_norm_by_race', 'xr_fin_t2_norm_by_race', 'xr_fin_t2_pct_norm_by_race', 'xr_fin_last_norm_by_race', 'xr_finl5_last_norm_by_race', 'xr_finl5_last_pct_norm_by_race', 'xr_fin_last2_norm_by_race', 'xr_fin_last2_pct_norm_by_race', 'xr_finl5_last2_norm_by_race', 'xr_finl5_last2_pct_norm_by_race', 'xr_fin_plc_norm_by_race', 'xr_fin_plc_pct_norm_by_race', 'xr_finl5_plc_norm_by_race', 'xr_finl5_plc_pct_norm_by_race', 'trnr_xr_races_tot_norm_by_race', 'trnr_xr_races_tot_prev_norm_by_race', 'trnr_wins_prev_norm_by_race', 'trnr_fin_plc_prev_norm_by_race', 'trnr_fin_t2_prev_norm_by_race', 'trnr_fin_last_prev_norm_by_race', 'trnr_fin_last2_prev_norm_by_race', 'trnr_xr_wins_norm_by_race', 'trnr_xr_fin_plc_norm_by_race', 'trnr_xr_fin_t2_norm_by_race', 'trnr_xr_fin_last_norm_by_race', 'trnr_xr_fin_last2_norm_by_race', 'trnr_xrl5_wins_norm_by_race', 'trnr_xrl5_fin_plc_norm_by_race', 'trnr_xrl5_fin_t2_norm_by_race', 'trnr_xrl5_fin_last_norm_by_race', 'trnr_xrl5_fin_last2_norm_by_race', 'trnr_xr_wins_pct_norm_by_race', 'trnr_xr_fin_t2_pct_norm_by_race', 'trnr_xr_fin_plc_pct_norm_by_race', 'trnr_xr_fin_last_pct_norm_by_race', 'trnr_xr_fin_last2_pct_norm_by_race', 'ss_x_races_tot', 'ss_x_rtgp_prev', 'ss_x_rtgp_avg', 'ss_x_rtgp_min', 'ss_x_rtgp_max', 'ss_x_rtgp_std', 'ss_x_rtgp_range', 'ss_x_speed_prev', 'ss_x_speed_avg', 'ss_x_speed_min', 'ss_x_speed_max', 'ss_x_speed_std', 'ss_x_speed_range', 'ss_xr_races', 'ss_xr_races_l5', 'ss_xr_wins', 'ss_xr_wins_pct', 'ss_xr_wins_l5', 'ss_xr_wins_l5_pct', 'ss_xr_fin_t2', 'ss_xr_fin_t2_pct', 'ss_xr_fin_last', 'ss_xr_finl5_last', 'ss_xr_finl5_last_pct', 'ss_xr_fin_last2', 'ss_xr_fin_last2_pct', 'ss_xr_finl5_last2', 'ss_xr_finl5_last2_pct', 'ss_xr_fin_plc', 'ss_xr_fin_plc_pct', 'ss_xr_finl5_plc', 'ss_xr_finl5_plc_pct', 'ss_trnr_xr_races_tot', 'ss_trnr_xr_races_tot_prev', 'ss_trnr_wins_prev', 'ss_trnr_fin_plc_prev', 'ss_trnr_fin_t2_prev', 'ss_trnr_fin_last_prev', 'ss_trnr_fin_last2_prev', 'ss_trnr_xr_wins', 'ss_trnr_xr_fin_plc', 'ss_trnr_xr_fin_t2', 'ss_trnr_xr_fin_last', 'ss_trnr_xr_fin_last2', 'ss_trnr_xrl5_wins', 'ss_trnr_xrl5_fin_plc', 'ss_trnr_xrl5_fin_t2', 'ss_trnr_xrl5_fin_last', 'ss_trnr_xrl5_fin_last2', 'ss_trnr_xr_wins_pct', 'ss_trnr_xr_fin_t2_pct', 'ss_trnr_xr_fin_plc_pct', 'ss_trnr_xr_fin_last_pct', 'ss_trnr_xr_fin_last2_pct', 'RaceName', 'dist300', 'dist350', 'dist400', 'dist450', 'dist500', 'dist600', 'dist700', 'firstrace', 'upgrade', 'downgrade', 'upg_87', 'upg_76', 'upg_65', 'upg_54', 'upg_43', 'upg_32', 'upg_21', 'dng_12', 'dng_23', 'dng_34', 'dng_45', 'dng_56', 'dng_67', 'dng_78']\n",
      "2023-07-07 08:54:31.353620\n"
     ]
    }
   ],
   "source": [
    "\n",
    "# Merge the datasets together\n",
    "\n",
    "print(df_base_raw.shape)\n",
    "print(df_race_profile.shape)\n",
    "\n",
    "print()\n",
    "print()\n",
    "df_base0 = pd.merge( df_base_raw, df_race_profile, on = ['@id_DOG','@id_RACE'], how = 'left')\n",
    "print(df_base0.shape)\n",
    "print(df_base0.columns.values.tolist())\n",
    "\n",
    "print(df_normed.shape)\n",
    "\n",
    "print()\n",
    "print()\n",
    "df_base1 = pd.merge( df_base0, df_normed, on = ['@id_DOG','@id_RACE'], how = 'left')\n",
    "print(df_base1.shape)\n",
    "print(df_base1.columns.values.tolist())\n",
    "\n",
    "\n",
    "print(df_categorical.shape)\n",
    "\n",
    "print()\n",
    "print()\n",
    "df_base2 = pd.merge( df_base1, df_categorical.drop(columns = ['DogName','Distance','x_dist_gp']), on = ['@id_DOG','@id_RACE'], how = 'left')\n",
    "print(df_base2.shape)\n",
    "print(df_base2.columns.values.tolist())\n",
    "\n",
    "\n",
    "print(df_grading.shape)\n",
    "\n",
    "print()\n",
    "print()\n",
    "df_modeling = pd.merge( df_base2, df_grading, on = ['@id_DOG','@id_RACE'], how = 'left')\n",
    "print(df_modeling.shape)\n",
    "print(df_modeling.columns.values.tolist())\n",
    "\n",
    "print(datetime.now())\n"
   ]
  },
  {
   "cell_type": "code",
   "execution_count": 29,
   "id": "bae9c58c-c036-4d44-9389-407447b9da3c",
   "metadata": {},
   "outputs": [],
   "source": [
    "\n",
    "df_modeling.drop(columns = ['Event_Dt_y'], inplace = True)\n"
   ]
  },
  {
   "cell_type": "code",
   "execution_count": 30,
   "id": "fd0a9ea2-494b-43c4-b622-bbf430be65a3",
   "metadata": {},
   "outputs": [],
   "source": [
    "\n",
    "df_modeling.rename(columns = {'Event_Dt_x':'Event_Dt'}, inplace = True)\n"
   ]
  },
  {
   "cell_type": "code",
   "execution_count": 31,
   "id": "f425303e-b575-42dd-8647-79daa6af4493",
   "metadata": {},
   "outputs": [
    {
     "name": "stdout",
     "output_type": "stream",
     "text": [
      "['@id_DOG', 'DogName', 'y_runtime', 'RaceId', '@id_RACE', 'Distance', 'RaceGrade', 'Track', 'Event_Dt', 'Prizemoney', 'TrainerId', 'TrainerName', 'ft_sp', 'x_num_dogs', 'position', 'y_margin', 'y_pos', 'Winner_actual', 'Top3_actual', 'rand_mean', 'rand_uniform', 'position_random', 'Winner_random', 'Top3_random', 'position_fasttrack', 'Winner_fastrack', 'Top3_fastrack', 'rand_1', 'h_rand_1', 'p_rand_1', 'rand_all_plc_to_win', 'h_rand_all_plc_to_win', 'p_rand_all_plc_to_win', 'rand_lay_last', 'h_rand_lay_last', 'p_rand_lay_last', 'ft_1', 'h_ft_1', 'p_ft_1', 'ft_all_plc', 'h_ft_all_plc', 'p_ft_all_plc', 'ft_lay_last', 'h_ft_lay_last', 'p_ft_lay_last', 'G5', 'G4', 'G3', 'G2', 'G1', 'Gmix', 'Gmas', 'Gmai', 'Gh', 'Gres', 'Gnov', 'Gsp', 'Gfin', 'RaceGrade_H1', 'x_races_tot', 'x_rtgp_prev', 'x_rtgp_avg', 'x_rtgp_min', 'x_rtgp_max', 'x_rtgp_std', 'x_rtgp_range', 'x_no_prev_races', 'x_speed_prev', 'x_speed_avg', 'x_speed_min', 'x_speed_max', 'x_speed_std', 'x_speed_range', 'x_no_prev_r_in_dist', 'xr_races', 'xr_races_l5', 'xr_wins', 'xr_wins_pct', 'xr_wins_l5', 'xr_wins_l5_pct', 'xr_fin_t2', 'xr_fin_t2_pct', 'xr_fin_last', 'xr_finl5_last', 'xr_finl5_last_pct', 'xr_fin_last2', 'xr_fin_last2_pct', 'xr_finl5_last2', 'xr_finl5_last2_pct', 'xr_fin_plc', 'xr_fin_plc_pct', 'xr_finl5_plc', 'xr_finl5_plc_pct', 'trnr_xr_races_tot', 'trnr_xr_races_tot_prev', 'trnr_wins_prev', 'trnr_fin_plc_prev', 'trnr_fin_t2_prev', 'trnr_fin_last_prev', 'trnr_fin_last2_prev', 'trnr_xr_wins', 'trnr_xr_fin_plc', 'trnr_xr_fin_t2', 'trnr_xr_fin_last', 'trnr_xr_fin_last2', 'trnr_xrl5_wins', 'trnr_xrl5_fin_plc', 'trnr_xrl5_fin_t2', 'trnr_xrl5_fin_last', 'trnr_xrl5_fin_last2', 'trnr_xr_wins_pct', 'trnr_xr_fin_t2_pct', 'trnr_xr_fin_plc_pct', 'trnr_xr_fin_last_pct', 'trnr_xr_fin_last2_pct', 'x_races_tot_norm_by_race', 'x_rtgp_prev_norm_by_race', 'x_rtgp_avg_norm_by_race', 'x_rtgp_min_norm_by_race', 'x_rtgp_max_norm_by_race', 'x_rtgp_std_norm_by_race', 'x_rtgp_range_norm_by_race', 'x_speed_prev_norm_by_race', 'x_speed_avg_norm_by_race', 'x_speed_min_norm_by_race', 'x_speed_max_norm_by_race', 'x_speed_std_norm_by_race', 'x_speed_range_norm_by_race', 'xr_races_norm_by_race', 'xr_races_l5_norm_by_race', 'xr_wins_norm_by_race', 'xr_wins_pct_norm_by_race', 'xr_wins_l5_norm_by_race', 'xr_wins_l5_pct_norm_by_race', 'xr_fin_t2_norm_by_race', 'xr_fin_t2_pct_norm_by_race', 'xr_fin_last_norm_by_race', 'xr_finl5_last_norm_by_race', 'xr_finl5_last_pct_norm_by_race', 'xr_fin_last2_norm_by_race', 'xr_fin_last2_pct_norm_by_race', 'xr_finl5_last2_norm_by_race', 'xr_finl5_last2_pct_norm_by_race', 'xr_fin_plc_norm_by_race', 'xr_fin_plc_pct_norm_by_race', 'xr_finl5_plc_norm_by_race', 'xr_finl5_plc_pct_norm_by_race', 'trnr_xr_races_tot_norm_by_race', 'trnr_xr_races_tot_prev_norm_by_race', 'trnr_wins_prev_norm_by_race', 'trnr_fin_plc_prev_norm_by_race', 'trnr_fin_t2_prev_norm_by_race', 'trnr_fin_last_prev_norm_by_race', 'trnr_fin_last2_prev_norm_by_race', 'trnr_xr_wins_norm_by_race', 'trnr_xr_fin_plc_norm_by_race', 'trnr_xr_fin_t2_norm_by_race', 'trnr_xr_fin_last_norm_by_race', 'trnr_xr_fin_last2_norm_by_race', 'trnr_xrl5_wins_norm_by_race', 'trnr_xrl5_fin_plc_norm_by_race', 'trnr_xrl5_fin_t2_norm_by_race', 'trnr_xrl5_fin_last_norm_by_race', 'trnr_xrl5_fin_last2_norm_by_race', 'trnr_xr_wins_pct_norm_by_race', 'trnr_xr_fin_t2_pct_norm_by_race', 'trnr_xr_fin_plc_pct_norm_by_race', 'trnr_xr_fin_last_pct_norm_by_race', 'trnr_xr_fin_last2_pct_norm_by_race', 'ss_x_races_tot', 'ss_x_rtgp_prev', 'ss_x_rtgp_avg', 'ss_x_rtgp_min', 'ss_x_rtgp_max', 'ss_x_rtgp_std', 'ss_x_rtgp_range', 'ss_x_speed_prev', 'ss_x_speed_avg', 'ss_x_speed_min', 'ss_x_speed_max', 'ss_x_speed_std', 'ss_x_speed_range', 'ss_xr_races', 'ss_xr_races_l5', 'ss_xr_wins', 'ss_xr_wins_pct', 'ss_xr_wins_l5', 'ss_xr_wins_l5_pct', 'ss_xr_fin_t2', 'ss_xr_fin_t2_pct', 'ss_xr_fin_last', 'ss_xr_finl5_last', 'ss_xr_finl5_last_pct', 'ss_xr_fin_last2', 'ss_xr_fin_last2_pct', 'ss_xr_finl5_last2', 'ss_xr_finl5_last2_pct', 'ss_xr_fin_plc', 'ss_xr_fin_plc_pct', 'ss_xr_finl5_plc', 'ss_xr_finl5_plc_pct', 'ss_trnr_xr_races_tot', 'ss_trnr_xr_races_tot_prev', 'ss_trnr_wins_prev', 'ss_trnr_fin_plc_prev', 'ss_trnr_fin_t2_prev', 'ss_trnr_fin_last_prev', 'ss_trnr_fin_last2_prev', 'ss_trnr_xr_wins', 'ss_trnr_xr_fin_plc', 'ss_trnr_xr_fin_t2', 'ss_trnr_xr_fin_last', 'ss_trnr_xr_fin_last2', 'ss_trnr_xrl5_wins', 'ss_trnr_xrl5_fin_plc', 'ss_trnr_xrl5_fin_t2', 'ss_trnr_xrl5_fin_last', 'ss_trnr_xrl5_fin_last2', 'ss_trnr_xr_wins_pct', 'ss_trnr_xr_fin_t2_pct', 'ss_trnr_xr_fin_plc_pct', 'ss_trnr_xr_fin_last_pct', 'ss_trnr_xr_fin_last2_pct', 'RaceName', 'dist300', 'dist350', 'dist400', 'dist450', 'dist500', 'dist600', 'dist700', 'firstrace', 'upgrade', 'downgrade', 'upg_87', 'upg_76', 'upg_65', 'upg_54', 'upg_43', 'upg_32', 'upg_21', 'dng_12', 'dng_23', 'dng_34', 'dng_45', 'dng_56', 'dng_67', 'dng_78']\n"
     ]
    }
   ],
   "source": [
    "\n",
    "print(df_modeling.columns.values.tolist())\n"
   ]
  },
  {
   "cell_type": "code",
   "execution_count": 34,
   "id": "9af1349d-064d-4a72-a1d0-5bac0990ec6b",
   "metadata": {},
   "outputs": [],
   "source": [
    "\n",
    "del df_base_raw, df_race_profile, df_categorical, df_grading, df_normed\n"
   ]
  },
  {
   "cell_type": "code",
   "execution_count": 35,
   "id": "34044e43-30f2-4ca5-b055-ff575be54be4",
   "metadata": {},
   "outputs": [],
   "source": [
    "\n",
    "del df_base0, df_base1, df_base2\n"
   ]
  },
  {
   "cell_type": "code",
   "execution_count": 32,
   "id": "0fc73963-27ed-41f5-b0e4-05f1b55aa0dc",
   "metadata": {},
   "outputs": [
    {
     "name": "stdout",
     "output_type": "stream",
     "text": [
      "   @id_DOG  DogName  y_runtime  RaceId  @id_RACE  Distance  RaceGrade  Track  Event_Dt  Prizemoney  TrainerId  TrainerName  ft_sp  x_num_dogs  position  y_margin  y_pos  Winner_actual  Top3_actual  \\\n",
      "0        0        0          0       0         0         0          0      0         0      226219          0            0      0           0         0         0      0              0            0   \n",
      "\n",
      "   rand_mean  rand_uniform  position_random  Winner_random  Top3_random  position_fasttrack  ...  RaceName  dist300  dist350  dist400  dist450  dist500  dist600  dist700  firstrace  upgrade  \\\n",
      "0          0             0                0              0            0                   0  ...        15        0        0        0        0        0        0        0          0        0   \n",
      "\n",
      "   downgrade  upg_87  upg_76  upg_65  upg_54  upg_43  upg_32  upg_21  dng_12  dng_23  dng_34  dng_45  dng_56  dng_67  dng_78  \n",
      "0          0       0       0       0       0       0       0       0       0       0       0       0       0       0       0  \n",
      "\n",
      "[1 rows x 248 columns]\n"
     ]
    }
   ],
   "source": [
    "\n",
    "print(pd.DataFrame(df_modeling.isna().sum()).transpose())\n"
   ]
  },
  {
   "cell_type": "code",
   "execution_count": 33,
   "id": "4465a6a2-a2ed-440b-bca1-505bc8891837",
   "metadata": {},
   "outputs": [
    {
     "name": "stdout",
     "output_type": "stream",
     "text": [
      "['@id_DOG', 'DogName', 'y_runtime', 'RaceId', '@id_RACE', 'Distance', 'RaceGrade', 'Track', 'Event_Dt', 'Prizemoney', 'TrainerId', 'TrainerName', 'ft_sp', 'x_num_dogs', 'position', 'y_margin', 'y_pos', 'Winner_actual', 'Top3_actual', 'rand_mean', 'rand_uniform', 'position_random', 'Winner_random', 'Top3_random', 'position_fasttrack', 'Winner_fastrack', 'Top3_fastrack', 'rand_1', 'h_rand_1', 'p_rand_1', 'rand_all_plc_to_win', 'h_rand_all_plc_to_win', 'p_rand_all_plc_to_win', 'rand_lay_last', 'h_rand_lay_last', 'p_rand_lay_last', 'ft_1', 'h_ft_1', 'p_ft_1', 'ft_all_plc', 'h_ft_all_plc', 'p_ft_all_plc', 'ft_lay_last', 'h_ft_lay_last', 'p_ft_lay_last', 'G5', 'G4', 'G3', 'G2', 'G1', 'Gmix', 'Gmas', 'Gmai', 'Gh', 'Gres', 'Gnov', 'Gsp', 'Gfin', 'RaceGrade_H1', 'x_races_tot', 'x_rtgp_prev', 'x_rtgp_avg', 'x_rtgp_min', 'x_rtgp_max', 'x_rtgp_std', 'x_rtgp_range', 'x_no_prev_races', 'x_speed_prev', 'x_speed_avg', 'x_speed_min', 'x_speed_max', 'x_speed_std', 'x_speed_range', 'x_no_prev_r_in_dist', 'xr_races', 'xr_races_l5', 'xr_wins', 'xr_wins_pct', 'xr_wins_l5', 'xr_wins_l5_pct', 'xr_fin_t2', 'xr_fin_t2_pct', 'xr_fin_last', 'xr_finl5_last', 'xr_finl5_last_pct', 'xr_fin_last2', 'xr_fin_last2_pct', 'xr_finl5_last2', 'xr_finl5_last2_pct', 'xr_fin_plc', 'xr_fin_plc_pct', 'xr_finl5_plc', 'xr_finl5_plc_pct', 'trnr_xr_races_tot', 'trnr_xr_races_tot_prev', 'trnr_wins_prev', 'trnr_fin_plc_prev', 'trnr_fin_t2_prev', 'trnr_fin_last_prev', 'trnr_fin_last2_prev', 'trnr_xr_wins', 'trnr_xr_fin_plc', 'trnr_xr_fin_t2', 'trnr_xr_fin_last', 'trnr_xr_fin_last2', 'trnr_xrl5_wins', 'trnr_xrl5_fin_plc', 'trnr_xrl5_fin_t2', 'trnr_xrl5_fin_last', 'trnr_xrl5_fin_last2', 'trnr_xr_wins_pct', 'trnr_xr_fin_t2_pct', 'trnr_xr_fin_plc_pct', 'trnr_xr_fin_last_pct', 'trnr_xr_fin_last2_pct', 'x_races_tot_norm_by_race', 'x_rtgp_prev_norm_by_race', 'x_rtgp_avg_norm_by_race', 'x_rtgp_min_norm_by_race', 'x_rtgp_max_norm_by_race', 'x_rtgp_std_norm_by_race', 'x_rtgp_range_norm_by_race', 'x_speed_prev_norm_by_race', 'x_speed_avg_norm_by_race', 'x_speed_min_norm_by_race', 'x_speed_max_norm_by_race', 'x_speed_std_norm_by_race', 'x_speed_range_norm_by_race', 'xr_races_norm_by_race', 'xr_races_l5_norm_by_race', 'xr_wins_norm_by_race', 'xr_wins_pct_norm_by_race', 'xr_wins_l5_norm_by_race', 'xr_wins_l5_pct_norm_by_race', 'xr_fin_t2_norm_by_race', 'xr_fin_t2_pct_norm_by_race', 'xr_fin_last_norm_by_race', 'xr_finl5_last_norm_by_race', 'xr_finl5_last_pct_norm_by_race', 'xr_fin_last2_norm_by_race', 'xr_fin_last2_pct_norm_by_race', 'xr_finl5_last2_norm_by_race', 'xr_finl5_last2_pct_norm_by_race', 'xr_fin_plc_norm_by_race', 'xr_fin_plc_pct_norm_by_race', 'xr_finl5_plc_norm_by_race', 'xr_finl5_plc_pct_norm_by_race', 'trnr_xr_races_tot_norm_by_race', 'trnr_xr_races_tot_prev_norm_by_race', 'trnr_wins_prev_norm_by_race', 'trnr_fin_plc_prev_norm_by_race', 'trnr_fin_t2_prev_norm_by_race', 'trnr_fin_last_prev_norm_by_race', 'trnr_fin_last2_prev_norm_by_race', 'trnr_xr_wins_norm_by_race', 'trnr_xr_fin_plc_norm_by_race', 'trnr_xr_fin_t2_norm_by_race', 'trnr_xr_fin_last_norm_by_race', 'trnr_xr_fin_last2_norm_by_race', 'trnr_xrl5_wins_norm_by_race', 'trnr_xrl5_fin_plc_norm_by_race', 'trnr_xrl5_fin_t2_norm_by_race', 'trnr_xrl5_fin_last_norm_by_race', 'trnr_xrl5_fin_last2_norm_by_race', 'trnr_xr_wins_pct_norm_by_race', 'trnr_xr_fin_t2_pct_norm_by_race', 'trnr_xr_fin_plc_pct_norm_by_race', 'trnr_xr_fin_last_pct_norm_by_race', 'trnr_xr_fin_last2_pct_norm_by_race', 'ss_x_races_tot', 'ss_x_rtgp_prev', 'ss_x_rtgp_avg', 'ss_x_rtgp_min', 'ss_x_rtgp_max', 'ss_x_rtgp_std', 'ss_x_rtgp_range', 'ss_x_speed_prev', 'ss_x_speed_avg', 'ss_x_speed_min', 'ss_x_speed_max', 'ss_x_speed_std', 'ss_x_speed_range', 'ss_xr_races', 'ss_xr_races_l5', 'ss_xr_wins', 'ss_xr_wins_pct', 'ss_xr_wins_l5', 'ss_xr_wins_l5_pct', 'ss_xr_fin_t2', 'ss_xr_fin_t2_pct', 'ss_xr_fin_last', 'ss_xr_finl5_last', 'ss_xr_finl5_last_pct', 'ss_xr_fin_last2', 'ss_xr_fin_last2_pct', 'ss_xr_finl5_last2', 'ss_xr_finl5_last2_pct', 'ss_xr_fin_plc', 'ss_xr_fin_plc_pct', 'ss_xr_finl5_plc', 'ss_xr_finl5_plc_pct', 'ss_trnr_xr_races_tot', 'ss_trnr_xr_races_tot_prev', 'ss_trnr_wins_prev', 'ss_trnr_fin_plc_prev', 'ss_trnr_fin_t2_prev', 'ss_trnr_fin_last_prev', 'ss_trnr_fin_last2_prev', 'ss_trnr_xr_wins', 'ss_trnr_xr_fin_plc', 'ss_trnr_xr_fin_t2', 'ss_trnr_xr_fin_last', 'ss_trnr_xr_fin_last2', 'ss_trnr_xrl5_wins', 'ss_trnr_xrl5_fin_plc', 'ss_trnr_xrl5_fin_t2', 'ss_trnr_xrl5_fin_last', 'ss_trnr_xrl5_fin_last2', 'ss_trnr_xr_wins_pct', 'ss_trnr_xr_fin_t2_pct', 'ss_trnr_xr_fin_plc_pct', 'ss_trnr_xr_fin_last_pct', 'ss_trnr_xr_fin_last2_pct', 'RaceName', 'dist300', 'dist350', 'dist400', 'dist450', 'dist500', 'dist600', 'dist700', 'firstrace', 'upgrade', 'downgrade', 'upg_87', 'upg_76', 'upg_65', 'upg_54', 'upg_43', 'upg_32', 'upg_21', 'dng_12', 'dng_23', 'dng_34', 'dng_45', 'dng_56', 'dng_67', 'dng_78']\n"
     ]
    }
   ],
   "source": [
    "print(df_modeling.columns.values.tolist())"
   ]
  },
  {
   "cell_type": "code",
   "execution_count": 34,
   "id": "4833bb4b-3656-4c4f-a43d-dd1a8040d422",
   "metadata": {},
   "outputs": [
    {
     "name": "stdout",
     "output_type": "stream",
     "text": [
      "(725080, 248)\n"
     ]
    }
   ],
   "source": [
    "\n",
    "print(df_modeling.shape)\n"
   ]
  },
  {
   "cell_type": "code",
   "execution_count": 35,
   "id": "5c071102-b358-4f77-b0e6-ea849f41ac7a",
   "metadata": {},
   "outputs": [
    {
     "name": "stdout",
     "output_type": "stream",
     "text": [
      "2023-07-07\n",
      "modeling_base_2023-07-07.csv\n",
      "0\n",
      "[]\n"
     ]
    }
   ],
   "source": [
    "\n",
    "#cols_for_drop = []\n",
    "cols_for_drop = []\n",
    "\n",
    "todaydt = datetime.now(local_tz).date()\n",
    "print(todaydt)\n",
    "exp_fname = f'modeling_base_{todaydt}.csv'\n",
    "print(exp_fname)\n",
    "\n",
    "# Add columns containing 'v0' to cols_for_drop\n",
    "cols_for_drop.extend([col for col in df_modeling.columns if 'v0' in col])\n",
    "\n",
    "print(len(cols_for_drop))\n",
    "print(cols_for_drop)\n",
    "\n",
    "#exp_ds = df_modeling.drop(columns = cols_for_drop).rename(columns = {'y_margin_x':'y_margin', 'y_pos_x':'y_pos'})\n",
    "exp_ds = df_modeling.rename(columns = {'y_margin_x':'y_margin', 'y_pos_x':'y_pos'})\n",
    "\n"
   ]
  },
  {
   "cell_type": "code",
   "execution_count": 36,
   "id": "1b6b77f4-ee85-457a-9794-cb24b1e1f781",
   "metadata": {},
   "outputs": [
    {
     "name": "stdout",
     "output_type": "stream",
     "text": [
      "2023-07-07 14:26:01.571034+05:30\n",
      "2023-07-07 14:42:45.320770+05:30\n"
     ]
    }
   ],
   "source": [
    "\n",
    "print(datetime.now(local_tz))\n",
    "exp_ds.to_csv(f'{outloc}/{exp_fname}', index = False)\n",
    "print(datetime.now(local_tz))\n"
   ]
  },
  {
   "cell_type": "code",
   "execution_count": null,
   "id": "fa665bf2-fe62-49e9-bebe-c436ea20cc17",
   "metadata": {},
   "outputs": [],
   "source": [
    "# 20 Min export time"
   ]
  },
  {
   "cell_type": "code",
   "execution_count": 37,
   "id": "f0592e70-a38f-4528-bc5f-466ef50738f9",
   "metadata": {},
   "outputs": [
    {
     "name": "stdout",
     "output_type": "stream",
     "text": [
      "modeling_base_2023-07-07.csv\n"
     ]
    }
   ],
   "source": [
    "\n",
    "print(exp_fname)\n"
   ]
  },
  {
   "cell_type": "code",
   "execution_count": 38,
   "id": "deb5aaf2-0414-42c6-890f-d7345566351d",
   "metadata": {},
   "outputs": [
    {
     "name": "stdout",
     "output_type": "stream",
     "text": [
      "Finished running \"C031_CONSOL_Create Modeling base.ipynb\"\n"
     ]
    }
   ],
   "source": [
    "\n",
    "print('Finished running \"C031_CONSOL_Create Modeling base.ipynb\"')\n"
   ]
  },
  {
   "cell_type": "code",
   "execution_count": 39,
   "id": "454baec7-7536-4979-9812-84250424177f",
   "metadata": {},
   "outputs": [
    {
     "name": "stdout",
     "output_type": "stream",
     "text": [
      "\n"
     ]
    }
   ],
   "source": [
    "print()"
   ]
  },
  {
   "cell_type": "code",
   "execution_count": null,
   "id": "b325135a-683f-47dd-816e-bab0c655cb23",
   "metadata": {},
   "outputs": [],
   "source": []
  }
 ],
 "metadata": {
  "kernelspec": {
   "display_name": "Python 3.8 - AzureML",
   "language": "python",
   "name": "python38-azureml"
  },
  "language_info": {
   "codemirror_mode": {
    "name": "ipython",
    "version": 3
   },
   "file_extension": ".py",
   "mimetype": "text/x-python",
   "name": "python",
   "nbconvert_exporter": "python",
   "pygments_lexer": "ipython3",
   "version": "3.8.5"
  }
 },
 "nbformat": 4,
 "nbformat_minor": 5
}
