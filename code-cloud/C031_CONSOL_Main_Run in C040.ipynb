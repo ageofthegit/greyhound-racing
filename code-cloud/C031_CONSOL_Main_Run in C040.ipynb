{
 "cells": [
  {
   "cell_type": "code",
   "execution_count": null,
   "id": "cb585584-ccf5-4aa1-8f83-32ce55442a81",
   "metadata": {},
   "outputs": [],
   "source": []
  },
  {
   "cell_type": "code",
   "execution_count": null,
   "id": "0e0f6adb-d0fb-4c0b-9991-76f3f3b6cc36",
   "metadata": {},
   "outputs": [],
   "source": []
  },
  {
   "cell_type": "markdown",
   "id": "20d15156-d40c-4adb-b8ad-9d9f9ad35e18",
   "metadata": {},
   "source": [
    "# CONSOLIDATE DatePrep"
   ]
  },
  {
   "cell_type": "code",
   "execution_count": 1,
   "id": "ac0b3b5b-48bf-485c-83bd-97db741515f5",
   "metadata": {},
   "outputs": [
    {
     "name": "stdout",
     "output_type": "stream",
     "text": [
      "['/mnt/batch/tasks/shared/LS_root/mounts/clusters/compute-one-8c-32gb/code/Users/karan.bhatti', '/anaconda/envs/azureml_py38/lib/python38.zip', '/anaconda/envs/azureml_py38/lib/python3.8', '/anaconda/envs/azureml_py38/lib/python3.8/lib-dynload', '', '/anaconda/envs/azureml_py38/lib/python3.8/site-packages', '/anaconda/envs/azureml_py38/lib/python3.8/site-packages/azureml/_project/vendor', '/anaconda/envs/azureml_py38/lib/python3.8/site-packages/azureml/automl/core/_vendor']\n",
      "\n",
      "\n"
     ]
    }
   ],
   "source": [
    "\n",
    "#fileloc  = '/mnt/batch/tasks/shared/LS_root/mounts/clusters/compute-one/code/Users/karan.bhatti'\n",
    "fileloc  = '/mnt/batch/tasks/shared/LS_root/mounts/clusters/compute-one-8c-32gb/code/Users/karan.bhatti'\n",
    "\n",
    "import sys\n",
    "print(sys.path)\n",
    "print()\n",
    "#sys.path.append(f'{fileloc}')\n",
    "print()\n",
    "#print(sys.path)\n"
   ]
  },
  {
   "cell_type": "code",
   "execution_count": 2,
   "id": "41e12f32-cddf-4b1b-a11b-523bd5150978",
   "metadata": {},
   "outputs": [],
   "source": [
    "\n",
    "class Data(object):\n",
    "    pass\n",
    "\n",
    "df = Data\n",
    "summ = Data\n"
   ]
  },
  {
   "cell_type": "code",
   "execution_count": 3,
   "id": "91c0dfae-c116-4ecc-8ece-515ef84128f1",
   "metadata": {},
   "outputs": [],
   "source": [
    "import helpdesk as hd"
   ]
  },
  {
   "cell_type": "code",
   "execution_count": 4,
   "id": "786aefbb-d314-49f9-ae4d-efdc11ddfde5",
   "metadata": {},
   "outputs": [],
   "source": [
    "\n",
    "import pandas as pd, numpy as np\n",
    "from datetime import datetime\n"
   ]
  },
  {
   "cell_type": "code",
   "execution_count": 5,
   "id": "e27858ab-bed5-4392-adaa-7ab1699e4729",
   "metadata": {},
   "outputs": [],
   "source": [
    "\n",
    "DEBUG = True\n",
    "seed = 1919\n"
   ]
  },
  {
   "cell_type": "code",
   "execution_count": 6,
   "id": "e838b313-6ce9-45ce-9ad9-e93b3ad18d47",
   "metadata": {},
   "outputs": [],
   "source": [
    "pd.set_option('display.max_rows', 50);"
   ]
  },
  {
   "cell_type": "code",
   "execution_count": 7,
   "id": "c9b3430a-b700-4589-beef-b9edc17f6ef2",
   "metadata": {},
   "outputs": [],
   "source": [
    "pd.set_option('display.max_columns', 50);"
   ]
  },
  {
   "cell_type": "code",
   "execution_count": 8,
   "id": "511706ef-6514-4dbf-9843-564be0c1e17b",
   "metadata": {},
   "outputs": [],
   "source": [
    "pd.set_option('display.width', 200);"
   ]
  },
  {
   "cell_type": "code",
   "execution_count": 11,
   "id": "6a5f2d81-23d1-4a9e-a2fa-ed8c5a048f05",
   "metadata": {},
   "outputs": [
    {
     "name": "stdout",
     "output_type": "stream",
     "text": [
      "(641710, 45)\n",
      "\n",
      "['@id_DOG', 'DogName', 'y_runtime', 'RaceId', '@id_RACE', 'Distance', 'RaceGrade', 'Track', 'Event_Dt', 'Prizemoney', 'TrainerId', 'TrainerName', 'ft_sp', 'x_num_dogs', 'position', 'y_margin', 'y_pos', 'Winner_actual', 'Top3_actual', 'rand_mean', 'rand_uniform', 'position_random', 'Winner_random', 'Top3_random', 'position_fasttrack', 'Winner_fastrack', 'Top3_fastrack', 'rand_1', 'h_rand_1', 'p_rand_1', 'rand_all_plc', 'h_rand_all_plc', 'p_rand_all_plc', 'rand_lay_last', 'h_rand_lay_last', 'p_rand_lay_last', 'ft_1', 'h_ft_1', 'p_ft_1', 'ft_all_plc', 'h_ft_all_plc', 'p_ft_all_plc', 'ft_lay_last', 'h_ft_lay_last', 'p_ft_lay_last']\n"
     ]
    }
   ],
   "source": [
    "\n",
    "# Import the Base Dataset\n",
    "base_dataset_name = 'dataset_base_2023-02-09.csv'\n",
    "\n",
    "df_base_raw = pd.read_csv(f'{fileloc}/{base_dataset_name}')\n",
    "\n",
    "print(df_base_raw.shape)\n",
    "print()\n",
    "print(df_base_raw.columns.values.tolist())\n"
   ]
  },
  {
   "cell_type": "code",
   "execution_count": null,
   "id": "e6006cf3-c819-4dda-97fc-e63bf4de0e49",
   "metadata": {},
   "outputs": [],
   "source": [
    "\n",
    "print(pd.DataFrame(df_base_raw.isna().sum()).transpose())\n"
   ]
  },
  {
   "cell_type": "code",
   "execution_count": 11,
   "id": "0fc3d9d6-2e27-48be-ae11-9d0e91d29348",
   "metadata": {},
   "outputs": [
    {
     "data": {
      "text/plain": [
       "\"\\n# Import the Speed Profile\\n\\nspeed_profile_name = 'dataprep_speed_profile_2022-12-03.csv'\\n\\ndf_speed_profile = pd.read_csv(f'{fileloc}/{speed_profile_name}')\\n\\nprint(df_speed_profile.shape)\\nprint()\\nprint(df_speed_profile.columns.values.tolist())\\nprint()\\n\""
      ]
     },
     "execution_count": 11,
     "metadata": {},
     "output_type": "execute_result"
    }
   ],
   "source": [
    "\n",
    "# Imported in the Standardisation Code\n",
    "\n",
    "\"\"\"\n",
    "# Import the Speed Profile\n",
    "\n",
    "speed_profile_name = 'dataprep_speed_profile_2023-02-22.csv'\n",
    "\n",
    "df_speed_profile = pd.read_csv(f'{fileloc}/{speed_profile_name}')\n",
    "\n",
    "print(df_speed_profile.shape)\n",
    "print()\n",
    "print(df_speed_profile.columns.values.tolist())\n",
    "print()\n",
    "\"\"\"\n"
   ]
  },
  {
   "cell_type": "code",
   "execution_count": 12,
   "id": "af073315-0a6a-4871-bbb0-aeec0011c62f",
   "metadata": {},
   "outputs": [
    {
     "name": "stdout",
     "output_type": "stream",
     "text": [
      "   @id_DOG  @id_RACE  x_races_tot  x_dist_gp  x_runtm_gp  x_rtgp_prev  x_rtgp_avg  x_rtgp_min  x_rtgp_max  x_rtgp_range  x_rtgp_std  x_no_prev_races  x_speed_prev  x_speed_avg  x_speed_min  \\\n",
      "0        0         0            0          0           0            0           0           0           0             0           0                0             0            0            0   \n",
      "\n",
      "   x_speed_max  x_speed_range  x_speed_std  x_no_prev_r_in_dist  \n",
      "0            0              0            0                    0  \n"
     ]
    }
   ],
   "source": [
    "\n",
    "#print(pd.DataFrame(df_speed_profile.isna().sum()).transpose())\n"
   ]
  },
  {
   "cell_type": "code",
   "execution_count": 12,
   "id": "2784e56a-7ba9-4b66-b549-5255353b9d10",
   "metadata": {},
   "outputs": [
    {
     "name": "stdout",
     "output_type": "stream",
     "text": [
      "(641710, 16)\n",
      "\n",
      "['@id_DOG', '@id_RACE', 'G5', 'G4', 'G3', 'G2', 'G1', 'Gmix', 'Gmas', 'Gmai', 'Gh', 'Gres', 'Gnov', 'Gsp', 'Gfin', 'RaceGrade_H1']\n"
     ]
    }
   ],
   "source": [
    "\n",
    "# Import the Race Profile\n",
    "race_profile_name = 'dataprep_raceprofile_2023-02-22.csv'\n",
    "\n",
    "df_race_profile = pd.read_csv(f'{fileloc}/{race_profile_name}')\n",
    "\n",
    "print(df_race_profile.shape)\n",
    "print()\n",
    "print(df_race_profile.columns.values.tolist())\n"
   ]
  },
  {
   "cell_type": "code",
   "execution_count": 13,
   "id": "d1dfb476-eaea-44e4-a992-7c74a4b2d0c3",
   "metadata": {},
   "outputs": [
    {
     "name": "stdout",
     "output_type": "stream",
     "text": [
      "   @id_DOG  @id_RACE  G5  G4  G3  G2  G1  Gmix  Gmas  Gmai  Gh  Gres  Gnov  Gsp  Gfin  RaceGrade_H1\n",
      "0        0         0   0   0   0   0   0     0     0     0   0     0     0    0     0             0\n"
     ]
    }
   ],
   "source": [
    "\n",
    "print(pd.DataFrame(df_race_profile.isna().sum()).transpose())\n"
   ]
  },
  {
   "cell_type": "code",
   "execution_count": 15,
   "id": "119fa1e4-1b6d-4950-a348-2f11d07a2eca",
   "metadata": {},
   "outputs": [
    {
     "name": "stdout",
     "output_type": "stream",
     "text": [
      "(588017, 13)\n",
      "\n",
      "['@id_DOG', 'DogName', '@id_RACE', 'RaceName', 'Distance', 'x_dist_gp', 'dist300', 'dist350', 'dist400', 'dist450', 'dist500', 'dist600', 'dist700']\n"
     ]
    }
   ],
   "source": [
    "\n",
    "# Import the Race Profile\n",
    "dateprep_categorical = 'dataprep_categorical_2023-02-22.csv'\n",
    "\n",
    "df_categorical = pd.read_csv(f'{fileloc}/{dateprep_categorical}')\n",
    "\n",
    "print(df_categorical.shape)\n",
    "print()\n",
    "print(df_categorical.columns.values.tolist())\n"
   ]
  },
  {
   "cell_type": "code",
   "execution_count": 16,
   "id": "c3274066-74b8-4fdb-9ca6-cdb5c29bf658",
   "metadata": {},
   "outputs": [
    {
     "name": "stdout",
     "output_type": "stream",
     "text": [
      "   @id_DOG  DogName  @id_RACE  RaceName  Distance  x_dist_gp  dist300  dist350  dist400  dist450  dist500  dist600  dist700\n",
      "0        0        0         0        15         0          0        0        0        0        0        0        0        0\n"
     ]
    }
   ],
   "source": [
    "\n",
    "print(pd.DataFrame(df_categorical.isna().sum()).transpose())\n"
   ]
  },
  {
   "cell_type": "code",
   "execution_count": 16,
   "id": "889410d9-0075-4857-9282-d80db0390238",
   "metadata": {},
   "outputs": [
    {
     "data": {
      "text/plain": [
       "\"\\n# Import the Performance Dataset\\ndateprep_perf = 'dataprep_performance_2022-12-03.csv'\\n\\ndf_perf = pd.read_csv(f'{fileloc}/{dateprep_perf}')\\n\\nprint(df_perf.shape)\\nprint()\\nprint(df_perf.columns.values.tolist())\\n\""
      ]
     },
     "execution_count": 16,
     "metadata": {},
     "output_type": "execute_result"
    }
   ],
   "source": [
    "\n",
    "#Imported in the Standardisation Code\n",
    "\n",
    "\"\"\"\n",
    "# Import the Performance Dataset\n",
    "dateprep_perf = 'dataprep_performance_2023-02-22.csv'\n",
    "\n",
    "df_perf = pd.read_csv(f'{fileloc}/{dateprep_perf}')\n",
    "\n",
    "print(df_perf.shape)\n",
    "\n",
    "print()\n",
    "print(df_perf.columns.values.tolist())\n",
    "\"\"\"\n"
   ]
  },
  {
   "cell_type": "code",
   "execution_count": 17,
   "id": "6729f017-5406-4e10-bbd5-691326d68cc3",
   "metadata": {},
   "outputs": [],
   "source": [
    "\n",
    "#print(pd.DataFrame(df_perf.isna().sum()).transpose())\n"
   ]
  },
  {
   "cell_type": "code",
   "execution_count": 18,
   "id": "bf772a28-1f51-403e-ab11-22b242e00745",
   "metadata": {},
   "outputs": [
    {
     "data": {
      "text/plain": [
       "\"\\n# Import the Performance Dataset\\ndateprep_trnr_perf = 'dataprep_TRNR_performance_2022-12-10.csv'\\n\\ndf_trnr_perf = pd.read_csv(f'{fileloc}/{dateprep_trnr_perf}')\\n\\nprint(df_trnr_perf.shape)\\nprint()\\nprint(df_trnr_perf.columns.values.tolist())\\n\""
      ]
     },
     "execution_count": 18,
     "metadata": {},
     "output_type": "execute_result"
    }
   ],
   "source": [
    "\n",
    "# Imported in the Standardisation Code\n",
    "\n",
    "\"\"\"\n",
    "# Import the Performance Dataset\n",
    "dateprep_trnr_perf = 'dataprep_TRNR_performance_2023-02-22.csv'\n",
    "\n",
    "df_trnr_perf = pd.read_csv(f'{fileloc}/{dateprep_trnr_perf}')\n",
    "\n",
    "print(df_trnr_perf.shape)\n",
    "print()\n",
    "print(df_trnr_perf.columns.values.tolist())\n",
    "\"\"\"\n"
   ]
  },
  {
   "cell_type": "code",
   "execution_count": 19,
   "id": "6b5e15a7-11c5-4f05-a027-9d55d3f58ee7",
   "metadata": {},
   "outputs": [],
   "source": [
    "\n",
    "#print(pd.DataFrame(df_trnr_perf.isna().sum()).transpose())\n"
   ]
  },
  {
   "cell_type": "code",
   "execution_count": 18,
   "id": "9849d83f-55d0-40d0-8fdd-9fd2b4a603cc",
   "metadata": {},
   "outputs": [
    {
     "name": "stdout",
     "output_type": "stream",
     "text": [
      "(588017, 19)\n",
      "\n",
      "['@id_DOG', '@id_RACE', 'firstrace', 'upgrade', 'downgrade', 'upg_87', 'upg_76', 'upg_65', 'upg_54', 'upg_43', 'upg_32', 'upg_21', 'dng_12', 'dng_23', 'dng_34', 'dng_45', 'dng_56', 'dng_67', 'dng_78']\n"
     ]
    }
   ],
   "source": [
    "\n",
    "# Import the Grading Dataset\n",
    "dateprep_grading = 'dataset_base_doggrading_2023-02-22.csv'\n",
    "\n",
    "df_grading = pd.read_csv(f'{fileloc}/{dateprep_grading}').drop(columns = ['RaceId', 'DogName'])\n",
    "\n",
    "print(df_grading.shape)\n",
    "print()\n",
    "print(df_grading.columns.values.tolist())\n"
   ]
  },
  {
   "cell_type": "code",
   "execution_count": 19,
   "id": "0c6c79de-4892-46f6-852f-b87fa8d1ed14",
   "metadata": {},
   "outputs": [
    {
     "name": "stdout",
     "output_type": "stream",
     "text": [
      "   @id_DOG  @id_RACE  firstrace  upgrade  downgrade  upg_87  upg_76  upg_65  upg_54  upg_43  upg_32  upg_21  dng_12  dng_23  dng_34  dng_45  dng_56  dng_67  dng_78\n",
      "0        0         0          0        0          0       0       0       0       0       0       0       0       0       0       0       0       0       0       0\n"
     ]
    }
   ],
   "source": [
    "\n",
    "print(pd.DataFrame(df_grading.isna().sum()).transpose())\n"
   ]
  },
  {
   "cell_type": "code",
   "execution_count": 20,
   "id": "5f7b0e1f-79dc-463e-9fbe-32aa25285a7b",
   "metadata": {},
   "outputs": [
    {
     "name": "stdout",
     "output_type": "stream",
     "text": [
      "(588017, 121)\n",
      "\n",
      "['@id_DOG', '@id_RACE', 'x_races_tot', 'x_dist_gp', 'x_runtm_gp', 'x_rtgp_prev', 'x_rtgp_avg', 'x_rtgp_min', 'x_rtgp_max', 'x_rtgp_range', 'x_rtgp_std', 'x_no_prev_races', 'x_speed_prev', 'x_speed_avg', 'x_speed_min', 'x_speed_max', 'x_speed_range', 'x_speed_std', 'x_no_prev_r_in_dist', 'xr_races', 'xr_races_l5', 'xr_wins', 'xr_wins_pct', 'xr_wins_l5', 'xr_wins_l5_pct', 'xr_fin_t2', 'xr_finl5_t2', 'xr_fin_t2_pct', 'xr_finl5_t2_pct', 'xr_fin_last', 'xr_fin_last_pct', 'xr_finl5_last', 'xr_finl5_last_pct', 'xr_fin_last2', 'xr_fin_last2_pct', 'xr_finl5_last2', 'xr_finl5_last2_pct', 'xr_fin_plc', 'xr_fin_plc_pct', 'xr_finl5_plc', 'xr_finl5_plc_pct', 'Event_Dt', 'trnr_xr_races_tot', 'trnr_xr_races_tot_prev', 'trnr_wins_prev', 'trnr_fin_plc_prev', 'trnr_fin_t2_prev', 'trnr_fin_last_prev', 'trnr_fin_last2_prev', 'trnr_xr_wins', 'trnr_xr_fin_plc', 'trnr_xr_fin_t2', 'trnr_xr_fin_last', 'trnr_xr_fin_last2', 'trnr_xrl5_wins', 'trnr_xrl5_fin_plc', 'trnr_xrl5_fin_t2', 'trnr_xrl5_fin_last', 'trnr_xrl5_fin_last2', 'trnr_xr_wins_pct', 'trnr_xr_fin_t2_pct', 'trnr_xr_fin_plc_pct', 'trnr_xr_fin_last_pct', 'trnr_xr_fin_last2_pct', 'x_races_tot_norm', 'x_runtm_gp_norm', 'x_rtgp_prev_norm', 'x_rtgp_avg_norm', 'x_rtgp_min_norm', 'x_rtgp_max_norm', 'x_rtgp_range_norm', 'x_rtgp_std_norm', 'x_speed_prev_norm', 'x_speed_avg_norm', 'x_speed_min_norm', 'x_speed_max_norm', 'x_speed_range_norm', 'xr_races_norm', 'xr_races_l5_norm', 'xr_wins_norm', 'xr_wins_pct_norm', 'xr_wins_l5_norm', 'xr_wins_l5_pct_norm', 'xr_fin_t2_norm', 'xr_finl5_t2_norm', 'xr_fin_t2_pct_norm', 'xr_finl5_t2_pct_norm', 'xr_fin_last_norm', 'xr_fin_last_pct_norm', 'xr_finl5_last_norm', 'xr_finl5_last_pct_norm', 'xr_fin_last2_norm', 'xr_fin_last2_pct_norm', 'xr_finl5_last2_norm', 'xr_finl5_last2_pct_norm', 'xr_fin_plc_norm', 'xr_fin_plc_pct_norm', 'xr_finl5_plc_norm', 'xr_finl5_plc_pct_norm', 'trnr_xr_races_tot_norm', 'trnr_xr_races_tot_prev_norm', 'trnr_wins_prev_norm', 'trnr_fin_plc_prev_norm', 'trnr_fin_t2_prev_norm', 'trnr_fin_last_prev_norm', 'trnr_fin_last2_prev_norm', 'trnr_xr_wins_norm', 'trnr_xr_fin_plc_norm', 'trnr_xr_fin_t2_norm', 'trnr_xr_fin_last_norm', 'trnr_xr_fin_last2_norm', 'trnr_xrl5_wins_norm', 'trnr_xrl5_fin_plc_norm', 'trnr_xrl5_fin_t2_norm', 'trnr_xrl5_fin_last_norm', 'trnr_xrl5_fin_last2_norm', 'trnr_xr_wins_pct_norm', 'trnr_xr_fin_t2_pct_norm', 'trnr_xr_fin_plc_pct_norm', 'trnr_xr_fin_last_pct_norm', 'trnr_xr_fin_last2_pct_norm']\n"
     ]
    }
   ],
   "source": [
    "\n",
    "# Import the Normed Dataset\n",
    "dateprep_normed = 'normalised_vars_2023-02-22.csv'\n",
    "\n",
    "df_normed = pd.read_csv(f'{fileloc}/{dateprep_normed}').drop(columns = ['TrainerId'])\n",
    "\n",
    "print(df_normed.shape)\n",
    "print()\n",
    "print(df_normed.columns.values.tolist())\n"
   ]
  },
  {
   "cell_type": "code",
   "execution_count": 21,
   "id": "11985570-4c36-4a6e-bbc2-cbd5270a05ba",
   "metadata": {},
   "outputs": [
    {
     "name": "stdout",
     "output_type": "stream",
     "text": [
      "   @id_DOG  @id_RACE  x_races_tot  x_dist_gp  x_runtm_gp  x_rtgp_prev  x_rtgp_avg  x_rtgp_min  x_rtgp_max  x_rtgp_range  x_rtgp_std  x_no_prev_races  x_speed_prev  x_speed_avg  x_speed_min  \\\n",
      "0        0         0            0          0           0            0           0           0           0             0           0                0             0            0            0   \n",
      "\n",
      "   x_speed_max  x_speed_range  x_speed_std  x_no_prev_r_in_dist  xr_races  xr_races_l5  xr_wins  xr_wins_pct  xr_wins_l5  xr_wins_l5_pct  ...  xr_fin_plc_pct_norm  xr_finl5_plc_norm  \\\n",
      "0            0              0            0                    0         0            0        0            0           0               0  ...                    0                  0   \n",
      "\n",
      "   xr_finl5_plc_pct_norm  trnr_xr_races_tot_norm  trnr_xr_races_tot_prev_norm  trnr_wins_prev_norm  trnr_fin_plc_prev_norm  trnr_fin_t2_prev_norm  trnr_fin_last_prev_norm  trnr_fin_last2_prev_norm  \\\n",
      "0                      0                       0                            0                    0                       0                      0                        0                         0   \n",
      "\n",
      "   trnr_xr_wins_norm  trnr_xr_fin_plc_norm  trnr_xr_fin_t2_norm  trnr_xr_fin_last_norm  trnr_xr_fin_last2_norm  trnr_xrl5_wins_norm  trnr_xrl5_fin_plc_norm  trnr_xrl5_fin_t2_norm  \\\n",
      "0                  0                     0                    0                      0                       0                    0                       0                      0   \n",
      "\n",
      "   trnr_xrl5_fin_last_norm  trnr_xrl5_fin_last2_norm  trnr_xr_wins_pct_norm  trnr_xr_fin_t2_pct_norm  trnr_xr_fin_plc_pct_norm  trnr_xr_fin_last_pct_norm  trnr_xr_fin_last2_pct_norm  \n",
      "0                        0                         0                      0                        0                         0                          0                           0  \n",
      "\n",
      "[1 rows x 121 columns]\n"
     ]
    }
   ],
   "source": [
    "\n",
    "print(pd.DataFrame(df_normed.isna().sum()).transpose())\n"
   ]
  },
  {
   "cell_type": "code",
   "execution_count": null,
   "id": "525421f5-b78b-465c-a0ee-251cb586ec3e",
   "metadata": {},
   "outputs": [],
   "source": []
  },
  {
   "cell_type": "markdown",
   "id": "7071e949-2867-4c06-8a0b-e0f20a292295",
   "metadata": {},
   "source": [
    "#### Merging all the Dataset here"
   ]
  },
  {
   "cell_type": "code",
   "execution_count": null,
   "id": "82df1f20-4797-45a7-9d9a-4b72be497bac",
   "metadata": {},
   "outputs": [],
   "source": []
  },
  {
   "cell_type": "code",
   "execution_count": 22,
   "id": "479b778b-1d10-444a-aed2-b762f2d53646",
   "metadata": {},
   "outputs": [
    {
     "name": "stdout",
     "output_type": "stream",
     "text": [
      "(588017, 45)\n",
      "(588017, 16)\n",
      "\n",
      "\n",
      "(588017, 59)\n",
      "['@id_DOG', 'DogName', 'y_runtime', 'RaceId', '@id_RACE', 'Distance', 'RaceGrade', 'Track', 'Event_Dt', 'Prizemoney', 'TrainerId', 'TrainerName', 'ft_sp', 'x_num_dogs', 'position', 'y_margin', 'y_pos', 'Winner_actual', 'Top3_actual', 'rand_mean', 'rand_uniform', 'position_random', 'Winner_random', 'Top3_random', 'position_fasttrack', 'Winner_fastrack', 'Top3_fastrack', 'rand_1', 'h_rand_1', 'p_rand_1', 'rand_all_plc', 'h_rand_all_plc', 'p_rand_all_plc', 'rand_lay_last', 'h_rand_lay_last', 'p_rand_lay_last', 'ft_1', 'h_ft_1', 'p_ft_1', 'ft_all_plc', 'h_ft_all_plc', 'p_ft_all_plc', 'ft_lay_last', 'h_ft_lay_last', 'p_ft_lay_last', 'G5', 'G4', 'G3', 'G2', 'G1', 'Gmix', 'Gmas', 'Gmai', 'Gh', 'Gres', 'Gnov', 'Gsp', 'Gfin', 'RaceGrade_H1']\n",
      "(588017, 121)\n",
      "\n",
      "\n",
      "(588017, 178)\n",
      "['@id_DOG', 'DogName', 'y_runtime', 'RaceId', '@id_RACE', 'Distance', 'RaceGrade', 'Track', 'Event_Dt_x', 'Prizemoney', 'TrainerId', 'TrainerName', 'ft_sp', 'x_num_dogs', 'position', 'y_margin', 'y_pos', 'Winner_actual', 'Top3_actual', 'rand_mean', 'rand_uniform', 'position_random', 'Winner_random', 'Top3_random', 'position_fasttrack', 'Winner_fastrack', 'Top3_fastrack', 'rand_1', 'h_rand_1', 'p_rand_1', 'rand_all_plc', 'h_rand_all_plc', 'p_rand_all_plc', 'rand_lay_last', 'h_rand_lay_last', 'p_rand_lay_last', 'ft_1', 'h_ft_1', 'p_ft_1', 'ft_all_plc', 'h_ft_all_plc', 'p_ft_all_plc', 'ft_lay_last', 'h_ft_lay_last', 'p_ft_lay_last', 'G5', 'G4', 'G3', 'G2', 'G1', 'Gmix', 'Gmas', 'Gmai', 'Gh', 'Gres', 'Gnov', 'Gsp', 'Gfin', 'RaceGrade_H1', 'x_races_tot', 'x_dist_gp', 'x_runtm_gp', 'x_rtgp_prev', 'x_rtgp_avg', 'x_rtgp_min', 'x_rtgp_max', 'x_rtgp_range', 'x_rtgp_std', 'x_no_prev_races', 'x_speed_prev', 'x_speed_avg', 'x_speed_min', 'x_speed_max', 'x_speed_range', 'x_speed_std', 'x_no_prev_r_in_dist', 'xr_races', 'xr_races_l5', 'xr_wins', 'xr_wins_pct', 'xr_wins_l5', 'xr_wins_l5_pct', 'xr_fin_t2', 'xr_finl5_t2', 'xr_fin_t2_pct', 'xr_finl5_t2_pct', 'xr_fin_last', 'xr_fin_last_pct', 'xr_finl5_last', 'xr_finl5_last_pct', 'xr_fin_last2', 'xr_fin_last2_pct', 'xr_finl5_last2', 'xr_finl5_last2_pct', 'xr_fin_plc', 'xr_fin_plc_pct', 'xr_finl5_plc', 'xr_finl5_plc_pct', 'Event_Dt_y', 'trnr_xr_races_tot', 'trnr_xr_races_tot_prev', 'trnr_wins_prev', 'trnr_fin_plc_prev', 'trnr_fin_t2_prev', 'trnr_fin_last_prev', 'trnr_fin_last2_prev', 'trnr_xr_wins', 'trnr_xr_fin_plc', 'trnr_xr_fin_t2', 'trnr_xr_fin_last', 'trnr_xr_fin_last2', 'trnr_xrl5_wins', 'trnr_xrl5_fin_plc', 'trnr_xrl5_fin_t2', 'trnr_xrl5_fin_last', 'trnr_xrl5_fin_last2', 'trnr_xr_wins_pct', 'trnr_xr_fin_t2_pct', 'trnr_xr_fin_plc_pct', 'trnr_xr_fin_last_pct', 'trnr_xr_fin_last2_pct', 'x_races_tot_norm', 'x_runtm_gp_norm', 'x_rtgp_prev_norm', 'x_rtgp_avg_norm', 'x_rtgp_min_norm', 'x_rtgp_max_norm', 'x_rtgp_range_norm', 'x_rtgp_std_norm', 'x_speed_prev_norm', 'x_speed_avg_norm', 'x_speed_min_norm', 'x_speed_max_norm', 'x_speed_range_norm', 'xr_races_norm', 'xr_races_l5_norm', 'xr_wins_norm', 'xr_wins_pct_norm', 'xr_wins_l5_norm', 'xr_wins_l5_pct_norm', 'xr_fin_t2_norm', 'xr_finl5_t2_norm', 'xr_fin_t2_pct_norm', 'xr_finl5_t2_pct_norm', 'xr_fin_last_norm', 'xr_fin_last_pct_norm', 'xr_finl5_last_norm', 'xr_finl5_last_pct_norm', 'xr_fin_last2_norm', 'xr_fin_last2_pct_norm', 'xr_finl5_last2_norm', 'xr_finl5_last2_pct_norm', 'xr_fin_plc_norm', 'xr_fin_plc_pct_norm', 'xr_finl5_plc_norm', 'xr_finl5_plc_pct_norm', 'trnr_xr_races_tot_norm', 'trnr_xr_races_tot_prev_norm', 'trnr_wins_prev_norm', 'trnr_fin_plc_prev_norm', 'trnr_fin_t2_prev_norm', 'trnr_fin_last_prev_norm', 'trnr_fin_last2_prev_norm', 'trnr_xr_wins_norm', 'trnr_xr_fin_plc_norm', 'trnr_xr_fin_t2_norm', 'trnr_xr_fin_last_norm', 'trnr_xr_fin_last2_norm', 'trnr_xrl5_wins_norm', 'trnr_xrl5_fin_plc_norm', 'trnr_xrl5_fin_t2_norm', 'trnr_xrl5_fin_last_norm', 'trnr_xrl5_fin_last2_norm', 'trnr_xr_wins_pct_norm', 'trnr_xr_fin_t2_pct_norm', 'trnr_xr_fin_plc_pct_norm', 'trnr_xr_fin_last_pct_norm', 'trnr_xr_fin_last2_pct_norm']\n",
      "(588017, 13)\n",
      "\n",
      "\n",
      "(588017, 186)\n",
      "['@id_DOG', 'DogName', 'y_runtime', 'RaceId', '@id_RACE', 'Distance', 'RaceGrade', 'Track', 'Event_Dt_x', 'Prizemoney', 'TrainerId', 'TrainerName', 'ft_sp', 'x_num_dogs', 'position', 'y_margin', 'y_pos', 'Winner_actual', 'Top3_actual', 'rand_mean', 'rand_uniform', 'position_random', 'Winner_random', 'Top3_random', 'position_fasttrack', 'Winner_fastrack', 'Top3_fastrack', 'rand_1', 'h_rand_1', 'p_rand_1', 'rand_all_plc', 'h_rand_all_plc', 'p_rand_all_plc', 'rand_lay_last', 'h_rand_lay_last', 'p_rand_lay_last', 'ft_1', 'h_ft_1', 'p_ft_1', 'ft_all_plc', 'h_ft_all_plc', 'p_ft_all_plc', 'ft_lay_last', 'h_ft_lay_last', 'p_ft_lay_last', 'G5', 'G4', 'G3', 'G2', 'G1', 'Gmix', 'Gmas', 'Gmai', 'Gh', 'Gres', 'Gnov', 'Gsp', 'Gfin', 'RaceGrade_H1', 'x_races_tot', 'x_dist_gp', 'x_runtm_gp', 'x_rtgp_prev', 'x_rtgp_avg', 'x_rtgp_min', 'x_rtgp_max', 'x_rtgp_range', 'x_rtgp_std', 'x_no_prev_races', 'x_speed_prev', 'x_speed_avg', 'x_speed_min', 'x_speed_max', 'x_speed_range', 'x_speed_std', 'x_no_prev_r_in_dist', 'xr_races', 'xr_races_l5', 'xr_wins', 'xr_wins_pct', 'xr_wins_l5', 'xr_wins_l5_pct', 'xr_fin_t2', 'xr_finl5_t2', 'xr_fin_t2_pct', 'xr_finl5_t2_pct', 'xr_fin_last', 'xr_fin_last_pct', 'xr_finl5_last', 'xr_finl5_last_pct', 'xr_fin_last2', 'xr_fin_last2_pct', 'xr_finl5_last2', 'xr_finl5_last2_pct', 'xr_fin_plc', 'xr_fin_plc_pct', 'xr_finl5_plc', 'xr_finl5_plc_pct', 'Event_Dt_y', 'trnr_xr_races_tot', 'trnr_xr_races_tot_prev', 'trnr_wins_prev', 'trnr_fin_plc_prev', 'trnr_fin_t2_prev', 'trnr_fin_last_prev', 'trnr_fin_last2_prev', 'trnr_xr_wins', 'trnr_xr_fin_plc', 'trnr_xr_fin_t2', 'trnr_xr_fin_last', 'trnr_xr_fin_last2', 'trnr_xrl5_wins', 'trnr_xrl5_fin_plc', 'trnr_xrl5_fin_t2', 'trnr_xrl5_fin_last', 'trnr_xrl5_fin_last2', 'trnr_xr_wins_pct', 'trnr_xr_fin_t2_pct', 'trnr_xr_fin_plc_pct', 'trnr_xr_fin_last_pct', 'trnr_xr_fin_last2_pct', 'x_races_tot_norm', 'x_runtm_gp_norm', 'x_rtgp_prev_norm', 'x_rtgp_avg_norm', 'x_rtgp_min_norm', 'x_rtgp_max_norm', 'x_rtgp_range_norm', 'x_rtgp_std_norm', 'x_speed_prev_norm', 'x_speed_avg_norm', 'x_speed_min_norm', 'x_speed_max_norm', 'x_speed_range_norm', 'xr_races_norm', 'xr_races_l5_norm', 'xr_wins_norm', 'xr_wins_pct_norm', 'xr_wins_l5_norm', 'xr_wins_l5_pct_norm', 'xr_fin_t2_norm', 'xr_finl5_t2_norm', 'xr_fin_t2_pct_norm', 'xr_finl5_t2_pct_norm', 'xr_fin_last_norm', 'xr_fin_last_pct_norm', 'xr_finl5_last_norm', 'xr_finl5_last_pct_norm', 'xr_fin_last2_norm', 'xr_fin_last2_pct_norm', 'xr_finl5_last2_norm', 'xr_finl5_last2_pct_norm', 'xr_fin_plc_norm', 'xr_fin_plc_pct_norm', 'xr_finl5_plc_norm', 'xr_finl5_plc_pct_norm', 'trnr_xr_races_tot_norm', 'trnr_xr_races_tot_prev_norm', 'trnr_wins_prev_norm', 'trnr_fin_plc_prev_norm', 'trnr_fin_t2_prev_norm', 'trnr_fin_last_prev_norm', 'trnr_fin_last2_prev_norm', 'trnr_xr_wins_norm', 'trnr_xr_fin_plc_norm', 'trnr_xr_fin_t2_norm', 'trnr_xr_fin_last_norm', 'trnr_xr_fin_last2_norm', 'trnr_xrl5_wins_norm', 'trnr_xrl5_fin_plc_norm', 'trnr_xrl5_fin_t2_norm', 'trnr_xrl5_fin_last_norm', 'trnr_xrl5_fin_last2_norm', 'trnr_xr_wins_pct_norm', 'trnr_xr_fin_t2_pct_norm', 'trnr_xr_fin_plc_pct_norm', 'trnr_xr_fin_last_pct_norm', 'trnr_xr_fin_last2_pct_norm', 'RaceName', 'dist300', 'dist350', 'dist400', 'dist450', 'dist500', 'dist600', 'dist700']\n",
      "(588017, 19)\n",
      "\n",
      "\n",
      "(588017, 203)\n",
      "['@id_DOG', 'DogName', 'y_runtime', 'RaceId', '@id_RACE', 'Distance', 'RaceGrade', 'Track', 'Event_Dt_x', 'Prizemoney', 'TrainerId', 'TrainerName', 'ft_sp', 'x_num_dogs', 'position', 'y_margin', 'y_pos', 'Winner_actual', 'Top3_actual', 'rand_mean', 'rand_uniform', 'position_random', 'Winner_random', 'Top3_random', 'position_fasttrack', 'Winner_fastrack', 'Top3_fastrack', 'rand_1', 'h_rand_1', 'p_rand_1', 'rand_all_plc', 'h_rand_all_plc', 'p_rand_all_plc', 'rand_lay_last', 'h_rand_lay_last', 'p_rand_lay_last', 'ft_1', 'h_ft_1', 'p_ft_1', 'ft_all_plc', 'h_ft_all_plc', 'p_ft_all_plc', 'ft_lay_last', 'h_ft_lay_last', 'p_ft_lay_last', 'G5', 'G4', 'G3', 'G2', 'G1', 'Gmix', 'Gmas', 'Gmai', 'Gh', 'Gres', 'Gnov', 'Gsp', 'Gfin', 'RaceGrade_H1', 'x_races_tot', 'x_dist_gp', 'x_runtm_gp', 'x_rtgp_prev', 'x_rtgp_avg', 'x_rtgp_min', 'x_rtgp_max', 'x_rtgp_range', 'x_rtgp_std', 'x_no_prev_races', 'x_speed_prev', 'x_speed_avg', 'x_speed_min', 'x_speed_max', 'x_speed_range', 'x_speed_std', 'x_no_prev_r_in_dist', 'xr_races', 'xr_races_l5', 'xr_wins', 'xr_wins_pct', 'xr_wins_l5', 'xr_wins_l5_pct', 'xr_fin_t2', 'xr_finl5_t2', 'xr_fin_t2_pct', 'xr_finl5_t2_pct', 'xr_fin_last', 'xr_fin_last_pct', 'xr_finl5_last', 'xr_finl5_last_pct', 'xr_fin_last2', 'xr_fin_last2_pct', 'xr_finl5_last2', 'xr_finl5_last2_pct', 'xr_fin_plc', 'xr_fin_plc_pct', 'xr_finl5_plc', 'xr_finl5_plc_pct', 'Event_Dt_y', 'trnr_xr_races_tot', 'trnr_xr_races_tot_prev', 'trnr_wins_prev', 'trnr_fin_plc_prev', 'trnr_fin_t2_prev', 'trnr_fin_last_prev', 'trnr_fin_last2_prev', 'trnr_xr_wins', 'trnr_xr_fin_plc', 'trnr_xr_fin_t2', 'trnr_xr_fin_last', 'trnr_xr_fin_last2', 'trnr_xrl5_wins', 'trnr_xrl5_fin_plc', 'trnr_xrl5_fin_t2', 'trnr_xrl5_fin_last', 'trnr_xrl5_fin_last2', 'trnr_xr_wins_pct', 'trnr_xr_fin_t2_pct', 'trnr_xr_fin_plc_pct', 'trnr_xr_fin_last_pct', 'trnr_xr_fin_last2_pct', 'x_races_tot_norm', 'x_runtm_gp_norm', 'x_rtgp_prev_norm', 'x_rtgp_avg_norm', 'x_rtgp_min_norm', 'x_rtgp_max_norm', 'x_rtgp_range_norm', 'x_rtgp_std_norm', 'x_speed_prev_norm', 'x_speed_avg_norm', 'x_speed_min_norm', 'x_speed_max_norm', 'x_speed_range_norm', 'xr_races_norm', 'xr_races_l5_norm', 'xr_wins_norm', 'xr_wins_pct_norm', 'xr_wins_l5_norm', 'xr_wins_l5_pct_norm', 'xr_fin_t2_norm', 'xr_finl5_t2_norm', 'xr_fin_t2_pct_norm', 'xr_finl5_t2_pct_norm', 'xr_fin_last_norm', 'xr_fin_last_pct_norm', 'xr_finl5_last_norm', 'xr_finl5_last_pct_norm', 'xr_fin_last2_norm', 'xr_fin_last2_pct_norm', 'xr_finl5_last2_norm', 'xr_finl5_last2_pct_norm', 'xr_fin_plc_norm', 'xr_fin_plc_pct_norm', 'xr_finl5_plc_norm', 'xr_finl5_plc_pct_norm', 'trnr_xr_races_tot_norm', 'trnr_xr_races_tot_prev_norm', 'trnr_wins_prev_norm', 'trnr_fin_plc_prev_norm', 'trnr_fin_t2_prev_norm', 'trnr_fin_last_prev_norm', 'trnr_fin_last2_prev_norm', 'trnr_xr_wins_norm', 'trnr_xr_fin_plc_norm', 'trnr_xr_fin_t2_norm', 'trnr_xr_fin_last_norm', 'trnr_xr_fin_last2_norm', 'trnr_xrl5_wins_norm', 'trnr_xrl5_fin_plc_norm', 'trnr_xrl5_fin_t2_norm', 'trnr_xrl5_fin_last_norm', 'trnr_xrl5_fin_last2_norm', 'trnr_xr_wins_pct_norm', 'trnr_xr_fin_t2_pct_norm', 'trnr_xr_fin_plc_pct_norm', 'trnr_xr_fin_last_pct_norm', 'trnr_xr_fin_last2_pct_norm', 'RaceName', 'dist300', 'dist350', 'dist400', 'dist450', 'dist500', 'dist600', 'dist700', 'firstrace', 'upgrade', 'downgrade', 'upg_87', 'upg_76', 'upg_65', 'upg_54', 'upg_43', 'upg_32', 'upg_21', 'dng_12', 'dng_23', 'dng_34', 'dng_45', 'dng_56', 'dng_67', 'dng_78']\n",
      "2022-12-22 23:19:13.114279\n"
     ]
    }
   ],
   "source": [
    "\n",
    "# Merge the datasets together\n",
    "\n",
    "print(df_base_raw.shape)\n",
    "print(df_race_profile.shape)\n",
    "\n",
    "print()\n",
    "print()\n",
    "df_base0 = pd.merge( df_base_raw, df_race_profile, on = ['@id_DOG','@id_RACE'], how = 'left')\n",
    "print(df_base0.shape)\n",
    "print(df_base0.columns.values.tolist())\n",
    "\n",
    "print(df_normed.shape)\n",
    "\n",
    "print()\n",
    "print()\n",
    "df_base1 = pd.merge( df_base0, df_normed, on = ['@id_DOG','@id_RACE'], how = 'left')\n",
    "print(df_base1.shape)\n",
    "print(df_base1.columns.values.tolist())\n",
    "\n",
    "\n",
    "print(df_categorical.shape)\n",
    "\n",
    "print()\n",
    "print()\n",
    "df_base2 = pd.merge( df_base1, df_categorical.drop(columns = ['DogName','Distance','x_dist_gp']), on = ['@id_DOG','@id_RACE'], how = 'left')\n",
    "print(df_base2.shape)\n",
    "print(df_base2.columns.values.tolist())\n",
    "\n",
    "\n",
    "print(df_grading.shape)\n",
    "\n",
    "print()\n",
    "print()\n",
    "df_modeling = pd.merge( df_base2, df_grading, on = ['@id_DOG','@id_RACE'], how = 'left')\n",
    "print(df_modeling.shape)\n",
    "print(df_modeling.columns.values.tolist())\n",
    "\n",
    "print(datetime.now())\n"
   ]
  },
  {
   "cell_type": "code",
   "execution_count": null,
   "id": "9af1349d-064d-4a72-a1d0-5bac0990ec6b",
   "metadata": {},
   "outputs": [],
   "source": [
    "\n",
    "del df_base_raw, df_race_profile, df_categorical, df_grading, df_normed\n"
   ]
  },
  {
   "cell_type": "code",
   "execution_count": 23,
   "id": "34044e43-30f2-4ca5-b055-ff575be54be4",
   "metadata": {},
   "outputs": [],
   "source": [
    "\n",
    "del df_base0, df_base1, df_base2\n"
   ]
  },
  {
   "cell_type": "code",
   "execution_count": 24,
   "id": "0fc73963-27ed-41f5-b0e4-05f1b55aa0dc",
   "metadata": {},
   "outputs": [
    {
     "name": "stdout",
     "output_type": "stream",
     "text": [
      "   @id_DOG  DogName  y_runtime  RaceId  @id_RACE  Distance  RaceGrade  Track  Event_Dt_x  Prizemoney  TrainerId  TrainerName  ft_sp  x_num_dogs  position  y_margin  y_pos  Winner_actual  \\\n",
      "0        0        0          0       0         0         0          0      0           0      183606          0            0      0           0         0         0      0              0   \n",
      "\n",
      "   Top3_actual  rand_mean  rand_uniform  position_random  Winner_random  Top3_random  position_fasttrack  ...  RaceName  dist300  dist350  dist400  dist450  dist500  dist600  dist700  firstrace  \\\n",
      "0            0          0             0                0              0            0                   0  ...        15        0        0        0        0        0        0        0          0   \n",
      "\n",
      "   upgrade  downgrade  upg_87  upg_76  upg_65  upg_54  upg_43  upg_32  upg_21  dng_12  dng_23  dng_34  dng_45  dng_56  dng_67  dng_78  \n",
      "0        0          0       0       0       0       0       0       0       0       0       0       0       0       0       0       0  \n",
      "\n",
      "[1 rows x 203 columns]\n"
     ]
    }
   ],
   "source": [
    "\n",
    "print(pd.DataFrame(df_modeling.isna().sum()).transpose())\n"
   ]
  },
  {
   "cell_type": "code",
   "execution_count": null,
   "id": "4465a6a2-a2ed-440b-bca1-505bc8891837",
   "metadata": {},
   "outputs": [],
   "source": [
    "print()"
   ]
  },
  {
   "cell_type": "code",
   "execution_count": 26,
   "id": "deb5aaf2-0414-42c6-890f-d7345566351d",
   "metadata": {},
   "outputs": [
    {
     "name": "stdout",
     "output_type": "stream",
     "text": [
      "Finished running \"C031_CONSOL_Main_Inline.ipynb\"\n"
     ]
    }
   ],
   "source": [
    "\n",
    "print('Finished running \"C031_CONSOL_Main_Inline.ipynb\"')\n"
   ]
  },
  {
   "cell_type": "code",
   "execution_count": null,
   "id": "454baec7-7536-4979-9812-84250424177f",
   "metadata": {},
   "outputs": [],
   "source": [
    "print()"
   ]
  }
 ],
 "metadata": {
  "kernelspec": {
   "display_name": "Python 3.8 - AzureML",
   "language": "python",
   "name": "python38-azureml"
  },
  "language_info": {
   "codemirror_mode": {
    "name": "ipython",
    "version": 3
   },
   "file_extension": ".py",
   "mimetype": "text/x-python",
   "name": "python",
   "nbconvert_exporter": "python",
   "pygments_lexer": "ipython3",
   "version": "3.8.5"
  }
 },
 "nbformat": 4,
 "nbformat_minor": 5
}
