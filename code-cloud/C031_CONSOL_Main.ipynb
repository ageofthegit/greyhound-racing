{
 "cells": [
  {
   "cell_type": "code",
   "execution_count": null,
   "id": "cb585584-ccf5-4aa1-8f83-32ce55442a81",
   "metadata": {},
   "outputs": [],
   "source": []
  },
  {
   "cell_type": "code",
   "execution_count": null,
   "id": "0e0f6adb-d0fb-4c0b-9991-76f3f3b6cc36",
   "metadata": {},
   "outputs": [],
   "source": []
  },
  {
   "cell_type": "markdown",
   "id": "20d15156-d40c-4adb-b8ad-9d9f9ad35e18",
   "metadata": {},
   "source": [
    "# CONSOLIDATE DatePrep"
   ]
  },
  {
   "cell_type": "code",
   "execution_count": 1,
   "id": "ac0b3b5b-48bf-485c-83bd-97db741515f5",
   "metadata": {},
   "outputs": [
    {
     "name": "stdout",
     "output_type": "stream",
     "text": [
      "['/mnt/batch/tasks/shared/LS_root/mounts/clusters/compute-one-8c-32gb/code/Users/karan.bhatti', '/anaconda/envs/azureml_py38/lib/python38.zip', '/anaconda/envs/azureml_py38/lib/python3.8', '/anaconda/envs/azureml_py38/lib/python3.8/lib-dynload', '', '/anaconda/envs/azureml_py38/lib/python3.8/site-packages', '/anaconda/envs/azureml_py38/lib/python3.8/site-packages/azureml/_project/vendor', '/anaconda/envs/azureml_py38/lib/python3.8/site-packages/azureml/automl/core/_vendor']\n",
      "\n",
      "\n"
     ]
    }
   ],
   "source": [
    "\n",
    "#fileloc  = '/mnt/batch/tasks/shared/LS_root/mounts/clusters/compute-one/code/Users/karan.bhatti'\n",
    "fileloc  = '/mnt/batch/tasks/shared/LS_root/mounts/clusters/compute-one-8c-32gb/code/Users/karan.bhatti'\n",
    "\n",
    "import sys\n",
    "print(sys.path)\n",
    "print()\n",
    "#sys.path.append(f'{fileloc}')\n",
    "print()\n",
    "#print(sys.path)\n"
   ]
  },
  {
   "cell_type": "code",
   "execution_count": 2,
   "id": "41e12f32-cddf-4b1b-a11b-523bd5150978",
   "metadata": {},
   "outputs": [],
   "source": [
    "\n",
    "class Data(object):\n",
    "    pass\n",
    "\n",
    "df = Data\n",
    "summ = Data\n"
   ]
  },
  {
   "cell_type": "code",
   "execution_count": 3,
   "id": "91c0dfae-c116-4ecc-8ece-515ef84128f1",
   "metadata": {},
   "outputs": [],
   "source": [
    "import helpdesk as hd"
   ]
  },
  {
   "cell_type": "code",
   "execution_count": 4,
   "id": "786aefbb-d314-49f9-ae4d-efdc11ddfde5",
   "metadata": {},
   "outputs": [],
   "source": [
    "\n",
    "import pandas as pd, numpy as np\n",
    "from datetime import datetime\n"
   ]
  },
  {
   "cell_type": "code",
   "execution_count": 5,
   "id": "e27858ab-bed5-4392-adaa-7ab1699e4729",
   "metadata": {},
   "outputs": [],
   "source": [
    "\n",
    "DEBUG = True\n",
    "seed = 1919\n"
   ]
  },
  {
   "cell_type": "code",
   "execution_count": 6,
   "id": "e838b313-6ce9-45ce-9ad9-e93b3ad18d47",
   "metadata": {},
   "outputs": [],
   "source": [
    "pd.set_option('display.max_rows', 50);"
   ]
  },
  {
   "cell_type": "code",
   "execution_count": 7,
   "id": "c9b3430a-b700-4589-beef-b9edc17f6ef2",
   "metadata": {},
   "outputs": [],
   "source": [
    "pd.set_option('display.max_columns', 50);"
   ]
  },
  {
   "cell_type": "code",
   "execution_count": 8,
   "id": "511706ef-6514-4dbf-9843-564be0c1e17b",
   "metadata": {},
   "outputs": [],
   "source": [
    "pd.set_option('display.width', 200);"
   ]
  },
  {
   "cell_type": "code",
   "execution_count": 9,
   "id": "6a5f2d81-23d1-4a9e-a2fa-ed8c5a048f05",
   "metadata": {},
   "outputs": [
    {
     "ename": "FileNotFoundError",
     "evalue": "[Errno 2] No such file or directory: '/mnt/batch/tasks/shared/LS_root/mounts/clusters/compute-one-8c-32gb/code/Users/karan.bhatti/dataset_base_2023-02-22.csv'",
     "output_type": "error",
     "traceback": [
      "\u001b[0;31m---------------------------------------------------------------------------\u001b[0m",
      "\u001b[0;31mFileNotFoundError\u001b[0m                         Traceback (most recent call last)",
      "Input \u001b[0;32mIn [9]\u001b[0m, in \u001b[0;36m<cell line: 4>\u001b[0;34m()\u001b[0m\n\u001b[1;32m      1\u001b[0m \u001b[38;5;66;03m# Import the Base Dataset\u001b[39;00m\n\u001b[1;32m      2\u001b[0m base_dataset_name \u001b[38;5;241m=\u001b[39m \u001b[38;5;124m'\u001b[39m\u001b[38;5;124mdataset_base_2023-02-22.csv\u001b[39m\u001b[38;5;124m'\u001b[39m\n\u001b[0;32m----> 4\u001b[0m df_base_raw \u001b[38;5;241m=\u001b[39m \u001b[43mpd\u001b[49m\u001b[38;5;241;43m.\u001b[39;49m\u001b[43mread_csv\u001b[49m\u001b[43m(\u001b[49m\u001b[38;5;124;43mf\u001b[39;49m\u001b[38;5;124;43m'\u001b[39;49m\u001b[38;5;132;43;01m{\u001b[39;49;00m\u001b[43mfileloc\u001b[49m\u001b[38;5;132;43;01m}\u001b[39;49;00m\u001b[38;5;124;43m/\u001b[39;49m\u001b[38;5;132;43;01m{\u001b[39;49;00m\u001b[43mbase_dataset_name\u001b[49m\u001b[38;5;132;43;01m}\u001b[39;49;00m\u001b[38;5;124;43m'\u001b[39;49m\u001b[43m)\u001b[49m\n\u001b[1;32m      6\u001b[0m \u001b[38;5;28mprint\u001b[39m(df_base_raw\u001b[38;5;241m.\u001b[39mshape)\n\u001b[1;32m      7\u001b[0m \u001b[38;5;28mprint\u001b[39m()\n",
      "File \u001b[0;32m/anaconda/envs/azureml_py38/lib/python3.8/site-packages/pandas/io/parsers.py:688\u001b[0m, in \u001b[0;36mread_csv\u001b[0;34m(filepath_or_buffer, sep, delimiter, header, names, index_col, usecols, squeeze, prefix, mangle_dupe_cols, dtype, engine, converters, true_values, false_values, skipinitialspace, skiprows, skipfooter, nrows, na_values, keep_default_na, na_filter, verbose, skip_blank_lines, parse_dates, infer_datetime_format, keep_date_col, date_parser, dayfirst, cache_dates, iterator, chunksize, compression, thousands, decimal, lineterminator, quotechar, quoting, doublequote, escapechar, comment, encoding, dialect, error_bad_lines, warn_bad_lines, delim_whitespace, low_memory, memory_map, float_precision)\u001b[0m\n\u001b[1;32m    635\u001b[0m     engine_specified \u001b[38;5;241m=\u001b[39m \u001b[38;5;28;01mFalse\u001b[39;00m\n\u001b[1;32m    637\u001b[0m kwds\u001b[38;5;241m.\u001b[39mupdate(\n\u001b[1;32m    638\u001b[0m     delimiter\u001b[38;5;241m=\u001b[39mdelimiter,\n\u001b[1;32m    639\u001b[0m     engine\u001b[38;5;241m=\u001b[39mengine,\n\u001b[0;32m   (...)\u001b[0m\n\u001b[1;32m    685\u001b[0m     skip_blank_lines\u001b[38;5;241m=\u001b[39mskip_blank_lines,\n\u001b[1;32m    686\u001b[0m )\n\u001b[0;32m--> 688\u001b[0m \u001b[38;5;28;01mreturn\u001b[39;00m \u001b[43m_read\u001b[49m\u001b[43m(\u001b[49m\u001b[43mfilepath_or_buffer\u001b[49m\u001b[43m,\u001b[49m\u001b[43m \u001b[49m\u001b[43mkwds\u001b[49m\u001b[43m)\u001b[49m\n",
      "File \u001b[0;32m/anaconda/envs/azureml_py38/lib/python3.8/site-packages/pandas/io/parsers.py:454\u001b[0m, in \u001b[0;36m_read\u001b[0;34m(filepath_or_buffer, kwds)\u001b[0m\n\u001b[1;32m    451\u001b[0m _validate_names(kwds\u001b[38;5;241m.\u001b[39mget(\u001b[38;5;124m\"\u001b[39m\u001b[38;5;124mnames\u001b[39m\u001b[38;5;124m\"\u001b[39m, \u001b[38;5;28;01mNone\u001b[39;00m))\n\u001b[1;32m    453\u001b[0m \u001b[38;5;66;03m# Create the parser.\u001b[39;00m\n\u001b[0;32m--> 454\u001b[0m parser \u001b[38;5;241m=\u001b[39m \u001b[43mTextFileReader\u001b[49m\u001b[43m(\u001b[49m\u001b[43mfp_or_buf\u001b[49m\u001b[43m,\u001b[49m\u001b[43m \u001b[49m\u001b[38;5;241;43m*\u001b[39;49m\u001b[38;5;241;43m*\u001b[39;49m\u001b[43mkwds\u001b[49m\u001b[43m)\u001b[49m\n\u001b[1;32m    456\u001b[0m \u001b[38;5;28;01mif\u001b[39;00m chunksize \u001b[38;5;129;01mor\u001b[39;00m iterator:\n\u001b[1;32m    457\u001b[0m     \u001b[38;5;28;01mreturn\u001b[39;00m parser\n",
      "File \u001b[0;32m/anaconda/envs/azureml_py38/lib/python3.8/site-packages/pandas/io/parsers.py:948\u001b[0m, in \u001b[0;36mTextFileReader.__init__\u001b[0;34m(self, f, engine, **kwds)\u001b[0m\n\u001b[1;32m    945\u001b[0m \u001b[38;5;28;01mif\u001b[39;00m \u001b[38;5;124m\"\u001b[39m\u001b[38;5;124mhas_index_names\u001b[39m\u001b[38;5;124m\"\u001b[39m \u001b[38;5;129;01min\u001b[39;00m kwds:\n\u001b[1;32m    946\u001b[0m     \u001b[38;5;28mself\u001b[39m\u001b[38;5;241m.\u001b[39moptions[\u001b[38;5;124m\"\u001b[39m\u001b[38;5;124mhas_index_names\u001b[39m\u001b[38;5;124m\"\u001b[39m] \u001b[38;5;241m=\u001b[39m kwds[\u001b[38;5;124m\"\u001b[39m\u001b[38;5;124mhas_index_names\u001b[39m\u001b[38;5;124m\"\u001b[39m]\n\u001b[0;32m--> 948\u001b[0m \u001b[38;5;28;43mself\u001b[39;49m\u001b[38;5;241;43m.\u001b[39;49m\u001b[43m_make_engine\u001b[49m\u001b[43m(\u001b[49m\u001b[38;5;28;43mself\u001b[39;49m\u001b[38;5;241;43m.\u001b[39;49m\u001b[43mengine\u001b[49m\u001b[43m)\u001b[49m\n",
      "File \u001b[0;32m/anaconda/envs/azureml_py38/lib/python3.8/site-packages/pandas/io/parsers.py:1180\u001b[0m, in \u001b[0;36mTextFileReader._make_engine\u001b[0;34m(self, engine)\u001b[0m\n\u001b[1;32m   1178\u001b[0m \u001b[38;5;28;01mdef\u001b[39;00m \u001b[38;5;21m_make_engine\u001b[39m(\u001b[38;5;28mself\u001b[39m, engine\u001b[38;5;241m=\u001b[39m\u001b[38;5;124m\"\u001b[39m\u001b[38;5;124mc\u001b[39m\u001b[38;5;124m\"\u001b[39m):\n\u001b[1;32m   1179\u001b[0m     \u001b[38;5;28;01mif\u001b[39;00m engine \u001b[38;5;241m==\u001b[39m \u001b[38;5;124m\"\u001b[39m\u001b[38;5;124mc\u001b[39m\u001b[38;5;124m\"\u001b[39m:\n\u001b[0;32m-> 1180\u001b[0m         \u001b[38;5;28mself\u001b[39m\u001b[38;5;241m.\u001b[39m_engine \u001b[38;5;241m=\u001b[39m \u001b[43mCParserWrapper\u001b[49m\u001b[43m(\u001b[49m\u001b[38;5;28;43mself\u001b[39;49m\u001b[38;5;241;43m.\u001b[39;49m\u001b[43mf\u001b[49m\u001b[43m,\u001b[49m\u001b[43m \u001b[49m\u001b[38;5;241;43m*\u001b[39;49m\u001b[38;5;241;43m*\u001b[39;49m\u001b[38;5;28;43mself\u001b[39;49m\u001b[38;5;241;43m.\u001b[39;49m\u001b[43moptions\u001b[49m\u001b[43m)\u001b[49m\n\u001b[1;32m   1181\u001b[0m     \u001b[38;5;28;01melse\u001b[39;00m:\n\u001b[1;32m   1182\u001b[0m         \u001b[38;5;28;01mif\u001b[39;00m engine \u001b[38;5;241m==\u001b[39m \u001b[38;5;124m\"\u001b[39m\u001b[38;5;124mpython\u001b[39m\u001b[38;5;124m\"\u001b[39m:\n",
      "File \u001b[0;32m/anaconda/envs/azureml_py38/lib/python3.8/site-packages/pandas/io/parsers.py:2010\u001b[0m, in \u001b[0;36mCParserWrapper.__init__\u001b[0;34m(self, src, **kwds)\u001b[0m\n\u001b[1;32m   2007\u001b[0m \u001b[38;5;28mself\u001b[39m\u001b[38;5;241m.\u001b[39musecols, \u001b[38;5;28mself\u001b[39m\u001b[38;5;241m.\u001b[39musecols_dtype \u001b[38;5;241m=\u001b[39m _validate_usecols_arg(kwds[\u001b[38;5;124m\"\u001b[39m\u001b[38;5;124musecols\u001b[39m\u001b[38;5;124m\"\u001b[39m])\n\u001b[1;32m   2008\u001b[0m kwds[\u001b[38;5;124m\"\u001b[39m\u001b[38;5;124musecols\u001b[39m\u001b[38;5;124m\"\u001b[39m] \u001b[38;5;241m=\u001b[39m \u001b[38;5;28mself\u001b[39m\u001b[38;5;241m.\u001b[39musecols\n\u001b[0;32m-> 2010\u001b[0m \u001b[38;5;28mself\u001b[39m\u001b[38;5;241m.\u001b[39m_reader \u001b[38;5;241m=\u001b[39m \u001b[43mparsers\u001b[49m\u001b[38;5;241;43m.\u001b[39;49m\u001b[43mTextReader\u001b[49m\u001b[43m(\u001b[49m\u001b[43msrc\u001b[49m\u001b[43m,\u001b[49m\u001b[43m \u001b[49m\u001b[38;5;241;43m*\u001b[39;49m\u001b[38;5;241;43m*\u001b[39;49m\u001b[43mkwds\u001b[49m\u001b[43m)\u001b[49m\n\u001b[1;32m   2011\u001b[0m \u001b[38;5;28mself\u001b[39m\u001b[38;5;241m.\u001b[39munnamed_cols \u001b[38;5;241m=\u001b[39m \u001b[38;5;28mself\u001b[39m\u001b[38;5;241m.\u001b[39m_reader\u001b[38;5;241m.\u001b[39munnamed_cols\n\u001b[1;32m   2013\u001b[0m passed_names \u001b[38;5;241m=\u001b[39m \u001b[38;5;28mself\u001b[39m\u001b[38;5;241m.\u001b[39mnames \u001b[38;5;129;01mis\u001b[39;00m \u001b[38;5;28;01mNone\u001b[39;00m\n",
      "File \u001b[0;32mpandas/_libs/parsers.pyx:382\u001b[0m, in \u001b[0;36mpandas._libs.parsers.TextReader.__cinit__\u001b[0;34m()\u001b[0m\n",
      "File \u001b[0;32mpandas/_libs/parsers.pyx:674\u001b[0m, in \u001b[0;36mpandas._libs.parsers.TextReader._setup_parser_source\u001b[0;34m()\u001b[0m\n",
      "\u001b[0;31mFileNotFoundError\u001b[0m: [Errno 2] No such file or directory: '/mnt/batch/tasks/shared/LS_root/mounts/clusters/compute-one-8c-32gb/code/Users/karan.bhatti/dataset_base_2023-02-22.csv'"
     ]
    }
   ],
   "source": [
    "\n",
    "# Import the Base Dataset\n",
    "base_dataset_name = 'dataset_base_2023-02-22.csv'\n",
    "\n",
    "df_base_raw = pd.read_csv(f'{fileloc}/{base_dataset_name}')\n",
    "\n",
    "print(df_base_raw.shape)\n",
    "print()\n",
    "print(df_base_raw.columns.values.tolist())\n"
   ]
  },
  {
   "cell_type": "code",
   "execution_count": null,
   "id": "e6006cf3-c819-4dda-97fc-e63bf4de0e49",
   "metadata": {},
   "outputs": [],
   "source": [
    "\n",
    "print(pd.DataFrame(df_base_raw.isna().sum()).transpose())\n"
   ]
  },
  {
   "cell_type": "code",
   "execution_count": 11,
   "id": "0fc3d9d6-2e27-48be-ae11-9d0e91d29348",
   "metadata": {},
   "outputs": [
    {
     "data": {
      "text/plain": [
       "\"\\n# Import the Speed Profile\\n\\nspeed_profile_name = 'dataprep_speed_profile_2022-12-03.csv'\\n\\ndf_speed_profile = pd.read_csv(f'{fileloc}/{speed_profile_name}')\\n\\nprint(df_speed_profile.shape)\\nprint()\\nprint(df_speed_profile.columns.values.tolist())\\nprint()\\n\""
      ]
     },
     "execution_count": 11,
     "metadata": {},
     "output_type": "execute_result"
    }
   ],
   "source": [
    "\n",
    "# Imported in the Standardisation Code\n",
    "\n",
    "\"\"\"\n",
    "# Import the Speed Profile\n",
    "\n",
    "speed_profile_name = 'dataprep_speed_profile_2022-12-03.csv'\n",
    "\n",
    "df_speed_profile = pd.read_csv(f'{fileloc}/{speed_profile_name}')\n",
    "\n",
    "print(df_speed_profile.shape)\n",
    "print()\n",
    "print(df_speed_profile.columns.values.tolist())\n",
    "print()\n",
    "\"\"\"\n"
   ]
  },
  {
   "cell_type": "code",
   "execution_count": 12,
   "id": "af073315-0a6a-4871-bbb0-aeec0011c62f",
   "metadata": {},
   "outputs": [
    {
     "name": "stdout",
     "output_type": "stream",
     "text": [
      "   @id_DOG  @id_RACE  x_races_tot  x_dist_gp  x_runtm_gp  x_rtgp_prev  x_rtgp_avg  x_rtgp_min  x_rtgp_max  x_rtgp_range  x_rtgp_std  x_no_prev_races  x_speed_prev  x_speed_avg  x_speed_min  \\\n",
      "0        0         0            0          0           0            0           0           0           0             0           0                0             0            0            0   \n",
      "\n",
      "   x_speed_max  x_speed_range  x_speed_std  x_no_prev_r_in_dist  \n",
      "0            0              0            0                    0  \n"
     ]
    }
   ],
   "source": [
    "\n",
    "#print(pd.DataFrame(df_speed_profile.isna().sum()).transpose())\n"
   ]
  },
  {
   "cell_type": "code",
   "execution_count": 10,
   "id": "2784e56a-7ba9-4b66-b549-5255353b9d10",
   "metadata": {},
   "outputs": [
    {
     "name": "stdout",
     "output_type": "stream",
     "text": [
      "(641710, 16)\n",
      "\n",
      "['@id_DOG', '@id_RACE', 'G5', 'G4', 'G3', 'G2', 'G1', 'Gmix', 'Gmas', 'Gmai', 'Gh', 'Gres', 'Gnov', 'Gsp', 'Gfin', 'RaceGrade_H1']\n"
     ]
    }
   ],
   "source": [
    "\n",
    "# Import the Race Profile\n",
    "race_profile_name = 'dataprep_raceprofile_2023-02-22.csv'\n",
    "\n",
    "df_race_profile = pd.read_csv(f'{fileloc}/{race_profile_name}')\n",
    "\n",
    "print(df_race_profile.shape)\n",
    "print()\n",
    "print(df_race_profile.columns.values.tolist())\n"
   ]
  },
  {
   "cell_type": "code",
   "execution_count": 11,
   "id": "d1dfb476-eaea-44e4-a992-7c74a4b2d0c3",
   "metadata": {},
   "outputs": [
    {
     "name": "stdout",
     "output_type": "stream",
     "text": [
      "   @id_DOG  @id_RACE  G5  G4  G3  G2  G1  Gmix  Gmas  Gmai  Gh  Gres  Gnov  Gsp  Gfin  RaceGrade_H1\n",
      "0        0         0   0   0   0   0   0     0     0     0   0     0     0    0     0             0\n"
     ]
    }
   ],
   "source": [
    "\n",
    "print(pd.DataFrame(df_race_profile.isna().sum()).transpose())\n"
   ]
  },
  {
   "cell_type": "code",
   "execution_count": 12,
   "id": "119fa1e4-1b6d-4950-a348-2f11d07a2eca",
   "metadata": {},
   "outputs": [
    {
     "name": "stdout",
     "output_type": "stream",
     "text": [
      "(641710, 13)\n",
      "\n",
      "['@id_DOG', 'DogName', '@id_RACE', 'RaceName', 'Distance', 'x_dist_gp', 'dist300', 'dist350', 'dist400', 'dist450', 'dist500', 'dist600', 'dist700']\n"
     ]
    }
   ],
   "source": [
    "\n",
    "# Import the Race Profile\n",
    "dateprep_categorical = 'dataprep_categorical_2023-02-22.csv'\n",
    "\n",
    "df_categorical = pd.read_csv(f'{fileloc}/{dateprep_categorical}')\n",
    "\n",
    "print(df_categorical.shape)\n",
    "print()\n",
    "print(df_categorical.columns.values.tolist())\n"
   ]
  },
  {
   "cell_type": "code",
   "execution_count": 13,
   "id": "c3274066-74b8-4fdb-9ca6-cdb5c29bf658",
   "metadata": {},
   "outputs": [
    {
     "name": "stdout",
     "output_type": "stream",
     "text": [
      "   @id_DOG  DogName  @id_RACE  RaceName  Distance  x_dist_gp  dist300  dist350  dist400  dist450  dist500  dist600  dist700\n",
      "0        0        0         0        15         0          0        0        0        0        0        0        0        0\n"
     ]
    }
   ],
   "source": [
    "\n",
    "print(pd.DataFrame(df_categorical.isna().sum()).transpose())\n"
   ]
  },
  {
   "cell_type": "code",
   "execution_count": 14,
   "id": "889410d9-0075-4857-9282-d80db0390238",
   "metadata": {},
   "outputs": [
    {
     "data": {
      "text/plain": [
       "\"\\n# Import the Performance Dataset\\ndateprep_perf = 'dataprep_performance_2022-12-03.csv'\\n\\ndf_perf = pd.read_csv(f'{fileloc}/{dateprep_perf}')\\n\\nprint(df_perf.shape)\\n\\nprint()\\nprint(df_perf.columns.values.tolist())\\n\""
      ]
     },
     "execution_count": 14,
     "metadata": {},
     "output_type": "execute_result"
    }
   ],
   "source": [
    "\n",
    "#Imported in the Standardisation Code\n",
    "\n",
    "\"\"\"\n",
    "# Import the Performance Dataset\n",
    "dateprep_perf = 'dataprep_performance_2022-12-03.csv'\n",
    "\n",
    "df_perf = pd.read_csv(f'{fileloc}/{dateprep_perf}')\n",
    "\n",
    "print(df_perf.shape)\n",
    "\n",
    "print()\n",
    "print(df_perf.columns.values.tolist())\n",
    "\"\"\"\n"
   ]
  },
  {
   "cell_type": "code",
   "execution_count": 15,
   "id": "6729f017-5406-4e10-bbd5-691326d68cc3",
   "metadata": {},
   "outputs": [],
   "source": [
    "\n",
    "#print(pd.DataFrame(df_perf.isna().sum()).transpose())\n"
   ]
  },
  {
   "cell_type": "code",
   "execution_count": 16,
   "id": "bf772a28-1f51-403e-ab11-22b242e00745",
   "metadata": {},
   "outputs": [
    {
     "data": {
      "text/plain": [
       "\"\\n# Import the Performance Dataset\\ndateprep_trnr_perf = 'dataprep_TRNR_performance_2022-12-10.csv'\\n\\ndf_trnr_perf = pd.read_csv(f'{fileloc}/{dateprep_trnr_perf}')\\n\\nprint(df_trnr_perf.shape)\\nprint()\\nprint(df_trnr_perf.columns.values.tolist())\\n\""
      ]
     },
     "execution_count": 16,
     "metadata": {},
     "output_type": "execute_result"
    }
   ],
   "source": [
    "\n",
    "# Imported in the Standardisation Code\n",
    "\n",
    "\"\"\"\n",
    "# Import the Performance Dataset\n",
    "dateprep_trnr_perf = 'dataprep_TRNR_performance_2022-12-10.csv'\n",
    "\n",
    "df_trnr_perf = pd.read_csv(f'{fileloc}/{dateprep_trnr_perf}')\n",
    "\n",
    "print(df_trnr_perf.shape)\n",
    "print()\n",
    "print(df_trnr_perf.columns.values.tolist())\n",
    "\"\"\"\n"
   ]
  },
  {
   "cell_type": "code",
   "execution_count": 17,
   "id": "6b5e15a7-11c5-4f05-a027-9d55d3f58ee7",
   "metadata": {},
   "outputs": [],
   "source": [
    "\n",
    "#print(pd.DataFrame(df_trnr_perf.isna().sum()).transpose())\n"
   ]
  },
  {
   "cell_type": "code",
   "execution_count": 18,
   "id": "9849d83f-55d0-40d0-8fdd-9fd2b4a603cc",
   "metadata": {},
   "outputs": [
    {
     "name": "stdout",
     "output_type": "stream",
     "text": [
      "(641710, 19)\n",
      "\n",
      "['@id_DOG', '@id_RACE', 'firstrace', 'upgrade', 'downgrade', 'upg_87', 'upg_76', 'upg_65', 'upg_54', 'upg_43', 'upg_32', 'upg_21', 'dng_12', 'dng_23', 'dng_34', 'dng_45', 'dng_56', 'dng_67', 'dng_78']\n"
     ]
    }
   ],
   "source": [
    "\n",
    "# Import the Grading Dataset\n",
    "dateprep_grading = 'dataset_base_doggrading_2023-02-22.csv'\n",
    "\n",
    "df_grading = pd.read_csv(f'{fileloc}/{dateprep_grading}').drop(columns = ['RaceId', 'DogName'])\n",
    "\n",
    "print(df_grading.shape)\n",
    "print()\n",
    "print(df_grading.columns.values.tolist())\n"
   ]
  },
  {
   "cell_type": "code",
   "execution_count": 19,
   "id": "0c6c79de-4892-46f6-852f-b87fa8d1ed14",
   "metadata": {},
   "outputs": [
    {
     "name": "stdout",
     "output_type": "stream",
     "text": [
      "   @id_DOG  @id_RACE  firstrace  upgrade  downgrade  upg_87  upg_76  upg_65  upg_54  upg_43  upg_32  upg_21  dng_12  dng_23  dng_34  dng_45  dng_56  dng_67  dng_78\n",
      "0        0         0          0        0          0       0       0       0       0       0       0       0       0       0       0       0       0       0       0\n"
     ]
    }
   ],
   "source": [
    "\n",
    "print(pd.DataFrame(df_grading.isna().sum()).transpose())\n"
   ]
  },
  {
   "cell_type": "code",
   "execution_count": 20,
   "id": "5f7b0e1f-79dc-463e-9fbe-32aa25285a7b",
   "metadata": {},
   "outputs": [
    {
     "ename": "KeyboardInterrupt",
     "evalue": "",
     "output_type": "error",
     "traceback": [
      "\u001b[0;31m---------------------------------------------------------------------------\u001b[0m",
      "\u001b[0;31mKeyboardInterrupt\u001b[0m                         Traceback (most recent call last)",
      "Input \u001b[0;32mIn [20]\u001b[0m, in \u001b[0;36m<cell line: 4>\u001b[0;34m()\u001b[0m\n\u001b[1;32m      1\u001b[0m \u001b[38;5;66;03m# Import the Normed Dataset\u001b[39;00m\n\u001b[1;32m      2\u001b[0m dateprep_normed \u001b[38;5;241m=\u001b[39m \u001b[38;5;124m'\u001b[39m\u001b[38;5;124mnormalised_vars_2023-02-22.csv\u001b[39m\u001b[38;5;124m'\u001b[39m\n\u001b[0;32m----> 4\u001b[0m df_normed \u001b[38;5;241m=\u001b[39m \u001b[43mpd\u001b[49m\u001b[38;5;241;43m.\u001b[39;49m\u001b[43mread_csv\u001b[49m\u001b[43m(\u001b[49m\u001b[38;5;124;43mf\u001b[39;49m\u001b[38;5;124;43m'\u001b[39;49m\u001b[38;5;132;43;01m{\u001b[39;49;00m\u001b[43mfileloc\u001b[49m\u001b[38;5;132;43;01m}\u001b[39;49;00m\u001b[38;5;124;43m/\u001b[39;49m\u001b[38;5;132;43;01m{\u001b[39;49;00m\u001b[43mdateprep_normed\u001b[49m\u001b[38;5;132;43;01m}\u001b[39;49;00m\u001b[38;5;124;43m'\u001b[39;49m\u001b[43m)\u001b[49m\u001b[38;5;241m.\u001b[39mdrop(columns \u001b[38;5;241m=\u001b[39m [\u001b[38;5;124m'\u001b[39m\u001b[38;5;124mTrainerId\u001b[39m\u001b[38;5;124m'\u001b[39m])\n\u001b[1;32m      6\u001b[0m \u001b[38;5;28mprint\u001b[39m(df_normed\u001b[38;5;241m.\u001b[39mshape)\n\u001b[1;32m      7\u001b[0m \u001b[38;5;28mprint\u001b[39m()\n",
      "File \u001b[0;32m/anaconda/envs/azureml_py38/lib/python3.8/site-packages/pandas/io/parsers.py:688\u001b[0m, in \u001b[0;36mread_csv\u001b[0;34m(filepath_or_buffer, sep, delimiter, header, names, index_col, usecols, squeeze, prefix, mangle_dupe_cols, dtype, engine, converters, true_values, false_values, skipinitialspace, skiprows, skipfooter, nrows, na_values, keep_default_na, na_filter, verbose, skip_blank_lines, parse_dates, infer_datetime_format, keep_date_col, date_parser, dayfirst, cache_dates, iterator, chunksize, compression, thousands, decimal, lineterminator, quotechar, quoting, doublequote, escapechar, comment, encoding, dialect, error_bad_lines, warn_bad_lines, delim_whitespace, low_memory, memory_map, float_precision)\u001b[0m\n\u001b[1;32m    635\u001b[0m     engine_specified \u001b[38;5;241m=\u001b[39m \u001b[38;5;28;01mFalse\u001b[39;00m\n\u001b[1;32m    637\u001b[0m kwds\u001b[38;5;241m.\u001b[39mupdate(\n\u001b[1;32m    638\u001b[0m     delimiter\u001b[38;5;241m=\u001b[39mdelimiter,\n\u001b[1;32m    639\u001b[0m     engine\u001b[38;5;241m=\u001b[39mengine,\n\u001b[0;32m   (...)\u001b[0m\n\u001b[1;32m    685\u001b[0m     skip_blank_lines\u001b[38;5;241m=\u001b[39mskip_blank_lines,\n\u001b[1;32m    686\u001b[0m )\n\u001b[0;32m--> 688\u001b[0m \u001b[38;5;28;01mreturn\u001b[39;00m \u001b[43m_read\u001b[49m\u001b[43m(\u001b[49m\u001b[43mfilepath_or_buffer\u001b[49m\u001b[43m,\u001b[49m\u001b[43m \u001b[49m\u001b[43mkwds\u001b[49m\u001b[43m)\u001b[49m\n",
      "File \u001b[0;32m/anaconda/envs/azureml_py38/lib/python3.8/site-packages/pandas/io/parsers.py:460\u001b[0m, in \u001b[0;36m_read\u001b[0;34m(filepath_or_buffer, kwds)\u001b[0m\n\u001b[1;32m    457\u001b[0m     \u001b[38;5;28;01mreturn\u001b[39;00m parser\n\u001b[1;32m    459\u001b[0m \u001b[38;5;28;01mtry\u001b[39;00m:\n\u001b[0;32m--> 460\u001b[0m     data \u001b[38;5;241m=\u001b[39m \u001b[43mparser\u001b[49m\u001b[38;5;241;43m.\u001b[39;49m\u001b[43mread\u001b[49m\u001b[43m(\u001b[49m\u001b[43mnrows\u001b[49m\u001b[43m)\u001b[49m\n\u001b[1;32m    461\u001b[0m \u001b[38;5;28;01mfinally\u001b[39;00m:\n\u001b[1;32m    462\u001b[0m     parser\u001b[38;5;241m.\u001b[39mclose()\n",
      "File \u001b[0;32m/anaconda/envs/azureml_py38/lib/python3.8/site-packages/pandas/io/parsers.py:1198\u001b[0m, in \u001b[0;36mTextFileReader.read\u001b[0;34m(self, nrows)\u001b[0m\n\u001b[1;32m   1196\u001b[0m \u001b[38;5;28;01mdef\u001b[39;00m \u001b[38;5;21mread\u001b[39m(\u001b[38;5;28mself\u001b[39m, nrows\u001b[38;5;241m=\u001b[39m\u001b[38;5;28;01mNone\u001b[39;00m):\n\u001b[1;32m   1197\u001b[0m     nrows \u001b[38;5;241m=\u001b[39m _validate_integer(\u001b[38;5;124m\"\u001b[39m\u001b[38;5;124mnrows\u001b[39m\u001b[38;5;124m\"\u001b[39m, nrows)\n\u001b[0;32m-> 1198\u001b[0m     ret \u001b[38;5;241m=\u001b[39m \u001b[38;5;28;43mself\u001b[39;49m\u001b[38;5;241;43m.\u001b[39;49m\u001b[43m_engine\u001b[49m\u001b[38;5;241;43m.\u001b[39;49m\u001b[43mread\u001b[49m\u001b[43m(\u001b[49m\u001b[43mnrows\u001b[49m\u001b[43m)\u001b[49m\n\u001b[1;32m   1200\u001b[0m     \u001b[38;5;66;03m# May alter columns / col_dict\u001b[39;00m\n\u001b[1;32m   1201\u001b[0m     index, columns, col_dict \u001b[38;5;241m=\u001b[39m \u001b[38;5;28mself\u001b[39m\u001b[38;5;241m.\u001b[39m_create_index(ret)\n",
      "File \u001b[0;32m/anaconda/envs/azureml_py38/lib/python3.8/site-packages/pandas/io/parsers.py:2157\u001b[0m, in \u001b[0;36mCParserWrapper.read\u001b[0;34m(self, nrows)\u001b[0m\n\u001b[1;32m   2155\u001b[0m \u001b[38;5;28;01mdef\u001b[39;00m \u001b[38;5;21mread\u001b[39m(\u001b[38;5;28mself\u001b[39m, nrows\u001b[38;5;241m=\u001b[39m\u001b[38;5;28;01mNone\u001b[39;00m):\n\u001b[1;32m   2156\u001b[0m     \u001b[38;5;28;01mtry\u001b[39;00m:\n\u001b[0;32m-> 2157\u001b[0m         data \u001b[38;5;241m=\u001b[39m \u001b[38;5;28;43mself\u001b[39;49m\u001b[38;5;241;43m.\u001b[39;49m\u001b[43m_reader\u001b[49m\u001b[38;5;241;43m.\u001b[39;49m\u001b[43mread\u001b[49m\u001b[43m(\u001b[49m\u001b[43mnrows\u001b[49m\u001b[43m)\u001b[49m\n\u001b[1;32m   2158\u001b[0m     \u001b[38;5;28;01mexcept\u001b[39;00m \u001b[38;5;167;01mStopIteration\u001b[39;00m:\n\u001b[1;32m   2159\u001b[0m         \u001b[38;5;28;01mif\u001b[39;00m \u001b[38;5;28mself\u001b[39m\u001b[38;5;241m.\u001b[39m_first_chunk:\n",
      "File \u001b[0;32mpandas/_libs/parsers.pyx:847\u001b[0m, in \u001b[0;36mpandas._libs.parsers.TextReader.read\u001b[0;34m()\u001b[0m\n",
      "File \u001b[0;32mpandas/_libs/parsers.pyx:862\u001b[0m, in \u001b[0;36mpandas._libs.parsers.TextReader._read_low_memory\u001b[0;34m()\u001b[0m\n",
      "File \u001b[0;32mpandas/_libs/parsers.pyx:941\u001b[0m, in \u001b[0;36mpandas._libs.parsers.TextReader._read_rows\u001b[0;34m()\u001b[0m\n",
      "File \u001b[0;32mpandas/_libs/parsers.pyx:1073\u001b[0m, in \u001b[0;36mpandas._libs.parsers.TextReader._convert_column_data\u001b[0;34m()\u001b[0m\n",
      "File \u001b[0;32mpandas/_libs/parsers.pyx:1119\u001b[0m, in \u001b[0;36mpandas._libs.parsers.TextReader._convert_tokens\u001b[0;34m()\u001b[0m\n",
      "File \u001b[0;32mpandas/_libs/parsers.pyx:1162\u001b[0m, in \u001b[0;36mpandas._libs.parsers.TextReader._convert_with_dtype\u001b[0;34m()\u001b[0m\n",
      "File \u001b[0;32m/anaconda/envs/azureml_py38/lib/python3.8/site-packages/pandas/core/dtypes/common.py:530\u001b[0m, in \u001b[0;36mis_categorical_dtype\u001b[0;34m(arr_or_dtype)\u001b[0m\n\u001b[1;32m    526\u001b[0m         \u001b[38;5;28;01mreturn\u001b[39;00m \u001b[38;5;28;01mFalse\u001b[39;00m\n\u001b[1;32m    527\u001b[0m     \u001b[38;5;28;01mreturn\u001b[39;00m IntervalDtype\u001b[38;5;241m.\u001b[39mis_dtype(arr_or_dtype)\n\u001b[0;32m--> 530\u001b[0m \u001b[38;5;28;01mdef\u001b[39;00m \u001b[38;5;21mis_categorical_dtype\u001b[39m(arr_or_dtype) \u001b[38;5;241m-\u001b[39m\u001b[38;5;241m>\u001b[39m \u001b[38;5;28mbool\u001b[39m:\n\u001b[1;32m    531\u001b[0m     \u001b[38;5;124;03m\"\"\"\u001b[39;00m\n\u001b[1;32m    532\u001b[0m \u001b[38;5;124;03m    Check whether an array-like or dtype is of the Categorical dtype.\u001b[39;00m\n\u001b[1;32m    533\u001b[0m \n\u001b[0;32m   (...)\u001b[0m\n\u001b[1;32m    555\u001b[0m \u001b[38;5;124;03m    True\u001b[39;00m\n\u001b[1;32m    556\u001b[0m \u001b[38;5;124;03m    \"\"\"\u001b[39;00m\n\u001b[1;32m    557\u001b[0m     \u001b[38;5;28;01mif\u001b[39;00m \u001b[38;5;28misinstance\u001b[39m(arr_or_dtype, ExtensionDtype):\n\u001b[1;32m    558\u001b[0m         \u001b[38;5;66;03m# GH#33400 fastpath for dtype object\u001b[39;00m\n",
      "\u001b[0;31mKeyboardInterrupt\u001b[0m: "
     ]
    }
   ],
   "source": [
    "\n",
    "# Import the Normed Dataset\n",
    "dateprep_normed = 'normalised_vars_2023-02-22.csv'\n",
    "\n",
    "df_normed = pd.read_csv(f'{fileloc}/{dateprep_normed}').drop(columns = ['TrainerId'])\n",
    "\n",
    "print(df_normed.shape)\n",
    "print()\n",
    "print(df_normed.columns.values.tolist())\n"
   ]
  },
  {
   "cell_type": "code",
   "execution_count": null,
   "id": "11985570-4c36-4a6e-bbc2-cbd5270a05ba",
   "metadata": {},
   "outputs": [],
   "source": [
    "\n",
    "print(pd.DataFrame(df_normed.isna().sum()).transpose())\n"
   ]
  },
  {
   "cell_type": "code",
   "execution_count": null,
   "id": "525421f5-b78b-465c-a0ee-251cb586ec3e",
   "metadata": {},
   "outputs": [],
   "source": []
  },
  {
   "cell_type": "markdown",
   "id": "7071e949-2867-4c06-8a0b-e0f20a292295",
   "metadata": {},
   "source": [
    "#### Merging all the Dataset here"
   ]
  },
  {
   "cell_type": "code",
   "execution_count": null,
   "id": "82df1f20-4797-45a7-9d9a-4b72be497bac",
   "metadata": {},
   "outputs": [],
   "source": []
  },
  {
   "cell_type": "code",
   "execution_count": null,
   "id": "479b778b-1d10-444a-aed2-b762f2d53646",
   "metadata": {},
   "outputs": [],
   "source": [
    "\n",
    "# Merge the datasets together\n",
    "\n",
    "print(df_base_raw.shape)\n",
    "print(df_race_profile.shape)\n",
    "\n",
    "print()\n",
    "print()\n",
    "df_base0 = pd.merge( df_base_raw, df_race_profile, on = ['@id_DOG','@id_RACE'], how = 'left')\n",
    "print(df_base0.shape)\n",
    "print(df_base0.columns.values.tolist())\n",
    "\n",
    "print(df_normed.shape)\n",
    "\n",
    "print()\n",
    "print()\n",
    "df_base1 = pd.merge( df_base0, df_normed, on = ['@id_DOG','@id_RACE'], how = 'left')\n",
    "print(df_base1.shape)\n",
    "print(df_base1.columns.values.tolist())\n",
    "\n",
    "\n",
    "print(df_categorical.shape)\n",
    "\n",
    "print()\n",
    "print()\n",
    "df_base2 = pd.merge( df_base1, df_categorical.drop(columns = ['DogName','Distance','x_dist_gp']), on = ['@id_DOG','@id_RACE'], how = 'left')\n",
    "print(df_base2.shape)\n",
    "print(df_base2.columns.values.tolist())\n",
    "\n",
    "\n",
    "print(df_grading.shape)\n",
    "\n",
    "print()\n",
    "print()\n",
    "df_base = pd.merge( df_base2, df_grading, on = ['@id_DOG','@id_RACE'], how = 'left')\n",
    "print(df_base.shape)\n",
    "print(df_base.columns.values.tolist())\n",
    "\n",
    "print(datetime.now())\n"
   ]
  },
  {
   "cell_type": "code",
   "execution_count": null,
   "id": "34044e43-30f2-4ca5-b055-ff575be54be4",
   "metadata": {},
   "outputs": [],
   "source": [
    "\n",
    "del df_base0, df_base1, df_base2\n"
   ]
  },
  {
   "cell_type": "code",
   "execution_count": null,
   "id": "0fc73963-27ed-41f5-b0e4-05f1b55aa0dc",
   "metadata": {},
   "outputs": [],
   "source": [
    "\n",
    "print(pd.DataFrame(df_base.isna().sum()).transpose())\n"
   ]
  },
  {
   "cell_type": "code",
   "execution_count": null,
   "id": "deb5aaf2-0414-42c6-890f-d7345566351d",
   "metadata": {},
   "outputs": [],
   "source": []
  },
  {
   "cell_type": "markdown",
   "id": "8dd45b9b-1c20-4fca-9428-7a8745867e8e",
   "metadata": {},
   "source": [
    "#### EXPORTING THE MODEL FILE"
   ]
  },
  {
   "cell_type": "code",
   "execution_count": null,
   "id": "a0ba0d70-4bb0-466f-9dab-bbcd0f358bf6",
   "metadata": {},
   "outputs": [],
   "source": [
    "\n",
    "#keep_cols_for_export = ['@id_DOG', 'DogName', '@id_RACE','RaceName','Track','RaceGrade','Distance','TrainerName','RunTime','Place','x_races_tot']\n",
    "\n",
    "# 'TrainerName', 'Track' have been dummified\n",
    "#cols_to_keep = ['@id_DOG', 'DogName', 'y_runtime', 'RaceId', '@id_RACE', 'position', 'ft_sp', 'x_num_dogs', 'Top3_actual', 'position_random', 'position_fasttrack', 'Winner_fastrack', 'Top3_fastrack', 'Winner_actual', 'Winner_random', 'Top3_random']\n",
    "\n",
    "#cols_for_drop = ['y_margin_y','y_pos_y']\n",
    "cols_for_drop = []\n",
    "\n",
    "#'Event_Dt', \n",
    "\n",
    "todaydt = datetime.now().date()\n",
    "exp_fname = f'modeling_base_{todaydt}.csv'\n",
    "\n",
    "exp_ds = df_base.drop(columns = cols_for_drop).rename(columns = {'y_margin_x':'y_margin', 'y_pos_x':'y_pos'})\n"
   ]
  },
  {
   "cell_type": "code",
   "execution_count": null,
   "id": "862b00bf-28fd-443a-9a77-a2a060a4a7cd",
   "metadata": {},
   "outputs": [],
   "source": [
    "\n",
    "print(pd.DataFrame(exp_ds.isna().sum()))\n"
   ]
  },
  {
   "cell_type": "code",
   "execution_count": null,
   "id": "cb88f20b-8d09-4287-b4da-df0a8eb78f23",
   "metadata": {},
   "outputs": [],
   "source": [
    "\n",
    "print(exp_ds.shape)\n"
   ]
  },
  {
   "cell_type": "code",
   "execution_count": null,
   "id": "d9e85933-a467-48de-8013-3f2811202760",
   "metadata": {},
   "outputs": [],
   "source": [
    "\n",
    "print(exp_ds.columns.values.tolist())\n"
   ]
  },
  {
   "cell_type": "code",
   "execution_count": null,
   "id": "8d2e923c-9c94-4847-a9bb-89b3a95def7b",
   "metadata": {},
   "outputs": [],
   "source": [
    "\n",
    "exp_ds.tail(5)\n"
   ]
  },
  {
   "cell_type": "code",
   "execution_count": null,
   "id": "78526600-cc75-439f-887a-9b669193d294",
   "metadata": {},
   "outputs": [],
   "source": [
    "\n",
    "exp_ds.describe()\n"
   ]
  },
  {
   "cell_type": "markdown",
   "id": "2edfe953-31cd-4fdb-adec-e1ae6322b25c",
   "metadata": {},
   "source": [
    "# 30 Min runtime"
   ]
  },
  {
   "cell_type": "code",
   "execution_count": null,
   "id": "d1ca9533-1d19-4325-8310-fadfc51a1476",
   "metadata": {},
   "outputs": [],
   "source": [
    "\n",
    "print(datetime.now())\n"
   ]
  },
  {
   "cell_type": "code",
   "execution_count": null,
   "id": "d82e1ee3-6b4c-4126-9780-23cb1dc081e4",
   "metadata": {},
   "outputs": [],
   "source": [
    "\n",
    "exp_ds.to_csv(f'{fileloc}/{exp_fname}', index = False)\n"
   ]
  },
  {
   "cell_type": "code",
   "execution_count": null,
   "id": "b8617e2e-cd67-49cc-b1a0-bb2468b734d6",
   "metadata": {},
   "outputs": [],
   "source": [
    "\n",
    "print(datetime.now())\n",
    "print()\n",
    "print(\"THE END\")\n"
   ]
  },
  {
   "cell_type": "code",
   "execution_count": null,
   "id": "94a2782f-1539-4839-a59d-6afeac9ff3d7",
   "metadata": {},
   "outputs": [],
   "source": [
    "\n",
    "print(exp_fname)\n"
   ]
  },
  {
   "cell_type": "code",
   "execution_count": null,
   "id": "454baec7-7536-4979-9812-84250424177f",
   "metadata": {},
   "outputs": [],
   "source": []
  }
 ],
 "metadata": {
  "kernelspec": {
   "display_name": "Python 3.8 - AzureML",
   "language": "python",
   "name": "python38-azureml"
  },
  "language_info": {
   "codemirror_mode": {
    "name": "ipython",
    "version": 3
   },
   "file_extension": ".py",
   "mimetype": "text/x-python",
   "name": "python",
   "nbconvert_exporter": "python",
   "pygments_lexer": "ipython3",
   "version": "3.8.5"
  }
 },
 "nbformat": 4,
 "nbformat_minor": 5
}
