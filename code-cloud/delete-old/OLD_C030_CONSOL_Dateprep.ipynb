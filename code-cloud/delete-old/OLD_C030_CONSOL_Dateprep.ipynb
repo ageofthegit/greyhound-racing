{
 "cells": [
  {
   "cell_type": "code",
   "execution_count": null,
   "id": "cb585584-ccf5-4aa1-8f83-32ce55442a81",
   "metadata": {},
   "outputs": [],
   "source": []
  },
  {
   "cell_type": "markdown",
   "id": "20d15156-d40c-4adb-b8ad-9d9f9ad35e18",
   "metadata": {},
   "source": [
    "# CONSOLIDATE DatePrep"
   ]
  },
  {
   "cell_type": "code",
   "execution_count": 1,
   "id": "ac0b3b5b-48bf-485c-83bd-97db741515f5",
   "metadata": {},
   "outputs": [
    {
     "name": "stdout",
     "output_type": "stream",
     "text": [
      "['/mnt/batch/tasks/shared/LS_root/mounts/clusters/compute-one-8c-32gb/code/Users/karan.bhatti', '/anaconda/envs/azureml_py38/lib/python38.zip', '/anaconda/envs/azureml_py38/lib/python3.8', '/anaconda/envs/azureml_py38/lib/python3.8/lib-dynload', '', '/anaconda/envs/azureml_py38/lib/python3.8/site-packages', '/anaconda/envs/azureml_py38/lib/python3.8/site-packages/azureml/_project/vendor', '/anaconda/envs/azureml_py38/lib/python3.8/site-packages/azureml/automl/core/_vendor']\n",
      "\n",
      "\n"
     ]
    }
   ],
   "source": [
    "\n",
    "#fileloc  = '/mnt/batch/tasks/shared/LS_root/mounts/clusters/compute-one/code/Users/karan.bhatti'\n",
    "fileloc  = '/mnt/batch/tasks/shared/LS_root/mounts/clusters/compute-one-8c-32gb/code/Users/karan.bhatti'\n",
    "\n",
    "import sys\n",
    "print(sys.path)\n",
    "print()\n",
    "#sys.path.append(f'{fileloc}')\n",
    "print()\n",
    "#print(sys.path)\n"
   ]
  },
  {
   "cell_type": "code",
   "execution_count": 2,
   "id": "41e12f32-cddf-4b1b-a11b-523bd5150978",
   "metadata": {},
   "outputs": [],
   "source": [
    "\n",
    "class Data(object):\n",
    "    pass\n",
    "\n",
    "df = Data\n",
    "summ = Data\n"
   ]
  },
  {
   "cell_type": "code",
   "execution_count": 3,
   "id": "91c0dfae-c116-4ecc-8ece-515ef84128f1",
   "metadata": {},
   "outputs": [],
   "source": [
    "import helpdesk as hd"
   ]
  },
  {
   "cell_type": "code",
   "execution_count": 4,
   "id": "786aefbb-d314-49f9-ae4d-efdc11ddfde5",
   "metadata": {},
   "outputs": [],
   "source": [
    "\n",
    "import pandas as pd, numpy as np\n",
    "from datetime import datetime\n"
   ]
  },
  {
   "cell_type": "code",
   "execution_count": 5,
   "id": "e27858ab-bed5-4392-adaa-7ab1699e4729",
   "metadata": {},
   "outputs": [],
   "source": [
    "\n",
    "DEBUG = True\n",
    "seed = 1919\n"
   ]
  },
  {
   "cell_type": "code",
   "execution_count": null,
   "id": "c9b3430a-b700-4589-beef-b9edc17f6ef2",
   "metadata": {},
   "outputs": [],
   "source": [
    "\n",
    "pd.set_option('display.max_rows', 50);\n",
    "pd.set_option('display.max_columns', 50);\n",
    "pd.set_option('display.width', 200);\n"
   ]
  },
  {
   "cell_type": "code",
   "execution_count": null,
   "id": "6a5f2d81-23d1-4a9e-a2fa-ed8c5a048f05",
   "metadata": {},
   "outputs": [],
   "source": [
    "# Import the Base Dataset\n",
    "base_dataset_name = 'dataset_base_2022-11-19.csv'\n",
    "\n",
    "df_base_raw = pd.read_csv(f'{fileloc}/{base_dataset_name}')\n",
    "\n",
    "print(df_base_raw.shape)\n",
    "print()\n",
    "print(df_base_raw.columns.values.tolist())\n"
   ]
  },
  {
   "cell_type": "code",
   "execution_count": null,
   "id": "e6006cf3-c819-4dda-97fc-e63bf4de0e49",
   "metadata": {},
   "outputs": [],
   "source": [
    "\n",
    "print(pd.DataFrame(df_base_raw.isna().sum()).transpose())\n"
   ]
  },
  {
   "cell_type": "code",
   "execution_count": null,
   "id": "0fc3d9d6-2e27-48be-ae11-9d0e91d29348",
   "metadata": {},
   "outputs": [],
   "source": [
    "# Import the Speed Profile\n",
    "\n",
    "speed_profile_name = 'dataprep_speed_profile_2022-11-24.csv'\n",
    "\n",
    "df_speed_profile = pd.read_csv(f'{fileloc}/{speed_profile_name}')\n",
    "\n",
    "print(df_speed_profile.shape)\n",
    "print()\n",
    "print(df_speed_profile.columns.values.tolist())\n"
   ]
  },
  {
   "cell_type": "code",
   "execution_count": null,
   "id": "af073315-0a6a-4871-bbb0-aeec0011c62f",
   "metadata": {},
   "outputs": [],
   "source": [
    "\n",
    "print(pd.DataFrame(df_speed_profile.isna().sum()).transpose())\n"
   ]
  },
  {
   "cell_type": "code",
   "execution_count": null,
   "id": "2784e56a-7ba9-4b66-b549-5255353b9d10",
   "metadata": {},
   "outputs": [],
   "source": [
    "\n",
    "# Import the Race Profile\n",
    "race_profile_name = 'dataprep_raceprofile_2022-10-29.csv'\n",
    "\n",
    "df_race_profile = pd.read_csv(f'{fileloc}/{race_profile_name}')\n",
    "\n",
    "print(df_race_profile.shape)\n",
    "print()\n",
    "print(df_race_profile.columns.values.tolist())\n"
   ]
  },
  {
   "cell_type": "code",
   "execution_count": null,
   "id": "479b778b-1d10-444a-aed2-b762f2d53646",
   "metadata": {},
   "outputs": [],
   "source": [
    "\n",
    "# Merge the datasets together\n",
    "print(df_base_raw.shape)\n",
    "print(df_speed_profile.shape)\n",
    "print(df_race_profile.shape)\n",
    "print()\n",
    "\n",
    "df_base0 = pd.merge( df_base_raw, df_speed_profile, on = ['@id_DOG','@id_RACE'], how = 'left')\n",
    "print(df_base0.shape)    \n",
    "print(df_base0.columns.values.tolist())    \n",
    "\n",
    "df_base1 = pd.merge( df_base0, df_race_profile, on = ['@id_DOG','@id_RACE'], how = 'left')\n",
    "print(df_base1.shape)\n",
    "print(df_base1.columns.values.tolist())\n"
   ]
  },
  {
   "cell_type": "code",
   "execution_count": null,
   "id": "a0debc15-a8be-4ae9-8249-881dcdedf171",
   "metadata": {},
   "outputs": [],
   "source": [
    "\n",
    "print(pd.DataFrame(df_base1.isna().sum()).transpose())\n"
   ]
  },
  {
   "cell_type": "code",
   "execution_count": null,
   "id": "a0ba0d70-4bb0-466f-9dab-bbcd0f358bf6",
   "metadata": {},
   "outputs": [],
   "source": [
    "\n",
    "#keep_cols_for_export = ['@id_DOG', 'DogName', '@id_RACE','RaceName','Track','RaceGrade','Distance','TrainerName','RunTime','Place','x_races_tot']\n",
    "\n",
    "# 'TrainerName', 'Track' have been dummified\n",
    "#cols_to_keep = ['@id_DOG', 'DogName', 'y_runtime', 'RaceId', '@id_RACE', 'position', 'ft_sp', 'x_num_dogs', 'Top3_actual', 'position_random', 'position_fasttrack', 'Winner_fastrack', 'Top3_fastrack', 'Winner_actual', 'Winner_random', 'Top3_random']\n",
    "\n",
    "cols_for_drop = []\n",
    "\n",
    "#'Event_Dt', \n",
    "\n",
    "todaydt = datetime.now().date()\n",
    "exp_fname = f'modeling_base_{todaydt}.csv'\n",
    "\n",
    "exp_ds = df_base1.drop(columns = cols_for_drop)\n"
   ]
  },
  {
   "cell_type": "code",
   "execution_count": null,
   "id": "8d2e923c-9c94-4847-a9bb-89b3a95def7b",
   "metadata": {},
   "outputs": [],
   "source": [
    "\n",
    "exp_ds.head()\n"
   ]
  },
  {
   "cell_type": "code",
   "execution_count": null,
   "id": "78526600-cc75-439f-887a-9b669193d294",
   "metadata": {},
   "outputs": [],
   "source": [
    "\n",
    "exp_ds.describe()\n"
   ]
  },
  {
   "cell_type": "code",
   "execution_count": null,
   "id": "d82e1ee3-6b4c-4126-9780-23cb1dc081e4",
   "metadata": {},
   "outputs": [],
   "source": [
    "\n",
    "exp_ds.to_csv(f'{fileloc}/{exp_fname}', index = False)\n"
   ]
  },
  {
   "cell_type": "code",
   "execution_count": null,
   "id": "b8617e2e-cd67-49cc-b1a0-bb2468b734d6",
   "metadata": {},
   "outputs": [],
   "source": [
    "\n",
    "print(\"THE END\")\n"
   ]
  },
  {
   "cell_type": "code",
   "execution_count": null,
   "id": "94a2782f-1539-4839-a59d-6afeac9ff3d7",
   "metadata": {},
   "outputs": [],
   "source": []
  }
 ],
 "metadata": {
  "kernelspec": {
   "display_name": "Python 3.8 - AzureML",
   "language": "python",
   "name": "python38-azureml"
  },
  "language_info": {
   "codemirror_mode": {
    "name": "ipython",
    "version": 3
   },
   "file_extension": ".py",
   "mimetype": "text/x-python",
   "name": "python",
   "nbconvert_exporter": "python",
   "pygments_lexer": "ipython3",
   "version": "3.8.5"
  }
 },
 "nbformat": 4,
 "nbformat_minor": 5
}
