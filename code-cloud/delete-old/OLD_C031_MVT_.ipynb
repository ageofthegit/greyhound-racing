{
 "cells": [
  {
   "cell_type": "code",
   "execution_count": null,
   "id": "cb585584-ccf5-4aa1-8f83-32ce55442a81",
   "metadata": {},
   "outputs": [],
   "source": []
  },
  {
   "cell_type": "markdown",
   "id": "20d15156-d40c-4adb-b8ad-9d9f9ad35e18",
   "metadata": {},
   "source": [
    "# Tensorflow Regression"
   ]
  },
  {
   "cell_type": "code",
   "execution_count": 1,
   "id": "ac0b3b5b-48bf-485c-83bd-97db741515f5",
   "metadata": {},
   "outputs": [
    {
     "name": "stdout",
     "output_type": "stream",
     "text": [
      "['/mnt/batch/tasks/shared/LS_root/mounts/clusters/compute-one/code/Users/karan.bhatti', '/anaconda/envs/azureml_py38/lib/python38.zip', '/anaconda/envs/azureml_py38/lib/python3.8', '/anaconda/envs/azureml_py38/lib/python3.8/lib-dynload', '', '/anaconda/envs/azureml_py38/lib/python3.8/site-packages', '/anaconda/envs/azureml_py38/lib/python3.8/site-packages/azureml/_project/vendor', '/anaconda/envs/azureml_py38/lib/python3.8/site-packages/azureml/automl/core/_vendor']\n",
      "\n",
      "\n"
     ]
    }
   ],
   "source": [
    "\n",
    "fileloc  = '/mnt/batch/tasks/shared/LS_root/mounts/clusters/compute-one/code/Users/karan.bhatti'\n",
    "\n",
    "import sys\n",
    "print(sys.path)\n",
    "print()\n",
    "#sys.path.append(f'{fileloc}')\n",
    "print()\n",
    "#print(sys.path)\n"
   ]
  },
  {
   "cell_type": "code",
   "execution_count": 2,
   "id": "41e12f32-cddf-4b1b-a11b-523bd5150978",
   "metadata": {},
   "outputs": [],
   "source": [
    "\n",
    "class Data(object):\n",
    "    pass\n",
    "\n",
    "df = Data\n",
    "summ = Data\n"
   ]
  },
  {
   "cell_type": "code",
   "execution_count": 3,
   "id": "91c0dfae-c116-4ecc-8ece-515ef84128f1",
   "metadata": {},
   "outputs": [],
   "source": [
    "import helpdesk as hd"
   ]
  },
  {
   "cell_type": "code",
   "execution_count": 4,
   "id": "786aefbb-d314-49f9-ae4d-efdc11ddfde5",
   "metadata": {},
   "outputs": [],
   "source": [
    "\n",
    "import pandas as pd, numpy as np\n",
    "from datetime import datetime\n"
   ]
  },
  {
   "cell_type": "code",
   "execution_count": 5,
   "id": "e27858ab-bed5-4392-adaa-7ab1699e4729",
   "metadata": {},
   "outputs": [],
   "source": [
    "\n",
    "DEBUG = True\n",
    "seed = 1919\n"
   ]
  },
  {
   "cell_type": "code",
   "execution_count": 6,
   "id": "c9b3430a-b700-4589-beef-b9edc17f6ef2",
   "metadata": {},
   "outputs": [],
   "source": [
    "\n",
    "pd.set_option('display.max_rows', 50);\n",
    "pd.set_option('display.max_columns', 50);\n",
    "pd.set_option('display.width', 200);\n"
   ]
  },
  {
   "cell_type": "code",
   "execution_count": 9,
   "id": "6a5f2d81-23d1-4a9e-a2fa-ed8c5a048f05",
   "metadata": {},
   "outputs": [
    {
     "name": "stdout",
     "output_type": "stream",
     "text": [
      "(245827, 12)\n",
      "\n",
      "['@id_DOG', 'Place', 'DogName', 'y_runtime', 'TrainerName', '@id_RACE', 'RaceNum', 'RaceName', 'Track', 'x_dist', 'df_avg_speed_prev', 'x_races_tot']\n"
     ]
    }
   ],
   "source": [
    "\n",
    "raw_dataset_name = 'raw_dataset_2022-10-18.csv'\n",
    "\n",
    "df_raw_data = pd.read_csv(f'{fileloc}/{raw_dataset_name}')\n",
    "\n",
    "print(df_raw_data.shape)\n",
    "print()\n",
    "print(df_raw_data.columns.values.tolist())\n"
   ]
  },
  {
   "cell_type": "code",
   "execution_count": 10,
   "id": "af073315-0a6a-4871-bbb0-aeec0011c62f",
   "metadata": {},
   "outputs": [
    {
     "data": {
      "text/plain": [
       "@id_DOG                 0\n",
       "Place                   0\n",
       "DogName                 0\n",
       "y_runtime            2445\n",
       "TrainerName             0\n",
       "@id_RACE                0\n",
       "RaceNum                 0\n",
       "RaceName                0\n",
       "Track                   0\n",
       "x_dist                  0\n",
       "df_avg_speed_prev     191\n",
       "x_races_tot             0\n",
       "dtype: int64"
      ]
     },
     "execution_count": 10,
     "metadata": {},
     "output_type": "execute_result"
    }
   ],
   "source": [
    "\n",
    "df_raw_data.isna().sum()\n"
   ]
  },
  {
   "cell_type": "code",
   "execution_count": 12,
   "id": "fe3ccdd9-87a2-4de9-a89f-e6ce54ee824c",
   "metadata": {},
   "outputs": [
    {
     "name": "stdout",
     "output_type": "stream",
     "text": [
      "(245827, 12)\n",
      "(243382, 12)\n"
     ]
    }
   ],
   "source": [
    "\n",
    "'''\n",
    "Predicted Variable \n",
    "    0.99% y_runtime missing =  2445 records\n",
    "'''\n",
    "\n",
    "print(df_raw_data.shape)\n",
    "df_raw_data = df_raw_data[~df_raw_data.y_runtime.isna()]\n",
    "print(df_raw_data.shape)\n"
   ]
  },
  {
   "cell_type": "code",
   "execution_count": 13,
   "id": "2c64f4c5-bff5-4da9-8eac-08383c5a84e1",
   "metadata": {},
   "outputs": [
    {
     "data": {
      "text/plain": [
       "@id_DOG                0\n",
       "Place                  0\n",
       "DogName                0\n",
       "y_runtime              0\n",
       "TrainerName            0\n",
       "@id_RACE               0\n",
       "RaceNum                0\n",
       "RaceName               0\n",
       "Track                  0\n",
       "x_dist                 0\n",
       "df_avg_speed_prev    187\n",
       "x_races_tot            0\n",
       "dtype: int64"
      ]
     },
     "execution_count": 13,
     "metadata": {},
     "output_type": "execute_result"
    }
   ],
   "source": [
    "\n",
    "df_raw_data.isna().sum()\n"
   ]
  },
  {
   "cell_type": "code",
   "execution_count": 19,
   "id": "3602db22-1f4f-40dc-a98f-197257e2dcf5",
   "metadata": {},
   "outputs": [
    {
     "name": "stdout",
     "output_type": "stream",
     "text": [
      "0    243195\n",
      "1       187\n",
      "Name: x_no_prev_races, dtype: int64\n"
     ]
    }
   ],
   "source": [
    "\n",
    "'''\n",
    "df_avg_speed_prev is missing = first race\n",
    "    create another variable for first race\n",
    "    impute missing value as the average of runtime for [trainer, x_rac_tot = 1]\n",
    "'''\n",
    "\n",
    "#print( df_raw_data.x_races_tot.value_counts() )\n",
    "\n",
    "df_raw_data['x_no_prev_races'] = df_raw_data.apply( lambda x : 1 if pd.isna(x.df_avg_speed_prev) else 0, axis = 1 )\n",
    "\n",
    "print( df_raw_data['x_no_prev_races'].value_counts() )\n",
    "\n"
   ]
  },
  {
   "cell_type": "code",
   "execution_count": 38,
   "id": "9ea4cc58-ccc2-44f0-987a-7184d653c358",
   "metadata": {},
   "outputs": [
    {
     "name": "stdout",
     "output_type": "stream",
     "text": [
      "(243382, 13)\n",
      "(243382, 15)\n",
      "['@id_DOG', 'Place', 'DogName', 'y_runtime', 'TrainerName', '@id_RACE', 'RaceNum', 'RaceName', 'Track', 'x_dist', 'df_avg_speed_prev', 'x_races_tot', 'x_no_prev_races', 'avg_speed_impute', 'x_avg_speed_prev']\n"
     ]
    }
   ],
   "source": [
    "\n",
    "'''\n",
    "Imputing the average speed as the \"average speed of ALL greyhounds on their first race at the track\"\n",
    "'''\n",
    "\n",
    "#replace_group = ['TrainerName','x_races_tot']\n",
    "#replace_group = ['Track','x_races_tot']\n",
    "replace_group = ['Track']\n",
    "\n",
    "df_mvt_avg_speed = df_raw_data[ (df_raw_data.x_races_tot == 0) & ~(df_raw_data.df_avg_speed_prev.isna()) ].groupby( replace_group ).agg( {'df_avg_speed_prev':'mean'} ).rename( columns = { 'df_avg_speed_prev' : 'avg_speed_impute' } )\n",
    "\n",
    "print(df_raw_data.shape)\n",
    "\n",
    "df_raw_data_impute = pd.merge( df_raw_data, df_mvt_avg_speed, on = replace_group, how = 'left')\n",
    "\n",
    "df_raw_data_impute['x_avg_speed_prev'] = df_raw_data_impute.apply(lambda x : x.avg_speed_impute if pd.isna(x.df_avg_speed_prev) else x.df_avg_speed_prev, axis = 1)\n",
    "\n",
    "print(df_raw_data_impute.shape)\n",
    "print(df_raw_data_impute.columns.values.tolist())\n"
   ]
  },
  {
   "cell_type": "code",
   "execution_count": 39,
   "id": "e22ca5f5-c8b4-4dd7-9c31-0f4077f2810a",
   "metadata": {},
   "outputs": [
    {
     "data": {
      "text/plain": [
       "@id_DOG                0\n",
       "Place                  0\n",
       "DogName                0\n",
       "y_runtime              0\n",
       "TrainerName            0\n",
       "@id_RACE               0\n",
       "RaceNum                0\n",
       "RaceName               0\n",
       "Track                  0\n",
       "x_dist                 0\n",
       "df_avg_speed_prev    187\n",
       "x_races_tot            0\n",
       "x_no_prev_races        0\n",
       "avg_speed_impute       1\n",
       "x_avg_speed_prev       0\n",
       "dtype: int64"
      ]
     },
     "execution_count": 39,
     "metadata": {},
     "output_type": "execute_result"
    }
   ],
   "source": [
    "\n",
    "df_raw_data_impute.isna().sum()\n"
   ]
  },
  {
   "cell_type": "code",
   "execution_count": 30,
   "id": "27dd8add-8778-479b-9b24-5596a58bdf48",
   "metadata": {},
   "outputs": [
    {
     "data": {
      "text/html": [
       "<div>\n",
       "<style scoped>\n",
       "    .dataframe tbody tr th:only-of-type {\n",
       "        vertical-align: middle;\n",
       "    }\n",
       "\n",
       "    .dataframe tbody tr th {\n",
       "        vertical-align: top;\n",
       "    }\n",
       "\n",
       "    .dataframe thead th {\n",
       "        text-align: right;\n",
       "    }\n",
       "</style>\n",
       "<table border=\"1\" class=\"dataframe\">\n",
       "  <thead>\n",
       "    <tr style=\"text-align: right;\">\n",
       "      <th></th>\n",
       "      <th>@id_DOG</th>\n",
       "      <th>Place</th>\n",
       "      <th>DogName</th>\n",
       "      <th>y_runtime</th>\n",
       "      <th>TrainerName</th>\n",
       "      <th>@id_RACE</th>\n",
       "      <th>RaceNum</th>\n",
       "      <th>RaceName</th>\n",
       "      <th>Track</th>\n",
       "      <th>x_dist</th>\n",
       "      <th>df_avg_speed_prev</th>\n",
       "      <th>x_races_tot</th>\n",
       "      <th>x_no_prev_races</th>\n",
       "      <th>avg_speed_impute</th>\n",
       "      <th>x_avg_speed_prev</th>\n",
       "    </tr>\n",
       "  </thead>\n",
       "  <tbody>\n",
       "    <tr>\n",
       "      <th>0</th>\n",
       "      <td>114244064</td>\n",
       "      <td>3</td>\n",
       "      <td>FOURTH DIMENTION</td>\n",
       "      <td>23.29</td>\n",
       "      <td>P Pollutro</td>\n",
       "      <td>747034592</td>\n",
       "      <td>4</td>\n",
       "      <td>KHANS HOSPITALITY SERVICES</td>\n",
       "      <td>Warragul</td>\n",
       "      <td>400</td>\n",
       "      <td>NaN</td>\n",
       "      <td>0</td>\n",
       "      <td>1</td>\n",
       "      <td>16929.863677</td>\n",
       "      <td>16929.863677</td>\n",
       "    </tr>\n",
       "    <tr>\n",
       "      <th>234</th>\n",
       "      <td>196374469</td>\n",
       "      <td>6</td>\n",
       "      <td>DIGGERS COVE</td>\n",
       "      <td>24.45</td>\n",
       "      <td>N Jackson</td>\n",
       "      <td>745616401</td>\n",
       "      <td>6</td>\n",
       "      <td>SANDAL WELDING</td>\n",
       "      <td>Rockhampton</td>\n",
       "      <td>407</td>\n",
       "      <td>NaN</td>\n",
       "      <td>0</td>\n",
       "      <td>1</td>\n",
       "      <td>16881.854774</td>\n",
       "      <td>16881.854774</td>\n",
       "    </tr>\n",
       "    <tr>\n",
       "      <th>2458</th>\n",
       "      <td>280075043</td>\n",
       "      <td>3</td>\n",
       "      <td>LEICA BOMBER</td>\n",
       "      <td>19.95</td>\n",
       "      <td>L Nichols</td>\n",
       "      <td>745290009</td>\n",
       "      <td>3</td>\n",
       "      <td>HAPPY BIRTHDAY TO ME!</td>\n",
       "      <td>Hobart</td>\n",
       "      <td>340</td>\n",
       "      <td>NaN</td>\n",
       "      <td>1</td>\n",
       "      <td>1</td>\n",
       "      <td>NaN</td>\n",
       "      <td>NaN</td>\n",
       "    </tr>\n",
       "    <tr>\n",
       "      <th>6033</th>\n",
       "      <td>312535830</td>\n",
       "      <td>8</td>\n",
       "      <td>NIPPY UNO</td>\n",
       "      <td>19.75</td>\n",
       "      <td>H Lin</td>\n",
       "      <td>752129611</td>\n",
       "      <td>8</td>\n",
       "      <td>SWANK'S LAWN &amp; GARDENING</td>\n",
       "      <td>Temora</td>\n",
       "      <td>330</td>\n",
       "      <td>NaN</td>\n",
       "      <td>1</td>\n",
       "      <td>1</td>\n",
       "      <td>NaN</td>\n",
       "      <td>NaN</td>\n",
       "    </tr>\n",
       "    <tr>\n",
       "      <th>6264</th>\n",
       "      <td>313382514</td>\n",
       "      <td>6</td>\n",
       "      <td>GENERAL MAX</td>\n",
       "      <td>18.25</td>\n",
       "      <td>D Fennell</td>\n",
       "      <td>750654405</td>\n",
       "      <td>6</td>\n",
       "      <td>SWALLOW DRIVE MEATS (N/P) STAKE</td>\n",
       "      <td>Mount Gambier</td>\n",
       "      <td>305</td>\n",
       "      <td>NaN</td>\n",
       "      <td>1</td>\n",
       "      <td>1</td>\n",
       "      <td>NaN</td>\n",
       "      <td>NaN</td>\n",
       "    </tr>\n",
       "    <tr>\n",
       "      <th>...</th>\n",
       "      <td>...</td>\n",
       "      <td>...</td>\n",
       "      <td>...</td>\n",
       "      <td>...</td>\n",
       "      <td>...</td>\n",
       "      <td>...</td>\n",
       "      <td>...</td>\n",
       "      <td>...</td>\n",
       "      <td>...</td>\n",
       "      <td>...</td>\n",
       "      <td>...</td>\n",
       "      <td>...</td>\n",
       "      <td>...</td>\n",
       "      <td>...</td>\n",
       "      <td>...</td>\n",
       "    </tr>\n",
       "    <tr>\n",
       "      <th>239794</th>\n",
       "      <td>662596055</td>\n",
       "      <td>7</td>\n",
       "      <td>SUNNYSIDE CLOVER</td>\n",
       "      <td>23.90</td>\n",
       "      <td>M Clark</td>\n",
       "      <td>826995691</td>\n",
       "      <td>2</td>\n",
       "      <td>PAUA KENNELS HT2</td>\n",
       "      <td>Warragul</td>\n",
       "      <td>400</td>\n",
       "      <td>NaN</td>\n",
       "      <td>1</td>\n",
       "      <td>1</td>\n",
       "      <td>NaN</td>\n",
       "      <td>NaN</td>\n",
       "    </tr>\n",
       "    <tr>\n",
       "      <th>240694</th>\n",
       "      <td>667648171</td>\n",
       "      <td>5</td>\n",
       "      <td>ON THE DECK</td>\n",
       "      <td>20.38</td>\n",
       "      <td>L Cahalan</td>\n",
       "      <td>819982724</td>\n",
       "      <td>2</td>\n",
       "      <td>THE DOGCAST MAIDEN STAKE</td>\n",
       "      <td>Angle Park</td>\n",
       "      <td>342</td>\n",
       "      <td>NaN</td>\n",
       "      <td>0</td>\n",
       "      <td>1</td>\n",
       "      <td>17052.656037</td>\n",
       "      <td>17052.656037</td>\n",
       "    </tr>\n",
       "    <tr>\n",
       "      <th>242287</th>\n",
       "      <td>678239779</td>\n",
       "      <td>1</td>\n",
       "      <td>INDY GO RUBY</td>\n",
       "      <td>23.21</td>\n",
       "      <td>J Wood</td>\n",
       "      <td>815100863</td>\n",
       "      <td>1</td>\n",
       "      <td>Qualifying Trial/Provincial/405</td>\n",
       "      <td>Mandurah</td>\n",
       "      <td>405</td>\n",
       "      <td>NaN</td>\n",
       "      <td>0</td>\n",
       "      <td>1</td>\n",
       "      <td>17051.562067</td>\n",
       "      <td>17051.562067</td>\n",
       "    </tr>\n",
       "    <tr>\n",
       "      <th>242464</th>\n",
       "      <td>685382530</td>\n",
       "      <td>1</td>\n",
       "      <td>STYLISH RICO</td>\n",
       "      <td>19.40</td>\n",
       "      <td>B Kline</td>\n",
       "      <td>822917301</td>\n",
       "      <td>2</td>\n",
       "      <td>TAB - VENUE MODE</td>\n",
       "      <td>Albion Park</td>\n",
       "      <td>331</td>\n",
       "      <td>NaN</td>\n",
       "      <td>1</td>\n",
       "      <td>1</td>\n",
       "      <td>NaN</td>\n",
       "      <td>NaN</td>\n",
       "    </tr>\n",
       "    <tr>\n",
       "      <th>242700</th>\n",
       "      <td>694776834</td>\n",
       "      <td>2</td>\n",
       "      <td>PESSIMISM</td>\n",
       "      <td>22.26</td>\n",
       "      <td>J Shaw</td>\n",
       "      <td>816959162</td>\n",
       "      <td>2</td>\n",
       "      <td>BYERS ELECTRICAL</td>\n",
       "      <td>Shepparton</td>\n",
       "      <td>385</td>\n",
       "      <td>NaN</td>\n",
       "      <td>1</td>\n",
       "      <td>1</td>\n",
       "      <td>NaN</td>\n",
       "      <td>NaN</td>\n",
       "    </tr>\n",
       "  </tbody>\n",
       "</table>\n",
       "<p>187 rows × 15 columns</p>\n",
       "</div>"
      ],
      "text/plain": [
       "          @id_DOG Place           DogName  y_runtime TrainerName   @id_RACE  RaceNum                         RaceName          Track  x_dist  df_avg_speed_prev  x_races_tot  x_no_prev_races  \\\n",
       "0       114244064     3  FOURTH DIMENTION      23.29  P Pollutro  747034592        4       KHANS HOSPITALITY SERVICES       Warragul     400                NaN            0                1   \n",
       "234     196374469     6      DIGGERS COVE      24.45   N Jackson  745616401        6                   SANDAL WELDING    Rockhampton     407                NaN            0                1   \n",
       "2458    280075043     3      LEICA BOMBER      19.95   L Nichols  745290009        3            HAPPY BIRTHDAY TO ME!         Hobart     340                NaN            1                1   \n",
       "6033    312535830     8         NIPPY UNO      19.75       H Lin  752129611        8         SWANK'S LAWN & GARDENING         Temora     330                NaN            1                1   \n",
       "6264    313382514     6       GENERAL MAX      18.25   D Fennell  750654405        6  SWALLOW DRIVE MEATS (N/P) STAKE  Mount Gambier     305                NaN            1                1   \n",
       "...           ...   ...               ...        ...         ...        ...      ...                              ...            ...     ...                ...          ...              ...   \n",
       "239794  662596055     7  SUNNYSIDE CLOVER      23.90     M Clark  826995691        2                 PAUA KENNELS HT2       Warragul     400                NaN            1                1   \n",
       "240694  667648171     5       ON THE DECK      20.38   L Cahalan  819982724        2         THE DOGCAST MAIDEN STAKE     Angle Park     342                NaN            0                1   \n",
       "242287  678239779     1      INDY GO RUBY      23.21      J Wood  815100863        1  Qualifying Trial/Provincial/405       Mandurah     405                NaN            0                1   \n",
       "242464  685382530     1      STYLISH RICO      19.40     B Kline  822917301        2                 TAB - VENUE MODE    Albion Park     331                NaN            1                1   \n",
       "242700  694776834     2         PESSIMISM      22.26      J Shaw  816959162        2                 BYERS ELECTRICAL     Shepparton     385                NaN            1                1   \n",
       "\n",
       "        avg_speed_impute  x_avg_speed_prev  \n",
       "0           16929.863677      16929.863677  \n",
       "234         16881.854774      16881.854774  \n",
       "2458                 NaN               NaN  \n",
       "6033                 NaN               NaN  \n",
       "6264                 NaN               NaN  \n",
       "...                  ...               ...  \n",
       "239794               NaN               NaN  \n",
       "240694      17052.656037      17052.656037  \n",
       "242287      17051.562067      17051.562067  \n",
       "242464               NaN               NaN  \n",
       "242700               NaN               NaN  \n",
       "\n",
       "[187 rows x 15 columns]"
      ]
     },
     "execution_count": 30,
     "metadata": {},
     "output_type": "execute_result"
    }
   ],
   "source": [
    "\n",
    "df_raw_data_impute[df_raw_data_impute.df_avg_speed_prev.isna()]\n"
   ]
  },
  {
   "cell_type": "code",
   "execution_count": null,
   "id": "c2d1730f-0d46-418a-9d7c-3b2efd4520f9",
   "metadata": {},
   "outputs": [],
   "source": [
    "\n",
    "#keep_cols_for_export = ['@id_DOG', 'DogName', '@id_RACE','RaceName','Track','RaceGrade','Distance','TrainerName','RunTime','Place','x_races_tot']\n",
    "\n",
    "# 'TrainerName', 'Track' have been dummified\n",
    "cols_for_drop = [ 'df_avg_speed_prev' , 'avg_speed_impute' ]\n",
    "\n",
    "todaydt = datetime.now().date()\n",
    "exp_fname = f'modeling_dataset_{todaydt}.csv'\n",
    "\n",
    "exp_mod_ds = df_raw_data_impute.drop(columns = cols_for_drop).rename(columns = { 'RunTime' : 'y_runtime' })\n"
   ]
  },
  {
   "cell_type": "code",
   "execution_count": null,
   "id": "84068d1b-87da-4d45-beb5-3a2e5c73c77e",
   "metadata": {},
   "outputs": [],
   "source": [
    "\n",
    "print(exp_mod_ds.columns.values.tolist())\n"
   ]
  },
  {
   "cell_type": "code",
   "execution_count": null,
   "id": "140edc2c-7da0-4279-afca-b9886fd21955",
   "metadata": {},
   "outputs": [],
   "source": [
    "exp_mod_ds"
   ]
  },
  {
   "cell_type": "code",
   "execution_count": null,
   "id": "2e050938-de3a-45a9-9b27-b38c4061726d",
   "metadata": {},
   "outputs": [],
   "source": [
    "\n",
    "exp_mod_ds.to_csv(f'{fileloc}/{exp_fname}', index = False)\n"
   ]
  }
 ],
 "metadata": {
  "kernelspec": {
   "display_name": "Python 3.8 - AzureML",
   "language": "python",
   "name": "python38-azureml"
  },
  "language_info": {
   "codemirror_mode": {
    "name": "ipython",
    "version": 3
   },
   "file_extension": ".py",
   "mimetype": "text/x-python",
   "name": "python",
   "nbconvert_exporter": "python",
   "pygments_lexer": "ipython3",
   "version": "3.8.5"
  }
 },
 "nbformat": 4,
 "nbformat_minor": 5
}
