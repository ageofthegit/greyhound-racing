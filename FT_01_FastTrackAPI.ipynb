{
 "cells": [
  {
   "cell_type": "code",
   "execution_count": null,
   "id": "0342bed8",
   "metadata": {},
   "outputs": [],
   "source": []
  },
  {
   "cell_type": "code",
   "execution_count": 1,
   "id": "bb1d4221",
   "metadata": {},
   "outputs": [],
   "source": [
    "\n",
    "# Import libraries\n",
    "import betfairlightweight\n",
    "from betfairlightweight import filters\n",
    "from datetime import datetime\n",
    "from datetime import timedelta\n",
    "from dateutil import tz\n",
    "import math\n",
    "import numpy as np\n",
    "import pandas as pd\n",
    "from scipy.stats import zscore\n",
    "from sklearn.linear_model import LogisticRegression\n",
    "import fasttrack as ft\n"
   ]
  },
  {
   "cell_type": "code",
   "execution_count": 2,
   "id": "96b13e21",
   "metadata": {},
   "outputs": [
    {
     "name": "stdout",
     "output_type": "stream",
     "text": [
      "Valid Security Key\n"
     ]
    }
   ],
   "source": [
    "\n",
    "fasttrack_key = \"dcc0a791-6b18-4cc4-8d46-453a00e9b7e4\"\n",
    "greys = ft.Fasttrack(fasttrack_key)\n"
   ]
  },
  {
   "cell_type": "code",
   "execution_count": 4,
   "id": "4e509e90",
   "metadata": {},
   "outputs": [
    {
     "data": {
      "text/html": [
       "<div>\n",
       "<style scoped>\n",
       "    .dataframe tbody tr th:only-of-type {\n",
       "        vertical-align: middle;\n",
       "    }\n",
       "\n",
       "    .dataframe tbody tr th {\n",
       "        vertical-align: top;\n",
       "    }\n",
       "\n",
       "    .dataframe thead th {\n",
       "        text-align: right;\n",
       "    }\n",
       "</style>\n",
       "<table border=\"1\" class=\"dataframe\">\n",
       "  <thead>\n",
       "    <tr style=\"text-align: right;\">\n",
       "      <th></th>\n",
       "      <th>track_name</th>\n",
       "      <th>track_code</th>\n",
       "      <th>state</th>\n",
       "    </tr>\n",
       "  </thead>\n",
       "  <tbody>\n",
       "    <tr>\n",
       "      <th>0</th>\n",
       "      <td>Albury</td>\n",
       "      <td>223</td>\n",
       "      <td>NSW</td>\n",
       "    </tr>\n",
       "    <tr>\n",
       "      <th>1</th>\n",
       "      <td>Armidale</td>\n",
       "      <td>225</td>\n",
       "      <td>NSW</td>\n",
       "    </tr>\n",
       "    <tr>\n",
       "      <th>2</th>\n",
       "      <td>Bathurst</td>\n",
       "      <td>226</td>\n",
       "      <td>NSW</td>\n",
       "    </tr>\n",
       "    <tr>\n",
       "      <th>3</th>\n",
       "      <td>Broke Hill</td>\n",
       "      <td>227</td>\n",
       "      <td>NSW</td>\n",
       "    </tr>\n",
       "    <tr>\n",
       "      <th>4</th>\n",
       "      <td>Bulli</td>\n",
       "      <td>202</td>\n",
       "      <td>NSW</td>\n",
       "    </tr>\n",
       "  </tbody>\n",
       "</table>\n",
       "</div>"
      ],
      "text/plain": [
       "   track_name track_code state\n",
       "0      Albury        223   NSW\n",
       "1    Armidale        225   NSW\n",
       "2    Bathurst        226   NSW\n",
       "3  Broke Hill        227   NSW\n",
       "4       Bulli        202   NSW"
      ]
     },
     "execution_count": 4,
     "metadata": {},
     "output_type": "execute_result"
    }
   ],
   "source": [
    "\n",
    "\n",
    "track_codes = greys.listTracks()\n",
    "track_codes.head()\n"
   ]
  },
  {
   "cell_type": "code",
   "execution_count": 5,
   "id": "7dc38502",
   "metadata": {},
   "outputs": [
    {
     "name": "stdout",
     "output_type": "stream",
     "text": [
      "NSW    49\n",
      "VIC    17\n",
      "QLD    15\n",
      "NZ     13\n",
      "SA     12\n",
      "TAS     3\n",
      "WA      3\n",
      "NT      1\n",
      "Name: state, dtype: int64\n"
     ]
    }
   ],
   "source": [
    "\n",
    "print(track_codes.state.value_counts())\n"
   ]
  },
  {
   "cell_type": "code",
   "execution_count": 8,
   "id": "75e4a598",
   "metadata": {},
   "outputs": [
    {
     "name": "stdout",
     "output_type": "stream",
     "text": [
      "15\n",
      "113\n"
     ]
    }
   ],
   "source": [
    "\n",
    "#tracks_filter = list(track_codes[track_codes['state'] == 'QLD']['track_code'])\n",
    "#print(len(tracks_filter)) 13\n",
    "tracks_filter = list(track_codes['track_code'])\n",
    "print(len(tracks_filter)) # 115\n"
   ]
  },
  {
   "cell_type": "code",
   "execution_count": null,
   "id": "fa640f13",
   "metadata": {},
   "outputs": [
    {
     "name": "stdout",
     "output_type": "stream",
     "text": [
      "Getting meets for each date ..\n"
     ]
    },
    {
     "name": "stderr",
     "output_type": "stream",
     "text": [
      "100%|██████████████████████████████████████████████████████████████████████████████████| 31/31 [00:22<00:00,  1.40it/s]\n"
     ]
    },
    {
     "name": "stdout",
     "output_type": "stream",
     "text": [
      "Getting historic results details ..\n"
     ]
    },
    {
     "name": "stderr",
     "output_type": "stream",
     "text": [
      " 87%|█████████████████████████████████████████████████████████████████████▋          | 358/411 [05:29<00:47,  1.12it/s]"
     ]
    }
   ],
   "source": [
    "\n",
    "race_details, dog_results = greys.getRaceResults('2021-12-01', '2021-12-31', tracks_filter)\n",
    "#race_details, dog_results = greys.getRaceResults('2018-01-01', '2021-06-15')\n"
   ]
  },
  {
   "cell_type": "code",
   "execution_count": null,
   "id": "47af4fdb",
   "metadata": {},
   "outputs": [],
   "source": [
    "\n",
    "print(datetime.now())\n"
   ]
  },
  {
   "cell_type": "code",
   "execution_count": 10,
   "id": "c912940f",
   "metadata": {},
   "outputs": [
    {
     "name": "stdout",
     "output_type": "stream",
     "text": [
      "<class 'pandas.core.frame.DataFrame'>\n",
      "<class 'pandas.core.frame.DataFrame'>\n",
      "['@id', 'RaceNum', 'RaceName', 'RaceTime', 'Distance', 'RaceGrade', 'Track', 'date']\n",
      "['@id', 'Place', 'DogName', 'Box', 'Rug', 'Weight', 'StartPrice', 'Handicap', 'Margin1', 'Margin2', 'PIR', 'Checks', 'Comments', 'SplitMargin', 'RunTime', 'Prizemoney', 'RaceId', 'TrainerId', 'TrainerName']\n",
      "(8949, 8)\n",
      "(79464, 19)\n"
     ]
    }
   ],
   "source": [
    "\n",
    "print(type(race_details))\n",
    "print(type(dog_results))\n",
    "\n",
    "print(race_details.columns.values.tolist())\n",
    "print(dog_results.columns.values.tolist())\n",
    "\n",
    "print(race_details.shape)\n",
    "print(dog_results.shape)\n",
    "\n"
   ]
  },
  {
   "cell_type": "code",
   "execution_count": 11,
   "id": "e6eb78f1",
   "metadata": {},
   "outputs": [
    {
     "data": {
      "text/html": [
       "<div>\n",
       "<style scoped>\n",
       "    .dataframe tbody tr th:only-of-type {\n",
       "        vertical-align: middle;\n",
       "    }\n",
       "\n",
       "    .dataframe tbody tr th {\n",
       "        vertical-align: top;\n",
       "    }\n",
       "\n",
       "    .dataframe thead th {\n",
       "        text-align: right;\n",
       "    }\n",
       "</style>\n",
       "<table border=\"1\" class=\"dataframe\">\n",
       "  <thead>\n",
       "    <tr style=\"text-align: right;\">\n",
       "      <th></th>\n",
       "      <th>@id</th>\n",
       "      <th>RaceNum</th>\n",
       "      <th>RaceName</th>\n",
       "      <th>RaceTime</th>\n",
       "      <th>Distance</th>\n",
       "      <th>RaceGrade</th>\n",
       "      <th>Track</th>\n",
       "      <th>date</th>\n",
       "    </tr>\n",
       "  </thead>\n",
       "  <tbody>\n",
       "    <tr>\n",
       "      <th>0</th>\n",
       "      <td>626271122</td>\n",
       "      <td>1</td>\n",
       "      <td>HAPPY NEW YEAR</td>\n",
       "      <td>02:24PM</td>\n",
       "      <td>288m</td>\n",
       "      <td>Maiden Heat</td>\n",
       "      <td>Ipswich</td>\n",
       "      <td>01 Jan 21</td>\n",
       "    </tr>\n",
       "    <tr>\n",
       "      <th>1</th>\n",
       "      <td>626271123</td>\n",
       "      <td>2</td>\n",
       "      <td>TAB LIVE SKY RACING VISION</td>\n",
       "      <td>02:49PM</td>\n",
       "      <td>288m</td>\n",
       "      <td>Maiden Heat</td>\n",
       "      <td>Ipswich</td>\n",
       "      <td>01 Jan 21</td>\n",
       "    </tr>\n",
       "    <tr>\n",
       "      <th>2</th>\n",
       "      <td>626271124</td>\n",
       "      <td>3</td>\n",
       "      <td>SKY RACING</td>\n",
       "      <td>03:04PM</td>\n",
       "      <td>288m</td>\n",
       "      <td>Novice Non Penalty</td>\n",
       "      <td>Ipswich</td>\n",
       "      <td>01 Jan 21</td>\n",
       "    </tr>\n",
       "    <tr>\n",
       "      <th>3</th>\n",
       "      <td>626271125</td>\n",
       "      <td>4</td>\n",
       "      <td>WWW.IPSWICHGREYHOUNDS.COM</td>\n",
       "      <td>03:24PM</td>\n",
       "      <td>288m</td>\n",
       "      <td>Novice Non Penalty</td>\n",
       "      <td>Ipswich</td>\n",
       "      <td>01 Jan 21</td>\n",
       "    </tr>\n",
       "    <tr>\n",
       "      <th>4</th>\n",
       "      <td>626271126</td>\n",
       "      <td>5</td>\n",
       "      <td>GREYHOUND_DATA.COM</td>\n",
       "      <td>03:41PM</td>\n",
       "      <td>431m</td>\n",
       "      <td>Grade 5 Heat</td>\n",
       "      <td>Ipswich</td>\n",
       "      <td>01 Jan 21</td>\n",
       "    </tr>\n",
       "  </tbody>\n",
       "</table>\n",
       "</div>"
      ],
      "text/plain": [
       "         @id RaceNum                    RaceName RaceTime Distance  \\\n",
       "0  626271122       1              HAPPY NEW YEAR  02:24PM     288m   \n",
       "1  626271123       2  TAB LIVE SKY RACING VISION  02:49PM     288m   \n",
       "2  626271124       3                  SKY RACING  03:04PM     288m   \n",
       "3  626271125       4   WWW.IPSWICHGREYHOUNDS.COM  03:24PM     288m   \n",
       "4  626271126       5          GREYHOUND_DATA.COM  03:41PM     431m   \n",
       "\n",
       "            RaceGrade    Track       date  \n",
       "0         Maiden Heat  Ipswich  01 Jan 21  \n",
       "1         Maiden Heat  Ipswich  01 Jan 21  \n",
       "2  Novice Non Penalty  Ipswich  01 Jan 21  \n",
       "3  Novice Non Penalty  Ipswich  01 Jan 21  \n",
       "4        Grade 5 Heat  Ipswich  01 Jan 21  "
      ]
     },
     "execution_count": 11,
     "metadata": {},
     "output_type": "execute_result"
    }
   ],
   "source": [
    "race_details.head()"
   ]
  },
  {
   "cell_type": "code",
   "execution_count": 12,
   "id": "133f767c",
   "metadata": {},
   "outputs": [
    {
     "data": {
      "text/html": [
       "<div>\n",
       "<style scoped>\n",
       "    .dataframe tbody tr th:only-of-type {\n",
       "        vertical-align: middle;\n",
       "    }\n",
       "\n",
       "    .dataframe tbody tr th {\n",
       "        vertical-align: top;\n",
       "    }\n",
       "\n",
       "    .dataframe thead th {\n",
       "        text-align: right;\n",
       "    }\n",
       "</style>\n",
       "<table border=\"1\" class=\"dataframe\">\n",
       "  <thead>\n",
       "    <tr style=\"text-align: right;\">\n",
       "      <th></th>\n",
       "      <th>@id</th>\n",
       "      <th>Place</th>\n",
       "      <th>DogName</th>\n",
       "      <th>Box</th>\n",
       "      <th>Rug</th>\n",
       "      <th>Weight</th>\n",
       "      <th>StartPrice</th>\n",
       "      <th>Handicap</th>\n",
       "      <th>Margin1</th>\n",
       "      <th>Margin2</th>\n",
       "      <th>PIR</th>\n",
       "      <th>Checks</th>\n",
       "      <th>Comments</th>\n",
       "      <th>SplitMargin</th>\n",
       "      <th>RunTime</th>\n",
       "      <th>Prizemoney</th>\n",
       "      <th>RaceId</th>\n",
       "      <th>TrainerId</th>\n",
       "      <th>TrainerName</th>\n",
       "    </tr>\n",
       "  </thead>\n",
       "  <tbody>\n",
       "    <tr>\n",
       "      <th>0</th>\n",
       "      <td>460023770</td>\n",
       "      <td>1</td>\n",
       "      <td>SAKKARI</td>\n",
       "      <td>4</td>\n",
       "      <td>4</td>\n",
       "      <td>28.0</td>\n",
       "      <td>$3.20F</td>\n",
       "      <td>None</td>\n",
       "      <td>1.75</td>\n",
       "      <td>None</td>\n",
       "      <td>None</td>\n",
       "      <td>0</td>\n",
       "      <td>None</td>\n",
       "      <td>None</td>\n",
       "      <td>17.14</td>\n",
       "      <td>1400.00</td>\n",
       "      <td>626271122</td>\n",
       "      <td>66176</td>\n",
       "      <td>A Monaghan</td>\n",
       "    </tr>\n",
       "    <tr>\n",
       "      <th>1</th>\n",
       "      <td>407727859</td>\n",
       "      <td>2</td>\n",
       "      <td>BANJO LAD</td>\n",
       "      <td>7</td>\n",
       "      <td>7</td>\n",
       "      <td>30.6</td>\n",
       "      <td>$12.00</td>\n",
       "      <td>None</td>\n",
       "      <td>1.75</td>\n",
       "      <td>1.71</td>\n",
       "      <td>None</td>\n",
       "      <td>0</td>\n",
       "      <td>None</td>\n",
       "      <td>None</td>\n",
       "      <td>17.26</td>\n",
       "      <td>400.00</td>\n",
       "      <td>626271122</td>\n",
       "      <td>275881</td>\n",
       "      <td>N Evans</td>\n",
       "    </tr>\n",
       "    <tr>\n",
       "      <th>2</th>\n",
       "      <td>450198101</td>\n",
       "      <td>3</td>\n",
       "      <td>OHANA LEA</td>\n",
       "      <td>5</td>\n",
       "      <td>5</td>\n",
       "      <td>25.1</td>\n",
       "      <td>$5.00</td>\n",
       "      <td>None</td>\n",
       "      <td>2.50</td>\n",
       "      <td>1.00</td>\n",
       "      <td>None</td>\n",
       "      <td>0</td>\n",
       "      <td>None</td>\n",
       "      <td>None</td>\n",
       "      <td>17.33</td>\n",
       "      <td>200.00</td>\n",
       "      <td>626271122</td>\n",
       "      <td>83303</td>\n",
       "      <td>M Heilbronn</td>\n",
       "    </tr>\n",
       "    <tr>\n",
       "      <th>3</th>\n",
       "      <td>323655139</td>\n",
       "      <td>4</td>\n",
       "      <td>CLONMORE</td>\n",
       "      <td>2</td>\n",
       "      <td>2</td>\n",
       "      <td>25.4</td>\n",
       "      <td>$8.50</td>\n",
       "      <td>None</td>\n",
       "      <td>3.75</td>\n",
       "      <td>1.14</td>\n",
       "      <td>None</td>\n",
       "      <td>0</td>\n",
       "      <td>None</td>\n",
       "      <td>None</td>\n",
       "      <td>17.41</td>\n",
       "      <td>100.00</td>\n",
       "      <td>626271122</td>\n",
       "      <td>61234</td>\n",
       "      <td>B Kitchener</td>\n",
       "    </tr>\n",
       "    <tr>\n",
       "      <th>4</th>\n",
       "      <td>393648268</td>\n",
       "      <td>5</td>\n",
       "      <td>AURIGA RACHEL</td>\n",
       "      <td>8</td>\n",
       "      <td>9</td>\n",
       "      <td>28.9</td>\n",
       "      <td>$26.00</td>\n",
       "      <td>None</td>\n",
       "      <td>5.25</td>\n",
       "      <td>1.43</td>\n",
       "      <td>None</td>\n",
       "      <td>0</td>\n",
       "      <td>None</td>\n",
       "      <td>None</td>\n",
       "      <td>17.51</td>\n",
       "      <td>0.00</td>\n",
       "      <td>626271122</td>\n",
       "      <td>105852</td>\n",
       "      <td>G Draheim</td>\n",
       "    </tr>\n",
       "  </tbody>\n",
       "</table>\n",
       "</div>"
      ],
      "text/plain": [
       "         @id Place        DogName Box Rug Weight StartPrice Handicap Margin1  \\\n",
       "0  460023770     1        SAKKARI   4   4   28.0     $3.20F     None    1.75   \n",
       "1  407727859     2      BANJO LAD   7   7   30.6     $12.00     None    1.75   \n",
       "2  450198101     3      OHANA LEA   5   5   25.1      $5.00     None    2.50   \n",
       "3  323655139     4       CLONMORE   2   2   25.4      $8.50     None    3.75   \n",
       "4  393648268     5  AURIGA RACHEL   8   9   28.9     $26.00     None    5.25   \n",
       "\n",
       "  Margin2   PIR Checks Comments SplitMargin RunTime Prizemoney     RaceId  \\\n",
       "0    None  None      0     None        None   17.14    1400.00  626271122   \n",
       "1    1.71  None      0     None        None   17.26     400.00  626271122   \n",
       "2    1.00  None      0     None        None   17.33     200.00  626271122   \n",
       "3    1.14  None      0     None        None   17.41     100.00  626271122   \n",
       "4    1.43  None      0     None        None   17.51       0.00  626271122   \n",
       "\n",
       "  TrainerId  TrainerName  \n",
       "0     66176   A Monaghan  \n",
       "1    275881      N Evans  \n",
       "2     83303  M Heilbronn  \n",
       "3     61234  B Kitchener  \n",
       "4    105852    G Draheim  "
      ]
     },
     "execution_count": 12,
     "metadata": {},
     "output_type": "execute_result"
    }
   ],
   "source": [
    "\n",
    "dog_results.head()\n"
   ]
  },
  {
   "cell_type": "code",
   "execution_count": 14,
   "id": "f499e14a",
   "metadata": {},
   "outputs": [],
   "source": [
    "\n",
    "race_details.to_csv(\"C:\\\\Users\\\\karan\\\\Documents\\\\Data\\\\racing\\\\race_details_20210101_20220424.csv\", index = False)\n"
   ]
  },
  {
   "cell_type": "code",
   "execution_count": 15,
   "id": "ee2783c4",
   "metadata": {},
   "outputs": [],
   "source": [
    "\n",
    "dog_results.to_csv(\"C:\\\\Users\\\\karan\\\\Documents\\\\Data\\\\racing\\\\dog_results_20210101_20220424.csv\", index = False)\n"
   ]
  },
  {
   "cell_type": "code",
   "execution_count": null,
   "id": "beb741aa",
   "metadata": {},
   "outputs": [],
   "source": []
  }
 ],
 "metadata": {
  "kernelspec": {
   "display_name": "Python 3 (ipykernel)",
   "language": "python",
   "name": "python3"
  },
  "language_info": {
   "codemirror_mode": {
    "name": "ipython",
    "version": 3
   },
   "file_extension": ".py",
   "mimetype": "text/x-python",
   "name": "python",
   "nbconvert_exporter": "python",
   "pygments_lexer": "ipython3",
   "version": "3.8.8"
  }
 },
 "nbformat": 4,
 "nbformat_minor": 5
}
